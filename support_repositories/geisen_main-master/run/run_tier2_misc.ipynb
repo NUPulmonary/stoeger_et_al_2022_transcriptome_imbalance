{
 "cells": [
  {
   "cell_type": "markdown",
   "metadata": {},
   "source": [
    "# Initialization"
   ]
  },
  {
   "cell_type": "code",
   "execution_count": 1,
   "metadata": {
    "collapsed": true
   },
   "outputs": [],
   "source": [
    "%matplotlib inline \n",
    "%reload_ext autoreload\n",
    "%autoreload 2"
   ]
  },
  {
   "cell_type": "code",
   "execution_count": 2,
   "metadata": {
    "collapsed": true
   },
   "outputs": [],
   "source": [
    "src_dir = './../src/'\n",
    "import sys\n",
    "sys.path[0] = src_dir"
   ]
  },
  {
   "cell_type": "code",
   "execution_count": 3,
   "metadata": {
    "collapsed": false
   },
   "outputs": [
    {
     "name": "stdout",
     "output_type": "stream",
     "text": [
      "Using machine-encoded switch for setting project paths.Needs replacement upon deploying / sharing with others.\n"
     ]
    }
   ],
   "source": [
    "from geisen import prepare"
   ]
  },
  {
   "cell_type": "markdown",
   "metadata": {},
   "source": [
    "## Interpro"
   ]
  },
  {
   "cell_type": "code",
   "execution_count": 4,
   "metadata": {
    "collapsed": false
   },
   "outputs": [
    {
     "name": "stdout",
     "output_type": "stream",
     "text": [
      "Initialize download of interpro\n",
      "Succesfully downloaded ftp://ftp.ebi.ac.uk/pub/databases/interpro/protein2ipr.dat.gz to /Users/tstoeger/Projects/geisen_main/data/internal/downloads/interpro/pub/databases/interpro/protein2ipr.dat.gz\n",
      "Initiate download of Interpro\n",
      "Start to extract names of interpro codes\n",
      "Start to extract databases within Interpro\n",
      "Finished exporting Interpro\n"
     ]
    }
   ],
   "source": [
    "prepare.interpro()"
   ]
  },
  {
   "cell_type": "markdown",
   "metadata": {},
   "source": [
    "## Chromosomes"
   ]
  },
  {
   "cell_type": "code",
   "execution_count": 4,
   "metadata": {
    "collapsed": true
   },
   "outputs": [],
   "source": [
    "prepare.chromosomes()"
   ]
  },
  {
   "cell_type": "markdown",
   "metadata": {},
   "source": [
    "## Homologene"
   ]
  },
  {
   "cell_type": "code",
   "execution_count": 22,
   "metadata": {
    "collapsed": false
   },
   "outputs": [
    {
     "name": "stdout",
     "output_type": "stream",
     "text": [
      "/Users/tstoeger/Projects/geisen_main/data/out/ncbi/homologene.gz\n",
      "Initialize download of homologene\n",
      "Succesfully downloaded https://ftp.ncbi.nlm.nih.gov/pub/HomoloGene/current/RELEASE_NUMBER to /Users/tstoeger/Projects/geisen_main/data/internal/downloads/ncbi/pub/HomoloGene/current/RELEASE_NUMBER\n",
      "Succesfully downloaded https://ftp.ncbi.nlm.nih.gov/pub/HomoloGene/current/homologene.data to /Users/tstoeger/Projects/geisen_main/data/internal/downloads/ncbi/pub/HomoloGene/current/homologene.data\n"
     ]
    }
   ],
   "source": [
    "prepare.homologene()"
   ]
  }
 ],
 "metadata": {
  "kernelspec": {
   "display_name": "Python 3",
   "language": "python",
   "name": "python3"
  },
  "language_info": {
   "codemirror_mode": {
    "name": "ipython",
    "version": 3
   },
   "file_extension": ".py",
   "mimetype": "text/x-python",
   "name": "python",
   "nbconvert_exporter": "python",
   "pygments_lexer": "ipython3",
   "version": "3.6.0"
  }
 },
 "nbformat": 4,
 "nbformat_minor": 2
}
