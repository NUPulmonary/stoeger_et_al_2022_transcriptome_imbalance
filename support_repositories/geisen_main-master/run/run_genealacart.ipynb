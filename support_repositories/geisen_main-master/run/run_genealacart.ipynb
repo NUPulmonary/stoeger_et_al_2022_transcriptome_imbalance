{
 "cells": [
  {
   "cell_type": "markdown",
   "metadata": {},
   "source": [
    "# Initialization"
   ]
  },
  {
   "cell_type": "code",
   "execution_count": 1,
   "metadata": {
    "collapsed": true
   },
   "outputs": [],
   "source": [
    "%matplotlib inline \n",
    "%reload_ext autoreload\n",
    "%autoreload 2"
   ]
  },
  {
   "cell_type": "code",
   "execution_count": 2,
   "metadata": {
    "collapsed": true
   },
   "outputs": [],
   "source": [
    "src_dir = './../src/'\n",
    "import sys\n",
    "sys.path[0] = src_dir"
   ]
  },
  {
   "cell_type": "code",
   "execution_count": 3,
   "metadata": {
    "collapsed": false
   },
   "outputs": [
    {
     "name": "stdout",
     "output_type": "stream",
     "text": [
      "Using machine-encoded switch for setting project paths.Needs replacement upon deploying / sharing with others.\n"
     ]
    }
   ],
   "source": [
    "from geisen import genealacart"
   ]
  },
  {
   "cell_type": "code",
   "execution_count": 4,
   "metadata": {
    "collapsed": false
   },
   "outputs": [
    {
     "name": "stdout",
     "output_type": "stream",
     "text": [
      "InputTerm has 2 ambiguous entries\n",
      "Start processing ENCODE\n",
      "InputTerm has 2 ambiguous entries\n",
      "Start processing Promoters (ENSRs)\n",
      "InputTerm has 2 ambiguous entries\n",
      "Start processing intolerance\n",
      "InputTerm has 2 ambiguous entries\n",
      "Start processing selected disease databases\n",
      "InputTerm has 2 ambiguous entries\n",
      "InputTerm has 2 ambiguous entries\n",
      "InputTerm has 2 ambiguous entries\n",
      "Start processing human phenotypes\n",
      "InputTerm has 2 ambiguous entries\n"
     ]
    }
   ],
   "source": [
    "genealacart.export_selected_genealacart_datasets()"
   ]
  }
 ],
 "metadata": {
  "kernelspec": {
   "display_name": "Python 3",
   "language": "python",
   "name": "python3"
  },
  "language_info": {
   "codemirror_mode": {
    "name": "ipython",
    "version": 3
   },
   "file_extension": ".py",
   "mimetype": "text/x-python",
   "name": "python",
   "nbconvert_exporter": "python",
   "pygments_lexer": "ipython3",
   "version": "3.6.0"
  }
 },
 "nbformat": 4,
 "nbformat_minor": 2
}
