{
 "cells": [
  {
   "cell_type": "markdown",
   "metadata": {},
   "source": [
    "# Purpose: Own protein properties"
   ]
  },
  {
   "cell_type": "markdown",
   "metadata": {},
   "source": [
    "While protein propeties are are also saved inv various databases, their bias is not well capturable. In addition it appears that some of the most basic features (such as amino acids) are missing."
   ]
  },
  {
   "cell_type": "markdown",
   "metadata": {},
   "source": [
    "# Initialization"
   ]
  },
  {
   "cell_type": "code",
   "execution_count": 1,
   "metadata": {
    "collapsed": true
   },
   "outputs": [],
   "source": [
    "%matplotlib inline \n",
    "%reload_ext autoreload\n",
    "%autoreload 2"
   ]
  },
  {
   "cell_type": "code",
   "execution_count": 2,
   "metadata": {
    "collapsed": true
   },
   "outputs": [],
   "source": [
    "src_dir = './../src/'\n",
    "import sys\n",
    "sys.path[0] = src_dir"
   ]
  },
  {
   "cell_type": "code",
   "execution_count": 3,
   "metadata": {
    "collapsed": false
   },
   "outputs": [
    {
     "name": "stdout",
     "output_type": "stream",
     "text": [
      "Using machine-encoded switch for setting project paths.Needs replacement upon deploying / sharing with others.\n"
     ]
    }
   ],
   "source": [
    "from geisen import prepare"
   ]
  },
  {
   "cell_type": "markdown",
   "metadata": {},
   "source": [
    "# Tier 1: Download all Uniprot databases"
   ]
  },
  {
   "cell_type": "markdown",
   "metadata": {},
   "source": [
    "Uniprot ID mapper"
   ]
  },
  {
   "cell_type": "code",
   "execution_count": null,
   "metadata": {
    "collapsed": false
   },
   "outputs": [],
   "source": [
    "prepare.uniprot_id_mapper()"
   ]
  },
  {
   "cell_type": "markdown",
   "metadata": {},
   "source": [
    "Uniprots protein sequences\n",
    "- Swissprot: manually curated\n",
    "- trEMBL: computationally predicted"
   ]
  },
  {
   "cell_type": "code",
   "execution_count": null,
   "metadata": {
    "collapsed": false
   },
   "outputs": [],
   "source": [
    "prepare.uniprot_databases()"
   ]
  },
  {
   "cell_type": "markdown",
   "metadata": {
    "collapsed": true
   },
   "source": [
    "# Tier 2: Separate taxon specific entries"
   ]
  },
  {
   "cell_type": "markdown",
   "metadata": {},
   "source": [
    "For all entries in cfg/genome_links.txt : isolate protein FASTA"
   ]
  },
  {
   "cell_type": "code",
   "execution_count": 4,
   "metadata": {
    "collapsed": false
   },
   "outputs": [
    {
     "name": "stdout",
     "output_type": "stream",
     "text": [
      "Start processing 9606 of swissprot database.\n",
      "Start processing 10090 of swissprot database.\n",
      "Start processing 10116 of swissprot database.\n",
      "Start processing 7227 of swissprot database.\n",
      "Start processing 511145 of swissprot database.\n",
      "Start processing 559292 of swissprot database.\n",
      "Start processing 3702 of swissprot database.\n",
      "Start processing 7955 of swissprot database.\n",
      "Start processing 9913 of swissprot database.\n",
      "Start processing 11676 of swissprot database.\n",
      "Start processing 9031 of swissprot database.\n",
      "Start processing 6239 of swissprot database.\n",
      "Start processing 9823 of swissprot database.\n",
      "Start processing 8355 of swissprot database.\n",
      "Start processing 284812 of swissprot database.\n",
      "Start processing 386585 of swissprot database.\n",
      "Start processing 9615 of swissprot database.\n",
      "Start processing 224308 of swissprot database.\n",
      "Start processing 9986 of swissprot database.\n",
      "Start processing 83332 of swissprot database.\n",
      "Start processing 9606 of trembl database.\n",
      "Start processing 10090 of trembl database.\n",
      "Start processing 10116 of trembl database.\n",
      "Start processing 7227 of trembl database.\n",
      "Start processing 511145 of trembl database.\n",
      "Start processing 559292 of trembl database.\n",
      "Start processing 3702 of trembl database.\n",
      "Start processing 7955 of trembl database.\n",
      "Start processing 9913 of trembl database.\n",
      "Start processing 11676 of trembl database.\n",
      "Start processing 9031 of trembl database.\n",
      "Start processing 6239 of trembl database.\n",
      "Start processing 9823 of trembl database.\n",
      "Start processing 8355 of trembl database.\n",
      "Start processing 284812 of trembl database.\n",
      "Start processing 386585 of trembl database.\n",
      "Start processing 9615 of trembl database.\n",
      "Start processing 224308 of trembl database.\n",
      "Start processing 9986 of trembl database.\n",
      "Start processing 83332 of trembl database.\n",
      "CPU times: user 7h 27min 22s, sys: 14min 21s, total: 7h 41min 44s\n",
      "Wall time: 7h 47min 19s\n"
     ]
    }
   ],
   "source": [
    "%%time\n",
    "prepare.isolate_taxa_protein_fasta()"
   ]
  },
  {
   "cell_type": "markdown",
   "metadata": {},
   "source": [
    "# Tier 3"
   ]
  },
  {
   "cell_type": "code",
   "execution_count": 4,
   "metadata": {
    "collapsed": true
   },
   "outputs": [],
   "source": [
    "from geisen import settings"
   ]
  },
  {
   "cell_type": "code",
   "execution_count": 7,
   "metadata": {
    "collapsed": true
   },
   "outputs": [],
   "source": [
    "s = settings.retreive_genome_download_settings()"
   ]
  },
  {
   "cell_type": "code",
   "execution_count": 21,
   "metadata": {
    "collapsed": false
   },
   "outputs": [
    {
     "name": "stdout",
     "output_type": "stream",
     "text": [
      "Start processing swissprot\n",
      "Start processing 3702\n",
      "Start processing 6239\n",
      "Start processing 7227\n",
      "Start processing 7955\n",
      "Start processing 8355\n",
      "Start processing 9031\n",
      "Start processing 9606\n",
      "Start processing 9615\n",
      "Start processing 9823\n",
      "Start processing 9913\n",
      "Start processing 9986\n",
      "Start processing 10090\n",
      "Start processing 10116\n",
      "Start processing 11676\n",
      "Start processing 83332\n",
      "Start processing 224308\n",
      "Start processing 284812\n",
      "Start processing 386585\n",
      "Start processing 511145\n",
      "Start processing 559292\n",
      "Start processing trembl\n",
      "Start processing 3702\n",
      "Start processing 6239\n",
      "Start processing 7227\n",
      "Start processing 7955\n",
      "Start processing 8355\n",
      "Start processing 9031\n",
      "Start processing 9606\n",
      "Start processing 9615\n",
      "Start processing 9823\n",
      "Start processing 9913\n",
      "Start processing 9986\n",
      "Start processing 10090\n",
      "Start processing 10116\n",
      "Start processing 11676\n",
      "Start processing 83332\n",
      "Start processing 224308\n",
      "Start processing 284812\n",
      "Did not find entries for 284812 in trembl\n",
      "Start processing 386585\n",
      "Start processing 511145\n",
      "Start processing 559292\n"
     ]
    }
   ],
   "source": [
    "for protein_db in ['swissprot','trembl']:\n",
    "    print('Start processing', protein_db)\n",
    "    for taxon_id in sorted(s.keys()):\n",
    "        print('Start processing', taxon_id)\n",
    "        prepare.aminoacid_features(taxon_id, protein_db)"
   ]
  },
  {
   "cell_type": "markdown",
   "metadata": {},
   "source": [
    "## b) in Virtual Box"
   ]
  },
  {
   "cell_type": "markdown",
   "metadata": {},
   "source": [
    "Run extraction of of protein features, such as SEG"
   ]
  },
  {
   "cell_type": "markdown",
   "metadata": {},
   "source": [
    "# Tier 4"
   ]
  },
  {
   "cell_type": "code",
   "execution_count": 23,
   "metadata": {
    "collapsed": false
   },
   "outputs": [
    {
     "name": "stdout",
     "output_type": "stream",
     "text": [
      "Start processing swissprot\n",
      "Start processing 3702\n",
      "Taxon 3702 : Could not process 3 RADAR entries\n",
      "Start processing 6239\n",
      "Taxon 6239 : Could not process 4 RADAR entries\n",
      "Start processing 7227\n",
      "Taxon 7227 : Could not process 2 RADAR entries\n",
      "Start processing 7955\n",
      "Taxon 7955 : Could not process 1 RADAR entries\n",
      "Start processing 8355\n",
      "Taxon 8355 : Could not process 3 RADAR entries\n",
      "Start processing 9031\n",
      "Taxon 9031 : Could not process 0 RADAR entries\n",
      "Start processing 9606\n",
      "Taxon 9606 : Could not process 6 RADAR entries\n",
      "Start processing 9615\n",
      "Taxon 9615 : Could not process 0 RADAR entries\n",
      "Start processing 9823\n",
      "Taxon 9823 : Could not process 0 RADAR entries\n",
      "Start processing 9913\n",
      "Taxon 9913 : Could not process 1 RADAR entries\n",
      "Start processing 9986\n",
      "Taxon 9986 : Could not process 0 RADAR entries\n",
      "Start processing 10090\n",
      "Taxon 10090 : Could not process 3 RADAR entries\n",
      "Start processing 10116\n",
      "Taxon 10116 : Could not process 0 RADAR entries\n",
      "Start processing 11676\n",
      "Taxon 11676 : Could not process 0 RADAR entries\n",
      "Start processing 83332\n",
      "Taxon 83332 : Could not process 0 RADAR entries\n",
      "Start processing 224308\n",
      "Taxon 224308 : Could not process 1 RADAR entries\n",
      "Start processing 284812\n",
      "Taxon 284812 : Could not process 1 RADAR entries\n",
      "Start processing 386585\n",
      "Taxon 386585 : Could not process 0 RADAR entries\n",
      "Start processing 511145\n",
      "Taxon 511145 : Could not process 1 RADAR entries\n",
      "Start processing 559292\n",
      "Taxon 559292 : Could not process 3 RADAR entries\n",
      "Start processing trembl\n",
      "Start processing 3702\n",
      "Taxon 3702 : Could not process 14 RADAR entries\n",
      "Start processing 6239\n",
      "Taxon 6239 : Could not process 9 RADAR entries\n",
      "Start processing 7227\n",
      "Taxon 7227 : Could not process 34 RADAR entries\n",
      "Start processing 7955\n",
      "Taxon 7955 : Could not process 9 RADAR entries\n",
      "Start processing 8355\n",
      "Taxon 8355 : Could not process 2 RADAR entries\n",
      "Start processing 9031\n",
      "Taxon 9031 : Could not process 11 RADAR entries\n",
      "Start processing 9606\n",
      "Taxon 9606 : Could not process 14 RADAR entries\n",
      "Start processing 9615\n",
      "Taxon 9615 : Could not process 19 RADAR entries\n",
      "Start processing 9823\n",
      "Taxon 9823 : Could not process 5 RADAR entries\n",
      "Start processing 9913\n",
      "Taxon 9913 : Could not process 5 RADAR entries\n",
      "Start processing 9986\n",
      "Taxon 9986 : Could not process 6 RADAR entries\n",
      "Start processing 10090\n",
      "Taxon 10090 : Could not process 10 RADAR entries\n",
      "Start processing 10116\n",
      "Taxon 10116 : Could not process 3 RADAR entries\n",
      "Start processing 11676\n",
      "Taxon 11676 : Could not process 24 RADAR entries\n",
      "Start processing 83332\n",
      "Taxon 83332 : Could not process 2 RADAR entries\n",
      "Start processing 224308\n",
      "Taxon 224308 : Could not process 0 RADAR entries\n",
      "Start processing 284812\n",
      "Taxon 284812 : Could not process 0 RADAR entries\n",
      "Did not find entries for 284812 in trembl\n",
      "Start processing 386585\n",
      "Taxon 386585 : Could not process 0 RADAR entries\n",
      "Start processing 511145\n",
      "Taxon 511145 : Could not process 0 RADAR entries\n",
      "Start processing 559292\n",
      "Taxon 559292 : Could not process 0 RADAR entries\n"
     ]
    }
   ],
   "source": [
    "for protein_db in ['swissprot','trembl']:\n",
    "    print('Start processing', protein_db)\n",
    "    for taxon_id in sorted(s.keys()):\n",
    "        print('Start processing', taxon_id)\n",
    "        prepare.retreive_radar(taxon_id, protein_db)"
   ]
  },
  {
   "cell_type": "code",
   "execution_count": 26,
   "metadata": {
    "collapsed": false
   },
   "outputs": [
    {
     "name": "stdout",
     "output_type": "stream",
     "text": [
      "Start processing swissprot\n",
      "Start processing 3702\n",
      "Start processing 6239\n",
      "Start processing 7227\n",
      "Start processing 7955\n",
      "Start processing 8355\n",
      "Start processing 9031\n",
      "Start processing 9606\n",
      "Start processing 9615\n",
      "Start processing 9823\n",
      "Start processing 9913\n",
      "Start processing 9986\n",
      "Start processing 10090\n",
      "Start processing 10116\n",
      "Start processing 11676\n",
      "Start processing 83332\n",
      "Start processing 224308\n",
      "Start processing 284812\n",
      "Start processing 386585\n",
      "Start processing 511145\n",
      "Start processing 559292\n",
      "Start processing trembl\n",
      "Start processing 3702\n",
      "Start processing 6239\n",
      "Start processing 7227\n",
      "Start processing 7955\n",
      "Start processing 8355\n",
      "Start processing 9031\n",
      "Start processing 9606\n",
      "Start processing 9615\n",
      "Start processing 9823\n",
      "Start processing 9913\n",
      "Start processing 9986\n",
      "Start processing 10090\n",
      "Start processing 10116\n",
      "Start processing 11676\n",
      "Start processing 83332\n",
      "Start processing 224308\n",
      "Start processing 284812\n",
      "Did not find entries for 284812 in trembl\n",
      "Start processing 386585\n",
      "Start processing 511145\n",
      "Start processing 559292\n"
     ]
    }
   ],
   "source": [
    "for protein_db in ['swissprot','trembl']:\n",
    "    print('Start processing', protein_db)\n",
    "    for taxon_id in sorted(s.keys()):\n",
    "        print('Start processing', taxon_id)\n",
    "        prepare.retreive_seg(taxon_id, protein_db)"
   ]
  },
  {
   "cell_type": "code",
   "execution_count": 27,
   "metadata": {
    "collapsed": false
   },
   "outputs": [
    {
     "name": "stdout",
     "output_type": "stream",
     "text": [
      "Start processing swissprot\n",
      "Start processing 3702\n",
      "Start processing 6239\n",
      "Start processing 7227\n",
      "Start processing 7955\n",
      "Start processing 8355\n",
      "Start processing 9031\n",
      "Start processing 9606\n",
      "Start processing 9615\n",
      "Start processing 9823\n",
      "Start processing 9913\n",
      "Start processing 9986\n",
      "Start processing 10090\n",
      "Start processing 10116\n",
      "Start processing 11676\n",
      "Start processing 83332\n",
      "Start processing 224308\n",
      "Start processing 284812\n",
      "Start processing 386585\n",
      "Start processing 511145\n",
      "Start processing 559292\n",
      "Start processing trembl\n",
      "Start processing 3702\n",
      "Start processing 6239\n",
      "Start processing 7227\n",
      "Start processing 7955\n",
      "Start processing 8355\n",
      "Start processing 9031\n",
      "Start processing 9606\n",
      "Start processing 9615\n",
      "Start processing 9823\n",
      "Start processing 9913\n",
      "Start processing 9986\n",
      "Start processing 10090\n",
      "Start processing 10116\n",
      "Start processing 11676\n",
      "Start processing 83332\n",
      "Start processing 224308\n",
      "Start processing 284812\n",
      "Did not find entries for 284812 in trembl\n",
      "Start processing 386585\n",
      "Start processing 511145\n",
      "Start processing 559292\n"
     ]
    }
   ],
   "source": [
    "for protein_db in ['swissprot','trembl']:\n",
    "    print('Start processing', protein_db)\n",
    "    for taxon_id in sorted(s.keys()):\n",
    "        print('Start processing', taxon_id)\n",
    "        prepare.retreive_signalp(taxon_id, protein_db)"
   ]
  },
  {
   "cell_type": "code",
   "execution_count": null,
   "metadata": {
    "collapsed": true
   },
   "outputs": [],
   "source": []
  },
  {
   "cell_type": "code",
   "execution_count": null,
   "metadata": {
    "collapsed": true
   },
   "outputs": [],
   "source": []
  }
 ],
 "metadata": {
  "kernelspec": {
   "display_name": "Python 3",
   "language": "python",
   "name": "python3"
  },
  "language_info": {
   "codemirror_mode": {
    "name": "ipython",
    "version": 3
   },
   "file_extension": ".py",
   "mimetype": "text/x-python",
   "name": "python",
   "nbconvert_exporter": "python",
   "pygments_lexer": "ipython3",
   "version": "3.6.0"
  }
 },
 "nbformat": 4,
 "nbformat_minor": 2
}
