{
 "cells": [
  {
   "cell_type": "markdown",
   "metadata": {},
   "source": [
    "# Purpose: NIH & similar reference sites\n"
   ]
  },
  {
   "cell_type": "markdown",
   "metadata": {},
   "source": [
    "# Initialization"
   ]
  },
  {
   "cell_type": "code",
   "execution_count": 1,
   "metadata": {
    "collapsed": true
   },
   "outputs": [],
   "source": [
    "%matplotlib inline \n",
    "%reload_ext autoreload\n",
    "%autoreload 2"
   ]
  },
  {
   "cell_type": "code",
   "execution_count": 2,
   "metadata": {
    "collapsed": true
   },
   "outputs": [],
   "source": [
    "src_dir = './../src/'\n",
    "import sys\n",
    "sys.path[0] = src_dir"
   ]
  },
  {
   "cell_type": "code",
   "execution_count": 3,
   "metadata": {
    "collapsed": false
   },
   "outputs": [
    {
     "name": "stdout",
     "output_type": "stream",
     "text": [
      "Using machine-encoded switch for setting project paths.Needs replacement upon deploying / sharing with others.\n"
     ]
    }
   ],
   "source": [
    "from geisen import prepare"
   ]
  },
  {
   "cell_type": "markdown",
   "metadata": {},
   "source": [
    "# Tier 1"
   ]
  },
  {
   "cell_type": "code",
   "execution_count": 4,
   "metadata": {
    "collapsed": false
   },
   "outputs": [
    {
     "name": "stdout",
     "output_type": "stream",
     "text": [
      "Initialize download of biosystems\n",
      "Succesfully downloaded ftp://ftp.ncbi.nih.gov/pub/biosystems/CURRENT/biosystems_gene.gz to /Users/tstoeger/Projects/geisen_main/data/internal/downloads/ncbi/pub/biosystems/CURRENT/biosystems_gene.gz\n",
      "Succesfully downloaded ftp://ftp.ncbi.nih.gov/pub/biosystems/CURRENT/bsid2info.gz to /Users/tstoeger/Projects/geisen_main/data/internal/downloads/ncbi/pub/biosystems/CURRENT/bsid2info.gz\n"
     ]
    }
   ],
   "source": [
    "prepare.biosystems()"
   ]
  },
  {
   "cell_type": "code",
   "execution_count": 5,
   "metadata": {
    "collapsed": false
   },
   "outputs": [
    {
     "name": "stdout",
     "output_type": "stream",
     "text": [
      "Initialize download of gene_info\n",
      "Succesfully downloaded https://ftp.ncbi.nlm.nih.gov/gene/DATA/gene_info.gz to /Users/tstoeger/Projects/geisen_main/data/internal/downloads/ncbi/gene/DATA/gene_info.gz\n",
      "Importing gene_info file\n",
      "Cleaning gene_info\n",
      "Exporting gene_info file\n",
      "Exporting taxon_and_gene file\n",
      "Exporting gene_info of individual taxa. Wait approx. 5min.\n"
     ]
    }
   ],
   "source": [
    "prepare.gene_info()"
   ]
  },
  {
   "cell_type": "code",
   "execution_count": 6,
   "metadata": {
    "collapsed": false
   },
   "outputs": [
    {
     "name": "stdout",
     "output_type": "stream",
     "text": [
      "Initialize download of gene2ensembl\n",
      "Succesfully downloaded https://ftp.ncbi.nlm.nih.gov/gene/DATA/gene2ensembl.gz to /Users/tstoeger/Projects/geisen_main/data/internal/downloads/ncbi/gene/DATA/gene2ensembl.gz\n"
     ]
    }
   ],
   "source": [
    "prepare.gene2ensembl()"
   ]
  },
  {
   "cell_type": "code",
   "execution_count": 7,
   "metadata": {
    "collapsed": false
   },
   "outputs": [
    {
     "name": "stdout",
     "output_type": "stream",
     "text": [
      "Initialize download of gene2go\n",
      "Succesfully downloaded https://ftp.ncbi.nlm.nih.gov/gene/DATA/gene2go.gz to /Users/tstoeger/Projects/geisen_main/data/internal/downloads/ncbi/gene/DATA/gene2go.gz\n",
      "Opening gene2go\n",
      "Extracing additional metadata\n",
      "clean data\n",
      "Exporting data\n"
     ]
    }
   ],
   "source": [
    "prepare.gene2go()"
   ]
  },
  {
   "cell_type": "code",
   "execution_count": 8,
   "metadata": {
    "collapsed": false
   },
   "outputs": [
    {
     "name": "stdout",
     "output_type": "stream",
     "text": [
      "Initialize download of gene2pubmed\n",
      "Succesfully downloaded https://ftp.ncbi.nlm.nih.gov/gene/DATA/gene2pubmed.gz to /Users/tstoeger/Projects/geisen_main/data/internal/downloads/ncbi/gene/DATA/gene2pubmed.gz\n"
     ]
    }
   ],
   "source": [
    "prepare.gene2pubmed()"
   ]
  },
  {
   "cell_type": "code",
   "execution_count": 9,
   "metadata": {
    "collapsed": false
   },
   "outputs": [
    {
     "name": "stdout",
     "output_type": "stream",
     "text": [
      "/Users/tstoeger/Projects/geisen_main/data/out/ncbi/generifs_basic.gz\n",
      "Initialize download of generifs_basic\n",
      "Succesfully downloaded https://ftp.ncbi.nlm.nih.gov/gene/GeneRIF/generifs_basic.gz to /Users/tstoeger/Projects/geisen_main/data/internal/downloads/ncbi/gene/GeneRIF/generifs_basic.gz\n"
     ]
    }
   ],
   "source": [
    "prepare.generifs_basic()"
   ]
  },
  {
   "cell_type": "code",
   "execution_count": 10,
   "metadata": {
    "collapsed": false
   },
   "outputs": [
    {
     "name": "stdout",
     "output_type": "stream",
     "text": [
      "Initialize download of taxdmp\n",
      "Succesfully downloaded https://ftp.ncbi.nlm.nih.gov/pub/taxonomy/taxdmp.zip to /Users/tstoeger/Projects/geisen_main/data/internal/downloads/ncbi/pub/taxonomy/taxdmp.zip\n"
     ]
    }
   ],
   "source": [
    "prepare.taxdmp()"
   ]
  },
  {
   "cell_type": "code",
   "execution_count": null,
   "metadata": {
    "collapsed": true
   },
   "outputs": [],
   "source": []
  }
 ],
 "metadata": {
  "kernelspec": {
   "display_name": "Python 3",
   "language": "python",
   "name": "python3"
  },
  "language_info": {
   "codemirror_mode": {
    "name": "ipython",
    "version": 3
   },
   "file_extension": ".py",
   "mimetype": "text/x-python",
   "name": "python",
   "nbconvert_exporter": "python",
   "pygments_lexer": "ipython3",
   "version": "3.6.0"
  }
 },
 "nbformat": 4,
 "nbformat_minor": 2
}
