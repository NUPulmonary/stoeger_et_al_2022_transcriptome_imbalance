{
 "cells": [
  {
   "cell_type": "markdown",
   "metadata": {},
   "source": [
    "# Initialization"
   ]
  },
  {
   "cell_type": "code",
   "execution_count": 1,
   "metadata": {
    "collapsed": true
   },
   "outputs": [],
   "source": [
    "%matplotlib inline \n",
    "%reload_ext autoreload\n",
    "%autoreload 2"
   ]
  },
  {
   "cell_type": "code",
   "execution_count": 2,
   "metadata": {
    "collapsed": true
   },
   "outputs": [],
   "source": [
    "src_dir = './../src/'\n",
    "import sys\n",
    "sys.path[0] = src_dir"
   ]
  },
  {
   "cell_type": "code",
   "execution_count": 3,
   "metadata": {
    "collapsed": false
   },
   "outputs": [
    {
     "name": "stdout",
     "output_type": "stream",
     "text": [
      "Using machine-encoded switch for setting project paths.Needs replacement upon deploying / sharing with others.\n"
     ]
    }
   ],
   "source": [
    "from geisen import genealacart\n",
    "from geisen import gxa\n",
    "from geisen import prepare\n",
    "from geisen import settings\n",
    "from geisen import papers"
   ]
  },
  {
   "cell_type": "markdown",
   "metadata": {},
   "source": [
    "## SEG"
   ]
  },
  {
   "cell_type": "markdown",
   "metadata": {},
   "source": [
    "- Run bugfixed SEG (now: analysing sequence - not sequence header)"
   ]
  },
  {
   "cell_type": "code",
   "execution_count": 4,
   "metadata": {
    "collapsed": true
   },
   "outputs": [],
   "source": [
    "s = settings.retreive_genome_download_settings()"
   ]
  },
  {
   "cell_type": "code",
   "execution_count": 5,
   "metadata": {
    "collapsed": false
   },
   "outputs": [
    {
     "name": "stdout",
     "output_type": "stream",
     "text": [
      "Start processing swissprot\n",
      "Start processing 3702\n",
      "Start processing 6239\n",
      "Start processing 7227\n",
      "Start processing 7955\n",
      "Start processing 8355\n",
      "Start processing 9031\n",
      "Start processing 9606\n",
      "Start processing 9615\n",
      "Start processing 9823\n",
      "Start processing 9913\n",
      "Start processing 9986\n",
      "Start processing 10090\n",
      "Start processing 10116\n",
      "Start processing 11676\n",
      "Start processing 83332\n",
      "Start processing 224308\n",
      "Start processing 284812\n",
      "Start processing 386585\n",
      "Start processing 511145\n",
      "Start processing 559292\n",
      "Start processing trembl\n",
      "Start processing 3702\n",
      "Start processing 6239\n",
      "Start processing 7227\n",
      "Start processing 7955\n",
      "Start processing 8355\n",
      "Start processing 9031\n",
      "Start processing 9606\n",
      "Start processing 9615\n",
      "Start processing 9823\n",
      "Start processing 9913\n",
      "Start processing 9986\n",
      "Start processing 10090\n",
      "Start processing 10116\n",
      "Start processing 11676\n",
      "Start processing 83332\n",
      "Start processing 224308\n",
      "Start processing 284812\n",
      "Did not find entries for 284812 in trembl\n",
      "Start processing 386585\n",
      "Start processing 511145\n",
      "Start processing 559292\n"
     ]
    }
   ],
   "source": [
    "for protein_db in ['swissprot','trembl']:\n",
    "    print('Start processing', protein_db)\n",
    "    for taxon_id in sorted(s.keys()):\n",
    "        print('Start processing', taxon_id)\n",
    "        prepare.retreive_seg(taxon_id, protein_db)"
   ]
  }
 ],
 "metadata": {
  "kernelspec": {
   "display_name": "Python 3",
   "language": "python",
   "name": "python3"
  },
  "language_info": {
   "codemirror_mode": {
    "name": "ipython",
    "version": 3
   },
   "file_extension": ".py",
   "mimetype": "text/x-python",
   "name": "python",
   "nbconvert_exporter": "python",
   "pygments_lexer": "ipython3",
   "version": "3.6.0"
  }
 },
 "nbformat": 4,
 "nbformat_minor": 2
}
