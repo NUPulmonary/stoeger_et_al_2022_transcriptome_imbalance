{
 "cells": [
  {
   "cell_type": "markdown",
   "metadata": {},
   "source": [
    "# Initialization"
   ]
  },
  {
   "cell_type": "code",
   "execution_count": 1,
   "metadata": {
    "collapsed": true
   },
   "outputs": [],
   "source": [
    "%matplotlib inline \n",
    "%reload_ext autoreload\n",
    "%autoreload 2"
   ]
  },
  {
   "cell_type": "code",
   "execution_count": 2,
   "metadata": {
    "collapsed": true
   },
   "outputs": [],
   "source": [
    "src_dir = './../src/'\n",
    "import sys\n",
    "sys.path[0] = src_dir"
   ]
  },
  {
   "cell_type": "code",
   "execution_count": 3,
   "metadata": {
    "collapsed": false
   },
   "outputs": [
    {
     "name": "stdout",
     "output_type": "stream",
     "text": [
      "Using machine-encoded switch for setting project paths.Needs replacement upon deploying / sharing with others.\n"
     ]
    }
   ],
   "source": [
    "from geisen import genealacart\n",
    "from geisen import gxa\n",
    "from geisen import prepare\n",
    "from geisen import settings\n",
    "from geisen import papers"
   ]
  },
  {
   "cell_type": "markdown",
   "metadata": {},
   "source": [
    "## genomic_cds"
   ]
  },
  {
   "cell_type": "markdown",
   "metadata": {},
   "source": [
    "- Manually deactivate genomic_rna in download and in output folder\n",
    "- Run patched version, which also retreives codon bias"
   ]
  },
  {
   "cell_type": "code",
   "execution_count": 4,
   "metadata": {
    "collapsed": true
   },
   "outputs": [],
   "source": [
    "s = settings.retreive_genome_download_settings()\n",
    "taxa = list(s.keys())"
   ]
  },
  {
   "cell_type": "code",
   "execution_count": 5,
   "metadata": {
    "collapsed": false
   },
   "outputs": [
    {
     "name": "stdout",
     "output_type": "stream",
     "text": [
      "Initiating download of experimental RNA sequences\n",
      "Initialize download of genome of taxon 9606\n",
      "Start download of cds_from_genomic of taxon 9606\n",
      "Succesfully downloaded ftp://ftp.ncbi.nlm.nih.gov/genomes/all/GCF/000/001/405/GCF_000001405.36_GRCh38.p10/GCF_000001405.36_GRCh38.p10_cds_from_genomic.fna.gz to /Users/tstoeger/Projects/geisen_main/data/internal/genomes/cds_from_genomic/GCF_000001405.36_GRCh38.p10_cds_from_genomic.fna.gz\n",
      "Decompress predicted CDS RNA Sequence\n",
      "Start to extract properties of the RNA\n",
      "Exporting genbank features of CDS from genomic to /Users/tstoeger/Projects/geisen_main/data/out/genbank/genomic_cds/genbank_genomic_cds_9606.csv .\n",
      "Initiating download of experimental RNA sequences\n",
      "Initialize download of genome of taxon 10090\n",
      "Start download of cds_from_genomic of taxon 10090\n",
      "Succesfully downloaded ftp://ftp.ncbi.nlm.nih.gov/genomes/all/GCF/000/001/635/GCF_000001635.25_GRCm38.p5/GCF_000001635.25_GRCm38.p5_cds_from_genomic.fna.gz to /Users/tstoeger/Projects/geisen_main/data/internal/genomes/cds_from_genomic/GCF_000001635.25_GRCm38.p5_cds_from_genomic.fna.gz\n",
      "Decompress predicted CDS RNA Sequence\n",
      "Start to extract properties of the RNA\n",
      "Exporting genbank features of CDS from genomic to /Users/tstoeger/Projects/geisen_main/data/out/genbank/genomic_cds/genbank_genomic_cds_10090.csv .\n",
      "Initiating download of experimental RNA sequences\n",
      "Initialize download of genome of taxon 10116\n",
      "Start download of cds_from_genomic of taxon 10116\n",
      "Succesfully downloaded ftp://ftp.ncbi.nlm.nih.gov/genomes/all/GCF/000/001/895/GCF_000001895.5_Rnor_6.0/GCF_000001895.5_Rnor_6.0_cds_from_genomic.fna.gz to /Users/tstoeger/Projects/geisen_main/data/internal/genomes/cds_from_genomic/GCF_000001895.5_Rnor_6.0_cds_from_genomic.fna.gz\n",
      "Decompress predicted CDS RNA Sequence\n",
      "Start to extract properties of the RNA\n",
      "Exporting genbank features of CDS from genomic to /Users/tstoeger/Projects/geisen_main/data/out/genbank/genomic_cds/genbank_genomic_cds_10116.csv .\n",
      "Initiating download of experimental RNA sequences\n",
      "Initialize download of genome of taxon 7227\n",
      "Start download of cds_from_genomic of taxon 7227\n",
      "Succesfully downloaded ftp://ftp.ncbi.nlm.nih.gov/genomes/all/GCF/000/001/215/GCF_000001215.4_Release_6_plus_ISO1_MT/GCF_000001215.4_Release_6_plus_ISO1_MT_cds_from_genomic.fna.gz to /Users/tstoeger/Projects/geisen_main/data/internal/genomes/cds_from_genomic/GCF_000001215.4_Release_6_plus_ISO1_MT_cds_from_genomic.fna.gz\n",
      "Decompress predicted CDS RNA Sequence\n",
      "Start to extract properties of the RNA\n",
      "Exporting genbank features of CDS from genomic to /Users/tstoeger/Projects/geisen_main/data/out/genbank/genomic_cds/genbank_genomic_cds_7227.csv .\n",
      "Initiating download of experimental RNA sequences\n",
      "Initialize download of genome of taxon 511145\n",
      "Start download of cds_from_genomic of taxon 511145\n",
      "Succesfully downloaded ftp://ftp.ncbi.nlm.nih.gov/genomes/all/GCF/000/005/845/GCF_000005845.2_ASM584v2/GCF_000005845.2_ASM584v2_cds_from_genomic.fna.gz to /Users/tstoeger/Projects/geisen_main/data/internal/genomes/cds_from_genomic/GCF_000005845.2_ASM584v2_cds_from_genomic.fna.gz\n",
      "Decompress predicted CDS RNA Sequence\n",
      "Start to extract properties of the RNA\n",
      "Exporting genbank features of CDS from genomic to /Users/tstoeger/Projects/geisen_main/data/out/genbank/genomic_cds/genbank_genomic_cds_511145.csv .\n",
      "Initiating download of experimental RNA sequences\n",
      "Initialize download of genome of taxon 559292\n",
      "Start download of cds_from_genomic of taxon 559292\n",
      "Succesfully downloaded ftp://ftp.ncbi.nlm.nih.gov/genomes/all/GCF/000/146/045/GCF_000146045.2_R64/GCF_000146045.2_R64_cds_from_genomic.fna.gz to /Users/tstoeger/Projects/geisen_main/data/internal/genomes/cds_from_genomic/GCF_000146045.2_R64_cds_from_genomic.fna.gz\n",
      "Decompress predicted CDS RNA Sequence\n",
      "Start to extract properties of the RNA\n",
      "Exporting genbank features of CDS from genomic to /Users/tstoeger/Projects/geisen_main/data/out/genbank/genomic_cds/genbank_genomic_cds_559292.csv .\n",
      "Initiating download of experimental RNA sequences\n",
      "Initialize download of genome of taxon 3702\n",
      "Start download of cds_from_genomic of taxon 3702\n",
      "Succesfully downloaded ftp://ftp.ncbi.nlm.nih.gov/genomes/all/GCF/000/001/735/GCF_000001735.3_TAIR10/GCF_000001735.3_TAIR10_cds_from_genomic.fna.gz to /Users/tstoeger/Projects/geisen_main/data/internal/genomes/cds_from_genomic/GCF_000001735.3_TAIR10_cds_from_genomic.fna.gz\n",
      "Decompress predicted CDS RNA Sequence\n",
      "Start to extract properties of the RNA\n",
      "Exporting genbank features of CDS from genomic to /Users/tstoeger/Projects/geisen_main/data/out/genbank/genomic_cds/genbank_genomic_cds_3702.csv .\n",
      "Initiating download of experimental RNA sequences\n",
      "Initialize download of genome of taxon 7955\n",
      "Start download of cds_from_genomic of taxon 7955\n",
      "Succesfully downloaded ftp://ftp.ncbi.nlm.nih.gov/genomes/all/GCF/000/002/035/GCF_000002035.5_GRCz10/GCF_000002035.5_GRCz10_cds_from_genomic.fna.gz to /Users/tstoeger/Projects/geisen_main/data/internal/genomes/cds_from_genomic/GCF_000002035.5_GRCz10_cds_from_genomic.fna.gz\n",
      "Decompress predicted CDS RNA Sequence\n",
      "Start to extract properties of the RNA\n",
      "Exporting genbank features of CDS from genomic to /Users/tstoeger/Projects/geisen_main/data/out/genbank/genomic_cds/genbank_genomic_cds_7955.csv .\n",
      "Initiating download of experimental RNA sequences\n",
      "Initialize download of genome of taxon 9913\n",
      "Start download of cds_from_genomic of taxon 9913\n",
      "Succesfully downloaded ftp://ftp.ncbi.nlm.nih.gov/genomes/all/GCF/000/003/055/GCF_000003055.6_Bos_taurus_UMD_3.1.1/GCF_000003055.6_Bos_taurus_UMD_3.1.1_cds_from_genomic.fna.gz to /Users/tstoeger/Projects/geisen_main/data/internal/genomes/cds_from_genomic/GCF_000003055.6_Bos_taurus_UMD_3.1.1_cds_from_genomic.fna.gz\n",
      "Decompress predicted CDS RNA Sequence\n",
      "Start to extract properties of the RNA\n",
      "Exporting genbank features of CDS from genomic to /Users/tstoeger/Projects/geisen_main/data/out/genbank/genomic_cds/genbank_genomic_cds_9913.csv .\n",
      "Initiating download of experimental RNA sequences\n",
      "Initialize download of genome of taxon 11676\n",
      "Start download of cds_from_genomic of taxon 11676\n",
      "Succesfully downloaded ftp://ftp.ncbi.nlm.nih.gov/genomes/all/GCF/000/864/765/GCF_000864765.1_ViralProj15476/GCF_000864765.1_ViralProj15476_cds_from_genomic.fna.gz to /Users/tstoeger/Projects/geisen_main/data/internal/genomes/cds_from_genomic/GCF_000864765.1_ViralProj15476_cds_from_genomic.fna.gz\n",
      "Decompress predicted CDS RNA Sequence\n",
      "Start to extract properties of the RNA\n",
      "Exporting genbank features of CDS from genomic to /Users/tstoeger/Projects/geisen_main/data/out/genbank/genomic_cds/genbank_genomic_cds_11676.csv .\n",
      "Initiating download of experimental RNA sequences\n",
      "Initialize download of genome of taxon 9031\n",
      "Start download of cds_from_genomic of taxon 9031\n",
      "Succesfully downloaded ftp://ftp.ncbi.nlm.nih.gov/genomes/all/GCF/000/002/315/GCF_000002315.4_Gallus_gallus-5.0/GCF_000002315.4_Gallus_gallus-5.0_cds_from_genomic.fna.gz to /Users/tstoeger/Projects/geisen_main/data/internal/genomes/cds_from_genomic/GCF_000002315.4_Gallus_gallus-5.0_cds_from_genomic.fna.gz\n",
      "Decompress predicted CDS RNA Sequence\n",
      "Start to extract properties of the RNA\n",
      "Exporting genbank features of CDS from genomic to /Users/tstoeger/Projects/geisen_main/data/out/genbank/genomic_cds/genbank_genomic_cds_9031.csv .\n",
      "Initiating download of experimental RNA sequences\n",
      "Initialize download of genome of taxon 6239\n",
      "Start download of cds_from_genomic of taxon 6239\n",
      "Succesfully downloaded ftp://ftp.ncbi.nlm.nih.gov/genomes/all/GCF/000/002/985/GCF_000002985.6_WBcel235/GCF_000002985.6_WBcel235_cds_from_genomic.fna.gz to /Users/tstoeger/Projects/geisen_main/data/internal/genomes/cds_from_genomic/GCF_000002985.6_WBcel235_cds_from_genomic.fna.gz\n",
      "Decompress predicted CDS RNA Sequence\n",
      "Start to extract properties of the RNA\n",
      "Exporting genbank features of CDS from genomic to /Users/tstoeger/Projects/geisen_main/data/out/genbank/genomic_cds/genbank_genomic_cds_6239.csv .\n",
      "Initiating download of experimental RNA sequences\n",
      "Initialize download of genome of taxon 9823\n",
      "Start download of cds_from_genomic of taxon 9823\n",
      "Succesfully downloaded ftp://ftp.ncbi.nlm.nih.gov/genomes/all/GCF/000/003/025/GCF_000003025.5_Sscrofa10.2/GCF_000003025.5_Sscrofa10.2_cds_from_genomic.fna.gz to /Users/tstoeger/Projects/geisen_main/data/internal/genomes/cds_from_genomic/GCF_000003025.5_Sscrofa10.2_cds_from_genomic.fna.gz\n",
      "Decompress predicted CDS RNA Sequence\n",
      "Start to extract properties of the RNA\n",
      "Exporting genbank features of CDS from genomic to /Users/tstoeger/Projects/geisen_main/data/out/genbank/genomic_cds/genbank_genomic_cds_9823.csv .\n",
      "Initiating download of experimental RNA sequences\n",
      "Initialize download of genome of taxon 8355\n",
      "Start download of cds_from_genomic of taxon 8355\n",
      "Succesfully downloaded ftp://ftp.ncbi.nlm.nih.gov/genomes/all/GCF/001/663/975/GCF_001663975.1_Xenopus_laevis_v2/GCF_001663975.1_Xenopus_laevis_v2_cds_from_genomic.fna.gz to /Users/tstoeger/Projects/geisen_main/data/internal/genomes/cds_from_genomic/GCF_001663975.1_Xenopus_laevis_v2_cds_from_genomic.fna.gz\n",
      "Decompress predicted CDS RNA Sequence\n",
      "Start to extract properties of the RNA\n",
      "Exporting genbank features of CDS from genomic to /Users/tstoeger/Projects/geisen_main/data/out/genbank/genomic_cds/genbank_genomic_cds_8355.csv .\n",
      "Initiating download of experimental RNA sequences\n",
      "Initialize download of genome of taxon 284812\n",
      "Start download of cds_from_genomic of taxon 284812\n",
      "Succesfully downloaded ftp://ftp.ncbi.nlm.nih.gov/genomes/all/GCF/000/002/945/GCF_000002945.1_ASM294v2/GCF_000002945.1_ASM294v2_cds_from_genomic.fna.gz to /Users/tstoeger/Projects/geisen_main/data/internal/genomes/cds_from_genomic/GCF_000002945.1_ASM294v2_cds_from_genomic.fna.gz\n",
      "Decompress predicted CDS RNA Sequence\n",
      "Start to extract properties of the RNA\n",
      "Exporting genbank features of CDS from genomic to /Users/tstoeger/Projects/geisen_main/data/out/genbank/genomic_cds/genbank_genomic_cds_284812.csv .\n",
      "Initiating download of experimental RNA sequences\n",
      "Initialize download of genome of taxon 386585\n",
      "Start download of cds_from_genomic of taxon 386585\n",
      "Succesfully downloaded ftp://ftp.ncbi.nlm.nih.gov/genomes/all/GCF/000/008/865/GCF_000008865.1_ASM886v1/GCF_000008865.1_ASM886v1_cds_from_genomic.fna.gz to /Users/tstoeger/Projects/geisen_main/data/internal/genomes/cds_from_genomic/GCF_000008865.1_ASM886v1_cds_from_genomic.fna.gz\n",
      "Decompress predicted CDS RNA Sequence\n",
      "Start to extract properties of the RNA\n",
      "Exporting genbank features of CDS from genomic to /Users/tstoeger/Projects/geisen_main/data/out/genbank/genomic_cds/genbank_genomic_cds_386585.csv .\n",
      "Initiating download of experimental RNA sequences\n",
      "Initialize download of genome of taxon 9615\n",
      "Start download of cds_from_genomic of taxon 9615\n",
      "Succesfully downloaded ftp://ftp.ncbi.nlm.nih.gov/genomes/all/GCF/000/002/285/GCF_000002285.3_CanFam3.1/GCF_000002285.3_CanFam3.1_cds_from_genomic.fna.gz to /Users/tstoeger/Projects/geisen_main/data/internal/genomes/cds_from_genomic/GCF_000002285.3_CanFam3.1_cds_from_genomic.fna.gz\n",
      "Decompress predicted CDS RNA Sequence\n",
      "Start to extract properties of the RNA\n",
      "Exporting genbank features of CDS from genomic to /Users/tstoeger/Projects/geisen_main/data/out/genbank/genomic_cds/genbank_genomic_cds_9615.csv .\n",
      "Initiating download of experimental RNA sequences\n",
      "Initialize download of genome of taxon 224308\n",
      "Start download of cds_from_genomic of taxon 224308\n",
      "Succesfully downloaded ftp://ftp.ncbi.nlm.nih.gov/genomes/all/GCF/000/009/045/GCF_000009045.1_ASM904v1/GCF_000009045.1_ASM904v1_cds_from_genomic.fna.gz to /Users/tstoeger/Projects/geisen_main/data/internal/genomes/cds_from_genomic/GCF_000009045.1_ASM904v1_cds_from_genomic.fna.gz\n",
      "Decompress predicted CDS RNA Sequence\n",
      "Start to extract properties of the RNA\n",
      "Exporting genbank features of CDS from genomic to /Users/tstoeger/Projects/geisen_main/data/out/genbank/genomic_cds/genbank_genomic_cds_224308.csv .\n",
      "Initiating download of experimental RNA sequences\n",
      "Initialize download of genome of taxon 9986\n",
      "Start download of cds_from_genomic of taxon 9986\n",
      "Succesfully downloaded ftp://ftp.ncbi.nlm.nih.gov/genomes/all/GCF/000/003/625/GCF_000003625.3_OryCun2.0/GCF_000003625.3_OryCun2.0_cds_from_genomic.fna.gz to /Users/tstoeger/Projects/geisen_main/data/internal/genomes/cds_from_genomic/GCF_000003625.3_OryCun2.0_cds_from_genomic.fna.gz\n",
      "Decompress predicted CDS RNA Sequence\n",
      "Start to extract properties of the RNA\n",
      "Exporting genbank features of CDS from genomic to /Users/tstoeger/Projects/geisen_main/data/out/genbank/genomic_cds/genbank_genomic_cds_9986.csv .\n",
      "Initiating download of experimental RNA sequences\n",
      "Initialize download of genome of taxon 83332\n",
      "Start download of cds_from_genomic of taxon 83332\n",
      "Succesfully downloaded ftp://ftp.ncbi.nlm.nih.gov/genomes/all/GCF/000/195/955/GCF_000195955.2_ASM19595v2/GCF_000195955.2_ASM19595v2_cds_from_genomic.fna.gz to /Users/tstoeger/Projects/geisen_main/data/internal/genomes/cds_from_genomic/GCF_000195955.2_ASM19595v2_cds_from_genomic.fna.gz\n",
      "Decompress predicted CDS RNA Sequence\n",
      "Start to extract properties of the RNA\n",
      "Exporting genbank features of CDS from genomic to /Users/tstoeger/Projects/geisen_main/data/out/genbank/genomic_cds/genbank_genomic_cds_83332.csv .\n"
     ]
    }
   ],
   "source": [
    "for taxon in taxa:\n",
    "    prepare.genbank_cds_rna_features(taxon_id=taxon)"
   ]
  },
  {
   "cell_type": "markdown",
   "metadata": {},
   "source": [
    "## GXA"
   ]
  },
  {
   "cell_type": "markdown",
   "metadata": {},
   "source": [
    "Add GXA_ to column names"
   ]
  },
  {
   "cell_type": "code",
   "execution_count": 7,
   "metadata": {
    "collapsed": true
   },
   "outputs": [],
   "source": [
    "gxa.matt_antalek_170222()"
   ]
  },
  {
   "cell_type": "markdown",
   "metadata": {},
   "source": [
    "## Rolland"
   ]
  },
  {
   "cell_type": "markdown",
   "metadata": {},
   "source": [
    "Add gene_ncbi as index label"
   ]
  },
  {
   "cell_type": "code",
   "execution_count": 10,
   "metadata": {
    "collapsed": false
   },
   "outputs": [
    {
     "name": "stdout",
     "output_type": "stream",
     "text": [
      "Rolland2014: Ignored 113 baits that do not map to a gene.\n"
     ]
    }
   ],
   "source": [
    "papers.rolland_2014()"
   ]
  },
  {
   "cell_type": "markdown",
   "metadata": {},
   "source": [
    "## Gene2go"
   ]
  },
  {
   "cell_type": "markdown",
   "metadata": {},
   "source": [
    "Split GO by taxon to facilitate data access."
   ]
  },
  {
   "cell_type": "code",
   "execution_count": 12,
   "metadata": {
    "collapsed": false
   },
   "outputs": [],
   "source": [
    "prepare._gene2go_patch_v1_1()"
   ]
  },
  {
   "cell_type": "markdown",
   "metadata": {},
   "source": [
    "## Genealacart"
   ]
  },
  {
   "cell_type": "markdown",
   "metadata": {},
   "source": [
    "intolerance: include RVIS score, and split GDI socres"
   ]
  },
  {
   "cell_type": "code",
   "execution_count": 15,
   "metadata": {
    "collapsed": false
   },
   "outputs": [
    {
     "name": "stdout",
     "output_type": "stream",
     "text": [
      "InputTerm has 2 ambiguous entries\n",
      "Start processing ENCODE\n",
      "InputTerm has 2 ambiguous entries\n",
      "Start processing Promoters (ENSRs)\n",
      "InputTerm has 2 ambiguous entries\n",
      "Start processing intolerance\n",
      "InputTerm has 2 ambiguous entries\n",
      "Start processing selected disease databases\n",
      "InputTerm has 2 ambiguous entries\n",
      "InputTerm has 2 ambiguous entries\n",
      "InputTerm has 2 ambiguous entries\n",
      "Start processing human phenotypes\n",
      "InputTerm has 2 ambiguous entries\n"
     ]
    }
   ],
   "source": [
    "genealacart.export_selected_genealacart_datasets()"
   ]
  },
  {
   "cell_type": "markdown",
   "metadata": {},
   "source": [
    "## biosystems\n",
    "Seaprate by taxa"
   ]
  },
  {
   "cell_type": "code",
   "execution_count": 21,
   "metadata": {
    "collapsed": false
   },
   "outputs": [],
   "source": [
    "prepare._biosystems_patch_v1_1()"
   ]
  },
  {
   "cell_type": "markdown",
   "metadata": {},
   "source": [
    "## Chromosomes\n",
    "Separate by taxon"
   ]
  },
  {
   "cell_type": "code",
   "execution_count": 22,
   "metadata": {
    "collapsed": true
   },
   "outputs": [],
   "source": [
    "prepare._chromosomes_patch_v1_1()"
   ]
  },
  {
   "cell_type": "markdown",
   "metadata": {},
   "source": [
    "## Itzhak et al. \n",
    "Separate classifier score, from the cytoplasmic / nuclear features"
   ]
  },
  {
   "cell_type": "code",
   "execution_count": 25,
   "metadata": {
    "collapsed": false
   },
   "outputs": [
    {
     "name": "stderr",
     "output_type": "stream",
     "text": [
      "/Users/tstoeger/Apps/Anaconda/anaconda/lib/python3.6/site-packages/numpy/lib/function_base.py:3569: RuntimeWarning: Invalid value encountered in median\n",
      "  RuntimeWarning)\n"
     ]
    }
   ],
   "source": [
    "papers.itzhak_2016()"
   ]
  },
  {
   "cell_type": "markdown",
   "metadata": {},
   "source": [
    "## Uhlen et al."
   ]
  },
  {
   "cell_type": "code",
   "execution_count": 27,
   "metadata": {
    "collapsed": true
   },
   "outputs": [],
   "source": [
    "papers.uhlen_2015()"
   ]
  },
  {
   "cell_type": "markdown",
   "metadata": {
    "collapsed": true
   },
   "source": [
    "# Biogrid\n",
    "Added Biogrid"
   ]
  },
  {
   "cell_type": "code",
   "execution_count": 4,
   "metadata": {
    "collapsed": false
   },
   "outputs": [
    {
     "name": "stdout",
     "output_type": "stream",
     "text": [
      "Initialize download of biogrid\n",
      "Succesfully downloaded https://thebiogrid.org/downloads/archives/Release%20Archive/BIOGRID-3.4.147/BIOGRID-ALL-3.4.147.tab2.zip to /Users/tstoeger/Projects/geisen_main/data/internal/downloads/biogrid/downloads/archives/Release%20Archive/BIOGRID-3.4.147/BIOGRID-ALL-3.4.147.tab2.zip\n"
     ]
    }
   ],
   "source": [
    "prepare.biogrid()"
   ]
  },
  {
   "cell_type": "code",
   "execution_count": null,
   "metadata": {
    "collapsed": true
   },
   "outputs": [],
   "source": []
  },
  {
   "cell_type": "code",
   "execution_count": null,
   "metadata": {
    "collapsed": true
   },
   "outputs": [],
   "source": []
  }
 ],
 "metadata": {
  "kernelspec": {
   "display_name": "Python 3",
   "language": "python",
   "name": "python3"
  },
  "language_info": {
   "codemirror_mode": {
    "name": "ipython",
    "version": 3
   },
   "file_extension": ".py",
   "mimetype": "text/x-python",
   "name": "python",
   "nbconvert_exporter": "python",
   "pygments_lexer": "ipython3",
   "version": "3.6.0"
  }
 },
 "nbformat": 4,
 "nbformat_minor": 2
}
