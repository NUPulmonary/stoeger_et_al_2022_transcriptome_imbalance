{
 "cells": [
  {
   "cell_type": "markdown",
   "metadata": {},
   "source": [
    "# Initialization"
   ]
  },
  {
   "cell_type": "code",
   "execution_count": 1,
   "metadata": {
    "collapsed": true
   },
   "outputs": [],
   "source": [
    "%matplotlib inline \n",
    "%reload_ext autoreload\n",
    "%autoreload 2"
   ]
  },
  {
   "cell_type": "code",
   "execution_count": 2,
   "metadata": {
    "collapsed": true
   },
   "outputs": [],
   "source": [
    "src_dir = './../src/'\n",
    "import sys\n",
    "sys.path[0] = src_dir"
   ]
  },
  {
   "cell_type": "code",
   "execution_count": 3,
   "metadata": {},
   "outputs": [
    {
     "name": "stdout",
     "output_type": "stream",
     "text": [
      "Using machine-encoded switch for setting project paths.Needs replacement upon deploying / sharing with others.\n"
     ]
    }
   ],
   "source": [
    "from geisen import genealacart\n",
    "from geisen import prepare\n",
    "from geisen import papers"
   ]
  },
  {
   "cell_type": "markdown",
   "metadata": {},
   "source": [
    "## GeneALaCart"
   ]
  },
  {
   "cell_type": "markdown",
   "metadata": {},
   "source": [
    "- Also extract GIFtS score"
   ]
  },
  {
   "cell_type": "code",
   "execution_count": 4,
   "metadata": {},
   "outputs": [
    {
     "name": "stdout",
     "output_type": "stream",
     "text": [
      "InputTerm has 2 ambiguous entries\n",
      "Start processing ENCODE\n",
      "InputTerm has 2 ambiguous entries\n",
      "Start processing Promoters (ENSRs)\n",
      "InputTerm has 2 ambiguous entries\n",
      "Start processing intolerance\n",
      "InputTerm has 2 ambiguous entries\n",
      "Start processing selected disease databases\n",
      "InputTerm has 2 ambiguous entries\n",
      "InputTerm has 2 ambiguous entries\n",
      "InputTerm has 2 ambiguous entries\n",
      "Start processing human phenotypes\n",
      "InputTerm has 2 ambiguous entries\n",
      "Start processing GIFTS score\n",
      "InputTerm has 2 ambiguous entries\n",
      "Added absent file /Users/tstoeger/Projects/geisen_main/data/out/genealacart/genealacart_annotation_range_gifts.gz\n"
     ]
    }
   ],
   "source": [
    "genealacart.export_selected_genealacart_datasets(patch_absent=True)"
   ]
  },
  {
   "cell_type": "markdown",
   "metadata": {},
   "source": [
    "## Papers\n",
    "- Roselfeld et al. 2013: Patent data for genes\n",
    "- Thul et al. 2017: subcellular localization"
   ]
  },
  {
   "cell_type": "code",
   "execution_count": 5,
   "metadata": {
    "collapsed": true
   },
   "outputs": [],
   "source": [
    "papers.rosenfeld_2013()\n",
    "papers.thul_2017()"
   ]
  },
  {
   "cell_type": "markdown",
   "metadata": {},
   "source": [
    "## Data repositories\n",
    "- Genetic testing registry from NIH"
   ]
  },
  {
   "cell_type": "code",
   "execution_count": 7,
   "metadata": {},
   "outputs": [
    {
     "name": "stdout",
     "output_type": "stream",
     "text": [
      "Succesfully downloaded ftp://ftp.ncbi.nlm.nih.gov/pub/GTR/data/test_version.gz to /Users/tstoeger/Projects/geisen_main/data/out/nih/gtr/test_version.gz\n",
      "Succesfully downloaded ftp://ftp.ncbi.nlm.nih.gov/pub/GTR/data/test_condition_gene.txt to /Users/tstoeger/Projects/geisen_main/data/out/nih/gtr/test_condition_gene.txt\n"
     ]
    }
   ],
   "source": [
    "prepare.genetic_testing_registry()"
   ]
  }
 ],
 "metadata": {
  "kernelspec": {
   "display_name": "Python 3",
   "language": "python",
   "name": "python3"
  },
  "language_info": {
   "codemirror_mode": {
    "name": "ipython",
    "version": 3
   },
   "file_extension": ".py",
   "mimetype": "text/x-python",
   "name": "python",
   "nbconvert_exporter": "python",
   "pygments_lexer": "ipython3",
   "version": "3.6.1"
  }
 },
 "nbformat": 4,
 "nbformat_minor": 2
}
