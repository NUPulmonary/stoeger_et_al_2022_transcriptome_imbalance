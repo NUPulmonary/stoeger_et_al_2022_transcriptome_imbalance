{
 "cells": [
  {
   "cell_type": "code",
   "execution_count": 1,
   "metadata": {
    "collapsed": true
   },
   "outputs": [],
   "source": [
    "import numpy as np\n",
    "import os\n",
    "import pandas as pd"
   ]
  },
  {
   "cell_type": "code",
   "execution_count": 2,
   "metadata": {
    "collapsed": false
   },
   "outputs": [],
   "source": [
    "p_in = './../data/in/gene_info_downloaded_170216.gz' # manually downloaded\n",
    "p_out = './../data/internal/batches_for_genealacart'\n",
    "os.makedirs(p_out)"
   ]
  },
  {
   "cell_type": "code",
   "execution_count": 3,
   "metadata": {
    "collapsed": false
   },
   "outputs": [],
   "source": [
    "df = pd.read_table(\n",
    "    p_in,\n",
    "    sep='\\t',\n",
    "    header=0)"
   ]
  },
  {
   "cell_type": "code",
   "execution_count": 4,
   "metadata": {
    "collapsed": false
   },
   "outputs": [],
   "source": [
    "# presenly GeneALaCart only supports human genes\n",
    "t = 9606 \n",
    "\n",
    "f = (df['type_of_gene'] == 'protein-coding') &\\\n",
    "    (df['#tax_id'] == t)\n",
    "    \n",
    "# GeneALaCart appears to use symbol_authority and not symbol_ncbi \n",
    "# Tested the mapping of a mitochondrial gene(mapping to MT-ND5 rather than ND5)\n",
    "# Update: 16-10-20: This is not entirely true, as there also is some ambiguity\n",
    "# in their internal mapping -> see /docs/genealacart.txt\n",
    "d = df.loc[f, 'Symbol_from_nomenclature_authority']\n",
    "\n",
    "# exclude genes without proper symbol (seem to be genes having only locus name in ncbi )\n",
    "f = d == '-' \n",
    "d = d[~f]"
   ]
  },
  {
   "cell_type": "code",
   "execution_count": 5,
   "metadata": {
    "collapsed": false
   },
   "outputs": [],
   "source": [
    "# create batche\n",
    "\n",
    "total_row = d.shape[0]\n",
    "batch_size=2000\n",
    "ixs = np.arange(1, total_row,batch_size)\n",
    "ixs = np.append(ixs, total_row+1)\n",
    "\n",
    "ixs[0] = 0\n",
    "\n",
    "for j in range(len(ixs)-1):\n",
    "    s = ixs[j]\n",
    "    e = ixs[j+1]\n",
    "    \n",
    "    dc = d[s:e]\n",
    "        \n",
    "    p = os.path.join(\n",
    "        p_out,    \n",
    "        'symbol_authority_protein_coding_batch_' + str(j) + '.txt')\n",
    "    dc.to_csv(p, index=False)"
   ]
  }
 ],
 "metadata": {
  "kernelspec": {
   "display_name": "Python 3",
   "language": "python",
   "name": "python3"
  },
  "language_info": {
   "codemirror_mode": {
    "name": "ipython",
    "version": 3
   },
   "file_extension": ".py",
   "mimetype": "text/x-python",
   "name": "python",
   "nbconvert_exporter": "python",
   "pygments_lexer": "ipython3",
   "version": "3.6.0"
  }
 },
 "nbformat": 4,
 "nbformat_minor": 2
}
