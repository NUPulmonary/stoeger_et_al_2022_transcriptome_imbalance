{
 "cells": [
  {
   "cell_type": "code",
   "execution_count": 1,
   "metadata": {},
   "outputs": [],
   "source": [
    "%matplotlib inline\n",
    "%reload_ext autoreload\n",
    "%autoreload 2\n",
    "\n",
    "import sys\n",
    "\n",
    "sys.path.append('./src/')\n",
    "\n"
   ]
  },
  {
   "cell_type": "code",
   "execution_count": 2,
   "metadata": {},
   "outputs": [],
   "source": [
    "import pandas as pd"
   ]
  },
  {
   "cell_type": "code",
   "execution_count": 3,
   "metadata": {},
   "outputs": [],
   "source": [
    "import glob\n",
    "import os\n",
    "import re\n",
    "\n",
    "import numpy as np\n",
    "import pandas as pd\n",
    "\n",
    "\n",
    "from gxa import get_all_absolute_expressions, export_as_table\n",
    "from gxa import parse_all_idf_files, parse_all_configuration_xmls, get_all_de_comparisons\n",
    "\n",
    "from shared import get_gene_ncbi_and_gene_ensembl_with_taxon"
   ]
  },
  {
   "cell_type": "code",
   "execution_count": 4,
   "metadata": {},
   "outputs": [
    {
     "name": "stdout",
     "output_type": "stream",
     "text": [
      "CPU times: user 1min 25s, sys: 9.29 s, total: 1min 34s\n",
      "Wall time: 1min 20s\n"
     ]
    }
   ],
   "source": [
    "%%time\n",
    "gene_ensembl = get_gene_ncbi_and_gene_ensembl_with_taxon(\n",
    "    taxon_id='all',\n",
    "    discard_ambiguous=True\n",
    ")"
   ]
  },
  {
   "cell_type": "code",
   "execution_count": 5,
   "metadata": {},
   "outputs": [],
   "source": [
    "export_as_table(\n",
    "    gene_ensembl,\n",
    "    'unambiguous_gene_ensembl',\n",
    "    split_by_taxon_ncbi=False\n",
    ")"
   ]
  },
  {
   "cell_type": "code",
   "execution_count": 6,
   "metadata": {},
   "outputs": [
    {
     "name": "stdout",
     "output_type": "stream",
     "text": [
      "CPU times: user 8min 58s, sys: 54.8 s, total: 9min 53s\n",
      "Wall time: 8min 35s\n"
     ]
    }
   ],
   "source": [
    "%%time\n",
    "df_genes, df_assays = get_all_absolute_expressions('tpms')"
   ]
  },
  {
   "cell_type": "code",
   "execution_count": 7,
   "metadata": {},
   "outputs": [],
   "source": [
    "key = 'assay_key'\n",
    "\n",
    "for taxon in df_assays['taxon_ncbi'].unique():\n",
    "    df = df_genes[\n",
    "        df_genes[key].isin(\n",
    "            df_assays[df_assays['taxon_ncbi']==taxon][key])]\n",
    "    \n",
    "\n",
    "    export_as_table(\n",
    "        df,\n",
    "        'tpms_genes_taxon_{}'.format(int(taxon)))"
   ]
  },
  {
   "cell_type": "code",
   "execution_count": 8,
   "metadata": {},
   "outputs": [],
   "source": [
    "export_as_table(\n",
    "    df_assays,\n",
    "    'tpms_assays'\n",
    ")"
   ]
  },
  {
   "cell_type": "code",
   "execution_count": 9,
   "metadata": {},
   "outputs": [
    {
     "name": "stdout",
     "output_type": "stream",
     "text": [
      "CPU times: user 8min 31s, sys: 52 s, total: 9min 23s\n",
      "Wall time: 8min 5s\n"
     ]
    }
   ],
   "source": [
    "%%time\n",
    "df_genes, df_assays = get_all_absolute_expressions('fpkms')"
   ]
  },
  {
   "cell_type": "code",
   "execution_count": 10,
   "metadata": {},
   "outputs": [],
   "source": [
    "key = 'assay_key'\n",
    "\n",
    "for taxon in df_assays['taxon_ncbi'].unique():\n",
    "    df = df_genes[\n",
    "        df_genes[key].isin(\n",
    "            df_assays[df_assays['taxon_ncbi']==taxon][key])]\n",
    "    \n",
    "\n",
    "    export_as_table(\n",
    "        df,\n",
    "        'fpkms_genes_taxon_{}'.format(int(taxon)))"
   ]
  },
  {
   "cell_type": "code",
   "execution_count": 11,
   "metadata": {},
   "outputs": [],
   "source": [
    "export_as_table(\n",
    "    df_assays,\n",
    "    'fpkms_asssays'\n",
    ")"
   ]
  },
  {
   "cell_type": "code",
   "execution_count": 12,
   "metadata": {},
   "outputs": [
    {
     "name": "stdout",
     "output_type": "stream",
     "text": [
      "CPU times: user 10min 1s, sys: 2min 24s, total: 12min 26s\n",
      "Wall time: 12min 18s\n"
     ]
    }
   ],
   "source": [
    "%%time\n",
    "df_genes, df_go, df_interpro, df_contrasts = get_all_de_comparisons()"
   ]
  },
  {
   "cell_type": "code",
   "execution_count": 13,
   "metadata": {},
   "outputs": [],
   "source": [
    "key = 'comparison_key'\n",
    "\n",
    "for taxon in df_contrasts['taxon_ncbi'].unique():\n",
    "    df = df_genes[\n",
    "        df_genes[key].isin(\n",
    "            df_contrasts[df_contrasts['taxon_ncbi']==taxon][key])]\n",
    "    \n",
    "\n",
    "    export_as_table(\n",
    "        df,\n",
    "        'de_genes_{}'.format(int(taxon))\n",
    "    )\n",
    "    \n",
    "    \n",
    "    df = df_go[\n",
    "        df_go[key].isin(\n",
    "            df_contrasts[df_contrasts['taxon_ncbi']==taxon][key])]\n",
    "    \n",
    "\n",
    "    export_as_table(\n",
    "        df,\n",
    "        'de_go_{}'.format(int(taxon))\n",
    "    )\n",
    "    \n",
    "    \n",
    "    df = df_interpro[\n",
    "        df_interpro[key].isin(\n",
    "            df_contrasts[df_contrasts['taxon_ncbi']==taxon][key])]\n",
    "    \n",
    "\n",
    "    export_as_table(\n",
    "        df,\n",
    "        'de_interpro_{}'.format(int(taxon))\n",
    "    )\n",
    "        "
   ]
  },
  {
   "cell_type": "code",
   "execution_count": 14,
   "metadata": {},
   "outputs": [],
   "source": [
    "export_as_table(\n",
    "    df_contrasts,\n",
    "    'de_contrasts',\n",
    "    split_by_taxon_ncbi=False\n",
    ")"
   ]
  },
  {
   "cell_type": "code",
   "execution_count": 15,
   "metadata": {},
   "outputs": [
    {
     "name": "stdout",
     "output_type": "stream",
     "text": [
      "CPU times: user 6.41 s, sys: 678 ms, total: 7.09 s\n",
      "Wall time: 9.17 s\n"
     ]
    }
   ],
   "source": [
    "%%time\n",
    "idfs = parse_all_idf_files()\n",
    "\n",
    "export_as_table(\n",
    "    idfs,\n",
    "    'idfs',\n",
    "    split_by_taxon_ncbi=False\n",
    ")\n"
   ]
  },
  {
   "cell_type": "code",
   "execution_count": 16,
   "metadata": {},
   "outputs": [
    {
     "name": "stdout",
     "output_type": "stream",
     "text": [
      "CPU times: user 508 ms, sys: 208 ms, total: 716 ms\n",
      "Wall time: 1.26 s\n"
     ]
    }
   ],
   "source": [
    "%%time\n",
    "parsed_configuration_xmls = parse_all_configuration_xmls()"
   ]
  },
  {
   "cell_type": "code",
   "execution_count": 17,
   "metadata": {},
   "outputs": [],
   "source": [
    "export_as_table(\n",
    "    parsed_configuration_xmls,\n",
    "    'parsed_configuration_xmls',\n",
    "    split_by_taxon_ncbi=False\n",
    ")\n",
    "\n"
   ]
  },
  {
   "cell_type": "code",
   "execution_count": null,
   "metadata": {},
   "outputs": [],
   "source": []
  },
  {
   "cell_type": "code",
   "execution_count": null,
   "metadata": {},
   "outputs": [],
   "source": []
  },
  {
   "cell_type": "code",
   "execution_count": null,
   "metadata": {},
   "outputs": [],
   "source": []
  },
  {
   "cell_type": "code",
   "execution_count": null,
   "metadata": {},
   "outputs": [],
   "source": []
  },
  {
   "cell_type": "code",
   "execution_count": null,
   "metadata": {},
   "outputs": [],
   "source": []
  },
  {
   "cell_type": "code",
   "execution_count": null,
   "metadata": {},
   "outputs": [],
   "source": []
  }
 ],
 "metadata": {
  "kernelspec": {
   "display_name": "Python 3",
   "language": "python",
   "name": "python3"
  },
  "language_info": {
   "codemirror_mode": {
    "name": "ipython",
    "version": 3
   },
   "file_extension": ".py",
   "mimetype": "text/x-python",
   "name": "python",
   "nbconvert_exporter": "python",
   "pygments_lexer": "ipython3",
   "version": "3.7.2"
  }
 },
 "nbformat": 4,
 "nbformat_minor": 2
}
