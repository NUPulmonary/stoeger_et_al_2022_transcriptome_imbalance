{
 "cells": [
  {
   "cell_type": "markdown",
   "metadata": {},
   "source": [
    "# Load GO annotations"
   ]
  },
  {
   "cell_type": "code",
   "execution_count": 1,
   "metadata": {
    "collapsed": false
   },
   "outputs": [],
   "source": [
    "from access_biology_data import annotation"
   ]
  },
  {
   "cell_type": "code",
   "execution_count": 2,
   "metadata": {
    "collapsed": true
   },
   "outputs": [],
   "source": [
    "taxon_id = 9606 # human"
   ]
  },
  {
   "cell_type": "code",
   "execution_count": 3,
   "metadata": {
    "collapsed": true
   },
   "outputs": [],
   "source": [
    "df = annotation.go(taxon_id,\n",
    "        category=None,     # ['Function', 'Process', 'Component']\n",
    "        negating_support=None,   # [True, False]     # whether given record is negating\n",
    "        any_negating_support=None,     # [True, False]     # whether at least one record for annotation is negating\n",
    "        temporary_evidence=None,     # [True, False]     # whether evidence is preliminary\n",
    "        unmapped_evidence=None)   # [True, False]     # whether GO lost information about source of evidence"
   ]
  },
  {
   "cell_type": "code",
   "execution_count": 4,
   "metadata": {
    "collapsed": false
   },
   "outputs": [
    {
     "data": {
      "text/html": [
       "<div>\n",
       "<table border=\"1\" class=\"dataframe\">\n",
       "  <thead>\n",
       "    <tr style=\"text-align: right;\">\n",
       "      <th></th>\n",
       "      <th>taxon_ncbi</th>\n",
       "      <th>gene_ncbi</th>\n",
       "      <th>GO_ID</th>\n",
       "      <th>Evidence</th>\n",
       "      <th>Qualifier</th>\n",
       "      <th>PubMed</th>\n",
       "      <th>Category</th>\n",
       "      <th>Negating support</th>\n",
       "      <th>Any negating support</th>\n",
       "      <th>Temporary Evidence (max. 12m)</th>\n",
       "      <th>Unmapped Evidence</th>\n",
       "      <th>GO_term</th>\n",
       "    </tr>\n",
       "  </thead>\n",
       "  <tbody>\n",
       "    <tr>\n",
       "      <th>0</th>\n",
       "      <td>9606</td>\n",
       "      <td>1</td>\n",
       "      <td>GO:0002576</td>\n",
       "      <td>TAS</td>\n",
       "      <td>-</td>\n",
       "      <td>-</td>\n",
       "      <td>Process</td>\n",
       "      <td>False</td>\n",
       "      <td>False</td>\n",
       "      <td>False</td>\n",
       "      <td>False</td>\n",
       "      <td>platelet degranulation</td>\n",
       "    </tr>\n",
       "    <tr>\n",
       "      <th>1</th>\n",
       "      <td>9606</td>\n",
       "      <td>1</td>\n",
       "      <td>GO:0003674</td>\n",
       "      <td>ND</td>\n",
       "      <td>-</td>\n",
       "      <td>-</td>\n",
       "      <td>Function</td>\n",
       "      <td>True</td>\n",
       "      <td>True</td>\n",
       "      <td>False</td>\n",
       "      <td>False</td>\n",
       "      <td>molecular_function</td>\n",
       "    </tr>\n",
       "    <tr>\n",
       "      <th>2</th>\n",
       "      <td>9606</td>\n",
       "      <td>1</td>\n",
       "      <td>GO:0005576</td>\n",
       "      <td>IDA</td>\n",
       "      <td>-</td>\n",
       "      <td>3458201</td>\n",
       "      <td>Component</td>\n",
       "      <td>False</td>\n",
       "      <td>False</td>\n",
       "      <td>False</td>\n",
       "      <td>False</td>\n",
       "      <td>extracellular region</td>\n",
       "    </tr>\n",
       "    <tr>\n",
       "      <th>3</th>\n",
       "      <td>9606</td>\n",
       "      <td>1</td>\n",
       "      <td>GO:0005576</td>\n",
       "      <td>TAS</td>\n",
       "      <td>-</td>\n",
       "      <td>-</td>\n",
       "      <td>Component</td>\n",
       "      <td>False</td>\n",
       "      <td>False</td>\n",
       "      <td>False</td>\n",
       "      <td>False</td>\n",
       "      <td>extracellular region</td>\n",
       "    </tr>\n",
       "    <tr>\n",
       "      <th>4</th>\n",
       "      <td>9606</td>\n",
       "      <td>1</td>\n",
       "      <td>GO:0005615</td>\n",
       "      <td>IDA</td>\n",
       "      <td>-</td>\n",
       "      <td>16502470</td>\n",
       "      <td>Component</td>\n",
       "      <td>False</td>\n",
       "      <td>False</td>\n",
       "      <td>False</td>\n",
       "      <td>False</td>\n",
       "      <td>extracellular space</td>\n",
       "    </tr>\n",
       "  </tbody>\n",
       "</table>\n",
       "</div>"
      ],
      "text/plain": [
       "   taxon_ncbi  gene_ncbi       GO_ID Evidence Qualifier    PubMed   Category  \\\n",
       "0        9606          1  GO:0002576      TAS         -         -    Process   \n",
       "1        9606          1  GO:0003674       ND         -         -   Function   \n",
       "2        9606          1  GO:0005576      IDA         -   3458201  Component   \n",
       "3        9606          1  GO:0005576      TAS         -         -  Component   \n",
       "4        9606          1  GO:0005615      IDA         -  16502470  Component   \n",
       "\n",
       "  Negating support Any negating support Temporary Evidence (max. 12m)  \\\n",
       "0            False                False                         False   \n",
       "1             True                 True                         False   \n",
       "2            False                False                         False   \n",
       "3            False                False                         False   \n",
       "4            False                False                         False   \n",
       "\n",
       "  Unmapped Evidence                 GO_term  \n",
       "0             False  platelet degranulation  \n",
       "1             False      molecular_function  \n",
       "2             False    extracellular region  \n",
       "3             False    extracellular region  \n",
       "4             False     extracellular space  "
      ]
     },
     "execution_count": 4,
     "metadata": {},
     "output_type": "execute_result"
    }
   ],
   "source": [
    "df.head()"
   ]
  },
  {
   "cell_type": "code",
   "execution_count": null,
   "metadata": {
    "collapsed": true
   },
   "outputs": [],
   "source": []
  }
 ],
 "metadata": {
  "kernelspec": {
   "display_name": "Python 3",
   "language": "python",
   "name": "python3"
  },
  "language_info": {
   "codemirror_mode": {
    "name": "ipython",
    "version": 3
   },
   "file_extension": ".py",
   "mimetype": "text/x-python",
   "name": "python",
   "nbconvert_exporter": "python",
   "pygments_lexer": "ipython3",
   "version": "3.6.0"
  }
 },
 "nbformat": 4,
 "nbformat_minor": 2
}
