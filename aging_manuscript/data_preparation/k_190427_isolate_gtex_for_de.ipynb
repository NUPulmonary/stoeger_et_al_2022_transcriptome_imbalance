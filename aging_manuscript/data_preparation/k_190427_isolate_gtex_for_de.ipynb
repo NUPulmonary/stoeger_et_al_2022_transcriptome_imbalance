{
 "cells": [
  {
   "cell_type": "code",
   "execution_count": 1,
   "metadata": {},
   "outputs": [],
   "source": [
    "import glob"
   ]
  },
  {
   "cell_type": "code",
   "execution_count": 2,
   "metadata": {},
   "outputs": [],
   "source": [
    "import os"
   ]
  },
  {
   "cell_type": "code",
   "execution_count": 3,
   "metadata": {},
   "outputs": [],
   "source": [
    "import pandas as pd"
   ]
  },
  {
   "cell_type": "code",
   "execution_count": 4,
   "metadata": {},
   "outputs": [],
   "source": [
    "import sys"
   ]
  },
  {
   "cell_type": "code",
   "execution_count": 5,
   "metadata": {},
   "outputs": [],
   "source": [
    "sys.path.append('./../src/')"
   ]
  },
  {
   "cell_type": "code",
   "execution_count": 6,
   "metadata": {},
   "outputs": [],
   "source": [
    "from aging_tools import inout"
   ]
  },
  {
   "cell_type": "code",
   "execution_count": 7,
   "metadata": {},
   "outputs": [],
   "source": [
    "from access_science_shared import inout as rinout"
   ]
  },
  {
   "cell_type": "code",
   "execution_count": 8,
   "metadata": {},
   "outputs": [],
   "source": [
    "p = rinout.get_path(\n",
    "        'gtex', 'GTEx_Analysis_2016-01-15_v7_RNASeQCv1.1.8_gene_reads.gct')\n",
    "\n",
    "df_gtex = pd.read_table(   # This is kind of slow\n",
    "    p,\n",
    "    sep='\\t',\n",
    "    skiprows=2    # row 1: GTEX version; row 2: dimensions\n",
    ").rename(\n",
    "    columns={\n",
    "        'Name': 'gene_ensembl.version',\n",
    "        'Description': 'gene_symbol'}).drop(\n",
    "            'gene_symbol', axis=1)\n",
    "\n",
    "df_gtex['gene_ensembl'] = df_gtex['gene_ensembl.version'].str.extract(\n",
    "    '(.*)\\.[0-9]*', expand=False)\n",
    "df_gtex = df_gtex.drop('gene_ensembl.version', axis=1)"
   ]
  },
  {
   "cell_type": "code",
   "execution_count": 9,
   "metadata": {},
   "outputs": [],
   "source": [
    "# get information on donors\n",
    "p = rinout.get_path(\n",
    "    'gtex', 'GTEx_v7_Annotations_SubjectPhenotypesDS.txt')\n",
    "\n",
    "df_sujects = pd.read_table(p)\n",
    "df_sujects = df_sujects.rename(columns={' SUBJID': 'SUBJID'})   # typo\n",
    "\n",
    "df_sujects['SEX'] = df_sujects['SEX'].replace({\n",
    "    1: 'm',    # manually update according to accompanying GTEX excel file\n",
    "    2: 'f'\n",
    "}\n",
    ")\n",
    "\n",
    "# get information on specimen\n",
    "p = rinout.get_path(\n",
    "    'gtex', 'GTEx_v7_Annotations_SampleAttributes.txt')\n",
    "df_sample_attributes = pd.read_table(p)\n",
    "\n",
    "# Add donor information to specimen information\n",
    "df_sample_attributes.loc[:, 'SUBJID'] = df_sample_attributes[\n",
    "    'SAMPID'].str.extract(\n",
    "    '^([^-]*-[^-]*).*',      # Donor appears encoded in part of sample name\n",
    "        expand=False)\n",
    "\n",
    "df_meta = pd.merge(df_sample_attributes, df_sujects,\n",
    "                   how='left', left_on='SUBJID', right_on='SUBJID')\n",
    "df_meta = df_meta.set_index('SAMPID', verify_integrity=True)"
   ]
  },
  {
   "cell_type": "code",
   "execution_count": 10,
   "metadata": {},
   "outputs": [],
   "source": [
    "df_gtex = df_gtex.set_index('gene_ensembl')"
   ]
  },
  {
   "cell_type": "code",
   "execution_count": 11,
   "metadata": {},
   "outputs": [],
   "source": [
    "if df_gtex.columns.value_counts().max() > 1:\n",
    "    raise ValueError('Columns are ambiguous')"
   ]
  },
  {
   "cell_type": "code",
   "execution_count": 12,
   "metadata": {},
   "outputs": [],
   "source": [
    "if df_meta.index.value_counts().max() > 1:\n",
    "    raise ValueError('Rows are ambiguous')"
   ]
  },
  {
   "cell_type": "code",
   "execution_count": 13,
   "metadata": {},
   "outputs": [],
   "source": [
    "shared = set(df_gtex.columns).intersection(set(df_meta.index))"
   ]
  },
  {
   "cell_type": "code",
   "execution_count": 14,
   "metadata": {},
   "outputs": [],
   "source": [
    "shared = sorted(list(shared))"
   ]
  },
  {
   "cell_type": "code",
   "execution_count": 15,
   "metadata": {},
   "outputs": [],
   "source": [
    "df_gtex = df_gtex.loc[:, shared]"
   ]
  },
  {
   "cell_type": "code",
   "execution_count": 16,
   "metadata": {},
   "outputs": [],
   "source": [
    "df_meta = df_meta.loc[shared, :]"
   ]
  },
  {
   "cell_type": "code",
   "execution_count": 17,
   "metadata": {},
   "outputs": [],
   "source": [
    "if df_meta[['SUBJID', 'SMTSD']].drop_duplicates().shape[0] != df_meta.shape[0]:\n",
    "    raise ValueError('multiple donors for at least one tissue')"
   ]
  },
  {
   "cell_type": "code",
   "execution_count": 18,
   "metadata": {},
   "outputs": [],
   "source": [
    "settings = (\n",
    "    (\n",
    "        ( df_meta['SEX'] == 'm'),\n",
    "        ('dynamic/tstoeger/190427_gtex_m')\n",
    "    ),\n",
    "    (\n",
    "        ( df_meta['SEX'] == 'f'),\n",
    "        ('dynamic/tstoeger/190427_gtex_f')\n",
    "    ),\n",
    "\n",
    ")"
   ]
  },
  {
   "cell_type": "code",
   "execution_count": 19,
   "metadata": {},
   "outputs": [],
   "source": [
    "for pair in settings:\n",
    "    f = pair[0]\n",
    "    out_folder = pair[1]\n",
    "\n",
    "    sub_meta = df_meta[f].copy()\n",
    "    sub_data = df_gtex.loc[:, df_gtex.columns.isin(sub_meta.index)]\n",
    "\n",
    "    sub_meta = sub_meta.loc[:, ['SMTSD', 'AGE']].rename(\n",
    "        columns={'SMTSD': 'tissue', 'AGE': 'age'}).rename_axis('run_name')\n",
    "\n",
    "    sub_meta['age'] = sub_meta['age'].apply(lambda x: int(str(x[0])))\n",
    "    sub_meta.loc[:, 'pfu'] = 0\n",
    "    sub_meta.loc[:, 'recommend_to_discard'] = 0\n",
    "\n",
    "    p_out = inout.get_internal_path(out_folder)\n",
    "    \n",
    "    p = os.path.join(p_out, 'sample_meta.csv')   \n",
    "    inout.ensure_presence_of_directory(p)\n",
    "    sub_meta.to_csv(p)\n",
    "\n",
    "    for c in sub_data.columns:\n",
    "        d = sub_data[[c]]\n",
    "        d.index.name = ''\n",
    "        p = os.path.join(p_out, 'counts', '{}.counts'.format(c))\n",
    "        inout.ensure_presence_of_directory(p)\n",
    "        d.to_csv(p, sep='\\t')\n",
    "\n",
    "       "
   ]
  },
  {
   "cell_type": "code",
   "execution_count": null,
   "metadata": {},
   "outputs": [],
   "source": []
  }
 ],
 "metadata": {
  "kernelspec": {
   "display_name": "Python 3",
   "language": "python",
   "name": "python3"
  },
  "language_info": {
   "codemirror_mode": {
    "name": "ipython",
    "version": 3
   },
   "file_extension": ".py",
   "mimetype": "text/x-python",
   "name": "python",
   "nbconvert_exporter": "python",
   "pygments_lexer": "ipython3",
   "version": "3.7.2"
  }
 },
 "nbformat": 4,
 "nbformat_minor": 2
}
