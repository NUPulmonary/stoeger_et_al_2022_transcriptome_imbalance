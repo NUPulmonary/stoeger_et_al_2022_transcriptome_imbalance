{
 "cells": [
  {
   "cell_type": "code",
   "execution_count": 1,
   "metadata": {},
   "outputs": [],
   "source": [
    "%matplotlib inline\n",
    "%reload_ext autoreload\n",
    "%autoreload 2"
   ]
  },
  {
   "cell_type": "code",
   "execution_count": 2,
   "metadata": {},
   "outputs": [],
   "source": [
    "import matplotlib as mpl\n",
    "mpl.rcParams['pdf.fonttype'] = 42\n",
    "mpl.rcParams['font.family'] = 'Arial'"
   ]
  },
  {
   "cell_type": "code",
   "execution_count": 3,
   "metadata": {},
   "outputs": [],
   "source": [
    "import os\n",
    "import random\n",
    "import sys\n",
    "\n",
    "src_dir = './../src/'\n",
    "sys.path[0] = src_dir\n",
    "\n",
    "import numpy as np\n",
    "import pandas as pd\n",
    "import seaborn as sns\n",
    "import matplotlib.pyplot as plt\n",
    "\n",
    "\n",
    "from copy import deepcopy\n",
    "from scipy.stats import spearmanr\n",
    "\n",
    "\n",
    "from access_biology_data import meta\n",
    "from aging_tools import inout"
   ]
  },
  {
   "cell_type": "code",
   "execution_count": 4,
   "metadata": {},
   "outputs": [
    {
     "data": {
      "text/html": [
       "<style>.container { width:100% !important; }</style>"
      ],
      "text/plain": [
       "<IPython.core.display.HTML object>"
      ]
     },
     "metadata": {},
     "output_type": "display_data"
    }
   ],
   "source": [
    "from IPython.core.display import display, HTML\n",
    "display(HTML(\"<style>.container { width:100% !important; }</style>\"))"
   ]
  },
  {
   "cell_type": "code",
   "execution_count": 5,
   "metadata": {},
   "outputs": [],
   "source": [
    "sys.path.append('./../src/')\n",
    "from aging_tools import inout, export\n",
    "from access_aging_data import chaperome, earlier_studies, companions, sequencing\n",
    "from access_biology_data import annotation, relations"
   ]
  },
  {
   "cell_type": "markdown",
   "metadata": {},
   "source": [
    "# Construct sanity check: get median expression for every gene"
   ]
  },
  {
   "cell_type": "code",
   "execution_count": 6,
   "metadata": {},
   "outputs": [],
   "source": [
    "# Get aging expression data, filter, and map to ncbi\n",
    "df_counts, df_meta, df_genes = sequencing.load_cached_aging_map(\n",
    "    dataset_name='aging_map_tmm_180105',\n",
    "    unambiguous_to_entrez=True,\n",
    "    as_entrez=True\n",
    ")"
   ]
  },
  {
   "cell_type": "code",
   "execution_count": 7,
   "metadata": {},
   "outputs": [
    {
     "name": "stdout",
     "output_type": "stream",
     "text": [
      "CPU times: user 2.09 s, sys: 264 ms, total: 2.35 s\n",
      "Wall time: 3.15 s\n"
     ]
    }
   ],
   "source": [
    "%%time\n",
    "agg = []\n",
    "for pfu in df_meta['pfu'].unique():\n",
    "    f_pfu = df_meta['pfu']==pfu\n",
    "    for tissue in df_meta['tissue'].unique():\n",
    "        f_tissue = df_meta['tissue']==tissue\n",
    "        for age in df_meta['age'].unique():\n",
    "            f_age = df_meta['age']==age\n",
    "            f = f_pfu & f_tissue & f_age\n",
    "            \n",
    "            if any(f):\n",
    "                d = df_counts.loc[:, f]\n",
    "                d = d.median(1).to_frame('median')\n",
    "                d.loc[:, 'tissue'] = tissue\n",
    "                d.loc[:, 'pfu'] = pfu\n",
    "                d.loc[:, 'age'] = age\n",
    "                d = d.reset_index()\n",
    "\n",
    "                agg.append(d)\n",
    "                \n",
    "df_median_counts = pd.concat(agg)                "
   ]
  },
  {
   "cell_type": "code",
   "execution_count": 8,
   "metadata": {},
   "outputs": [],
   "source": [
    "import glob"
   ]
  },
  {
   "cell_type": "code",
   "execution_count": 9,
   "metadata": {},
   "outputs": [],
   "source": [
    "p = inout.get_internal_path(\n",
    "    'dynamic/tstoeger/200504_legacy_sample_filtering/DE/Flu/*.csv')\n",
    "d = glob.glob(p)\n",
    "\n",
    "files_to_process = pd.DataFrame(columns=['path'], data = d)\n",
    "files_to_process['base_name'] = files_to_process['path'].str.extract('.*/(.*).csv', expand=False)\n",
    "files_to_process[['tissue', 'pfu', 'dividend', 'divisor']] = files_to_process['base_name'].str.extract(\n",
    "    '^(.*)_pfu_(.*)_ages_(.*) (.*)_DE', expand=False)\n",
    "files_to_process = files_to_process.set_index('base_name', verify_integrity=True)\n",
    "\n",
    "agg = []\n",
    "for j, v in files_to_process.iterrows():\n",
    "    \n",
    "    df = pd.read_csv(v['path'], usecols=['Symbol', 'log2FoldChange', 'pvalue', 'padj'])\n",
    "    tags = ['tissue', 'pfu', 'dividend', 'divisor']\n",
    "    for tag in tags:\n",
    "        df.loc[:, tag] = v[tag]\n",
    "\n",
    "    agg.append(df)"
   ]
  },
  {
   "cell_type": "code",
   "execution_count": 10,
   "metadata": {},
   "outputs": [],
   "source": [
    "df = pd.concat(agg, axis=0)\n",
    "df = df.rename(columns={'Symbol': 'gene_ensembl'})\n",
    "\n",
    "for x in ['pfu', 'dividend', 'divisor']:\n",
    "    df.loc[:, x] = df.loc[:, x].apply(float)"
   ]
  },
  {
   "cell_type": "code",
   "execution_count": 11,
   "metadata": {},
   "outputs": [],
   "source": [
    "# Add ncbi gene IDs\n",
    "df = pd.merge(\n",
    "    df,\n",
    "    df_genes[['gene_ensembl', 'gene_ncbi']], how='left').set_index('gene_ncbi').reset_index()"
   ]
  },
  {
   "cell_type": "markdown",
   "metadata": {},
   "source": [
    "# Add some sanity checks and manually check discrepancies"
   ]
  },
  {
   "cell_type": "code",
   "execution_count": 12,
   "metadata": {},
   "outputs": [],
   "source": [
    "df.loc[:, 'oldest'] = df.loc[:, ['dividend', 'divisor']].max(1)\n",
    "df.loc[:, 'youngest'] = df.loc[:, ['dividend', 'divisor']].min(1)"
   ]
  },
  {
   "cell_type": "code",
   "execution_count": 13,
   "metadata": {},
   "outputs": [],
   "source": [
    "for e in ['dividend', 'divisor', 'oldest', 'youngest']:\n",
    "    df = pd.merge(\n",
    "        df, \n",
    "        df_median_counts.rename(columns={'median': 'median_{}'.format(e)}), \n",
    "        left_on=['gene_ncbi', 'tissue', 'pfu', e],\n",
    "        right_on=['gene_ncbi', 'tissue', 'pfu', 'age'],\n",
    "        how='left'\n",
    "    ).drop('age', 1)"
   ]
  },
  {
   "cell_type": "code",
   "execution_count": 14,
   "metadata": {},
   "outputs": [],
   "source": [
    "f = df['dividend'] > df['divisor']"
   ]
  },
  {
   "cell_type": "code",
   "execution_count": 15,
   "metadata": {},
   "outputs": [],
   "source": [
    "df.loc[f, 'o_over_y'] = df.loc[f, 'log2FoldChange']\n",
    "df.loc[~f, 'o_over_y'] = -df.loc[~f, 'log2FoldChange']"
   ]
  },
  {
   "cell_type": "code",
   "execution_count": null,
   "metadata": {},
   "outputs": [],
   "source": []
  },
  {
   "cell_type": "code",
   "execution_count": 16,
   "metadata": {},
   "outputs": [],
   "source": [
    "test_dummy = df[(df['padj']<0.05) & ~(df['median_oldest'] == df['median_youngest'])]"
   ]
  },
  {
   "cell_type": "code",
   "execution_count": 17,
   "metadata": {},
   "outputs": [],
   "source": [
    "f = test_dummy['median_oldest'] > test_dummy['median_youngest']\n",
    "h = test_dummy[f]"
   ]
  },
  {
   "cell_type": "code",
   "execution_count": 18,
   "metadata": {},
   "outputs": [
    {
     "data": {
      "text/plain": [
       "tissue  pfu  \n",
       "AM      0.0      14\n",
       "        10.0      1\n",
       "        150.0     4\n",
       "Heart   0.0      67\n",
       "WAT     0.0       2\n",
       "dtype: int64"
      ]
     },
     "execution_count": 18,
     "metadata": {},
     "output_type": "execute_result"
    }
   ],
   "source": [
    "h[h['o_over_y']<0].groupby(['tissue', 'pfu']).size()"
   ]
  },
  {
   "cell_type": "code",
   "execution_count": 19,
   "metadata": {},
   "outputs": [
    {
     "data": {
      "text/plain": [
       "tissue      pfu  \n",
       "AM          0.0       533\n",
       "            10.0       16\n",
       "            150.0     269\n",
       "AT2         0.0       382\n",
       "            10.0       55\n",
       "            150.0      38\n",
       "Adrenal     0.0      2077\n",
       "BAT         0.0       511\n",
       "Blood       0.0       113\n",
       "            10.0      414\n",
       "            150.0     173\n",
       "Brain       0.0        21\n",
       "Cerebellum  0.0        60\n",
       "Esophagus   0.0       202\n",
       "GutEP       0.0       139\n",
       "Heart       0.0        46\n",
       "Kidney      0.0      3745\n",
       "LI          0.0       100\n",
       "Liver       0.0        37\n",
       "Lung        0.0       350\n",
       "            10.0        6\n",
       "            150.0      14\n",
       "MoDC        0.0        33\n",
       "            10.0       16\n",
       "            150.0      67\n",
       "MuscSat     0.0       255\n",
       "SI          0.0       563\n",
       "Skin        0.0       110\n",
       "Stomach     0.0       934\n",
       "WAT         0.0       828\n",
       "dtype: int64"
      ]
     },
     "execution_count": 19,
     "metadata": {},
     "output_type": "execute_result"
    }
   ],
   "source": [
    "h[h['o_over_y']>0].groupby(['tissue', 'pfu']).size()"
   ]
  },
  {
   "cell_type": "code",
   "execution_count": 20,
   "metadata": {},
   "outputs": [
    {
     "data": {
      "text/html": [
       "<div>\n",
       "<style scoped>\n",
       "    .dataframe tbody tr th:only-of-type {\n",
       "        vertical-align: middle;\n",
       "    }\n",
       "\n",
       "    .dataframe tbody tr th {\n",
       "        vertical-align: top;\n",
       "    }\n",
       "\n",
       "    .dataframe thead th {\n",
       "        text-align: right;\n",
       "    }\n",
       "</style>\n",
       "<table border=\"1\" class=\"dataframe\">\n",
       "  <thead>\n",
       "    <tr style=\"text-align: right;\">\n",
       "      <th></th>\n",
       "      <th>gene_ncbi</th>\n",
       "      <th>gene_ensembl</th>\n",
       "      <th>log2FoldChange</th>\n",
       "      <th>pvalue</th>\n",
       "      <th>padj</th>\n",
       "      <th>tissue</th>\n",
       "      <th>pfu</th>\n",
       "      <th>dividend</th>\n",
       "      <th>divisor</th>\n",
       "      <th>oldest</th>\n",
       "      <th>youngest</th>\n",
       "      <th>median_dividend</th>\n",
       "      <th>median_divisor</th>\n",
       "      <th>median_oldest</th>\n",
       "      <th>median_youngest</th>\n",
       "      <th>o_over_y</th>\n",
       "    </tr>\n",
       "  </thead>\n",
       "  <tbody>\n",
       "    <tr>\n",
       "      <th>19780</th>\n",
       "      <td>67488.0</td>\n",
       "      <td>ENSMUSG00000023055</td>\n",
       "      <td>-0.741014</td>\n",
       "      <td>0.000048</td>\n",
       "      <td>0.013235</td>\n",
       "      <td>AM</td>\n",
       "      <td>0.0</td>\n",
       "      <td>24.0</td>\n",
       "      <td>9.0</td>\n",
       "      <td>24.0</td>\n",
       "      <td>9.0</td>\n",
       "      <td>63.584425</td>\n",
       "      <td>53.989913</td>\n",
       "      <td>63.584425</td>\n",
       "      <td>53.989913</td>\n",
       "      <td>-0.741014</td>\n",
       "    </tr>\n",
       "    <tr>\n",
       "      <th>19794</th>\n",
       "      <td>12642.0</td>\n",
       "      <td>ENSMUSG00000050370</td>\n",
       "      <td>-1.006915</td>\n",
       "      <td>0.000264</td>\n",
       "      <td>0.046563</td>\n",
       "      <td>AM</td>\n",
       "      <td>0.0</td>\n",
       "      <td>24.0</td>\n",
       "      <td>9.0</td>\n",
       "      <td>24.0</td>\n",
       "      <td>9.0</td>\n",
       "      <td>34.138781</td>\n",
       "      <td>27.031120</td>\n",
       "      <td>34.138781</td>\n",
       "      <td>27.031120</td>\n",
       "      <td>-1.006915</td>\n",
       "    </tr>\n",
       "    <tr>\n",
       "      <th>973430</th>\n",
       "      <td>231506.0</td>\n",
       "      <td>ENSMUSG00000035310</td>\n",
       "      <td>-0.881801</td>\n",
       "      <td>0.001008</td>\n",
       "      <td>0.049303</td>\n",
       "      <td>AM</td>\n",
       "      <td>0.0</td>\n",
       "      <td>18.0</td>\n",
       "      <td>4.0</td>\n",
       "      <td>18.0</td>\n",
       "      <td>4.0</td>\n",
       "      <td>27.857952</td>\n",
       "      <td>23.530825</td>\n",
       "      <td>27.857952</td>\n",
       "      <td>23.530825</td>\n",
       "      <td>-0.881801</td>\n",
       "    </tr>\n",
       "    <tr>\n",
       "      <th>973432</th>\n",
       "      <td>107823.0</td>\n",
       "      <td>ENSMUSG00000057406</td>\n",
       "      <td>-0.570564</td>\n",
       "      <td>0.000998</td>\n",
       "      <td>0.049303</td>\n",
       "      <td>AM</td>\n",
       "      <td>0.0</td>\n",
       "      <td>18.0</td>\n",
       "      <td>4.0</td>\n",
       "      <td>18.0</td>\n",
       "      <td>4.0</td>\n",
       "      <td>61.099314</td>\n",
       "      <td>55.346720</td>\n",
       "      <td>61.099314</td>\n",
       "      <td>55.346720</td>\n",
       "      <td>-0.570564</td>\n",
       "    </tr>\n",
       "    <tr>\n",
       "      <th>1407455</th>\n",
       "      <td>244667.0</td>\n",
       "      <td>ENSMUSG00000043051</td>\n",
       "      <td>-3.860493</td>\n",
       "      <td>0.000318</td>\n",
       "      <td>0.034084</td>\n",
       "      <td>AM</td>\n",
       "      <td>150.0</td>\n",
       "      <td>24.0</td>\n",
       "      <td>4.0</td>\n",
       "      <td>24.0</td>\n",
       "      <td>4.0</td>\n",
       "      <td>6.080569</td>\n",
       "      <td>5.654156</td>\n",
       "      <td>6.080569</td>\n",
       "      <td>5.654156</td>\n",
       "      <td>-3.860493</td>\n",
       "    </tr>\n",
       "    <tr>\n",
       "      <th>...</th>\n",
       "      <td>...</td>\n",
       "      <td>...</td>\n",
       "      <td>...</td>\n",
       "      <td>...</td>\n",
       "      <td>...</td>\n",
       "      <td>...</td>\n",
       "      <td>...</td>\n",
       "      <td>...</td>\n",
       "      <td>...</td>\n",
       "      <td>...</td>\n",
       "      <td>...</td>\n",
       "      <td>...</td>\n",
       "      <td>...</td>\n",
       "      <td>...</td>\n",
       "      <td>...</td>\n",
       "      <td>...</td>\n",
       "    </tr>\n",
       "    <tr>\n",
       "      <th>3811286</th>\n",
       "      <td>22344.0</td>\n",
       "      <td>ENSMUSG00000018377</td>\n",
       "      <td>-0.697088</td>\n",
       "      <td>0.001308</td>\n",
       "      <td>0.044168</td>\n",
       "      <td>AM</td>\n",
       "      <td>0.0</td>\n",
       "      <td>24.0</td>\n",
       "      <td>4.0</td>\n",
       "      <td>24.0</td>\n",
       "      <td>4.0</td>\n",
       "      <td>45.364241</td>\n",
       "      <td>43.472756</td>\n",
       "      <td>45.364241</td>\n",
       "      <td>43.472756</td>\n",
       "      <td>-0.697088</td>\n",
       "    </tr>\n",
       "    <tr>\n",
       "      <th>3811289</th>\n",
       "      <td>74343.0</td>\n",
       "      <td>ENSMUSG00000027936</td>\n",
       "      <td>-0.640096</td>\n",
       "      <td>0.001403</td>\n",
       "      <td>0.046233</td>\n",
       "      <td>AM</td>\n",
       "      <td>0.0</td>\n",
       "      <td>24.0</td>\n",
       "      <td>4.0</td>\n",
       "      <td>24.0</td>\n",
       "      <td>4.0</td>\n",
       "      <td>52.476784</td>\n",
       "      <td>51.691882</td>\n",
       "      <td>52.476784</td>\n",
       "      <td>51.691882</td>\n",
       "      <td>-0.640096</td>\n",
       "    </tr>\n",
       "    <tr>\n",
       "      <th>4712907</th>\n",
       "      <td>57740.0</td>\n",
       "      <td>ENSMUSG00000015981</td>\n",
       "      <td>-5.467417</td>\n",
       "      <td>0.000013</td>\n",
       "      <td>0.042147</td>\n",
       "      <td>AM</td>\n",
       "      <td>10.0</td>\n",
       "      <td>18.0</td>\n",
       "      <td>9.0</td>\n",
       "      <td>18.0</td>\n",
       "      <td>9.0</td>\n",
       "      <td>5.154313</td>\n",
       "      <td>4.582718</td>\n",
       "      <td>5.154313</td>\n",
       "      <td>4.582718</td>\n",
       "      <td>-5.467417</td>\n",
       "    </tr>\n",
       "    <tr>\n",
       "      <th>5562351</th>\n",
       "      <td>216350.0</td>\n",
       "      <td>ENSMUSG00000034127</td>\n",
       "      <td>-6.350430</td>\n",
       "      <td>0.000005</td>\n",
       "      <td>0.002217</td>\n",
       "      <td>WAT</td>\n",
       "      <td>0.0</td>\n",
       "      <td>18.0</td>\n",
       "      <td>4.0</td>\n",
       "      <td>18.0</td>\n",
       "      <td>4.0</td>\n",
       "      <td>1.612216</td>\n",
       "      <td>1.218997</td>\n",
       "      <td>1.612216</td>\n",
       "      <td>1.218997</td>\n",
       "      <td>-6.350430</td>\n",
       "    </tr>\n",
       "    <tr>\n",
       "      <th>5714316</th>\n",
       "      <td>216350.0</td>\n",
       "      <td>ENSMUSG00000034127</td>\n",
       "      <td>-6.775411</td>\n",
       "      <td>0.000044</td>\n",
       "      <td>0.013319</td>\n",
       "      <td>WAT</td>\n",
       "      <td>0.0</td>\n",
       "      <td>12.0</td>\n",
       "      <td>4.0</td>\n",
       "      <td>12.0</td>\n",
       "      <td>4.0</td>\n",
       "      <td>1.311694</td>\n",
       "      <td>1.218997</td>\n",
       "      <td>1.311694</td>\n",
       "      <td>1.218997</td>\n",
       "      <td>-6.775411</td>\n",
       "    </tr>\n",
       "  </tbody>\n",
       "</table>\n",
       "<p>88 rows × 16 columns</p>\n",
       "</div>"
      ],
      "text/plain": [
       "         gene_ncbi        gene_ensembl  log2FoldChange    pvalue      padj  \\\n",
       "19780      67488.0  ENSMUSG00000023055       -0.741014  0.000048  0.013235   \n",
       "19794      12642.0  ENSMUSG00000050370       -1.006915  0.000264  0.046563   \n",
       "973430    231506.0  ENSMUSG00000035310       -0.881801  0.001008  0.049303   \n",
       "973432    107823.0  ENSMUSG00000057406       -0.570564  0.000998  0.049303   \n",
       "1407455   244667.0  ENSMUSG00000043051       -3.860493  0.000318  0.034084   \n",
       "...            ...                 ...             ...       ...       ...   \n",
       "3811286    22344.0  ENSMUSG00000018377       -0.697088  0.001308  0.044168   \n",
       "3811289    74343.0  ENSMUSG00000027936       -0.640096  0.001403  0.046233   \n",
       "4712907    57740.0  ENSMUSG00000015981       -5.467417  0.000013  0.042147   \n",
       "5562351   216350.0  ENSMUSG00000034127       -6.350430  0.000005  0.002217   \n",
       "5714316   216350.0  ENSMUSG00000034127       -6.775411  0.000044  0.013319   \n",
       "\n",
       "        tissue    pfu  dividend  divisor  oldest  youngest  median_dividend  \\\n",
       "19780       AM    0.0      24.0      9.0    24.0       9.0        63.584425   \n",
       "19794       AM    0.0      24.0      9.0    24.0       9.0        34.138781   \n",
       "973430      AM    0.0      18.0      4.0    18.0       4.0        27.857952   \n",
       "973432      AM    0.0      18.0      4.0    18.0       4.0        61.099314   \n",
       "1407455     AM  150.0      24.0      4.0    24.0       4.0         6.080569   \n",
       "...        ...    ...       ...      ...     ...       ...              ...   \n",
       "3811286     AM    0.0      24.0      4.0    24.0       4.0        45.364241   \n",
       "3811289     AM    0.0      24.0      4.0    24.0       4.0        52.476784   \n",
       "4712907     AM   10.0      18.0      9.0    18.0       9.0         5.154313   \n",
       "5562351    WAT    0.0      18.0      4.0    18.0       4.0         1.612216   \n",
       "5714316    WAT    0.0      12.0      4.0    12.0       4.0         1.311694   \n",
       "\n",
       "         median_divisor  median_oldest  median_youngest  o_over_y  \n",
       "19780         53.989913      63.584425        53.989913 -0.741014  \n",
       "19794         27.031120      34.138781        27.031120 -1.006915  \n",
       "973430        23.530825      27.857952        23.530825 -0.881801  \n",
       "973432        55.346720      61.099314        55.346720 -0.570564  \n",
       "1407455        5.654156       6.080569         5.654156 -3.860493  \n",
       "...                 ...            ...              ...       ...  \n",
       "3811286       43.472756      45.364241        43.472756 -0.697088  \n",
       "3811289       51.691882      52.476784        51.691882 -0.640096  \n",
       "4712907        4.582718       5.154313         4.582718 -5.467417  \n",
       "5562351        1.218997       1.612216         1.218997 -6.350430  \n",
       "5714316        1.218997       1.311694         1.218997 -6.775411  \n",
       "\n",
       "[88 rows x 16 columns]"
      ]
     },
     "execution_count": 20,
     "metadata": {},
     "output_type": "execute_result"
    }
   ],
   "source": [
    "h[h['o_over_y']<0]"
   ]
  },
  {
   "cell_type": "code",
   "execution_count": 21,
   "metadata": {},
   "outputs": [],
   "source": [
    "f = test_dummy['median_oldest'] < test_dummy['median_youngest']\n",
    "h = test_dummy[f]"
   ]
  },
  {
   "cell_type": "code",
   "execution_count": 22,
   "metadata": {},
   "outputs": [
    {
     "data": {
      "text/plain": [
       "tissue      pfu  \n",
       "AM          0.0       251\n",
       "            10.0        5\n",
       "            150.0     154\n",
       "AT2         0.0       340\n",
       "            10.0       82\n",
       "            150.0      16\n",
       "Adrenal     0.0      1773\n",
       "BAT         0.0       193\n",
       "Blood       0.0        72\n",
       "            10.0      103\n",
       "            150.0     114\n",
       "Brain       0.0         8\n",
       "Cerebellum  0.0         3\n",
       "Esophagus   0.0       179\n",
       "GutEP       0.0       237\n",
       "Heart       0.0        11\n",
       "Kidney      0.0      3934\n",
       "LI          0.0       142\n",
       "Liver       0.0        12\n",
       "Lung        0.0       469\n",
       "            150.0       8\n",
       "MoDC        0.0        23\n",
       "            10.0       10\n",
       "            150.0      52\n",
       "MuscSat     0.0       355\n",
       "SI          0.0       250\n",
       "Skin        0.0        70\n",
       "Stomach     0.0       597\n",
       "WAT         0.0       757\n",
       "dtype: int64"
      ]
     },
     "execution_count": 22,
     "metadata": {},
     "output_type": "execute_result"
    }
   ],
   "source": [
    "h[h['o_over_y']<0].groupby(['tissue', 'pfu']).size()"
   ]
  },
  {
   "cell_type": "code",
   "execution_count": 23,
   "metadata": {},
   "outputs": [
    {
     "data": {
      "text/plain": [
       "tissue  pfu  \n",
       "AM      0.0       17\n",
       "        150.0      2\n",
       "Heart   0.0      130\n",
       "dtype: int64"
      ]
     },
     "execution_count": 23,
     "metadata": {},
     "output_type": "execute_result"
    }
   ],
   "source": [
    "h[h['o_over_y']>0].groupby(['tissue', 'pfu']).size()"
   ]
  },
  {
   "cell_type": "markdown",
   "metadata": {},
   "source": [
    "# Finally: export"
   ]
  },
  {
   "cell_type": "code",
   "execution_count": 24,
   "metadata": {},
   "outputs": [],
   "source": [
    "p = inout.get_internal_path('datasets/tstoeger/200505_pooled_differential_expression_legacy/age_groups.csv.gz')\n",
    "inout.ensure_presence_of_directory(p)\n",
    "df.to_csv(p, compression='gzip', index=False)"
   ]
  },
  {
   "cell_type": "code",
   "execution_count": null,
   "metadata": {},
   "outputs": [],
   "source": []
  },
  {
   "cell_type": "code",
   "execution_count": null,
   "metadata": {},
   "outputs": [],
   "source": []
  },
  {
   "cell_type": "code",
   "execution_count": null,
   "metadata": {},
   "outputs": [],
   "source": []
  }
 ],
 "metadata": {
  "kernelspec": {
   "display_name": "Python 3",
   "language": "python",
   "name": "python3"
  },
  "language_info": {
   "codemirror_mode": {
    "name": "ipython",
    "version": 3
   },
   "file_extension": ".py",
   "mimetype": "text/x-python",
   "name": "python",
   "nbconvert_exporter": "python",
   "pygments_lexer": "ipython3",
   "version": "3.7.3"
  }
 },
 "nbformat": 4,
 "nbformat_minor": 2
}
