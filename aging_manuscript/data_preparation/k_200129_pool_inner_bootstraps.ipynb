{
 "cells": [
  {
   "cell_type": "code",
   "execution_count": 1,
   "metadata": {},
   "outputs": [],
   "source": [
    "%matplotlib inline\n",
    "%reload_ext autoreload\n",
    "%autoreload 2"
   ]
  },
  {
   "cell_type": "code",
   "execution_count": 2,
   "metadata": {},
   "outputs": [],
   "source": [
    "import matplotlib as mpl\n",
    "mpl.rcParams['pdf.fonttype'] = 42\n",
    "mpl.rcParams['font.family'] = 'Arial'"
   ]
  },
  {
   "cell_type": "code",
   "execution_count": 3,
   "metadata": {},
   "outputs": [],
   "source": [
    "import glob\n",
    "import os\n",
    "import random\n",
    "import sys\n",
    "\n",
    "src_dir = './../src/'\n",
    "sys.path[0] = src_dir\n",
    "\n",
    "import numpy as np\n",
    "import pandas as pd\n",
    "import seaborn as sns\n",
    "import matplotlib.pyplot as plt\n",
    "\n",
    "from copy import deepcopy\n",
    "from scipy.stats import spearmanr\n",
    "\n",
    "from access_biology_data import meta\n",
    "from aging_tools import inout"
   ]
  },
  {
   "cell_type": "code",
   "execution_count": 4,
   "metadata": {},
   "outputs": [
    {
     "data": {
      "text/html": [
       "<style>.container { width:100% !important; }</style>"
      ],
      "text/plain": [
       "<IPython.core.display.HTML object>"
      ]
     },
     "metadata": {},
     "output_type": "display_data"
    }
   ],
   "source": [
    "from IPython.core.display import display, HTML\n",
    "display(HTML(\"<style>.container { width:100% !important; }</style>\"))"
   ]
  },
  {
   "cell_type": "code",
   "execution_count": 5,
   "metadata": {},
   "outputs": [],
   "source": [
    "sys.path.append('./../src/')\n",
    "from aging_tools import inout, export\n",
    "from access_aging_data import chaperome, earlier_studies, companions, sequencing\n",
    "from access_biology_data import annotation, relations"
   ]
  },
  {
   "cell_type": "code",
   "execution_count": 6,
   "metadata": {},
   "outputs": [],
   "source": [
    "# Get aging expression data, filter, and map to ncbi\n",
    "df_counts, df_meta, df_genes = sequencing.load_cached_aging_map(\n",
    "    dataset_name='aging_map_tmm_180105',\n",
    "    unambiguous_to_entrez=True,\n",
    "    as_entrez=True\n",
    ")"
   ]
  },
  {
   "cell_type": "code",
   "execution_count": 7,
   "metadata": {},
   "outputs": [],
   "source": [
    "p = inout.get_internal_path(\n",
    "    'dynamic/tstoeger/200129_inner_bootstrap/DE/Flu/*.csv')\n",
    "d = glob.glob(p)\n",
    "\n",
    "files_to_process = pd.DataFrame(columns=['path'], data = d)\n",
    "files_to_process['base_name'] = files_to_process['path'].str.extract('.*/(.*).csv', expand=False)"
   ]
  },
  {
   "cell_type": "code",
   "execution_count": 8,
   "metadata": {},
   "outputs": [],
   "source": [
    "tags = ['tissue', 'pfu', 'age', 'animals']\n",
    "files_to_process[tags] = \\\n",
    "    files_to_process['base_name'].str.extract(\n",
    "    '^(.*)_pfu_([0-9]+)_age_([0-9]+)_first_([0-9\\-]+)_DE', expand=False)\n",
    "\n",
    "files_to_process = files_to_process.set_index('base_name', verify_integrity=True)\n",
    "\n",
    "agg = []\n",
    "for j, v in files_to_process.iterrows():\n",
    "    \n",
    "    df = pd.read_csv(v['path'], usecols=['Symbol', 'log2FoldChange', 'pvalue', 'padj'])\n",
    "\n",
    "    for tag in tags:\n",
    "        df.loc[:, tag] = v[tag]\n",
    "\n",
    "    agg.append(df)"
   ]
  },
  {
   "cell_type": "code",
   "execution_count": 9,
   "metadata": {},
   "outputs": [],
   "source": [
    "df = pd.concat(agg, axis=0)\n",
    "df = df.rename(columns={'Symbol': 'gene_ensembl'})\n"
   ]
  },
  {
   "cell_type": "code",
   "execution_count": 10,
   "metadata": {},
   "outputs": [],
   "source": [
    "# Add ncbi gene IDs\n",
    "df = pd.merge(\n",
    "    df,\n",
    "    df_genes[['gene_ensembl', 'gene_ncbi']], how='left').set_index('gene_ncbi').reset_index()"
   ]
  },
  {
   "cell_type": "markdown",
   "metadata": {},
   "source": [
    "# Finally: export"
   ]
  },
  {
   "cell_type": "code",
   "execution_count": 11,
   "metadata": {},
   "outputs": [],
   "source": [
    "df = df.rename(columns={'log2FoldChange': 'o_over_y'})"
   ]
  },
  {
   "cell_type": "code",
   "execution_count": 12,
   "metadata": {},
   "outputs": [],
   "source": [
    "p = inout.get_internal_path('datasets/tstoeger/200129_pool_inner_bootstraps/age_groups.csv.gz')\n",
    "inout.ensure_presence_of_directory(p)\n",
    "df.to_csv(p, compression='gzip', index=False)"
   ]
  },
  {
   "cell_type": "code",
   "execution_count": null,
   "metadata": {},
   "outputs": [],
   "source": []
  },
  {
   "cell_type": "code",
   "execution_count": null,
   "metadata": {},
   "outputs": [],
   "source": []
  }
 ],
 "metadata": {
  "kernelspec": {
   "display_name": "Python 3",
   "language": "python",
   "name": "python3"
  },
  "language_info": {
   "codemirror_mode": {
    "name": "ipython",
    "version": 3
   },
   "file_extension": ".py",
   "mimetype": "text/x-python",
   "name": "python",
   "nbconvert_exporter": "python",
   "pygments_lexer": "ipython3",
   "version": "3.7.3"
  }
 },
 "nbformat": 4,
 "nbformat_minor": 2
}
