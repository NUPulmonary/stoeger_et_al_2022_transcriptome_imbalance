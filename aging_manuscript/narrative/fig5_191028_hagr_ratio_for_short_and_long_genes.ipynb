{
 "cells": [
  {
   "cell_type": "code",
   "execution_count": 1,
   "metadata": {},
   "outputs": [],
   "source": [
    "%matplotlib inline \n",
    "%reload_ext autoreload\n",
    "%autoreload 2"
   ]
  },
  {
   "cell_type": "code",
   "execution_count": 2,
   "metadata": {},
   "outputs": [],
   "source": [
    "import matplotlib as mpl\n",
    "mpl.rcParams['pdf.fonttype'] = 42\n",
    "mpl.rcParams['font.family'] = 'Arial'"
   ]
  },
  {
   "cell_type": "code",
   "execution_count": 3,
   "metadata": {},
   "outputs": [],
   "source": [
    "import os\n",
    "\n",
    "import numpy as np\n",
    "import pandas as pd\n",
    "import seaborn as sns\n",
    "\n",
    "import matplotlib.pyplot as plt\n",
    "\n",
    "from scipy.stats import spearmanr"
   ]
  },
  {
   "cell_type": "code",
   "execution_count": 4,
   "metadata": {},
   "outputs": [],
   "source": [
    "from access_biology_data import meta, relations, annotation, properties\n",
    "from access_literature_data import medline\n",
    "from access_science_shared import standardizer\n",
    "\n",
    "import sys\n",
    "sys.path.append('./../src/')\n",
    "from aging_tools import inout, export, calculators\n",
    "from access_aging_data import chaperome, earlier_studies, sequencing\n"
   ]
  },
  {
   "cell_type": "code",
   "execution_count": 5,
   "metadata": {},
   "outputs": [],
   "source": [
    "import matplotlib\n",
    "matplotlib.rcParams.update({'font.size': 10})"
   ]
  },
  {
   "cell_type": "code",
   "execution_count": 6,
   "metadata": {},
   "outputs": [],
   "source": [
    "outfolder = '191028_hagr_ratio_for_short_and_long_genes'\n",
    "mode = 'validated_RNA'\n",
    "percentages = 10"
   ]
  },
  {
   "cell_type": "code",
   "execution_count": null,
   "metadata": {},
   "outputs": [],
   "source": []
  },
  {
   "cell_type": "code",
   "execution_count": 7,
   "metadata": {},
   "outputs": [],
   "source": [
    "save_images = True"
   ]
  },
  {
   "cell_type": "code",
   "execution_count": 8,
   "metadata": {},
   "outputs": [],
   "source": [
    "quanta = 0.01 * percentages\n",
    "\n",
    "agg = []\n",
    "for taxon_id in [9606, 10090]:\n",
    "\n",
    "    ref_genes = standardizer.reference_genes(taxon_id, 'orp')  # only consider supported protein coding-genes\n",
    "\n",
    "    if mode == 'validated_RNA':\n",
    "        pr = properties.genbank_validated_rna(taxon_id)[['gene_ncbi', 'Genbank_validated_RNA: full_SumACGT']].rename(columns={\n",
    "            'Genbank_validated_RNA: full_SumACGT': 'length'\n",
    "        })\n",
    "    elif mode == 'gene':\n",
    "        pr = properties.genbank_gene(taxon_id)[['gene_ncbi', 'Genbank__gene: SumACGT']].rename(columns={\n",
    "                'Genbank__gene: SumACGT': 'length'\n",
    "            })\n",
    "    else:\n",
    "        raise AssertionError('Something wrong')\n",
    "    pr.loc[:, 'log_length'] = np.log10(pr['length'])\n",
    "    pr = pr[pr['gene_ncbi'].isin(ref_genes)]\n",
    "    pr.loc[:, 'rank'] = pr['length'].rank(pct=True)\n",
    "\n",
    "\n",
    "\n",
    "\n",
    "    painter = []\n",
    "    hagr = earlier_studies.hagr_mapped_summary(taxon_id)\n",
    "\n",
    "    mutant = hagr[hagr['influence'].isin(['anti_longevity'])]\n",
    "    painter_patch = mutant[['gene_ncbi']].reset_index(drop=True)\n",
    "    painter_patch.loc[:, 'annotation'] = 'anti_longevity'\n",
    "    painter.append(painter_patch)\n",
    "\n",
    "    mutant = hagr[hagr['influence'].isin(['pro_longevity'])]\n",
    "    painter_patch = mutant[['gene_ncbi']].reset_index(drop=True)\n",
    "    painter_patch.loc[:, 'annotation'] = 'pro_longevity'\n",
    "    painter.append(painter_patch)\n",
    "\n",
    "    painter = pd.concat(painter)\n",
    "\n",
    "    background = pr['gene_ncbi']\n",
    "\n",
    "    a = calculators.functional_ratio(\n",
    "            significant_genes= pr[pr['rank']<quanta]['gene_ncbi'],\n",
    "            background=background,\n",
    "            painter=painter,\n",
    "            test='difference')\n",
    "    a.loc[:, 'taxon_id'] = taxon_id\n",
    "    a.loc[:, 'genes'] = 'shortest'\n",
    "    agg.append(a)\n",
    "    \n",
    "    a = calculators.functional_ratio(\n",
    "            significant_genes= pr[pr['rank']>(1-quanta)]['gene_ncbi'],\n",
    "            background=background,\n",
    "            painter=painter,\n",
    "            test='difference')\n",
    "    \n",
    "    a.loc[:, 'taxon_id'] = taxon_id\n",
    "    a.loc[:, 'genes'] = 'longest'\n",
    "    agg.append(a)"
   ]
  },
  {
   "cell_type": "code",
   "execution_count": 9,
   "metadata": {},
   "outputs": [],
   "source": [
    "h = pd.concat(agg)"
   ]
  },
  {
   "cell_type": "code",
   "execution_count": 10,
   "metadata": {},
   "outputs": [],
   "source": [
    "h = h.reset_index()"
   ]
  },
  {
   "cell_type": "code",
   "execution_count": 11,
   "metadata": {},
   "outputs": [
    {
     "data": {
      "text/html": [
       "<div>\n",
       "<style scoped>\n",
       "    .dataframe tbody tr th:only-of-type {\n",
       "        vertical-align: middle;\n",
       "    }\n",
       "\n",
       "    .dataframe tbody tr th {\n",
       "        vertical-align: top;\n",
       "    }\n",
       "\n",
       "    .dataframe thead th {\n",
       "        text-align: right;\n",
       "    }\n",
       "</style>\n",
       "<table border=\"1\" class=\"dataframe\">\n",
       "  <thead>\n",
       "    <tr style=\"text-align: right;\">\n",
       "      <th></th>\n",
       "      <th>annotation</th>\n",
       "      <th>fold_enrichment</th>\n",
       "      <th>pvalue</th>\n",
       "      <th>bonferroni</th>\n",
       "      <th>benjamini_hochberg</th>\n",
       "      <th>in_significant</th>\n",
       "      <th>in_background</th>\n",
       "      <th>taxon_id</th>\n",
       "      <th>genes</th>\n",
       "    </tr>\n",
       "  </thead>\n",
       "  <tbody>\n",
       "    <tr>\n",
       "      <th>2</th>\n",
       "      <td>anti_longevity</td>\n",
       "      <td>-0.468542</td>\n",
       "      <td>0.00291178</td>\n",
       "      <td>0.00582356</td>\n",
       "      <td>0.00582356</td>\n",
       "      <td>30</td>\n",
       "      <td>417</td>\n",
       "      <td>9606</td>\n",
       "      <td>longest</td>\n",
       "    </tr>\n",
       "    <tr>\n",
       "      <th>3</th>\n",
       "      <td>pro_longevity</td>\n",
       "      <td>0.477228</td>\n",
       "      <td>0.00782373</td>\n",
       "      <td>0.0156475</td>\n",
       "      <td>0.00782373</td>\n",
       "      <td>37</td>\n",
       "      <td>267</td>\n",
       "      <td>9606</td>\n",
       "      <td>longest</td>\n",
       "    </tr>\n",
       "    <tr>\n",
       "      <th>6</th>\n",
       "      <td>anti_longevity</td>\n",
       "      <td>-0.413904</td>\n",
       "      <td>0.0138227</td>\n",
       "      <td>0.0276454</td>\n",
       "      <td>0.0220079</td>\n",
       "      <td>27</td>\n",
       "      <td>307</td>\n",
       "      <td>10090</td>\n",
       "      <td>longest</td>\n",
       "    </tr>\n",
       "    <tr>\n",
       "      <th>7</th>\n",
       "      <td>pro_longevity</td>\n",
       "      <td>0.449448</td>\n",
       "      <td>0.0220079</td>\n",
       "      <td>0.0440157</td>\n",
       "      <td>0.0220079</td>\n",
       "      <td>32</td>\n",
       "      <td>200</td>\n",
       "      <td>10090</td>\n",
       "      <td>longest</td>\n",
       "    </tr>\n",
       "  </tbody>\n",
       "</table>\n",
       "</div>"
      ],
      "text/plain": [
       "       annotation fold_enrichment      pvalue  bonferroni benjamini_hochberg  \\\n",
       "2  anti_longevity       -0.468542  0.00291178  0.00582356         0.00582356   \n",
       "3   pro_longevity        0.477228  0.00782373   0.0156475         0.00782373   \n",
       "6  anti_longevity       -0.413904   0.0138227   0.0276454          0.0220079   \n",
       "7   pro_longevity        0.449448   0.0220079   0.0440157          0.0220079   \n",
       "\n",
       "  in_significant in_background  taxon_id    genes  \n",
       "2             30           417      9606  longest  \n",
       "3             37           267      9606  longest  \n",
       "6             27           307     10090  longest  \n",
       "7             32           200     10090  longest  "
      ]
     },
     "execution_count": 11,
     "metadata": {},
     "output_type": "execute_result"
    }
   ],
   "source": [
    "h[h['genes']=='longest']"
   ]
  },
  {
   "cell_type": "code",
   "execution_count": 12,
   "metadata": {},
   "outputs": [
    {
     "data": {
      "text/html": [
       "<div>\n",
       "<style scoped>\n",
       "    .dataframe tbody tr th:only-of-type {\n",
       "        vertical-align: middle;\n",
       "    }\n",
       "\n",
       "    .dataframe tbody tr th {\n",
       "        vertical-align: top;\n",
       "    }\n",
       "\n",
       "    .dataframe thead th {\n",
       "        text-align: right;\n",
       "    }\n",
       "</style>\n",
       "<table border=\"1\" class=\"dataframe\">\n",
       "  <thead>\n",
       "    <tr style=\"text-align: right;\">\n",
       "      <th></th>\n",
       "      <th>annotation</th>\n",
       "      <th>fold_enrichment</th>\n",
       "      <th>pvalue</th>\n",
       "      <th>bonferroni</th>\n",
       "      <th>benjamini_hochberg</th>\n",
       "      <th>in_significant</th>\n",
       "      <th>in_background</th>\n",
       "      <th>taxon_id</th>\n",
       "      <th>genes</th>\n",
       "    </tr>\n",
       "  </thead>\n",
       "  <tbody>\n",
       "    <tr>\n",
       "      <th>2</th>\n",
       "      <td>anti_longevity</td>\n",
       "      <td>-0.468542</td>\n",
       "      <td>0.00291178</td>\n",
       "      <td>0.00582356</td>\n",
       "      <td>0.00582356</td>\n",
       "      <td>30</td>\n",
       "      <td>417</td>\n",
       "      <td>9606</td>\n",
       "      <td>longest</td>\n",
       "    </tr>\n",
       "    <tr>\n",
       "      <th>3</th>\n",
       "      <td>pro_longevity</td>\n",
       "      <td>0.477228</td>\n",
       "      <td>0.00782373</td>\n",
       "      <td>0.0156475</td>\n",
       "      <td>0.00782373</td>\n",
       "      <td>37</td>\n",
       "      <td>267</td>\n",
       "      <td>9606</td>\n",
       "      <td>longest</td>\n",
       "    </tr>\n",
       "    <tr>\n",
       "      <th>6</th>\n",
       "      <td>anti_longevity</td>\n",
       "      <td>-0.413904</td>\n",
       "      <td>0.0138227</td>\n",
       "      <td>0.0276454</td>\n",
       "      <td>0.0220079</td>\n",
       "      <td>27</td>\n",
       "      <td>307</td>\n",
       "      <td>10090</td>\n",
       "      <td>longest</td>\n",
       "    </tr>\n",
       "    <tr>\n",
       "      <th>7</th>\n",
       "      <td>pro_longevity</td>\n",
       "      <td>0.449448</td>\n",
       "      <td>0.0220079</td>\n",
       "      <td>0.0440157</td>\n",
       "      <td>0.0220079</td>\n",
       "      <td>32</td>\n",
       "      <td>200</td>\n",
       "      <td>10090</td>\n",
       "      <td>longest</td>\n",
       "    </tr>\n",
       "  </tbody>\n",
       "</table>\n",
       "</div>"
      ],
      "text/plain": [
       "       annotation fold_enrichment      pvalue  bonferroni benjamini_hochberg  \\\n",
       "2  anti_longevity       -0.468542  0.00291178  0.00582356         0.00582356   \n",
       "3   pro_longevity        0.477228  0.00782373   0.0156475         0.00782373   \n",
       "6  anti_longevity       -0.413904   0.0138227   0.0276454          0.0220079   \n",
       "7   pro_longevity        0.449448   0.0220079   0.0440157          0.0220079   \n",
       "\n",
       "  in_significant in_background  taxon_id    genes  \n",
       "2             30           417      9606  longest  \n",
       "3             37           267      9606  longest  \n",
       "6             27           307     10090  longest  \n",
       "7             32           200     10090  longest  "
      ]
     },
     "execution_count": 12,
     "metadata": {},
     "output_type": "execute_result"
    }
   ],
   "source": [
    "h[h['genes']=='longest']"
   ]
  },
  {
   "cell_type": "code",
   "execution_count": null,
   "metadata": {},
   "outputs": [],
   "source": []
  },
  {
   "cell_type": "code",
   "execution_count": null,
   "metadata": {},
   "outputs": [],
   "source": []
  },
  {
   "cell_type": "code",
   "execution_count": 13,
   "metadata": {},
   "outputs": [
    {
     "data": {
      "text/plain": [
       "0    0.414389\n",
       "1    -1.07485\n",
       "4    0.357984\n",
       "5   -0.808049\n",
       "Name: fold_enrichment, dtype: object"
      ]
     },
     "execution_count": 13,
     "metadata": {},
     "output_type": "execute_result"
    }
   ],
   "source": [
    "h[h['genes']=='shortest']['fold_enrichment']"
   ]
  },
  {
   "cell_type": "code",
   "execution_count": 14,
   "metadata": {},
   "outputs": [],
   "source": [
    "h.loc[:, 'joined_label'] = h.loc[:, 'genes'] + '_' + h.loc[:, 'annotation']"
   ]
  },
  {
   "cell_type": "code",
   "execution_count": 15,
   "metadata": {},
   "outputs": [],
   "source": [
    "h = h.sort_values(['genes', 'annotation'])"
   ]
  },
  {
   "cell_type": "code",
   "execution_count": 16,
   "metadata": {},
   "outputs": [],
   "source": [
    "if save_images:\n",
    "    export.export_full_frame(\n",
    "        '{}/{}_{}_stats.csv'.format(outfolder, mode, percentages),\n",
    "        h,\n",
    "        save_index=False\n",
    "    )"
   ]
  },
  {
   "cell_type": "code",
   "execution_count": null,
   "metadata": {},
   "outputs": [],
   "source": []
  },
  {
   "cell_type": "code",
   "execution_count": 17,
   "metadata": {},
   "outputs": [
    {
     "data": {
      "image/png": "[encoded data removed]",
      "text/plain": [
       "<Figure size 432x288 with 1 Axes>"
      ]
     },
     "metadata": {
      "needs_background": "light"
     },
     "output_type": "display_data"
    }
   ],
   "source": [
    "f = h['taxon_id']==9606\n",
    "v = h[f]['fold_enrichment']\n",
    "l = h[f]['joined_label']\n",
    "plt.barh(l, v, align='center', alpha=0.5)\n",
    "\n",
    "if save_images:\n",
    "    export.export_image(\n",
    "        '{}/{}_{}_human.pdf'.format(outfolder, mode, percentages)\n",
    "    )"
   ]
  },
  {
   "cell_type": "code",
   "execution_count": 18,
   "metadata": {},
   "outputs": [
    {
     "data": {
      "text/html": [
       "<div>\n",
       "<style scoped>\n",
       "    .dataframe tbody tr th:only-of-type {\n",
       "        vertical-align: middle;\n",
       "    }\n",
       "\n",
       "    .dataframe tbody tr th {\n",
       "        vertical-align: top;\n",
       "    }\n",
       "\n",
       "    .dataframe thead th {\n",
       "        text-align: right;\n",
       "    }\n",
       "</style>\n",
       "<table border=\"1\" class=\"dataframe\">\n",
       "  <thead>\n",
       "    <tr style=\"text-align: right;\">\n",
       "      <th></th>\n",
       "      <th>annotation</th>\n",
       "      <th>fold_enrichment</th>\n",
       "      <th>pvalue</th>\n",
       "      <th>bonferroni</th>\n",
       "      <th>benjamini_hochberg</th>\n",
       "      <th>in_significant</th>\n",
       "      <th>in_background</th>\n",
       "      <th>taxon_id</th>\n",
       "      <th>genes</th>\n",
       "      <th>joined_label</th>\n",
       "    </tr>\n",
       "  </thead>\n",
       "  <tbody>\n",
       "    <tr>\n",
       "      <th>2</th>\n",
       "      <td>anti_longevity</td>\n",
       "      <td>-0.468542</td>\n",
       "      <td>0.00291178</td>\n",
       "      <td>0.00582356</td>\n",
       "      <td>0.00582356</td>\n",
       "      <td>30</td>\n",
       "      <td>417</td>\n",
       "      <td>9606</td>\n",
       "      <td>longest</td>\n",
       "      <td>longest_anti_longevity</td>\n",
       "    </tr>\n",
       "    <tr>\n",
       "      <th>3</th>\n",
       "      <td>pro_longevity</td>\n",
       "      <td>0.477228</td>\n",
       "      <td>0.00782373</td>\n",
       "      <td>0.0156475</td>\n",
       "      <td>0.00782373</td>\n",
       "      <td>37</td>\n",
       "      <td>267</td>\n",
       "      <td>9606</td>\n",
       "      <td>longest</td>\n",
       "      <td>longest_pro_longevity</td>\n",
       "    </tr>\n",
       "    <tr>\n",
       "      <th>0</th>\n",
       "      <td>anti_longevity</td>\n",
       "      <td>0.414389</td>\n",
       "      <td>0.000101108</td>\n",
       "      <td>0.000202216</td>\n",
       "      <td>0.000128929</td>\n",
       "      <td>57</td>\n",
       "      <td>417</td>\n",
       "      <td>9606</td>\n",
       "      <td>shortest</td>\n",
       "      <td>shortest_anti_longevity</td>\n",
       "    </tr>\n",
       "    <tr>\n",
       "      <th>1</th>\n",
       "      <td>pro_longevity</td>\n",
       "      <td>-1.07485</td>\n",
       "      <td>0.000128929</td>\n",
       "      <td>0.000257858</td>\n",
       "      <td>0.000128929</td>\n",
       "      <td>13</td>\n",
       "      <td>267</td>\n",
       "      <td>9606</td>\n",
       "      <td>shortest</td>\n",
       "      <td>shortest_pro_longevity</td>\n",
       "    </tr>\n",
       "  </tbody>\n",
       "</table>\n",
       "</div>"
      ],
      "text/plain": [
       "       annotation fold_enrichment       pvalue   bonferroni  \\\n",
       "2  anti_longevity       -0.468542   0.00291178   0.00582356   \n",
       "3   pro_longevity        0.477228   0.00782373    0.0156475   \n",
       "0  anti_longevity        0.414389  0.000101108  0.000202216   \n",
       "1   pro_longevity        -1.07485  0.000128929  0.000257858   \n",
       "\n",
       "  benjamini_hochberg in_significant in_background  taxon_id     genes  \\\n",
       "2         0.00582356             30           417      9606   longest   \n",
       "3         0.00782373             37           267      9606   longest   \n",
       "0        0.000128929             57           417      9606  shortest   \n",
       "1        0.000128929             13           267      9606  shortest   \n",
       "\n",
       "              joined_label  \n",
       "2   longest_anti_longevity  \n",
       "3    longest_pro_longevity  \n",
       "0  shortest_anti_longevity  \n",
       "1   shortest_pro_longevity  "
      ]
     },
     "execution_count": 18,
     "metadata": {},
     "output_type": "execute_result"
    }
   ],
   "source": [
    "h[f]"
   ]
  },
  {
   "cell_type": "code",
   "execution_count": null,
   "metadata": {},
   "outputs": [],
   "source": []
  },
  {
   "cell_type": "code",
   "execution_count": null,
   "metadata": {},
   "outputs": [],
   "source": []
  },
  {
   "cell_type": "code",
   "execution_count": 19,
   "metadata": {},
   "outputs": [
    {
     "data": {
      "image/png": "[encoded data removed]",
      "text/plain": [
       "<Figure size 432x288 with 1 Axes>"
      ]
     },
     "metadata": {
      "needs_background": "light"
     },
     "output_type": "display_data"
    }
   ],
   "source": [
    "f = h['taxon_id']==10090\n",
    "v = h[f]['fold_enrichment']\n",
    "l = h[f]['joined_label']\n",
    "plt.barh(l, v, align='center', alpha=0.5)\n",
    "\n",
    "if save_images:\n",
    "    export.export_image(\n",
    "        '{}/{}_{}_mouse.pdf'.format(outfolder, mode, percentages)\n",
    "    )"
   ]
  },
  {
   "cell_type": "code",
   "execution_count": 20,
   "metadata": {},
   "outputs": [
    {
     "data": {
      "text/html": [
       "<div>\n",
       "<style scoped>\n",
       "    .dataframe tbody tr th:only-of-type {\n",
       "        vertical-align: middle;\n",
       "    }\n",
       "\n",
       "    .dataframe tbody tr th {\n",
       "        vertical-align: top;\n",
       "    }\n",
       "\n",
       "    .dataframe thead th {\n",
       "        text-align: right;\n",
       "    }\n",
       "</style>\n",
       "<table border=\"1\" class=\"dataframe\">\n",
       "  <thead>\n",
       "    <tr style=\"text-align: right;\">\n",
       "      <th></th>\n",
       "      <th>annotation</th>\n",
       "      <th>fold_enrichment</th>\n",
       "      <th>pvalue</th>\n",
       "      <th>bonferroni</th>\n",
       "      <th>benjamini_hochberg</th>\n",
       "      <th>in_significant</th>\n",
       "      <th>in_background</th>\n",
       "      <th>taxon_id</th>\n",
       "      <th>genes</th>\n",
       "      <th>joined_label</th>\n",
       "    </tr>\n",
       "  </thead>\n",
       "  <tbody>\n",
       "    <tr>\n",
       "      <th>6</th>\n",
       "      <td>anti_longevity</td>\n",
       "      <td>-0.413904</td>\n",
       "      <td>0.0138227</td>\n",
       "      <td>0.0276454</td>\n",
       "      <td>0.0220079</td>\n",
       "      <td>27</td>\n",
       "      <td>307</td>\n",
       "      <td>10090</td>\n",
       "      <td>longest</td>\n",
       "      <td>longest_anti_longevity</td>\n",
       "    </tr>\n",
       "    <tr>\n",
       "      <th>7</th>\n",
       "      <td>pro_longevity</td>\n",
       "      <td>0.449448</td>\n",
       "      <td>0.0220079</td>\n",
       "      <td>0.0440157</td>\n",
       "      <td>0.0220079</td>\n",
       "      <td>32</td>\n",
       "      <td>200</td>\n",
       "      <td>10090</td>\n",
       "      <td>longest</td>\n",
       "      <td>longest_pro_longevity</td>\n",
       "    </tr>\n",
       "    <tr>\n",
       "      <th>4</th>\n",
       "      <td>anti_longevity</td>\n",
       "      <td>0.357984</td>\n",
       "      <td>0.0243543</td>\n",
       "      <td>0.0487086</td>\n",
       "      <td>0.0262428</td>\n",
       "      <td>31</td>\n",
       "      <td>307</td>\n",
       "      <td>10090</td>\n",
       "      <td>shortest</td>\n",
       "      <td>shortest_anti_longevity</td>\n",
       "    </tr>\n",
       "    <tr>\n",
       "      <th>5</th>\n",
       "      <td>pro_longevity</td>\n",
       "      <td>-0.808049</td>\n",
       "      <td>0.0262428</td>\n",
       "      <td>0.0524857</td>\n",
       "      <td>0.0262428</td>\n",
       "      <td>9</td>\n",
       "      <td>200</td>\n",
       "      <td>10090</td>\n",
       "      <td>shortest</td>\n",
       "      <td>shortest_pro_longevity</td>\n",
       "    </tr>\n",
       "  </tbody>\n",
       "</table>\n",
       "</div>"
      ],
      "text/plain": [
       "       annotation fold_enrichment     pvalue bonferroni benjamini_hochberg  \\\n",
       "6  anti_longevity       -0.413904  0.0138227  0.0276454          0.0220079   \n",
       "7   pro_longevity        0.449448  0.0220079  0.0440157          0.0220079   \n",
       "4  anti_longevity        0.357984  0.0243543  0.0487086          0.0262428   \n",
       "5   pro_longevity       -0.808049  0.0262428  0.0524857          0.0262428   \n",
       "\n",
       "  in_significant in_background  taxon_id     genes             joined_label  \n",
       "6             27           307     10090   longest   longest_anti_longevity  \n",
       "7             32           200     10090   longest    longest_pro_longevity  \n",
       "4             31           307     10090  shortest  shortest_anti_longevity  \n",
       "5              9           200     10090  shortest   shortest_pro_longevity  "
      ]
     },
     "execution_count": 20,
     "metadata": {},
     "output_type": "execute_result"
    }
   ],
   "source": [
    "h[f]"
   ]
  },
  {
   "cell_type": "code",
   "execution_count": null,
   "metadata": {},
   "outputs": [],
   "source": []
  },
  {
   "cell_type": "code",
   "execution_count": null,
   "metadata": {},
   "outputs": [],
   "source": []
  },
  {
   "cell_type": "code",
   "execution_count": null,
   "metadata": {},
   "outputs": [],
   "source": []
  },
  {
   "cell_type": "code",
   "execution_count": null,
   "metadata": {},
   "outputs": [],
   "source": []
  },
  {
   "cell_type": "code",
   "execution_count": null,
   "metadata": {},
   "outputs": [],
   "source": []
  }
 ],
 "metadata": {
  "kernelspec": {
   "display_name": "Python 3",
   "language": "python",
   "name": "python3"
  },
  "language_info": {
   "codemirror_mode": {
    "name": "ipython",
    "version": 3
   },
   "file_extension": ".py",
   "mimetype": "text/x-python",
   "name": "python",
   "nbconvert_exporter": "python",
   "pygments_lexer": "ipython3",
   "version": "3.7.3"
  }
 },
 "nbformat": 4,
 "nbformat_minor": 2
}
