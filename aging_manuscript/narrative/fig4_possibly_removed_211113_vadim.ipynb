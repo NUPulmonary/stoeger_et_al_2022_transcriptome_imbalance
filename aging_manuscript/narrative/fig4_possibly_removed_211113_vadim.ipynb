{
 "cells": [
  {
   "cell_type": "code",
   "execution_count": 1,
   "metadata": {},
   "outputs": [],
   "source": [
    "%matplotlib inline\n",
    "%reload_ext autoreload\n",
    "%autoreload 2"
   ]
  },
  {
   "cell_type": "code",
   "execution_count": 2,
   "metadata": {},
   "outputs": [],
   "source": [
    "import matplotlib as mpl\n",
    "mpl.rcParams['pdf.fonttype'] = 42\n",
    "mpl.rcParams['font.family'] = 'Arial'"
   ]
  },
  {
   "cell_type": "code",
   "execution_count": 3,
   "metadata": {},
   "outputs": [],
   "source": [
    "import os\n",
    "import sys\n",
    "\n",
    "src_dir = './../../src/'\n",
    "sys.path[0] = src_dir\n",
    "\n",
    "import matplotlib.pyplot as plt\n",
    "\n",
    "\n",
    "import numpy as np\n",
    "import pandas as pd\n",
    "import seaborn as sns\n",
    "\n",
    "\n",
    "from access_biology_data import properties, annotation\n",
    "from access_science_shared import standardizer "
   ]
  },
  {
   "cell_type": "code",
   "execution_count": 4,
   "metadata": {},
   "outputs": [],
   "source": [
    "sys.path.append('./../src/')\n",
    "from aging_tools import inout, export\n",
    "\n",
    "from access_science_shared import standardizer, utils"
   ]
  },
  {
   "cell_type": "code",
   "execution_count": 5,
   "metadata": {},
   "outputs": [],
   "source": [
    "from scipy.stats import spearmanr\n",
    "\n"
   ]
  },
  {
   "cell_type": "code",
   "execution_count": 6,
   "metadata": {},
   "outputs": [],
   "source": [
    "from scipy.stats import mannwhitneyu"
   ]
  },
  {
   "cell_type": "code",
   "execution_count": 7,
   "metadata": {},
   "outputs": [],
   "source": [
    "from scipy.stats import spearmanr\n",
    "from natsort import natsorted"
   ]
  },
  {
   "cell_type": "code",
   "execution_count": 8,
   "metadata": {},
   "outputs": [],
   "source": [
    "save_images = False"
   ]
  },
  {
   "cell_type": "code",
   "execution_count": 9,
   "metadata": {},
   "outputs": [],
   "source": [
    "outfolder = '211113_vadim'"
   ]
  },
  {
   "cell_type": "code",
   "execution_count": 10,
   "metadata": {},
   "outputs": [
    {
     "name": "stderr",
     "output_type": "stream",
     "text": [
      "/Users/tstoeger/opt/miniconda3/envs/aging/lib/python3.7/site-packages/fastparquet/dataframe.py:5: FutureWarning: pandas.core.index is deprecated and will be removed in a future version.  The public classes are available in the top-level namespace.\n",
      "  from pandas.core.index import CategoricalIndex, RangeIndex, Index, MultiIndex\n"
     ]
    }
   ],
   "source": [
    "ref_genes = standardizer.reference_genes(10090, 'orp')\n",
    "\n",
    "pr = properties.genbank_validated_rna(10090)[\n",
    "    ['gene_ncbi', 'Genbank_validated_RNA: full_SumACGT']\n",
    "].rename(columns={\n",
    "    'Genbank_validated_RNA: full_SumACGT': 'length'\n",
    "})\n",
    "\n",
    "pr.loc[:, 'log_length'] = np.log10(pr['length'])\n",
    "pr = pr[pr['gene_ncbi'].isin(ref_genes)]"
   ]
  },
  {
   "cell_type": "code",
   "execution_count": 11,
   "metadata": {},
   "outputs": [],
   "source": [
    "sys.path.append('./../../../prepare_gustav/src')"
   ]
  },
  {
   "cell_type": "code",
   "execution_count": 12,
   "metadata": {},
   "outputs": [],
   "source": [
    "# from gustav import mapper"
   ]
  },
  {
   "cell_type": "code",
   "execution_count": 13,
   "metadata": {},
   "outputs": [],
   "source": [
    "ref_genes = standardizer.reference_genes(10090, 'orp')\n"
   ]
  },
  {
   "cell_type": "code",
   "execution_count": 14,
   "metadata": {},
   "outputs": [],
   "source": [
    "from gustav import mapper"
   ]
  },
  {
   "cell_type": "code",
   "execution_count": null,
   "metadata": {},
   "outputs": [],
   "source": []
  },
  {
   "cell_type": "code",
   "execution_count": null,
   "metadata": {},
   "outputs": [],
   "source": []
  },
  {
   "cell_type": "markdown",
   "metadata": {},
   "source": [
    "# Myc loss"
   ]
  },
  {
   "cell_type": "code",
   "execution_count": 31,
   "metadata": {},
   "outputs": [],
   "source": [
    "p = '/Users/tstoeger/Dropbox/aging_map_paper/datasets/general/resources/publications/hofmann_2015/NIHMS649288-supplement-11.xlsx'"
   ]
  },
  {
   "cell_type": "code",
   "execution_count": 32,
   "metadata": {},
   "outputs": [],
   "source": [
    "df = pd.read_excel(p).dropna(subset=['ID']).rename(columns={'ID': 'gene_ncbi'})"
   ]
  },
  {
   "cell_type": "code",
   "execution_count": 33,
   "metadata": {},
   "outputs": [],
   "source": [
    "df = df.drop(columns=['Symbol', 'Name']).set_index('gene_ncbi').stack()"
   ]
  },
  {
   "cell_type": "code",
   "execution_count": 34,
   "metadata": {},
   "outputs": [],
   "source": [
    "df = df.to_frame('change').rename_axis(['gene_ncbi', 'condition']).reset_index()"
   ]
  },
  {
   "cell_type": "code",
   "execution_count": 36,
   "metadata": {},
   "outputs": [],
   "source": [
    "df['age'] = df['condition'].str.extract('^.*/(.*)$')"
   ]
  },
  {
   "cell_type": "code",
   "execution_count": 38,
   "metadata": {},
   "outputs": [],
   "source": [
    "df['tissue'] = df['condition'].str.extract('^(.*)/.*$')"
   ]
  },
  {
   "cell_type": "code",
   "execution_count": 40,
   "metadata": {},
   "outputs": [],
   "source": [
    "df['up'] = df['change']>0"
   ]
  },
  {
   "cell_type": "code",
   "execution_count": 42,
   "metadata": {},
   "outputs": [],
   "source": [
    "d = pd.merge(df, pr)"
   ]
  },
  {
   "cell_type": "code",
   "execution_count": 43,
   "metadata": {},
   "outputs": [
    {
     "data": {
      "text/html": [
       "<div>\n",
       "<style scoped>\n",
       "    .dataframe tbody tr th:only-of-type {\n",
       "        vertical-align: middle;\n",
       "    }\n",
       "\n",
       "    .dataframe tbody tr th {\n",
       "        vertical-align: top;\n",
       "    }\n",
       "\n",
       "    .dataframe thead th {\n",
       "        text-align: right;\n",
       "    }\n",
       "</style>\n",
       "<table border=\"1\" class=\"dataframe\">\n",
       "  <thead>\n",
       "    <tr style=\"text-align: right;\">\n",
       "      <th></th>\n",
       "      <th>gene_ncbi</th>\n",
       "      <th>condition</th>\n",
       "      <th>change</th>\n",
       "      <th>age</th>\n",
       "      <th>tissue</th>\n",
       "      <th>up</th>\n",
       "      <th>length</th>\n",
       "      <th>log_length</th>\n",
       "    </tr>\n",
       "  </thead>\n",
       "  <tbody>\n",
       "    <tr>\n",
       "      <th>0</th>\n",
       "      <td>76509.0</td>\n",
       "      <td>Adipose/Young</td>\n",
       "      <td>2.04</td>\n",
       "      <td>Young</td>\n",
       "      <td>Adipose</td>\n",
       "      <td>True</td>\n",
       "      <td>1846.0</td>\n",
       "      <td>3.266232</td>\n",
       "    </tr>\n",
       "    <tr>\n",
       "      <th>1</th>\n",
       "      <td>76509.0</td>\n",
       "      <td>Adipose/Old</td>\n",
       "      <td>5.24</td>\n",
       "      <td>Old</td>\n",
       "      <td>Adipose</td>\n",
       "      <td>True</td>\n",
       "      <td>1846.0</td>\n",
       "      <td>3.266232</td>\n",
       "    </tr>\n",
       "    <tr>\n",
       "      <th>2</th>\n",
       "      <td>67082.0</td>\n",
       "      <td>Adipose/Young</td>\n",
       "      <td>2.13</td>\n",
       "      <td>Young</td>\n",
       "      <td>Adipose</td>\n",
       "      <td>True</td>\n",
       "      <td>1167.0</td>\n",
       "      <td>3.067071</td>\n",
       "    </tr>\n",
       "    <tr>\n",
       "      <th>3</th>\n",
       "      <td>69380.0</td>\n",
       "      <td>Adipose/Old</td>\n",
       "      <td>-1.85</td>\n",
       "      <td>Old</td>\n",
       "      <td>Adipose</td>\n",
       "      <td>False</td>\n",
       "      <td>1036.0</td>\n",
       "      <td>3.015360</td>\n",
       "    </tr>\n",
       "    <tr>\n",
       "      <th>4</th>\n",
       "      <td>329375.0</td>\n",
       "      <td>Adipose/Old</td>\n",
       "      <td>1.72</td>\n",
       "      <td>Old</td>\n",
       "      <td>Adipose</td>\n",
       "      <td>True</td>\n",
       "      <td>931.0</td>\n",
       "      <td>2.968950</td>\n",
       "    </tr>\n",
       "    <tr>\n",
       "      <th>...</th>\n",
       "      <td>...</td>\n",
       "      <td>...</td>\n",
       "      <td>...</td>\n",
       "      <td>...</td>\n",
       "      <td>...</td>\n",
       "      <td>...</td>\n",
       "      <td>...</td>\n",
       "      <td>...</td>\n",
       "    </tr>\n",
       "    <tr>\n",
       "      <th>609</th>\n",
       "      <td>192201.0</td>\n",
       "      <td>Adipose/Old</td>\n",
       "      <td>-5.71</td>\n",
       "      <td>Old</td>\n",
       "      <td>Adipose</td>\n",
       "      <td>False</td>\n",
       "      <td>569.0</td>\n",
       "      <td>2.755112</td>\n",
       "    </tr>\n",
       "    <tr>\n",
       "      <th>610</th>\n",
       "      <td>22403.0</td>\n",
       "      <td>Adipose/Young</td>\n",
       "      <td>-1.82</td>\n",
       "      <td>Young</td>\n",
       "      <td>Adipose</td>\n",
       "      <td>False</td>\n",
       "      <td>1784.0</td>\n",
       "      <td>3.251395</td>\n",
       "    </tr>\n",
       "    <tr>\n",
       "      <th>611</th>\n",
       "      <td>58203.0</td>\n",
       "      <td>Adipose/Young</td>\n",
       "      <td>-1.59</td>\n",
       "      <td>Young</td>\n",
       "      <td>Adipose</td>\n",
       "      <td>False</td>\n",
       "      <td>1384.5</td>\n",
       "      <td>3.141293</td>\n",
       "    </tr>\n",
       "    <tr>\n",
       "      <th>612</th>\n",
       "      <td>170938.0</td>\n",
       "      <td>Adipose/Young</td>\n",
       "      <td>1.53</td>\n",
       "      <td>Young</td>\n",
       "      <td>Adipose</td>\n",
       "      <td>True</td>\n",
       "      <td>2963.0</td>\n",
       "      <td>3.471732</td>\n",
       "    </tr>\n",
       "    <tr>\n",
       "      <th>613</th>\n",
       "      <td>226409.0</td>\n",
       "      <td>Adipose/Old</td>\n",
       "      <td>1.83</td>\n",
       "      <td>Old</td>\n",
       "      <td>Adipose</td>\n",
       "      <td>True</td>\n",
       "      <td>4154.5</td>\n",
       "      <td>3.618519</td>\n",
       "    </tr>\n",
       "  </tbody>\n",
       "</table>\n",
       "<p>614 rows × 8 columns</p>\n",
       "</div>"
      ],
      "text/plain": [
       "     gene_ncbi      condition change    age   tissue     up  length  \\\n",
       "0      76509.0  Adipose/Young   2.04  Young  Adipose   True  1846.0   \n",
       "1      76509.0    Adipose/Old   5.24    Old  Adipose   True  1846.0   \n",
       "2      67082.0  Adipose/Young   2.13  Young  Adipose   True  1167.0   \n",
       "3      69380.0    Adipose/Old  -1.85    Old  Adipose  False  1036.0   \n",
       "4     329375.0    Adipose/Old   1.72    Old  Adipose   True   931.0   \n",
       "..         ...            ...    ...    ...      ...    ...     ...   \n",
       "609   192201.0    Adipose/Old  -5.71    Old  Adipose  False   569.0   \n",
       "610    22403.0  Adipose/Young  -1.82  Young  Adipose  False  1784.0   \n",
       "611    58203.0  Adipose/Young  -1.59  Young  Adipose  False  1384.5   \n",
       "612   170938.0  Adipose/Young   1.53  Young  Adipose   True  2963.0   \n",
       "613   226409.0    Adipose/Old   1.83    Old  Adipose   True  4154.5   \n",
       "\n",
       "     log_length  \n",
       "0      3.266232  \n",
       "1      3.266232  \n",
       "2      3.067071  \n",
       "3      3.015360  \n",
       "4      2.968950  \n",
       "..          ...  \n",
       "609    2.755112  \n",
       "610    3.251395  \n",
       "611    3.141293  \n",
       "612    3.471732  \n",
       "613    3.618519  \n",
       "\n",
       "[614 rows x 8 columns]"
      ]
     },
     "execution_count": 43,
     "metadata": {},
     "output_type": "execute_result"
    }
   ],
   "source": [
    "d"
   ]
  },
  {
   "cell_type": "code",
   "execution_count": 45,
   "metadata": {},
   "outputs": [
    {
     "data": {
      "text/plain": [
       "<matplotlib.axes._subplots.AxesSubplot at 0x7fe14adb7e48>"
      ]
     },
     "execution_count": 45,
     "metadata": {},
     "output_type": "execute_result"
    },
    {
     "data": {
      "image/png": "[encoded data removed]",
      "text/plain": [
       "<Figure size 432x288 with 1 Axes>"
      ]
     },
     "metadata": {
      "needs_background": "light"
     },
     "output_type": "display_data"
    }
   ],
   "source": [
    "sns.boxplot(x='condition', hue='up', y='log_length', data=d, notch=True)"
   ]
  },
  {
   "cell_type": "code",
   "execution_count": null,
   "metadata": {},
   "outputs": [],
   "source": []
  },
  {
   "cell_type": "code",
   "execution_count": 51,
   "metadata": {},
   "outputs": [
    {
     "name": "stdout",
     "output_type": "stream",
     "text": [
      "Adipose/Old MannwhitneyuResult(statistic=2180.0, pvalue=0.05338283565376788)\n",
      "Adipose/Young MannwhitneyuResult(statistic=3174.0, pvalue=0.1553382841537677)\n",
      "Liver/Old MannwhitneyuResult(statistic=4447.0, pvalue=0.0009373349135653636)\n",
      "Liver/Young MannwhitneyuResult(statistic=21.0, pvalue=0.18902390052751938)\n",
      "Muscle/Old MannwhitneyuResult(statistic=413.0, pvalue=0.23089395749460095)\n",
      "Muscle/Young MannwhitneyuResult(statistic=0.0, pvalue=0.0)\n"
     ]
    }
   ],
   "source": [
    "for condition in sorted(d['condition'].unique()):\n",
    "    \n",
    "    e = d[d['condition']==condition]\n",
    "\n",
    "    pval = mannwhitneyu(\n",
    "        e[e['up']==True]['length'],\n",
    "        e[e['up']==False]['length'],\n",
    "        alternative='two-sided'\n",
    "    )\n",
    "    \n",
    "    print(condition, pval)"
   ]
  },
  {
   "cell_type": "code",
   "execution_count": null,
   "metadata": {},
   "outputs": [],
   "source": []
  },
  {
   "cell_type": "code",
   "execution_count": null,
   "metadata": {},
   "outputs": [],
   "source": []
  },
  {
   "cell_type": "code",
   "execution_count": null,
   "metadata": {},
   "outputs": [],
   "source": []
  },
  {
   "cell_type": "code",
   "execution_count": null,
   "metadata": {},
   "outputs": [],
   "source": []
  },
  {
   "cell_type": "markdown",
   "metadata": {},
   "source": [
    "# Snell dwarf???"
   ]
  },
  {
   "cell_type": "markdown",
   "metadata": {},
   "source": [
    "Hoffmann et al. 2020 shows reports on interaction with genotype (which is significant for mild length-association). However, their supplemental table does not tell which phenotype (directionality) and labels of supplemental tables and main text appear discordant"
   ]
  },
  {
   "cell_type": "code",
   "execution_count": 14,
   "metadata": {},
   "outputs": [],
   "source": [
    "p = '/Users/tstoeger/Dropbox/aging_map_paper/datasets/general/resources/publications/hoffmann_2020/aging-12-102822-s009..xlsx'\n",
    "\n"
   ]
  },
  {
   "cell_type": "code",
   "execution_count": 15,
   "metadata": {},
   "outputs": [],
   "source": [
    "df = pd.read_excel(p, skiprows=1).rename(columns={'Transcript': 'symbol', 'Genotype Estimate': 'fold_change'})"
   ]
  },
  {
   "cell_type": "code",
   "execution_count": 16,
   "metadata": {},
   "outputs": [],
   "source": [
    "df = df.groupby('symbol')['fold_change'].median().reset_index()"
   ]
  },
  {
   "cell_type": "code",
   "execution_count": 17,
   "metadata": {},
   "outputs": [],
   "source": [
    "df = mapper.symbol_2_gene_ncbi(df, 10090)"
   ]
  },
  {
   "cell_type": "code",
   "execution_count": 18,
   "metadata": {},
   "outputs": [],
   "source": [
    "d = pd.merge(df, pr)\n",
    "\n"
   ]
  },
  {
   "cell_type": "code",
   "execution_count": 19,
   "metadata": {},
   "outputs": [
    {
     "name": "stdout",
     "output_type": "stream",
     "text": [
      "SpearmanrResult(correlation=0.03638791845663473, pvalue=0.00030540928333971565)\n"
     ]
    }
   ],
   "source": [
    "print(spearmanr(d['log_length'], d['fold_change']))\n",
    "\n"
   ]
  },
  {
   "cell_type": "code",
   "execution_count": 20,
   "metadata": {},
   "outputs": [],
   "source": [
    "d['increased'] = d['fold_change'] > 0"
   ]
  },
  {
   "cell_type": "code",
   "execution_count": 21,
   "metadata": {},
   "outputs": [
    {
     "data": {
      "text/plain": [
       "<matplotlib.axes._subplots.AxesSubplot at 0x7fbfbb0f7c88>"
      ]
     },
     "execution_count": 21,
     "metadata": {},
     "output_type": "execute_result"
    },
    {
     "data": {
      "image/png": "[encoded data removed]",
      "text/plain": [
       "<Figure size 432x288 with 1 Axes>"
      ]
     },
     "metadata": {
      "needs_background": "light"
     },
     "output_type": "display_data"
    }
   ],
   "source": [
    "sns.boxplot(x='increased', y='log_length', data=d, notch=True)"
   ]
  },
  {
   "cell_type": "code",
   "execution_count": 22,
   "metadata": {},
   "outputs": [
    {
     "data": {
      "text/html": [
       "<div>\n",
       "<style scoped>\n",
       "    .dataframe tbody tr th:only-of-type {\n",
       "        vertical-align: middle;\n",
       "    }\n",
       "\n",
       "    .dataframe tbody tr th {\n",
       "        vertical-align: top;\n",
       "    }\n",
       "\n",
       "    .dataframe thead th {\n",
       "        text-align: right;\n",
       "    }\n",
       "</style>\n",
       "<table border=\"1\" class=\"dataframe\">\n",
       "  <thead>\n",
       "    <tr style=\"text-align: right;\">\n",
       "      <th></th>\n",
       "      <th>gene_ncbi</th>\n",
       "      <th>fold_change</th>\n",
       "      <th>length</th>\n",
       "      <th>log_length</th>\n",
       "      <th>increased</th>\n",
       "    </tr>\n",
       "  </thead>\n",
       "  <tbody>\n",
       "    <tr>\n",
       "      <th>0</th>\n",
       "      <td>11287</td>\n",
       "      <td>-0.402984</td>\n",
       "      <td>4681.0</td>\n",
       "      <td>3.670339</td>\n",
       "      <td>False</td>\n",
       "    </tr>\n",
       "    <tr>\n",
       "      <th>1</th>\n",
       "      <td>11302</td>\n",
       "      <td>-0.029918</td>\n",
       "      <td>5423.0</td>\n",
       "      <td>3.734240</td>\n",
       "      <td>False</td>\n",
       "    </tr>\n",
       "    <tr>\n",
       "      <th>2</th>\n",
       "      <td>11303</td>\n",
       "      <td>0.125929</td>\n",
       "      <td>10260.0</td>\n",
       "      <td>4.011147</td>\n",
       "      <td>True</td>\n",
       "    </tr>\n",
       "    <tr>\n",
       "      <th>3</th>\n",
       "      <td>11304</td>\n",
       "      <td>0.146573</td>\n",
       "      <td>7268.0</td>\n",
       "      <td>3.861415</td>\n",
       "      <td>True</td>\n",
       "    </tr>\n",
       "    <tr>\n",
       "      <th>4</th>\n",
       "      <td>11305</td>\n",
       "      <td>0.135587</td>\n",
       "      <td>8061.0</td>\n",
       "      <td>3.906389</td>\n",
       "      <td>True</td>\n",
       "    </tr>\n",
       "    <tr>\n",
       "      <th>...</th>\n",
       "      <td>...</td>\n",
       "      <td>...</td>\n",
       "      <td>...</td>\n",
       "      <td>...</td>\n",
       "      <td>...</td>\n",
       "    </tr>\n",
       "    <tr>\n",
       "      <th>9837</th>\n",
       "      <td>102639598</td>\n",
       "      <td>-0.246568</td>\n",
       "      <td>3886.0</td>\n",
       "      <td>3.589503</td>\n",
       "      <td>False</td>\n",
       "    </tr>\n",
       "    <tr>\n",
       "      <th>9838</th>\n",
       "      <td>102902673</td>\n",
       "      <td>0.997329</td>\n",
       "      <td>2631.5</td>\n",
       "      <td>3.420203</td>\n",
       "      <td>True</td>\n",
       "    </tr>\n",
       "    <tr>\n",
       "      <th>9839</th>\n",
       "      <td>103611158</td>\n",
       "      <td>53.046428</td>\n",
       "      <td>4626.0</td>\n",
       "      <td>3.665206</td>\n",
       "      <td>True</td>\n",
       "    </tr>\n",
       "    <tr>\n",
       "      <th>9840</th>\n",
       "      <td>105180375</td>\n",
       "      <td>-0.084279</td>\n",
       "      <td>1251.0</td>\n",
       "      <td>3.097257</td>\n",
       "      <td>False</td>\n",
       "    </tr>\n",
       "    <tr>\n",
       "      <th>9841</th>\n",
       "      <td>105886298</td>\n",
       "      <td>0.196295</td>\n",
       "      <td>849.0</td>\n",
       "      <td>2.928908</td>\n",
       "      <td>True</td>\n",
       "    </tr>\n",
       "  </tbody>\n",
       "</table>\n",
       "<p>9842 rows × 5 columns</p>\n",
       "</div>"
      ],
      "text/plain": [
       "      gene_ncbi  fold_change   length  log_length  increased\n",
       "0         11287    -0.402984   4681.0    3.670339      False\n",
       "1         11302    -0.029918   5423.0    3.734240      False\n",
       "2         11303     0.125929  10260.0    4.011147       True\n",
       "3         11304     0.146573   7268.0    3.861415       True\n",
       "4         11305     0.135587   8061.0    3.906389       True\n",
       "...         ...          ...      ...         ...        ...\n",
       "9837  102639598    -0.246568   3886.0    3.589503      False\n",
       "9838  102902673     0.997329   2631.5    3.420203       True\n",
       "9839  103611158    53.046428   4626.0    3.665206       True\n",
       "9840  105180375    -0.084279   1251.0    3.097257      False\n",
       "9841  105886298     0.196295    849.0    2.928908       True\n",
       "\n",
       "[9842 rows x 5 columns]"
      ]
     },
     "execution_count": 22,
     "metadata": {},
     "output_type": "execute_result"
    }
   ],
   "source": [
    "d"
   ]
  },
  {
   "cell_type": "code",
   "execution_count": null,
   "metadata": {},
   "outputs": [],
   "source": []
  },
  {
   "cell_type": "code",
   "execution_count": null,
   "metadata": {},
   "outputs": [],
   "source": []
  },
  {
   "cell_type": "markdown",
   "metadata": {},
   "source": [
    "# Every other day"
   ]
  },
  {
   "cell_type": "code",
   "execution_count": 23,
   "metadata": {},
   "outputs": [],
   "source": [
    "p = '/Users/tstoeger/Dropbox/aging_map_paper/datasets/general/resources/publications/ng_2019/13._Ng_et_al.,_2019-Table_S8_Top_50_Common_Genes_Liver_List.xlsx'\n",
    "\n"
   ]
  },
  {
   "cell_type": "code",
   "execution_count": 24,
   "metadata": {},
   "outputs": [],
   "source": [
    "df = pd.read_excel(p).rename(columns={'#Gene name': 'symbol', 'EOD log2FoldChange': 'fold_change'})"
   ]
  },
  {
   "cell_type": "code",
   "execution_count": 25,
   "metadata": {},
   "outputs": [],
   "source": [
    "df = mapper.symbol_2_gene_ncbi(\n",
    "    df[['symbol', 'fold_change']].groupby('symbol').median(),\n",
    "    10090\n",
    ").reset_index()"
   ]
  },
  {
   "cell_type": "code",
   "execution_count": 26,
   "metadata": {},
   "outputs": [],
   "source": [
    "d = pd.merge(df, pr)\n",
    "\n"
   ]
  },
  {
   "cell_type": "code",
   "execution_count": 27,
   "metadata": {},
   "outputs": [],
   "source": [
    "d['increased'] = d['fold_change'] > 0"
   ]
  },
  {
   "cell_type": "code",
   "execution_count": 28,
   "metadata": {},
   "outputs": [
    {
     "name": "stdout",
     "output_type": "stream",
     "text": [
      "SpearmanrResult(correlation=0.06818751590615703, pvalue=0.706141491514793)\n"
     ]
    }
   ],
   "source": [
    "print(spearmanr(d['log_length'], d['fold_change']))\n",
    "\n"
   ]
  },
  {
   "cell_type": "code",
   "execution_count": 29,
   "metadata": {},
   "outputs": [
    {
     "data": {
      "text/plain": [
       "<matplotlib.axes._subplots.AxesSubplot at 0x7fbfbb245908>"
      ]
     },
     "execution_count": 29,
     "metadata": {},
     "output_type": "execute_result"
    },
    {
     "data": {
      "image/png": "[encoded data removed]",
      "text/plain": [
       "<Figure size 432x288 with 1 Axes>"
      ]
     },
     "metadata": {
      "needs_background": "light"
     },
     "output_type": "display_data"
    }
   ],
   "source": [
    "sns.boxplot(x='increased', y='log_length', data=d, notch=True)"
   ]
  },
  {
   "cell_type": "code",
   "execution_count": 30,
   "metadata": {},
   "outputs": [
    {
     "data": {
      "text/plain": [
       "(33, 5)"
      ]
     },
     "execution_count": 30,
     "metadata": {},
     "output_type": "execute_result"
    }
   ],
   "source": [
    "d.shape"
   ]
  },
  {
   "cell_type": "code",
   "execution_count": null,
   "metadata": {},
   "outputs": [],
   "source": []
  },
  {
   "cell_type": "code",
   "execution_count": null,
   "metadata": {},
   "outputs": [],
   "source": []
  },
  {
   "cell_type": "markdown",
   "metadata": {},
   "source": [
    "# Little and dwarf mice"
   ]
  },
  {
   "cell_type": "markdown",
   "metadata": {},
   "source": [
    "## Ames dwarf"
   ]
  },
  {
   "cell_type": "code",
   "execution_count": 31,
   "metadata": {},
   "outputs": [
    {
     "name": "stdout",
     "output_type": "stream",
     "text": [
      "SpearmanrResult(correlation=-0.016347491058331116, pvalue=0.7419954131616529)\n"
     ]
    },
    {
     "data": {
      "text/plain": [
       "<matplotlib.axes._subplots.AxesSubplot at 0x7fbfbb2f7278>"
      ]
     },
     "execution_count": 31,
     "metadata": {},
     "output_type": "execute_result"
    },
    {
     "data": {
      "image/png": "[encoded data removed]",
      "text/plain": [
       "<Figure size 432x288 with 1 Axes>"
      ]
     },
     "metadata": {
      "needs_background": "light"
     },
     "output_type": "display_data"
    }
   ],
   "source": [
    "p = '/Users/tstoeger/Dropbox/aging_map_paper/datasets/general/resources/publications/amador_noguez_2004/acel_125_sm_tables1.xlsx'\n",
    "\n",
    "df = pd.read_excel(p, skiprows=7)\n",
    "\n",
    "d = mapper.symbol_2_gene_ncbi(df.rename(columns={'Gene': 'symbol'}).set_index('symbol'), 10090).reset_index()\n",
    "\n",
    "d = pd.merge(d.groupby(['gene_ncbi'])['Fold Change'].median().reset_index(), pr)\n",
    "\n",
    "\n",
    "print(spearmanr(d['log_length'], d['Fold Change']))\n",
    "\n",
    "d['increased'] = d['Fold Change'] > 1\n",
    "\n",
    "sns.boxplot(x='increased', y='log_length', data=d, notch=True)"
   ]
  },
  {
   "cell_type": "markdown",
   "metadata": {},
   "source": [
    "## Little"
   ]
  },
  {
   "cell_type": "code",
   "execution_count": 32,
   "metadata": {},
   "outputs": [
    {
     "name": "stdout",
     "output_type": "stream",
     "text": [
      "SpearmanrResult(correlation=0.030594326341161163, pvalue=0.5216478227127932)\n"
     ]
    },
    {
     "data": {
      "text/plain": [
       "<matplotlib.axes._subplots.AxesSubplot at 0x7fbfbb2c8a90>"
      ]
     },
     "execution_count": 32,
     "metadata": {},
     "output_type": "execute_result"
    },
    {
     "data": {
      "image/png": "[encoded data removed]",
      "text/plain": [
       "<Figure size 432x288 with 1 Axes>"
      ]
     },
     "metadata": {
      "needs_background": "light"
     },
     "output_type": "display_data"
    }
   ],
   "source": [
    "p = '/Users/tstoeger/Dropbox/aging_map_paper/datasets/general/resources/publications/amador_noguez_2004/acel_125_sm_tables2.xlsx'\n",
    "\n",
    "df = pd.read_excel(p, skiprows=7)\n",
    "\n",
    "\n",
    "\n",
    "\n",
    "\n",
    "d = mapper.symbol_2_gene_ncbi(df.rename(columns={'Common': 'symbol'}).set_index('symbol'), 10090).reset_index()\n",
    "d = pd.merge(d.groupby(['gene_ncbi'])['Fold Change'].median().reset_index(), pr)\n",
    "\n",
    "\n",
    "\n",
    "d = pd.merge(d, pr)\n",
    "\n",
    "print(spearmanr(d['log_length'], d['Fold Change']))\n",
    "\n",
    "\n",
    "\n",
    "d['increased'] = d['Fold Change'] > 1\n",
    "\n",
    "sns.boxplot(x='increased', y='log_length', data=d, notch=True)"
   ]
  },
  {
   "cell_type": "code",
   "execution_count": 33,
   "metadata": {},
   "outputs": [
    {
     "data": {
      "text/plain": [
       "(441, 5)"
      ]
     },
     "execution_count": 33,
     "metadata": {},
     "output_type": "execute_result"
    }
   ],
   "source": [
    "d.shape"
   ]
  },
  {
   "cell_type": "code",
   "execution_count": null,
   "metadata": {},
   "outputs": [],
   "source": []
  },
  {
   "cell_type": "code",
   "execution_count": null,
   "metadata": {},
   "outputs": [],
   "source": []
  },
  {
   "cell_type": "code",
   "execution_count": null,
   "metadata": {},
   "outputs": [],
   "source": []
  },
  {
   "cell_type": "markdown",
   "metadata": {},
   "source": [
    "# S6k"
   ]
  },
  {
   "cell_type": "code",
   "execution_count": 34,
   "metadata": {},
   "outputs": [],
   "source": [
    "p = '/Users/tstoeger/Dropbox/aging_map_paper/datasets/general/resources/publications/selman_2009/extracted_supplemental_tables.xlsx'"
   ]
  },
  {
   "cell_type": "code",
   "execution_count": 35,
   "metadata": {},
   "outputs": [],
   "source": [
    "agg = []\n",
    "for sheet in ['s2a', 's2b', 's3a', 's3b', 's4a', 's4b']:\n",
    "\n",
    "    df = pd.read_excel(p, sheet_name=sheet)\n",
    "    df.loc[:, 'sheet'] = sheet\n",
    "    agg.append(df)"
   ]
  },
  {
   "cell_type": "code",
   "execution_count": 36,
   "metadata": {},
   "outputs": [],
   "source": [
    "df = pd.concat(agg)\n",
    "df['perturbation'] = df['sheet'].apply(lambda x: x[:2])"
   ]
  },
  {
   "cell_type": "code",
   "execution_count": 37,
   "metadata": {},
   "outputs": [],
   "source": [
    "f = df['sheet'].apply(lambda x: x[-1]) == 'b'"
   ]
  },
  {
   "cell_type": "code",
   "execution_count": 38,
   "metadata": {},
   "outputs": [],
   "source": [
    "df.loc[f, 'fc'] = -df.loc[f, 'fc']"
   ]
  },
  {
   "cell_type": "code",
   "execution_count": 39,
   "metadata": {},
   "outputs": [],
   "source": [
    "d = df.groupby(['symbol', 'perturbation'])['fc'].median().reset_index()"
   ]
  },
  {
   "cell_type": "code",
   "execution_count": 40,
   "metadata": {},
   "outputs": [],
   "source": [
    "\n",
    "d = mapper.symbol_2_gene_ncbi(d.set_index('symbol'), 10090).reset_index()\n",
    "\n",
    "d = pd.merge(d, pr)\n",
    "\n"
   ]
  },
  {
   "cell_type": "code",
   "execution_count": 41,
   "metadata": {},
   "outputs": [],
   "source": [
    "d['up'] = d['fc']>0"
   ]
  },
  {
   "cell_type": "code",
   "execution_count": 42,
   "metadata": {},
   "outputs": [
    {
     "data": {
      "text/html": [
       "<div>\n",
       "<style scoped>\n",
       "    .dataframe tbody tr th:only-of-type {\n",
       "        vertical-align: middle;\n",
       "    }\n",
       "\n",
       "    .dataframe tbody tr th {\n",
       "        vertical-align: top;\n",
       "    }\n",
       "\n",
       "    .dataframe thead th {\n",
       "        text-align: right;\n",
       "    }\n",
       "</style>\n",
       "<table border=\"1\" class=\"dataframe\">\n",
       "  <thead>\n",
       "    <tr style=\"text-align: right;\">\n",
       "      <th></th>\n",
       "      <th>gene_ncbi</th>\n",
       "      <th>perturbation</th>\n",
       "      <th>fc</th>\n",
       "      <th>length</th>\n",
       "      <th>log_length</th>\n",
       "      <th>up</th>\n",
       "    </tr>\n",
       "  </thead>\n",
       "  <tbody>\n",
       "    <tr>\n",
       "      <th>0</th>\n",
       "      <td>11308</td>\n",
       "      <td>s3</td>\n",
       "      <td>0.57</td>\n",
       "      <td>3487.0</td>\n",
       "      <td>3.542452</td>\n",
       "      <td>True</td>\n",
       "    </tr>\n",
       "    <tr>\n",
       "      <th>1</th>\n",
       "      <td>11409</td>\n",
       "      <td>s4</td>\n",
       "      <td>-0.91</td>\n",
       "      <td>1881.0</td>\n",
       "      <td>3.274389</td>\n",
       "      <td>False</td>\n",
       "    </tr>\n",
       "    <tr>\n",
       "      <th>2</th>\n",
       "      <td>11428</td>\n",
       "      <td>s4</td>\n",
       "      <td>-1.17</td>\n",
       "      <td>4319.0</td>\n",
       "      <td>3.635383</td>\n",
       "      <td>False</td>\n",
       "    </tr>\n",
       "    <tr>\n",
       "      <th>3</th>\n",
       "      <td>11429</td>\n",
       "      <td>s2</td>\n",
       "      <td>0.80</td>\n",
       "      <td>2785.0</td>\n",
       "      <td>3.444825</td>\n",
       "      <td>True</td>\n",
       "    </tr>\n",
       "    <tr>\n",
       "      <th>4</th>\n",
       "      <td>11430</td>\n",
       "      <td>s2</td>\n",
       "      <td>1.15</td>\n",
       "      <td>3992.0</td>\n",
       "      <td>3.601191</td>\n",
       "      <td>True</td>\n",
       "    </tr>\n",
       "    <tr>\n",
       "      <th>...</th>\n",
       "      <td>...</td>\n",
       "      <td>...</td>\n",
       "      <td>...</td>\n",
       "      <td>...</td>\n",
       "      <td>...</td>\n",
       "      <td>...</td>\n",
       "    </tr>\n",
       "    <tr>\n",
       "      <th>2434</th>\n",
       "      <td>100040972</td>\n",
       "      <td>s4</td>\n",
       "      <td>1.27</td>\n",
       "      <td>971.0</td>\n",
       "      <td>2.987219</td>\n",
       "      <td>True</td>\n",
       "    </tr>\n",
       "    <tr>\n",
       "      <th>2435</th>\n",
       "      <td>100043133</td>\n",
       "      <td>s2</td>\n",
       "      <td>-1.02</td>\n",
       "      <td>3581.0</td>\n",
       "      <td>3.554004</td>\n",
       "      <td>False</td>\n",
       "    </tr>\n",
       "    <tr>\n",
       "      <th>2436</th>\n",
       "      <td>100043133</td>\n",
       "      <td>s3</td>\n",
       "      <td>-0.78</td>\n",
       "      <td>3581.0</td>\n",
       "      <td>3.554004</td>\n",
       "      <td>False</td>\n",
       "    </tr>\n",
       "    <tr>\n",
       "      <th>2437</th>\n",
       "      <td>100503043</td>\n",
       "      <td>s3</td>\n",
       "      <td>-1.19</td>\n",
       "      <td>9014.0</td>\n",
       "      <td>3.954918</td>\n",
       "      <td>False</td>\n",
       "    </tr>\n",
       "    <tr>\n",
       "      <th>2438</th>\n",
       "      <td>100503670</td>\n",
       "      <td>s2</td>\n",
       "      <td>0.64</td>\n",
       "      <td>2036.0</td>\n",
       "      <td>3.308778</td>\n",
       "      <td>True</td>\n",
       "    </tr>\n",
       "  </tbody>\n",
       "</table>\n",
       "<p>2439 rows × 6 columns</p>\n",
       "</div>"
      ],
      "text/plain": [
       "      gene_ncbi perturbation    fc  length  log_length     up\n",
       "0         11308           s3  0.57  3487.0    3.542452   True\n",
       "1         11409           s4 -0.91  1881.0    3.274389  False\n",
       "2         11428           s4 -1.17  4319.0    3.635383  False\n",
       "3         11429           s2  0.80  2785.0    3.444825   True\n",
       "4         11430           s2  1.15  3992.0    3.601191   True\n",
       "...         ...          ...   ...     ...         ...    ...\n",
       "2434  100040972           s4  1.27   971.0    2.987219   True\n",
       "2435  100043133           s2 -1.02  3581.0    3.554004  False\n",
       "2436  100043133           s3 -0.78  3581.0    3.554004  False\n",
       "2437  100503043           s3 -1.19  9014.0    3.954918  False\n",
       "2438  100503670           s2  0.64  2036.0    3.308778   True\n",
       "\n",
       "[2439 rows x 6 columns]"
      ]
     },
     "execution_count": 42,
     "metadata": {},
     "output_type": "execute_result"
    }
   ],
   "source": [
    "d"
   ]
  },
  {
   "cell_type": "code",
   "execution_count": null,
   "metadata": {},
   "outputs": [],
   "source": []
  },
  {
   "cell_type": "code",
   "execution_count": 43,
   "metadata": {},
   "outputs": [
    {
     "data": {
      "text/plain": [
       "<matplotlib.axes._subplots.AxesSubplot at 0x7fbfbb2a5048>"
      ]
     },
     "execution_count": 43,
     "metadata": {},
     "output_type": "execute_result"
    },
    {
     "data": {
      "image/png": "[encoded data removed]",
      "text/plain": [
       "<Figure size 432x288 with 1 Axes>"
      ]
     },
     "metadata": {
      "needs_background": "light"
     },
     "output_type": "display_data"
    }
   ],
   "source": [
    "sns.boxplot(\n",
    "    x='perturbation',\n",
    "    y='log_length',\n",
    "    hue='up',\n",
    "    data=d,\n",
    "    notch=True,\n",
    "    order=['s2', 's3', 's4']\n",
    ")"
   ]
  },
  {
   "cell_type": "code",
   "execution_count": 44,
   "metadata": {},
   "outputs": [
    {
     "data": {
      "text/plain": [
       "SpearmanrResult(correlation=0.07011803945888155, pvalue=0.020201170540333054)"
      ]
     },
     "execution_count": 44,
     "metadata": {},
     "output_type": "execute_result"
    }
   ],
   "source": [
    "spearmanr(\n",
    "    d[d['perturbation']=='s2']['length'],\n",
    "    d[d['perturbation']=='s2']['fc'])\n",
    "\n"
   ]
  },
  {
   "cell_type": "code",
   "execution_count": 45,
   "metadata": {},
   "outputs": [
    {
     "data": {
      "text/plain": [
       "SpearmanrResult(correlation=-0.05629081454073649, pvalue=0.24687814090826396)"
      ]
     },
     "execution_count": 45,
     "metadata": {},
     "output_type": "execute_result"
    }
   ],
   "source": [
    "spearmanr(\n",
    "    d[d['perturbation']=='s3']['length'],\n",
    "    d[d['perturbation']=='s3']['fc'])\n",
    "\n",
    "\n"
   ]
  },
  {
   "cell_type": "code",
   "execution_count": 46,
   "metadata": {},
   "outputs": [
    {
     "data": {
      "text/plain": [
       "SpearmanrResult(correlation=0.07970820743112893, pvalue=0.015766581508464907)"
      ]
     },
     "execution_count": 46,
     "metadata": {},
     "output_type": "execute_result"
    }
   ],
   "source": [
    "spearmanr(\n",
    "    d[d['perturbation']=='s4']['length'],\n",
    "    d[d['perturbation']=='s4']['fc'])\n",
    "\n"
   ]
  },
  {
   "cell_type": "code",
   "execution_count": 47,
   "metadata": {},
   "outputs": [],
   "source": [
    "# S2: liver of S6K-/- mice compared to wild type mice.\n",
    "# S3: muscle of S6K-/- mice compared to wild type mice.\n",
    "# S4: adipose tissue of S6K-/- mice compared to wild type mice."
   ]
  },
  {
   "cell_type": "markdown",
   "metadata": {},
   "source": [
    "# HUMAN"
   ]
  },
  {
   "cell_type": "code",
   "execution_count": null,
   "metadata": {},
   "outputs": [],
   "source": []
  },
  {
   "cell_type": "code",
   "execution_count": null,
   "metadata": {},
   "outputs": [],
   "source": []
  },
  {
   "cell_type": "code",
   "execution_count": null,
   "metadata": {},
   "outputs": [],
   "source": []
  },
  {
   "cell_type": "code",
   "execution_count": null,
   "metadata": {},
   "outputs": [],
   "source": []
  },
  {
   "cell_type": "markdown",
   "metadata": {},
   "source": [
    "# FGF21 increase"
   ]
  },
  {
   "cell_type": "code",
   "execution_count": 48,
   "metadata": {},
   "outputs": [],
   "source": [
    "p = '/Users/tstoeger/Dropbox/aging_map_paper/datasets/general/resources/publications/murray_2020/Supp Tables Full resubmit.xlsx'"
   ]
  },
  {
   "cell_type": "code",
   "execution_count": null,
   "metadata": {},
   "outputs": [],
   "source": []
  },
  {
   "cell_type": "code",
   "execution_count": 15,
   "metadata": {},
   "outputs": [],
   "source": [
    "ref_genes = standardizer.reference_genes(9606, 'orp')\n",
    "\n",
    "pr = properties.genbank_validated_rna(9606)[\n",
    "    ['gene_ncbi', 'Genbank_validated_RNA: full_SumACGT']\n",
    "].rename(columns={\n",
    "    'Genbank_validated_RNA: full_SumACGT': 'length'\n",
    "})\n",
    "\n",
    "pr.loc[:, 'log_length'] = np.log10(pr['length'])\n",
    "pr = pr[pr['gene_ncbi'].isin(ref_genes)]"
   ]
  },
  {
   "cell_type": "code",
   "execution_count": null,
   "metadata": {},
   "outputs": [],
   "source": []
  },
  {
   "cell_type": "code",
   "execution_count": 50,
   "metadata": {},
   "outputs": [],
   "source": [
    "df = pd.read_excel(p, 'S1a AT DEG')     # adipose tissue\n",
    "\n",
    "df = mapper.gene_ensembl_2_gene_ncbi(\n",
    "    df[['GeneID', 'Post.vs.Pre_logFC']].rename(columns={\n",
    "        'GeneID': 'gene_ensembl',\n",
    "        'Post.vs.Pre_logFC': 'fold_change'\n",
    "    }),\n",
    "    9606\n",
    ").reset_index()\n",
    "\n",
    "d = pd.merge(df, pr)"
   ]
  },
  {
   "cell_type": "code",
   "execution_count": 51,
   "metadata": {},
   "outputs": [
    {
     "data": {
      "text/plain": [
       "SpearmanrResult(correlation=0.029693847693926655, pvalue=0.0008349780222861705)"
      ]
     },
     "execution_count": 51,
     "metadata": {},
     "output_type": "execute_result"
    }
   ],
   "source": [
    "spearmanr(d['length'], d['fold_change'])"
   ]
  },
  {
   "cell_type": "code",
   "execution_count": 52,
   "metadata": {},
   "outputs": [],
   "source": [
    "d['up'] = d['fold_change'] > 0"
   ]
  },
  {
   "cell_type": "code",
   "execution_count": 53,
   "metadata": {},
   "outputs": [
    {
     "data": {
      "text/plain": [
       "<matplotlib.axes._subplots.AxesSubplot at 0x7fbfbb1815c0>"
      ]
     },
     "execution_count": 53,
     "metadata": {},
     "output_type": "execute_result"
    },
    {
     "data": {
      "image/png": "[encoded data removed]",
      "text/plain": [
       "<Figure size 432x288 with 1 Axes>"
      ]
     },
     "metadata": {
      "needs_background": "light"
     },
     "output_type": "display_data"
    }
   ],
   "source": [
    "sns.boxplot(\n",
    "    x='up',\n",
    "    y='log_length',\n",
    "    data=d,\n",
    "    notch=True\n",
    ")"
   ]
  },
  {
   "cell_type": "code",
   "execution_count": 54,
   "metadata": {},
   "outputs": [],
   "source": [
    "df = pd.read_excel(p, 'S1b SM DEG')    # Skeletal muscle\n",
    "\n",
    "df = mapper.gene_ensembl_2_gene_ncbi(\n",
    "    df[['GeneID', 'Post.vs.Pre_logFC']].rename(columns={\n",
    "        'GeneID': 'gene_ensembl',\n",
    "        'Post.vs.Pre_logFC': 'fold_change'\n",
    "    }),\n",
    "    9606\n",
    ").reset_index()\n",
    "\n",
    "d = pd.merge(df, pr)"
   ]
  },
  {
   "cell_type": "code",
   "execution_count": 55,
   "metadata": {},
   "outputs": [
    {
     "data": {
      "text/plain": [
       "SpearmanrResult(correlation=0.14935151342905562, pvalue=4.4671726200618665e-59)"
      ]
     },
     "execution_count": 55,
     "metadata": {},
     "output_type": "execute_result"
    }
   ],
   "source": [
    "spearmanr(d['length'], d['fold_change'])"
   ]
  },
  {
   "cell_type": "code",
   "execution_count": 56,
   "metadata": {},
   "outputs": [
    {
     "data": {
      "text/plain": [
       "<matplotlib.axes._subplots.AxesSubplot at 0x7fbfbb4820b8>"
      ]
     },
     "execution_count": 56,
     "metadata": {},
     "output_type": "execute_result"
    },
    {
     "data": {
      "image/png": "[encoded data removed]",
      "text/plain": [
       "<Figure size 432x288 with 1 Axes>"
      ]
     },
     "metadata": {
      "needs_background": "light"
     },
     "output_type": "display_data"
    }
   ],
   "source": [
    "d['up'] = d['fold_change'] > 0\n",
    "\n",
    "sns.boxplot(\n",
    "    x='up',\n",
    "    y='log_length',\n",
    "    data=d,\n",
    "    notch=True\n",
    ")"
   ]
  },
  {
   "cell_type": "code",
   "execution_count": null,
   "metadata": {},
   "outputs": [],
   "source": []
  },
  {
   "cell_type": "code",
   "execution_count": null,
   "metadata": {},
   "outputs": [],
   "source": []
  },
  {
   "cell_type": "markdown",
   "metadata": {},
   "source": [
    "# Metformin\n"
   ]
  },
  {
   "cell_type": "code",
   "execution_count": null,
   "metadata": {},
   "outputs": [],
   "source": []
  },
  {
   "cell_type": "code",
   "execution_count": 57,
   "metadata": {},
   "outputs": [],
   "source": [
    "p = '/Users/tstoeger/Dropbox/aging_map_paper/datasets/general/resources/publications/luizon_2015/pgen.1006449.s008.xlsx'"
   ]
  },
  {
   "cell_type": "code",
   "execution_count": 58,
   "metadata": {},
   "outputs": [],
   "source": [
    "df = pd.read_excel(p, skiprows=1).rename(columns={'GeneID': 'gene_ensembl', 'log2FoldChange': 'fold_change'})"
   ]
  },
  {
   "cell_type": "code",
   "execution_count": 59,
   "metadata": {},
   "outputs": [],
   "source": [
    "df = df.dropna(subset=['padj'])"
   ]
  },
  {
   "cell_type": "code",
   "execution_count": 60,
   "metadata": {},
   "outputs": [],
   "source": [
    "df = mapper.gene_ensembl_2_gene_ncbi(\n",
    "    df[['gene_ensembl', 'fold_change']], \n",
    "    9606)"
   ]
  },
  {
   "cell_type": "code",
   "execution_count": 61,
   "metadata": {},
   "outputs": [],
   "source": [
    "d = pd.merge(df, pr)"
   ]
  },
  {
   "cell_type": "code",
   "execution_count": 62,
   "metadata": {},
   "outputs": [
    {
     "data": {
      "text/plain": [
       "SpearmanrResult(correlation=0.02580485079767922, pvalue=0.006519347011433803)"
      ]
     },
     "execution_count": 62,
     "metadata": {},
     "output_type": "execute_result"
    }
   ],
   "source": [
    "spearmanr(d['length'], d['fold_change'])"
   ]
  },
  {
   "cell_type": "code",
   "execution_count": 63,
   "metadata": {},
   "outputs": [
    {
     "data": {
      "text/plain": [
       "<matplotlib.axes._subplots.AxesSubplot at 0x7fbfbb2be588>"
      ]
     },
     "execution_count": 63,
     "metadata": {},
     "output_type": "execute_result"
    },
    {
     "data": {
      "image/png": "[encoded data removed]",
      "text/plain": [
       "<Figure size 432x288 with 1 Axes>"
      ]
     },
     "metadata": {
      "needs_background": "light"
     },
     "output_type": "display_data"
    }
   ],
   "source": [
    "d['up'] = d['fold_change'] > 0\n",
    "\n",
    "sns.boxplot(\n",
    "    x='up',\n",
    "    y='log_length',\n",
    "    data=d,\n",
    "    notch=True\n",
    ")"
   ]
  },
  {
   "cell_type": "code",
   "execution_count": null,
   "metadata": {},
   "outputs": [],
   "source": []
  },
  {
   "cell_type": "markdown",
   "metadata": {},
   "source": [
    "# Resveratrol\n",
    "\n"
   ]
  },
  {
   "cell_type": "code",
   "execution_count": 64,
   "metadata": {},
   "outputs": [],
   "source": [
    "\n",
    "p = '/Users/tstoeger/Dropbox/aging_map_paper/datasets/general/resources/publications/dembic_2019/ScienceDirect_files_16Nov2021_22-07-17.076/1-s2.0-S1096719218304955-mmc3.xlsx'\n",
    "\n",
    "\n",
    "\n",
    "df = pd.read_excel(p).rename(columns={'Ensembl_ID': 'gene_ensembl', 'log2FoldChange': 'fold_change'})\n",
    "\n",
    "df = df.dropna(subset=['padj'])\n",
    "\n",
    "\n",
    "\n",
    "\n",
    "\n",
    "df =  mapper.gene_ensembl_2_gene_ncbi(df[['gene_ensembl', 'fold_change']], 9606)\n",
    "\n",
    "d = pd.merge(df, pr)\n",
    "\n",
    "\n"
   ]
  },
  {
   "cell_type": "code",
   "execution_count": 65,
   "metadata": {},
   "outputs": [
    {
     "data": {
      "text/plain": [
       "SpearmanrResult(correlation=0.03530820334229846, pvalue=0.00013525827846478806)"
      ]
     },
     "execution_count": 65,
     "metadata": {},
     "output_type": "execute_result"
    }
   ],
   "source": [
    "spearmanr(d['length'], d['fold_change'])"
   ]
  },
  {
   "cell_type": "markdown",
   "metadata": {},
   "source": [
    "# senolytics\n"
   ]
  },
  {
   "cell_type": "code",
   "execution_count": 19,
   "metadata": {},
   "outputs": [],
   "source": [
    "\n",
    "p = '/Users/tstoeger/Dropbox/aging_map_paper/datasets/general/resources/publications/jochems_2021/mmc2.xlsx'\n",
    "\n",
    "df = pd.read_excel(p).dropna(subset=['Padj'])\n",
    "\n",
    "df = df[['Gene name', 'LogFC']].rename(columns={\n",
    "    'Gene name': 'symbol',\n",
    "    'LogFC': 'fold_change'\n",
    "}).groupby('symbol').median().reset_index()\n",
    "\n"
   ]
  },
  {
   "cell_type": "code",
   "execution_count": 20,
   "metadata": {},
   "outputs": [],
   "source": [
    "df['symbol'] = df['symbol'].astype(str)"
   ]
  },
  {
   "cell_type": "code",
   "execution_count": 21,
   "metadata": {},
   "outputs": [],
   "source": [
    "from gustav import ncbi"
   ]
  },
  {
   "cell_type": "code",
   "execution_count": null,
   "metadata": {},
   "outputs": [],
   "source": []
  },
  {
   "cell_type": "code",
   "execution_count": 24,
   "metadata": {},
   "outputs": [],
   "source": [
    "df = mapper.symbol_2_gene_ncbi(df, 9606)"
   ]
  },
  {
   "cell_type": "code",
   "execution_count": 25,
   "metadata": {},
   "outputs": [
    {
     "data": {
      "text/html": [
       "<div>\n",
       "<style scoped>\n",
       "    .dataframe tbody tr th:only-of-type {\n",
       "        vertical-align: middle;\n",
       "    }\n",
       "\n",
       "    .dataframe tbody tr th {\n",
       "        vertical-align: top;\n",
       "    }\n",
       "\n",
       "    .dataframe thead th {\n",
       "        text-align: right;\n",
       "    }\n",
       "</style>\n",
       "<table border=\"1\" class=\"dataframe\">\n",
       "  <thead>\n",
       "    <tr style=\"text-align: right;\">\n",
       "      <th></th>\n",
       "      <th>gene_ncbi</th>\n",
       "      <th>fold_change</th>\n",
       "    </tr>\n",
       "  </thead>\n",
       "  <tbody>\n",
       "    <tr>\n",
       "      <th>0</th>\n",
       "      <td>1</td>\n",
       "      <td>-0.222755</td>\n",
       "    </tr>\n",
       "    <tr>\n",
       "      <th>1</th>\n",
       "      <td>2</td>\n",
       "      <td>0.612446</td>\n",
       "    </tr>\n",
       "    <tr>\n",
       "      <th>2</th>\n",
       "      <td>9</td>\n",
       "      <td>0.610973</td>\n",
       "    </tr>\n",
       "    <tr>\n",
       "      <th>3</th>\n",
       "      <td>10</td>\n",
       "      <td>2.438792</td>\n",
       "    </tr>\n",
       "    <tr>\n",
       "      <th>4</th>\n",
       "      <td>12</td>\n",
       "      <td>0.793623</td>\n",
       "    </tr>\n",
       "    <tr>\n",
       "      <th>...</th>\n",
       "      <td>...</td>\n",
       "      <td>...</td>\n",
       "    </tr>\n",
       "    <tr>\n",
       "      <th>17695</th>\n",
       "      <td>114108587</td>\n",
       "      <td>0.606954</td>\n",
       "    </tr>\n",
       "    <tr>\n",
       "      <th>17696</th>\n",
       "      <td>114515521</td>\n",
       "      <td>0.852736</td>\n",
       "    </tr>\n",
       "    <tr>\n",
       "      <th>17697</th>\n",
       "      <td>115072896</td>\n",
       "      <td>-0.216661</td>\n",
       "    </tr>\n",
       "    <tr>\n",
       "      <th>17698</th>\n",
       "      <td>115804232</td>\n",
       "      <td>0.492588</td>\n",
       "    </tr>\n",
       "    <tr>\n",
       "      <th>17699</th>\n",
       "      <td>115830329</td>\n",
       "      <td>0.959038</td>\n",
       "    </tr>\n",
       "  </tbody>\n",
       "</table>\n",
       "<p>17700 rows × 2 columns</p>\n",
       "</div>"
      ],
      "text/plain": [
       "       gene_ncbi  fold_change\n",
       "0              1    -0.222755\n",
       "1              2     0.612446\n",
       "2              9     0.610973\n",
       "3             10     2.438792\n",
       "4             12     0.793623\n",
       "...          ...          ...\n",
       "17695  114108587     0.606954\n",
       "17696  114515521     0.852736\n",
       "17697  115072896    -0.216661\n",
       "17698  115804232     0.492588\n",
       "17699  115830329     0.959038\n",
       "\n",
       "[17700 rows x 2 columns]"
      ]
     },
     "execution_count": 25,
     "metadata": {},
     "output_type": "execute_result"
    }
   ],
   "source": [
    "df"
   ]
  },
  {
   "cell_type": "code",
   "execution_count": 26,
   "metadata": {},
   "outputs": [],
   "source": [
    "d = pd.merge(df, pr)"
   ]
  },
  {
   "cell_type": "code",
   "execution_count": 27,
   "metadata": {},
   "outputs": [
    {
     "data": {
      "text/plain": [
       "SpearmanrResult(correlation=0.04698914058793894, pvalue=5.202100016573521e-09)"
      ]
     },
     "execution_count": 27,
     "metadata": {},
     "output_type": "execute_result"
    }
   ],
   "source": [
    "spearmanr(d['length'], d['fold_change'])"
   ]
  },
  {
   "cell_type": "code",
   "execution_count": 28,
   "metadata": {},
   "outputs": [
    {
     "data": {
      "text/plain": [
       "<AxesSubplot:xlabel='up', ylabel='log_length'>"
      ]
     },
     "execution_count": 28,
     "metadata": {},
     "output_type": "execute_result"
    },
    {
     "data": {
      "image/png": "[encoded data removed]",
      "text/plain": [
       "<Figure size 432x288 with 1 Axes>"
      ]
     },
     "metadata": {
      "needs_background": "light"
     },
     "output_type": "display_data"
    }
   ],
   "source": [
    "d['up'] = d['fold_change'] > 0\n",
    "\n",
    "sns.boxplot(\n",
    "    x='up',\n",
    "    y='log_length',\n",
    "    data=d,\n",
    "    notch=True\n",
    ")"
   ]
  },
  {
   "cell_type": "code",
   "execution_count": null,
   "metadata": {},
   "outputs": [],
   "source": []
  },
  {
   "cell_type": "code",
   "execution_count": null,
   "metadata": {},
   "outputs": [],
   "source": []
  },
  {
   "cell_type": "code",
   "execution_count": null,
   "metadata": {},
   "outputs": [],
   "source": []
  }
 ],
 "metadata": {
  "kernelspec": {
   "display_name": "Python 3",
   "language": "python",
   "name": "python3"
  },
  "language_info": {
   "codemirror_mode": {
    "name": "ipython",
    "version": 3
   },
   "file_extension": ".py",
   "mimetype": "text/x-python",
   "name": "python",
   "nbconvert_exporter": "python",
   "pygments_lexer": "ipython3",
   "version": "3.7.3"
  },
  "toc": {
   "base_numbering": 1,
   "nav_menu": {},
   "number_sections": true,
   "sideBar": true,
   "skip_h1_title": false,
   "title_cell": "Table of Contents",
   "title_sidebar": "Contents",
   "toc_cell": false,
   "toc_position": {},
   "toc_section_display": true,
   "toc_window_display": false
  }
 },
 "nbformat": 4,
 "nbformat_minor": 2
}
