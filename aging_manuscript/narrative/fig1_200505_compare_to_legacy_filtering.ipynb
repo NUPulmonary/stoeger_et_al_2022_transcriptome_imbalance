{
 "cells": [
  {
   "cell_type": "code",
   "execution_count": 1,
   "metadata": {},
   "outputs": [],
   "source": [
    "%matplotlib inline\n",
    "%reload_ext autoreload\n",
    "%autoreload 2"
   ]
  },
  {
   "cell_type": "code",
   "execution_count": 2,
   "metadata": {},
   "outputs": [],
   "source": [
    "import matplotlib as mpl\n",
    "mpl.rcParams['pdf.fonttype'] = 42\n",
    "mpl.rcParams['font.family'] = 'Arial'"
   ]
  },
  {
   "cell_type": "code",
   "execution_count": 3,
   "metadata": {},
   "outputs": [],
   "source": [
    "import os\n",
    "import sys\n",
    "\n",
    "src_dir = './../../src/'\n",
    "sys.path[0] = src_dir\n",
    "\n",
    "import matplotlib.pyplot as plt\n",
    "\n",
    "import glob\n",
    "\n",
    "import numpy as np\n",
    "import pandas as pd\n",
    "import seaborn as sns\n",
    "\n",
    "from collections import OrderedDict\n",
    "\n",
    "from access_biology_data import meta, relations, properties\n",
    "from access_literature_data import medline\n",
    "from access_science_shared import standardizer "
   ]
  },
  {
   "cell_type": "code",
   "execution_count": 4,
   "metadata": {},
   "outputs": [],
   "source": [
    "sys.path.append('./../src/')\n",
    "from aging_tools import inout, export\n",
    "from access_aging_data import earlier_studies, chaperome, companions, sequencing\n",
    "\n",
    "from access_science_shared import standardizer"
   ]
  },
  {
   "cell_type": "code",
   "execution_count": 5,
   "metadata": {},
   "outputs": [],
   "source": [
    "from narrative import nar181026_heat_confidence_genes\n",
    "from narrative import nar181205_networks"
   ]
  },
  {
   "cell_type": "code",
   "execution_count": 6,
   "metadata": {},
   "outputs": [],
   "source": [
    "save_images = True"
   ]
  },
  {
   "cell_type": "code",
   "execution_count": 7,
   "metadata": {},
   "outputs": [],
   "source": [
    "outfolder = '200505_compare_to_legacy_filtering'"
   ]
  },
  {
   "cell_type": "code",
   "execution_count": 8,
   "metadata": {},
   "outputs": [
    {
     "name": "stderr",
     "output_type": "stream",
     "text": [
      "/Users/tstoeger/anaconda3/lib/python3.7/site-packages/fastparquet/dataframe.py:5: FutureWarning: pandas.core.index is deprecated and will be removed in a future version.  The public classes are available in the top-level namespace.\n",
      "  from pandas.core.index import CategoricalIndex, RangeIndex, Index, MultiIndex\n"
     ]
    }
   ],
   "source": [
    "ref_genes = standardizer.reference_genes(10090, 'orp')"
   ]
  },
  {
   "cell_type": "code",
   "execution_count": 9,
   "metadata": {},
   "outputs": [],
   "source": [
    "pr = properties.genbank_validated_rna(10090)[['gene_ncbi', 'Genbank_validated_RNA: full_SumACGT']].rename(columns={\n",
    "    'Genbank_validated_RNA: full_SumACGT': 'length'\n",
    "})\n",
    "\n",
    "pr.loc[:, 'log_length'] = np.log10(pr['length'])"
   ]
  },
  {
   "cell_type": "code",
   "execution_count": null,
   "metadata": {},
   "outputs": [],
   "source": []
  },
  {
   "cell_type": "code",
   "execution_count": null,
   "metadata": {},
   "outputs": [],
   "source": []
  },
  {
   "cell_type": "code",
   "execution_count": null,
   "metadata": {},
   "outputs": [],
   "source": []
  },
  {
   "cell_type": "code",
   "execution_count": null,
   "metadata": {},
   "outputs": [],
   "source": []
  },
  {
   "cell_type": "code",
   "execution_count": 10,
   "metadata": {},
   "outputs": [],
   "source": [
    "all_de, detection, mice_in_comparisons, triplicate_series = nar181026_heat_confidence_genes.load_detection(\n",
    "    detection_column='padj')\n",
    "\n",
    "tissues_to_consider = ['BAT', 'Blood', 'GutEP', 'MuscSat', 'Adrenal', 'Kidney',\n",
    "       'Heart', 'Liver', 'Skin', 'Stomach', 'Brain', 'SI',\n",
    "       'LI', 'Cerebellum', 'WAT', 'Esophagus', 'Lung'] \n",
    "\n",
    "\n",
    "all_de_orp = all_de[\n",
    "    (all_de['tissue'].isin(tissues_to_consider)) & \n",
    "    (all_de['pfu']==0) &\n",
    "    (all_de['younger']==4) &   \n",
    "    (all_de['de_unit']=='both') & \n",
    "    (all_de['padj'].notnull()) & \n",
    "    (all_de['gene_ncbi'].isin(ref_genes))\n",
    "\n",
    "]"
   ]
  },
  {
   "cell_type": "code",
   "execution_count": 11,
   "metadata": {},
   "outputs": [],
   "source": [
    "df_diff_expression = pd.read_csv(\n",
    "    inout.get_internal_path(\n",
    "        'datasets/tstoeger/200505_pooled_differential_expression_legacy/age_groups.csv.gz'),\n",
    ")\n",
    "\n",
    "from access_biology_data import gene_mapper\n",
    "\n",
    "df_legacy  = df_diff_expression.drop_duplicates(\n",
    "    ['gene_ncbi', 'tissue', 'youngest', 'oldest', 'pfu'], keep=False)[\n",
    "    ['gene_ncbi', 'log2FoldChange', 'pvalue', 'padj', 'tissue', 'youngest', 'oldest', 'pfu']\n",
    "]"
   ]
  },
  {
   "cell_type": "code",
   "execution_count": 12,
   "metadata": {},
   "outputs": [
    {
     "data": {
      "text/html": [
       "<div>\n",
       "<style scoped>\n",
       "    .dataframe tbody tr th:only-of-type {\n",
       "        vertical-align: middle;\n",
       "    }\n",
       "\n",
       "    .dataframe tbody tr th {\n",
       "        vertical-align: top;\n",
       "    }\n",
       "\n",
       "    .dataframe thead th {\n",
       "        text-align: right;\n",
       "    }\n",
       "</style>\n",
       "<table border=\"1\" class=\"dataframe\">\n",
       "  <thead>\n",
       "    <tr style=\"text-align: right;\">\n",
       "      <th></th>\n",
       "      <th>gene_ncbi</th>\n",
       "      <th>log2FoldChange</th>\n",
       "      <th>pvalue</th>\n",
       "      <th>padj</th>\n",
       "      <th>tissue</th>\n",
       "      <th>youngest</th>\n",
       "      <th>oldest</th>\n",
       "      <th>pfu</th>\n",
       "    </tr>\n",
       "  </thead>\n",
       "  <tbody>\n",
       "    <tr>\n",
       "      <th>0</th>\n",
       "      <td>68750.0</td>\n",
       "      <td>-0.720189</td>\n",
       "      <td>0.000001</td>\n",
       "      <td>0.024899</td>\n",
       "      <td>BAT</td>\n",
       "      <td>12.0</td>\n",
       "      <td>18.0</td>\n",
       "      <td>0.0</td>\n",
       "    </tr>\n",
       "    <tr>\n",
       "      <th>1</th>\n",
       "      <td>16480.0</td>\n",
       "      <td>-0.436403</td>\n",
       "      <td>0.000056</td>\n",
       "      <td>0.183339</td>\n",
       "      <td>BAT</td>\n",
       "      <td>12.0</td>\n",
       "      <td>18.0</td>\n",
       "      <td>0.0</td>\n",
       "    </tr>\n",
       "    <tr>\n",
       "      <th>2</th>\n",
       "      <td>16777.0</td>\n",
       "      <td>-0.786205</td>\n",
       "      <td>0.000041</td>\n",
       "      <td>0.183339</td>\n",
       "      <td>BAT</td>\n",
       "      <td>12.0</td>\n",
       "      <td>18.0</td>\n",
       "      <td>0.0</td>\n",
       "    </tr>\n",
       "    <tr>\n",
       "      <th>3</th>\n",
       "      <td>170768.0</td>\n",
       "      <td>-0.491866</td>\n",
       "      <td>0.000053</td>\n",
       "      <td>0.183339</td>\n",
       "      <td>BAT</td>\n",
       "      <td>12.0</td>\n",
       "      <td>18.0</td>\n",
       "      <td>0.0</td>\n",
       "    </tr>\n",
       "    <tr>\n",
       "      <th>4</th>\n",
       "      <td>99929.0</td>\n",
       "      <td>0.591528</td>\n",
       "      <td>0.000026</td>\n",
       "      <td>0.183339</td>\n",
       "      <td>BAT</td>\n",
       "      <td>12.0</td>\n",
       "      <td>18.0</td>\n",
       "      <td>0.0</td>\n",
       "    </tr>\n",
       "    <tr>\n",
       "      <th>...</th>\n",
       "      <td>...</td>\n",
       "      <td>...</td>\n",
       "      <td>...</td>\n",
       "      <td>...</td>\n",
       "      <td>...</td>\n",
       "      <td>...</td>\n",
       "      <td>...</td>\n",
       "      <td>...</td>\n",
       "    </tr>\n",
       "    <tr>\n",
       "      <th>5853014</th>\n",
       "      <td>110454.0</td>\n",
       "      <td>-0.831287</td>\n",
       "      <td>NaN</td>\n",
       "      <td>NaN</td>\n",
       "      <td>SI</td>\n",
       "      <td>9.0</td>\n",
       "      <td>18.0</td>\n",
       "      <td>0.0</td>\n",
       "    </tr>\n",
       "    <tr>\n",
       "      <th>5853019</th>\n",
       "      <td>667373.0</td>\n",
       "      <td>-1.606826</td>\n",
       "      <td>NaN</td>\n",
       "      <td>NaN</td>\n",
       "      <td>SI</td>\n",
       "      <td>9.0</td>\n",
       "      <td>18.0</td>\n",
       "      <td>0.0</td>\n",
       "    </tr>\n",
       "    <tr>\n",
       "      <th>5853020</th>\n",
       "      <td>227327.0</td>\n",
       "      <td>-1.934882</td>\n",
       "      <td>NaN</td>\n",
       "      <td>NaN</td>\n",
       "      <td>SI</td>\n",
       "      <td>9.0</td>\n",
       "      <td>18.0</td>\n",
       "      <td>0.0</td>\n",
       "    </tr>\n",
       "    <tr>\n",
       "      <th>5853021</th>\n",
       "      <td>15013.0</td>\n",
       "      <td>-0.120428</td>\n",
       "      <td>NaN</td>\n",
       "      <td>NaN</td>\n",
       "      <td>SI</td>\n",
       "      <td>9.0</td>\n",
       "      <td>18.0</td>\n",
       "      <td>0.0</td>\n",
       "    </tr>\n",
       "    <tr>\n",
       "      <th>5853022</th>\n",
       "      <td>433653.0</td>\n",
       "      <td>-2.003963</td>\n",
       "      <td>NaN</td>\n",
       "      <td>NaN</td>\n",
       "      <td>SI</td>\n",
       "      <td>9.0</td>\n",
       "      <td>18.0</td>\n",
       "      <td>0.0</td>\n",
       "    </tr>\n",
       "  </tbody>\n",
       "</table>\n",
       "<p>4718141 rows × 8 columns</p>\n",
       "</div>"
      ],
      "text/plain": [
       "         gene_ncbi  log2FoldChange    pvalue      padj tissue  youngest  \\\n",
       "0          68750.0       -0.720189  0.000001  0.024899    BAT      12.0   \n",
       "1          16480.0       -0.436403  0.000056  0.183339    BAT      12.0   \n",
       "2          16777.0       -0.786205  0.000041  0.183339    BAT      12.0   \n",
       "3         170768.0       -0.491866  0.000053  0.183339    BAT      12.0   \n",
       "4          99929.0        0.591528  0.000026  0.183339    BAT      12.0   \n",
       "...            ...             ...       ...       ...    ...       ...   \n",
       "5853014   110454.0       -0.831287       NaN       NaN     SI       9.0   \n",
       "5853019   667373.0       -1.606826       NaN       NaN     SI       9.0   \n",
       "5853020   227327.0       -1.934882       NaN       NaN     SI       9.0   \n",
       "5853021    15013.0       -0.120428       NaN       NaN     SI       9.0   \n",
       "5853022   433653.0       -2.003963       NaN       NaN     SI       9.0   \n",
       "\n",
       "         oldest  pfu  \n",
       "0          18.0  0.0  \n",
       "1          18.0  0.0  \n",
       "2          18.0  0.0  \n",
       "3          18.0  0.0  \n",
       "4          18.0  0.0  \n",
       "...         ...  ...  \n",
       "5853014    18.0  0.0  \n",
       "5853019    18.0  0.0  \n",
       "5853020    18.0  0.0  \n",
       "5853021    18.0  0.0  \n",
       "5853022    18.0  0.0  \n",
       "\n",
       "[4718141 rows x 8 columns]"
      ]
     },
     "execution_count": 12,
     "metadata": {},
     "output_type": "execute_result"
    }
   ],
   "source": [
    "df_legacy"
   ]
  },
  {
   "cell_type": "code",
   "execution_count": null,
   "metadata": {},
   "outputs": [],
   "source": []
  },
  {
   "cell_type": "code",
   "execution_count": 14,
   "metadata": {},
   "outputs": [],
   "source": [
    "df_legacy = df_legacy[\n",
    "    (df_legacy['tissue'].isin(tissues_to_consider)) & \n",
    "    (df_legacy['pfu']==0) &\n",
    "    (df_legacy['youngest']==4) &  \n",
    "    (df_legacy['padj'].notnull()) &\n",
    "    (df_legacy['gene_ncbi'].isin(ref_genes))\n",
    "\n",
    "]"
   ]
  },
  {
   "cell_type": "code",
   "execution_count": null,
   "metadata": {},
   "outputs": [],
   "source": []
  },
  {
   "cell_type": "code",
   "execution_count": null,
   "metadata": {},
   "outputs": [],
   "source": []
  },
  {
   "cell_type": "code",
   "execution_count": null,
   "metadata": {},
   "outputs": [],
   "source": []
  },
  {
   "cell_type": "code",
   "execution_count": 15,
   "metadata": {},
   "outputs": [],
   "source": [
    "from scipy.stats import spearmanr"
   ]
  },
  {
   "cell_type": "code",
   "execution_count": 16,
   "metadata": {},
   "outputs": [],
   "source": [
    "from natsort import natsorted"
   ]
  },
  {
   "cell_type": "code",
   "execution_count": 17,
   "metadata": {},
   "outputs": [],
   "source": [
    "conditions = natsorted(all_de['condition'].unique())"
   ]
  },
  {
   "cell_type": "code",
   "execution_count": 18,
   "metadata": {},
   "outputs": [],
   "source": [
    "de_set = all_de_orp.copy()"
   ]
  },
  {
   "cell_type": "code",
   "execution_count": 19,
   "metadata": {},
   "outputs": [],
   "source": [
    "ages = all_de_orp['older'].unique()"
   ]
  },
  {
   "cell_type": "code",
   "execution_count": 20,
   "metadata": {},
   "outputs": [],
   "source": [
    "from itertools import product"
   ]
  },
  {
   "cell_type": "code",
   "execution_count": null,
   "metadata": {},
   "outputs": [],
   "source": []
  },
  {
   "cell_type": "code",
   "execution_count": 21,
   "metadata": {},
   "outputs": [],
   "source": [
    "\n",
    "    \n",
    "out = pd.DataFrame(index=tissues_to_consider, columns=ages)\n",
    "\n",
    "\n",
    "for tissue, age in product(tissues_to_consider, ages):\n",
    "\n",
    "    d = de_set[\n",
    "        (de_set['older']==age) &\n",
    "        (de_set['tissue']==tissue)\n",
    "    ]\n",
    "\n",
    "    d = d[['gene_ncbi', 'o_over_y']].dropna()\n",
    "    d = pd.merge(d, pr)\n",
    "\n",
    "    r, p = spearmanr(d['log_length'], d['o_over_y'])\n",
    "    d = d.set_index('gene_ncbi')\n",
    "\n",
    "    out.loc[tissue, age] = r"
   ]
  },
  {
   "cell_type": "code",
   "execution_count": 22,
   "metadata": {},
   "outputs": [],
   "source": [
    "out_legacy = pd.DataFrame(index=tissues_to_consider, columns=ages)\n",
    "\n",
    "\n",
    "for tissue, age in product(tissues_to_consider, ages):\n",
    "\n",
    "    d = df_legacy[\n",
    "        (df_legacy['oldest']==age) &\n",
    "        (df_legacy['tissue']==tissue)\n",
    "    ]\n",
    "\n",
    "    d = d[['gene_ncbi', 'log2FoldChange']].dropna()\n",
    "    d = pd.merge(d, pr)\n",
    "\n",
    "    r, p = spearmanr(d['log_length'], d['log2FoldChange'])\n",
    "    d = d.set_index('gene_ncbi')\n",
    "\n",
    "    out_legacy.loc[tissue, age] = r"
   ]
  },
  {
   "cell_type": "code",
   "execution_count": 23,
   "metadata": {},
   "outputs": [],
   "source": [
    "original = out.stack().reset_index().rename(columns={'level_0': 'tissue', 'level_1': 'age', 0: 'imbalance'})"
   ]
  },
  {
   "cell_type": "code",
   "execution_count": 24,
   "metadata": {},
   "outputs": [],
   "source": [
    "legacy = out_legacy.stack().reset_index().rename(columns={'level_0': 'tissue', 'level_1': 'age', 0: 'imbalance'})"
   ]
  },
  {
   "cell_type": "code",
   "execution_count": null,
   "metadata": {},
   "outputs": [],
   "source": []
  },
  {
   "cell_type": "code",
   "execution_count": 25,
   "metadata": {},
   "outputs": [],
   "source": [
    "master = pd.merge(original, legacy, on=['tissue', 'age'], suffixes=('_orig', '_legacy'))"
   ]
  },
  {
   "cell_type": "code",
   "execution_count": null,
   "metadata": {},
   "outputs": [],
   "source": []
  },
  {
   "cell_type": "code",
   "execution_count": 26,
   "metadata": {},
   "outputs": [
    {
     "data": {
      "text/plain": [
       "-0.678337996139979"
      ]
     },
     "execution_count": 26,
     "metadata": {},
     "output_type": "execute_result"
    }
   ],
   "source": [
    "master[['imbalance_orig', 'imbalance_legacy']].min(1).min()"
   ]
  },
  {
   "cell_type": "code",
   "execution_count": null,
   "metadata": {},
   "outputs": [],
   "source": []
  },
  {
   "cell_type": "code",
   "execution_count": 27,
   "metadata": {},
   "outputs": [
    {
     "data": {
      "text/plain": [
       "SpearmanrResult(correlation=0.862503340077108, pvalue=3.3840274632041098e-21)"
      ]
     },
     "execution_count": 27,
     "metadata": {},
     "output_type": "execute_result"
    },
    {
     "data": {
      "image/png": "[encoded data removed]",
      "text/plain": [
       "<Figure size 360x360 with 1 Axes>"
      ]
     },
     "metadata": {
      "needs_background": "light"
     },
     "output_type": "display_data"
    }
   ],
   "source": [
    "\n",
    "plt.figure(figsize=(5, 5))\n",
    "plt.scatter(master['imbalance_orig'], master['imbalance_legacy'])\n",
    "plt.xlabel('Original pipeline')\n",
    "plt.ylabel('Alternate pipeline')\n",
    "\n",
    "mi = master[['imbalance_orig', 'imbalance_legacy']].min(1).min()-0.05\n",
    "ma = master[['imbalance_orig', 'imbalance_legacy']].max(1).max()+0.05\n",
    "plt.xlim([mi, ma])\n",
    "plt.ylim([mi, ma])\n",
    "\n",
    "\n",
    "\n",
    "if save_images:\n",
    "    export.export_image('{}/alternate_analysis_pipeline.pdf'.format(outfolder))\n",
    "\n",
    "\n",
    "\n",
    "spearmanr(master['imbalance_orig'], master['imbalance_legacy'])"
   ]
  },
  {
   "cell_type": "code",
   "execution_count": 28,
   "metadata": {},
   "outputs": [
    {
     "data": {
      "text/html": [
       "<div>\n",
       "<style scoped>\n",
       "    .dataframe tbody tr th:only-of-type {\n",
       "        vertical-align: middle;\n",
       "    }\n",
       "\n",
       "    .dataframe tbody tr th {\n",
       "        vertical-align: top;\n",
       "    }\n",
       "\n",
       "    .dataframe thead th {\n",
       "        text-align: right;\n",
       "    }\n",
       "</style>\n",
       "<table border=\"1\" class=\"dataframe\">\n",
       "  <thead>\n",
       "    <tr style=\"text-align: right;\">\n",
       "      <th></th>\n",
       "      <th>tissue</th>\n",
       "      <th>age</th>\n",
       "      <th>imbalance_orig</th>\n",
       "      <th>imbalance_legacy</th>\n",
       "    </tr>\n",
       "  </thead>\n",
       "  <tbody>\n",
       "    <tr>\n",
       "      <th>24</th>\n",
       "      <td>Heart</td>\n",
       "      <td>18.0</td>\n",
       "      <td>0.526734</td>\n",
       "      <td>-0.52713</td>\n",
       "    </tr>\n",
       "    <tr>\n",
       "      <th>65</th>\n",
       "      <td>Lung</td>\n",
       "      <td>12.0</td>\n",
       "      <td>0.0295905</td>\n",
       "      <td>-0.28163</td>\n",
       "    </tr>\n",
       "    <tr>\n",
       "      <th>67</th>\n",
       "      <td>Lung</td>\n",
       "      <td>24.0</td>\n",
       "      <td>0.143915</td>\n",
       "      <td>-0.0238353</td>\n",
       "    </tr>\n",
       "  </tbody>\n",
       "</table>\n",
       "</div>"
      ],
      "text/plain": [
       "   tissue   age imbalance_orig imbalance_legacy\n",
       "24  Heart  18.0       0.526734         -0.52713\n",
       "65   Lung  12.0      0.0295905         -0.28163\n",
       "67   Lung  24.0       0.143915       -0.0238353"
      ]
     },
     "execution_count": 28,
     "metadata": {},
     "output_type": "execute_result"
    }
   ],
   "source": [
    "master[\n",
    "    (master['imbalance_orig']>0) & \n",
    "    (master['imbalance_legacy']<0) \n",
    "]"
   ]
  },
  {
   "cell_type": "code",
   "execution_count": 29,
   "metadata": {},
   "outputs": [
    {
     "data": {
      "text/html": [
       "<div>\n",
       "<style scoped>\n",
       "    .dataframe tbody tr th:only-of-type {\n",
       "        vertical-align: middle;\n",
       "    }\n",
       "\n",
       "    .dataframe tbody tr th {\n",
       "        vertical-align: top;\n",
       "    }\n",
       "\n",
       "    .dataframe thead th {\n",
       "        text-align: right;\n",
       "    }\n",
       "</style>\n",
       "<table border=\"1\" class=\"dataframe\">\n",
       "  <thead>\n",
       "    <tr style=\"text-align: right;\">\n",
       "      <th></th>\n",
       "      <th>tissue</th>\n",
       "      <th>age</th>\n",
       "      <th>imbalance_orig</th>\n",
       "      <th>imbalance_legacy</th>\n",
       "    </tr>\n",
       "  </thead>\n",
       "  <tbody>\n",
       "    <tr>\n",
       "      <th>48</th>\n",
       "      <td>LI</td>\n",
       "      <td>18.0</td>\n",
       "      <td>-0.678338</td>\n",
       "      <td>-0.241746</td>\n",
       "    </tr>\n",
       "    <tr>\n",
       "      <th>7</th>\n",
       "      <td>Blood</td>\n",
       "      <td>24.0</td>\n",
       "      <td>-0.646453</td>\n",
       "      <td>-0.624738</td>\n",
       "    </tr>\n",
       "    <tr>\n",
       "      <th>23</th>\n",
       "      <td>Kidney</td>\n",
       "      <td>24.0</td>\n",
       "      <td>-0.599801</td>\n",
       "      <td>-0.593565</td>\n",
       "    </tr>\n",
       "    <tr>\n",
       "      <th>47</th>\n",
       "      <td>SI</td>\n",
       "      <td>24.0</td>\n",
       "      <td>-0.548157</td>\n",
       "      <td>-0.548157</td>\n",
       "    </tr>\n",
       "    <tr>\n",
       "      <th>51</th>\n",
       "      <td>LI</td>\n",
       "      <td>24.0</td>\n",
       "      <td>-0.522198</td>\n",
       "      <td>-0.522347</td>\n",
       "    </tr>\n",
       "    <tr>\n",
       "      <th>39</th>\n",
       "      <td>Stomach</td>\n",
       "      <td>24.0</td>\n",
       "      <td>-0.438255</td>\n",
       "      <td>-0.438252</td>\n",
       "    </tr>\n",
       "    <tr>\n",
       "      <th>54</th>\n",
       "      <td>Cerebellum</td>\n",
       "      <td>9.0</td>\n",
       "      <td>-0.337097</td>\n",
       "      <td>-0.336979</td>\n",
       "    </tr>\n",
       "    <tr>\n",
       "      <th>3</th>\n",
       "      <td>BAT</td>\n",
       "      <td>24.0</td>\n",
       "      <td>-0.334887</td>\n",
       "      <td>-0.241689</td>\n",
       "    </tr>\n",
       "    <tr>\n",
       "      <th>49</th>\n",
       "      <td>LI</td>\n",
       "      <td>12.0</td>\n",
       "      <td>-0.326627</td>\n",
       "      <td>-0.326672</td>\n",
       "    </tr>\n",
       "    <tr>\n",
       "      <th>61</th>\n",
       "      <td>Esophagus</td>\n",
       "      <td>12.0</td>\n",
       "      <td>-0.311499</td>\n",
       "      <td>-0.311474</td>\n",
       "    </tr>\n",
       "    <tr>\n",
       "      <th>63</th>\n",
       "      <td>Esophagus</td>\n",
       "      <td>24.0</td>\n",
       "      <td>-0.310671</td>\n",
       "      <td>-0.310671</td>\n",
       "    </tr>\n",
       "    <tr>\n",
       "      <th>21</th>\n",
       "      <td>Kidney</td>\n",
       "      <td>12.0</td>\n",
       "      <td>-0.281026</td>\n",
       "      <td>-0.237095</td>\n",
       "    </tr>\n",
       "    <tr>\n",
       "      <th>38</th>\n",
       "      <td>Stomach</td>\n",
       "      <td>9.0</td>\n",
       "      <td>-0.2653</td>\n",
       "      <td>-0.2653</td>\n",
       "    </tr>\n",
       "    <tr>\n",
       "      <th>26</th>\n",
       "      <td>Heart</td>\n",
       "      <td>9.0</td>\n",
       "      <td>-0.262512</td>\n",
       "      <td>-0.262446</td>\n",
       "    </tr>\n",
       "    <tr>\n",
       "      <th>11</th>\n",
       "      <td>GutEP</td>\n",
       "      <td>24.0</td>\n",
       "      <td>-0.254853</td>\n",
       "      <td>-0.254833</td>\n",
       "    </tr>\n",
       "  </tbody>\n",
       "</table>\n",
       "</div>"
      ],
      "text/plain": [
       "        tissue   age imbalance_orig imbalance_legacy\n",
       "48          LI  18.0      -0.678338        -0.241746\n",
       "7        Blood  24.0      -0.646453        -0.624738\n",
       "23      Kidney  24.0      -0.599801        -0.593565\n",
       "47          SI  24.0      -0.548157        -0.548157\n",
       "51          LI  24.0      -0.522198        -0.522347\n",
       "39     Stomach  24.0      -0.438255        -0.438252\n",
       "54  Cerebellum   9.0      -0.337097        -0.336979\n",
       "3          BAT  24.0      -0.334887        -0.241689\n",
       "49          LI  12.0      -0.326627        -0.326672\n",
       "61   Esophagus  12.0      -0.311499        -0.311474\n",
       "63   Esophagus  24.0      -0.310671        -0.310671\n",
       "21      Kidney  12.0      -0.281026        -0.237095\n",
       "38     Stomach   9.0        -0.2653          -0.2653\n",
       "26       Heart   9.0      -0.262512        -0.262446\n",
       "11       GutEP  24.0      -0.254853        -0.254833"
      ]
     },
     "execution_count": 29,
     "metadata": {},
     "output_type": "execute_result"
    }
   ],
   "source": [
    "master[\n",
    "    (master['imbalance_orig']<-0.2)\n",
    "].sort_values('imbalance_orig')"
   ]
  },
  {
   "cell_type": "code",
   "execution_count": 30,
   "metadata": {},
   "outputs": [],
   "source": [
    "if save_images:\n",
    "    export.export_full_frame(\n",
    "        os.path.join(outfolder, 'imbalances.xlsx'),\n",
    "        master.sort_values('imbalance_orig')\n",
    "    )"
   ]
  },
  {
   "cell_type": "code",
   "execution_count": null,
   "metadata": {},
   "outputs": [],
   "source": []
  },
  {
   "cell_type": "code",
   "execution_count": null,
   "metadata": {},
   "outputs": [],
   "source": []
  },
  {
   "cell_type": "code",
   "execution_count": null,
   "metadata": {},
   "outputs": [],
   "source": []
  },
  {
   "cell_type": "code",
   "execution_count": null,
   "metadata": {},
   "outputs": [],
   "source": []
  }
 ],
 "metadata": {
  "kernelspec": {
   "display_name": "Python 3",
   "language": "python",
   "name": "python3"
  },
  "language_info": {
   "codemirror_mode": {
    "name": "ipython",
    "version": 3
   },
   "file_extension": ".py",
   "mimetype": "text/x-python",
   "name": "python",
   "nbconvert_exporter": "python",
   "pygments_lexer": "ipython3",
   "version": "3.7.3"
  }
 },
 "nbformat": 4,
 "nbformat_minor": 2
}
