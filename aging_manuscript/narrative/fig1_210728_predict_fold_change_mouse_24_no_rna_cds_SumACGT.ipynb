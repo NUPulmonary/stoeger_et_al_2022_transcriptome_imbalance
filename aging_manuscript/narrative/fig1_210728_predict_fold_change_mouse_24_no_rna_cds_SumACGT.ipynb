{
 "cells": [
  {
   "cell_type": "code",
   "execution_count": 1,
   "metadata": {},
   "outputs": [],
   "source": [
    "%matplotlib inline\n",
    "%reload_ext autoreload\n",
    "%autoreload 2"
   ]
  },
  {
   "cell_type": "code",
   "execution_count": 2,
   "metadata": {},
   "outputs": [],
   "source": [
    "import matplotlib as mpl\n",
    "mpl.rcParams['pdf.fonttype'] = 42\n",
    "mpl.rcParams['font.family'] = 'Arial'"
   ]
  },
  {
   "cell_type": "code",
   "execution_count": 3,
   "metadata": {},
   "outputs": [],
   "source": [
    "import os\n",
    "import sys\n",
    "\n",
    "src_dir = './../../src/'\n",
    "sys.path[0] = src_dir\n",
    "\n",
    "import matplotlib.pyplot as plt\n",
    "\n",
    "import glob\n",
    "\n",
    "import numpy as np\n",
    "import pandas as pd\n",
    "import seaborn as sns\n",
    "\n",
    "from collections import OrderedDict\n",
    "\n",
    "from access_biology_data import meta, relations, properties, annotation\n",
    "from access_literature_data import medline\n",
    "from access_science_shared import standardizer, mapper"
   ]
  },
  {
   "cell_type": "code",
   "execution_count": 4,
   "metadata": {},
   "outputs": [],
   "source": [
    "sys.path.append('./../src/')\n",
    "from aging_tools import inout, export\n",
    "from access_aging_data import earlier_studies"
   ]
  },
  {
   "cell_type": "code",
   "execution_count": 5,
   "metadata": {},
   "outputs": [],
   "source": [
    "from narrative import nar181026_heat_confidence_genes, nar190402_features"
   ]
  },
  {
   "cell_type": "code",
   "execution_count": 6,
   "metadata": {},
   "outputs": [],
   "source": [
    "from random import shuffle\n",
    "from scipy.stats import spearmanr\n",
    "from sklearn.ensemble import GradientBoostingRegressor"
   ]
  },
  {
   "cell_type": "code",
   "execution_count": 7,
   "metadata": {},
   "outputs": [
    {
     "name": "stdout",
     "output_type": "stream",
     "text": [
      "210728_predict_fold_change_mouse_24_no_rna_cds_SumACGT\n"
     ]
    }
   ],
   "source": [
    "target_age = 24\n",
    "num_boot = 10\n",
    "start_boot = 0\n",
    "\n",
    "feature_to_remove = 'rna_cds_SumACGT'\n",
    "# feature_to_remove = 'gene_SumACGT'\n",
    "\n",
    "outfolder = '210728_predict_fold_change_mouse_24_no_{}'.format(feature_to_remove)\n",
    "print(outfolder)"
   ]
  },
  {
   "cell_type": "code",
   "execution_count": 8,
   "metadata": {},
   "outputs": [],
   "source": [
    "taxon_id = 10090"
   ]
  },
  {
   "cell_type": "code",
   "execution_count": 9,
   "metadata": {},
   "outputs": [
    {
     "name": "stderr",
     "output_type": "stream",
     "text": [
      "/Users/tstoeger/opt/miniconda3/envs/aging/lib/python3.7/site-packages/fastparquet/dataframe.py:5: FutureWarning: pandas.core.index is deprecated and will be removed in a future version.  The public classes are available in the top-level namespace.\n",
      "  from pandas.core.index import CategoricalIndex, RangeIndex, Index, MultiIndex\n"
     ]
    }
   ],
   "source": [
    "ref_genes = standardizer.reference_genes(taxon_id, 'orp')"
   ]
  },
  {
   "cell_type": "code",
   "execution_count": 10,
   "metadata": {},
   "outputs": [],
   "source": [
    "all_features = nar190402_features.agg_features_190406_with_mirnas(taxon_id=taxon_id)"
   ]
  },
  {
   "cell_type": "code",
   "execution_count": 11,
   "metadata": {},
   "outputs": [],
   "source": [
    "def z_score(x):\n",
    "    x = (x-np.mean(x)) / (np.std(x))\n",
    "    return x"
   ]
  },
  {
   "cell_type": "code",
   "execution_count": 12,
   "metadata": {},
   "outputs": [],
   "source": [
    "all_features = all_features.apply(z_score, axis=0)\n",
    "all_features = all_features[all_features.index.isin(ref_genes)]"
   ]
  },
  {
   "cell_type": "code",
   "execution_count": 13,
   "metadata": {},
   "outputs": [],
   "source": [
    "if feature_to_remove in all_features.columns:\n",
    "    all_features = all_features.drop(feature_to_remove, 1)\n",
    "else:\n",
    "    raise AssertionError('could not find feature')"
   ]
  },
  {
   "cell_type": "code",
   "execution_count": 14,
   "metadata": {},
   "outputs": [],
   "source": [
    "all_de, detection, mice_in_comparisons, triplicate_series = nar181026_heat_confidence_genes.load_detection(\n",
    "    detection_column='padj')\n",
    "\n",
    "tissues_to_consider = ['BAT', 'Blood', 'GutEP', 'MuscSat', 'Adrenal', 'Kidney',\n",
    "       'Heart', 'Liver', 'Skin', 'Stomach', 'Brain', 'SI',\n",
    "       'LI', 'Cerebellum', 'WAT', 'Esophagus', 'Lung'] \n",
    "\n",
    "all_de = all_de[\n",
    "    (all_de['tissue'].isin(tissues_to_consider)) & \n",
    "    (all_de['pfu']==0) &\n",
    "    (all_de['de_unit']=='both') & \n",
    "    (all_de['gene_ncbi'].isin(ref_genes)) & \n",
    "    (all_de['younger']==4) &\n",
    "    (all_de['older']==target_age)\n",
    "]"
   ]
  },
  {
   "cell_type": "code",
   "execution_count": 15,
   "metadata": {},
   "outputs": [],
   "source": [
    "all_de = all_de.sort_values(['younger', 'older'], ascending=[1, 0])"
   ]
  },
  {
   "cell_type": "code",
   "execution_count": 16,
   "metadata": {
    "scrolled": false
   },
   "outputs": [
    {
     "name": "stdout",
     "output_type": "stream",
     "text": [
      "BAT_0_4_24\n",
      "Stomach_0_4_24\n",
      "GutEP_0_4_24\n",
      "Blood_0_4_24\n",
      "WAT_0_4_24\n",
      "Lung_0_4_24\n",
      "Skin_0_4_24\n",
      "Esophagus_0_4_24\n",
      "LI_0_4_24\n",
      "Brain_0_4_24\n",
      "Heart_0_4_24\n",
      "Kidney_0_4_24\n",
      "Liver_0_4_24\n",
      "MuscSat_0_4_24\n",
      "Adrenal_0_4_24\n",
      "SI_0_4_24\n",
      "Cerebellum_0_4_24\n",
      "CPU times: user 1h 34min 21s, sys: 1min 3s, total: 1h 35min 25s\n",
      "Wall time: 1h 56min 29s\n"
     ]
    }
   ],
   "source": [
    "%%time\n",
    "\n",
    "for condition in all_de['condition'].unique():\n",
    "    print(condition)\n",
    "\n",
    "    d = all_de[all_de['condition'] == condition].copy().set_index(\n",
    "        'gene_ncbi', \n",
    "        verify_integrity=True)\n",
    "\n",
    "    g = all_features.copy()\n",
    "    d = d[d.index.isin(g.index)]\n",
    "    g = g.loc[d.index, :]\n",
    "\n",
    "    importances = pd.DataFrame(index=g.columns, columns=range(num_boot))\n",
    "    predictions = pd.DataFrame(index=[condition], columns=range(num_boot))\n",
    "\n",
    "    for j in range(start_boot, start_boot+num_boot):\n",
    "\n",
    "        #rf = RandomForestRegressor(n_jobs=-1, n_estimators=100)\n",
    "        rf = GradientBoostingRegressor(loss='huber')\n",
    "\n",
    "        randix = g.index.values.copy()\n",
    "        thr = int(np.floor(len(randix)*0.9))\n",
    "        shuffle(randix)\n",
    "\n",
    "        rf.fit(g.loc[randix[:thr], :].values, d.loc[randix[:thr], 'o_over_y'].values)\n",
    "\n",
    "        t = rf.predict(g.loc[randix[thr:]])\n",
    "        importances.loc[:, j] = rf.feature_importances_\n",
    "\n",
    "        observed = d.loc[randix[thr:], 'o_over_y']\n",
    "        r = spearmanr(observed, t)[0]\n",
    "        predictions.loc[condition, j] = r\n",
    "\n",
    "        v = pd.Series(index=randix[thr:], data=t).to_frame().reset_index().rename(\n",
    "            columns={'index': 'gene_ncbi', 0: 'predicted'}\n",
    "        )\n",
    "        v.loc[:, 'boot'] = j\n",
    "        v.loc[:, 'observed'] = observed.values\n",
    "        \n",
    "        export.export_full_frame(\n",
    "            '{}/values_{}_{}.csv'.format(outfolder, condition, j), \n",
    "            v,\n",
    "            insert_date_time=False,\n",
    "            save_index=False\n",
    "        )\n",
    "\n",
    "    importances = importances.rename_axis('feature')            \n",
    "\n",
    "    export.export_full_frame(\n",
    "        '{}/features_{}.csv'.format(outfolder, condition), \n",
    "        importances,\n",
    "        insert_date_time=False\n",
    "    )\n",
    "    export.export_full_frame(\n",
    "        '{}/predictions_{}.csv'.format(outfolder, condition),\n",
    "        predictions,\n",
    "        insert_date_time=False\n",
    "    )"
   ]
  },
  {
   "cell_type": "code",
   "execution_count": null,
   "metadata": {},
   "outputs": [],
   "source": []
  }
 ],
 "metadata": {
  "kernelspec": {
   "display_name": "Python 3",
   "language": "python",
   "name": "python3"
  },
  "language_info": {
   "codemirror_mode": {
    "name": "ipython",
    "version": 3
   },
   "file_extension": ".py",
   "mimetype": "text/x-python",
   "name": "python",
   "nbconvert_exporter": "python",
   "pygments_lexer": "ipython3",
   "version": "3.7.3"
  }
 },
 "nbformat": 4,
 "nbformat_minor": 2
}
