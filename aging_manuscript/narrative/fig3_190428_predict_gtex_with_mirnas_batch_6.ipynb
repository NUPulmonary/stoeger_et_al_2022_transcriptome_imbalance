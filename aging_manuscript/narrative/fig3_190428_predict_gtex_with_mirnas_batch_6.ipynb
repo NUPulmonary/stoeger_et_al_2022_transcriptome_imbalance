{
 "cells": [
  {
   "cell_type": "code",
   "execution_count": 1,
   "metadata": {},
   "outputs": [],
   "source": [
    "%matplotlib inline\n",
    "%reload_ext autoreload\n",
    "%autoreload 2"
   ]
  },
  {
   "cell_type": "code",
   "execution_count": 2,
   "metadata": {},
   "outputs": [],
   "source": [
    "import matplotlib as mpl\n",
    "mpl.rcParams['pdf.fonttype'] = 42\n",
    "mpl.rcParams['font.family'] = 'Arial'"
   ]
  },
  {
   "cell_type": "code",
   "execution_count": 3,
   "metadata": {},
   "outputs": [],
   "source": [
    "import gc\n",
    "import os\n",
    "import sys\n",
    "\n",
    "import numpy as np\n",
    "import pandas as pd\n",
    "import seaborn as sns\n",
    "import matplotlib.pyplot as plt\n",
    "\n",
    "from copy import deepcopy\n",
    "from random import shuffle\n",
    "from scipy.stats import spearmanr\n",
    "\n",
    "from access_biology_data import lincs, properties\n",
    "from access_science_shared import standardizer\n",
    "\n",
    "sys.path.append('./../src/')\n",
    "from aging_tools import inout, export\n",
    "\n",
    "from access_biology_data import annotation\n",
    "from access_biology_data import meta"
   ]
  },
  {
   "cell_type": "code",
   "execution_count": 4,
   "metadata": {},
   "outputs": [],
   "source": [
    "from random import shuffle\n",
    "from scipy.stats import spearmanr\n",
    "from sklearn.ensemble import GradientBoostingRegressor"
   ]
  },
  {
   "cell_type": "code",
   "execution_count": 5,
   "metadata": {},
   "outputs": [],
   "source": [
    "from narrative import nar181026_heat_confidence_genes, nar190402_features"
   ]
  },
  {
   "cell_type": "code",
   "execution_count": 6,
   "metadata": {},
   "outputs": [],
   "source": [
    "outfolder = '190428_predict_gtex_with_mirnas'"
   ]
  },
  {
   "cell_type": "code",
   "execution_count": 7,
   "metadata": {},
   "outputs": [],
   "source": [
    "# age_filter = '_4_vs_[23]'\n",
    "# gender = 'males'\n",
    "\n",
    "num_boot = 5\n",
    "start_boot = 0"
   ]
  },
  {
   "cell_type": "code",
   "execution_count": 8,
   "metadata": {},
   "outputs": [],
   "source": [
    "taxon_id = 9606\n",
    "save_images = True\n",
    "\n",
    "current_meta_batch = 6"
   ]
  },
  {
   "cell_type": "code",
   "execution_count": 9,
   "metadata": {},
   "outputs": [],
   "source": [
    "ref_genes = standardizer.reference_genes(taxon_id, 'orp')"
   ]
  },
  {
   "cell_type": "code",
   "execution_count": 10,
   "metadata": {},
   "outputs": [],
   "source": [
    "all_features = nar190402_features.agg_features_190406_with_mirnas(taxon_id=taxon_id)\n",
    "all_features = all_features[all_features.index.isin(ref_genes)]"
   ]
  },
  {
   "cell_type": "code",
   "execution_count": 11,
   "metadata": {},
   "outputs": [],
   "source": [
    "def z_score(x):\n",
    "    x = (x-np.mean(x)) / (np.std(x))\n",
    "    return x"
   ]
  },
  {
   "cell_type": "code",
   "execution_count": 12,
   "metadata": {},
   "outputs": [],
   "source": [
    "all_features = all_features.apply(z_score, axis=0)"
   ]
  },
  {
   "cell_type": "code",
   "execution_count": 13,
   "metadata": {},
   "outputs": [],
   "source": [
    "import glob"
   ]
  },
  {
   "cell_type": "code",
   "execution_count": 14,
   "metadata": {},
   "outputs": [],
   "source": [
    "from access_aging_data import companions"
   ]
  },
  {
   "cell_type": "code",
   "execution_count": null,
   "metadata": {},
   "outputs": [],
   "source": []
  },
  {
   "cell_type": "code",
   "execution_count": 15,
   "metadata": {},
   "outputs": [],
   "source": [
    "master = companions.tstoeger_190427_gtex()\n",
    "master = master[\n",
    "    (master['younger'].isin([2, 3])) &\n",
    "    (master['older'].isin([4, 5, 6, 7]))\n",
    "]"
   ]
  },
  {
   "cell_type": "code",
   "execution_count": 16,
   "metadata": {},
   "outputs": [],
   "source": [
    "cond = master[['tissue', 'younger', 'older', 'gender']].drop_duplicates().reset_index(drop=True)"
   ]
  },
  {
   "cell_type": "code",
   "execution_count": 17,
   "metadata": {},
   "outputs": [],
   "source": [
    "meta_batches = 8"
   ]
  },
  {
   "cell_type": "code",
   "execution_count": 18,
   "metadata": {},
   "outputs": [],
   "source": [
    "for j in range(meta_batches):\n",
    "    f = cond.index.values[j::meta_batches]\n",
    "    cond.loc[f, 'meta_batch'] = j"
   ]
  },
  {
   "cell_type": "code",
   "execution_count": 19,
   "metadata": {},
   "outputs": [],
   "source": [
    "master = pd.merge(master, cond)"
   ]
  },
  {
   "cell_type": "code",
   "execution_count": null,
   "metadata": {},
   "outputs": [],
   "source": []
  },
  {
   "cell_type": "code",
   "execution_count": 20,
   "metadata": {},
   "outputs": [],
   "source": [
    "master = master[master['meta_batch']==current_meta_batch].drop('meta_batch', 1)"
   ]
  },
  {
   "cell_type": "code",
   "execution_count": 21,
   "metadata": {},
   "outputs": [],
   "source": [
    "master.loc[:, 'reduced_tissue'] = master['tissue'].str.replace(\n",
    "    ' - ', '_').str.replace(' ', '_').str.replace(\n",
    "    '-', '_').str.replace('(','').str.replace(')', '')"
   ]
  },
  {
   "cell_type": "code",
   "execution_count": 22,
   "metadata": {},
   "outputs": [],
   "source": [
    "master.loc[:, 'short_name'] = master.loc[:, 'gender'] + 's_' + master['reduced_tissue'] + '_' + \\\n",
    "    master['older'].astype(int).astype(str) + '_vs_' + master['younger'].astype(int).astype(str)"
   ]
  },
  {
   "cell_type": "code",
   "execution_count": null,
   "metadata": {},
   "outputs": [],
   "source": []
  },
  {
   "cell_type": "code",
   "execution_count": 23,
   "metadata": {},
   "outputs": [
    {
     "name": "stdout",
     "output_type": "stream",
     "text": [
      "males_Adipose_Subcutaneous_6_vs_3\n",
      "males_Adipose_Visceral_Omentum_6_vs_3\n",
      "males_Artery_Aorta_4_vs_2\n",
      "males_Artery_Coronary_4_vs_2\n",
      "males_Artery_Tibial_4_vs_2\n",
      "males_Bladder_4_vs_2\n",
      "males_Brain_Caudate_basal_ganglia_7_vs_2\n",
      "males_Brain_Cerebellar_Hemisphere_7_vs_3\n",
      "males_Brain_Cerebellum_7_vs_3\n",
      "males_Brain_Cortex_7_vs_3\n",
      "males_Brain_Frontal_Cortex_BA9_7_vs_3\n",
      "males_Brain_Hypothalamus_7_vs_2\n",
      "males_Brain_Nucleus_accumbens_basal_ganglia_7_vs_2\n",
      "males_Brain_Spinal_cord_cervical_c_1_7_vs_2\n",
      "males_Breast_Mammary_Tissue_7_vs_2\n",
      "males_Colon_Sigmoid_7_vs_2\n",
      "males_Colon_Transverse_7_vs_2\n",
      "males_Esophagus_Gastroesophageal_Junction_7_vs_2\n",
      "males_Esophagus_Mucosa_7_vs_2\n",
      "males_Esophagus_Muscularis_7_vs_2\n",
      "males_Heart_Atrial_Appendage_7_vs_2\n",
      "males_Heart_Left_Ventricle_7_vs_2\n",
      "males_Liver_4_vs_2\n",
      "males_Lung_4_vs_2\n",
      "males_Minor_Salivary_Gland_4_vs_2\n",
      "males_Muscle_Skeletal_6_vs_2\n",
      "males_Nerve_Tibial_6_vs_2\n",
      "males_Pancreas_6_vs_2\n",
      "males_Pituitary_4_vs_3\n",
      "males_Prostate_5_vs_3\n",
      "males_Skin_Not_Sun_Exposed_Suprapubic_6_vs_3\n",
      "males_Skin_Sun_Exposed_Lower_leg_6_vs_3\n",
      "males_Small_Intestine_Terminal_Ileum_6_vs_3\n",
      "males_Spleen_6_vs_3\n",
      "males_Testis_4_vs_2\n",
      "males_Thyroid_4_vs_2\n",
      "males_Whole_Blood_4_vs_2\n",
      "females_Adipose_Subcutaneous_4_vs_2\n",
      "females_Adipose_Visceral_Omentum_4_vs_2\n",
      "females_Adrenal_Gland_4_vs_2\n",
      "females_Artery_Aorta_6_vs_2\n",
      "females_Artery_Coronary_6_vs_2\n",
      "females_Artery_Tibial_4_vs_3\n",
      "females_Brain_Anterior_cingulate_cortex_BA24_4_vs_2\n",
      "females_Brain_Caudate_basal_ganglia_4_vs_3\n",
      "females_Brain_Cerebellar_Hemisphere_4_vs_3\n",
      "females_Brain_Cerebellum_4_vs_3\n",
      "females_Brain_Cortex_4_vs_3\n",
      "females_Brain_Hippocampus_5_vs_3\n",
      "females_Brain_Nucleus_accumbens_basal_ganglia_5_vs_2\n",
      "females_Brain_Putamen_basal_ganglia_5_vs_3\n",
      "females_Breast_Mammary_Tissue_6_vs_2\n",
      "females_Colon_Sigmoid_6_vs_2\n",
      "females_Colon_Transverse_6_vs_2\n",
      "females_Esophagus_Gastroesophageal_Junction_6_vs_2\n",
      "females_Esophagus_Mucosa_6_vs_2\n",
      "females_Esophagus_Muscularis_6_vs_2\n",
      "females_Heart_Atrial_Appendage_6_vs_2\n",
      "females_Heart_Left_Ventricle_6_vs_2\n",
      "females_Liver_6_vs_2\n",
      "females_Lung_7_vs_3\n",
      "females_Muscle_Skeletal_5_vs_2\n",
      "females_Nerve_Tibial_5_vs_2\n",
      "females_Ovary_5_vs_2\n",
      "females_Pancreas_5_vs_2\n",
      "females_Pituitary_5_vs_2\n",
      "females_Skin_Not_Sun_Exposed_Suprapubic_5_vs_3\n",
      "females_Skin_Sun_Exposed_Lower_leg_5_vs_3\n",
      "females_Small_Intestine_Terminal_Ileum_6_vs_3\n",
      "females_Stomach_5_vs_2\n",
      "females_Thyroid_7_vs_2\n",
      "females_Uterus_4_vs_3\n",
      "females_Vagina_5_vs_3\n",
      "females_Whole_Blood_6_vs_3\n",
      "CPU times: user 11h 22min 44s, sys: 4min 39s, total: 11h 27min 24s\n",
      "Wall time: 11h 58min 27s\n"
     ]
    }
   ],
   "source": [
    "%%time\n",
    "\n",
    "for short_name in master['short_name'].unique():\n",
    "\n",
    "    print(short_name)\n",
    "\n",
    "    d = master[master['short_name']==short_name].dropna(\n",
    "        subset=['padj'])\n",
    "    \n",
    "    d = d[d['gene_ncbi'].isin(ref_genes)]\n",
    "    d = d.drop_duplicates(subset=['gene_ncbi'], keep=False)\n",
    "\n",
    "    d = d.set_index('gene_ncbi', verify_integrity=True)\n",
    "\n",
    "    g = all_features.copy()\n",
    "    d = d[d.index.isin(g.index)]\n",
    "    g = g.loc[d.index, :]\n",
    "\n",
    "    importances = pd.DataFrame(index=g.columns, columns=range(num_boot))\n",
    "    predictions = pd.DataFrame(index=[short_name], columns=range(num_boot))\n",
    "\n",
    "    for j in range(start_boot, start_boot+num_boot):\n",
    "\n",
    "        #rf = RandomForestRegressor(n_jobs=-1, n_estimators=100)\n",
    "        rf = GradientBoostingRegressor(loss='huber')\n",
    "\n",
    "        randix = g.index.values.copy()\n",
    "        thr = int(np.floor(len(randix)*0.9))\n",
    "        shuffle(randix)\n",
    "\n",
    "        rf.fit(g.loc[randix[:thr], :].values, d.loc[randix[:thr], 'o_over_y'].values)\n",
    "\n",
    "        t = rf.predict(g.loc[randix[thr:]])\n",
    "        importances.loc[:, j] = rf.feature_importances_\n",
    "\n",
    "\n",
    "        observed = d.loc[randix[thr:], 'o_over_y']\n",
    "        r = spearmanr(observed, t)[0]\n",
    "        predictions.loc[short_name, j] = r\n",
    "\n",
    "        v = pd.Series(index=randix[thr:], data=t).to_frame().reset_index().rename(\n",
    "            columns={'index': 'gene_ncbi', 0: 'predicted'}\n",
    "        )\n",
    "        v.loc[:, 'boot'] = j\n",
    "        v.loc[:, 'observed'] = observed.values\n",
    "\n",
    "        export.export_full_frame(\n",
    "            '{}/values_{}_{}.csv'.format(outfolder, short_name, j), \n",
    "            v,\n",
    "            insert_date_time=False,\n",
    "            save_index=False\n",
    "        )\n",
    "\n",
    "    importances = importances.rename_axis('feature')            \n",
    "\n",
    "    export.export_full_frame(\n",
    "        '{}/features_{}.csv'.format(outfolder, short_name), \n",
    "        importances,\n",
    "        insert_date_time=False\n",
    "    )\n",
    "    export.export_full_frame(\n",
    "        '{}/predictions_{}.csv'.format(outfolder, short_name),\n",
    "        predictions,\n",
    "        insert_date_time=False\n",
    "    )"
   ]
  },
  {
   "cell_type": "code",
   "execution_count": null,
   "metadata": {},
   "outputs": [],
   "source": []
  }
 ],
 "metadata": {
  "kernelspec": {
   "display_name": "Python 3",
   "language": "python",
   "name": "python3"
  },
  "language_info": {
   "codemirror_mode": {
    "name": "ipython",
    "version": 3
   },
   "file_extension": ".py",
   "mimetype": "text/x-python",
   "name": "python",
   "nbconvert_exporter": "python",
   "pygments_lexer": "ipython3",
   "version": "3.7.2"
  }
 },
 "nbformat": 4,
 "nbformat_minor": 2
}
