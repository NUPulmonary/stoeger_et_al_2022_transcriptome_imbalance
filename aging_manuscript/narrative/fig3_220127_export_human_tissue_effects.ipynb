{
 "cells": [
  {
   "cell_type": "code",
   "execution_count": 1,
   "metadata": {},
   "outputs": [],
   "source": [
    "%matplotlib inline\n",
    "%reload_ext autoreload\n",
    "%autoreload 2"
   ]
  },
  {
   "cell_type": "code",
   "execution_count": 2,
   "metadata": {},
   "outputs": [],
   "source": [
    "import matplotlib as mpl\n",
    "mpl.rcParams['pdf.fonttype'] = 42\n",
    "mpl.rcParams['font.family'] = 'Arial'"
   ]
  },
  {
   "cell_type": "code",
   "execution_count": 3,
   "metadata": {},
   "outputs": [],
   "source": [
    "import gc\n",
    "import os\n",
    "import sys\n",
    "\n",
    "import numpy as np\n",
    "import pandas as pd\n",
    "import seaborn as sns\n",
    "import matplotlib.pyplot as plt\n",
    "\n",
    "from copy import deepcopy\n",
    "from random import shuffle\n",
    "from scipy.stats import spearmanr\n",
    "\n",
    "from access_biology_data import lincs, properties\n",
    "from access_science_shared import standardizer\n",
    "\n",
    "sys.path.append('./../src/')\n",
    "from aging_tools import inout, export\n",
    "\n",
    "from access_biology_data import annotation\n",
    "from access_biology_data import meta"
   ]
  },
  {
   "cell_type": "code",
   "execution_count": 4,
   "metadata": {},
   "outputs": [],
   "source": [
    "outfolder = '220127_export_human_tissue_effects'"
   ]
  },
  {
   "cell_type": "code",
   "execution_count": null,
   "metadata": {},
   "outputs": [],
   "source": []
  },
  {
   "cell_type": "code",
   "execution_count": 5,
   "metadata": {},
   "outputs": [],
   "source": [
    "save_images = True"
   ]
  },
  {
   "cell_type": "code",
   "execution_count": 6,
   "metadata": {},
   "outputs": [
    {
     "name": "stderr",
     "output_type": "stream",
     "text": [
      "/Users/tstoeger/opt/miniconda3/envs/aging/lib/python3.7/site-packages/fastparquet/dataframe.py:5: FutureWarning: pandas.core.index is deprecated and will be removed in a future version.  The public classes are available in the top-level namespace.\n",
      "  from pandas.core.index import CategoricalIndex, RangeIndex, Index, MultiIndex\n"
     ]
    }
   ],
   "source": [
    "ref_genes = standardizer.reference_genes(9606, 'orp')"
   ]
  },
  {
   "cell_type": "code",
   "execution_count": 7,
   "metadata": {},
   "outputs": [],
   "source": [
    "import glob"
   ]
  },
  {
   "cell_type": "code",
   "execution_count": 8,
   "metadata": {},
   "outputs": [],
   "source": [
    "p =export.get_material_path(\n",
    "    '200518_chache_tstoeger_gtex_with_tilt/stats_on_imbalance.xlsx')"
   ]
  },
  {
   "cell_type": "code",
   "execution_count": 9,
   "metadata": {},
   "outputs": [],
   "source": [
    "d = pd.read_excel(p)"
   ]
  },
  {
   "cell_type": "code",
   "execution_count": 10,
   "metadata": {},
   "outputs": [],
   "source": [
    "# raise AssertionError('stop')"
   ]
  },
  {
   "cell_type": "code",
   "execution_count": 11,
   "metadata": {},
   "outputs": [],
   "source": [
    "d = d.rename(columns={'tilt': 'rho', 'tissue': 'region'})"
   ]
  },
  {
   "cell_type": "code",
   "execution_count": 12,
   "metadata": {},
   "outputs": [],
   "source": [
    "d['gender'] = d['gender'] + 's'"
   ]
  },
  {
   "cell_type": "code",
   "execution_count": null,
   "metadata": {},
   "outputs": [],
   "source": []
  },
  {
   "cell_type": "code",
   "execution_count": 13,
   "metadata": {
    "scrolled": false
   },
   "outputs": [],
   "source": [
    "agg = []\n",
    "\n",
    "for gender in ['males', 'females']:\n",
    "\n",
    "    s = d[(d['gender']==gender)].copy()\n",
    "\n",
    "    f = (s['younger'].isin([2, 3]) & s['older'].isin([4, 5]))\n",
    "    s.loc[f, 'cat'] = '20/30 to 40/50'\n",
    "\n",
    "    f = (s['younger'].isin([4, 5]) & s['older'].isin([6, 7]))\n",
    "    s.loc[f, 'cat'] = '40/50 to 60/70'\n",
    "\n",
    "    f = (s['younger'].isin([2, 3]) & s['older'].isin([6, 7]))\n",
    "    s.loc[f, 'cat'] = '20/30 to 60/70'\n",
    "\n",
    "    s = s.dropna(subset=['cat'])\n",
    "\n",
    "    s = s[['pval', 'region', 'cat', 'rho']].groupby(['region', 'cat']).agg(np.median)\n",
    "\n",
    "    s = s.reset_index()\n",
    "    comparisons_per_tissue = s['region'].value_counts()\n",
    "    \n",
    "    # only consider, if all thre age comparisons are there\n",
    "    s = s[s['region'].isin(comparisons_per_tissue[comparisons_per_tissue==3].index)]\n",
    "\n",
    "\n",
    "    s.loc[:, 'gender'] = gender\n",
    "    agg.append(s)"
   ]
  },
  {
   "cell_type": "code",
   "execution_count": 14,
   "metadata": {},
   "outputs": [],
   "source": [
    "e = pd.concat(agg)"
   ]
  },
  {
   "cell_type": "code",
   "execution_count": null,
   "metadata": {},
   "outputs": [],
   "source": []
  },
  {
   "cell_type": "code",
   "execution_count": 15,
   "metadata": {},
   "outputs": [],
   "source": [
    "e_m = e[e['gender']=='males']\n",
    "e_f = e[e['gender']=='females']"
   ]
  },
  {
   "cell_type": "code",
   "execution_count": 17,
   "metadata": {},
   "outputs": [],
   "source": [
    "if save_images:\n",
    "    export.export_full_frame(\n",
    "        '{}/male.xlsx'.format(outfolder),\n",
    "        e_m\n",
    "    )\n",
    "    \n",
    "    export.export_full_frame(\n",
    "        '{}/female.xlsx'.format(outfolder),\n",
    "        e_f\n",
    "    )"
   ]
  },
  {
   "cell_type": "code",
   "execution_count": null,
   "metadata": {},
   "outputs": [],
   "source": []
  },
  {
   "cell_type": "code",
   "execution_count": null,
   "metadata": {},
   "outputs": [],
   "source": []
  },
  {
   "cell_type": "code",
   "execution_count": null,
   "metadata": {},
   "outputs": [],
   "source": []
  },
  {
   "cell_type": "code",
   "execution_count": null,
   "metadata": {},
   "outputs": [],
   "source": []
  },
  {
   "cell_type": "code",
   "execution_count": null,
   "metadata": {},
   "outputs": [],
   "source": []
  },
  {
   "cell_type": "code",
   "execution_count": null,
   "metadata": {},
   "outputs": [],
   "source": []
  }
 ],
 "metadata": {
  "kernelspec": {
   "display_name": "Python 3",
   "language": "python",
   "name": "python3"
  },
  "language_info": {
   "codemirror_mode": {
    "name": "ipython",
    "version": 3
   },
   "file_extension": ".py",
   "mimetype": "text/x-python",
   "name": "python",
   "nbconvert_exporter": "python",
   "pygments_lexer": "ipython3",
   "version": "3.7.3"
  }
 },
 "nbformat": 4,
 "nbformat_minor": 2
}
