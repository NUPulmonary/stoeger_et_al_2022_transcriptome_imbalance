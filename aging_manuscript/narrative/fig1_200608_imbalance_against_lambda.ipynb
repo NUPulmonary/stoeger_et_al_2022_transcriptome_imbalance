{
 "cells": [
  {
   "cell_type": "code",
   "execution_count": 1,
   "metadata": {},
   "outputs": [],
   "source": [
    "%matplotlib inline\n",
    "%reload_ext autoreload\n",
    "%autoreload 2"
   ]
  },
  {
   "cell_type": "code",
   "execution_count": 2,
   "metadata": {},
   "outputs": [],
   "source": [
    "import matplotlib as mpl\n",
    "mpl.rcParams['pdf.fonttype'] = 42\n",
    "mpl.rcParams['font.family'] = 'Arial'"
   ]
  },
  {
   "cell_type": "code",
   "execution_count": 3,
   "metadata": {},
   "outputs": [],
   "source": [
    "import os\n",
    "import sys\n",
    "\n",
    "src_dir = './../../src/'\n",
    "sys.path[0] = src_dir\n",
    "\n",
    "import matplotlib.pyplot as plt\n",
    "\n",
    "import glob\n",
    "\n",
    "import numpy as np\n",
    "import pandas as pd\n",
    "import seaborn as sns\n",
    "\n",
    "from collections import OrderedDict\n",
    "\n",
    "from access_biology_data import meta, relations, properties\n",
    "from access_literature_data import medline\n",
    "from access_science_shared import standardizer "
   ]
  },
  {
   "cell_type": "code",
   "execution_count": 4,
   "metadata": {},
   "outputs": [],
   "source": [
    "sys.path.append('./../src/')\n",
    "from aging_tools import inout, export\n",
    "from access_aging_data import earlier_studies, chaperome, companions, sequencing"
   ]
  },
  {
   "cell_type": "code",
   "execution_count": 5,
   "metadata": {},
   "outputs": [],
   "source": [
    "from narrative import nar181026_heat_confidence_genes\n",
    "\n",
    "from narrative import nar181205_networks"
   ]
  },
  {
   "cell_type": "code",
   "execution_count": 6,
   "metadata": {},
   "outputs": [],
   "source": [
    "from scipy.stats import spearmanr"
   ]
  },
  {
   "cell_type": "code",
   "execution_count": 7,
   "metadata": {},
   "outputs": [],
   "source": [
    "outfolder = '200609_imbalance_against_delta'"
   ]
  },
  {
   "cell_type": "code",
   "execution_count": 8,
   "metadata": {},
   "outputs": [],
   "source": [
    "save_images = True"
   ]
  },
  {
   "cell_type": "code",
   "execution_count": 9,
   "metadata": {},
   "outputs": [
    {
     "name": "stderr",
     "output_type": "stream",
     "text": [
      "/Users/tstoeger/anaconda3/lib/python3.7/site-packages/fastparquet/dataframe.py:5: FutureWarning: pandas.core.index is deprecated and will be removed in a future version.  The public classes are available in the top-level namespace.\n",
      "  from pandas.core.index import CategoricalIndex, RangeIndex, Index, MultiIndex\n"
     ]
    }
   ],
   "source": [
    "ref_genes = standardizer.reference_genes(10090, 'orp')"
   ]
  },
  {
   "cell_type": "code",
   "execution_count": 10,
   "metadata": {},
   "outputs": [],
   "source": [
    "pr = properties.genbank_validated_rna(10090)[['gene_ncbi', 'Genbank_validated_RNA: full_SumACGT']].rename(columns={\n",
    "    'Genbank_validated_RNA: full_SumACGT': 'length'\n",
    "})\n",
    "\n",
    "pr.loc[:, 'log_length'] = np.log10(pr['length'])\n"
   ]
  },
  {
   "cell_type": "code",
   "execution_count": 11,
   "metadata": {},
   "outputs": [],
   "source": [
    "from natsort import natsorted"
   ]
  },
  {
   "cell_type": "code",
   "execution_count": null,
   "metadata": {},
   "outputs": [],
   "source": []
  },
  {
   "cell_type": "code",
   "execution_count": 12,
   "metadata": {},
   "outputs": [],
   "source": [
    "all_de, detection, mice_in_comparisons, triplicate_series = nar181026_heat_confidence_genes.load_detection(\n",
    "    detection_column='padj')\n",
    "\n",
    "tissues_to_consider = ['BAT', 'Blood', 'GutEP', 'MuscSat', 'Adrenal', 'Kidney',\n",
    "       'Heart', 'Liver', 'Skin', 'Stomach', 'Brain', 'SI',\n",
    "       'LI', 'Cerebellum', 'WAT', 'Esophagus', 'Lung'] \n",
    "\n",
    "\n",
    "de_set = all_de[\n",
    "    (all_de['tissue'].isin(tissues_to_consider)) & \n",
    "    (all_de['pfu']==0) &\n",
    "    (all_de['younger']==4) &   \n",
    "    (all_de['de_unit']=='both') & \n",
    "    (all_de['padj'].notnull()) &\n",
    "    (all_de['gene_ncbi'].isin(ref_genes))\n",
    "\n",
    "]\n",
    "\n"
   ]
  },
  {
   "cell_type": "code",
   "execution_count": 13,
   "metadata": {},
   "outputs": [],
   "source": [
    "renamer = {\n",
    "        'Adrenal': 'Adrenal Gland', \n",
    "        'BAT': 'Brown adipose tissue', \n",
    "        'Blood': 'Blood', \n",
    "        'Brain': 'Frontal cortex', \n",
    "        'Esophagus': 'Esophagus', \n",
    "        'GutEP': 'Gut epithelium', \n",
    "        'Heart': 'Heart',\n",
    "        'Kidney': 'Kidney', \n",
    "        'LI': 'Large intestine', \n",
    "        'Liver': 'Liver', \n",
    "        'Lung': 'Lung', \n",
    "        'MuscSat': 'Muscle', \n",
    "        'SI': 'Small intestine', \n",
    "        'Skin': 'Skin',\n",
    "        'Stomach': 'Stomach', \n",
    "        'WAT': 'White adipose tissue', \n",
    "        'Cerebellum': 'Cerebellum'}"
   ]
  },
  {
   "cell_type": "code",
   "execution_count": null,
   "metadata": {},
   "outputs": [],
   "source": []
  },
  {
   "cell_type": "code",
   "execution_count": 14,
   "metadata": {},
   "outputs": [
    {
     "name": "stderr",
     "output_type": "stream",
     "text": [
      "/Users/tstoeger/anaconda3/lib/python3.7/site-packages/ipykernel_launcher.py:1: SettingWithCopyWarning: \n",
      "A value is trying to be set on a copy of a slice from a DataFrame.\n",
      "Try using .loc[row_indexer,col_indexer] = value instead\n",
      "\n",
      "See the caveats in the documentation: https://pandas.pydata.org/pandas-docs/stable/user_guide/indexing.html#returning-a-view-versus-a-copy\n",
      "  \"\"\"Entry point for launching an IPython kernel.\n"
     ]
    }
   ],
   "source": [
    "de_set['tissue'] = de_set['tissue'].replace(renamer)"
   ]
  },
  {
   "cell_type": "code",
   "execution_count": null,
   "metadata": {},
   "outputs": [],
   "source": []
  },
  {
   "cell_type": "code",
   "execution_count": null,
   "metadata": {},
   "outputs": [],
   "source": []
  },
  {
   "cell_type": "code",
   "execution_count": 15,
   "metadata": {},
   "outputs": [],
   "source": [
    "from itertools import product"
   ]
  },
  {
   "cell_type": "code",
   "execution_count": 16,
   "metadata": {},
   "outputs": [],
   "source": [
    "onditions = natsorted(de_set['condition'].unique())\n",
    "ages = de_set['older'].unique()\n",
    "out = pd.DataFrame(index=renamer.values(), columns=ages)\n",
    "\n",
    "\n",
    "for tissue, age in product(renamer.values(), ages):\n",
    "\n",
    "    d = de_set[\n",
    "        (de_set['older']==age) &\n",
    "        (de_set['tissue']==tissue)\n",
    "    ]\n",
    "\n",
    "    d = d[['gene_ncbi', 'o_over_y']].dropna()\n",
    "    d = pd.merge(d, pr)\n",
    "\n",
    "    r, p = spearmanr(d['log_length'], d['o_over_y'])\n",
    "    d = d.set_index('gene_ncbi')\n",
    "\n",
    "    out.loc[tissue, age] = r"
   ]
  },
  {
   "cell_type": "code",
   "execution_count": 17,
   "metadata": {},
   "outputs": [],
   "source": [
    "from natsort import natsorted"
   ]
  },
  {
   "cell_type": "code",
   "execution_count": 18,
   "metadata": {},
   "outputs": [],
   "source": [
    "helper = pd.merge(de_set, pr)\n",
    "f = (helper['padj'] < 0.05) & (helper['o_over_y']>0)\n",
    "helper.loc[f, 'direction'] = 'up'\n",
    "\n",
    "f = (helper['padj'] < 0.05) & (helper['o_over_y']<0)\n",
    "helper.loc[f, 'direction'] = 'down'\n",
    "\n"
   ]
  },
  {
   "cell_type": "code",
   "execution_count": 19,
   "metadata": {},
   "outputs": [],
   "source": [
    "helper = helper.dropna(subset=['direction'])"
   ]
  },
  {
   "cell_type": "code",
   "execution_count": 20,
   "metadata": {},
   "outputs": [],
   "source": [
    "h = helper[helper['older']==24]"
   ]
  },
  {
   "cell_type": "code",
   "execution_count": 21,
   "metadata": {},
   "outputs": [
    {
     "data": {
      "text/plain": [
       "<matplotlib.legend.Legend at 0x7fe0314628d0>"
      ]
     },
     "execution_count": 21,
     "metadata": {},
     "output_type": "execute_result"
    },
    {
     "data": {
      "image/png": "[encoded data removed]",
      "text/plain": [
       "<Figure size 720x360 with 1 Axes>"
      ]
     },
     "metadata": {
      "needs_background": "light"
     },
     "output_type": "display_data"
    }
   ],
   "source": [
    "older = 24\n",
    "\n",
    "h = helper[helper['older']==older].copy()\n",
    "h.loc[:, 'present'] = 1\n",
    "\n",
    "h = h[['tissue', 'direction', 'present']].drop_duplicates().pivot(\n",
    "    index='tissue',\n",
    "    columns='direction',\n",
    "    values='present'\n",
    ").fillna(0).sum(1)\n",
    "\n",
    "\n",
    "\n",
    "plt.figure(figsize=(10, 5))\n",
    "sns.boxplot(\n",
    "    x='tissue',\n",
    "    y='log_length',\n",
    "    hue='direction',\n",
    "    data=helper[helper['older']==older],\n",
    "    order=natsorted(h[h==2].index),\n",
    "    notch=True\n",
    ")\n",
    "\n",
    "plt.legend(loc='center left', bbox_to_anchor=(1, 0.5))"
   ]
  },
  {
   "cell_type": "code",
   "execution_count": 22,
   "metadata": {},
   "outputs": [],
   "source": [
    "g = pd.merge(\n",
    "    helper[helper['direction']=='up'].groupby(['tissue', 'older', 'direction'])['length'].median(\n",
    "        ).to_frame('length').reset_index()[['tissue', 'older', 'length']].rename(columns={\n",
    "        'length': 'length_up'}),\n",
    "    helper[helper['direction']=='down'].groupby(['tissue', 'older', 'direction'])['length'].median(\n",
    "        ).to_frame('length').reset_index()[['tissue', 'older', 'length']].rename(columns={\n",
    "        'length': 'length_down'}))"
   ]
  },
  {
   "cell_type": "code",
   "execution_count": 23,
   "metadata": {},
   "outputs": [],
   "source": [
    "g['delta'] = g['length_up'] - g['length_down']"
   ]
  },
  {
   "cell_type": "code",
   "execution_count": 24,
   "metadata": {},
   "outputs": [
    {
     "data": {
      "image/png": "[encoded data removed]",
      "text/plain": [
       "<Figure size 432x288 with 1 Axes>"
      ]
     },
     "metadata": {
      "needs_background": "light"
     },
     "output_type": "display_data"
    }
   ],
   "source": [
    "sns.boxplot(x='older', y='delta', data=g, notch=True, color='#E6E7E8')\n",
    "\n",
    "if save_images:\n",
    "    export.export_image('{}/changes.pdf'.format(outfolder))\n",
    "\n",
    "\n"
   ]
  },
  {
   "cell_type": "code",
   "execution_count": 25,
   "metadata": {},
   "outputs": [
    {
     "data": {
      "text/plain": [
       "older\n",
       "9.0     -922.25\n",
       "12.0   -1460.50\n",
       "18.0   -1796.25\n",
       "24.0   -2032.50\n",
       "Name: delta, dtype: float64"
      ]
     },
     "execution_count": 25,
     "metadata": {},
     "output_type": "execute_result"
    }
   ],
   "source": [
    "g.groupby('older')['delta'].median()"
   ]
  },
  {
   "cell_type": "code",
   "execution_count": null,
   "metadata": {},
   "outputs": [],
   "source": []
  },
  {
   "cell_type": "code",
   "execution_count": 26,
   "metadata": {},
   "outputs": [
    {
     "data": {
      "text/plain": [
       "24.0    15\n",
       "12.0    13\n",
       "18.0    11\n",
       "9.0      6\n",
       "Name: older, dtype: int64"
      ]
     },
     "execution_count": 26,
     "metadata": {},
     "output_type": "execute_result"
    }
   ],
   "source": [
    "g['older'].value_counts()"
   ]
  },
  {
   "cell_type": "code",
   "execution_count": 27,
   "metadata": {},
   "outputs": [
    {
     "data": {
      "text/html": [
       "<div>\n",
       "<style scoped>\n",
       "    .dataframe tbody tr th:only-of-type {\n",
       "        vertical-align: middle;\n",
       "    }\n",
       "\n",
       "    .dataframe tbody tr th {\n",
       "        vertical-align: top;\n",
       "    }\n",
       "\n",
       "    .dataframe thead th {\n",
       "        text-align: right;\n",
       "    }\n",
       "</style>\n",
       "<table border=\"1\" class=\"dataframe\">\n",
       "  <thead>\n",
       "    <tr style=\"text-align: right;\">\n",
       "      <th></th>\n",
       "      <th>18.0</th>\n",
       "      <th>12.0</th>\n",
       "      <th>9.0</th>\n",
       "      <th>24.0</th>\n",
       "    </tr>\n",
       "  </thead>\n",
       "  <tbody>\n",
       "    <tr>\n",
       "      <th>Adrenal Gland</th>\n",
       "      <td>0.0600566</td>\n",
       "      <td>-0.0832552</td>\n",
       "      <td>-0.0036287</td>\n",
       "      <td>-0.162002</td>\n",
       "    </tr>\n",
       "    <tr>\n",
       "      <th>Brown adipose tissue</th>\n",
       "      <td>-0.0984448</td>\n",
       "      <td>0.0385048</td>\n",
       "      <td>-0.0153825</td>\n",
       "      <td>-0.334887</td>\n",
       "    </tr>\n",
       "    <tr>\n",
       "      <th>Blood</th>\n",
       "      <td>-0.188596</td>\n",
       "      <td>-0.0758902</td>\n",
       "      <td>-0.00730468</td>\n",
       "      <td>-0.646453</td>\n",
       "    </tr>\n",
       "    <tr>\n",
       "      <th>Frontal cortex</th>\n",
       "      <td>0.176835</td>\n",
       "      <td>0.231715</td>\n",
       "      <td>-0.0661702</td>\n",
       "      <td>0.193236</td>\n",
       "    </tr>\n",
       "    <tr>\n",
       "      <th>Esophagus</th>\n",
       "      <td>-0.0810182</td>\n",
       "      <td>-0.311499</td>\n",
       "      <td>-0.17002</td>\n",
       "      <td>-0.310671</td>\n",
       "    </tr>\n",
       "    <tr>\n",
       "      <th>Gut epithelium</th>\n",
       "      <td>-0.169653</td>\n",
       "      <td>-0.126086</td>\n",
       "      <td>-0.062721</td>\n",
       "      <td>-0.254853</td>\n",
       "    </tr>\n",
       "    <tr>\n",
       "      <th>Heart</th>\n",
       "      <td>0.526734</td>\n",
       "      <td>-0.155493</td>\n",
       "      <td>-0.262512</td>\n",
       "      <td>-0.199111</td>\n",
       "    </tr>\n",
       "    <tr>\n",
       "      <th>Kidney</th>\n",
       "      <td>0.250659</td>\n",
       "      <td>-0.281026</td>\n",
       "      <td>0.669455</td>\n",
       "      <td>-0.599801</td>\n",
       "    </tr>\n",
       "    <tr>\n",
       "      <th>Large intestine</th>\n",
       "      <td>-0.678338</td>\n",
       "      <td>-0.326627</td>\n",
       "      <td>-0.0305511</td>\n",
       "      <td>-0.522198</td>\n",
       "    </tr>\n",
       "    <tr>\n",
       "      <th>Liver</th>\n",
       "      <td>-0.113116</td>\n",
       "      <td>0.0517731</td>\n",
       "      <td>0.172214</td>\n",
       "      <td>-0.0708833</td>\n",
       "    </tr>\n",
       "    <tr>\n",
       "      <th>Lung</th>\n",
       "      <td>-0.127924</td>\n",
       "      <td>0.0295905</td>\n",
       "      <td>-0.0954828</td>\n",
       "      <td>0.143915</td>\n",
       "    </tr>\n",
       "    <tr>\n",
       "      <th>Muscle</th>\n",
       "      <td>-0.0351849</td>\n",
       "      <td>-0.0735726</td>\n",
       "      <td>0.0496744</td>\n",
       "      <td>-0.135331</td>\n",
       "    </tr>\n",
       "    <tr>\n",
       "      <th>Small intestine</th>\n",
       "      <td>-0.0778288</td>\n",
       "      <td>-0.133687</td>\n",
       "      <td>-0.124429</td>\n",
       "      <td>-0.548157</td>\n",
       "    </tr>\n",
       "    <tr>\n",
       "      <th>Skin</th>\n",
       "      <td>0.21647</td>\n",
       "      <td>0.251248</td>\n",
       "      <td>0.299238</td>\n",
       "      <td>0.140789</td>\n",
       "    </tr>\n",
       "    <tr>\n",
       "      <th>Stomach</th>\n",
       "      <td>0.0467223</td>\n",
       "      <td>0.299093</td>\n",
       "      <td>-0.2653</td>\n",
       "      <td>-0.438255</td>\n",
       "    </tr>\n",
       "    <tr>\n",
       "      <th>White adipose tissue</th>\n",
       "      <td>0.0100014</td>\n",
       "      <td>-0.0375615</td>\n",
       "      <td>-0.137206</td>\n",
       "      <td>-0.120297</td>\n",
       "    </tr>\n",
       "    <tr>\n",
       "      <th>Cerebellum</th>\n",
       "      <td>0.0326635</td>\n",
       "      <td>0.0839026</td>\n",
       "      <td>-0.337097</td>\n",
       "      <td>-0.0331095</td>\n",
       "    </tr>\n",
       "  </tbody>\n",
       "</table>\n",
       "</div>"
      ],
      "text/plain": [
       "                           18.0       12.0        9.0        24.0\n",
       "Adrenal Gland         0.0600566 -0.0832552  -0.0036287  -0.162002\n",
       "Brown adipose tissue -0.0984448  0.0385048  -0.0153825  -0.334887\n",
       "Blood                 -0.188596 -0.0758902 -0.00730468  -0.646453\n",
       "Frontal cortex         0.176835   0.231715  -0.0661702   0.193236\n",
       "Esophagus            -0.0810182  -0.311499    -0.17002  -0.310671\n",
       "Gut epithelium        -0.169653  -0.126086   -0.062721  -0.254853\n",
       "Heart                  0.526734  -0.155493   -0.262512  -0.199111\n",
       "Kidney                 0.250659  -0.281026    0.669455  -0.599801\n",
       "Large intestine       -0.678338  -0.326627  -0.0305511  -0.522198\n",
       "Liver                 -0.113116  0.0517731    0.172214 -0.0708833\n",
       "Lung                  -0.127924  0.0295905  -0.0954828   0.143915\n",
       "Muscle               -0.0351849 -0.0735726   0.0496744  -0.135331\n",
       "Small intestine      -0.0778288  -0.133687   -0.124429  -0.548157\n",
       "Skin                    0.21647   0.251248    0.299238   0.140789\n",
       "Stomach               0.0467223   0.299093     -0.2653  -0.438255\n",
       "White adipose tissue  0.0100014 -0.0375615   -0.137206  -0.120297\n",
       "Cerebellum            0.0326635  0.0839026   -0.337097 -0.0331095"
      ]
     },
     "execution_count": 27,
     "metadata": {},
     "output_type": "execute_result"
    }
   ],
   "source": [
    "out"
   ]
  },
  {
   "cell_type": "code",
   "execution_count": 28,
   "metadata": {},
   "outputs": [],
   "source": [
    "out_nt = g[['tissue', 'older', 'delta']].pivot(index='tissue', columns='older', values='delta')"
   ]
  },
  {
   "cell_type": "code",
   "execution_count": 29,
   "metadata": {},
   "outputs": [],
   "source": [
    "together = pd.merge(\n",
    "    out.rename_axis(index='tissue', columns='older').stack().to_frame('rho').reset_index(),\n",
    "    out_nt.stack().to_frame('delta').reset_index())"
   ]
  },
  {
   "cell_type": "code",
   "execution_count": 30,
   "metadata": {},
   "outputs": [
    {
     "data": {
      "image/png": "[encoded data removed]",
      "text/plain": [
       "<Figure size 360x360 with 1 Axes>"
      ]
     },
     "metadata": {
      "needs_background": "light"
     },
     "output_type": "display_data"
    }
   ],
   "source": [
    "plt.figure(figsize=(5, 5))\n",
    "\n",
    "for older, color in (\n",
    "    (9, '#1B75BB'), (12, '#00A69C'), (18, '#F6921E'), (24, '#EC1C24')):\n",
    "    \n",
    "    f = together['older'] == older\n",
    "    \n",
    "\n",
    "    plt.scatter(\n",
    "        together.loc[f, 'rho'], \n",
    "        together.loc[f, 'delta'],\n",
    "        c=color\n",
    "    )\n",
    "    \n",
    "plt.xlabel('TIB', fontsize=15)\n",
    "plt.ylabel('median length difference', fontsize=15)\n",
    "\n",
    "\n",
    "if save_images:\n",
    "    export.export_image('{}/compare_to_imbalance.pdf'.format(outfolder))"
   ]
  },
  {
   "cell_type": "code",
   "execution_count": 31,
   "metadata": {},
   "outputs": [
    {
     "data": {
      "text/plain": [
       "SpearmanrResult(correlation=0.6806548308972659, pvalue=2.682713107748189e-07)"
      ]
     },
     "execution_count": 31,
     "metadata": {},
     "output_type": "execute_result"
    }
   ],
   "source": [
    "spearmanr(\n",
    "    together.loc[:, 'rho'], \n",
    "    together.loc[:, 'delta'])"
   ]
  },
  {
   "cell_type": "code",
   "execution_count": null,
   "metadata": {},
   "outputs": [],
   "source": []
  }
 ],
 "metadata": {
  "kernelspec": {
   "display_name": "Python 3",
   "language": "python",
   "name": "python3"
  },
  "language_info": {
   "codemirror_mode": {
    "name": "ipython",
    "version": 3
   },
   "file_extension": ".py",
   "mimetype": "text/x-python",
   "name": "python",
   "nbconvert_exporter": "python",
   "pygments_lexer": "ipython3",
   "version": "3.7.3"
  },
  "toc": {
   "base_numbering": 1,
   "nav_menu": {},
   "number_sections": true,
   "sideBar": true,
   "skip_h1_title": false,
   "title_cell": "Table of Contents",
   "title_sidebar": "Contents",
   "toc_cell": false,
   "toc_position": {},
   "toc_section_display": true,
   "toc_window_display": false
  }
 },
 "nbformat": 4,
 "nbformat_minor": 2
}
