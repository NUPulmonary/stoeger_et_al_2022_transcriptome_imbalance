{
 "cells": [
  {
   "cell_type": "code",
   "execution_count": 1,
   "metadata": {},
   "outputs": [],
   "source": [
    "%matplotlib inline \n",
    "%reload_ext autoreload\n",
    "%autoreload 2"
   ]
  },
  {
   "cell_type": "code",
   "execution_count": 2,
   "metadata": {},
   "outputs": [],
   "source": [
    "import matplotlib as mpl\n",
    "mpl.rcParams['pdf.fonttype'] = 42\n",
    "mpl.rcParams['font.family'] = 'Arial'"
   ]
  },
  {
   "cell_type": "code",
   "execution_count": 3,
   "metadata": {},
   "outputs": [],
   "source": [
    "import os\n",
    "\n",
    "import numpy as np\n",
    "import pandas as pd\n",
    "import seaborn as sns\n",
    "\n",
    "import matplotlib.pyplot as plt\n",
    "\n",
    "from scipy.stats import spearmanr"
   ]
  },
  {
   "cell_type": "code",
   "execution_count": 4,
   "metadata": {},
   "outputs": [],
   "source": [
    "from access_biology_data import meta, relations, annotation, properties\n",
    "from access_literature_data import medline\n",
    "from access_science_shared import standardizer\n",
    "\n",
    "import sys\n",
    "sys.path.append('./../src/')\n",
    "from aging_tools import inout, export, calculators\n",
    "from access_aging_data import chaperome, earlier_studies, sequencing\n"
   ]
  },
  {
   "cell_type": "code",
   "execution_count": 5,
   "metadata": {},
   "outputs": [],
   "source": [
    "import random"
   ]
  },
  {
   "cell_type": "code",
   "execution_count": 6,
   "metadata": {},
   "outputs": [],
   "source": [
    "import matplotlib\n",
    "matplotlib.rcParams.update({'font.size': 10})"
   ]
  },
  {
   "cell_type": "code",
   "execution_count": 7,
   "metadata": {},
   "outputs": [],
   "source": [
    "out_folder = '191023_visualize_four_fold_mouse_models'\n",
    "in_folder = '191023_four_fold_cross_predict_fold_change_mouse'"
   ]
  },
  {
   "cell_type": "code",
   "execution_count": 8,
   "metadata": {},
   "outputs": [],
   "source": [
    "save_images = False\n",
    "save_late_images = False"
   ]
  },
  {
   "cell_type": "code",
   "execution_count": 9,
   "metadata": {},
   "outputs": [],
   "source": [
    "from narrative import nar181026_heat_confidence_genes"
   ]
  },
  {
   "cell_type": "code",
   "execution_count": 10,
   "metadata": {},
   "outputs": [
    {
     "name": "stderr",
     "output_type": "stream",
     "text": [
      "/Users/tstoeger/opt/miniconda3/envs/aging/lib/python3.7/site-packages/fastparquet/dataframe.py:5: FutureWarning: pandas.core.index is deprecated and will be removed in a future version.  The public classes are available in the top-level namespace.\n",
      "  from pandas.core.index import CategoricalIndex, RangeIndex, Index, MultiIndex\n"
     ]
    }
   ],
   "source": [
    "ref_genes = standardizer.reference_genes(10090, 'orp')  # only consider supported protein coding-genes"
   ]
  },
  {
   "cell_type": "code",
   "execution_count": 11,
   "metadata": {},
   "outputs": [],
   "source": [
    "all_de, detection, mice_in_comparisons, triplicate_series = nar181026_heat_confidence_genes.load_detection(\n",
    "    detection_column='padj')\n",
    "\n",
    "tissues_to_consider = ['BAT', 'Blood', 'GutEP', 'MuscSat', 'Adrenal', 'Kidney',\n",
    "       'Heart', 'Liver', 'Skin', 'Stomach', 'Brain', 'SI',\n",
    "       'LI', 'Cerebellum', 'WAT', 'Esophagus', 'Lung'] \n",
    "pfus=[0]"
   ]
  },
  {
   "cell_type": "code",
   "execution_count": 12,
   "metadata": {},
   "outputs": [],
   "source": [
    "all_de = all_de[\n",
    "    (all_de['younger'] == 4) & \n",
    "    (all_de['is_detected'] == True) &\n",
    "    (all_de['de_unit'] == 'both') &\n",
    "    (all_de['tissue'].isin(tissues_to_consider)) &\n",
    "    (all_de['pfu'].isin(pfus)) & \n",
    "    (all_de['gene_ncbi'].isin(ref_genes))\n",
    "]\n",
    "all_de['significant'] = all_de['padj'] < 0.05"
   ]
  },
  {
   "cell_type": "code",
   "execution_count": 13,
   "metadata": {},
   "outputs": [],
   "source": [
    "sign = all_de[['condition', 'significant']].groupby('condition').agg(sum)"
   ]
  },
  {
   "cell_type": "code",
   "execution_count": 14,
   "metadata": {},
   "outputs": [
    {
     "data": {
      "text/plain": [
       "array(['MuscSat_0_4_18', 'Adrenal_0_4_18', 'Kidney_0_4_12',\n",
       "       'Heart_0_4_12', 'Liver_0_4_18', 'BAT_0_4_9', 'Kidney_0_4_18',\n",
       "       'Adrenal_0_4_12', 'MuscSat_0_4_12', 'Liver_0_4_9', 'BAT_0_4_24',\n",
       "       'Stomach_0_4_24', 'Brain_0_4_9', 'Blood_0_4_9', 'Liver_0_4_12',\n",
       "       'Stomach_0_4_9', 'GutEP_0_4_24', 'Blood_0_4_24', 'WAT_0_4_9',\n",
       "       'Esophagus_0_4_9', 'Cerebellum_0_4_9', 'Cerebellum_0_4_12',\n",
       "       'LI_0_4_9', 'Cerebellum_0_4_18', 'WAT_0_4_24', 'Skin_0_4_9',\n",
       "       'Lung_0_4_9', 'SI_0_4_18', 'Heart_0_4_18', 'Lung_0_4_24',\n",
       "       'Skin_0_4_24', 'SI_0_4_12', 'Esophagus_0_4_24', 'LI_0_4_24',\n",
       "       'Brain_0_4_24', 'GutEP_0_4_9', 'Kidney_0_4_9', 'Blood_0_4_18',\n",
       "       'SI_0_4_9', 'GutEP_0_4_18', 'Heart_0_4_9', 'MuscSat_0_4_9',\n",
       "       'Blood_0_4_12', 'GutEP_0_4_12', 'Stomach_0_4_18', 'Heart_0_4_24',\n",
       "       'Kidney_0_4_24', 'BAT_0_4_18', 'Liver_0_4_24', 'Stomach_0_4_12',\n",
       "       'BAT_0_4_12', 'MuscSat_0_4_24', 'Adrenal_0_4_24', 'LI_0_4_18',\n",
       "       'Brain_0_4_18', 'Lung_0_4_12', 'Skin_0_4_18', 'Esophagus_0_4_18',\n",
       "       'Adrenal_0_4_9', 'Lung_0_4_18', 'Brain_0_4_12', 'LI_0_4_12',\n",
       "       'Esophagus_0_4_12', 'SI_0_4_24', 'Skin_0_4_12',\n",
       "       'Cerebellum_0_4_24', 'WAT_0_4_18', 'WAT_0_4_12'], dtype=object)"
      ]
     },
     "execution_count": 14,
     "metadata": {},
     "output_type": "execute_result"
    }
   ],
   "source": [
    " all_de['condition'].unique()"
   ]
  },
  {
   "cell_type": "code",
   "execution_count": null,
   "metadata": {},
   "outputs": [],
   "source": []
  },
  {
   "cell_type": "code",
   "execution_count": 15,
   "metadata": {},
   "outputs": [],
   "source": [
    "agg = []\n",
    "\n",
    "for condition in all_de['condition'].unique():\n",
    "\n",
    "    p = export.get_material_path(\n",
    "        '{}/predictions_{}.csv'.format(in_folder, condition))\n",
    "    if os.path.exists(p):\n",
    "        agg.append(pd.read_csv(p))\n",
    "\n",
    "\n",
    "df = pd.concat(agg).rename(columns={'Unnamed: 0': 'condition'}).set_index('condition')\n",
    "df['mean'] = df.mean(1)\n",
    "d = pd.merge(sign.reset_index(), df[['mean']].reset_index())\n",
    "f = d['significant'] > 0\n",
    "d.loc[f, 'log_significant'] = d.loc[f, 'significant'].apply(lambda x: np.log10(x))"
   ]
  },
  {
   "cell_type": "code",
   "execution_count": 16,
   "metadata": {},
   "outputs": [],
   "source": [
    "zeros = sum(~f)"
   ]
  },
  {
   "cell_type": "code",
   "execution_count": 17,
   "metadata": {},
   "outputs": [],
   "source": [
    "h = []\n",
    "for j in range(zeros):\n",
    "    h.append(-1 + random.randrange(0, 10)/20)\n",
    "d.loc[~f, 'log_significant'] = h"
   ]
  },
  {
   "cell_type": "code",
   "execution_count": 18,
   "metadata": {},
   "outputs": [],
   "source": [
    "f = d['condition'].str.contains('_0_4_[0-9]*$')\n",
    "d = d[f]"
   ]
  },
  {
   "cell_type": "code",
   "execution_count": 19,
   "metadata": {},
   "outputs": [],
   "source": [
    "d = pd.merge(d, all_de[['condition', 'younger', 'older']].drop_duplicates())"
   ]
  },
  {
   "cell_type": "code",
   "execution_count": 20,
   "metadata": {},
   "outputs": [],
   "source": [
    "agg = []\n",
    "\n",
    "for condition in all_de['condition'].unique():\n",
    "\n",
    "    p = export.get_material_path(\n",
    "        '{}/features_{}.csv'.format(in_folder, condition))\n",
    "\n",
    "    if os.path.exists(p):\n",
    "        h = pd.read_csv(p).set_index('feature')\n",
    "        h = h.mean(1).to_frame('contribution').rename_axis('feature').reset_index()\n",
    "        h.loc[:, 'condition'] = condition\n",
    "        agg.append(h)\n",
    "\n",
    "\n",
    "\n",
    "u = pd.concat(agg)"
   ]
  },
  {
   "cell_type": "code",
   "execution_count": 21,
   "metadata": {},
   "outputs": [],
   "source": [
    "pi = u.pivot(index='condition', columns='feature', values='contribution')"
   ]
  },
  {
   "cell_type": "code",
   "execution_count": 22,
   "metadata": {},
   "outputs": [
    {
     "data": {
      "text/plain": [
       "3.9705882352941178"
      ]
     },
     "execution_count": 22,
     "metadata": {},
     "output_type": "execute_result"
    }
   ],
   "source": [
    "pi.rank(1, ascending=False).loc[:, 'rna_full_SumACGT'].mean()"
   ]
  },
  {
   "cell_type": "code",
   "execution_count": 23,
   "metadata": {},
   "outputs": [
    {
     "data": {
      "text/plain": [
       "26"
      ]
     },
     "execution_count": 23,
     "metadata": {},
     "output_type": "execute_result"
    }
   ],
   "source": [
    "(pi.rank(1, ascending=False).loc[:, 'rna_full_SumACGT'] == 1).sum()"
   ]
  },
  {
   "cell_type": "code",
   "execution_count": 24,
   "metadata": {},
   "outputs": [],
   "source": [
    "is_first = pi.rank(1, ascending=False).loc[:, 'rna_full_SumACGT'] == 1\n",
    "is_top_ten = pi.rank(1, ascending=False).loc[:, 'rna_full_SumACGT'].isin(range(2, 11))"
   ]
  },
  {
   "cell_type": "code",
   "execution_count": 25,
   "metadata": {},
   "outputs": [],
   "source": [
    "is_not_top_ten = pi.rank(1, ascending=False).loc[:, 'rna_full_SumACGT']>10"
   ]
  },
  {
   "cell_type": "code",
   "execution_count": 26,
   "metadata": {},
   "outputs": [
    {
     "data": {
      "text/plain": [
       "26"
      ]
     },
     "execution_count": 26,
     "metadata": {},
     "output_type": "execute_result"
    }
   ],
   "source": [
    "is_first.sum()"
   ]
  },
  {
   "cell_type": "code",
   "execution_count": 27,
   "metadata": {},
   "outputs": [
    {
     "data": {
      "text/plain": [
       "36"
      ]
     },
     "execution_count": 27,
     "metadata": {},
     "output_type": "execute_result"
    }
   ],
   "source": [
    "is_top_ten.sum()"
   ]
  },
  {
   "cell_type": "code",
   "execution_count": 28,
   "metadata": {},
   "outputs": [
    {
     "data": {
      "text/plain": [
       "6"
      ]
     },
     "execution_count": 28,
     "metadata": {},
     "output_type": "execute_result"
    }
   ],
   "source": [
    "is_not_top_ten.sum()"
   ]
  },
  {
   "cell_type": "code",
   "execution_count": 29,
   "metadata": {},
   "outputs": [
    {
     "data": {
      "image/png": "[encoded data removed]",
      "text/plain": [
       "<Figure size 432x288 with 1 Axes>"
      ]
     },
     "metadata": {},
     "output_type": "display_data"
    }
   ],
   "source": [
    "sizes = [is_first.sum(), is_top_ten.sum(), is_not_top_ten.sum()];\n",
    "labels = ['top', 'top_ten', 'other'];\n",
    "colors = ['gold', 'lightcoral', 'lightskyblue'];\n",
    " \n",
    "plt.pie(sizes, labels=labels, colors=colors)\n",
    "\n",
    "\n",
    "if save_images:\n",
    "    export.export_image(\n",
    "    '{}/pie.pdf'.format(out_folder))"
   ]
  },
  {
   "cell_type": "code",
   "execution_count": 30,
   "metadata": {},
   "outputs": [],
   "source": [
    "d = d.set_index('condition')"
   ]
  },
  {
   "cell_type": "code",
   "execution_count": 31,
   "metadata": {},
   "outputs": [
    {
     "data": {
      "image/png": "[encoded data removed]",
      "text/plain": [
       "<Figure size 432x288 with 2 Axes>"
      ]
     },
     "metadata": {
      "needs_background": "light"
     },
     "output_type": "display_data"
    }
   ],
   "source": [
    "# plt.scatter(d.loc[~f, 'log_significant'], d.loc[~f, 'mean'], c=d.loc[~f, 'older'], s=40, cmap='viridis')\n",
    "\n",
    "plt.scatter(\n",
    "    d.loc[is_not_top_ten, 'log_significant'], \n",
    "    d.loc[is_not_top_ten, 'mean'], \n",
    "    c=d.loc[is_not_top_ten, 'older'], \n",
    "    s=40, \n",
    "    cmap='Set3',\n",
    "    marker='o',\n",
    "    vmin=9,\n",
    "    vmax=24\n",
    ")\n",
    "\n",
    "\n",
    "plt.scatter(\n",
    "    d.loc[is_top_ten, 'log_significant'], \n",
    "    d.loc[is_top_ten, 'mean'], \n",
    "    c=d.loc[is_top_ten, 'older'], \n",
    "    s=40, \n",
    "    cmap='Set3',\n",
    "    marker='s',\n",
    "    vmin=9,\n",
    "    vmax=24\n",
    ")\n",
    "\n",
    "plt.scatter(\n",
    "    d.loc[is_first, 'log_significant'], \n",
    "    d.loc[is_first, 'mean'], \n",
    "    c=d.loc[is_first, 'older'], \n",
    "    s=40, \n",
    "    cmap='Set3',\n",
    "    marker='d',\n",
    "    vmin=9,\n",
    "    vmax=24\n",
    ")\n",
    "\n",
    "plt.xlabel('log10 signficant genes')\n",
    "plt.ylabel('Model correlation real to predicted')\n",
    "plt.colorbar()\n",
    "\n",
    "plt.gca().set_ylim(bottom=0)\n",
    "\n",
    "if save_images:\n",
    "    export.export_image(\n",
    "    '{}/prediction_accuracy.pdf'.format(out_folder))"
   ]
  },
  {
   "cell_type": "code",
   "execution_count": 32,
   "metadata": {},
   "outputs": [],
   "source": [
    "is_first =  (pi.rank(1, ascending=False).loc[:, 'rna_full_SumACGT'] == 1) | \\\n",
    "            (pi.rank(1, ascending=False).loc[:, 'rna_cds_SumACGT'] == 1) | \\\n",
    "            (pi.rank(1, ascending=False).loc[:, 'gene_SumACGT'] == 1)"
   ]
  },
  {
   "cell_type": "code",
   "execution_count": 33,
   "metadata": {},
   "outputs": [
    {
     "data": {
      "text/plain": [
       "(68, 2236)"
      ]
     },
     "execution_count": 33,
     "metadata": {},
     "output_type": "execute_result"
    }
   ],
   "source": [
    "pi.shape"
   ]
  },
  {
   "cell_type": "code",
   "execution_count": 34,
   "metadata": {},
   "outputs": [],
   "source": [
    "h = pd.merge(\n",
    "    d.reset_index(), \n",
    "    pi.rank(\n",
    "        1, ascending=False).loc[\n",
    "        :, ['rna_full_SumACGT', 'rna_cds_SumACGT', 'gene_SumACGT']].min(\n",
    "        1).to_frame('length_rank').rename_axis('condition').reset_index()\n",
    "    \n",
    "\n",
    ")\n",
    "\n",
    "bins_of_interest = {\n",
    "    '1-5': [1, 2, 3, 4, 5],\n",
    "    '6-10': [6, 7, 8, 9, 10]\n",
    "}\n",
    "\n",
    "h.loc[:, 'bin'] =np.nan\n",
    "\n",
    "for k in bins_of_interest.keys():\n",
    "    f = h['length_rank'].isin(bins_of_interest[k])\n",
    "    h.loc[f, 'bin'] = k\n",
    "\n",
    "f = h['length_rank'] > 10\n",
    "h.loc[f, 'bin'] = '11-{}'.format(int(pi.shape[1]))\n",
    "\n",
    "g = h[['bin', 'mean']].groupby('bin')\n",
    "\n",
    "to_visualize = pd.merge(   \n",
    "    g.median().reset_index(),\n",
    "    g.size().to_frame('comparisons').rename_axis('bin').reset_index()\n",
    ").set_index('bin')\n",
    "\n",
    "intended_order = [\n",
    "    '1-5',\n",
    "    '6-10',\n",
    "    '11-{}'.format(int(pi.shape[1]))\n",
    "]\n",
    "\n",
    "to_visualize = to_visualize.loc[intended_order, :].reset_index()"
   ]
  },
  {
   "cell_type": "code",
   "execution_count": 35,
   "metadata": {},
   "outputs": [
    {
     "data": {
      "text/html": [
       "<div>\n",
       "<style scoped>\n",
       "    .dataframe tbody tr th:only-of-type {\n",
       "        vertical-align: middle;\n",
       "    }\n",
       "\n",
       "    .dataframe tbody tr th {\n",
       "        vertical-align: top;\n",
       "    }\n",
       "\n",
       "    .dataframe thead th {\n",
       "        text-align: right;\n",
       "    }\n",
       "</style>\n",
       "<table border=\"1\" class=\"dataframe\">\n",
       "  <thead>\n",
       "    <tr style=\"text-align: right;\">\n",
       "      <th></th>\n",
       "      <th>bin</th>\n",
       "      <th>mean</th>\n",
       "      <th>comparisons</th>\n",
       "    </tr>\n",
       "  </thead>\n",
       "  <tbody>\n",
       "    <tr>\n",
       "      <th>0</th>\n",
       "      <td>1-5</td>\n",
       "      <td>0.198811</td>\n",
       "      <td>62</td>\n",
       "    </tr>\n",
       "    <tr>\n",
       "      <th>1</th>\n",
       "      <td>6-10</td>\n",
       "      <td>0.202559</td>\n",
       "      <td>3</td>\n",
       "    </tr>\n",
       "    <tr>\n",
       "      <th>2</th>\n",
       "      <td>11-2236</td>\n",
       "      <td>0.206322</td>\n",
       "      <td>3</td>\n",
       "    </tr>\n",
       "  </tbody>\n",
       "</table>\n",
       "</div>"
      ],
      "text/plain": [
       "       bin      mean  comparisons\n",
       "0      1-5  0.198811           62\n",
       "1     6-10  0.202559            3\n",
       "2  11-2236  0.206322            3"
      ]
     },
     "execution_count": 35,
     "metadata": {},
     "output_type": "execute_result"
    }
   ],
   "source": [
    "to_visualize"
   ]
  },
  {
   "cell_type": "code",
   "execution_count": 36,
   "metadata": {},
   "outputs": [],
   "source": [
    "save_late_images = True"
   ]
  },
  {
   "cell_type": "code",
   "execution_count": 37,
   "metadata": {},
   "outputs": [
    {
     "data": {
      "image/png": "[encoded data removed]",
      "text/plain": [
       "<Figure size 432x288 with 1 Axes>"
      ]
     },
     "metadata": {
      "needs_background": "light"
     },
     "output_type": "display_data"
    }
   ],
   "source": [
    "height = to_visualize.loc[:, 'comparisons']\n",
    "bars = to_visualize.loc[:, 'bin']\n",
    "y_pos = np.arange(len(bars))\n",
    " \n",
    "# Create bars\n",
    "plt.bar(y_pos, height)\n",
    " \n",
    "# Create names on the x-axis\n",
    "plt.xticks(y_pos, bars)\n",
    "\n",
    "\n",
    "\n",
    "height = to_visualize.loc[:, 'mean']\n",
    "\n",
    "plt.plot(y_pos, height*100, 'r')\n",
    "\n",
    "save_late_images = True\n",
    "\n",
    "if save_late_images:\n",
    "    export.export_image(\n",
    "    '{}/fraction_of_experiments.pdf'.format(out_folder))"
   ]
  },
  {
   "cell_type": "code",
   "execution_count": 38,
   "metadata": {},
   "outputs": [
    {
     "data": {
      "image/png": "[encoded data removed]",
      "text/plain": [
       "<Figure size 432x288 with 1 Axes>"
      ]
     },
     "metadata": {
      "needs_background": "light"
     },
     "output_type": "display_data"
    }
   ],
   "source": [
    "save_late_images = True\n",
    "\n",
    "plt.plot(y_pos, height*100, 'r')\n",
    "\n",
    "plt.ylim(0, 50)\n",
    "# plt.gca().set_ylim(bottom=0)\n",
    "\n",
    "if save_late_images:\n",
    "    export.export_image(\n",
    "    '{}/red_line_for_helper_axis.pdf'.format(out_folder))\n",
    "\n"
   ]
  },
  {
   "cell_type": "code",
   "execution_count": null,
   "metadata": {},
   "outputs": [],
   "source": []
  },
  {
   "cell_type": "code",
   "execution_count": null,
   "metadata": {},
   "outputs": [],
   "source": []
  },
  {
   "cell_type": "code",
   "execution_count": null,
   "metadata": {},
   "outputs": [],
   "source": []
  },
  {
   "cell_type": "code",
   "execution_count": 39,
   "metadata": {},
   "outputs": [
    {
     "data": {
      "text/html": [
       "<div>\n",
       "<style scoped>\n",
       "    .dataframe tbody tr th:only-of-type {\n",
       "        vertical-align: middle;\n",
       "    }\n",
       "\n",
       "    .dataframe tbody tr th {\n",
       "        vertical-align: top;\n",
       "    }\n",
       "\n",
       "    .dataframe thead th {\n",
       "        text-align: right;\n",
       "    }\n",
       "</style>\n",
       "<table border=\"1\" class=\"dataframe\">\n",
       "  <thead>\n",
       "    <tr style=\"text-align: right;\">\n",
       "      <th></th>\n",
       "      <th>bin</th>\n",
       "      <th>mean</th>\n",
       "      <th>comparisons</th>\n",
       "    </tr>\n",
       "  </thead>\n",
       "  <tbody>\n",
       "    <tr>\n",
       "      <th>0</th>\n",
       "      <td>1-5</td>\n",
       "      <td>0.198811</td>\n",
       "      <td>62</td>\n",
       "    </tr>\n",
       "    <tr>\n",
       "      <th>2</th>\n",
       "      <td>11-2236</td>\n",
       "      <td>0.206322</td>\n",
       "      <td>3</td>\n",
       "    </tr>\n",
       "    <tr>\n",
       "      <th>1</th>\n",
       "      <td>6-10</td>\n",
       "      <td>0.202559</td>\n",
       "      <td>3</td>\n",
       "    </tr>\n",
       "  </tbody>\n",
       "</table>\n",
       "</div>"
      ],
      "text/plain": [
       "       bin      mean  comparisons\n",
       "0      1-5  0.198811           62\n",
       "2  11-2236  0.206322            3\n",
       "1     6-10  0.202559            3"
      ]
     },
     "execution_count": 39,
     "metadata": {},
     "output_type": "execute_result"
    }
   ],
   "source": [
    "to_visualize.sort_values('bin')"
   ]
  },
  {
   "cell_type": "code",
   "execution_count": null,
   "metadata": {},
   "outputs": [],
   "source": []
  },
  {
   "cell_type": "code",
   "execution_count": null,
   "metadata": {},
   "outputs": [],
   "source": []
  },
  {
   "cell_type": "code",
   "execution_count": null,
   "metadata": {},
   "outputs": [],
   "source": []
  },
  {
   "cell_type": "code",
   "execution_count": 40,
   "metadata": {},
   "outputs": [
    {
     "data": {
      "text/html": [
       "<div>\n",
       "<style scoped>\n",
       "    .dataframe tbody tr th:only-of-type {\n",
       "        vertical-align: middle;\n",
       "    }\n",
       "\n",
       "    .dataframe tbody tr th {\n",
       "        vertical-align: top;\n",
       "    }\n",
       "\n",
       "    .dataframe thead th {\n",
       "        text-align: right;\n",
       "    }\n",
       "</style>\n",
       "<table border=\"1\" class=\"dataframe\">\n",
       "  <thead>\n",
       "    <tr style=\"text-align: right;\">\n",
       "      <th></th>\n",
       "      <th>significant</th>\n",
       "      <th>mean</th>\n",
       "      <th>log_significant</th>\n",
       "      <th>younger</th>\n",
       "      <th>older</th>\n",
       "    </tr>\n",
       "    <tr>\n",
       "      <th>condition</th>\n",
       "      <th></th>\n",
       "      <th></th>\n",
       "      <th></th>\n",
       "      <th></th>\n",
       "      <th></th>\n",
       "    </tr>\n",
       "  </thead>\n",
       "  <tbody>\n",
       "    <tr>\n",
       "      <th>Adrenal_0_4_12</th>\n",
       "      <td>464.0</td>\n",
       "      <td>0.304711</td>\n",
       "      <td>2.666518</td>\n",
       "      <td>4.0</td>\n",
       "      <td>12.0</td>\n",
       "    </tr>\n",
       "    <tr>\n",
       "      <th>Adrenal_0_4_18</th>\n",
       "      <td>974.0</td>\n",
       "      <td>0.234343</td>\n",
       "      <td>2.988559</td>\n",
       "      <td>4.0</td>\n",
       "      <td>18.0</td>\n",
       "    </tr>\n",
       "    <tr>\n",
       "      <th>Adrenal_0_4_24</th>\n",
       "      <td>647.0</td>\n",
       "      <td>0.285178</td>\n",
       "      <td>2.810904</td>\n",
       "      <td>4.0</td>\n",
       "      <td>24.0</td>\n",
       "    </tr>\n",
       "    <tr>\n",
       "      <th>Adrenal_0_4_9</th>\n",
       "      <td>30.0</td>\n",
       "      <td>0.168008</td>\n",
       "      <td>1.477121</td>\n",
       "      <td>4.0</td>\n",
       "      <td>9.0</td>\n",
       "    </tr>\n",
       "    <tr>\n",
       "      <th>BAT_0_4_12</th>\n",
       "      <td>70.0</td>\n",
       "      <td>0.194697</td>\n",
       "      <td>1.845098</td>\n",
       "      <td>4.0</td>\n",
       "      <td>12.0</td>\n",
       "    </tr>\n",
       "    <tr>\n",
       "      <th>...</th>\n",
       "      <td>...</td>\n",
       "      <td>...</td>\n",
       "      <td>...</td>\n",
       "      <td>...</td>\n",
       "      <td>...</td>\n",
       "    </tr>\n",
       "    <tr>\n",
       "      <th>Stomach_0_4_9</th>\n",
       "      <td>3.0</td>\n",
       "      <td>0.283388</td>\n",
       "      <td>0.477121</td>\n",
       "      <td>4.0</td>\n",
       "      <td>9.0</td>\n",
       "    </tr>\n",
       "    <tr>\n",
       "      <th>WAT_0_4_12</th>\n",
       "      <td>86.0</td>\n",
       "      <td>0.206322</td>\n",
       "      <td>1.934498</td>\n",
       "      <td>4.0</td>\n",
       "      <td>12.0</td>\n",
       "    </tr>\n",
       "    <tr>\n",
       "      <th>WAT_0_4_18</th>\n",
       "      <td>90.0</td>\n",
       "      <td>0.205991</td>\n",
       "      <td>1.954243</td>\n",
       "      <td>4.0</td>\n",
       "      <td>18.0</td>\n",
       "    </tr>\n",
       "    <tr>\n",
       "      <th>WAT_0_4_24</th>\n",
       "      <td>108.0</td>\n",
       "      <td>0.202559</td>\n",
       "      <td>2.033424</td>\n",
       "      <td>4.0</td>\n",
       "      <td>24.0</td>\n",
       "    </tr>\n",
       "    <tr>\n",
       "      <th>WAT_0_4_9</th>\n",
       "      <td>83.0</td>\n",
       "      <td>0.193923</td>\n",
       "      <td>1.919078</td>\n",
       "      <td>4.0</td>\n",
       "      <td>9.0</td>\n",
       "    </tr>\n",
       "  </tbody>\n",
       "</table>\n",
       "<p>68 rows × 5 columns</p>\n",
       "</div>"
      ],
      "text/plain": [
       "                significant      mean  log_significant  younger  older\n",
       "condition                                                             \n",
       "Adrenal_0_4_12        464.0  0.304711         2.666518      4.0   12.0\n",
       "Adrenal_0_4_18        974.0  0.234343         2.988559      4.0   18.0\n",
       "Adrenal_0_4_24        647.0  0.285178         2.810904      4.0   24.0\n",
       "Adrenal_0_4_9          30.0  0.168008         1.477121      4.0    9.0\n",
       "BAT_0_4_12             70.0  0.194697         1.845098      4.0   12.0\n",
       "...                     ...       ...              ...      ...    ...\n",
       "Stomach_0_4_9           3.0  0.283388         0.477121      4.0    9.0\n",
       "WAT_0_4_12             86.0  0.206322         1.934498      4.0   12.0\n",
       "WAT_0_4_18             90.0  0.205991         1.954243      4.0   18.0\n",
       "WAT_0_4_24            108.0  0.202559         2.033424      4.0   24.0\n",
       "WAT_0_4_9              83.0  0.193923         1.919078      4.0    9.0\n",
       "\n",
       "[68 rows x 5 columns]"
      ]
     },
     "execution_count": 40,
     "metadata": {},
     "output_type": "execute_result"
    }
   ],
   "source": [
    "d"
   ]
  },
  {
   "cell_type": "code",
   "execution_count": null,
   "metadata": {},
   "outputs": [],
   "source": []
  },
  {
   "cell_type": "code",
   "execution_count": 41,
   "metadata": {},
   "outputs": [
    {
     "data": {
      "text/plain": [
       "condition\n",
       "Adrenal_0_4_12    False\n",
       "Adrenal_0_4_18    False\n",
       "Adrenal_0_4_24    False\n",
       "Adrenal_0_4_9     False\n",
       "BAT_0_4_12        False\n",
       "                  ...  \n",
       "Stomach_0_4_9      True\n",
       "WAT_0_4_12        False\n",
       "WAT_0_4_18        False\n",
       "WAT_0_4_24        False\n",
       "WAT_0_4_9         False\n",
       "Length: 68, dtype: bool"
      ]
     },
     "execution_count": 41,
     "metadata": {},
     "output_type": "execute_result"
    }
   ],
   "source": [
    "is_first"
   ]
  },
  {
   "cell_type": "code",
   "execution_count": null,
   "metadata": {},
   "outputs": [],
   "source": []
  },
  {
   "cell_type": "code",
   "execution_count": null,
   "metadata": {},
   "outputs": [],
   "source": []
  },
  {
   "cell_type": "code",
   "execution_count": null,
   "metadata": {},
   "outputs": [],
   "source": []
  },
  {
   "cell_type": "code",
   "execution_count": null,
   "metadata": {},
   "outputs": [],
   "source": []
  },
  {
   "cell_type": "code",
   "execution_count": null,
   "metadata": {},
   "outputs": [],
   "source": []
  },
  {
   "cell_type": "code",
   "execution_count": 42,
   "metadata": {},
   "outputs": [],
   "source": [
    "d.loc[is_first, 'perf'] = 'top'\n",
    "d.loc[is_top_ten, 'perf'] = 'top ten'\n",
    "d.loc[is_not_top_ten, 'perf'] = 'not top ten'"
   ]
  },
  {
   "cell_type": "code",
   "execution_count": 43,
   "metadata": {},
   "outputs": [],
   "source": [
    "d.loc[is_first, 'perf'] = 'top'\n",
    "d.loc[~is_first, 'perf'] = 'other'\n",
    "# d.loc[is_top_ten, 'perf'] = 'top ten'\n",
    "# d.loc[is_not_top_ten, 'perf'] = 'not top ten'"
   ]
  },
  {
   "cell_type": "code",
   "execution_count": null,
   "metadata": {},
   "outputs": [],
   "source": []
  },
  {
   "cell_type": "code",
   "execution_count": 44,
   "metadata": {},
   "outputs": [
    {
     "data": {
      "image/png": "[encoded data removed]",
      "text/plain": [
       "<Figure size 432x288 with 1 Axes>"
      ]
     },
     "metadata": {
      "needs_background": "light"
     },
     "output_type": "display_data"
    }
   ],
   "source": [
    "g = sns.boxplot(\n",
    "    x='perf', \n",
    "    y='mean', \n",
    "    data=d, \n",
    "    notch=True,\n",
    "    order=['other', 'top']\n",
    ")\n",
    "\n",
    "g.set(ylim=(0, None))\n",
    "\n",
    "\n",
    "if save_images:\n",
    "    export.export_image(\n",
    "    '{}/boxplot_two.pdf'.format(out_folder))"
   ]
  },
  {
   "cell_type": "code",
   "execution_count": 45,
   "metadata": {},
   "outputs": [],
   "source": [
    "from scipy.stats import mannwhitneyu"
   ]
  },
  {
   "cell_type": "code",
   "execution_count": 46,
   "metadata": {},
   "outputs": [
    {
     "data": {
      "text/plain": [
       "MannwhitneyuResult(statistic=427.0, pvalue=0.08703468097913061)"
      ]
     },
     "execution_count": 46,
     "metadata": {},
     "output_type": "execute_result"
    }
   ],
   "source": [
    "mannwhitneyu(\n",
    "    d[d['perf']=='other']['mean'],\n",
    "    d[d['perf']=='top']['mean'],\n",
    "    alternative='two-sided'\n",
    ")"
   ]
  },
  {
   "cell_type": "code",
   "execution_count": null,
   "metadata": {},
   "outputs": [],
   "source": []
  },
  {
   "cell_type": "code",
   "execution_count": null,
   "metadata": {},
   "outputs": [],
   "source": []
  },
  {
   "cell_type": "code",
   "execution_count": null,
   "metadata": {},
   "outputs": [],
   "source": []
  },
  {
   "cell_type": "code",
   "execution_count": 47,
   "metadata": {},
   "outputs": [
    {
     "data": {
      "image/png": "[encoded data removed]",
      "text/plain": [
       "<Figure size 432x288 with 1 Axes>"
      ]
     },
     "metadata": {
      "needs_background": "light"
     },
     "output_type": "display_data"
    }
   ],
   "source": [
    "v = np.arange(0, 0.7, 0.05)\n",
    "\n",
    "sns.distplot(\n",
    "    d.loc[~is_first, 'mean'],\n",
    "    bins=v,\n",
    "    color='blue'\n",
    "\n",
    ")\n",
    "\n",
    "sns.distplot(\n",
    "    d.loc[is_first, 'mean'],\n",
    "    bins=v,\n",
    "    color='orange'\n",
    ")\n",
    "\n",
    "d.loc[~is_first, 'perf'] = 'other'\n",
    "d.loc[is_first, 'perf'] = 'top'\n",
    "\n",
    "if save_images:\n",
    "    export.export_image(\n",
    "    '{}/histogram_two.pdf'.format(out_folder))"
   ]
  },
  {
   "cell_type": "code",
   "execution_count": 48,
   "metadata": {},
   "outputs": [
    {
     "data": {
      "text/plain": [
       "top      39\n",
       "other    29\n",
       "Name: perf, dtype: int64"
      ]
     },
     "execution_count": 48,
     "metadata": {},
     "output_type": "execute_result"
    }
   ],
   "source": [
    "d['perf'].value_counts()"
   ]
  },
  {
   "cell_type": "code",
   "execution_count": 49,
   "metadata": {},
   "outputs": [
    {
     "data": {
      "image/png": "[encoded data removed]",
      "text/plain": [
       "<Figure size 432x288 with 1 Axes>"
      ]
     },
     "metadata": {
      "needs_background": "light"
     },
     "output_type": "display_data"
    }
   ],
   "source": [
    "d.loc[is_first, 'perf'] = 'top'\n",
    "d.loc[is_top_ten, 'perf'] = 'top ten'\n",
    "d.loc[is_not_top_ten, 'perf'] = 'not top ten'\n",
    "\n",
    "g = sns.boxplot(\n",
    "    x='perf', \n",
    "    y='mean', \n",
    "    data=d, \n",
    "    notch=True,\n",
    "    order=[\n",
    "        'not top ten',\n",
    "        'top ten',\n",
    "        'top'\n",
    "    ]\n",
    ")\n",
    "\n",
    "\n",
    "g.set(ylim=(0, None))\n",
    "\n",
    "if save_images:\n",
    "    export.export_image(\n",
    "    '{}/boxplot_three.pdf'.format(out_folder))"
   ]
  },
  {
   "cell_type": "code",
   "execution_count": 50,
   "metadata": {},
   "outputs": [
    {
     "data": {
      "image/png": "[encoded data removed]",
      "text/plain": [
       "<Figure size 432x288 with 1 Axes>"
      ]
     },
     "metadata": {
      "needs_background": "light"
     },
     "output_type": "display_data"
    }
   ],
   "source": [
    "v = np.arange(0, 0.7, 0.05)\n",
    "\n",
    "sns.distplot(\n",
    "    d.loc[is_not_top_ten, 'mean'],\n",
    "    bins=v,\n",
    "    color='blue'\n",
    "\n",
    ")\n",
    "\n",
    "sns.distplot(\n",
    "    d.loc[is_top_ten, 'mean'],\n",
    "    bins=v,\n",
    "    color='orange'\n",
    ")\n",
    "\n",
    "\n",
    "sns.distplot(\n",
    "    d.loc[is_first, 'mean'],\n",
    "    bins=v,\n",
    "    color='green'\n",
    ")\n",
    "\n",
    "d.loc[~is_first, 'perf'] = 'other'\n",
    "d.loc[is_first, 'perf'] = 'top'\n",
    "\n",
    "if save_images:\n",
    "    export.export_image(\n",
    "    '{}/histogram_three.pdf'.format(out_folder))"
   ]
  },
  {
   "cell_type": "code",
   "execution_count": 51,
   "metadata": {},
   "outputs": [],
   "source": [
    "is_first =  (pi.rank(1, ascending=False).loc[:, 'rna_full_SumACGT'] == 1) | \\\n",
    "            (pi.rank(1, ascending=False).loc[:, 'rna_cds_SumACGT'] == 1) | \\\n",
    "            (pi.rank(1, ascending=False).loc[:, 'gene_SumACGT'] == 1)\n"
   ]
  },
  {
   "cell_type": "code",
   "execution_count": 52,
   "metadata": {},
   "outputs": [],
   "source": [
    "d.loc[is_first, 'perf'] = 'top'\n",
    "d.loc[~is_first, 'perf'] = 'other'"
   ]
  },
  {
   "cell_type": "code",
   "execution_count": 53,
   "metadata": {},
   "outputs": [
    {
     "data": {
      "image/png": "[encoded data removed]",
      "text/plain": [
       "<Figure size 432x288 with 1 Axes>"
      ]
     },
     "metadata": {
      "needs_background": "light"
     },
     "output_type": "display_data"
    }
   ],
   "source": [
    "g = sns.boxplot(\n",
    "    x='perf', \n",
    "    y='mean', \n",
    "    data=d, \n",
    "    notch=True,\n",
    "    order=['other', 'top']\n",
    ")\n",
    "\n",
    "g.set(ylim=(0, None))\n",
    "\n",
    "\n",
    "if save_images:\n",
    "    export.export_image(\n",
    "    '{}/boxplot_two_all_length.pdf'.format(out_folder))"
   ]
  },
  {
   "cell_type": "code",
   "execution_count": 54,
   "metadata": {},
   "outputs": [
    {
     "data": {
      "text/plain": [
       "top      39\n",
       "other    29\n",
       "Name: perf, dtype: int64"
      ]
     },
     "execution_count": 54,
     "metadata": {},
     "output_type": "execute_result"
    }
   ],
   "source": [
    "d['perf'].value_counts()"
   ]
  },
  {
   "cell_type": "code",
   "execution_count": 55,
   "metadata": {},
   "outputs": [
    {
     "data": {
      "text/plain": [
       "MannwhitneyuResult(statistic=427.0, pvalue=0.08703468097913061)"
      ]
     },
     "execution_count": 55,
     "metadata": {},
     "output_type": "execute_result"
    }
   ],
   "source": [
    "mannwhitneyu(\n",
    "    d[d['perf']=='other']['mean'],\n",
    "    d[d['perf']=='top']['mean'],\n",
    "    alternative='two-sided'\n",
    ")"
   ]
  },
  {
   "cell_type": "code",
   "execution_count": null,
   "metadata": {},
   "outputs": [],
   "source": []
  },
  {
   "cell_type": "code",
   "execution_count": null,
   "metadata": {},
   "outputs": [],
   "source": []
  },
  {
   "cell_type": "code",
   "execution_count": null,
   "metadata": {},
   "outputs": [],
   "source": []
  },
  {
   "cell_type": "code",
   "execution_count": null,
   "metadata": {},
   "outputs": [],
   "source": []
  },
  {
   "cell_type": "code",
   "execution_count": 56,
   "metadata": {},
   "outputs": [
    {
     "data": {
      "text/html": [
       "<div>\n",
       "<style scoped>\n",
       "    .dataframe tbody tr th:only-of-type {\n",
       "        vertical-align: middle;\n",
       "    }\n",
       "\n",
       "    .dataframe tbody tr th {\n",
       "        vertical-align: top;\n",
       "    }\n",
       "\n",
       "    .dataframe thead th {\n",
       "        text-align: right;\n",
       "    }\n",
       "</style>\n",
       "<table border=\"1\" class=\"dataframe\">\n",
       "  <thead>\n",
       "    <tr style=\"text-align: right;\">\n",
       "      <th></th>\n",
       "      <th>significant</th>\n",
       "      <th>mean</th>\n",
       "      <th>log_significant</th>\n",
       "      <th>younger</th>\n",
       "      <th>older</th>\n",
       "      <th>perf</th>\n",
       "    </tr>\n",
       "    <tr>\n",
       "      <th>condition</th>\n",
       "      <th></th>\n",
       "      <th></th>\n",
       "      <th></th>\n",
       "      <th></th>\n",
       "      <th></th>\n",
       "      <th></th>\n",
       "    </tr>\n",
       "  </thead>\n",
       "  <tbody>\n",
       "    <tr>\n",
       "      <th>Adrenal_0_4_12</th>\n",
       "      <td>464.0</td>\n",
       "      <td>0.304711</td>\n",
       "      <td>2.666518</td>\n",
       "      <td>4.0</td>\n",
       "      <td>12.0</td>\n",
       "      <td>other</td>\n",
       "    </tr>\n",
       "    <tr>\n",
       "      <th>Adrenal_0_4_18</th>\n",
       "      <td>974.0</td>\n",
       "      <td>0.234343</td>\n",
       "      <td>2.988559</td>\n",
       "      <td>4.0</td>\n",
       "      <td>18.0</td>\n",
       "      <td>other</td>\n",
       "    </tr>\n",
       "    <tr>\n",
       "      <th>Adrenal_0_4_24</th>\n",
       "      <td>647.0</td>\n",
       "      <td>0.285178</td>\n",
       "      <td>2.810904</td>\n",
       "      <td>4.0</td>\n",
       "      <td>24.0</td>\n",
       "      <td>other</td>\n",
       "    </tr>\n",
       "    <tr>\n",
       "      <th>Adrenal_0_4_9</th>\n",
       "      <td>30.0</td>\n",
       "      <td>0.168008</td>\n",
       "      <td>1.477121</td>\n",
       "      <td>4.0</td>\n",
       "      <td>9.0</td>\n",
       "      <td>other</td>\n",
       "    </tr>\n",
       "    <tr>\n",
       "      <th>BAT_0_4_12</th>\n",
       "      <td>70.0</td>\n",
       "      <td>0.194697</td>\n",
       "      <td>1.845098</td>\n",
       "      <td>4.0</td>\n",
       "      <td>12.0</td>\n",
       "      <td>other</td>\n",
       "    </tr>\n",
       "  </tbody>\n",
       "</table>\n",
       "</div>"
      ],
      "text/plain": [
       "                significant      mean  log_significant  younger  older   perf\n",
       "condition                                                                    \n",
       "Adrenal_0_4_12        464.0  0.304711         2.666518      4.0   12.0  other\n",
       "Adrenal_0_4_18        974.0  0.234343         2.988559      4.0   18.0  other\n",
       "Adrenal_0_4_24        647.0  0.285178         2.810904      4.0   24.0  other\n",
       "Adrenal_0_4_9          30.0  0.168008         1.477121      4.0    9.0  other\n",
       "BAT_0_4_12             70.0  0.194697         1.845098      4.0   12.0  other"
      ]
     },
     "execution_count": 56,
     "metadata": {},
     "output_type": "execute_result"
    }
   ],
   "source": [
    "d.head()"
   ]
  },
  {
   "cell_type": "code",
   "execution_count": 57,
   "metadata": {},
   "outputs": [],
   "source": [
    "helper = pd.merge(\n",
    "    d.reset_index()[['condition', 'mean']],\n",
    "    all_de[['condition', 'tissue', 'older']].drop_duplicates()\n",
    ").pivot(index='tissue', columns='older', values='mean')"
   ]
  },
  {
   "cell_type": "code",
   "execution_count": 58,
   "metadata": {},
   "outputs": [
    {
     "data": {
      "text/html": [
       "<div>\n",
       "<style scoped>\n",
       "    .dataframe tbody tr th:only-of-type {\n",
       "        vertical-align: middle;\n",
       "    }\n",
       "\n",
       "    .dataframe tbody tr th {\n",
       "        vertical-align: top;\n",
       "    }\n",
       "\n",
       "    .dataframe thead th {\n",
       "        text-align: right;\n",
       "    }\n",
       "</style>\n",
       "<table border=\"1\" class=\"dataframe\">\n",
       "  <thead>\n",
       "    <tr style=\"text-align: right;\">\n",
       "      <th>older</th>\n",
       "      <th>9.0</th>\n",
       "      <th>12.0</th>\n",
       "      <th>18.0</th>\n",
       "      <th>24.0</th>\n",
       "    </tr>\n",
       "    <tr>\n",
       "      <th>tissue</th>\n",
       "      <th></th>\n",
       "      <th></th>\n",
       "      <th></th>\n",
       "      <th></th>\n",
       "    </tr>\n",
       "  </thead>\n",
       "  <tbody>\n",
       "    <tr>\n",
       "      <th>Adrenal</th>\n",
       "      <td>0.168008</td>\n",
       "      <td>0.304711</td>\n",
       "      <td>0.234343</td>\n",
       "      <td>0.285178</td>\n",
       "    </tr>\n",
       "    <tr>\n",
       "      <th>BAT</th>\n",
       "      <td>0.092881</td>\n",
       "      <td>0.194697</td>\n",
       "      <td>0.140845</td>\n",
       "      <td>0.323129</td>\n",
       "    </tr>\n",
       "    <tr>\n",
       "      <th>Blood</th>\n",
       "      <td>0.051044</td>\n",
       "      <td>0.081267</td>\n",
       "      <td>0.205581</td>\n",
       "      <td>0.289748</td>\n",
       "    </tr>\n",
       "    <tr>\n",
       "      <th>Brain</th>\n",
       "      <td>0.088584</td>\n",
       "      <td>0.200182</td>\n",
       "      <td>0.174157</td>\n",
       "      <td>0.258097</td>\n",
       "    </tr>\n",
       "    <tr>\n",
       "      <th>Cerebellum</th>\n",
       "      <td>0.400731</td>\n",
       "      <td>0.081547</td>\n",
       "      <td>0.091095</td>\n",
       "      <td>0.163922</td>\n",
       "    </tr>\n",
       "    <tr>\n",
       "      <th>Esophagus</th>\n",
       "      <td>0.234723</td>\n",
       "      <td>0.290965</td>\n",
       "      <td>0.161580</td>\n",
       "      <td>0.213446</td>\n",
       "    </tr>\n",
       "    <tr>\n",
       "      <th>GutEP</th>\n",
       "      <td>0.053254</td>\n",
       "      <td>0.107918</td>\n",
       "      <td>0.117858</td>\n",
       "      <td>0.200274</td>\n",
       "    </tr>\n",
       "    <tr>\n",
       "      <th>Heart</th>\n",
       "      <td>0.310655</td>\n",
       "      <td>0.192524</td>\n",
       "      <td>0.269744</td>\n",
       "      <td>0.316224</td>\n",
       "    </tr>\n",
       "    <tr>\n",
       "      <th>Kidney</th>\n",
       "      <td>0.481630</td>\n",
       "      <td>0.274104</td>\n",
       "      <td>0.281570</td>\n",
       "      <td>0.479567</td>\n",
       "    </tr>\n",
       "    <tr>\n",
       "      <th>LI</th>\n",
       "      <td>0.133557</td>\n",
       "      <td>0.329685</td>\n",
       "      <td>0.485208</td>\n",
       "      <td>0.415128</td>\n",
       "    </tr>\n",
       "    <tr>\n",
       "      <th>Liver</th>\n",
       "      <td>0.217643</td>\n",
       "      <td>0.204695</td>\n",
       "      <td>0.180994</td>\n",
       "      <td>0.189475</td>\n",
       "    </tr>\n",
       "    <tr>\n",
       "      <th>Lung</th>\n",
       "      <td>0.103826</td>\n",
       "      <td>0.166383</td>\n",
       "      <td>0.159820</td>\n",
       "      <td>0.192038</td>\n",
       "    </tr>\n",
       "    <tr>\n",
       "      <th>MuscSat</th>\n",
       "      <td>0.040818</td>\n",
       "      <td>0.127607</td>\n",
       "      <td>0.052060</td>\n",
       "      <td>0.123070</td>\n",
       "    </tr>\n",
       "    <tr>\n",
       "      <th>SI</th>\n",
       "      <td>0.130226</td>\n",
       "      <td>0.150924</td>\n",
       "      <td>0.149936</td>\n",
       "      <td>0.400310</td>\n",
       "    </tr>\n",
       "    <tr>\n",
       "      <th>Skin</th>\n",
       "      <td>0.386424</td>\n",
       "      <td>0.322313</td>\n",
       "      <td>0.242984</td>\n",
       "      <td>0.197440</td>\n",
       "    </tr>\n",
       "    <tr>\n",
       "      <th>Stomach</th>\n",
       "      <td>0.283388</td>\n",
       "      <td>0.363968</td>\n",
       "      <td>0.174401</td>\n",
       "      <td>0.278910</td>\n",
       "    </tr>\n",
       "    <tr>\n",
       "      <th>WAT</th>\n",
       "      <td>0.193923</td>\n",
       "      <td>0.206322</td>\n",
       "      <td>0.205991</td>\n",
       "      <td>0.202559</td>\n",
       "    </tr>\n",
       "  </tbody>\n",
       "</table>\n",
       "</div>"
      ],
      "text/plain": [
       "older           9.0       12.0      18.0      24.0\n",
       "tissue                                            \n",
       "Adrenal     0.168008  0.304711  0.234343  0.285178\n",
       "BAT         0.092881  0.194697  0.140845  0.323129\n",
       "Blood       0.051044  0.081267  0.205581  0.289748\n",
       "Brain       0.088584  0.200182  0.174157  0.258097\n",
       "Cerebellum  0.400731  0.081547  0.091095  0.163922\n",
       "Esophagus   0.234723  0.290965  0.161580  0.213446\n",
       "GutEP       0.053254  0.107918  0.117858  0.200274\n",
       "Heart       0.310655  0.192524  0.269744  0.316224\n",
       "Kidney      0.481630  0.274104  0.281570  0.479567\n",
       "LI          0.133557  0.329685  0.485208  0.415128\n",
       "Liver       0.217643  0.204695  0.180994  0.189475\n",
       "Lung        0.103826  0.166383  0.159820  0.192038\n",
       "MuscSat     0.040818  0.127607  0.052060  0.123070\n",
       "SI          0.130226  0.150924  0.149936  0.400310\n",
       "Skin        0.386424  0.322313  0.242984  0.197440\n",
       "Stomach     0.283388  0.363968  0.174401  0.278910\n",
       "WAT         0.193923  0.206322  0.205991  0.202559"
      ]
     },
     "execution_count": 58,
     "metadata": {},
     "output_type": "execute_result"
    }
   ],
   "source": [
    "helper"
   ]
  },
  {
   "cell_type": "code",
   "execution_count": 59,
   "metadata": {},
   "outputs": [],
   "source": [
    "\n",
    "\n",
    "if save_late_images:\n",
    "    export.export_full_frame(\n",
    "        '{}/table.csv'.format(out_folder),\n",
    "        helper\n",
    "    )"
   ]
  },
  {
   "cell_type": "code",
   "execution_count": null,
   "metadata": {},
   "outputs": [],
   "source": []
  },
  {
   "cell_type": "code",
   "execution_count": null,
   "metadata": {},
   "outputs": [],
   "source": []
  },
  {
   "cell_type": "code",
   "execution_count": 60,
   "metadata": {},
   "outputs": [],
   "source": [
    "def nice_plot(h):\n",
    "    t = h.copy()\n",
    "    \n",
    "    tissue_dict = {\n",
    "        'Adrenal': 'Adrenal gland',\n",
    "        'BAT': 'Brown adipose tissue',\n",
    "        'Blood': 'Blood',\n",
    "        'Brain': 'Frontal cortex',\n",
    "        'Cerebellum': 'Cerebellum',\n",
    "        'Esophagus': 'Esophagus',\n",
    "        'GutEP': 'Gut epithelium',\n",
    "        'Heart': 'Heart',\n",
    "        'Kidney': 'Kidney',\n",
    "        'LI': 'Large intestine',\n",
    "        'Liver': 'Liver',\n",
    "        'Lung': 'Lung',\n",
    "        'MuscSat': 'Muscle',\n",
    "        'SI': 'Small intestine',\n",
    "        'Skin': 'Skin',\n",
    "        'Stomach': 'Stomach',\n",
    "        'WAT': 'White adipose tissue'\n",
    "    }\n",
    "    \n",
    "    t = t.rename(index=tissue_dict)\n",
    "    t = t.sort_index()\n",
    "    \n",
    "    plt.figure(figsize=(4, 5))\n",
    "\n",
    "\n",
    "    sns.heatmap(\n",
    "        t, \n",
    "        cmap='YlOrBr', \n",
    "        annot=True,\n",
    "        vmin=0,\n",
    "        vmax=0.5\n",
    "    )"
   ]
  },
  {
   "cell_type": "code",
   "execution_count": 61,
   "metadata": {},
   "outputs": [
    {
     "data": {
      "image/png": "[encoded data removed]",
      "text/plain": [
       "<Figure size 288x360 with 2 Axes>"
      ]
     },
     "metadata": {
      "needs_background": "light"
     },
     "output_type": "display_data"
    }
   ],
   "source": [
    "nice_plot(helper.apply(lambda x: np.round(x, 2)))\n",
    "\n",
    "\n",
    "if save_images:\n",
    "    export.export_image(\n",
    "    '{}/table_nice.pdf'.format(out_folder))"
   ]
  },
  {
   "cell_type": "code",
   "execution_count": null,
   "metadata": {},
   "outputs": [],
   "source": []
  },
  {
   "cell_type": "code",
   "execution_count": null,
   "metadata": {},
   "outputs": [],
   "source": []
  },
  {
   "cell_type": "code",
   "execution_count": null,
   "metadata": {},
   "outputs": [],
   "source": []
  },
  {
   "cell_type": "code",
   "execution_count": null,
   "metadata": {},
   "outputs": [],
   "source": []
  },
  {
   "cell_type": "code",
   "execution_count": 62,
   "metadata": {},
   "outputs": [
    {
     "data": {
      "image/png": "[encoded data removed]",
      "text/plain": [
       "<Figure size 288x360 with 2 Axes>"
      ]
     },
     "metadata": {
      "needs_background": "light"
     },
     "output_type": "display_data"
    }
   ],
   "source": [
    "plt.figure(figsize=(4, 5))\n",
    "\n",
    "\n",
    "\n",
    "sns.heatmap(\n",
    "    helper.apply(lambda x: np.round(x, 2)),\n",
    "    cmap='YlOrBr', \n",
    "    annot=True)\n",
    "\n",
    "\n",
    "if save_images:\n",
    "    export.export_image(\n",
    "    '{}/table.pdf'.format(out_folder))"
   ]
  },
  {
   "cell_type": "code",
   "execution_count": null,
   "metadata": {},
   "outputs": [],
   "source": []
  },
  {
   "cell_type": "code",
   "execution_count": null,
   "metadata": {},
   "outputs": [],
   "source": []
  },
  {
   "cell_type": "code",
   "execution_count": null,
   "metadata": {},
   "outputs": [],
   "source": []
  },
  {
   "cell_type": "code",
   "execution_count": null,
   "metadata": {},
   "outputs": [],
   "source": []
  },
  {
   "cell_type": "code",
   "execution_count": 63,
   "metadata": {},
   "outputs": [
    {
     "data": {
      "text/plain": [
       "9.0     17\n",
       "24.0    17\n",
       "18.0    17\n",
       "12.0    17\n",
       "Name: older, dtype: int64"
      ]
     },
     "execution_count": 63,
     "metadata": {},
     "output_type": "execute_result"
    }
   ],
   "source": [
    "d['older'].value_counts()"
   ]
  },
  {
   "cell_type": "code",
   "execution_count": null,
   "metadata": {},
   "outputs": [],
   "source": []
  },
  {
   "cell_type": "code",
   "execution_count": 64,
   "metadata": {},
   "outputs": [
    {
     "data": {
      "text/plain": [
       "SpearmanrResult(correlation=0.34647346195466117, pvalue=0.0037994151640684507)"
      ]
     },
     "execution_count": 64,
     "metadata": {},
     "output_type": "execute_result"
    }
   ],
   "source": [
    "spearmanr(d.loc[:, 'significant'], d.loc[:, 'mean'])"
   ]
  },
  {
   "cell_type": "code",
   "execution_count": null,
   "metadata": {},
   "outputs": [],
   "source": []
  },
  {
   "cell_type": "code",
   "execution_count": null,
   "metadata": {},
   "outputs": [],
   "source": []
  },
  {
   "cell_type": "code",
   "execution_count": 65,
   "metadata": {},
   "outputs": [],
   "source": [
    "if save_images:\n",
    "    export.export_full_frame(\n",
    "        '{}/mean_prediction.xlsx'.format(out_folder),\n",
    "    d.drop('log_significant', 1),\n",
    "    )"
   ]
  },
  {
   "cell_type": "code",
   "execution_count": null,
   "metadata": {},
   "outputs": [],
   "source": []
  },
  {
   "cell_type": "code",
   "execution_count": 66,
   "metadata": {},
   "outputs": [
    {
     "data": {
      "text/html": [
       "<div>\n",
       "<style scoped>\n",
       "    .dataframe tbody tr th:only-of-type {\n",
       "        vertical-align: middle;\n",
       "    }\n",
       "\n",
       "    .dataframe tbody tr th {\n",
       "        vertical-align: top;\n",
       "    }\n",
       "\n",
       "    .dataframe thead th {\n",
       "        text-align: right;\n",
       "    }\n",
       "</style>\n",
       "<table border=\"1\" class=\"dataframe\">\n",
       "  <thead>\n",
       "    <tr style=\"text-align: right;\">\n",
       "      <th></th>\n",
       "      <th>significant</th>\n",
       "      <th>mean</th>\n",
       "      <th>log_significant</th>\n",
       "      <th>younger</th>\n",
       "      <th>older</th>\n",
       "      <th>perf</th>\n",
       "    </tr>\n",
       "    <tr>\n",
       "      <th>condition</th>\n",
       "      <th></th>\n",
       "      <th></th>\n",
       "      <th></th>\n",
       "      <th></th>\n",
       "      <th></th>\n",
       "      <th></th>\n",
       "    </tr>\n",
       "  </thead>\n",
       "  <tbody>\n",
       "    <tr>\n",
       "      <th>Skin_0_4_9</th>\n",
       "      <td>0.0</td>\n",
       "      <td>0.386424</td>\n",
       "      <td>-0.90</td>\n",
       "      <td>4.0</td>\n",
       "      <td>9.0</td>\n",
       "      <td>top</td>\n",
       "    </tr>\n",
       "    <tr>\n",
       "      <th>Brain_0_4_24</th>\n",
       "      <td>0.0</td>\n",
       "      <td>0.258097</td>\n",
       "      <td>-0.65</td>\n",
       "      <td>4.0</td>\n",
       "      <td>24.0</td>\n",
       "      <td>top</td>\n",
       "    </tr>\n",
       "    <tr>\n",
       "      <th>Esophagus_0_4_9</th>\n",
       "      <td>0.0</td>\n",
       "      <td>0.234723</td>\n",
       "      <td>-0.70</td>\n",
       "      <td>4.0</td>\n",
       "      <td>9.0</td>\n",
       "      <td>other</td>\n",
       "    </tr>\n",
       "    <tr>\n",
       "      <th>Liver_0_4_9</th>\n",
       "      <td>0.0</td>\n",
       "      <td>0.217643</td>\n",
       "      <td>-0.60</td>\n",
       "      <td>4.0</td>\n",
       "      <td>9.0</td>\n",
       "      <td>top</td>\n",
       "    </tr>\n",
       "    <tr>\n",
       "      <th>Blood_0_4_18</th>\n",
       "      <td>0.0</td>\n",
       "      <td>0.205581</td>\n",
       "      <td>-0.85</td>\n",
       "      <td>4.0</td>\n",
       "      <td>18.0</td>\n",
       "      <td>top</td>\n",
       "    </tr>\n",
       "    <tr>\n",
       "      <th>Brain_0_4_12</th>\n",
       "      <td>0.0</td>\n",
       "      <td>0.200182</td>\n",
       "      <td>-0.90</td>\n",
       "      <td>4.0</td>\n",
       "      <td>12.0</td>\n",
       "      <td>top</td>\n",
       "    </tr>\n",
       "    <tr>\n",
       "      <th>Brain_0_4_18</th>\n",
       "      <td>0.0</td>\n",
       "      <td>0.174157</td>\n",
       "      <td>-0.65</td>\n",
       "      <td>4.0</td>\n",
       "      <td>18.0</td>\n",
       "      <td>top</td>\n",
       "    </tr>\n",
       "    <tr>\n",
       "      <th>SI_0_4_9</th>\n",
       "      <td>0.0</td>\n",
       "      <td>0.130226</td>\n",
       "      <td>-0.75</td>\n",
       "      <td>4.0</td>\n",
       "      <td>9.0</td>\n",
       "      <td>top</td>\n",
       "    </tr>\n",
       "    <tr>\n",
       "      <th>Brain_0_4_9</th>\n",
       "      <td>0.0</td>\n",
       "      <td>0.088584</td>\n",
       "      <td>-1.00</td>\n",
       "      <td>4.0</td>\n",
       "      <td>9.0</td>\n",
       "      <td>top</td>\n",
       "    </tr>\n",
       "    <tr>\n",
       "      <th>Blood_0_4_12</th>\n",
       "      <td>0.0</td>\n",
       "      <td>0.081267</td>\n",
       "      <td>-0.65</td>\n",
       "      <td>4.0</td>\n",
       "      <td>12.0</td>\n",
       "      <td>top</td>\n",
       "    </tr>\n",
       "    <tr>\n",
       "      <th>Blood_0_4_9</th>\n",
       "      <td>0.0</td>\n",
       "      <td>0.051044</td>\n",
       "      <td>-0.75</td>\n",
       "      <td>4.0</td>\n",
       "      <td>9.0</td>\n",
       "      <td>other</td>\n",
       "    </tr>\n",
       "    <tr>\n",
       "      <th>MuscSat_0_4_9</th>\n",
       "      <td>0.0</td>\n",
       "      <td>0.040818</td>\n",
       "      <td>-1.00</td>\n",
       "      <td>4.0</td>\n",
       "      <td>9.0</td>\n",
       "      <td>top</td>\n",
       "    </tr>\n",
       "  </tbody>\n",
       "</table>\n",
       "</div>"
      ],
      "text/plain": [
       "                 significant      mean  log_significant  younger  older   perf\n",
       "condition                                                                     \n",
       "Skin_0_4_9               0.0  0.386424            -0.90      4.0    9.0    top\n",
       "Brain_0_4_24             0.0  0.258097            -0.65      4.0   24.0    top\n",
       "Esophagus_0_4_9          0.0  0.234723            -0.70      4.0    9.0  other\n",
       "Liver_0_4_9              0.0  0.217643            -0.60      4.0    9.0    top\n",
       "Blood_0_4_18             0.0  0.205581            -0.85      4.0   18.0    top\n",
       "Brain_0_4_12             0.0  0.200182            -0.90      4.0   12.0    top\n",
       "Brain_0_4_18             0.0  0.174157            -0.65      4.0   18.0    top\n",
       "SI_0_4_9                 0.0  0.130226            -0.75      4.0    9.0    top\n",
       "Brain_0_4_9              0.0  0.088584            -1.00      4.0    9.0    top\n",
       "Blood_0_4_12             0.0  0.081267            -0.65      4.0   12.0    top\n",
       "Blood_0_4_9              0.0  0.051044            -0.75      4.0    9.0  other\n",
       "MuscSat_0_4_9            0.0  0.040818            -1.00      4.0    9.0    top"
      ]
     },
     "execution_count": 66,
     "metadata": {},
     "output_type": "execute_result"
    }
   ],
   "source": [
    "d[d['significant']==0].sort_values('mean', ascending=False)"
   ]
  },
  {
   "cell_type": "code",
   "execution_count": 67,
   "metadata": {},
   "outputs": [
    {
     "data": {
      "text/html": [
       "<div>\n",
       "<style scoped>\n",
       "    .dataframe tbody tr th:only-of-type {\n",
       "        vertical-align: middle;\n",
       "    }\n",
       "\n",
       "    .dataframe tbody tr th {\n",
       "        vertical-align: top;\n",
       "    }\n",
       "\n",
       "    .dataframe thead th {\n",
       "        text-align: right;\n",
       "    }\n",
       "</style>\n",
       "<table border=\"1\" class=\"dataframe\">\n",
       "  <thead>\n",
       "    <tr style=\"text-align: right;\">\n",
       "      <th></th>\n",
       "      <th>significant</th>\n",
       "      <th>mean</th>\n",
       "      <th>log_significant</th>\n",
       "      <th>younger</th>\n",
       "      <th>older</th>\n",
       "      <th>perf</th>\n",
       "    </tr>\n",
       "    <tr>\n",
       "      <th>condition</th>\n",
       "      <th></th>\n",
       "      <th></th>\n",
       "      <th></th>\n",
       "      <th></th>\n",
       "      <th></th>\n",
       "      <th></th>\n",
       "    </tr>\n",
       "  </thead>\n",
       "  <tbody>\n",
       "    <tr>\n",
       "      <th>LI_0_4_18</th>\n",
       "      <td>31.0</td>\n",
       "      <td>0.485208</td>\n",
       "      <td>1.491362</td>\n",
       "      <td>4.0</td>\n",
       "      <td>18.0</td>\n",
       "      <td>top</td>\n",
       "    </tr>\n",
       "    <tr>\n",
       "      <th>Kidney_0_4_9</th>\n",
       "      <td>39.0</td>\n",
       "      <td>0.481630</td>\n",
       "      <td>1.591065</td>\n",
       "      <td>4.0</td>\n",
       "      <td>9.0</td>\n",
       "      <td>top</td>\n",
       "    </tr>\n",
       "    <tr>\n",
       "      <th>Kidney_0_4_24</th>\n",
       "      <td>2089.0</td>\n",
       "      <td>0.479567</td>\n",
       "      <td>3.319938</td>\n",
       "      <td>4.0</td>\n",
       "      <td>24.0</td>\n",
       "      <td>top</td>\n",
       "    </tr>\n",
       "    <tr>\n",
       "      <th>LI_0_4_24</th>\n",
       "      <td>93.0</td>\n",
       "      <td>0.415128</td>\n",
       "      <td>1.968483</td>\n",
       "      <td>4.0</td>\n",
       "      <td>24.0</td>\n",
       "      <td>top</td>\n",
       "    </tr>\n",
       "    <tr>\n",
       "      <th>Cerebellum_0_4_9</th>\n",
       "      <td>2.0</td>\n",
       "      <td>0.400731</td>\n",
       "      <td>0.301030</td>\n",
       "      <td>4.0</td>\n",
       "      <td>9.0</td>\n",
       "      <td>top</td>\n",
       "    </tr>\n",
       "    <tr>\n",
       "      <th>...</th>\n",
       "      <td>...</td>\n",
       "      <td>...</td>\n",
       "      <td>...</td>\n",
       "      <td>...</td>\n",
       "      <td>...</td>\n",
       "      <td>...</td>\n",
       "    </tr>\n",
       "    <tr>\n",
       "      <th>Blood_0_4_12</th>\n",
       "      <td>0.0</td>\n",
       "      <td>0.081267</td>\n",
       "      <td>-0.650000</td>\n",
       "      <td>4.0</td>\n",
       "      <td>12.0</td>\n",
       "      <td>top</td>\n",
       "    </tr>\n",
       "    <tr>\n",
       "      <th>GutEP_0_4_9</th>\n",
       "      <td>4.0</td>\n",
       "      <td>0.053254</td>\n",
       "      <td>0.602060</td>\n",
       "      <td>4.0</td>\n",
       "      <td>9.0</td>\n",
       "      <td>other</td>\n",
       "    </tr>\n",
       "    <tr>\n",
       "      <th>MuscSat_0_4_18</th>\n",
       "      <td>3.0</td>\n",
       "      <td>0.052060</td>\n",
       "      <td>0.477121</td>\n",
       "      <td>4.0</td>\n",
       "      <td>18.0</td>\n",
       "      <td>top</td>\n",
       "    </tr>\n",
       "    <tr>\n",
       "      <th>Blood_0_4_9</th>\n",
       "      <td>0.0</td>\n",
       "      <td>0.051044</td>\n",
       "      <td>-0.750000</td>\n",
       "      <td>4.0</td>\n",
       "      <td>9.0</td>\n",
       "      <td>other</td>\n",
       "    </tr>\n",
       "    <tr>\n",
       "      <th>MuscSat_0_4_9</th>\n",
       "      <td>0.0</td>\n",
       "      <td>0.040818</td>\n",
       "      <td>-1.000000</td>\n",
       "      <td>4.0</td>\n",
       "      <td>9.0</td>\n",
       "      <td>top</td>\n",
       "    </tr>\n",
       "  </tbody>\n",
       "</table>\n",
       "<p>68 rows × 6 columns</p>\n",
       "</div>"
      ],
      "text/plain": [
       "                  significant      mean  log_significant  younger  older  \\\n",
       "condition                                                                  \n",
       "LI_0_4_18                31.0  0.485208         1.491362      4.0   18.0   \n",
       "Kidney_0_4_9             39.0  0.481630         1.591065      4.0    9.0   \n",
       "Kidney_0_4_24          2089.0  0.479567         3.319938      4.0   24.0   \n",
       "LI_0_4_24                93.0  0.415128         1.968483      4.0   24.0   \n",
       "Cerebellum_0_4_9          2.0  0.400731         0.301030      4.0    9.0   \n",
       "...                       ...       ...              ...      ...    ...   \n",
       "Blood_0_4_12              0.0  0.081267        -0.650000      4.0   12.0   \n",
       "GutEP_0_4_9               4.0  0.053254         0.602060      4.0    9.0   \n",
       "MuscSat_0_4_18            3.0  0.052060         0.477121      4.0   18.0   \n",
       "Blood_0_4_9               0.0  0.051044        -0.750000      4.0    9.0   \n",
       "MuscSat_0_4_9             0.0  0.040818        -1.000000      4.0    9.0   \n",
       "\n",
       "                   perf  \n",
       "condition                \n",
       "LI_0_4_18           top  \n",
       "Kidney_0_4_9        top  \n",
       "Kidney_0_4_24       top  \n",
       "LI_0_4_24           top  \n",
       "Cerebellum_0_4_9    top  \n",
       "...                 ...  \n",
       "Blood_0_4_12        top  \n",
       "GutEP_0_4_9       other  \n",
       "MuscSat_0_4_18      top  \n",
       "Blood_0_4_9       other  \n",
       "MuscSat_0_4_9       top  \n",
       "\n",
       "[68 rows x 6 columns]"
      ]
     },
     "execution_count": 67,
     "metadata": {},
     "output_type": "execute_result"
    }
   ],
   "source": [
    "d.sort_values('mean', ascending=False)"
   ]
  },
  {
   "cell_type": "code",
   "execution_count": 68,
   "metadata": {},
   "outputs": [],
   "source": [
    "def z(x):\n",
    "    return (x - np.mean(x)) / np.std(x)"
   ]
  },
  {
   "cell_type": "code",
   "execution_count": 69,
   "metadata": {},
   "outputs": [],
   "source": [
    "piz = pi.apply(lambda x: z(x), 1)"
   ]
  },
  {
   "cell_type": "code",
   "execution_count": 70,
   "metadata": {},
   "outputs": [],
   "source": [
    "piz = piz.loc[:, piz.isnull().sum() == 0]"
   ]
  },
  {
   "cell_type": "code",
   "execution_count": 71,
   "metadata": {},
   "outputs": [],
   "source": [
    "collected_importance = pi.mean().to_frame('mean importance')"
   ]
  },
  {
   "cell_type": "code",
   "execution_count": 72,
   "metadata": {},
   "outputs": [],
   "source": [
    "collected_importance = collected_importance.sort_values(\n",
    "    'mean importance', \n",
    "    ascending=False)"
   ]
  },
  {
   "cell_type": "code",
   "execution_count": 73,
   "metadata": {},
   "outputs": [],
   "source": [
    "collected_importance.loc[:, 'cumulative'] = collected_importance['mean importance'].cumsum()"
   ]
  },
  {
   "cell_type": "code",
   "execution_count": 74,
   "metadata": {},
   "outputs": [],
   "source": [
    "if save_images:\n",
    "    export.export_full_frame(\n",
    "        '{}/collected_importance.xlsx'.format(out_folder),\n",
    "    collected_importance)"
   ]
  },
  {
   "cell_type": "code",
   "execution_count": 75,
   "metadata": {},
   "outputs": [
    {
     "data": {
      "text/html": [
       "<div>\n",
       "<style scoped>\n",
       "    .dataframe tbody tr th:only-of-type {\n",
       "        vertical-align: middle;\n",
       "    }\n",
       "\n",
       "    .dataframe tbody tr th {\n",
       "        vertical-align: top;\n",
       "    }\n",
       "\n",
       "    .dataframe thead th {\n",
       "        text-align: right;\n",
       "    }\n",
       "</style>\n",
       "<table border=\"1\" class=\"dataframe\">\n",
       "  <thead>\n",
       "    <tr style=\"text-align: right;\">\n",
       "      <th></th>\n",
       "      <th>mean importance</th>\n",
       "      <th>cumulative</th>\n",
       "    </tr>\n",
       "    <tr>\n",
       "      <th>feature</th>\n",
       "      <th></th>\n",
       "      <th></th>\n",
       "    </tr>\n",
       "  </thead>\n",
       "  <tbody>\n",
       "    <tr>\n",
       "      <th>rna_full_SumACGT</th>\n",
       "      <td>0.109509</td>\n",
       "      <td>0.109509</td>\n",
       "    </tr>\n",
       "    <tr>\n",
       "      <th>tf_different_tfs</th>\n",
       "      <td>0.068844</td>\n",
       "      <td>0.178353</td>\n",
       "    </tr>\n",
       "    <tr>\n",
       "      <th>rna_cds_SumACGT</th>\n",
       "      <td>0.055333</td>\n",
       "      <td>0.233686</td>\n",
       "    </tr>\n",
       "    <tr>\n",
       "      <th>gene_SumACGT</th>\n",
       "      <td>0.048592</td>\n",
       "      <td>0.282278</td>\n",
       "    </tr>\n",
       "    <tr>\n",
       "      <th>rna_full_CG</th>\n",
       "      <td>0.040121</td>\n",
       "      <td>0.322399</td>\n",
       "    </tr>\n",
       "    <tr>\n",
       "      <th>...</th>\n",
       "      <td>...</td>\n",
       "      <td>...</td>\n",
       "    </tr>\n",
       "    <tr>\n",
       "      <th>miRNA_miR-375-5p</th>\n",
       "      <td>0.000000</td>\n",
       "      <td>1.000000</td>\n",
       "    </tr>\n",
       "    <tr>\n",
       "      <th>tf_Ddit3</th>\n",
       "      <td>0.000000</td>\n",
       "      <td>1.000000</td>\n",
       "    </tr>\n",
       "    <tr>\n",
       "      <th>miRNA_miR-1247-5p</th>\n",
       "      <td>0.000000</td>\n",
       "      <td>1.000000</td>\n",
       "    </tr>\n",
       "    <tr>\n",
       "      <th>miRNA_miR-551b-3p</th>\n",
       "      <td>0.000000</td>\n",
       "      <td>1.000000</td>\n",
       "    </tr>\n",
       "    <tr>\n",
       "      <th>miRNA_miR-466h-3p</th>\n",
       "      <td>0.000000</td>\n",
       "      <td>1.000000</td>\n",
       "    </tr>\n",
       "  </tbody>\n",
       "</table>\n",
       "<p>2236 rows × 2 columns</p>\n",
       "</div>"
      ],
      "text/plain": [
       "                   mean importance  cumulative\n",
       "feature                                       \n",
       "rna_full_SumACGT          0.109509    0.109509\n",
       "tf_different_tfs          0.068844    0.178353\n",
       "rna_cds_SumACGT           0.055333    0.233686\n",
       "gene_SumACGT              0.048592    0.282278\n",
       "rna_full_CG               0.040121    0.322399\n",
       "...                            ...         ...\n",
       "miRNA_miR-375-5p          0.000000    1.000000\n",
       "tf_Ddit3                  0.000000    1.000000\n",
       "miRNA_miR-1247-5p         0.000000    1.000000\n",
       "miRNA_miR-551b-3p         0.000000    1.000000\n",
       "miRNA_miR-466h-3p         0.000000    1.000000\n",
       "\n",
       "[2236 rows x 2 columns]"
      ]
     },
     "execution_count": 75,
     "metadata": {},
     "output_type": "execute_result"
    }
   ],
   "source": [
    "collected_importance"
   ]
  },
  {
   "cell_type": "code",
   "execution_count": 76,
   "metadata": {},
   "outputs": [
    {
     "data": {
      "text/plain": [
       "feature\n",
       "rna_full_SumACGT     0.109509\n",
       "tf_different_tfs     0.178353\n",
       "rna_cds_SumACGT      0.233686\n",
       "gene_SumACGT         0.282278\n",
       "rna_full_CG          0.322399\n",
       "                       ...   \n",
       "tf_Hes5              1.000000\n",
       "tf_Eomes             1.000000\n",
       "tf_Hsf2              1.000000\n",
       "miRNA_miR-7236-3p    1.000000\n",
       "miRNA_miR-101b-5p    1.000000\n",
       "Length: 2236, dtype: float64"
      ]
     },
     "execution_count": 76,
     "metadata": {},
     "output_type": "execute_result"
    }
   ],
   "source": [
    "pi.mean().sort_values(ascending=False).cumsum()"
   ]
  },
  {
   "cell_type": "code",
   "execution_count": 77,
   "metadata": {},
   "outputs": [],
   "source": [
    "x = pi.transpose().rank(ascending=False)"
   ]
  },
  {
   "cell_type": "code",
   "execution_count": null,
   "metadata": {},
   "outputs": [],
   "source": []
  },
  {
   "cell_type": "code",
   "execution_count": null,
   "metadata": {},
   "outputs": [],
   "source": []
  },
  {
   "cell_type": "code",
   "execution_count": 78,
   "metadata": {},
   "outputs": [],
   "source": [
    "if save_images:\n",
    "    export.export_full_frame(\n",
    "        '{}/ranks.xlsx'.format(out_folder),\n",
    "    x)"
   ]
  },
  {
   "cell_type": "code",
   "execution_count": 79,
   "metadata": {},
   "outputs": [
    {
     "data": {
      "text/plain": [
       "feature\n",
       "tf_different_tfs       3.0\n",
       "rna_full_SumACGT       3.0\n",
       "gene_SumACGT           4.0\n",
       "rna_cds_SumACGT        5.0\n",
       "rna_full_CG            6.0\n",
       "                     ...  \n",
       "miRNA_miR-132-5p    1365.5\n",
       "tf_Sox6             1365.5\n",
       "miRNA_miR-99b-5p    1365.5\n",
       "tf_Nkx3-2           1365.5\n",
       "tf_Eomes            1365.5\n",
       "Length: 2236, dtype: float64"
      ]
     },
     "execution_count": 79,
     "metadata": {},
     "output_type": "execute_result"
    }
   ],
   "source": [
    "x.median(1).sort_values()"
   ]
  },
  {
   "cell_type": "code",
   "execution_count": 80,
   "metadata": {},
   "outputs": [],
   "source": [
    "x.columns = [y.replace('_0_', '_') for y in x.columns]"
   ]
  },
  {
   "cell_type": "code",
   "execution_count": null,
   "metadata": {},
   "outputs": [],
   "source": []
  },
  {
   "cell_type": "code",
   "execution_count": null,
   "metadata": {},
   "outputs": [],
   "source": []
  },
  {
   "cell_type": "code",
   "execution_count": 81,
   "metadata": {},
   "outputs": [
    {
     "data": {
      "text/plain": [
       "<Figure size 1440x1440 with 0 Axes>"
      ]
     },
     "metadata": {},
     "output_type": "display_data"
    },
    {
     "data": {
      "image/png": "[encoded data removed]",
      "text/plain": [
       "<Figure size 1440x1440 with 4 Axes>"
      ]
     },
     "metadata": {
      "needs_background": "light"
     },
     "output_type": "display_data"
    }
   ],
   "source": [
    "plt.figure(figsize=(20, 20))\n",
    "\n",
    "sns.clustermap(\n",
    "    x.loc[x.median(1).sort_values().index[:30], :], \n",
    "    vmin=1, \n",
    "    vmax=30, \n",
    "    cmap='autumn_r', \n",
    "    method='ward',\n",
    "    figsize=(20, 20)\n",
    ")\n",
    "\n",
    "\n",
    "if save_images:\n",
    "    export.export_image(\n",
    "        '{}/autumn_to_30.pdf'.format(out_folder))"
   ]
  },
  {
   "cell_type": "code",
   "execution_count": null,
   "metadata": {},
   "outputs": [],
   "source": []
  },
  {
   "cell_type": "code",
   "execution_count": null,
   "metadata": {},
   "outputs": [],
   "source": []
  },
  {
   "cell_type": "code",
   "execution_count": null,
   "metadata": {},
   "outputs": [],
   "source": []
  },
  {
   "cell_type": "code",
   "execution_count": null,
   "metadata": {},
   "outputs": [],
   "source": []
  },
  {
   "cell_type": "code",
   "execution_count": null,
   "metadata": {},
   "outputs": [],
   "source": []
  },
  {
   "cell_type": "code",
   "execution_count": null,
   "metadata": {},
   "outputs": [],
   "source": []
  },
  {
   "cell_type": "code",
   "execution_count": null,
   "metadata": {},
   "outputs": [],
   "source": []
  }
 ],
 "metadata": {
  "kernelspec": {
   "display_name": "Python 3",
   "language": "python",
   "name": "python3"
  },
  "language_info": {
   "codemirror_mode": {
    "name": "ipython",
    "version": 3
   },
   "file_extension": ".py",
   "mimetype": "text/x-python",
   "name": "python",
   "nbconvert_exporter": "python",
   "pygments_lexer": "ipython3",
   "version": "3.7.3"
  },
  "toc": {
   "base_numbering": 1,
   "nav_menu": {},
   "number_sections": true,
   "sideBar": true,
   "skip_h1_title": false,
   "title_cell": "Table of Contents",
   "title_sidebar": "Contents",
   "toc_cell": false,
   "toc_position": {},
   "toc_section_display": true,
   "toc_window_display": false
  }
 },
 "nbformat": 4,
 "nbformat_minor": 2
}
