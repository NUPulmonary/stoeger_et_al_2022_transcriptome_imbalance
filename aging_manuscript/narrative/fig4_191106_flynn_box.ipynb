{
 "cells": [
  {
   "cell_type": "code",
   "execution_count": 1,
   "metadata": {},
   "outputs": [],
   "source": [
    "%matplotlib inline\n",
    "%reload_ext autoreload\n",
    "%autoreload 2"
   ]
  },
  {
   "cell_type": "code",
   "execution_count": 2,
   "metadata": {},
   "outputs": [],
   "source": [
    "import matplotlib as mpl\n",
    "mpl.rcParams['pdf.fonttype'] = 42\n",
    "mpl.rcParams['font.family'] = 'Arial'"
   ]
  },
  {
   "cell_type": "code",
   "execution_count": 3,
   "metadata": {},
   "outputs": [],
   "source": [
    "import math\n",
    "import os\n",
    "import sys\n",
    "\n",
    "src_dir = './../../src/'\n",
    "sys.path[0] = src_dir\n",
    "\n",
    "import matplotlib.pyplot as plt\n",
    "\n",
    "import numpy as np\n",
    "import pandas as pd\n",
    "import seaborn as sns\n"
   ]
  },
  {
   "cell_type": "code",
   "execution_count": 4,
   "metadata": {},
   "outputs": [],
   "source": [
    "sys.path.append('./../src/')\n",
    "from aging_tools import calculators, inout, export"
   ]
  },
  {
   "cell_type": "code",
   "execution_count": 5,
   "metadata": {},
   "outputs": [],
   "source": [
    "out_path = '191106_flynn_box'"
   ]
  },
  {
   "cell_type": "code",
   "execution_count": null,
   "metadata": {},
   "outputs": [],
   "source": []
  },
  {
   "cell_type": "code",
   "execution_count": 6,
   "metadata": {},
   "outputs": [],
   "source": [
    "from access_science_shared import mapper"
   ]
  },
  {
   "cell_type": "code",
   "execution_count": 7,
   "metadata": {},
   "outputs": [],
   "source": [
    "from access_biology_data import meta, relations, properties\n",
    "\n"
   ]
  },
  {
   "cell_type": "code",
   "execution_count": 8,
   "metadata": {},
   "outputs": [],
   "source": [
    "save_images = False"
   ]
  },
  {
   "cell_type": "code",
   "execution_count": 9,
   "metadata": {},
   "outputs": [],
   "source": [
    "from scipy.stats import spearmanr"
   ]
  },
  {
   "cell_type": "code",
   "execution_count": 10,
   "metadata": {},
   "outputs": [],
   "source": [
    "p = inout.get_internal_path(\n",
    "    'datasets/general/complementary/191021_flynn_slack_by_rgrant/' +\n",
    "    '191019_Flynn_AgingCell_2013_age_2_rapamycin_vs_1_control_dge.csv')"
   ]
  },
  {
   "cell_type": "code",
   "execution_count": 11,
   "metadata": {},
   "outputs": [],
   "source": [
    "df = pd.read_csv(p)"
   ]
  },
  {
   "cell_type": "code",
   "execution_count": 12,
   "metadata": {},
   "outputs": [],
   "source": [
    "df = df[df['padj']<0.05]"
   ]
  },
  {
   "cell_type": "code",
   "execution_count": 13,
   "metadata": {},
   "outputs": [
    {
     "data": {
      "text/html": [
       "<div>\n",
       "<style scoped>\n",
       "    .dataframe tbody tr th:only-of-type {\n",
       "        vertical-align: middle;\n",
       "    }\n",
       "\n",
       "    .dataframe tbody tr th {\n",
       "        vertical-align: top;\n",
       "    }\n",
       "\n",
       "    .dataframe thead th {\n",
       "        text-align: right;\n",
       "    }\n",
       "</style>\n",
       "<table border=\"1\" class=\"dataframe\">\n",
       "  <thead>\n",
       "    <tr style=\"text-align: right;\">\n",
       "      <th></th>\n",
       "      <th>Unnamed: 0</th>\n",
       "      <th>mgi_symbol</th>\n",
       "      <th>baseMean</th>\n",
       "      <th>log2FoldChange</th>\n",
       "      <th>lfcSE</th>\n",
       "      <th>stat</th>\n",
       "      <th>pvalue</th>\n",
       "      <th>padj</th>\n",
       "      <th>ensembl_gene_id</th>\n",
       "      <th>entrezgene_id</th>\n",
       "    </tr>\n",
       "  </thead>\n",
       "  <tbody>\n",
       "    <tr>\n",
       "      <th>52</th>\n",
       "      <td>53</td>\n",
       "      <td>1190002F15Rik</td>\n",
       "      <td>9.098542</td>\n",
       "      <td>-1.232999</td>\n",
       "      <td>0.366116</td>\n",
       "      <td>-3.367786</td>\n",
       "      <td>0.000758</td>\n",
       "      <td>0.017855</td>\n",
       "      <td>NaN</td>\n",
       "      <td>NaN</td>\n",
       "    </tr>\n",
       "    <tr>\n",
       "      <th>96</th>\n",
       "      <td>97</td>\n",
       "      <td>1700001J03Rik</td>\n",
       "      <td>6.571017</td>\n",
       "      <td>1.068576</td>\n",
       "      <td>0.362782</td>\n",
       "      <td>2.945503</td>\n",
       "      <td>0.003224</td>\n",
       "      <td>0.043095</td>\n",
       "      <td>ENSMUSG00000095040</td>\n",
       "      <td>69282.0</td>\n",
       "    </tr>\n",
       "    <tr>\n",
       "      <th>246</th>\n",
       "      <td>247</td>\n",
       "      <td>1700026L06Rik</td>\n",
       "      <td>10.690927</td>\n",
       "      <td>-3.913135</td>\n",
       "      <td>0.953175</td>\n",
       "      <td>-4.105369</td>\n",
       "      <td>0.000040</td>\n",
       "      <td>0.002571</td>\n",
       "      <td>NaN</td>\n",
       "      <td>NaN</td>\n",
       "    </tr>\n",
       "    <tr>\n",
       "      <th>301</th>\n",
       "      <td>302</td>\n",
       "      <td>1700040L02Rik</td>\n",
       "      <td>329.780243</td>\n",
       "      <td>0.369403</td>\n",
       "      <td>0.122498</td>\n",
       "      <td>3.015594</td>\n",
       "      <td>0.002565</td>\n",
       "      <td>0.037575</td>\n",
       "      <td>NaN</td>\n",
       "      <td>NaN</td>\n",
       "    </tr>\n",
       "    <tr>\n",
       "      <th>471</th>\n",
       "      <td>472</td>\n",
       "      <td>1810011O10Rik</td>\n",
       "      <td>2035.419561</td>\n",
       "      <td>0.313869</td>\n",
       "      <td>0.086471</td>\n",
       "      <td>3.629737</td>\n",
       "      <td>0.000284</td>\n",
       "      <td>0.009252</td>\n",
       "      <td>NaN</td>\n",
       "      <td>NaN</td>\n",
       "    </tr>\n",
       "    <tr>\n",
       "      <th>...</th>\n",
       "      <td>...</td>\n",
       "      <td>...</td>\n",
       "      <td>...</td>\n",
       "      <td>...</td>\n",
       "      <td>...</td>\n",
       "      <td>...</td>\n",
       "      <td>...</td>\n",
       "      <td>...</td>\n",
       "      <td>...</td>\n",
       "      <td>...</td>\n",
       "    </tr>\n",
       "    <tr>\n",
       "      <th>24677</th>\n",
       "      <td>24678</td>\n",
       "      <td>Zfp593</td>\n",
       "      <td>62.715383</td>\n",
       "      <td>-0.422639</td>\n",
       "      <td>0.132701</td>\n",
       "      <td>-3.184885</td>\n",
       "      <td>0.001448</td>\n",
       "      <td>0.026954</td>\n",
       "      <td>ENSMUSG00000028840</td>\n",
       "      <td>68040.0</td>\n",
       "    </tr>\n",
       "    <tr>\n",
       "      <th>24678</th>\n",
       "      <td>24679</td>\n",
       "      <td>Zfp595</td>\n",
       "      <td>130.814244</td>\n",
       "      <td>-0.399028</td>\n",
       "      <td>0.136454</td>\n",
       "      <td>-2.924257</td>\n",
       "      <td>0.003453</td>\n",
       "      <td>0.044981</td>\n",
       "      <td>ENSMUSG00000057842</td>\n",
       "      <td>218314.0</td>\n",
       "    </tr>\n",
       "    <tr>\n",
       "      <th>24691</th>\n",
       "      <td>24692</td>\n",
       "      <td>Zfp612</td>\n",
       "      <td>720.857606</td>\n",
       "      <td>0.384503</td>\n",
       "      <td>0.129606</td>\n",
       "      <td>2.966706</td>\n",
       "      <td>0.003010</td>\n",
       "      <td>0.041177</td>\n",
       "      <td>ENSMUSG00000044676</td>\n",
       "      <td>234725.0</td>\n",
       "    </tr>\n",
       "    <tr>\n",
       "      <th>24775</th>\n",
       "      <td>24776</td>\n",
       "      <td>Zfp787</td>\n",
       "      <td>465.668333</td>\n",
       "      <td>0.246180</td>\n",
       "      <td>0.066972</td>\n",
       "      <td>3.675866</td>\n",
       "      <td>0.000237</td>\n",
       "      <td>0.008348</td>\n",
       "      <td>ENSMUSG00000046792</td>\n",
       "      <td>67109.0</td>\n",
       "    </tr>\n",
       "    <tr>\n",
       "      <th>24795</th>\n",
       "      <td>24796</td>\n",
       "      <td>Zfp831</td>\n",
       "      <td>27.653501</td>\n",
       "      <td>-2.076809</td>\n",
       "      <td>0.450381</td>\n",
       "      <td>-4.611228</td>\n",
       "      <td>0.000004</td>\n",
       "      <td>0.000578</td>\n",
       "      <td>ENSMUSG00000050600</td>\n",
       "      <td>100043757.0</td>\n",
       "    </tr>\n",
       "  </tbody>\n",
       "</table>\n",
       "<p>1366 rows × 10 columns</p>\n",
       "</div>"
      ],
      "text/plain": [
       "       Unnamed: 0     mgi_symbol     baseMean  log2FoldChange     lfcSE  \\\n",
       "52             53  1190002F15Rik     9.098542       -1.232999  0.366116   \n",
       "96             97  1700001J03Rik     6.571017        1.068576  0.362782   \n",
       "246           247  1700026L06Rik    10.690927       -3.913135  0.953175   \n",
       "301           302  1700040L02Rik   329.780243        0.369403  0.122498   \n",
       "471           472  1810011O10Rik  2035.419561        0.313869  0.086471   \n",
       "...           ...            ...          ...             ...       ...   \n",
       "24677       24678         Zfp593    62.715383       -0.422639  0.132701   \n",
       "24678       24679         Zfp595   130.814244       -0.399028  0.136454   \n",
       "24691       24692         Zfp612   720.857606        0.384503  0.129606   \n",
       "24775       24776         Zfp787   465.668333        0.246180  0.066972   \n",
       "24795       24796         Zfp831    27.653501       -2.076809  0.450381   \n",
       "\n",
       "           stat    pvalue      padj     ensembl_gene_id  entrezgene_id  \n",
       "52    -3.367786  0.000758  0.017855                 NaN            NaN  \n",
       "96     2.945503  0.003224  0.043095  ENSMUSG00000095040        69282.0  \n",
       "246   -4.105369  0.000040  0.002571                 NaN            NaN  \n",
       "301    3.015594  0.002565  0.037575                 NaN            NaN  \n",
       "471    3.629737  0.000284  0.009252                 NaN            NaN  \n",
       "...         ...       ...       ...                 ...            ...  \n",
       "24677 -3.184885  0.001448  0.026954  ENSMUSG00000028840        68040.0  \n",
       "24678 -2.924257  0.003453  0.044981  ENSMUSG00000057842       218314.0  \n",
       "24691  2.966706  0.003010  0.041177  ENSMUSG00000044676       234725.0  \n",
       "24775  3.675866  0.000237  0.008348  ENSMUSG00000046792        67109.0  \n",
       "24795 -4.611228  0.000004  0.000578  ENSMUSG00000050600    100043757.0  \n",
       "\n",
       "[1366 rows x 10 columns]"
      ]
     },
     "execution_count": 13,
     "metadata": {},
     "output_type": "execute_result"
    }
   ],
   "source": [
    "df"
   ]
  },
  {
   "cell_type": "code",
   "execution_count": 14,
   "metadata": {},
   "outputs": [],
   "source": [
    "df = df.rename(columns={\n",
    "    'entrezgene_id': 'gene_ncbi',\n",
    "    'log2FoldChange': 'log2FoldChange'\n",
    "})"
   ]
  },
  {
   "cell_type": "code",
   "execution_count": 15,
   "metadata": {},
   "outputs": [],
   "source": [
    "df = df[['gene_ncbi', 'log2FoldChange']].dropna()"
   ]
  },
  {
   "cell_type": "code",
   "execution_count": 16,
   "metadata": {},
   "outputs": [],
   "source": [
    "df = df.groupby('gene_ncbi').agg(np.median).reset_index()"
   ]
  },
  {
   "cell_type": "code",
   "execution_count": null,
   "metadata": {},
   "outputs": [],
   "source": []
  },
  {
   "cell_type": "code",
   "execution_count": 17,
   "metadata": {},
   "outputs": [],
   "source": [
    "# df = mapper.symbol_2_gene_ncbi(df, 9606, how='median').reset_index()"
   ]
  },
  {
   "cell_type": "code",
   "execution_count": 18,
   "metadata": {},
   "outputs": [],
   "source": [
    "from access_biology_data import meta, relations, properties\n",
    "\n"
   ]
  },
  {
   "cell_type": "code",
   "execution_count": 19,
   "metadata": {},
   "outputs": [],
   "source": [
    "pr = properties.genbank_validated_rna(10090)[\n",
    "    ['gene_ncbi', 'Genbank_validated_RNA: full_SumACGT']].rename(columns={\n",
    "    'Genbank_validated_RNA: full_SumACGT': 'length'\n",
    "})\n",
    "\n",
    "pr.loc[:, 'log_length'] = np.log10(pr['length'])"
   ]
  },
  {
   "cell_type": "code",
   "execution_count": 20,
   "metadata": {},
   "outputs": [],
   "source": [
    "from access_science_shared import standardizer"
   ]
  },
  {
   "cell_type": "code",
   "execution_count": 21,
   "metadata": {},
   "outputs": [
    {
     "name": "stderr",
     "output_type": "stream",
     "text": [
      "/Users/tstoeger/opt/miniconda3/envs/aging/lib/python3.7/site-packages/fastparquet/dataframe.py:5: FutureWarning: pandas.core.index is deprecated and will be removed in a future version.  The public classes are available in the top-level namespace.\n",
      "  from pandas.core.index import CategoricalIndex, RangeIndex, Index, MultiIndex\n"
     ]
    }
   ],
   "source": [
    "ref_genes=standardizer.reference_genes(10090, 'orp')"
   ]
  },
  {
   "cell_type": "code",
   "execution_count": 22,
   "metadata": {},
   "outputs": [],
   "source": [
    "m = pd.merge(df, pr)\n",
    "m = m[m['gene_ncbi'].isin(ref_genes)]"
   ]
  },
  {
   "cell_type": "code",
   "execution_count": 23,
   "metadata": {},
   "outputs": [
    {
     "data": {
      "text/plain": [
       "662"
      ]
     },
     "execution_count": 23,
     "metadata": {},
     "output_type": "execute_result"
    }
   ],
   "source": [
    "(m['log2FoldChange']<0).sum()"
   ]
  },
  {
   "cell_type": "code",
   "execution_count": 24,
   "metadata": {},
   "outputs": [
    {
     "data": {
      "text/plain": [
       "291"
      ]
     },
     "execution_count": 24,
     "metadata": {},
     "output_type": "execute_result"
    }
   ],
   "source": [
    "(m['log2FoldChange']>0).sum()"
   ]
  },
  {
   "cell_type": "code",
   "execution_count": 25,
   "metadata": {},
   "outputs": [
    {
     "data": {
      "image/png": "[encoded data removed]",
      "text/plain": [
       "<Figure size 432x288 with 1 Axes>"
      ]
     },
     "metadata": {
      "needs_background": "light"
     },
     "output_type": "display_data"
    }
   ],
   "source": [
    "\n",
    "plt.figure()\n",
    "plt.plot(m['log_length'], m['log2FoldChange'], '.')\n",
    "\n",
    "r, p = spearmanr(m['log_length'], m['log2FoldChange'])\n",
    "plt.title('spearman {} _ pvalue {}'.format(r, p))\n",
    "plt.xlabel('log10 transcript length')\n",
    "plt.ylabel('rapamycin vs. control')\n",
    "\n",
    "\n",
    "if save_images:\n",
    "    export.export_image('{}/scatter.pdf'.format(out_path))"
   ]
  },
  {
   "cell_type": "code",
   "execution_count": 26,
   "metadata": {},
   "outputs": [
    {
     "data": {
      "image/png": "[encoded data removed]",
      "text/plain": [
       "<Figure size 432x288 with 1 Axes>"
      ]
     },
     "metadata": {
      "needs_background": "light"
     },
     "output_type": "display_data"
    }
   ],
   "source": [
    "sns.regplot(\n",
    "    x='log_length',\n",
    "    y='log2FoldChange',\n",
    "    data=m,\n",
    "    scatter_kws={'s': 0.2},\n",
    "    line_kws={'color': 'black'},\n",
    "    lowess=True\n",
    ")\n",
    "\n",
    "\n",
    "\n",
    "plt.xlabel('log10 transcript length')\n",
    "plt.ylabel('Rapamycin vs Control', fontsize=15)\n",
    "\n",
    "plt.title('{}_{}'.format(r, p))\n",
    "\n",
    "if save_images:\n",
    "    export.export_image('{}/small_dots_and_regression.pdf'.format(out_path))"
   ]
  },
  {
   "cell_type": "code",
   "execution_count": 27,
   "metadata": {},
   "outputs": [],
   "source": [
    "m.loc[:, 'is_induced'] = m['log2FoldChange'] > 0"
   ]
  },
  {
   "cell_type": "code",
   "execution_count": 28,
   "metadata": {},
   "outputs": [
    {
     "data": {
      "image/png": "[encoded data removed]",
      "text/plain": [
       "<Figure size 432x288 with 1 Axes>"
      ]
     },
     "metadata": {
      "needs_background": "light"
     },
     "output_type": "display_data"
    }
   ],
   "source": [
    "sns.boxplot(x='is_induced', y='log_length', data=m, notch=True)\n",
    "\n",
    "\n",
    "if save_images:\n",
    "    export.export_image('{}/boxplots.pdf'.format(out_path))"
   ]
  },
  {
   "cell_type": "code",
   "execution_count": 29,
   "metadata": {},
   "outputs": [],
   "source": [
    "from scipy.stats import mannwhitneyu"
   ]
  },
  {
   "cell_type": "code",
   "execution_count": 30,
   "metadata": {},
   "outputs": [
    {
     "data": {
      "text/plain": [
       "MannwhitneyuResult(statistic=79623.0, pvalue=1.9838239808037084e-05)"
      ]
     },
     "execution_count": 30,
     "metadata": {},
     "output_type": "execute_result"
    }
   ],
   "source": [
    "mannwhitneyu(\n",
    "    m[m['is_induced']==False]['log_length'],\n",
    "    m[m['is_induced']==True]['log_length'],\n",
    "    alternative='two-sided'\n",
    ")"
   ]
  },
  {
   "cell_type": "code",
   "execution_count": 31,
   "metadata": {},
   "outputs": [
    {
     "data": {
      "text/plain": [
       "False    662\n",
       "True     291\n",
       "Name: is_induced, dtype: int64"
      ]
     },
     "execution_count": 31,
     "metadata": {},
     "output_type": "execute_result"
    }
   ],
   "source": [
    "m['is_induced'].value_counts()"
   ]
  },
  {
   "cell_type": "code",
   "execution_count": null,
   "metadata": {},
   "outputs": [],
   "source": []
  }
 ],
 "metadata": {
  "kernelspec": {
   "display_name": "Python 3",
   "language": "python",
   "name": "python3"
  },
  "language_info": {
   "codemirror_mode": {
    "name": "ipython",
    "version": 3
   },
   "file_extension": ".py",
   "mimetype": "text/x-python",
   "name": "python",
   "nbconvert_exporter": "python",
   "pygments_lexer": "ipython3",
   "version": "3.7.3"
  }
 },
 "nbformat": 4,
 "nbformat_minor": 2
}
