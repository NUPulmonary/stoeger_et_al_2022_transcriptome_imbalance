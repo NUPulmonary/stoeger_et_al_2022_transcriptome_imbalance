{
 "cells": [
  {
   "cell_type": "code",
   "execution_count": 1,
   "metadata": {},
   "outputs": [],
   "source": [
    "%matplotlib inline\n",
    "%reload_ext autoreload\n",
    "%autoreload 2"
   ]
  },
  {
   "cell_type": "code",
   "execution_count": 2,
   "metadata": {},
   "outputs": [],
   "source": [
    "import matplotlib as mpl\n",
    "mpl.rcParams['pdf.fonttype'] = 42\n",
    "mpl.rcParams['font.family'] = 'Arial'"
   ]
  },
  {
   "cell_type": "code",
   "execution_count": 3,
   "metadata": {},
   "outputs": [],
   "source": [
    "import os\n",
    "import sys\n",
    "\n",
    "src_dir = './../../src/'\n",
    "sys.path[0] = src_dir\n",
    "\n",
    "import matplotlib.pyplot as plt\n",
    "\n",
    "import glob\n",
    "\n",
    "import numpy as np\n",
    "import pandas as pd\n",
    "import seaborn as sns\n",
    "\n",
    "from collections import OrderedDict\n",
    "\n",
    "from access_biology_data import meta, relations, properties\n",
    "from access_literature_data import medline\n",
    "from access_science_shared import standardizer "
   ]
  },
  {
   "cell_type": "code",
   "execution_count": 4,
   "metadata": {},
   "outputs": [],
   "source": [
    "sys.path.append('./../src/')\n",
    "from aging_tools import inout, export\n",
    "from access_aging_data import earlier_studies, chaperome, companions, sequencing"
   ]
  },
  {
   "cell_type": "code",
   "execution_count": 5,
   "metadata": {},
   "outputs": [],
   "source": [
    "from narrative import nar181026_heat_confidence_genes\n",
    "\n",
    "from narrative import nar181205_networks"
   ]
  },
  {
   "cell_type": "code",
   "execution_count": 6,
   "metadata": {},
   "outputs": [],
   "source": [
    "from scipy.stats import spearmanr"
   ]
  },
  {
   "cell_type": "code",
   "execution_count": 7,
   "metadata": {},
   "outputs": [],
   "source": [
    "from access_aging_data import standardizer as aging_standardizer"
   ]
  },
  {
   "cell_type": "code",
   "execution_count": 8,
   "metadata": {},
   "outputs": [],
   "source": [
    "outfolder = '200820_vs_non_inflammation'"
   ]
  },
  {
   "cell_type": "code",
   "execution_count": 9,
   "metadata": {},
   "outputs": [],
   "source": [
    "save_images = True"
   ]
  },
  {
   "cell_type": "code",
   "execution_count": 10,
   "metadata": {},
   "outputs": [],
   "source": [
    "ref_genes = standardizer.reference_genes(10090, 'orp')"
   ]
  },
  {
   "cell_type": "code",
   "execution_count": 11,
   "metadata": {},
   "outputs": [],
   "source": [
    "ref_genes_no_trivial = aging_standardizer.filter_reference_genes(\n",
    "    ref_genes,\n",
    "    10090,\n",
    "    'inflammation_et_al'\n",
    ")\n",
    "\n",
    "ref_genes_no_trivial = aging_standardizer.filter_reference_genes(\n",
    "    ref_genes_no_trivial,\n",
    "    10090,\n",
    "    'neurons_et_al'\n",
    ")"
   ]
  },
  {
   "cell_type": "code",
   "execution_count": null,
   "metadata": {},
   "outputs": [],
   "source": []
  },
  {
   "cell_type": "code",
   "execution_count": 12,
   "metadata": {},
   "outputs": [],
   "source": [
    "pr = properties.genbank_validated_rna(10090)[['gene_ncbi', 'Genbank_validated_RNA: full_SumACGT']].rename(columns={\n",
    "    'Genbank_validated_RNA: full_SumACGT': 'length'\n",
    "})\n",
    "\n",
    "pr.loc[:, 'log_length'] = np.log10(pr['length'])\n"
   ]
  },
  {
   "cell_type": "code",
   "execution_count": 13,
   "metadata": {},
   "outputs": [],
   "source": [
    "from natsort import natsorted"
   ]
  },
  {
   "cell_type": "code",
   "execution_count": null,
   "metadata": {},
   "outputs": [],
   "source": []
  },
  {
   "cell_type": "code",
   "execution_count": 14,
   "metadata": {},
   "outputs": [],
   "source": [
    "all_de, detection, mice_in_comparisons, triplicate_series = nar181026_heat_confidence_genes.load_detection(\n",
    "    detection_column='padj')\n",
    "\n",
    "tissues_to_consider = ['BAT', 'Blood', 'GutEP', 'MuscSat', 'Adrenal', 'Kidney',\n",
    "       'Heart', 'Liver', 'Skin', 'Stomach', 'Brain', 'SI',\n",
    "       'LI', 'Cerebellum', 'WAT', 'Esophagus', 'Lung'] \n",
    "\n",
    "\n",
    "de_set = all_de[\n",
    "    (all_de['tissue'].isin(tissues_to_consider)) & \n",
    "    (all_de['pfu']==0) &\n",
    "    (all_de['younger']==4) &   \n",
    "    (all_de['de_unit']=='both') & \n",
    "    (all_de['padj'].notnull()) &\n",
    "    (all_de['gene_ncbi'].isin(ref_genes))\n",
    "\n",
    "]\n",
    "\n"
   ]
  },
  {
   "cell_type": "code",
   "execution_count": 15,
   "metadata": {},
   "outputs": [],
   "source": [
    "renamer = {\n",
    "        'Adrenal': 'Adrenal Gland', \n",
    "        'BAT': 'Brown adipose tissue', \n",
    "        'Blood': 'Blood', \n",
    "        'Brain': 'Frontal cortex', \n",
    "        'Esophagus': 'Esophagus', \n",
    "        'GutEP': 'Gut epithelium', \n",
    "        'Heart': 'Heart',\n",
    "        'Kidney': 'Kidney', \n",
    "        'LI': 'Large intestine', \n",
    "        'Liver': 'Liver', \n",
    "        'Lung': 'Lung', \n",
    "        'MuscSat': 'Muscle', \n",
    "        'SI': 'Small intestine', \n",
    "        'Skin': 'Skin',\n",
    "        'Stomach': 'Stomach', \n",
    "        'WAT': 'White adipose tissue', \n",
    "        'Cerebellum': 'Cerebellum'}"
   ]
  },
  {
   "cell_type": "code",
   "execution_count": null,
   "metadata": {},
   "outputs": [],
   "source": []
  },
  {
   "cell_type": "code",
   "execution_count": 16,
   "metadata": {},
   "outputs": [
    {
     "name": "stderr",
     "output_type": "stream",
     "text": [
      "/Users/tstoeger/anaconda3/lib/python3.7/site-packages/ipykernel_launcher.py:1: SettingWithCopyWarning: \n",
      "A value is trying to be set on a copy of a slice from a DataFrame.\n",
      "Try using .loc[row_indexer,col_indexer] = value instead\n",
      "\n",
      "See the caveats in the documentation: https://pandas.pydata.org/pandas-docs/stable/user_guide/indexing.html#returning-a-view-versus-a-copy\n",
      "  \"\"\"Entry point for launching an IPython kernel.\n"
     ]
    }
   ],
   "source": [
    "de_set['tissue'] = de_set['tissue'].replace(renamer)"
   ]
  },
  {
   "cell_type": "code",
   "execution_count": null,
   "metadata": {},
   "outputs": [],
   "source": []
  },
  {
   "cell_type": "code",
   "execution_count": null,
   "metadata": {},
   "outputs": [],
   "source": []
  },
  {
   "cell_type": "code",
   "execution_count": 17,
   "metadata": {},
   "outputs": [],
   "source": [
    "from itertools import product"
   ]
  },
  {
   "cell_type": "code",
   "execution_count": 18,
   "metadata": {},
   "outputs": [],
   "source": [
    "onditions = natsorted(de_set['condition'].unique())\n",
    "ages = de_set['older'].unique()\n",
    "out = pd.DataFrame(index=renamer.values(), columns=ages)\n",
    "out_non_trivial = pd.DataFrame(index=renamer.values(), columns=ages)\n",
    "\n",
    "for tissue, age in product(renamer.values(), ages):\n",
    "\n",
    "    d = de_set[\n",
    "        (de_set['older']==age) &\n",
    "        (de_set['tissue']==tissue)\n",
    "    ]\n",
    "\n",
    "    d = d[['gene_ncbi', 'o_over_y']].dropna()\n",
    "    d = pd.merge(d, pr)\n",
    "\n",
    "    r, p = spearmanr(d['log_length'], d['o_over_y'])\n",
    "    d = d.set_index('gene_ncbi')\n",
    "\n",
    "    out.loc[tissue, age] = r\n",
    "    \n",
    "    \n",
    "    d = d[d.index.isin(ref_genes_no_trivial)]\n",
    "    \n",
    "    r, p = spearmanr(d['log_length'], d['o_over_y'])\n",
    "\n",
    "    out_non_trivial.loc[tissue, age] = r"
   ]
  },
  {
   "cell_type": "code",
   "execution_count": 19,
   "metadata": {},
   "outputs": [],
   "source": [
    "a = out.stack().to_frame('value').rename_axis(['tissue', 'age'])\n",
    "# a.loc[:, 'origin'] = 'orig'\n",
    "b = out_non_trivial.stack().to_frame('value').rename_axis(['tissue', 'age'])\n",
    "# b.loc[:, 'origin'] = 'non_trivial'"
   ]
  },
  {
   "cell_type": "code",
   "execution_count": 20,
   "metadata": {},
   "outputs": [],
   "source": [
    "c = pd.merge(a.reset_index(), b.reset_index(), on=['tissue', 'age'], suffixes=(\n",
    "'_orig', '_non_trivial'))"
   ]
  },
  {
   "cell_type": "code",
   "execution_count": 21,
   "metadata": {},
   "outputs": [
    {
     "data": {
      "image/png": "[encoded data removed]",
      "text/plain": [
       "<Figure size 360x360 with 1 Axes>"
      ]
     },
     "metadata": {
      "needs_background": "light"
     },
     "output_type": "display_data"
    }
   ],
   "source": [
    "plt.figure(figsize=(5, 5))\n",
    "plt.scatter(c['value_orig'], c['value_non_trivial'])\n",
    "plt.xlabel('orig')\n",
    "plt.ylabel('non_trivial')\n",
    "\n",
    "if save_images:\n",
    "    export.export_image(\n",
    "        '{}/vs_non_inflammation.pdf'.format(\n",
    "            outfolder))"
   ]
  },
  {
   "cell_type": "code",
   "execution_count": null,
   "metadata": {},
   "outputs": [],
   "source": []
  }
 ],
 "metadata": {
  "kernelspec": {
   "display_name": "Python 3",
   "language": "python",
   "name": "python3"
  },
  "language_info": {
   "codemirror_mode": {
    "name": "ipython",
    "version": 3
   },
   "file_extension": ".py",
   "mimetype": "text/x-python",
   "name": "python",
   "nbconvert_exporter": "python",
   "pygments_lexer": "ipython3",
   "version": "3.7.3"
  },
  "toc": {
   "base_numbering": 1,
   "nav_menu": {},
   "number_sections": true,
   "sideBar": true,
   "skip_h1_title": false,
   "title_cell": "Table of Contents",
   "title_sidebar": "Contents",
   "toc_cell": false,
   "toc_position": {},
   "toc_section_display": true,
   "toc_window_display": false
  }
 },
 "nbformat": 4,
 "nbformat_minor": 2
}
