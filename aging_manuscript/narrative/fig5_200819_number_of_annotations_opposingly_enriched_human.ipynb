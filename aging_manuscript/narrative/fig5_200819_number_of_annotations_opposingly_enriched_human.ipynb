{
 "cells": [
  {
   "cell_type": "code",
   "execution_count": 1,
   "metadata": {},
   "outputs": [],
   "source": [
    "%matplotlib inline \n",
    "%reload_ext autoreload\n",
    "%autoreload 2"
   ]
  },
  {
   "cell_type": "code",
   "execution_count": 2,
   "metadata": {},
   "outputs": [],
   "source": [
    "import matplotlib as mpl\n",
    "mpl.rcParams['pdf.fonttype'] = 42\n",
    "mpl.rcParams['font.family'] = 'Arial'"
   ]
  },
  {
   "cell_type": "code",
   "execution_count": 3,
   "metadata": {},
   "outputs": [],
   "source": [
    "import os\n",
    "\n",
    "import numpy as np\n",
    "import pandas as pd\n",
    "import seaborn as sns\n",
    "\n",
    "import matplotlib.pyplot as plt\n",
    "\n",
    "from scipy.stats import spearmanr"
   ]
  },
  {
   "cell_type": "code",
   "execution_count": 4,
   "metadata": {},
   "outputs": [],
   "source": [
    "from access_biology_data import meta, relations, annotation, properties\n",
    "from access_literature_data import medline\n",
    "from access_science_shared import standardizer\n",
    "\n",
    "import sys\n",
    "sys.path.append('./../src/')\n",
    "from aging_tools import inout, export, calculators\n",
    "from access_aging_data import chaperome, earlier_studies, sequencing\n"
   ]
  },
  {
   "cell_type": "code",
   "execution_count": 5,
   "metadata": {},
   "outputs": [],
   "source": [
    "import matplotlib\n",
    "matplotlib.rcParams.update({'font.size': 10})"
   ]
  },
  {
   "cell_type": "code",
   "execution_count": 6,
   "metadata": {},
   "outputs": [],
   "source": [
    "out_folder = '200819_number_of_annotations_opposingly_enriched'"
   ]
  },
  {
   "cell_type": "code",
   "execution_count": null,
   "metadata": {},
   "outputs": [],
   "source": []
  },
  {
   "cell_type": "code",
   "execution_count": 7,
   "metadata": {},
   "outputs": [],
   "source": [
    "quanta = 0.05"
   ]
  },
  {
   "cell_type": "code",
   "execution_count": 8,
   "metadata": {},
   "outputs": [],
   "source": [
    "save_images = True"
   ]
  },
  {
   "cell_type": "code",
   "execution_count": 9,
   "metadata": {},
   "outputs": [],
   "source": [
    "taxon_id = 9606"
   ]
  },
  {
   "cell_type": "code",
   "execution_count": 10,
   "metadata": {},
   "outputs": [
    {
     "name": "stderr",
     "output_type": "stream",
     "text": [
      "/Users/tstoeger/anaconda3/lib/python3.7/site-packages/fastparquet/dataframe.py:5: FutureWarning: pandas.core.index is deprecated and will be removed in a future version.  The public classes are available in the top-level namespace.\n",
      "  from pandas.core.index import CategoricalIndex, RangeIndex, Index, MultiIndex\n"
     ]
    }
   ],
   "source": [
    "ref_genes = standardizer.reference_genes(taxon_id, 'orp')  # only consider supported protein coding-genes\n",
    "\n",
    "pr = properties.genbank_validated_rna(taxon_id)[[\n",
    "    'gene_ncbi', 'Genbank_validated_RNA: full_SumACGT']].rename(columns={\n",
    "    'Genbank_validated_RNA: full_SumACGT': 'length'\n",
    "})\n",
    "pr.loc[:, 'log_length'] = np.log10(pr['length'])\n",
    "pr = pr[pr['gene_ncbi'].isin(ref_genes)]\n",
    "pr.loc[:, 'rank'] = pr['length'].rank(pct=True)"
   ]
  },
  {
   "cell_type": "code",
   "execution_count": 11,
   "metadata": {},
   "outputs": [],
   "source": [
    "painters = dict()\n",
    "\n",
    "go = annotation.go(\n",
    "    taxon_id=taxon_id, \n",
    "    category=['Process', 'Compartment', 'Function'],\n",
    "    negating_support=[False],\n",
    "    any_negating_support=[False],\n",
    "    temporary_evidence=[True, False], \n",
    "    unmapped_evidence=[False]\n",
    "    )[\n",
    "    ['GO_term', 'gene_ncbi']].drop_duplicates()\n",
    "go.loc[:, 'annotation'] = go['GO_term']\n",
    "go = go[['gene_ncbi', 'annotation']].drop_duplicates()\n",
    "painters['go_all_in'] = go\n",
    "\n"
   ]
  },
  {
   "cell_type": "code",
   "execution_count": 12,
   "metadata": {},
   "outputs": [],
   "source": [
    "paint = 'go_all_in'"
   ]
  },
  {
   "cell_type": "code",
   "execution_count": 13,
   "metadata": {},
   "outputs": [],
   "source": [
    "painter=painters[paint]"
   ]
  },
  {
   "cell_type": "code",
   "execution_count": 21,
   "metadata": {},
   "outputs": [
    {
     "data": {
      "text/plain": [
       "15371"
      ]
     },
     "execution_count": 21,
     "metadata": {},
     "output_type": "execute_result"
    }
   ],
   "source": [
    "painter[painter['gene_ncbi'].isin(pr['gene_ncbi'])]['annotation'].nunique()"
   ]
  },
  {
   "cell_type": "code",
   "execution_count": 14,
   "metadata": {},
   "outputs": [],
   "source": [
    "boots = 100"
   ]
  },
  {
   "cell_type": "code",
   "execution_count": 15,
   "metadata": {},
   "outputs": [],
   "source": [
    "results = pd.DataFrame(index=range(boots), columns=['short_enriched', 'long_enriched'])"
   ]
  },
  {
   "cell_type": "code",
   "execution_count": 16,
   "metadata": {},
   "outputs": [
    {
     "name": "stderr",
     "output_type": "stream",
     "text": [
      "./../src/aging_tools/calculators.py:147: RuntimeWarning: divide by zero encountered in log2\n",
      "  fract_of_significant_w_annot / fract_of_background_w_annot)\n"
     ]
    }
   ],
   "source": [
    "for boot in range(boots):\n",
    "\n",
    "    number_of_short_genes = pr[pr['rank']<quanta].shape[0]\n",
    "    number_of_long_genes = long_genes = pr[pr['rank']>(1-quanta)].shape[0]\n",
    "\n",
    "    short_genes = pr.sample(frac=1, random_state=boot).iloc[pr.shape[0]-number_of_short_genes:]['gene_ncbi']\n",
    "    long_genes = pr.sample(frac=1, random_state=boot).iloc[:number_of_long_genes]['gene_ncbi']\n",
    "    \n",
    "    \n",
    "#     short_genes = pr[pr['rank']<quanta]['gene_ncbi']\n",
    "#     long_genes = pr[pr['rank']>(1-quanta)]['gene_ncbi']\n",
    "    \n",
    "    \n",
    "    background = pr['gene_ncbi']\n",
    "\n",
    "    in_short = calculators.functional_ratio(\n",
    "        short_genes, \n",
    "        background,    \n",
    "        painter,\n",
    "        test='difference'\n",
    "    )   \n",
    "\n",
    "    in_long = calculators.functional_ratio(\n",
    "        long_genes, \n",
    "        background,    \n",
    "        painter,\n",
    "        test='difference'\n",
    "    )     \n",
    "\n",
    "    h = pd.merge(\n",
    "        in_short.reset_index(), \n",
    "        in_long.reset_index(), \n",
    "        on='annotation',\n",
    "        suffixes=('_s', '_l')\n",
    "    )\n",
    "\n",
    "    enriched_in_short_depleted_in_long = h[\n",
    "        (h['benjamini_hochberg_s']<0.05) &\n",
    "        (h['fold_enrichment_s']>0) &\n",
    "        (h['fold_enrichment_l']<0)\n",
    "    ].sort_values(\n",
    "        'fold_enrichment_s', \n",
    "        ascending=False)\n",
    "\n",
    "    enriched_in_long_depleted_in_short = h[\n",
    "        (h['benjamini_hochberg_l']<0.05) &\n",
    "        (h['fold_enrichment_s']<0) &\n",
    "        (h['fold_enrichment_l']>0)\n",
    "    ].sort_values(\n",
    "        'fold_enrichment_l', \n",
    "        ascending=False)\n",
    "\n",
    "\n",
    "    results.loc[boot, 'short_enriched'] = enriched_in_short_depleted_in_long.shape[0]\n",
    "    results.loc[boot, 'long_enriched'] = enriched_in_long_depleted_in_short.shape[0]\n"
   ]
  },
  {
   "cell_type": "code",
   "execution_count": 18,
   "metadata": {},
   "outputs": [
    {
     "data": {
      "text/plain": [
       "0    99\n",
       "1     1\n",
       "Name: short_enriched, dtype: int64"
      ]
     },
     "execution_count": 18,
     "metadata": {},
     "output_type": "execute_result"
    }
   ],
   "source": [
    "results['short_enriched'].value_counts()"
   ]
  },
  {
   "cell_type": "code",
   "execution_count": 19,
   "metadata": {},
   "outputs": [
    {
     "data": {
      "text/plain": [
       "0    100\n",
       "Name: long_enriched, dtype: int64"
      ]
     },
     "execution_count": 19,
     "metadata": {},
     "output_type": "execute_result"
    }
   ],
   "source": [
    "results['long_enriched'].value_counts()"
   ]
  },
  {
   "cell_type": "code",
   "execution_count": null,
   "metadata": {},
   "outputs": [],
   "source": []
  }
 ],
 "metadata": {
  "kernelspec": {
   "display_name": "Python 3",
   "language": "python",
   "name": "python3"
  },
  "language_info": {
   "codemirror_mode": {
    "name": "ipython",
    "version": 3
   },
   "file_extension": ".py",
   "mimetype": "text/x-python",
   "name": "python",
   "nbconvert_exporter": "python",
   "pygments_lexer": "ipython3",
   "version": "3.7.3"
  },
  "toc": {
   "base_numbering": 1,
   "nav_menu": {},
   "number_sections": true,
   "sideBar": true,
   "skip_h1_title": false,
   "title_cell": "Table of Contents",
   "title_sidebar": "Contents",
   "toc_cell": false,
   "toc_position": {},
   "toc_section_display": true,
   "toc_window_display": false
  }
 },
 "nbformat": 4,
 "nbformat_minor": 2
}
