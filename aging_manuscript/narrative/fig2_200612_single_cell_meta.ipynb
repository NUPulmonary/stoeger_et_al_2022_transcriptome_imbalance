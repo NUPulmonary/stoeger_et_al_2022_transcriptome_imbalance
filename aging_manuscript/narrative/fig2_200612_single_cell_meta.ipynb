{
 "cells": [
  {
   "cell_type": "code",
   "execution_count": 1,
   "metadata": {},
   "outputs": [],
   "source": [
    "%matplotlib inline\n",
    "%reload_ext autoreload\n",
    "%autoreload 2"
   ]
  },
  {
   "cell_type": "code",
   "execution_count": 2,
   "metadata": {},
   "outputs": [],
   "source": [
    "import matplotlib as mpl\n",
    "mpl.rcParams['pdf.fonttype'] = 42\n",
    "mpl.rcParams['font.family'] = 'Arial'"
   ]
  },
  {
   "cell_type": "code",
   "execution_count": 3,
   "metadata": {},
   "outputs": [],
   "source": [
    "import gc\n",
    "import os\n",
    "import sys\n",
    "\n",
    "import numpy as np\n",
    "import pandas as pd\n",
    "import seaborn as sns\n",
    "import matplotlib.pyplot as plt\n",
    "\n",
    "from copy import deepcopy\n",
    "from random import shuffle\n",
    "from scipy.stats import spearmanr\n",
    "\n",
    "from access_biology_data import lincs, properties\n",
    "from access_science_shared import standardizer\n",
    "\n",
    "sys.path.append('./../src/')\n",
    "from aging_tools import inout, export\n",
    "\n",
    "from access_biology_data import annotation\n",
    "from access_biology_data import meta"
   ]
  },
  {
   "cell_type": "code",
   "execution_count": 4,
   "metadata": {},
   "outputs": [],
   "source": [
    "outfolder = '200612_single_cell_meta'"
   ]
  },
  {
   "cell_type": "code",
   "execution_count": 5,
   "metadata": {},
   "outputs": [],
   "source": [
    "save_images = True"
   ]
  },
  {
   "cell_type": "code",
   "execution_count": 6,
   "metadata": {},
   "outputs": [],
   "source": [
    "p = export.get_material_path(\n",
    "    '200612_probe_single_cell_differential_sum_of_raw/stats_200612_0951.xlsx')"
   ]
  },
  {
   "cell_type": "code",
   "execution_count": 7,
   "metadata": {},
   "outputs": [],
   "source": [
    "df = pd.read_excel(p)"
   ]
  },
  {
   "cell_type": "code",
   "execution_count": 8,
   "metadata": {},
   "outputs": [
    {
     "data": {
      "text/html": [
       "<div>\n",
       "<style scoped>\n",
       "    .dataframe tbody tr th:only-of-type {\n",
       "        vertical-align: middle;\n",
       "    }\n",
       "\n",
       "    .dataframe tbody tr th {\n",
       "        vertical-align: top;\n",
       "    }\n",
       "\n",
       "    .dataframe thead th {\n",
       "        text-align: right;\n",
       "    }\n",
       "</style>\n",
       "<table border=\"1\" class=\"dataframe\">\n",
       "  <thead>\n",
       "    <tr style=\"text-align: right;\">\n",
       "      <th></th>\n",
       "      <th>older</th>\n",
       "      <th>organ</th>\n",
       "      <th>cell_type</th>\n",
       "      <th>rho</th>\n",
       "      <th>pval</th>\n",
       "      <th>dataset</th>\n",
       "      <th>shared</th>\n",
       "    </tr>\n",
       "  </thead>\n",
       "  <tbody>\n",
       "    <tr>\n",
       "      <th>0</th>\n",
       "      <td>22</td>\n",
       "      <td>lung</td>\n",
       "      <td>B cell</td>\n",
       "      <td>-0.087221</td>\n",
       "      <td>2.122608e-13</td>\n",
       "      <td>calico</td>\n",
       "      <td>calico_22</td>\n",
       "    </tr>\n",
       "    <tr>\n",
       "      <th>1</th>\n",
       "      <td>22</td>\n",
       "      <td>lung</td>\n",
       "      <td>T cell</td>\n",
       "      <td>-0.109168</td>\n",
       "      <td>4.093348e-20</td>\n",
       "      <td>calico</td>\n",
       "      <td>calico_22</td>\n",
       "    </tr>\n",
       "    <tr>\n",
       "      <th>2</th>\n",
       "      <td>22</td>\n",
       "      <td>lung</td>\n",
       "      <td>alveolar macrophage</td>\n",
       "      <td>-0.081887</td>\n",
       "      <td>1.652837e-11</td>\n",
       "      <td>calico</td>\n",
       "      <td>calico_22</td>\n",
       "    </tr>\n",
       "    <tr>\n",
       "      <th>3</th>\n",
       "      <td>22</td>\n",
       "      <td>lung</td>\n",
       "      <td>ciliated columnar cell of tracheobronchial tree</td>\n",
       "      <td>-0.015438</td>\n",
       "      <td>3.132353e-01</td>\n",
       "      <td>calico</td>\n",
       "      <td>calico_22</td>\n",
       "    </tr>\n",
       "    <tr>\n",
       "      <th>4</th>\n",
       "      <td>22</td>\n",
       "      <td>lung</td>\n",
       "      <td>classical monocyte</td>\n",
       "      <td>-0.183017</td>\n",
       "      <td>4.098435e-53</td>\n",
       "      <td>calico</td>\n",
       "      <td>calico_22</td>\n",
       "    </tr>\n",
       "    <tr>\n",
       "      <th>...</th>\n",
       "      <td>...</td>\n",
       "      <td>...</td>\n",
       "      <td>...</td>\n",
       "      <td>...</td>\n",
       "      <td>...</td>\n",
       "      <td>...</td>\n",
       "      <td>...</td>\n",
       "    </tr>\n",
       "    <tr>\n",
       "      <th>400</th>\n",
       "      <td>18</td>\n",
       "      <td>Tongue_droplet</td>\n",
       "      <td>Langerhans cell</td>\n",
       "      <td>-0.071573</td>\n",
       "      <td>6.148387e-07</td>\n",
       "      <td>tabula_muris_10x</td>\n",
       "      <td>tabula_muris_10x_18</td>\n",
       "    </tr>\n",
       "    <tr>\n",
       "      <th>401</th>\n",
       "      <td>24</td>\n",
       "      <td>Tongue_droplet</td>\n",
       "      <td>basal cell of epidermis</td>\n",
       "      <td>0.155835</td>\n",
       "      <td>1.148233e-53</td>\n",
       "      <td>tabula_muris_10x</td>\n",
       "      <td>tabula_muris_10x_24</td>\n",
       "    </tr>\n",
       "    <tr>\n",
       "      <th>402</th>\n",
       "      <td>18</td>\n",
       "      <td>Tongue_droplet</td>\n",
       "      <td>basal cell of epidermis</td>\n",
       "      <td>-0.289361</td>\n",
       "      <td>5.495032e-178</td>\n",
       "      <td>tabula_muris_10x</td>\n",
       "      <td>tabula_muris_10x_18</td>\n",
       "    </tr>\n",
       "    <tr>\n",
       "      <th>403</th>\n",
       "      <td>24</td>\n",
       "      <td>Tongue_droplet</td>\n",
       "      <td>keratinocyte</td>\n",
       "      <td>0.177479</td>\n",
       "      <td>1.174045e-69</td>\n",
       "      <td>tabula_muris_10x</td>\n",
       "      <td>tabula_muris_10x_24</td>\n",
       "    </tr>\n",
       "    <tr>\n",
       "      <th>404</th>\n",
       "      <td>18</td>\n",
       "      <td>Tongue_droplet</td>\n",
       "      <td>keratinocyte</td>\n",
       "      <td>-0.279202</td>\n",
       "      <td>7.947964e-164</td>\n",
       "      <td>tabula_muris_10x</td>\n",
       "      <td>tabula_muris_10x_18</td>\n",
       "    </tr>\n",
       "  </tbody>\n",
       "</table>\n",
       "<p>405 rows × 7 columns</p>\n",
       "</div>"
      ],
      "text/plain": [
       "     older           organ                                        cell_type  \\\n",
       "0       22            lung                                           B cell   \n",
       "1       22            lung                                           T cell   \n",
       "2       22            lung                              alveolar macrophage   \n",
       "3       22            lung  ciliated columnar cell of tracheobronchial tree   \n",
       "4       22            lung                               classical monocyte   \n",
       "..     ...             ...                                              ...   \n",
       "400     18  Tongue_droplet                                  Langerhans cell   \n",
       "401     24  Tongue_droplet                          basal cell of epidermis   \n",
       "402     18  Tongue_droplet                          basal cell of epidermis   \n",
       "403     24  Tongue_droplet                                     keratinocyte   \n",
       "404     18  Tongue_droplet                                     keratinocyte   \n",
       "\n",
       "          rho           pval           dataset               shared  \n",
       "0   -0.087221   2.122608e-13            calico            calico_22  \n",
       "1   -0.109168   4.093348e-20            calico            calico_22  \n",
       "2   -0.081887   1.652837e-11            calico            calico_22  \n",
       "3   -0.015438   3.132353e-01            calico            calico_22  \n",
       "4   -0.183017   4.098435e-53            calico            calico_22  \n",
       "..        ...            ...               ...                  ...  \n",
       "400 -0.071573   6.148387e-07  tabula_muris_10x  tabula_muris_10x_18  \n",
       "401  0.155835   1.148233e-53  tabula_muris_10x  tabula_muris_10x_24  \n",
       "402 -0.289361  5.495032e-178  tabula_muris_10x  tabula_muris_10x_18  \n",
       "403  0.177479   1.174045e-69  tabula_muris_10x  tabula_muris_10x_24  \n",
       "404 -0.279202  7.947964e-164  tabula_muris_10x  tabula_muris_10x_18  \n",
       "\n",
       "[405 rows x 7 columns]"
      ]
     },
     "execution_count": 8,
     "metadata": {},
     "output_type": "execute_result"
    }
   ],
   "source": [
    "df"
   ]
  },
  {
   "cell_type": "code",
   "execution_count": 9,
   "metadata": {},
   "outputs": [
    {
     "data": {
      "text/plain": [
       "tabula_muris_facs_24    121\n",
       "tabula_muris_10x_18      76\n",
       "tabula_muris_10x_21      69\n",
       "tabula_muris_10x_30      57\n",
       "tabula_muris_10x_24      46\n",
       "calico_22                28\n",
       "tabula_muris_facs_18      4\n",
       "tabula_muris_facs_21      4\n",
       "Name: shared, dtype: int64"
      ]
     },
     "execution_count": 9,
     "metadata": {},
     "output_type": "execute_result"
    }
   ],
   "source": [
    "df['shared'].value_counts()"
   ]
  },
  {
   "cell_type": "code",
   "execution_count": 10,
   "metadata": {},
   "outputs": [],
   "source": [
    "df['organ'] = df['organ'].str.replace(\n",
    "    '_facs', '').str.replace('_droplet', '').str.replace('_', ' ').str.capitalize()"
   ]
  },
  {
   "cell_type": "code",
   "execution_count": 11,
   "metadata": {},
   "outputs": [],
   "source": [
    "df['cell_type'] = df['cell_type'].str.capitalize()"
   ]
  },
  {
   "cell_type": "code",
   "execution_count": 12,
   "metadata": {},
   "outputs": [
    {
     "data": {
      "text/plain": [
       "Kidney               76\n",
       "Lung                 54\n",
       "Limb muscle          42\n",
       "Spleen               41\n",
       "Heart                39\n",
       "Liver                27\n",
       "Mammary gland        22\n",
       "Thymus               19\n",
       "Marrow               18\n",
       "Brain non-myeloid    12\n",
       "Trachea              10\n",
       "Bladder              10\n",
       "Pancreas              9\n",
       "Tongue                8\n",
       "Large intestine       7\n",
       "Diaphragm             6\n",
       "Skin                  3\n",
       "Brain myeloid         2\n",
       "Name: organ, dtype: int64"
      ]
     },
     "execution_count": 12,
     "metadata": {},
     "output_type": "execute_result"
    }
   ],
   "source": [
    "df['organ'].value_counts()"
   ]
  },
  {
   "cell_type": "code",
   "execution_count": 13,
   "metadata": {},
   "outputs": [],
   "source": [
    "df = df[df['shared'].isin(\n",
    "    ['tabula_muris_facs_24', 'tabula_muris_10x_24', 'calico_22']\n",
    ")].copy()"
   ]
  },
  {
   "cell_type": "code",
   "execution_count": 14,
   "metadata": {},
   "outputs": [],
   "source": [
    "f = (df['rho'] < 0) & (df['pval'] < 0.01)\n",
    "df.loc[f, 'sign'] = -1\n",
    "\n",
    "f = (df['rho'] > 0) & (df['pval'] < 0.01)\n",
    "df.loc[f, 'sign'] = +1\n",
    "\n",
    "f = (df['pval'] >= 0.01)\n",
    "df.loc[f, 'sign'] = 0\n",
    "\n"
   ]
  },
  {
   "cell_type": "code",
   "execution_count": 15,
   "metadata": {},
   "outputs": [],
   "source": [
    "df['composite'] = df['shared'] + '_' + df['organ']"
   ]
  },
  {
   "cell_type": "code",
   "execution_count": 16,
   "metadata": {},
   "outputs": [],
   "source": [
    "df_export = df[['dataset', 'organ', 'cell_type', 'rho', 'pval']].rename(\n",
    "    columns={'rho': 'rho_transcriptome_imbalance'}\n",
    ").sort_values(['dataset', 'organ', 'cell_type'])"
   ]
  },
  {
   "cell_type": "code",
   "execution_count": 17,
   "metadata": {},
   "outputs": [],
   "source": [
    "if save_images:\n",
    "    export.export_full_frame(\n",
    "        '{}/singel_cell_imbalances.xlsx'.format(\n",
    "                outfolder),\n",
    "        df_export,\n",
    "        save_index=False,\n",
    "        insert_date_time=False\n",
    "    )"
   ]
  },
  {
   "cell_type": "code",
   "execution_count": null,
   "metadata": {},
   "outputs": [],
   "source": []
  },
  {
   "cell_type": "code",
   "execution_count": null,
   "metadata": {},
   "outputs": [],
   "source": []
  },
  {
   "cell_type": "code",
   "execution_count": 18,
   "metadata": {},
   "outputs": [],
   "source": [
    "m = df.pivot(\n",
    "    index='composite',\n",
    "    columns='cell_type',\n",
    "    values='sign'\n",
    ")"
   ]
  },
  {
   "cell_type": "code",
   "execution_count": 19,
   "metadata": {},
   "outputs": [],
   "source": [
    "mm = m.copy()"
   ]
  },
  {
   "cell_type": "code",
   "execution_count": 20,
   "metadata": {},
   "outputs": [],
   "source": [
    "mm.index = [x.replace('calico_22_', 'C ') for x in mm.index]"
   ]
  },
  {
   "cell_type": "code",
   "execution_count": 21,
   "metadata": {},
   "outputs": [],
   "source": [
    "mm.index = [x.replace('tabula_muris_10x_24_', 'TM ') for x in mm.index]"
   ]
  },
  {
   "cell_type": "code",
   "execution_count": 22,
   "metadata": {},
   "outputs": [],
   "source": [
    "mm.index = [x.replace('tabula_muris_facs_24_', 'TF ') for x in mm.index]"
   ]
  },
  {
   "cell_type": "code",
   "execution_count": 23,
   "metadata": {},
   "outputs": [],
   "source": [
    "mm = mm.sort_index()"
   ]
  },
  {
   "cell_type": "code",
   "execution_count": 24,
   "metadata": {},
   "outputs": [],
   "source": [
    "is_null = mm.isnull()"
   ]
  },
  {
   "cell_type": "code",
   "execution_count": null,
   "metadata": {},
   "outputs": [],
   "source": []
  },
  {
   "cell_type": "code",
   "execution_count": 25,
   "metadata": {},
   "outputs": [
    {
     "data": {
      "image/png": "[encoded data removed]",
      "text/plain": [
       "<Figure size 720x1440 with 2 Axes>"
      ]
     },
     "metadata": {
      "needs_background": "light"
     },
     "output_type": "display_data"
    }
   ],
   "source": [
    "plt.figure(figsize=(10, 20))\n",
    "\n",
    "sns.heatmap(\n",
    "    mm.fillna(0).transpose(), \n",
    "    cmap='coolwarm',\n",
    "    mask=is_null.transpose(),\n",
    "    xticklabels=True,\n",
    "    yticklabels=True)\n",
    "\n",
    "if save_images:\n",
    "    export.export_image(\n",
    "        '{}/direction_model_organisms.pdf'.format(\n",
    "            outfolder))"
   ]
  },
  {
   "cell_type": "code",
   "execution_count": 26,
   "metadata": {},
   "outputs": [
    {
     "data": {
      "text/html": [
       "<div>\n",
       "<style scoped>\n",
       "    .dataframe tbody tr th:only-of-type {\n",
       "        vertical-align: middle;\n",
       "    }\n",
       "\n",
       "    .dataframe tbody tr th {\n",
       "        vertical-align: top;\n",
       "    }\n",
       "\n",
       "    .dataframe thead th {\n",
       "        text-align: right;\n",
       "    }\n",
       "</style>\n",
       "<table border=\"1\" class=\"dataframe\">\n",
       "  <thead>\n",
       "    <tr style=\"text-align: right;\">\n",
       "      <th></th>\n",
       "      <th>older</th>\n",
       "      <th>organ</th>\n",
       "      <th>cell_type</th>\n",
       "      <th>rho</th>\n",
       "      <th>pval</th>\n",
       "      <th>dataset</th>\n",
       "      <th>shared</th>\n",
       "      <th>sign</th>\n",
       "      <th>composite</th>\n",
       "    </tr>\n",
       "  </thead>\n",
       "  <tbody>\n",
       "    <tr>\n",
       "      <th>0</th>\n",
       "      <td>22</td>\n",
       "      <td>Lung</td>\n",
       "      <td>B cell</td>\n",
       "      <td>-0.087221</td>\n",
       "      <td>2.122608e-13</td>\n",
       "      <td>calico</td>\n",
       "      <td>calico_22</td>\n",
       "      <td>-1.0</td>\n",
       "      <td>calico_22_Lung</td>\n",
       "    </tr>\n",
       "    <tr>\n",
       "      <th>1</th>\n",
       "      <td>22</td>\n",
       "      <td>Lung</td>\n",
       "      <td>T cell</td>\n",
       "      <td>-0.109168</td>\n",
       "      <td>4.093348e-20</td>\n",
       "      <td>calico</td>\n",
       "      <td>calico_22</td>\n",
       "      <td>-1.0</td>\n",
       "      <td>calico_22_Lung</td>\n",
       "    </tr>\n",
       "    <tr>\n",
       "      <th>2</th>\n",
       "      <td>22</td>\n",
       "      <td>Lung</td>\n",
       "      <td>Alveolar macrophage</td>\n",
       "      <td>-0.081887</td>\n",
       "      <td>1.652837e-11</td>\n",
       "      <td>calico</td>\n",
       "      <td>calico_22</td>\n",
       "      <td>-1.0</td>\n",
       "      <td>calico_22_Lung</td>\n",
       "    </tr>\n",
       "    <tr>\n",
       "      <th>3</th>\n",
       "      <td>22</td>\n",
       "      <td>Lung</td>\n",
       "      <td>Ciliated columnar cell of tracheobronchial tree</td>\n",
       "      <td>-0.015438</td>\n",
       "      <td>3.132353e-01</td>\n",
       "      <td>calico</td>\n",
       "      <td>calico_22</td>\n",
       "      <td>0.0</td>\n",
       "      <td>calico_22_Lung</td>\n",
       "    </tr>\n",
       "    <tr>\n",
       "      <th>4</th>\n",
       "      <td>22</td>\n",
       "      <td>Lung</td>\n",
       "      <td>Classical monocyte</td>\n",
       "      <td>-0.183017</td>\n",
       "      <td>4.098435e-53</td>\n",
       "      <td>calico</td>\n",
       "      <td>calico_22</td>\n",
       "      <td>-1.0</td>\n",
       "      <td>calico_22_Lung</td>\n",
       "    </tr>\n",
       "    <tr>\n",
       "      <th>...</th>\n",
       "      <td>...</td>\n",
       "      <td>...</td>\n",
       "      <td>...</td>\n",
       "      <td>...</td>\n",
       "      <td>...</td>\n",
       "      <td>...</td>\n",
       "      <td>...</td>\n",
       "      <td>...</td>\n",
       "      <td>...</td>\n",
       "    </tr>\n",
       "    <tr>\n",
       "      <th>395</th>\n",
       "      <td>24</td>\n",
       "      <td>Thymus</td>\n",
       "      <td>Professional antigen presenting cell</td>\n",
       "      <td>0.007659</td>\n",
       "      <td>5.266041e-01</td>\n",
       "      <td>tabula_muris_10x</td>\n",
       "      <td>tabula_muris_10x_24</td>\n",
       "      <td>0.0</td>\n",
       "      <td>tabula_muris_10x_24_Thymus</td>\n",
       "    </tr>\n",
       "    <tr>\n",
       "      <th>398</th>\n",
       "      <td>24</td>\n",
       "      <td>Thymus</td>\n",
       "      <td>Thymocyte</td>\n",
       "      <td>0.068965</td>\n",
       "      <td>2.628429e-07</td>\n",
       "      <td>tabula_muris_10x</td>\n",
       "      <td>tabula_muris_10x_24</td>\n",
       "      <td>1.0</td>\n",
       "      <td>tabula_muris_10x_24_Thymus</td>\n",
       "    </tr>\n",
       "    <tr>\n",
       "      <th>399</th>\n",
       "      <td>24</td>\n",
       "      <td>Tongue</td>\n",
       "      <td>Langerhans cell</td>\n",
       "      <td>-0.032558</td>\n",
       "      <td>9.061190e-03</td>\n",
       "      <td>tabula_muris_10x</td>\n",
       "      <td>tabula_muris_10x_24</td>\n",
       "      <td>-1.0</td>\n",
       "      <td>tabula_muris_10x_24_Tongue</td>\n",
       "    </tr>\n",
       "    <tr>\n",
       "      <th>401</th>\n",
       "      <td>24</td>\n",
       "      <td>Tongue</td>\n",
       "      <td>Basal cell of epidermis</td>\n",
       "      <td>0.155835</td>\n",
       "      <td>1.148233e-53</td>\n",
       "      <td>tabula_muris_10x</td>\n",
       "      <td>tabula_muris_10x_24</td>\n",
       "      <td>1.0</td>\n",
       "      <td>tabula_muris_10x_24_Tongue</td>\n",
       "    </tr>\n",
       "    <tr>\n",
       "      <th>403</th>\n",
       "      <td>24</td>\n",
       "      <td>Tongue</td>\n",
       "      <td>Keratinocyte</td>\n",
       "      <td>0.177479</td>\n",
       "      <td>1.174045e-69</td>\n",
       "      <td>tabula_muris_10x</td>\n",
       "      <td>tabula_muris_10x_24</td>\n",
       "      <td>1.0</td>\n",
       "      <td>tabula_muris_10x_24_Tongue</td>\n",
       "    </tr>\n",
       "  </tbody>\n",
       "</table>\n",
       "<p>195 rows × 9 columns</p>\n",
       "</div>"
      ],
      "text/plain": [
       "     older   organ                                        cell_type       rho  \\\n",
       "0       22    Lung                                           B cell -0.087221   \n",
       "1       22    Lung                                           T cell -0.109168   \n",
       "2       22    Lung                              Alveolar macrophage -0.081887   \n",
       "3       22    Lung  Ciliated columnar cell of tracheobronchial tree -0.015438   \n",
       "4       22    Lung                               Classical monocyte -0.183017   \n",
       "..     ...     ...                                              ...       ...   \n",
       "395     24  Thymus             Professional antigen presenting cell  0.007659   \n",
       "398     24  Thymus                                        Thymocyte  0.068965   \n",
       "399     24  Tongue                                  Langerhans cell -0.032558   \n",
       "401     24  Tongue                          Basal cell of epidermis  0.155835   \n",
       "403     24  Tongue                                     Keratinocyte  0.177479   \n",
       "\n",
       "             pval           dataset               shared  sign  \\\n",
       "0    2.122608e-13            calico            calico_22  -1.0   \n",
       "1    4.093348e-20            calico            calico_22  -1.0   \n",
       "2    1.652837e-11            calico            calico_22  -1.0   \n",
       "3    3.132353e-01            calico            calico_22   0.0   \n",
       "4    4.098435e-53            calico            calico_22  -1.0   \n",
       "..            ...               ...                  ...   ...   \n",
       "395  5.266041e-01  tabula_muris_10x  tabula_muris_10x_24   0.0   \n",
       "398  2.628429e-07  tabula_muris_10x  tabula_muris_10x_24   1.0   \n",
       "399  9.061190e-03  tabula_muris_10x  tabula_muris_10x_24  -1.0   \n",
       "401  1.148233e-53  tabula_muris_10x  tabula_muris_10x_24   1.0   \n",
       "403  1.174045e-69  tabula_muris_10x  tabula_muris_10x_24   1.0   \n",
       "\n",
       "                      composite  \n",
       "0                calico_22_Lung  \n",
       "1                calico_22_Lung  \n",
       "2                calico_22_Lung  \n",
       "3                calico_22_Lung  \n",
       "4                calico_22_Lung  \n",
       "..                          ...  \n",
       "395  tabula_muris_10x_24_Thymus  \n",
       "398  tabula_muris_10x_24_Thymus  \n",
       "399  tabula_muris_10x_24_Tongue  \n",
       "401  tabula_muris_10x_24_Tongue  \n",
       "403  tabula_muris_10x_24_Tongue  \n",
       "\n",
       "[195 rows x 9 columns]"
      ]
     },
     "execution_count": 26,
     "metadata": {},
     "output_type": "execute_result"
    }
   ],
   "source": [
    "df"
   ]
  },
  {
   "cell_type": "code",
   "execution_count": null,
   "metadata": {},
   "outputs": [],
   "source": []
  },
  {
   "cell_type": "code",
   "execution_count": null,
   "metadata": {},
   "outputs": [],
   "source": []
  },
  {
   "cell_type": "code",
   "execution_count": null,
   "metadata": {},
   "outputs": [],
   "source": []
  },
  {
   "cell_type": "code",
   "execution_count": 27,
   "metadata": {},
   "outputs": [],
   "source": [
    "toy = df[['dataset', 'sign']].set_index('dataset')"
   ]
  },
  {
   "cell_type": "code",
   "execution_count": 28,
   "metadata": {},
   "outputs": [],
   "source": [
    "toy.loc[:, 'negative'] = toy['sign']==-1\n",
    "toy.loc[:, 'positive'] = toy['sign']==+1\n",
    "toy.loc[:, 'neutral'] = toy['sign']==0"
   ]
  },
  {
   "cell_type": "code",
   "execution_count": 29,
   "metadata": {},
   "outputs": [],
   "source": [
    "toy = toy[['negative', 'positive', 'neutral']].stack()"
   ]
  },
  {
   "cell_type": "code",
   "execution_count": 30,
   "metadata": {},
   "outputs": [],
   "source": [
    "toy = toy.to_frame('present').reset_index()"
   ]
  },
  {
   "cell_type": "code",
   "execution_count": 31,
   "metadata": {},
   "outputs": [
    {
     "data": {
      "text/html": [
       "<div>\n",
       "<style scoped>\n",
       "    .dataframe tbody tr th:only-of-type {\n",
       "        vertical-align: middle;\n",
       "    }\n",
       "\n",
       "    .dataframe tbody tr th {\n",
       "        vertical-align: top;\n",
       "    }\n",
       "\n",
       "    .dataframe thead th {\n",
       "        text-align: right;\n",
       "    }\n",
       "</style>\n",
       "<table border=\"1\" class=\"dataframe\">\n",
       "  <thead>\n",
       "    <tr style=\"text-align: right;\">\n",
       "      <th></th>\n",
       "      <th>dataset</th>\n",
       "      <th>level_1</th>\n",
       "      <th>present</th>\n",
       "    </tr>\n",
       "  </thead>\n",
       "  <tbody>\n",
       "    <tr>\n",
       "      <th>0</th>\n",
       "      <td>calico</td>\n",
       "      <td>negative</td>\n",
       "      <td>True</td>\n",
       "    </tr>\n",
       "    <tr>\n",
       "      <th>1</th>\n",
       "      <td>calico</td>\n",
       "      <td>positive</td>\n",
       "      <td>False</td>\n",
       "    </tr>\n",
       "    <tr>\n",
       "      <th>2</th>\n",
       "      <td>calico</td>\n",
       "      <td>neutral</td>\n",
       "      <td>False</td>\n",
       "    </tr>\n",
       "    <tr>\n",
       "      <th>3</th>\n",
       "      <td>calico</td>\n",
       "      <td>negative</td>\n",
       "      <td>True</td>\n",
       "    </tr>\n",
       "    <tr>\n",
       "      <th>4</th>\n",
       "      <td>calico</td>\n",
       "      <td>positive</td>\n",
       "      <td>False</td>\n",
       "    </tr>\n",
       "    <tr>\n",
       "      <th>...</th>\n",
       "      <td>...</td>\n",
       "      <td>...</td>\n",
       "      <td>...</td>\n",
       "    </tr>\n",
       "    <tr>\n",
       "      <th>580</th>\n",
       "      <td>tabula_muris_10x</td>\n",
       "      <td>positive</td>\n",
       "      <td>True</td>\n",
       "    </tr>\n",
       "    <tr>\n",
       "      <th>581</th>\n",
       "      <td>tabula_muris_10x</td>\n",
       "      <td>neutral</td>\n",
       "      <td>False</td>\n",
       "    </tr>\n",
       "    <tr>\n",
       "      <th>582</th>\n",
       "      <td>tabula_muris_10x</td>\n",
       "      <td>negative</td>\n",
       "      <td>False</td>\n",
       "    </tr>\n",
       "    <tr>\n",
       "      <th>583</th>\n",
       "      <td>tabula_muris_10x</td>\n",
       "      <td>positive</td>\n",
       "      <td>True</td>\n",
       "    </tr>\n",
       "    <tr>\n",
       "      <th>584</th>\n",
       "      <td>tabula_muris_10x</td>\n",
       "      <td>neutral</td>\n",
       "      <td>False</td>\n",
       "    </tr>\n",
       "  </tbody>\n",
       "</table>\n",
       "<p>585 rows × 3 columns</p>\n",
       "</div>"
      ],
      "text/plain": [
       "              dataset   level_1  present\n",
       "0              calico  negative     True\n",
       "1              calico  positive    False\n",
       "2              calico   neutral    False\n",
       "3              calico  negative     True\n",
       "4              calico  positive    False\n",
       "..                ...       ...      ...\n",
       "580  tabula_muris_10x  positive     True\n",
       "581  tabula_muris_10x   neutral    False\n",
       "582  tabula_muris_10x  negative    False\n",
       "583  tabula_muris_10x  positive     True\n",
       "584  tabula_muris_10x   neutral    False\n",
       "\n",
       "[585 rows x 3 columns]"
      ]
     },
     "execution_count": 31,
     "metadata": {},
     "output_type": "execute_result"
    }
   ],
   "source": [
    "toy"
   ]
  },
  {
   "cell_type": "code",
   "execution_count": 32,
   "metadata": {},
   "outputs": [
    {
     "data": {
      "image/png": "[encoded data removed]",
      "text/plain": [
       "<Figure size 432x288 with 1 Axes>"
      ]
     },
     "metadata": {
      "needs_background": "light"
     },
     "output_type": "display_data"
    }
   ],
   "source": [
    "sns.barplot(\n",
    "    hue='dataset', \n",
    "    y='present', \n",
    "    x='level_1', \n",
    "    data=toy,\n",
    "    hue_order=['calico', 'tabula_muris_facs', 'tabula_muris_10x'],\n",
    "    order=['negative', 'neutral', 'positive']\n",
    ")\n",
    "\n",
    "\n",
    "\n",
    "if save_images:\n",
    "    export.export_image(\n",
    "        '{}/fractions.pdf'.format(\n",
    "            outfolder))"
   ]
  },
  {
   "cell_type": "code",
   "execution_count": 33,
   "metadata": {},
   "outputs": [
    {
     "data": {
      "text/html": [
       "<div>\n",
       "<style scoped>\n",
       "    .dataframe tbody tr th:only-of-type {\n",
       "        vertical-align: middle;\n",
       "    }\n",
       "\n",
       "    .dataframe tbody tr th {\n",
       "        vertical-align: top;\n",
       "    }\n",
       "\n",
       "    .dataframe thead th {\n",
       "        text-align: right;\n",
       "    }\n",
       "</style>\n",
       "<table border=\"1\" class=\"dataframe\">\n",
       "  <thead>\n",
       "    <tr style=\"text-align: right;\">\n",
       "      <th></th>\n",
       "      <th></th>\n",
       "      <th>present</th>\n",
       "    </tr>\n",
       "    <tr>\n",
       "      <th>dataset</th>\n",
       "      <th>level_1</th>\n",
       "      <th></th>\n",
       "    </tr>\n",
       "  </thead>\n",
       "  <tbody>\n",
       "    <tr>\n",
       "      <th rowspan=\"3\" valign=\"top\">calico</th>\n",
       "      <th>negative</th>\n",
       "      <td>21.0</td>\n",
       "    </tr>\n",
       "    <tr>\n",
       "      <th>neutral</th>\n",
       "      <td>6.0</td>\n",
       "    </tr>\n",
       "    <tr>\n",
       "      <th>positive</th>\n",
       "      <td>1.0</td>\n",
       "    </tr>\n",
       "    <tr>\n",
       "      <th rowspan=\"3\" valign=\"top\">tabula_muris_10x</th>\n",
       "      <th>negative</th>\n",
       "      <td>31.0</td>\n",
       "    </tr>\n",
       "    <tr>\n",
       "      <th>neutral</th>\n",
       "      <td>6.0</td>\n",
       "    </tr>\n",
       "    <tr>\n",
       "      <th>positive</th>\n",
       "      <td>9.0</td>\n",
       "    </tr>\n",
       "    <tr>\n",
       "      <th rowspan=\"3\" valign=\"top\">tabula_muris_facs</th>\n",
       "      <th>negative</th>\n",
       "      <td>102.0</td>\n",
       "    </tr>\n",
       "    <tr>\n",
       "      <th>neutral</th>\n",
       "      <td>10.0</td>\n",
       "    </tr>\n",
       "    <tr>\n",
       "      <th>positive</th>\n",
       "      <td>9.0</td>\n",
       "    </tr>\n",
       "  </tbody>\n",
       "</table>\n",
       "</div>"
      ],
      "text/plain": [
       "                            present\n",
       "dataset           level_1          \n",
       "calico            negative     21.0\n",
       "                  neutral       6.0\n",
       "                  positive      1.0\n",
       "tabula_muris_10x  negative     31.0\n",
       "                  neutral       6.0\n",
       "                  positive      9.0\n",
       "tabula_muris_facs negative    102.0\n",
       "                  neutral      10.0\n",
       "                  positive      9.0"
      ]
     },
     "execution_count": 33,
     "metadata": {},
     "output_type": "execute_result"
    }
   ],
   "source": [
    "toy.groupby(['dataset', 'level_1']).sum()"
   ]
  },
  {
   "cell_type": "code",
   "execution_count": 35,
   "metadata": {},
   "outputs": [
    {
     "data": {
      "text/plain": [
       "28"
      ]
     },
     "execution_count": 35,
     "metadata": {},
     "output_type": "execute_result"
    }
   ],
   "source": [
    "21+6+1"
   ]
  },
  {
   "cell_type": "code",
   "execution_count": 38,
   "metadata": {},
   "outputs": [
    {
     "data": {
      "text/plain": [
       "tabula_muris_facs    121\n",
       "tabula_muris_10x      46\n",
       "calico                28\n",
       "Name: dataset, dtype: int64"
      ]
     },
     "execution_count": 38,
     "metadata": {},
     "output_type": "execute_result"
    }
   ],
   "source": [
    "toy.loc[toy['present'], 'dataset'].value_counts()"
   ]
  },
  {
   "cell_type": "code",
   "execution_count": null,
   "metadata": {},
   "outputs": [],
   "source": []
  }
 ],
 "metadata": {
  "kernelspec": {
   "display_name": "Python 3",
   "language": "python",
   "name": "python3"
  },
  "language_info": {
   "codemirror_mode": {
    "name": "ipython",
    "version": 3
   },
   "file_extension": ".py",
   "mimetype": "text/x-python",
   "name": "python",
   "nbconvert_exporter": "python",
   "pygments_lexer": "ipython3",
   "version": "3.7.3"
  },
  "toc": {
   "base_numbering": 1,
   "nav_menu": {},
   "number_sections": true,
   "sideBar": true,
   "skip_h1_title": false,
   "title_cell": "Table of Contents",
   "title_sidebar": "Contents",
   "toc_cell": false,
   "toc_position": {},
   "toc_section_display": true,
   "toc_window_display": false
  }
 },
 "nbformat": 4,
 "nbformat_minor": 2
}
