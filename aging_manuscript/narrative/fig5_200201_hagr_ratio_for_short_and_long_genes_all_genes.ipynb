{
 "cells": [
  {
   "cell_type": "code",
   "execution_count": 1,
   "metadata": {},
   "outputs": [],
   "source": [
    "%matplotlib inline \n",
    "%reload_ext autoreload\n",
    "%autoreload 2"
   ]
  },
  {
   "cell_type": "code",
   "execution_count": 2,
   "metadata": {},
   "outputs": [],
   "source": [
    "import matplotlib as mpl\n",
    "mpl.rcParams['pdf.fonttype'] = 42\n",
    "mpl.rcParams['font.family'] = 'Arial'"
   ]
  },
  {
   "cell_type": "code",
   "execution_count": 3,
   "metadata": {},
   "outputs": [],
   "source": [
    "import os\n",
    "\n",
    "import numpy as np\n",
    "import pandas as pd\n",
    "import seaborn as sns\n",
    "\n",
    "import matplotlib.pyplot as plt\n",
    "\n",
    "from scipy.stats import spearmanr"
   ]
  },
  {
   "cell_type": "code",
   "execution_count": 4,
   "metadata": {},
   "outputs": [],
   "source": [
    "from access_biology_data import meta, relations, annotation, properties\n",
    "from access_literature_data import medline\n",
    "from access_science_shared import standardizer\n",
    "\n",
    "import sys\n",
    "sys.path.append('./../src/')\n",
    "from aging_tools import inout, export, calculators\n",
    "from access_aging_data import chaperome, earlier_studies, sequencing\n"
   ]
  },
  {
   "cell_type": "code",
   "execution_count": 5,
   "metadata": {},
   "outputs": [],
   "source": [
    "import matplotlib\n",
    "matplotlib.rcParams.update({'font.size': 10})"
   ]
  },
  {
   "cell_type": "code",
   "execution_count": 6,
   "metadata": {},
   "outputs": [],
   "source": [
    "save_images = False"
   ]
  },
  {
   "cell_type": "code",
   "execution_count": 7,
   "metadata": {},
   "outputs": [],
   "source": [
    "base_folder = '200201_hagr_ratio_for_short_and_long_genes_all_genes'"
   ]
  },
  {
   "cell_type": "code",
   "execution_count": null,
   "metadata": {},
   "outputs": [],
   "source": []
  },
  {
   "cell_type": "code",
   "execution_count": 8,
   "metadata": {},
   "outputs": [
    {
     "name": "stderr",
     "output_type": "stream",
     "text": [
      "/Users/tstoeger/anaconda3/lib/python3.7/site-packages/fastparquet/dataframe.py:5: FutureWarning: pandas.core.index is deprecated and will be removed in a future version.  The public classes are available in the top-level namespace.\n",
      "  from pandas.core.index import CategoricalIndex, RangeIndex, Index, MultiIndex\n"
     ]
    }
   ],
   "source": [
    "quanta = 0.05\n",
    "\n",
    "agg = []\n",
    "for taxon_id in [9606, 10090]:\n",
    "\n",
    "    ref_genes = standardizer.reference_genes(taxon_id, 'orp')  # only consider supported protein coding-genes\n",
    "\n",
    "    pr = properties.genbank_validated_rna(taxon_id)[['gene_ncbi', 'Genbank_validated_RNA: full_SumACGT']].rename(columns={\n",
    "        'Genbank_validated_RNA: full_SumACGT': 'length'\n",
    "    })\n",
    "    pr.loc[:, 'log_length'] = np.log10(pr['length'])\n",
    "    pr = pr[pr['gene_ncbi'].isin(ref_genes)]\n",
    "    pr.loc[:, 'rank'] = pr['length'].rank(pct=True)\n",
    "\n",
    "    painter = []\n",
    "    hagr = earlier_studies.hagr_mapped_summary(taxon_id)\n",
    "\n",
    "    mutant = hagr[hagr['influence'].isin(['anti_longevity'])]\n",
    "    painter_patch = mutant[['gene_ncbi']].reset_index(drop=True)\n",
    "    painter_patch.loc[:, 'annotation'] = 'anti_longevity'\n",
    "    painter.append(painter_patch)\n",
    "\n",
    "    mutant = hagr[hagr['influence'].isin(['pro_longevity'])]\n",
    "    painter_patch = mutant[['gene_ncbi']].reset_index(drop=True)\n",
    "    painter_patch.loc[:, 'annotation'] = 'pro_longevity'\n",
    "    painter.append(painter_patch)\n",
    "\n",
    "    painter = pd.concat(painter)\n",
    "\n",
    "    background = pr['gene_ncbi']\n",
    "    painter = painter[painter['gene_ncbi'].isin(background)]\n",
    "\n",
    "\n",
    "\n",
    "    a = calculators.functional_ratio_no_filter(\n",
    "            significant_genes= pr[pr['rank']<quanta]['gene_ncbi'],\n",
    "            background=background,\n",
    "            painter=painter,\n",
    "            test='difference')\n",
    "    a.loc[:, 'taxon_id'] = taxon_id\n",
    "    a.loc[:, 'genes'] = 'shortest'\n",
    "    agg.append(a)\n",
    "    \n",
    "    a = calculators.functional_ratio_no_filter(\n",
    "            significant_genes= pr[pr['rank']>(1-quanta)]['gene_ncbi'],\n",
    "            background=background,\n",
    "            painter=painter,\n",
    "            test='difference')\n",
    "    \n",
    "    a.loc[:, 'taxon_id'] = taxon_id\n",
    "    a.loc[:, 'genes'] = 'longest'\n",
    "    agg.append(a)"
   ]
  },
  {
   "cell_type": "code",
   "execution_count": 9,
   "metadata": {},
   "outputs": [],
   "source": [
    "h = pd.concat(agg)"
   ]
  },
  {
   "cell_type": "code",
   "execution_count": 10,
   "metadata": {},
   "outputs": [],
   "source": [
    "h = h.reset_index()"
   ]
  },
  {
   "cell_type": "code",
   "execution_count": 11,
   "metadata": {},
   "outputs": [
    {
     "data": {
      "text/html": [
       "<div>\n",
       "<style scoped>\n",
       "    .dataframe tbody tr th:only-of-type {\n",
       "        vertical-align: middle;\n",
       "    }\n",
       "\n",
       "    .dataframe tbody tr th {\n",
       "        vertical-align: top;\n",
       "    }\n",
       "\n",
       "    .dataframe thead th {\n",
       "        text-align: right;\n",
       "    }\n",
       "</style>\n",
       "<table border=\"1\" class=\"dataframe\">\n",
       "  <thead>\n",
       "    <tr style=\"text-align: right;\">\n",
       "      <th></th>\n",
       "      <th>annotation</th>\n",
       "      <th>fold_enrichment</th>\n",
       "      <th>pvalue</th>\n",
       "      <th>bonferroni</th>\n",
       "      <th>benjamini_hochberg</th>\n",
       "      <th>in_significant</th>\n",
       "      <th>in_background</th>\n",
       "      <th>taxon_id</th>\n",
       "      <th>genes</th>\n",
       "    </tr>\n",
       "  </thead>\n",
       "  <tbody>\n",
       "    <tr>\n",
       "      <th>2</th>\n",
       "      <td>pro_longevity</td>\n",
       "      <td>0.903985</td>\n",
       "      <td>0.00259906</td>\n",
       "      <td>0.00519811</td>\n",
       "      <td>0.00519811</td>\n",
       "      <td>25</td>\n",
       "      <td>267</td>\n",
       "      <td>9606</td>\n",
       "      <td>longest</td>\n",
       "    </tr>\n",
       "    <tr>\n",
       "      <th>3</th>\n",
       "      <td>anti_longevity</td>\n",
       "      <td>-0.383078</td>\n",
       "      <td>0.306921</td>\n",
       "      <td>0.613843</td>\n",
       "      <td>0.306921</td>\n",
       "      <td>16</td>\n",
       "      <td>417</td>\n",
       "      <td>9606</td>\n",
       "      <td>longest</td>\n",
       "    </tr>\n",
       "    <tr>\n",
       "      <th>6</th>\n",
       "      <td>pro_longevity</td>\n",
       "      <td>1.1373</td>\n",
       "      <td>0.000466761</td>\n",
       "      <td>0.000933523</td>\n",
       "      <td>0.000933523</td>\n",
       "      <td>22</td>\n",
       "      <td>200</td>\n",
       "      <td>10090</td>\n",
       "      <td>longest</td>\n",
       "    </tr>\n",
       "    <tr>\n",
       "      <th>7</th>\n",
       "      <td>anti_longevity</td>\n",
       "      <td>0.229557</td>\n",
       "      <td>0.506241</td>\n",
       "      <td>1</td>\n",
       "      <td>0.506241</td>\n",
       "      <td>18</td>\n",
       "      <td>307</td>\n",
       "      <td>10090</td>\n",
       "      <td>longest</td>\n",
       "    </tr>\n",
       "  </tbody>\n",
       "</table>\n",
       "</div>"
      ],
      "text/plain": [
       "       annotation fold_enrichment       pvalue   bonferroni  \\\n",
       "2   pro_longevity        0.903985   0.00259906   0.00519811   \n",
       "3  anti_longevity       -0.383078     0.306921     0.613843   \n",
       "6   pro_longevity          1.1373  0.000466761  0.000933523   \n",
       "7  anti_longevity        0.229557     0.506241            1   \n",
       "\n",
       "  benjamini_hochberg in_significant in_background  taxon_id    genes  \n",
       "2         0.00519811             25           267      9606  longest  \n",
       "3           0.306921             16           417      9606  longest  \n",
       "6        0.000933523             22           200     10090  longest  \n",
       "7           0.506241             18           307     10090  longest  "
      ]
     },
     "execution_count": 11,
     "metadata": {},
     "output_type": "execute_result"
    }
   ],
   "source": [
    "h[h['genes']=='longest']"
   ]
  },
  {
   "cell_type": "code",
   "execution_count": 12,
   "metadata": {},
   "outputs": [
    {
     "data": {
      "text/html": [
       "<div>\n",
       "<style scoped>\n",
       "    .dataframe tbody tr th:only-of-type {\n",
       "        vertical-align: middle;\n",
       "    }\n",
       "\n",
       "    .dataframe tbody tr th {\n",
       "        vertical-align: top;\n",
       "    }\n",
       "\n",
       "    .dataframe thead th {\n",
       "        text-align: right;\n",
       "    }\n",
       "</style>\n",
       "<table border=\"1\" class=\"dataframe\">\n",
       "  <thead>\n",
       "    <tr style=\"text-align: right;\">\n",
       "      <th></th>\n",
       "      <th>annotation</th>\n",
       "      <th>fold_enrichment</th>\n",
       "      <th>pvalue</th>\n",
       "      <th>bonferroni</th>\n",
       "      <th>benjamini_hochberg</th>\n",
       "      <th>in_significant</th>\n",
       "      <th>in_background</th>\n",
       "      <th>taxon_id</th>\n",
       "      <th>genes</th>\n",
       "    </tr>\n",
       "  </thead>\n",
       "  <tbody>\n",
       "    <tr>\n",
       "      <th>2</th>\n",
       "      <td>pro_longevity</td>\n",
       "      <td>0.903985</td>\n",
       "      <td>0.00259906</td>\n",
       "      <td>0.00519811</td>\n",
       "      <td>0.00519811</td>\n",
       "      <td>25</td>\n",
       "      <td>267</td>\n",
       "      <td>9606</td>\n",
       "      <td>longest</td>\n",
       "    </tr>\n",
       "    <tr>\n",
       "      <th>3</th>\n",
       "      <td>anti_longevity</td>\n",
       "      <td>-0.383078</td>\n",
       "      <td>0.306921</td>\n",
       "      <td>0.613843</td>\n",
       "      <td>0.306921</td>\n",
       "      <td>16</td>\n",
       "      <td>417</td>\n",
       "      <td>9606</td>\n",
       "      <td>longest</td>\n",
       "    </tr>\n",
       "    <tr>\n",
       "      <th>6</th>\n",
       "      <td>pro_longevity</td>\n",
       "      <td>1.1373</td>\n",
       "      <td>0.000466761</td>\n",
       "      <td>0.000933523</td>\n",
       "      <td>0.000933523</td>\n",
       "      <td>22</td>\n",
       "      <td>200</td>\n",
       "      <td>10090</td>\n",
       "      <td>longest</td>\n",
       "    </tr>\n",
       "    <tr>\n",
       "      <th>7</th>\n",
       "      <td>anti_longevity</td>\n",
       "      <td>0.229557</td>\n",
       "      <td>0.506241</td>\n",
       "      <td>1</td>\n",
       "      <td>0.506241</td>\n",
       "      <td>18</td>\n",
       "      <td>307</td>\n",
       "      <td>10090</td>\n",
       "      <td>longest</td>\n",
       "    </tr>\n",
       "  </tbody>\n",
       "</table>\n",
       "</div>"
      ],
      "text/plain": [
       "       annotation fold_enrichment       pvalue   bonferroni  \\\n",
       "2   pro_longevity        0.903985   0.00259906   0.00519811   \n",
       "3  anti_longevity       -0.383078     0.306921     0.613843   \n",
       "6   pro_longevity          1.1373  0.000466761  0.000933523   \n",
       "7  anti_longevity        0.229557     0.506241            1   \n",
       "\n",
       "  benjamini_hochberg in_significant in_background  taxon_id    genes  \n",
       "2         0.00519811             25           267      9606  longest  \n",
       "3           0.306921             16           417      9606  longest  \n",
       "6        0.000933523             22           200     10090  longest  \n",
       "7           0.506241             18           307     10090  longest  "
      ]
     },
     "execution_count": 12,
     "metadata": {},
     "output_type": "execute_result"
    }
   ],
   "source": [
    "h[h['genes']=='longest']"
   ]
  },
  {
   "cell_type": "code",
   "execution_count": null,
   "metadata": {},
   "outputs": [],
   "source": []
  },
  {
   "cell_type": "code",
   "execution_count": null,
   "metadata": {},
   "outputs": [],
   "source": []
  },
  {
   "cell_type": "code",
   "execution_count": 13,
   "metadata": {},
   "outputs": [
    {
     "data": {
      "text/plain": [
       "0    -1.73514\n",
       "1    0.709117\n",
       "4    -1.32414\n",
       "5    0.305549\n",
       "Name: fold_enrichment, dtype: object"
      ]
     },
     "execution_count": 13,
     "metadata": {},
     "output_type": "execute_result"
    }
   ],
   "source": [
    "h[h['genes']=='shortest']['fold_enrichment']"
   ]
  },
  {
   "cell_type": "code",
   "execution_count": 14,
   "metadata": {},
   "outputs": [],
   "source": [
    "h.loc[:, 'joined_label'] = h.loc[:, 'genes'] + '_' + h.loc[:, 'annotation']"
   ]
  },
  {
   "cell_type": "code",
   "execution_count": 15,
   "metadata": {},
   "outputs": [],
   "source": [
    "h = h.sort_values(['genes', 'annotation'])"
   ]
  },
  {
   "cell_type": "code",
   "execution_count": 16,
   "metadata": {},
   "outputs": [],
   "source": [
    "if save_images:\n",
    "    export.export_full_frame(\n",
    "        '{}/stats.csv'.format(base_folder),\n",
    "        h,\n",
    "        save_index=False\n",
    "    )"
   ]
  },
  {
   "cell_type": "code",
   "execution_count": null,
   "metadata": {},
   "outputs": [],
   "source": []
  },
  {
   "cell_type": "code",
   "execution_count": 17,
   "metadata": {},
   "outputs": [
    {
     "data": {
      "image/png": "[encoded data removed]",
      "text/plain": [
       "<Figure size 432x288 with 1 Axes>"
      ]
     },
     "metadata": {
      "needs_background": "light"
     },
     "output_type": "display_data"
    }
   ],
   "source": [
    "f = h['taxon_id']==9606\n",
    "v = h[f]['fold_enrichment']\n",
    "l = h[f]['joined_label']\n",
    "plt.barh(l, v, align='center', alpha=0.5)\n",
    "\n",
    "if save_images:\n",
    "    export.export_image(\n",
    "        '{}/human.pdf'.format(base_folder)\n",
    "    )"
   ]
  },
  {
   "cell_type": "code",
   "execution_count": 18,
   "metadata": {},
   "outputs": [
    {
     "data": {
      "text/html": [
       "<div>\n",
       "<style scoped>\n",
       "    .dataframe tbody tr th:only-of-type {\n",
       "        vertical-align: middle;\n",
       "    }\n",
       "\n",
       "    .dataframe tbody tr th {\n",
       "        vertical-align: top;\n",
       "    }\n",
       "\n",
       "    .dataframe thead th {\n",
       "        text-align: right;\n",
       "    }\n",
       "</style>\n",
       "<table border=\"1\" class=\"dataframe\">\n",
       "  <thead>\n",
       "    <tr style=\"text-align: right;\">\n",
       "      <th></th>\n",
       "      <th>annotation</th>\n",
       "      <th>fold_enrichment</th>\n",
       "      <th>pvalue</th>\n",
       "      <th>bonferroni</th>\n",
       "      <th>benjamini_hochberg</th>\n",
       "      <th>in_significant</th>\n",
       "      <th>in_background</th>\n",
       "      <th>taxon_id</th>\n",
       "      <th>genes</th>\n",
       "      <th>joined_label</th>\n",
       "    </tr>\n",
       "  </thead>\n",
       "  <tbody>\n",
       "    <tr>\n",
       "      <th>3</th>\n",
       "      <td>anti_longevity</td>\n",
       "      <td>-0.383078</td>\n",
       "      <td>0.306921</td>\n",
       "      <td>0.613843</td>\n",
       "      <td>0.306921</td>\n",
       "      <td>16</td>\n",
       "      <td>417</td>\n",
       "      <td>9606</td>\n",
       "      <td>longest</td>\n",
       "      <td>longest_anti_longevity</td>\n",
       "    </tr>\n",
       "    <tr>\n",
       "      <th>2</th>\n",
       "      <td>pro_longevity</td>\n",
       "      <td>0.903985</td>\n",
       "      <td>0.00259906</td>\n",
       "      <td>0.00519811</td>\n",
       "      <td>0.00519811</td>\n",
       "      <td>25</td>\n",
       "      <td>267</td>\n",
       "      <td>9606</td>\n",
       "      <td>longest</td>\n",
       "      <td>longest_pro_longevity</td>\n",
       "    </tr>\n",
       "    <tr>\n",
       "      <th>1</th>\n",
       "      <td>anti_longevity</td>\n",
       "      <td>0.709117</td>\n",
       "      <td>0.0058421</td>\n",
       "      <td>0.0116842</td>\n",
       "      <td>0.0058421</td>\n",
       "      <td>34</td>\n",
       "      <td>417</td>\n",
       "      <td>9606</td>\n",
       "      <td>shortest</td>\n",
       "      <td>shortest_anti_longevity</td>\n",
       "    </tr>\n",
       "    <tr>\n",
       "      <th>0</th>\n",
       "      <td>pro_longevity</td>\n",
       "      <td>-1.73514</td>\n",
       "      <td>0.00428544</td>\n",
       "      <td>0.00857088</td>\n",
       "      <td>0.0058421</td>\n",
       "      <td>4</td>\n",
       "      <td>267</td>\n",
       "      <td>9606</td>\n",
       "      <td>shortest</td>\n",
       "      <td>shortest_pro_longevity</td>\n",
       "    </tr>\n",
       "  </tbody>\n",
       "</table>\n",
       "</div>"
      ],
      "text/plain": [
       "       annotation fold_enrichment      pvalue  bonferroni benjamini_hochberg  \\\n",
       "3  anti_longevity       -0.383078    0.306921    0.613843           0.306921   \n",
       "2   pro_longevity        0.903985  0.00259906  0.00519811         0.00519811   \n",
       "1  anti_longevity        0.709117   0.0058421   0.0116842          0.0058421   \n",
       "0   pro_longevity        -1.73514  0.00428544  0.00857088          0.0058421   \n",
       "\n",
       "  in_significant in_background  taxon_id     genes             joined_label  \n",
       "3             16           417      9606   longest   longest_anti_longevity  \n",
       "2             25           267      9606   longest    longest_pro_longevity  \n",
       "1             34           417      9606  shortest  shortest_anti_longevity  \n",
       "0              4           267      9606  shortest   shortest_pro_longevity  "
      ]
     },
     "execution_count": 18,
     "metadata": {},
     "output_type": "execute_result"
    }
   ],
   "source": [
    "h[f]"
   ]
  },
  {
   "cell_type": "code",
   "execution_count": null,
   "metadata": {},
   "outputs": [],
   "source": []
  },
  {
   "cell_type": "code",
   "execution_count": null,
   "metadata": {},
   "outputs": [],
   "source": []
  },
  {
   "cell_type": "code",
   "execution_count": 19,
   "metadata": {},
   "outputs": [
    {
     "data": {
      "image/png": "[encoded data removed]",
      "text/plain": [
       "<Figure size 432x288 with 1 Axes>"
      ]
     },
     "metadata": {
      "needs_background": "light"
     },
     "output_type": "display_data"
    }
   ],
   "source": [
    "f = h['taxon_id']==10090\n",
    "v = h[f]['fold_enrichment']\n",
    "l = h[f]['joined_label']\n",
    "plt.barh(l, v, align='center', alpha=0.5)\n",
    "\n",
    "if save_images:\n",
    "    export.export_image(\n",
    "        '{}/mouse.pdf'.format(base_folder)\n",
    "    )"
   ]
  },
  {
   "cell_type": "code",
   "execution_count": 20,
   "metadata": {},
   "outputs": [
    {
     "data": {
      "text/html": [
       "<div>\n",
       "<style scoped>\n",
       "    .dataframe tbody tr th:only-of-type {\n",
       "        vertical-align: middle;\n",
       "    }\n",
       "\n",
       "    .dataframe tbody tr th {\n",
       "        vertical-align: top;\n",
       "    }\n",
       "\n",
       "    .dataframe thead th {\n",
       "        text-align: right;\n",
       "    }\n",
       "</style>\n",
       "<table border=\"1\" class=\"dataframe\">\n",
       "  <thead>\n",
       "    <tr style=\"text-align: right;\">\n",
       "      <th></th>\n",
       "      <th>annotation</th>\n",
       "      <th>fold_enrichment</th>\n",
       "      <th>pvalue</th>\n",
       "      <th>bonferroni</th>\n",
       "      <th>benjamini_hochberg</th>\n",
       "      <th>in_significant</th>\n",
       "      <th>in_background</th>\n",
       "      <th>taxon_id</th>\n",
       "      <th>genes</th>\n",
       "      <th>joined_label</th>\n",
       "    </tr>\n",
       "  </thead>\n",
       "  <tbody>\n",
       "    <tr>\n",
       "      <th>7</th>\n",
       "      <td>anti_longevity</td>\n",
       "      <td>0.229557</td>\n",
       "      <td>0.506241</td>\n",
       "      <td>1</td>\n",
       "      <td>0.506241</td>\n",
       "      <td>18</td>\n",
       "      <td>307</td>\n",
       "      <td>10090</td>\n",
       "      <td>longest</td>\n",
       "      <td>longest_anti_longevity</td>\n",
       "    </tr>\n",
       "    <tr>\n",
       "      <th>6</th>\n",
       "      <td>pro_longevity</td>\n",
       "      <td>1.1373</td>\n",
       "      <td>0.000466761</td>\n",
       "      <td>0.000933523</td>\n",
       "      <td>0.000933523</td>\n",
       "      <td>22</td>\n",
       "      <td>200</td>\n",
       "      <td>10090</td>\n",
       "      <td>longest</td>\n",
       "      <td>longest_pro_longevity</td>\n",
       "    </tr>\n",
       "    <tr>\n",
       "      <th>5</th>\n",
       "      <td>anti_longevity</td>\n",
       "      <td>0.305549</td>\n",
       "      <td>0.352217</td>\n",
       "      <td>0.704434</td>\n",
       "      <td>0.352217</td>\n",
       "      <td>19</td>\n",
       "      <td>307</td>\n",
       "      <td>10090</td>\n",
       "      <td>shortest</td>\n",
       "      <td>shortest_anti_longevity</td>\n",
       "    </tr>\n",
       "    <tr>\n",
       "      <th>4</th>\n",
       "      <td>pro_longevity</td>\n",
       "      <td>-1.32414</td>\n",
       "      <td>0.0486976</td>\n",
       "      <td>0.0973951</td>\n",
       "      <td>0.0973951</td>\n",
       "      <td>4</td>\n",
       "      <td>200</td>\n",
       "      <td>10090</td>\n",
       "      <td>shortest</td>\n",
       "      <td>shortest_pro_longevity</td>\n",
       "    </tr>\n",
       "  </tbody>\n",
       "</table>\n",
       "</div>"
      ],
      "text/plain": [
       "       annotation fold_enrichment       pvalue   bonferroni  \\\n",
       "7  anti_longevity        0.229557     0.506241            1   \n",
       "6   pro_longevity          1.1373  0.000466761  0.000933523   \n",
       "5  anti_longevity        0.305549     0.352217     0.704434   \n",
       "4   pro_longevity        -1.32414    0.0486976    0.0973951   \n",
       "\n",
       "  benjamini_hochberg in_significant in_background  taxon_id     genes  \\\n",
       "7           0.506241             18           307     10090   longest   \n",
       "6        0.000933523             22           200     10090   longest   \n",
       "5           0.352217             19           307     10090  shortest   \n",
       "4          0.0973951              4           200     10090  shortest   \n",
       "\n",
       "              joined_label  \n",
       "7   longest_anti_longevity  \n",
       "6    longest_pro_longevity  \n",
       "5  shortest_anti_longevity  \n",
       "4   shortest_pro_longevity  "
      ]
     },
     "execution_count": 20,
     "metadata": {},
     "output_type": "execute_result"
    }
   ],
   "source": [
    "h[f]"
   ]
  },
  {
   "cell_type": "code",
   "execution_count": 21,
   "metadata": {},
   "outputs": [],
   "source": [
    "h['expectation'] = h['in_significant'] / (2**h['fold_enrichment'])"
   ]
  },
  {
   "cell_type": "code",
   "execution_count": 22,
   "metadata": {},
   "outputs": [
    {
     "data": {
      "text/html": [
       "<div>\n",
       "<style scoped>\n",
       "    .dataframe tbody tr th:only-of-type {\n",
       "        vertical-align: middle;\n",
       "    }\n",
       "\n",
       "    .dataframe tbody tr th {\n",
       "        vertical-align: top;\n",
       "    }\n",
       "\n",
       "    .dataframe thead th {\n",
       "        text-align: right;\n",
       "    }\n",
       "</style>\n",
       "<table border=\"1\" class=\"dataframe\">\n",
       "  <thead>\n",
       "    <tr style=\"text-align: right;\">\n",
       "      <th></th>\n",
       "      <th>taxon_id</th>\n",
       "      <th>genes</th>\n",
       "      <th>annotation</th>\n",
       "      <th>in_significant</th>\n",
       "      <th>in_background</th>\n",
       "      <th>expectation</th>\n",
       "      <th>fold_enrichment</th>\n",
       "    </tr>\n",
       "  </thead>\n",
       "  <tbody>\n",
       "    <tr>\n",
       "      <th>0</th>\n",
       "      <td>9606</td>\n",
       "      <td>shortest</td>\n",
       "      <td>pro_longevity</td>\n",
       "      <td>4</td>\n",
       "      <td>267</td>\n",
       "      <td>13.3165</td>\n",
       "      <td>-1.73514</td>\n",
       "    </tr>\n",
       "    <tr>\n",
       "      <th>1</th>\n",
       "      <td>9606</td>\n",
       "      <td>shortest</td>\n",
       "      <td>anti_longevity</td>\n",
       "      <td>34</td>\n",
       "      <td>417</td>\n",
       "      <td>20.7976</td>\n",
       "      <td>0.709117</td>\n",
       "    </tr>\n",
       "    <tr>\n",
       "      <th>2</th>\n",
       "      <td>9606</td>\n",
       "      <td>longest</td>\n",
       "      <td>pro_longevity</td>\n",
       "      <td>25</td>\n",
       "      <td>267</td>\n",
       "      <td>13.3602</td>\n",
       "      <td>0.903985</td>\n",
       "    </tr>\n",
       "    <tr>\n",
       "      <th>3</th>\n",
       "      <td>9606</td>\n",
       "      <td>longest</td>\n",
       "      <td>anti_longevity</td>\n",
       "      <td>16</td>\n",
       "      <td>417</td>\n",
       "      <td>20.8659</td>\n",
       "      <td>-0.383078</td>\n",
       "    </tr>\n",
       "    <tr>\n",
       "      <th>4</th>\n",
       "      <td>10090</td>\n",
       "      <td>shortest</td>\n",
       "      <td>pro_longevity</td>\n",
       "      <td>4</td>\n",
       "      <td>200</td>\n",
       "      <td>10.0153</td>\n",
       "      <td>-1.32414</td>\n",
       "    </tr>\n",
       "    <tr>\n",
       "      <th>5</th>\n",
       "      <td>10090</td>\n",
       "      <td>shortest</td>\n",
       "      <td>anti_longevity</td>\n",
       "      <td>19</td>\n",
       "      <td>307</td>\n",
       "      <td>15.3736</td>\n",
       "      <td>0.305549</td>\n",
       "    </tr>\n",
       "    <tr>\n",
       "      <th>6</th>\n",
       "      <td>10090</td>\n",
       "      <td>longest</td>\n",
       "      <td>pro_longevity</td>\n",
       "      <td>22</td>\n",
       "      <td>200</td>\n",
       "      <td>10.0014</td>\n",
       "      <td>1.1373</td>\n",
       "    </tr>\n",
       "    <tr>\n",
       "      <th>7</th>\n",
       "      <td>10090</td>\n",
       "      <td>longest</td>\n",
       "      <td>anti_longevity</td>\n",
       "      <td>18</td>\n",
       "      <td>307</td>\n",
       "      <td>15.3521</td>\n",
       "      <td>0.229557</td>\n",
       "    </tr>\n",
       "  </tbody>\n",
       "</table>\n",
       "</div>"
      ],
      "text/plain": [
       "   taxon_id     genes      annotation in_significant in_background  \\\n",
       "0      9606  shortest   pro_longevity              4           267   \n",
       "1      9606  shortest  anti_longevity             34           417   \n",
       "2      9606   longest   pro_longevity             25           267   \n",
       "3      9606   longest  anti_longevity             16           417   \n",
       "4     10090  shortest   pro_longevity              4           200   \n",
       "5     10090  shortest  anti_longevity             19           307   \n",
       "6     10090   longest   pro_longevity             22           200   \n",
       "7     10090   longest  anti_longevity             18           307   \n",
       "\n",
       "  expectation fold_enrichment  \n",
       "0     13.3165        -1.73514  \n",
       "1     20.7976        0.709117  \n",
       "2     13.3602        0.903985  \n",
       "3     20.8659       -0.383078  \n",
       "4     10.0153        -1.32414  \n",
       "5     15.3736        0.305549  \n",
       "6     10.0014          1.1373  \n",
       "7     15.3521        0.229557  "
      ]
     },
     "execution_count": 22,
     "metadata": {},
     "output_type": "execute_result"
    }
   ],
   "source": [
    "h[\n",
    "    ['taxon_id', 'genes', 'annotation', 'in_significant', \n",
    "     'in_background', 'expectation', 'fold_enrichment']].sort_values(\n",
    "    ['taxon_id', 'genes', 'annotation'], ascending=[1, 0, 0]\n",
    "\n",
    ")"
   ]
  },
  {
   "cell_type": "code",
   "execution_count": null,
   "metadata": {},
   "outputs": [],
   "source": []
  },
  {
   "cell_type": "code",
   "execution_count": null,
   "metadata": {},
   "outputs": [],
   "source": []
  },
  {
   "cell_type": "code",
   "execution_count": null,
   "metadata": {},
   "outputs": [],
   "source": []
  }
 ],
 "metadata": {
  "kernelspec": {
   "display_name": "Python 3",
   "language": "python",
   "name": "python3"
  },
  "language_info": {
   "codemirror_mode": {
    "name": "ipython",
    "version": 3
   },
   "file_extension": ".py",
   "mimetype": "text/x-python",
   "name": "python",
   "nbconvert_exporter": "python",
   "pygments_lexer": "ipython3",
   "version": "3.7.3"
  },
  "toc": {
   "base_numbering": 1,
   "nav_menu": {},
   "number_sections": true,
   "sideBar": true,
   "skip_h1_title": false,
   "title_cell": "Table of Contents",
   "title_sidebar": "Contents",
   "toc_cell": false,
   "toc_position": {},
   "toc_section_display": true,
   "toc_window_display": false
  }
 },
 "nbformat": 4,
 "nbformat_minor": 2
}
