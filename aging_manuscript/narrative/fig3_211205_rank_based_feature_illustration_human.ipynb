{
 "cells": [
  {
   "cell_type": "code",
   "execution_count": 1,
   "metadata": {},
   "outputs": [],
   "source": [
    "%matplotlib inline \n",
    "%reload_ext autoreload\n",
    "%autoreload 2"
   ]
  },
  {
   "cell_type": "code",
   "execution_count": 2,
   "metadata": {},
   "outputs": [],
   "source": [
    "import matplotlib as mpl\n",
    "mpl.rcParams['pdf.fonttype'] = 42\n",
    "mpl.rcParams['font.family'] = 'Arial'"
   ]
  },
  {
   "cell_type": "code",
   "execution_count": 3,
   "metadata": {},
   "outputs": [],
   "source": [
    "import os\n",
    "\n",
    "import numpy as np\n",
    "import pandas as pd\n",
    "import seaborn as sns\n",
    "\n",
    "import matplotlib.pyplot as plt\n",
    "\n",
    "from scipy.stats import spearmanr"
   ]
  },
  {
   "cell_type": "code",
   "execution_count": 4,
   "metadata": {},
   "outputs": [],
   "source": [
    "from access_biology_data import meta, relations, annotation, properties\n",
    "from access_literature_data import medline\n",
    "from access_science_shared import standardizer\n",
    "\n",
    "import sys\n",
    "sys.path.append('./../src/')\n",
    "from aging_tools import inout, export, calculators\n",
    "from access_aging_data import chaperome, earlier_studies, sequencing\n"
   ]
  },
  {
   "cell_type": "code",
   "execution_count": 5,
   "metadata": {},
   "outputs": [],
   "source": [
    "import random"
   ]
  },
  {
   "cell_type": "code",
   "execution_count": 6,
   "metadata": {},
   "outputs": [],
   "source": [
    "import matplotlib\n",
    "matplotlib.rcParams.update({'font.size': 10})"
   ]
  },
  {
   "cell_type": "code",
   "execution_count": 7,
   "metadata": {},
   "outputs": [],
   "source": [
    "out_folder = '211205_rank_based_feature_illustration_human'\n",
    "in_folder = '190428_predict_gtex_with_mirnas'"
   ]
  },
  {
   "cell_type": "code",
   "execution_count": 8,
   "metadata": {},
   "outputs": [],
   "source": [
    "save_images = True\n",
    "# save_late_images = True"
   ]
  },
  {
   "cell_type": "code",
   "execution_count": 9,
   "metadata": {},
   "outputs": [],
   "source": [
    "from narrative import nar181026_heat_confidence_genes"
   ]
  },
  {
   "cell_type": "code",
   "execution_count": 10,
   "metadata": {},
   "outputs": [
    {
     "name": "stderr",
     "output_type": "stream",
     "text": [
      "/Users/tstoeger/opt/miniconda3/envs/aging/lib/python3.7/site-packages/fastparquet/dataframe.py:5: FutureWarning: pandas.core.index is deprecated and will be removed in a future version.  The public classes are available in the top-level namespace.\n",
      "  from pandas.core.index import CategoricalIndex, RangeIndex, Index, MultiIndex\n"
     ]
    }
   ],
   "source": [
    "ref_genes = standardizer.reference_genes(9606, 'orp')  # only consider supported protein coding-genes"
   ]
  },
  {
   "cell_type": "code",
   "execution_count": 11,
   "metadata": {},
   "outputs": [],
   "source": [
    "from access_aging_data import companions"
   ]
  },
  {
   "cell_type": "code",
   "execution_count": 12,
   "metadata": {},
   "outputs": [],
   "source": [
    "all_de = companions.tstoeger_190427_gtex()\n",
    "all_de = all_de[\n",
    "    (all_de['younger'].isin([2, 3])) &\n",
    "    (all_de['older'].isin([4, 5, 6, 7]))\n",
    "]\n",
    "\n",
    "all_de.loc[:, 'significant'] = all_de['padj'] < 0.05\n",
    "all_de.loc[:, 'reduced_tissue'] = all_de['tissue'].str.replace(\n",
    "    ' - ', '_').str.replace(' ', '_').str.replace(\n",
    "    '-', '_').str.replace('(','').str.replace(')', '')\n",
    "\n",
    "all_de.loc[:, 'condition'] = all_de.loc[:, 'gender'] + 's_' + all_de['reduced_tissue'] + '_' + \\\n",
    "    all_de['older'].astype(int).astype(str) + '_vs_' + all_de['younger'].astype(int).astype(str)\n",
    "\n",
    "all_de = all_de[all_de['gene_ncbi'].isin(ref_genes)]"
   ]
  },
  {
   "cell_type": "code",
   "execution_count": 13,
   "metadata": {},
   "outputs": [
    {
     "data": {
      "text/html": [
       "<div>\n",
       "<style scoped>\n",
       "    .dataframe tbody tr th:only-of-type {\n",
       "        vertical-align: middle;\n",
       "    }\n",
       "\n",
       "    .dataframe tbody tr th {\n",
       "        vertical-align: top;\n",
       "    }\n",
       "\n",
       "    .dataframe thead th {\n",
       "        text-align: right;\n",
       "    }\n",
       "</style>\n",
       "<table border=\"1\" class=\"dataframe\">\n",
       "  <thead>\n",
       "    <tr style=\"text-align: right;\">\n",
       "      <th></th>\n",
       "      <th>gene_ncbi</th>\n",
       "      <th>o_over_y</th>\n",
       "      <th>pvalue</th>\n",
       "      <th>padj</th>\n",
       "      <th>tissue</th>\n",
       "      <th>younger</th>\n",
       "      <th>older</th>\n",
       "      <th>gender</th>\n",
       "      <th>significant</th>\n",
       "      <th>reduced_tissue</th>\n",
       "      <th>condition</th>\n",
       "    </tr>\n",
       "  </thead>\n",
       "  <tbody>\n",
       "    <tr>\n",
       "      <th>22069</th>\n",
       "      <td>5266</td>\n",
       "      <td>0.748881</td>\n",
       "      <td>1.138487e-01</td>\n",
       "      <td>3.649429e-01</td>\n",
       "      <td>Adipose - Subcutaneous</td>\n",
       "      <td>2.0</td>\n",
       "      <td>4.0</td>\n",
       "      <td>male</td>\n",
       "      <td>False</td>\n",
       "      <td>Adipose_Subcutaneous</td>\n",
       "      <td>males_Adipose_Subcutaneous_4_vs_2</td>\n",
       "    </tr>\n",
       "    <tr>\n",
       "      <th>22070</th>\n",
       "      <td>2070</td>\n",
       "      <td>1.833579</td>\n",
       "      <td>2.629287e-15</td>\n",
       "      <td>3.106635e-11</td>\n",
       "      <td>Adipose - Subcutaneous</td>\n",
       "      <td>2.0</td>\n",
       "      <td>4.0</td>\n",
       "      <td>male</td>\n",
       "      <td>True</td>\n",
       "      <td>Adipose_Subcutaneous</td>\n",
       "      <td>males_Adipose_Subcutaneous_4_vs_2</td>\n",
       "    </tr>\n",
       "    <tr>\n",
       "      <th>22071</th>\n",
       "      <td>1149</td>\n",
       "      <td>-0.571809</td>\n",
       "      <td>7.038488e-02</td>\n",
       "      <td>2.831571e-01</td>\n",
       "      <td>Adipose - Subcutaneous</td>\n",
       "      <td>2.0</td>\n",
       "      <td>4.0</td>\n",
       "      <td>male</td>\n",
       "      <td>False</td>\n",
       "      <td>Adipose_Subcutaneous</td>\n",
       "      <td>males_Adipose_Subcutaneous_4_vs_2</td>\n",
       "    </tr>\n",
       "    <tr>\n",
       "      <th>22072</th>\n",
       "      <td>440295</td>\n",
       "      <td>-1.631328</td>\n",
       "      <td>3.679263e-02</td>\n",
       "      <td>NaN</td>\n",
       "      <td>Adipose - Subcutaneous</td>\n",
       "      <td>2.0</td>\n",
       "      <td>4.0</td>\n",
       "      <td>male</td>\n",
       "      <td>False</td>\n",
       "      <td>Adipose_Subcutaneous</td>\n",
       "      <td>males_Adipose_Subcutaneous_4_vs_2</td>\n",
       "    </tr>\n",
       "    <tr>\n",
       "      <th>22073</th>\n",
       "      <td>4327</td>\n",
       "      <td>0.073817</td>\n",
       "      <td>7.597794e-01</td>\n",
       "      <td>8.978201e-01</td>\n",
       "      <td>Adipose - Subcutaneous</td>\n",
       "      <td>2.0</td>\n",
       "      <td>4.0</td>\n",
       "      <td>male</td>\n",
       "      <td>False</td>\n",
       "      <td>Adipose_Subcutaneous</td>\n",
       "      <td>males_Adipose_Subcutaneous_4_vs_2</td>\n",
       "    </tr>\n",
       "    <tr>\n",
       "      <th>...</th>\n",
       "      <td>...</td>\n",
       "      <td>...</td>\n",
       "      <td>...</td>\n",
       "      <td>...</td>\n",
       "      <td>...</td>\n",
       "      <td>...</td>\n",
       "      <td>...</td>\n",
       "      <td>...</td>\n",
       "      <td>...</td>\n",
       "      <td>...</td>\n",
       "      <td>...</td>\n",
       "    </tr>\n",
       "    <tr>\n",
       "      <th>24769584</th>\n",
       "      <td>55894</td>\n",
       "      <td>-0.158972</td>\n",
       "      <td>9.687092e-01</td>\n",
       "      <td>NaN</td>\n",
       "      <td>Whole Blood</td>\n",
       "      <td>3.0</td>\n",
       "      <td>6.0</td>\n",
       "      <td>female</td>\n",
       "      <td>False</td>\n",
       "      <td>Whole_Blood</td>\n",
       "      <td>females_Whole_Blood_6_vs_3</td>\n",
       "    </tr>\n",
       "    <tr>\n",
       "      <th>24769602</th>\n",
       "      <td>245928</td>\n",
       "      <td>0.220502</td>\n",
       "      <td>9.566085e-01</td>\n",
       "      <td>NaN</td>\n",
       "      <td>Whole Blood</td>\n",
       "      <td>3.0</td>\n",
       "      <td>6.0</td>\n",
       "      <td>female</td>\n",
       "      <td>False</td>\n",
       "      <td>Whole_Blood</td>\n",
       "      <td>females_Whole_Blood_6_vs_3</td>\n",
       "    </tr>\n",
       "    <tr>\n",
       "      <th>24769609</th>\n",
       "      <td>729201</td>\n",
       "      <td>-0.100088</td>\n",
       "      <td>9.802965e-01</td>\n",
       "      <td>NaN</td>\n",
       "      <td>Whole Blood</td>\n",
       "      <td>3.0</td>\n",
       "      <td>6.0</td>\n",
       "      <td>female</td>\n",
       "      <td>False</td>\n",
       "      <td>Whole_Blood</td>\n",
       "      <td>females_Whole_Blood_6_vs_3</td>\n",
       "    </tr>\n",
       "    <tr>\n",
       "      <th>24769620</th>\n",
       "      <td>493901</td>\n",
       "      <td>0.161617</td>\n",
       "      <td>9.681888e-01</td>\n",
       "      <td>NaN</td>\n",
       "      <td>Whole Blood</td>\n",
       "      <td>3.0</td>\n",
       "      <td>6.0</td>\n",
       "      <td>female</td>\n",
       "      <td>False</td>\n",
       "      <td>Whole_Blood</td>\n",
       "      <td>females_Whole_Blood_6_vs_3</td>\n",
       "    </tr>\n",
       "    <tr>\n",
       "      <th>24769651</th>\n",
       "      <td>3013</td>\n",
       "      <td>0.161617</td>\n",
       "      <td>9.681888e-01</td>\n",
       "      <td>NaN</td>\n",
       "      <td>Whole Blood</td>\n",
       "      <td>3.0</td>\n",
       "      <td>6.0</td>\n",
       "      <td>female</td>\n",
       "      <td>False</td>\n",
       "      <td>Whole_Blood</td>\n",
       "      <td>females_Whole_Blood_6_vs_3</td>\n",
       "    </tr>\n",
       "  </tbody>\n",
       "</table>\n",
       "<p>10550141 rows × 11 columns</p>\n",
       "</div>"
      ],
      "text/plain": [
       "          gene_ncbi  o_over_y        pvalue          padj  \\\n",
       "22069          5266  0.748881  1.138487e-01  3.649429e-01   \n",
       "22070          2070  1.833579  2.629287e-15  3.106635e-11   \n",
       "22071          1149 -0.571809  7.038488e-02  2.831571e-01   \n",
       "22072        440295 -1.631328  3.679263e-02           NaN   \n",
       "22073          4327  0.073817  7.597794e-01  8.978201e-01   \n",
       "...             ...       ...           ...           ...   \n",
       "24769584      55894 -0.158972  9.687092e-01           NaN   \n",
       "24769602     245928  0.220502  9.566085e-01           NaN   \n",
       "24769609     729201 -0.100088  9.802965e-01           NaN   \n",
       "24769620     493901  0.161617  9.681888e-01           NaN   \n",
       "24769651       3013  0.161617  9.681888e-01           NaN   \n",
       "\n",
       "                          tissue  younger  older  gender  significant  \\\n",
       "22069     Adipose - Subcutaneous      2.0    4.0    male        False   \n",
       "22070     Adipose - Subcutaneous      2.0    4.0    male         True   \n",
       "22071     Adipose - Subcutaneous      2.0    4.0    male        False   \n",
       "22072     Adipose - Subcutaneous      2.0    4.0    male        False   \n",
       "22073     Adipose - Subcutaneous      2.0    4.0    male        False   \n",
       "...                          ...      ...    ...     ...          ...   \n",
       "24769584             Whole Blood      3.0    6.0  female        False   \n",
       "24769602             Whole Blood      3.0    6.0  female        False   \n",
       "24769609             Whole Blood      3.0    6.0  female        False   \n",
       "24769620             Whole Blood      3.0    6.0  female        False   \n",
       "24769651             Whole Blood      3.0    6.0  female        False   \n",
       "\n",
       "                reduced_tissue                          condition  \n",
       "22069     Adipose_Subcutaneous  males_Adipose_Subcutaneous_4_vs_2  \n",
       "22070     Adipose_Subcutaneous  males_Adipose_Subcutaneous_4_vs_2  \n",
       "22071     Adipose_Subcutaneous  males_Adipose_Subcutaneous_4_vs_2  \n",
       "22072     Adipose_Subcutaneous  males_Adipose_Subcutaneous_4_vs_2  \n",
       "22073     Adipose_Subcutaneous  males_Adipose_Subcutaneous_4_vs_2  \n",
       "...                        ...                                ...  \n",
       "24769584           Whole_Blood         females_Whole_Blood_6_vs_3  \n",
       "24769602           Whole_Blood         females_Whole_Blood_6_vs_3  \n",
       "24769609           Whole_Blood         females_Whole_Blood_6_vs_3  \n",
       "24769620           Whole_Blood         females_Whole_Blood_6_vs_3  \n",
       "24769651           Whole_Blood         females_Whole_Blood_6_vs_3  \n",
       "\n",
       "[10550141 rows x 11 columns]"
      ]
     },
     "execution_count": 13,
     "metadata": {},
     "output_type": "execute_result"
    }
   ],
   "source": [
    "all_de"
   ]
  },
  {
   "cell_type": "code",
   "execution_count": null,
   "metadata": {},
   "outputs": [],
   "source": []
  },
  {
   "cell_type": "code",
   "execution_count": 14,
   "metadata": {},
   "outputs": [],
   "source": [
    "# all_de, detection, mice_in_comparisons, triplicate_series = nar181026_heat_confidence_genes.load_detection(\n",
    "#     detection_column='padj')\n",
    "\n",
    "# tissues_to_consider = ['BAT', 'Blood', 'GutEP', 'MuscSat', 'Adrenal', 'Kidney',\n",
    "#        'Heart', 'Liver', 'Skin', 'Stomach', 'Brain', 'SI',\n",
    "#        'LI', 'Cerebellum', 'WAT', 'Esophagus', 'Lung'] \n",
    "# pfus=[0]"
   ]
  },
  {
   "cell_type": "code",
   "execution_count": 15,
   "metadata": {},
   "outputs": [],
   "source": [
    "# all_de = all_de[\n",
    "#     (all_de['younger'] == 4) & \n",
    "#     (all_de['is_detected'] == True) &\n",
    "#     (all_de['de_unit'] == 'both') &\n",
    "#     (all_de['tissue'].isin(tissues_to_consider)) &\n",
    "#     (all_de['pfu'].isin(pfus)) & \n",
    "#     (all_de['gene_ncbi'].isin(ref_genes))\n",
    "# ]\n",
    "# all_de['significant'] = all_de['padj'] < 0.05"
   ]
  },
  {
   "cell_type": "code",
   "execution_count": 16,
   "metadata": {},
   "outputs": [],
   "source": [
    "# sign = all_de[['condition', 'significant']].groupby('condition').agg(sum)\n",
    "\n",
    "\n",
    "\n",
    "\n",
    "\n",
    "# agg = []\n",
    "\n",
    "# for condition in all_de['condition'].unique():\n",
    "\n",
    "#     p = export.get_material_path(\n",
    "#         '{}/predictions_{}.csv'.format(in_folder, condition))\n",
    "#     if os.path.exists(p):\n",
    "#         agg.append(pd.read_csv(p))\n",
    "\n",
    "\n",
    "# df = pd.concat(agg).rename(columns={'Unnamed: 0': 'condition'}).set_index('condition')\n",
    "# df['mean'] = df.mean(1)\n",
    "# d = pd.merge(sign.reset_index(), df[['mean']].reset_index())\n",
    "# f = d['significant'] > 0\n",
    "# d.loc[f, 'log_significant'] = d.loc[f, 'significant'].apply(lambda x: np.log10(x))\n",
    "\n",
    "# zeros = sum(~f)\n",
    "\n",
    "# h = []\n",
    "# for j in range(zeros):\n",
    "#     h.append(-1 + random.randrange(0, 10)/20)\n",
    "# d.loc[~f, 'log_significant'] = h\n",
    "\n",
    "# f = d['condition'].str.contains('_0_4_[0-9]*$')\n",
    "# d = d[f]\n",
    "\n",
    "# d = pd.merge(d, all_de[['condition', 'younger', 'older']].drop_duplicates())"
   ]
  },
  {
   "cell_type": "code",
   "execution_count": 17,
   "metadata": {},
   "outputs": [],
   "source": [
    "agg = []\n",
    "\n",
    "for condition in all_de['condition'].unique():\n",
    "\n",
    "    p = export.get_material_path(\n",
    "        '{}/features_{}.csv'.format(in_folder, condition))\n",
    "\n",
    "    if os.path.exists(p):\n",
    "        h = pd.read_csv(p).set_index('feature')\n",
    "        h = h.mean(1).to_frame('contribution').rename_axis('feature').reset_index()\n",
    "        h.loc[:, 'condition'] = condition\n",
    "        agg.append(h)\n",
    "\n",
    "\n",
    "\n",
    "u = pd.concat(agg)"
   ]
  },
  {
   "cell_type": "code",
   "execution_count": 18,
   "metadata": {},
   "outputs": [],
   "source": [
    "pi = u.pivot(index='condition', columns='feature', values='contribution')"
   ]
  },
  {
   "cell_type": "code",
   "execution_count": 19,
   "metadata": {},
   "outputs": [
    {
     "data": {
      "text/plain": [
       "feature\n",
       "tf_PPARG                68\n",
       "tf_SPI1                 78\n",
       "tf_MYCN                 79\n",
       "tf_KDM5A                98\n",
       "gene_CG                112\n",
       "transcripts_ensembl    131\n",
       "exons_max_ensembl      133\n",
       "tf_E2F1                136\n",
       "tf_NEUROD1             158\n",
       "tf_BCL3                161\n",
       "gene_T                 171\n",
       "gene_C                 238\n",
       "gene_G                 241\n",
       "gene_A                 293\n",
       "rna_cds_SumACGT        309\n",
       "miRNA_total            360\n",
       "rna_full_SumACGT       403\n",
       "rna_full_CG            458\n",
       "tf_different_tfs       477\n",
       "gene_SumACGT           515\n",
       "dtype: int64"
      ]
     },
     "execution_count": 19,
     "metadata": {},
     "output_type": "execute_result"
    }
   ],
   "source": [
    "(pi.rank(axis='columns', ascending=False)<=10).sum().sort_values().tail(20)"
   ]
  },
  {
   "cell_type": "code",
   "execution_count": 20,
   "metadata": {},
   "outputs": [],
   "source": [
    "ranks = pi.rank(axis='columns', ascending=False)"
   ]
  },
  {
   "cell_type": "code",
   "execution_count": 21,
   "metadata": {},
   "outputs": [
    {
     "data": {
      "text/plain": [
       "65"
      ]
     },
     "execution_count": 21,
     "metadata": {},
     "output_type": "execute_result"
    }
   ],
   "source": [
    "(ranks['tf_different_tfs']==1).sum()"
   ]
  },
  {
   "cell_type": "code",
   "execution_count": 22,
   "metadata": {},
   "outputs": [],
   "source": [
    "# ranks.loc['Heart_0_4_18', :].sort_values()"
   ]
  },
  {
   "cell_type": "code",
   "execution_count": 23,
   "metadata": {},
   "outputs": [
    {
     "data": {
      "text/plain": [
       "feature\n",
       "tf_E2F1         28.0\n",
       "tf_NEUROD1      28.0\n",
       "tf_BCL3         33.0\n",
       "tf_JARID2       36.0\n",
       "tf_KDM5A        45.0\n",
       "               ...  \n",
       "tf_MEIS2      1800.0\n",
       "tf_ZNF224     1800.0\n",
       "tf_HNF1B      1800.0\n",
       "tf_ZNF148     1800.0\n",
       "tf_ZNF250     1800.0\n",
       "Length: 437, dtype: float64"
      ]
     },
     "execution_count": 23,
     "metadata": {},
     "output_type": "execute_result"
    }
   ],
   "source": [
    "ranks.loc[:, [x for x in ranks.columns if x.startswith('tf')]].drop(columns=['tf_different_tfs']).median(0).sort_values()"
   ]
  },
  {
   "cell_type": "code",
   "execution_count": 24,
   "metadata": {},
   "outputs": [],
   "source": [
    "u = ranks.loc[:, [x for x in ranks.columns if x.startswith('tf')]].drop(columns=['tf_different_tfs'])"
   ]
  },
  {
   "cell_type": "code",
   "execution_count": 25,
   "metadata": {
    "scrolled": true
   },
   "outputs": [
    {
     "data": {
      "text/plain": [
       "feature\n",
       "tf_SIX5        26\n",
       "tf_TAF1        30\n",
       "tf_TBP         31\n",
       "tf_HNF4A       34\n",
       "tf_OTX2        34\n",
       "tf_ZFX         37\n",
       "tf_JARID2      41\n",
       "tf_SMAD5       43\n",
       "tf_JUN         44\n",
       "tf_STAT1       45\n",
       "tf_STAT5B      47\n",
       "tf_KMT2B       48\n",
       "tf_KLF5        51\n",
       "tf_PPARG       59\n",
       "tf_SPI1        71\n",
       "tf_MYCN        76\n",
       "tf_KDM5A       82\n",
       "tf_E2F1       122\n",
       "tf_NEUROD1    145\n",
       "tf_BCL3       150\n",
       "dtype: int64"
      ]
     },
     "execution_count": 25,
     "metadata": {},
     "output_type": "execute_result"
    }
   ],
   "source": [
    "(u<10).sum().sort_values().tail(20)"
   ]
  },
  {
   "cell_type": "code",
   "execution_count": null,
   "metadata": {},
   "outputs": [],
   "source": []
  },
  {
   "cell_type": "code",
   "execution_count": null,
   "metadata": {},
   "outputs": [],
   "source": []
  },
  {
   "cell_type": "code",
   "execution_count": null,
   "metadata": {},
   "outputs": [],
   "source": []
  },
  {
   "cell_type": "code",
   "execution_count": null,
   "metadata": {},
   "outputs": [],
   "source": []
  },
  {
   "cell_type": "code",
   "execution_count": null,
   "metadata": {},
   "outputs": [],
   "source": []
  },
  {
   "cell_type": "code",
   "execution_count": 26,
   "metadata": {},
   "outputs": [],
   "source": [
    "# ranks.loc[:, [x for x in ranks.columns if x.startswith('tf')]].drop(columns=['tf_different_tfs']).min(1).to_frame('best_tf')"
   ]
  },
  {
   "cell_type": "code",
   "execution_count": 27,
   "metadata": {},
   "outputs": [],
   "source": [
    "# ranks.loc[:, [x for x in ranks.columns if x.startswith('miRNA')]].drop(columns=['miRNA_total']).min(1).to_frame('best_mirna')"
   ]
  },
  {
   "cell_type": "code",
   "execution_count": 28,
   "metadata": {},
   "outputs": [],
   "source": [
    "# ranks[['rna_full_SumACGT', 'rna_cds_SumACGT', 'gene_SumACGT']].min(1).to_frame('best_length')"
   ]
  },
  {
   "cell_type": "code",
   "execution_count": 29,
   "metadata": {},
   "outputs": [],
   "source": [
    "toy = pd.concat(\n",
    "    [\n",
    "        ranks.loc[:, [x for x in ranks.columns if x.startswith('tf')]].drop(columns=['tf_different_tfs']).min(1).to_frame('best_tf'),\n",
    "        ranks.loc[:, [x for x in ranks.columns if x.startswith('miRNA')]].drop(columns=['miRNA_total']).min(1).to_frame('best_mirna'),\n",
    "        ranks[['rna_full_SumACGT', 'rna_cds_SumACGT', 'gene_SumACGT']].min(1).to_frame('best_length'),\n",
    "        ranks[['rna_full_SumACGT', 'rna_cds_SumACGT', 'gene_SumACGT', 'tf_different_tfs', 'miRNA_total']]\n",
    "    ],\n",
    "    axis=1\n",
    "\n",
    "\n",
    ")"
   ]
  },
  {
   "cell_type": "code",
   "execution_count": 30,
   "metadata": {},
   "outputs": [
    {
     "data": {
      "text/plain": [
       "(591, 3041)"
      ]
     },
     "execution_count": 30,
     "metadata": {},
     "output_type": "execute_result"
    }
   ],
   "source": [
    "ranks.shape"
   ]
  },
  {
   "cell_type": "code",
   "execution_count": 31,
   "metadata": {},
   "outputs": [],
   "source": [
    "# sns.boxplot(\n",
    "#     y='categ',\n",
    "#     x='rank',\n",
    "#     data=toy[toy.index.str.contains('_4_9')].stack().to_frame('rank').rename_axis(['condition', 'categ']).reset_index(),\n",
    "#     notch=True,\n",
    "#     order=toy[toy.index.str.contains('_4_9')].stack().to_frame('rank').rename_axis(['condition', 'categ']).reset_index().groupby(\n",
    "#         ['categ'])['rank'].median().sort_values().index,\n",
    "#     color='navajowhite'\n",
    "\n",
    "\n",
    "# )\n",
    "\n",
    "# plt.xlim(0, toy.max().max()+2)\n",
    "\n",
    "\n",
    "\n",
    "# if save_images:\n",
    "#     export.export_image(\n",
    "#         '{}/9_months.pdf'.format(out_folder))"
   ]
  },
  {
   "cell_type": "code",
   "execution_count": 32,
   "metadata": {},
   "outputs": [
    {
     "data": {
      "text/plain": [
       "(591, 8)"
      ]
     },
     "execution_count": 32,
     "metadata": {},
     "output_type": "execute_result"
    }
   ],
   "source": [
    "toy.shape"
   ]
  },
  {
   "cell_type": "code",
   "execution_count": 33,
   "metadata": {},
   "outputs": [
    {
     "data": {
      "image/png": "[encoded data removed]",
      "text/plain": [
       "<Figure size 432x288 with 1 Axes>"
      ]
     },
     "metadata": {
      "needs_background": "light"
     },
     "output_type": "display_data"
    }
   ],
   "source": [
    "sns.boxplot(\n",
    "    y='categ',\n",
    "    x='rank',\n",
    "    data=toy[toy.index.str.contains('_[45]_vs_[23]')].stack().to_frame('rank').rename_axis(['condition', 'categ']).reset_index(),\n",
    "    notch=True,\n",
    "    order=toy[toy.index.str.contains('_[45]_vs_[23]')].stack().to_frame('rank').rename_axis(['condition', 'categ']).reset_index().groupby(\n",
    "        ['categ'])['rank'].median().sort_values().index,\n",
    "    color='navajowhite'\n",
    ")\n",
    "\n",
    "\n",
    "\n",
    "plt.xlim(0, toy.max().max()+2)\n",
    "\n",
    "\n",
    "\n",
    "if save_images:\n",
    "    export.export_image(\n",
    "        '{}/m_y.pdf'.format(out_folder))"
   ]
  },
  {
   "cell_type": "code",
   "execution_count": null,
   "metadata": {},
   "outputs": [],
   "source": []
  },
  {
   "cell_type": "code",
   "execution_count": 34,
   "metadata": {},
   "outputs": [
    {
     "data": {
      "image/png": "[encoded data removed]",
      "text/plain": [
       "<Figure size 432x288 with 1 Axes>"
      ]
     },
     "metadata": {
      "needs_background": "light"
     },
     "output_type": "display_data"
    }
   ],
   "source": [
    "sns.boxplot(\n",
    "    y='categ',\n",
    "    x='rank',\n",
    "    data=toy[toy.index.str.contains('_[67]_vs_[23]')].stack().to_frame('rank').rename_axis(['condition', 'categ']).reset_index(),\n",
    "    notch=True,\n",
    "    order=toy[toy.index.str.contains('_[67]_vs_[23]')].stack().to_frame('rank').rename_axis(['condition', 'categ']).reset_index().groupby(\n",
    "        ['categ'])['rank'].median().sort_values().index,\n",
    "    color='navajowhite'\n",
    ")\n",
    "\n",
    "\n",
    "\n",
    "plt.xlim(0, toy.max().max()+2)\n",
    "\n",
    "\n",
    "\n",
    "if save_images:\n",
    "    export.export_image(\n",
    "        '{}/o_y.pdf'.format(out_folder))"
   ]
  },
  {
   "cell_type": "code",
   "execution_count": 35,
   "metadata": {},
   "outputs": [
    {
     "data": {
      "image/png": "[encoded data removed]",
      "text/plain": [
       "<Figure size 432x288 with 1 Axes>"
      ]
     },
     "metadata": {
      "needs_background": "light"
     },
     "output_type": "display_data"
    }
   ],
   "source": [
    "sns.boxplot(\n",
    "    y='categ',\n",
    "    x='rank',\n",
    "    data=toy[toy.index.str.contains('_[4567]_vs_[23]')].stack().to_frame('rank').rename_axis(['condition', 'categ']).reset_index(),\n",
    "    notch=True,\n",
    "    order=toy[toy.index.str.contains('_[4567]_vs_[23]')].stack().to_frame('rank').rename_axis(['condition', 'categ']).reset_index().groupby(\n",
    "        ['categ'])['rank'].median().sort_values().index,\n",
    "    color='navajowhite'\n",
    ")\n",
    "\n",
    "\n",
    "\n",
    "plt.xlim(0, toy.max().max()+2)\n",
    "\n",
    "\n",
    "\n",
    "if save_images:\n",
    "    export.export_image(\n",
    "        '{}/mo_y.pdf'.format(out_folder))"
   ]
  },
  {
   "cell_type": "code",
   "execution_count": null,
   "metadata": {},
   "outputs": [],
   "source": [
    "\n"
   ]
  },
  {
   "cell_type": "code",
   "execution_count": null,
   "metadata": {},
   "outputs": [],
   "source": []
  },
  {
   "cell_type": "code",
   "execution_count": null,
   "metadata": {},
   "outputs": [],
   "source": []
  },
  {
   "cell_type": "code",
   "execution_count": null,
   "metadata": {},
   "outputs": [],
   "source": []
  }
 ],
 "metadata": {
  "kernelspec": {
   "display_name": "Python 3",
   "language": "python",
   "name": "python3"
  },
  "language_info": {
   "codemirror_mode": {
    "name": "ipython",
    "version": 3
   },
   "file_extension": ".py",
   "mimetype": "text/x-python",
   "name": "python",
   "nbconvert_exporter": "python",
   "pygments_lexer": "ipython3",
   "version": "3.7.3"
  },
  "toc": {
   "base_numbering": 1,
   "nav_menu": {},
   "number_sections": true,
   "sideBar": true,
   "skip_h1_title": false,
   "title_cell": "Table of Contents",
   "title_sidebar": "Contents",
   "toc_cell": false,
   "toc_position": {},
   "toc_section_display": true,
   "toc_window_display": false
  }
 },
 "nbformat": 4,
 "nbformat_minor": 2
}
