{
 "cells": [
  {
   "cell_type": "code",
   "execution_count": 1,
   "metadata": {},
   "outputs": [],
   "source": [
    "%matplotlib inline \n",
    "%reload_ext autoreload\n",
    "%autoreload 2"
   ]
  },
  {
   "cell_type": "code",
   "execution_count": 2,
   "metadata": {},
   "outputs": [],
   "source": [
    "import matplotlib as mpl\n",
    "mpl.rcParams['pdf.fonttype'] = 42\n",
    "mpl.rcParams['font.family'] = 'Arial'"
   ]
  },
  {
   "cell_type": "code",
   "execution_count": 3,
   "metadata": {},
   "outputs": [],
   "source": [
    "import os\n",
    "\n",
    "import numpy as np\n",
    "import pandas as pd\n",
    "import seaborn as sns\n",
    "\n",
    "import matplotlib.pyplot as plt\n",
    "\n",
    "from scipy.stats import spearmanr"
   ]
  },
  {
   "cell_type": "code",
   "execution_count": 4,
   "metadata": {},
   "outputs": [],
   "source": [
    "from access_biology_data import meta, relations, annotation, properties\n",
    "from access_literature_data import medline\n",
    "from access_science_shared import standardizer\n",
    "\n",
    "import sys\n",
    "sys.path.append('./../src/')\n",
    "from aging_tools import inout, export, calculators\n",
    "from access_aging_data import chaperome, earlier_studies, sequencing\n"
   ]
  },
  {
   "cell_type": "code",
   "execution_count": 5,
   "metadata": {},
   "outputs": [],
   "source": [
    "import matplotlib\n",
    "matplotlib.rcParams.update({'font.size': 10})"
   ]
  },
  {
   "cell_type": "code",
   "execution_count": 6,
   "metadata": {},
   "outputs": [],
   "source": [
    "save_images = False"
   ]
  },
  {
   "cell_type": "code",
   "execution_count": 7,
   "metadata": {},
   "outputs": [],
   "source": [
    "quanta = 0.10\n",
    "\n",
    "agg = []\n",
    "for taxon_id in [9606, 10090]:\n",
    "\n",
    "    ref_genes = standardizer.reference_genes(taxon_id, 'orp')  # only consider supported protein coding-genes\n",
    "\n",
    "    pr = properties.genbank_validated_rna(taxon_id)[['gene_ncbi', 'Genbank_validated_RNA: full_SumACGT']].rename(columns={\n",
    "        'Genbank_validated_RNA: full_SumACGT': 'length'\n",
    "    })\n",
    "    pr.loc[:, 'log_length'] = np.log10(pr['length'])\n",
    "    pr = pr[pr['gene_ncbi'].isin(ref_genes)]\n",
    "    pr.loc[:, 'rank'] = pr['length'].rank(pct=True)\n",
    "\n",
    "    painter = []\n",
    "    hagr = earlier_studies.hagr_mapped_summary(taxon_id)\n",
    "\n",
    "    mutant = hagr[hagr['influence'].isin(['anti_longevity'])]\n",
    "    painter_patch = mutant[['gene_ncbi']].reset_index(drop=True)\n",
    "    painter_patch.loc[:, 'annotation'] = 'anti_longevity'\n",
    "    painter.append(painter_patch)\n",
    "\n",
    "    mutant = hagr[hagr['influence'].isin(['pro_longevity'])]\n",
    "    painter_patch = mutant[['gene_ncbi']].reset_index(drop=True)\n",
    "    painter_patch.loc[:, 'annotation'] = 'pro_longevity'\n",
    "    painter.append(painter_patch)\n",
    "\n",
    "    painter = pd.concat(painter)\n",
    "\n",
    "    background = pr['gene_ncbi']\n",
    "    painter = painter[painter['gene_ncbi'].isin(background)]\n",
    "\n",
    "\n",
    "\n",
    "    a = calculators.functional_ratio_no_filter(\n",
    "            significant_genes= pr[pr['rank']<quanta]['gene_ncbi'],\n",
    "            background=background,\n",
    "            painter=painter,\n",
    "            test='difference')\n",
    "    a.loc[:, 'taxon_id'] = taxon_id\n",
    "    a.loc[:, 'genes'] = 'shortest'\n",
    "    agg.append(a)\n",
    "    \n",
    "    a = calculators.functional_ratio_no_filter(\n",
    "            significant_genes= pr[pr['rank']>(1-quanta)]['gene_ncbi'],\n",
    "            background=background,\n",
    "            painter=painter,\n",
    "            test='difference')\n",
    "    \n",
    "    a.loc[:, 'taxon_id'] = taxon_id\n",
    "    a.loc[:, 'genes'] = 'longest'\n",
    "    agg.append(a)"
   ]
  },
  {
   "cell_type": "code",
   "execution_count": 8,
   "metadata": {},
   "outputs": [],
   "source": [
    "h = pd.concat(agg)"
   ]
  },
  {
   "cell_type": "code",
   "execution_count": 9,
   "metadata": {},
   "outputs": [],
   "source": [
    "h = h.reset_index()"
   ]
  },
  {
   "cell_type": "code",
   "execution_count": 10,
   "metadata": {},
   "outputs": [
    {
     "data": {
      "text/html": [
       "<div>\n",
       "<style scoped>\n",
       "    .dataframe tbody tr th:only-of-type {\n",
       "        vertical-align: middle;\n",
       "    }\n",
       "\n",
       "    .dataframe tbody tr th {\n",
       "        vertical-align: top;\n",
       "    }\n",
       "\n",
       "    .dataframe thead th {\n",
       "        text-align: right;\n",
       "    }\n",
       "</style>\n",
       "<table border=\"1\" class=\"dataframe\">\n",
       "  <thead>\n",
       "    <tr style=\"text-align: right;\">\n",
       "      <th></th>\n",
       "      <th>annotation</th>\n",
       "      <th>fold_enrichment</th>\n",
       "      <th>pvalue</th>\n",
       "      <th>bonferroni</th>\n",
       "      <th>benjamini_hochberg</th>\n",
       "      <th>in_significant</th>\n",
       "      <th>in_background</th>\n",
       "      <th>taxon_id</th>\n",
       "      <th>genes</th>\n",
       "    </tr>\n",
       "  </thead>\n",
       "  <tbody>\n",
       "    <tr>\n",
       "      <th>2</th>\n",
       "      <td>pro_longevity</td>\n",
       "      <td>0.47037</td>\n",
       "      <td>0.0395208</td>\n",
       "      <td>0.0790415</td>\n",
       "      <td>0.0570691</td>\n",
       "      <td>37</td>\n",
       "      <td>267</td>\n",
       "      <td>9606</td>\n",
       "      <td>longest</td>\n",
       "    </tr>\n",
       "    <tr>\n",
       "      <th>3</th>\n",
       "      <td>anti_longevity</td>\n",
       "      <td>-0.4754</td>\n",
       "      <td>0.0570691</td>\n",
       "      <td>0.114138</td>\n",
       "      <td>0.0570691</td>\n",
       "      <td>30</td>\n",
       "      <td>417</td>\n",
       "      <td>9606</td>\n",
       "      <td>longest</td>\n",
       "    </tr>\n",
       "    <tr>\n",
       "      <th>6</th>\n",
       "      <td>pro_longevity</td>\n",
       "      <td>0.677871</td>\n",
       "      <td>0.00841823</td>\n",
       "      <td>0.0168365</td>\n",
       "      <td>0.0168365</td>\n",
       "      <td>32</td>\n",
       "      <td>200</td>\n",
       "      <td>10090</td>\n",
       "      <td>longest</td>\n",
       "    </tr>\n",
       "    <tr>\n",
       "      <th>7</th>\n",
       "      <td>anti_longevity</td>\n",
       "      <td>-0.18548</td>\n",
       "      <td>0.563477</td>\n",
       "      <td>1</td>\n",
       "      <td>0.563477</td>\n",
       "      <td>27</td>\n",
       "      <td>307</td>\n",
       "      <td>10090</td>\n",
       "      <td>longest</td>\n",
       "    </tr>\n",
       "  </tbody>\n",
       "</table>\n",
       "</div>"
      ],
      "text/plain": [
       "       annotation fold_enrichment      pvalue bonferroni benjamini_hochberg  \\\n",
       "2   pro_longevity         0.47037   0.0395208  0.0790415          0.0570691   \n",
       "3  anti_longevity         -0.4754   0.0570691   0.114138          0.0570691   \n",
       "6   pro_longevity        0.677871  0.00841823  0.0168365          0.0168365   \n",
       "7  anti_longevity        -0.18548    0.563477          1           0.563477   \n",
       "\n",
       "  in_significant in_background  taxon_id    genes  \n",
       "2             37           267      9606  longest  \n",
       "3             30           417      9606  longest  \n",
       "6             32           200     10090  longest  \n",
       "7             27           307     10090  longest  "
      ]
     },
     "execution_count": 10,
     "metadata": {},
     "output_type": "execute_result"
    }
   ],
   "source": [
    "h[h['genes']=='longest']"
   ]
  },
  {
   "cell_type": "code",
   "execution_count": 11,
   "metadata": {},
   "outputs": [
    {
     "data": {
      "text/html": [
       "<div>\n",
       "<style scoped>\n",
       "    .dataframe tbody tr th:only-of-type {\n",
       "        vertical-align: middle;\n",
       "    }\n",
       "\n",
       "    .dataframe tbody tr th {\n",
       "        vertical-align: top;\n",
       "    }\n",
       "\n",
       "    .dataframe thead th {\n",
       "        text-align: right;\n",
       "    }\n",
       "</style>\n",
       "<table border=\"1\" class=\"dataframe\">\n",
       "  <thead>\n",
       "    <tr style=\"text-align: right;\">\n",
       "      <th></th>\n",
       "      <th>annotation</th>\n",
       "      <th>fold_enrichment</th>\n",
       "      <th>pvalue</th>\n",
       "      <th>bonferroni</th>\n",
       "      <th>benjamini_hochberg</th>\n",
       "      <th>in_significant</th>\n",
       "      <th>in_background</th>\n",
       "      <th>taxon_id</th>\n",
       "      <th>genes</th>\n",
       "    </tr>\n",
       "  </thead>\n",
       "  <tbody>\n",
       "    <tr>\n",
       "      <th>2</th>\n",
       "      <td>pro_longevity</td>\n",
       "      <td>0.47037</td>\n",
       "      <td>0.0395208</td>\n",
       "      <td>0.0790415</td>\n",
       "      <td>0.0570691</td>\n",
       "      <td>37</td>\n",
       "      <td>267</td>\n",
       "      <td>9606</td>\n",
       "      <td>longest</td>\n",
       "    </tr>\n",
       "    <tr>\n",
       "      <th>3</th>\n",
       "      <td>anti_longevity</td>\n",
       "      <td>-0.4754</td>\n",
       "      <td>0.0570691</td>\n",
       "      <td>0.114138</td>\n",
       "      <td>0.0570691</td>\n",
       "      <td>30</td>\n",
       "      <td>417</td>\n",
       "      <td>9606</td>\n",
       "      <td>longest</td>\n",
       "    </tr>\n",
       "    <tr>\n",
       "      <th>6</th>\n",
       "      <td>pro_longevity</td>\n",
       "      <td>0.677871</td>\n",
       "      <td>0.00841823</td>\n",
       "      <td>0.0168365</td>\n",
       "      <td>0.0168365</td>\n",
       "      <td>32</td>\n",
       "      <td>200</td>\n",
       "      <td>10090</td>\n",
       "      <td>longest</td>\n",
       "    </tr>\n",
       "    <tr>\n",
       "      <th>7</th>\n",
       "      <td>anti_longevity</td>\n",
       "      <td>-0.18548</td>\n",
       "      <td>0.563477</td>\n",
       "      <td>1</td>\n",
       "      <td>0.563477</td>\n",
       "      <td>27</td>\n",
       "      <td>307</td>\n",
       "      <td>10090</td>\n",
       "      <td>longest</td>\n",
       "    </tr>\n",
       "  </tbody>\n",
       "</table>\n",
       "</div>"
      ],
      "text/plain": [
       "       annotation fold_enrichment      pvalue bonferroni benjamini_hochberg  \\\n",
       "2   pro_longevity         0.47037   0.0395208  0.0790415          0.0570691   \n",
       "3  anti_longevity         -0.4754   0.0570691   0.114138          0.0570691   \n",
       "6   pro_longevity        0.677871  0.00841823  0.0168365          0.0168365   \n",
       "7  anti_longevity        -0.18548    0.563477          1           0.563477   \n",
       "\n",
       "  in_significant in_background  taxon_id    genes  \n",
       "2             37           267      9606  longest  \n",
       "3             30           417      9606  longest  \n",
       "6             32           200     10090  longest  \n",
       "7             27           307     10090  longest  "
      ]
     },
     "execution_count": 11,
     "metadata": {},
     "output_type": "execute_result"
    }
   ],
   "source": [
    "h[h['genes']=='longest']"
   ]
  },
  {
   "cell_type": "code",
   "execution_count": null,
   "metadata": {},
   "outputs": [],
   "source": []
  },
  {
   "cell_type": "code",
   "execution_count": null,
   "metadata": {},
   "outputs": [],
   "source": []
  },
  {
   "cell_type": "code",
   "execution_count": 12,
   "metadata": {},
   "outputs": [
    {
     "data": {
      "text/plain": [
       "0     -1.03864\n",
       "1     0.450599\n",
       "4      -1.1512\n",
       "5    0.0148347\n",
       "Name: fold_enrichment, dtype: object"
      ]
     },
     "execution_count": 12,
     "metadata": {},
     "output_type": "execute_result"
    }
   ],
   "source": [
    "h[h['genes']=='shortest']['fold_enrichment']"
   ]
  },
  {
   "cell_type": "code",
   "execution_count": 13,
   "metadata": {},
   "outputs": [],
   "source": [
    "h.loc[:, 'joined_label'] = h.loc[:, 'genes'] + '_' + h.loc[:, 'annotation']"
   ]
  },
  {
   "cell_type": "code",
   "execution_count": 14,
   "metadata": {},
   "outputs": [],
   "source": [
    "h = h.sort_values(['genes', 'annotation'])"
   ]
  },
  {
   "cell_type": "code",
   "execution_count": 15,
   "metadata": {},
   "outputs": [],
   "source": [
    "if save_images:\n",
    "    export.export_full_frame(\n",
    "        '200130_hagr_ratio_for_short_and_long_genes/stats.csv',\n",
    "        h,\n",
    "        save_index=False\n",
    "    )"
   ]
  },
  {
   "cell_type": "code",
   "execution_count": null,
   "metadata": {},
   "outputs": [],
   "source": []
  },
  {
   "cell_type": "code",
   "execution_count": 16,
   "metadata": {},
   "outputs": [
    {
     "data": {
      "image/png": "[encoded data removed]",
      "text/plain": [
       "<Figure size 432x288 with 1 Axes>"
      ]
     },
     "metadata": {
      "needs_background": "light"
     },
     "output_type": "display_data"
    }
   ],
   "source": [
    "f = h['taxon_id']==9606\n",
    "v = h[f]['fold_enrichment']\n",
    "l = h[f]['joined_label']\n",
    "plt.barh(l, v, align='center', alpha=0.5)\n",
    "\n",
    "if save_images:\n",
    "    export.export_image(\n",
    "        '200130_hagr_ratio_for_short_and_long_genes/human.pdf'\n",
    "    )"
   ]
  },
  {
   "cell_type": "code",
   "execution_count": 17,
   "metadata": {},
   "outputs": [
    {
     "data": {
      "text/html": [
       "<div>\n",
       "<style scoped>\n",
       "    .dataframe tbody tr th:only-of-type {\n",
       "        vertical-align: middle;\n",
       "    }\n",
       "\n",
       "    .dataframe tbody tr th {\n",
       "        vertical-align: top;\n",
       "    }\n",
       "\n",
       "    .dataframe thead th {\n",
       "        text-align: right;\n",
       "    }\n",
       "</style>\n",
       "<table border=\"1\" class=\"dataframe\">\n",
       "  <thead>\n",
       "    <tr style=\"text-align: right;\">\n",
       "      <th></th>\n",
       "      <th>annotation</th>\n",
       "      <th>fold_enrichment</th>\n",
       "      <th>pvalue</th>\n",
       "      <th>bonferroni</th>\n",
       "      <th>benjamini_hochberg</th>\n",
       "      <th>in_significant</th>\n",
       "      <th>in_background</th>\n",
       "      <th>taxon_id</th>\n",
       "      <th>genes</th>\n",
       "      <th>joined_label</th>\n",
       "    </tr>\n",
       "  </thead>\n",
       "  <tbody>\n",
       "    <tr>\n",
       "      <th>3</th>\n",
       "      <td>anti_longevity</td>\n",
       "      <td>-0.4754</td>\n",
       "      <td>0.0570691</td>\n",
       "      <td>0.114138</td>\n",
       "      <td>0.0570691</td>\n",
       "      <td>30</td>\n",
       "      <td>417</td>\n",
       "      <td>9606</td>\n",
       "      <td>longest</td>\n",
       "      <td>longest_anti_longevity</td>\n",
       "    </tr>\n",
       "    <tr>\n",
       "      <th>2</th>\n",
       "      <td>pro_longevity</td>\n",
       "      <td>0.47037</td>\n",
       "      <td>0.0395208</td>\n",
       "      <td>0.0790415</td>\n",
       "      <td>0.0570691</td>\n",
       "      <td>37</td>\n",
       "      <td>267</td>\n",
       "      <td>9606</td>\n",
       "      <td>longest</td>\n",
       "      <td>longest_pro_longevity</td>\n",
       "    </tr>\n",
       "    <tr>\n",
       "      <th>1</th>\n",
       "      <td>anti_longevity</td>\n",
       "      <td>0.450599</td>\n",
       "      <td>0.0162659</td>\n",
       "      <td>0.0325319</td>\n",
       "      <td>0.0162659</td>\n",
       "      <td>57</td>\n",
       "      <td>417</td>\n",
       "      <td>9606</td>\n",
       "      <td>shortest</td>\n",
       "      <td>shortest_anti_longevity</td>\n",
       "    </tr>\n",
       "    <tr>\n",
       "      <th>0</th>\n",
       "      <td>pro_longevity</td>\n",
       "      <td>-1.03864</td>\n",
       "      <td>0.00374448</td>\n",
       "      <td>0.00748897</td>\n",
       "      <td>0.00748897</td>\n",
       "      <td>13</td>\n",
       "      <td>267</td>\n",
       "      <td>9606</td>\n",
       "      <td>shortest</td>\n",
       "      <td>shortest_pro_longevity</td>\n",
       "    </tr>\n",
       "  </tbody>\n",
       "</table>\n",
       "</div>"
      ],
      "text/plain": [
       "       annotation fold_enrichment      pvalue  bonferroni benjamini_hochberg  \\\n",
       "3  anti_longevity         -0.4754   0.0570691    0.114138          0.0570691   \n",
       "2   pro_longevity         0.47037   0.0395208   0.0790415          0.0570691   \n",
       "1  anti_longevity        0.450599   0.0162659   0.0325319          0.0162659   \n",
       "0   pro_longevity        -1.03864  0.00374448  0.00748897         0.00748897   \n",
       "\n",
       "  in_significant in_background  taxon_id     genes             joined_label  \n",
       "3             30           417      9606   longest   longest_anti_longevity  \n",
       "2             37           267      9606   longest    longest_pro_longevity  \n",
       "1             57           417      9606  shortest  shortest_anti_longevity  \n",
       "0             13           267      9606  shortest   shortest_pro_longevity  "
      ]
     },
     "execution_count": 17,
     "metadata": {},
     "output_type": "execute_result"
    }
   ],
   "source": [
    "h[f]"
   ]
  },
  {
   "cell_type": "code",
   "execution_count": null,
   "metadata": {},
   "outputs": [],
   "source": []
  },
  {
   "cell_type": "code",
   "execution_count": null,
   "metadata": {},
   "outputs": [],
   "source": []
  },
  {
   "cell_type": "code",
   "execution_count": 18,
   "metadata": {},
   "outputs": [
    {
     "data": {
      "image/png": "[encoded data removed]",
      "text/plain": [
       "<Figure size 432x288 with 1 Axes>"
      ]
     },
     "metadata": {
      "needs_background": "light"
     },
     "output_type": "display_data"
    }
   ],
   "source": [
    "f = h['taxon_id']==10090\n",
    "v = h[f]['fold_enrichment']\n",
    "l = h[f]['joined_label']\n",
    "plt.barh(l, v, align='center', alpha=0.5)\n",
    "\n",
    "if save_images:\n",
    "    export.export_image(\n",
    "        '200130_hagr_ratio_for_short_and_long_genes/mouse.pdf'\n",
    "    )"
   ]
  },
  {
   "cell_type": "code",
   "execution_count": 19,
   "metadata": {},
   "outputs": [
    {
     "data": {
      "text/html": [
       "<div>\n",
       "<style scoped>\n",
       "    .dataframe tbody tr th:only-of-type {\n",
       "        vertical-align: middle;\n",
       "    }\n",
       "\n",
       "    .dataframe tbody tr th {\n",
       "        vertical-align: top;\n",
       "    }\n",
       "\n",
       "    .dataframe thead th {\n",
       "        text-align: right;\n",
       "    }\n",
       "</style>\n",
       "<table border=\"1\" class=\"dataframe\">\n",
       "  <thead>\n",
       "    <tr style=\"text-align: right;\">\n",
       "      <th></th>\n",
       "      <th>annotation</th>\n",
       "      <th>fold_enrichment</th>\n",
       "      <th>pvalue</th>\n",
       "      <th>bonferroni</th>\n",
       "      <th>benjamini_hochberg</th>\n",
       "      <th>in_significant</th>\n",
       "      <th>in_background</th>\n",
       "      <th>taxon_id</th>\n",
       "      <th>genes</th>\n",
       "      <th>joined_label</th>\n",
       "    </tr>\n",
       "  </thead>\n",
       "  <tbody>\n",
       "    <tr>\n",
       "      <th>7</th>\n",
       "      <td>anti_longevity</td>\n",
       "      <td>-0.18548</td>\n",
       "      <td>0.563477</td>\n",
       "      <td>1</td>\n",
       "      <td>0.563477</td>\n",
       "      <td>27</td>\n",
       "      <td>307</td>\n",
       "      <td>10090</td>\n",
       "      <td>longest</td>\n",
       "      <td>longest_anti_longevity</td>\n",
       "    </tr>\n",
       "    <tr>\n",
       "      <th>6</th>\n",
       "      <td>pro_longevity</td>\n",
       "      <td>0.677871</td>\n",
       "      <td>0.00841823</td>\n",
       "      <td>0.0168365</td>\n",
       "      <td>0.0168365</td>\n",
       "      <td>32</td>\n",
       "      <td>200</td>\n",
       "      <td>10090</td>\n",
       "      <td>longest</td>\n",
       "      <td>longest_pro_longevity</td>\n",
       "    </tr>\n",
       "    <tr>\n",
       "      <th>5</th>\n",
       "      <td>anti_longevity</td>\n",
       "      <td>0.0148347</td>\n",
       "      <td>0.923389</td>\n",
       "      <td>1</td>\n",
       "      <td>0.923389</td>\n",
       "      <td>31</td>\n",
       "      <td>307</td>\n",
       "      <td>10090</td>\n",
       "      <td>shortest</td>\n",
       "      <td>shortest_anti_longevity</td>\n",
       "    </tr>\n",
       "    <tr>\n",
       "      <th>4</th>\n",
       "      <td>pro_longevity</td>\n",
       "      <td>-1.1512</td>\n",
       "      <td>0.00608579</td>\n",
       "      <td>0.0121716</td>\n",
       "      <td>0.0121716</td>\n",
       "      <td>9</td>\n",
       "      <td>200</td>\n",
       "      <td>10090</td>\n",
       "      <td>shortest</td>\n",
       "      <td>shortest_pro_longevity</td>\n",
       "    </tr>\n",
       "  </tbody>\n",
       "</table>\n",
       "</div>"
      ],
      "text/plain": [
       "       annotation fold_enrichment      pvalue bonferroni benjamini_hochberg  \\\n",
       "7  anti_longevity        -0.18548    0.563477          1           0.563477   \n",
       "6   pro_longevity        0.677871  0.00841823  0.0168365          0.0168365   \n",
       "5  anti_longevity       0.0148347    0.923389          1           0.923389   \n",
       "4   pro_longevity         -1.1512  0.00608579  0.0121716          0.0121716   \n",
       "\n",
       "  in_significant in_background  taxon_id     genes             joined_label  \n",
       "7             27           307     10090   longest   longest_anti_longevity  \n",
       "6             32           200     10090   longest    longest_pro_longevity  \n",
       "5             31           307     10090  shortest  shortest_anti_longevity  \n",
       "4              9           200     10090  shortest   shortest_pro_longevity  "
      ]
     },
     "execution_count": 19,
     "metadata": {},
     "output_type": "execute_result"
    }
   ],
   "source": [
    "h[f]"
   ]
  },
  {
   "cell_type": "code",
   "execution_count": null,
   "metadata": {},
   "outputs": [],
   "source": []
  },
  {
   "cell_type": "code",
   "execution_count": null,
   "metadata": {},
   "outputs": [],
   "source": []
  },
  {
   "cell_type": "code",
   "execution_count": null,
   "metadata": {},
   "outputs": [],
   "source": []
  },
  {
   "cell_type": "code",
   "execution_count": null,
   "metadata": {},
   "outputs": [],
   "source": []
  },
  {
   "cell_type": "code",
   "execution_count": null,
   "metadata": {},
   "outputs": [],
   "source": []
  }
 ],
 "metadata": {
  "kernelspec": {
   "display_name": "Python 3",
   "language": "python",
   "name": "python3"
  },
  "language_info": {
   "codemirror_mode": {
    "name": "ipython",
    "version": 3
   },
   "file_extension": ".py",
   "mimetype": "text/x-python",
   "name": "python",
   "nbconvert_exporter": "python",
   "pygments_lexer": "ipython3",
   "version": "3.7.3"
  }
 },
 "nbformat": 4,
 "nbformat_minor": 2
}
