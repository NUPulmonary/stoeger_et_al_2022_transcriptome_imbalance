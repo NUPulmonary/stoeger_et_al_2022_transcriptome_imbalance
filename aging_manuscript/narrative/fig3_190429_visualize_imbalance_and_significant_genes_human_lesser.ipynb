{
 "cells": [
  {
   "cell_type": "code",
   "execution_count": 1,
   "metadata": {},
   "outputs": [],
   "source": [
    "%matplotlib inline\n",
    "%reload_ext autoreload\n",
    "%autoreload 2"
   ]
  },
  {
   "cell_type": "code",
   "execution_count": 2,
   "metadata": {},
   "outputs": [],
   "source": [
    "import matplotlib as mpl\n",
    "mpl.rcParams['pdf.fonttype'] = 42\n",
    "mpl.rcParams['font.family'] = 'Arial'"
   ]
  },
  {
   "cell_type": "code",
   "execution_count": 3,
   "metadata": {},
   "outputs": [],
   "source": [
    "import os\n",
    "import sys\n",
    "\n",
    "src_dir = './../../src/'\n",
    "sys.path[0] = src_dir\n",
    "\n",
    "import matplotlib.pyplot as plt\n",
    "\n",
    "import glob\n",
    "\n",
    "import numpy as np\n",
    "import pandas as pd\n",
    "import seaborn as sns\n",
    "\n",
    "from collections import OrderedDict\n",
    "\n",
    "from access_biology_data import meta, relations, properties\n",
    "from access_literature_data import medline\n",
    "from access_science_shared import standardizer "
   ]
  },
  {
   "cell_type": "code",
   "execution_count": 4,
   "metadata": {},
   "outputs": [],
   "source": [
    "sys.path.append('./../src/')\n",
    "from aging_tools import inout, export\n",
    "from access_aging_data import earlier_studies, chaperome, companions, sequencing"
   ]
  },
  {
   "cell_type": "code",
   "execution_count": 5,
   "metadata": {},
   "outputs": [],
   "source": [
    "from narrative import nar181026_heat_confidence_genes\n",
    "# from narrative import nar181101_single_cell\n",
    "from narrative import nar181205_networks"
   ]
  },
  {
   "cell_type": "code",
   "execution_count": 6,
   "metadata": {},
   "outputs": [],
   "source": [
    "from scipy.stats import spearmanr"
   ]
  },
  {
   "cell_type": "code",
   "execution_count": 7,
   "metadata": {},
   "outputs": [],
   "source": [
    "save_images = False"
   ]
  },
  {
   "cell_type": "code",
   "execution_count": 8,
   "metadata": {},
   "outputs": [
    {
     "name": "stderr",
     "output_type": "stream",
     "text": [
      "/Users/tstoeger/opt/miniconda3/envs/aging/lib/python3.7/site-packages/fastparquet/dataframe.py:5: FutureWarning: pandas.core.index is deprecated and will be removed in a future version.  The public classes are available in the top-level namespace.\n",
      "  from pandas.core.index import CategoricalIndex, RangeIndex, Index, MultiIndex\n"
     ]
    }
   ],
   "source": [
    "ref_genes = standardizer.reference_genes(9606, 'orp')\n",
    "\n",
    "pr = properties.genbank_validated_rna(9606)[['gene_ncbi', 'Genbank_validated_RNA: full_SumACGT']].rename(columns={\n",
    "    'Genbank_validated_RNA: full_SumACGT': 'length'\n",
    "})\n",
    "\n",
    "pr.loc[:, 'log_length'] = np.log10(pr['length'])"
   ]
  },
  {
   "cell_type": "code",
   "execution_count": 9,
   "metadata": {},
   "outputs": [],
   "source": [
    "# agg = []\n",
    "\n",
    "# stem = inout.get_internal_path('datasets/tstoeger/190318_from_gtex_by_rgrant')\n",
    "\n",
    "# g = pd.Series(glob.glob(\n",
    "#     '{}/*'.format(stem))).to_frame('path')\n",
    "# g['file'] = g['path'].str.extract('.*/(.*)$')\n",
    "# g['gender'] = g['file'].str.extract('190503GTEx_Science_2015_(.*)_subregion')\n",
    "# g['region'] = g['file'].str.extract('190503GTEx_Science_2015_.*_subregion_(.*)_subset')\n",
    "\n",
    "\n",
    "# for j in g.index:\n",
    "#     p = '{}/{}*'.format(os.path.join(stem, g.loc[j, 'file']),g.loc[j, 'file'])\n",
    "    \n",
    "#     curr_gender = g.loc[j, 'gender']\n",
    "#     curr_region = g.loc[j, 'region']\n",
    "    \n",
    "#     h = glob.glob(p)\n",
    "\n",
    "#     if len(h)>0:\n",
    "#         h = pd.Series(glob.glob(p)).to_frame('path')\n",
    "#         h['file'] = h['path'].str.extract('.*/(.*)$')\n",
    "#         h['older'] = h['file'].str.extract('.*_([0-9]*)_vs_[0-9]*_dge.csv').astype(float)\n",
    "#         h['younger'] = h['file'].str.extract('.*_[0-9]*_vs_([0-9]*)_dge.csv').astype(float)\n",
    "\n",
    "#         for jj in h.index:\n",
    "#             df = pd.read_csv(\n",
    "#                 h.loc[jj, 'path'],\n",
    "#                 usecols=['entrezgene', 'log2FoldChange', 'padj']\n",
    "#             ).dropna(\n",
    "#                 subset=['padj']\n",
    "#             ).rename(columns={'entrezgene': 'gene_ncbi'})\n",
    "            \n",
    "#             df.loc[:, 'significant'] = df.loc[:, 'padj'] < 0.05\n",
    "\n",
    "#             df = df[df['gene_ncbi'].isin(ref_genes)]\n",
    "#             df = pd.merge(df, pr)\n",
    "#             r, p = spearmanr(df['log2FoldChange'], df['length'])\n",
    "            \n",
    "#             stats = dict()\n",
    "#             stats['gender'] = curr_gender\n",
    "#             stats['region'] = curr_region\n",
    "#             stats['rho'] = r\n",
    "#             stats['pval'] = p\n",
    "#             stats['younger'] = h.loc[jj, 'younger']\n",
    "#             stats['older'] = h.loc[jj, 'older']\n",
    "#             stats['significant'] = df['significant'].sum()\n",
    "            \n",
    "#             agg.append(stats)\n",
    "\n",
    "# master = pd.DataFrame(agg)\n",
    "\n",
    "# f = master['region'].str.startswith('Cells')\n",
    "\n",
    "# master = master[~f]"
   ]
  },
  {
   "cell_type": "code",
   "execution_count": 10,
   "metadata": {},
   "outputs": [],
   "source": [
    "# master['condition'] =  master['gender'] + '_' + master['region'] + '_' + \\\n",
    "#                   master['older'].astype(int).astype(str) + \\\n",
    "#                   '_vs_' + master['younger'].astype(int).astype(str)\n",
    "\n",
    "# # all_de = master.copy()"
   ]
  },
  {
   "cell_type": "code",
   "execution_count": 11,
   "metadata": {},
   "outputs": [],
   "source": [
    "# p = export.get_material_path('190428_chache_tstoeger_190427_gtex_with_tilt/all_de.csv')\n",
    "# all_de = pd.read_csv(p).dropna(subset=['padj'])"
   ]
  },
  {
   "cell_type": "code",
   "execution_count": 12,
   "metadata": {},
   "outputs": [],
   "source": [
    "p = export.get_material_path('190428_chache_tstoeger_190427_gtex_with_tilt/stats_on_imbalance.xlsx')\n",
    "tilt = pd.read_excel(p)"
   ]
  },
  {
   "cell_type": "code",
   "execution_count": 13,
   "metadata": {},
   "outputs": [
    {
     "data": {
      "text/html": [
       "<div>\n",
       "<style scoped>\n",
       "    .dataframe tbody tr th:only-of-type {\n",
       "        vertical-align: middle;\n",
       "    }\n",
       "\n",
       "    .dataframe tbody tr th {\n",
       "        vertical-align: top;\n",
       "    }\n",
       "\n",
       "    .dataframe thead th {\n",
       "        text-align: right;\n",
       "    }\n",
       "</style>\n",
       "<table border=\"1\" class=\"dataframe\">\n",
       "  <thead>\n",
       "    <tr style=\"text-align: right;\">\n",
       "      <th></th>\n",
       "      <th>condition</th>\n",
       "      <th>tilt</th>\n",
       "      <th>pval</th>\n",
       "      <th>tilt_orp</th>\n",
       "      <th>pval_orp</th>\n",
       "      <th>gender</th>\n",
       "      <th>tissue</th>\n",
       "      <th>younger</th>\n",
       "      <th>older</th>\n",
       "    </tr>\n",
       "  </thead>\n",
       "  <tbody>\n",
       "    <tr>\n",
       "      <th>0</th>\n",
       "      <td>females_Adipose_Subcutaneous_3_vs_2</td>\n",
       "      <td>0.210298</td>\n",
       "      <td>2.384289e-172</td>\n",
       "      <td>0.212675</td>\n",
       "      <td>1.699691e-175</td>\n",
       "      <td>female</td>\n",
       "      <td>Adipose - Subcutaneous</td>\n",
       "      <td>2</td>\n",
       "      <td>3</td>\n",
       "    </tr>\n",
       "    <tr>\n",
       "      <th>1</th>\n",
       "      <td>females_Adipose_Subcutaneous_4_vs_2</td>\n",
       "      <td>0.146914</td>\n",
       "      <td>2.880636e-84</td>\n",
       "      <td>0.147476</td>\n",
       "      <td>1.654229e-84</td>\n",
       "      <td>female</td>\n",
       "      <td>Adipose - Subcutaneous</td>\n",
       "      <td>2</td>\n",
       "      <td>4</td>\n",
       "    </tr>\n",
       "    <tr>\n",
       "      <th>2</th>\n",
       "      <td>females_Adipose_Subcutaneous_4_vs_3</td>\n",
       "      <td>-0.115481</td>\n",
       "      <td>1.456786e-52</td>\n",
       "      <td>-0.117334</td>\n",
       "      <td>5.719052e-54</td>\n",
       "      <td>female</td>\n",
       "      <td>Adipose - Subcutaneous</td>\n",
       "      <td>3</td>\n",
       "      <td>4</td>\n",
       "    </tr>\n",
       "    <tr>\n",
       "      <th>3</th>\n",
       "      <td>females_Adipose_Subcutaneous_5_vs_2</td>\n",
       "      <td>0.071833</td>\n",
       "      <td>2.592071e-21</td>\n",
       "      <td>0.072112</td>\n",
       "      <td>2.264565e-21</td>\n",
       "      <td>female</td>\n",
       "      <td>Adipose - Subcutaneous</td>\n",
       "      <td>2</td>\n",
       "      <td>5</td>\n",
       "    </tr>\n",
       "    <tr>\n",
       "      <th>4</th>\n",
       "      <td>females_Adipose_Subcutaneous_5_vs_3</td>\n",
       "      <td>-0.180310</td>\n",
       "      <td>6.988833e-127</td>\n",
       "      <td>-0.182700</td>\n",
       "      <td>1.148451e-129</td>\n",
       "      <td>female</td>\n",
       "      <td>Adipose - Subcutaneous</td>\n",
       "      <td>3</td>\n",
       "      <td>5</td>\n",
       "    </tr>\n",
       "  </tbody>\n",
       "</table>\n",
       "</div>"
      ],
      "text/plain": [
       "                             condition      tilt           pval  tilt_orp  \\\n",
       "0  females_Adipose_Subcutaneous_3_vs_2  0.210298  2.384289e-172  0.212675   \n",
       "1  females_Adipose_Subcutaneous_4_vs_2  0.146914   2.880636e-84  0.147476   \n",
       "2  females_Adipose_Subcutaneous_4_vs_3 -0.115481   1.456786e-52 -0.117334   \n",
       "3  females_Adipose_Subcutaneous_5_vs_2  0.071833   2.592071e-21  0.072112   \n",
       "4  females_Adipose_Subcutaneous_5_vs_3 -0.180310  6.988833e-127 -0.182700   \n",
       "\n",
       "        pval_orp  gender                  tissue  younger  older  \n",
       "0  1.699691e-175  female  Adipose - Subcutaneous        2      3  \n",
       "1   1.654229e-84  female  Adipose - Subcutaneous        2      4  \n",
       "2   5.719052e-54  female  Adipose - Subcutaneous        3      4  \n",
       "3   2.264565e-21  female  Adipose - Subcutaneous        2      5  \n",
       "4  1.148451e-129  female  Adipose - Subcutaneous        3      5  "
      ]
     },
     "execution_count": 13,
     "metadata": {},
     "output_type": "execute_result"
    }
   ],
   "source": [
    "tilt.head()"
   ]
  },
  {
   "cell_type": "code",
   "execution_count": 14,
   "metadata": {},
   "outputs": [],
   "source": [
    "tilt = tilt.rename(columns={'tilt': 'rho'})"
   ]
  },
  {
   "cell_type": "code",
   "execution_count": 15,
   "metadata": {},
   "outputs": [],
   "source": [
    "# tilt = master.copy()"
   ]
  },
  {
   "cell_type": "code",
   "execution_count": 16,
   "metadata": {},
   "outputs": [],
   "source": [
    "p = export.get_material_path('190428_chache_tstoeger_190427_gtex_with_tilt/all_de.csv')\n",
    "all_de = pd.read_csv(p).dropna(subset=['padj'])"
   ]
  },
  {
   "cell_type": "code",
   "execution_count": 17,
   "metadata": {},
   "outputs": [],
   "source": [
    "all_de.loc[:, 'reduced_tissue'] = all_de['tissue'].str.replace(\n",
    "    ' - ', '_').str.replace(' ', '_').str.replace(\n",
    "    '-', '_').str.replace('(','').str.replace(')', '')\n",
    "\n",
    "all_de.loc[:, 'condition'] = all_de.loc[:, 'gender'] + 's_' + all_de['reduced_tissue'] + '_' + \\\n",
    "    all_de['older'].astype(int).astype(str) + '_vs_' + all_de['younger'].astype(int).astype(str)"
   ]
  },
  {
   "cell_type": "code",
   "execution_count": 18,
   "metadata": {},
   "outputs": [],
   "source": [
    "# agg = []\n",
    "\n",
    "# stem = inout.get_internal_path('datasets/tstoeger/190318_from_gtex_by_rgrant')\n",
    "\n",
    "# g = pd.Series(glob.glob(\n",
    "#     '{}/*'.format(stem))).to_frame('path')\n",
    "# g['file'] = g['path'].str.extract('.*/(.*)$')\n",
    "# g['gender'] = g['file'].str.extract('190503GTEx_Science_2015_(.*)_subregion')\n",
    "# g['region'] = g['file'].str.extract('190503GTEx_Science_2015_.*_subregion_(.*)_subset')\n",
    "\n",
    "\n",
    "# for j in g.index:\n",
    "#     p = '{}/{}*'.format(os.path.join(stem, g.loc[j, 'file']),g.loc[j, 'file'])\n",
    "    \n",
    "#     curr_gender = g.loc[j, 'gender']\n",
    "#     curr_region = g.loc[j, 'region']\n",
    "    \n",
    "#     h = glob.glob(p)\n",
    "\n",
    "#     if len(h)>0:\n",
    "#         h = pd.Series(glob.glob(p)).to_frame('path')\n",
    "#         h['file'] = h['path'].str.extract('.*/(.*)$')\n",
    "#         h['older'] = h['file'].str.extract('.*_([0-9]*)_vs_[0-9]*_dge.csv').astype(float)\n",
    "#         h['younger'] = h['file'].str.extract('.*_[0-9]*_vs_([0-9]*)_dge.csv').astype(float)\n",
    "\n",
    "#         for jj in h.index:\n",
    "#             df = pd.read_csv(\n",
    "#                 h.loc[jj, 'path'],\n",
    "#                 usecols=['entrezgene', 'log2FoldChange', 'padj']\n",
    "#             ).dropna(\n",
    "#                 subset=['padj']\n",
    "#             ).rename(columns={'entrezgene': 'gene_ncbi'})\n",
    "            \n",
    "#             df.loc[:, 'significant'] = df.loc[:, 'padj'] < 0.05\n",
    "\n",
    "#             df = df[df['gene_ncbi'].isin(ref_genes)]\n",
    "            \n",
    "#             if df.shape[0] > 0:\n",
    "\n",
    "#                 df.loc[:, 'gender'] = curr_gender\n",
    "#                 df.loc[:, 'region'] = curr_region\n",
    "#                 df['younger'] = h.loc[jj, 'younger']\n",
    "#                 df['older'] = h.loc[jj, 'older']\n",
    "\n",
    "#                 agg.append(df)\n",
    "                \n",
    "# master = pd.concat(agg) \n",
    "# master['condition'] =  master['gender'] + '_' + master['region'] + '_' + \\\n",
    "#       master['older'].astype(int).astype(str) + \\\n",
    "#       '_vs_' + master['younger'].astype(int).astype(str)\n",
    "\n",
    "# all_de = master.copy()    "
   ]
  },
  {
   "cell_type": "code",
   "execution_count": null,
   "metadata": {},
   "outputs": [],
   "source": []
  },
  {
   "cell_type": "code",
   "execution_count": null,
   "metadata": {},
   "outputs": [],
   "source": []
  },
  {
   "cell_type": "code",
   "execution_count": null,
   "metadata": {},
   "outputs": [],
   "source": []
  },
  {
   "cell_type": "code",
   "execution_count": null,
   "metadata": {},
   "outputs": [],
   "source": []
  },
  {
   "cell_type": "code",
   "execution_count": 19,
   "metadata": {},
   "outputs": [
    {
     "data": {
      "text/html": [
       "<div>\n",
       "<style scoped>\n",
       "    .dataframe tbody tr th:only-of-type {\n",
       "        vertical-align: middle;\n",
       "    }\n",
       "\n",
       "    .dataframe tbody tr th {\n",
       "        vertical-align: top;\n",
       "    }\n",
       "\n",
       "    .dataframe thead th {\n",
       "        text-align: right;\n",
       "    }\n",
       "</style>\n",
       "<table border=\"1\" class=\"dataframe\">\n",
       "  <thead>\n",
       "    <tr style=\"text-align: right;\">\n",
       "      <th></th>\n",
       "      <th>condition</th>\n",
       "      <th>rho</th>\n",
       "      <th>pval</th>\n",
       "      <th>tilt_orp</th>\n",
       "      <th>pval_orp</th>\n",
       "      <th>gender</th>\n",
       "      <th>tissue</th>\n",
       "      <th>younger</th>\n",
       "      <th>older</th>\n",
       "    </tr>\n",
       "  </thead>\n",
       "  <tbody>\n",
       "    <tr>\n",
       "      <th>161</th>\n",
       "      <td>females_Brain_Frontal_Cortex_BA9_5_vs_3</td>\n",
       "      <td>-0.401803</td>\n",
       "      <td>0.000000e+00</td>\n",
       "      <td>-0.403624</td>\n",
       "      <td>0.000000e+00</td>\n",
       "      <td>female</td>\n",
       "      <td>Brain - Frontal Cortex (BA9)</td>\n",
       "      <td>3</td>\n",
       "      <td>5</td>\n",
       "    </tr>\n",
       "    <tr>\n",
       "      <th>163</th>\n",
       "      <td>females_Brain_Frontal_Cortex_BA9_6_vs_3</td>\n",
       "      <td>-0.374689</td>\n",
       "      <td>0.000000e+00</td>\n",
       "      <td>-0.376297</td>\n",
       "      <td>0.000000e+00</td>\n",
       "      <td>female</td>\n",
       "      <td>Brain - Frontal Cortex (BA9)</td>\n",
       "      <td>3</td>\n",
       "      <td>6</td>\n",
       "    </tr>\n",
       "    <tr>\n",
       "      <th>757</th>\n",
       "      <td>males_Brain_Nucleus_accumbens_basal_ganglia_7_...</td>\n",
       "      <td>-0.364078</td>\n",
       "      <td>0.000000e+00</td>\n",
       "      <td>-0.364790</td>\n",
       "      <td>0.000000e+00</td>\n",
       "      <td>male</td>\n",
       "      <td>Brain - Nucleus accumbens (basal ganglia)</td>\n",
       "      <td>5</td>\n",
       "      <td>7</td>\n",
       "    </tr>\n",
       "    <tr>\n",
       "      <th>756</th>\n",
       "      <td>males_Brain_Nucleus_accumbens_basal_ganglia_7_...</td>\n",
       "      <td>-0.361873</td>\n",
       "      <td>0.000000e+00</td>\n",
       "      <td>-0.362477</td>\n",
       "      <td>0.000000e+00</td>\n",
       "      <td>male</td>\n",
       "      <td>Brain - Nucleus accumbens (basal ganglia)</td>\n",
       "      <td>4</td>\n",
       "      <td>7</td>\n",
       "    </tr>\n",
       "    <tr>\n",
       "      <th>162</th>\n",
       "      <td>females_Brain_Frontal_Cortex_BA9_5_vs_4</td>\n",
       "      <td>-0.357576</td>\n",
       "      <td>0.000000e+00</td>\n",
       "      <td>-0.359229</td>\n",
       "      <td>0.000000e+00</td>\n",
       "      <td>female</td>\n",
       "      <td>Brain - Frontal Cortex (BA9)</td>\n",
       "      <td>4</td>\n",
       "      <td>5</td>\n",
       "    </tr>\n",
       "    <tr>\n",
       "      <th>...</th>\n",
       "      <td>...</td>\n",
       "      <td>...</td>\n",
       "      <td>...</td>\n",
       "      <td>...</td>\n",
       "      <td>...</td>\n",
       "      <td>...</td>\n",
       "      <td>...</td>\n",
       "      <td>...</td>\n",
       "      <td>...</td>\n",
       "    </tr>\n",
       "    <tr>\n",
       "      <th>320</th>\n",
       "      <td>females_Heart_Atrial_Appendage_6_vs_5</td>\n",
       "      <td>0.242893</td>\n",
       "      <td>1.423385e-231</td>\n",
       "      <td>0.243039</td>\n",
       "      <td>9.568915e-231</td>\n",
       "      <td>female</td>\n",
       "      <td>Heart - Atrial Appendage</td>\n",
       "      <td>5</td>\n",
       "      <td>6</td>\n",
       "    </tr>\n",
       "    <tr>\n",
       "      <th>165</th>\n",
       "      <td>females_Brain_Frontal_Cortex_BA9_6_vs_5</td>\n",
       "      <td>0.259514</td>\n",
       "      <td>1.125529e-264</td>\n",
       "      <td>0.260273</td>\n",
       "      <td>4.934263e-265</td>\n",
       "      <td>female</td>\n",
       "      <td>Brain - Frontal Cortex (BA9)</td>\n",
       "      <td>5</td>\n",
       "      <td>6</td>\n",
       "    </tr>\n",
       "    <tr>\n",
       "      <th>1049</th>\n",
       "      <td>males_Skin_Sun_Exposed_Lower_leg_7_vs_6</td>\n",
       "      <td>0.262777</td>\n",
       "      <td>7.465161e-273</td>\n",
       "      <td>0.263265</td>\n",
       "      <td>1.389252e-272</td>\n",
       "      <td>male</td>\n",
       "      <td>Skin - Sun Exposed (Lower leg)</td>\n",
       "      <td>6</td>\n",
       "      <td>7</td>\n",
       "    </tr>\n",
       "    <tr>\n",
       "      <th>124</th>\n",
       "      <td>females_Brain_Cerebellar_Hemisphere_6_vs_5</td>\n",
       "      <td>0.274352</td>\n",
       "      <td>6.353944e-296</td>\n",
       "      <td>0.276232</td>\n",
       "      <td>1.029915e-298</td>\n",
       "      <td>female</td>\n",
       "      <td>Brain - Cerebellar Hemisphere</td>\n",
       "      <td>5</td>\n",
       "      <td>6</td>\n",
       "    </tr>\n",
       "    <tr>\n",
       "      <th>624</th>\n",
       "      <td>males_Artery_Tibial_4_vs_3</td>\n",
       "      <td>0.293961</td>\n",
       "      <td>0.000000e+00</td>\n",
       "      <td>0.294555</td>\n",
       "      <td>0.000000e+00</td>\n",
       "      <td>male</td>\n",
       "      <td>Artery - Tibial</td>\n",
       "      <td>3</td>\n",
       "      <td>4</td>\n",
       "    </tr>\n",
       "  </tbody>\n",
       "</table>\n",
       "<p>1135 rows × 9 columns</p>\n",
       "</div>"
      ],
      "text/plain": [
       "                                              condition       rho  \\\n",
       "161             females_Brain_Frontal_Cortex_BA9_5_vs_3 -0.401803   \n",
       "163             females_Brain_Frontal_Cortex_BA9_6_vs_3 -0.374689   \n",
       "757   males_Brain_Nucleus_accumbens_basal_ganglia_7_... -0.364078   \n",
       "756   males_Brain_Nucleus_accumbens_basal_ganglia_7_... -0.361873   \n",
       "162             females_Brain_Frontal_Cortex_BA9_5_vs_4 -0.357576   \n",
       "...                                                 ...       ...   \n",
       "320               females_Heart_Atrial_Appendage_6_vs_5  0.242893   \n",
       "165             females_Brain_Frontal_Cortex_BA9_6_vs_5  0.259514   \n",
       "1049            males_Skin_Sun_Exposed_Lower_leg_7_vs_6  0.262777   \n",
       "124          females_Brain_Cerebellar_Hemisphere_6_vs_5  0.274352   \n",
       "624                          males_Artery_Tibial_4_vs_3  0.293961   \n",
       "\n",
       "               pval  tilt_orp       pval_orp  gender  \\\n",
       "161    0.000000e+00 -0.403624   0.000000e+00  female   \n",
       "163    0.000000e+00 -0.376297   0.000000e+00  female   \n",
       "757    0.000000e+00 -0.364790   0.000000e+00    male   \n",
       "756    0.000000e+00 -0.362477   0.000000e+00    male   \n",
       "162    0.000000e+00 -0.359229   0.000000e+00  female   \n",
       "...             ...       ...            ...     ...   \n",
       "320   1.423385e-231  0.243039  9.568915e-231  female   \n",
       "165   1.125529e-264  0.260273  4.934263e-265  female   \n",
       "1049  7.465161e-273  0.263265  1.389252e-272    male   \n",
       "124   6.353944e-296  0.276232  1.029915e-298  female   \n",
       "624    0.000000e+00  0.294555   0.000000e+00    male   \n",
       "\n",
       "                                         tissue  younger  older  \n",
       "161                Brain - Frontal Cortex (BA9)        3      5  \n",
       "163                Brain - Frontal Cortex (BA9)        3      6  \n",
       "757   Brain - Nucleus accumbens (basal ganglia)        5      7  \n",
       "756   Brain - Nucleus accumbens (basal ganglia)        4      7  \n",
       "162                Brain - Frontal Cortex (BA9)        4      5  \n",
       "...                                         ...      ...    ...  \n",
       "320                    Heart - Atrial Appendage        5      6  \n",
       "165                Brain - Frontal Cortex (BA9)        5      6  \n",
       "1049             Skin - Sun Exposed (Lower leg)        6      7  \n",
       "124               Brain - Cerebellar Hemisphere        5      6  \n",
       "624                             Artery - Tibial        3      4  \n",
       "\n",
       "[1135 rows x 9 columns]"
      ]
     },
     "execution_count": 19,
     "metadata": {},
     "output_type": "execute_result"
    }
   ],
   "source": [
    "tilt.sort_values('rho', ascending=True)"
   ]
  },
  {
   "cell_type": "code",
   "execution_count": null,
   "metadata": {},
   "outputs": [],
   "source": []
  },
  {
   "cell_type": "code",
   "execution_count": null,
   "metadata": {},
   "outputs": [],
   "source": []
  },
  {
   "cell_type": "code",
   "execution_count": null,
   "metadata": {},
   "outputs": [],
   "source": []
  },
  {
   "cell_type": "code",
   "execution_count": null,
   "metadata": {},
   "outputs": [],
   "source": []
  },
  {
   "cell_type": "code",
   "execution_count": 20,
   "metadata": {},
   "outputs": [],
   "source": [
    "# all_de, detection, mice_in_comparisons, triplicate_series = nar181026_heat_confidence_genes.load_detection(\n",
    "#     detection_column='padj')\n",
    "\n",
    "\n",
    "# tissues_to_consider = ['BAT', 'Blood', 'GutEP', 'MuscSat', 'Adrenal', 'Kidney',\n",
    "#        'Heart', 'Liver', 'Skin', 'Stomach', 'Brain', 'SI',\n",
    "#        'LI', 'Cerebellum', 'WAT', 'Esophagus', 'Lung'] \n",
    "\n",
    "# all_de = all_de[(all_de['tissue'].isin(tissues_to_consider)) & (all_de['pfu']==0)]\n",
    "\n",
    "# prime_genes = nar181101_single_cell.prime_genes(all_de, tissues=tissues_to_consider, pfus=[0])"
   ]
  },
  {
   "cell_type": "code",
   "execution_count": 21,
   "metadata": {},
   "outputs": [],
   "source": [
    "# pr = properties.genbank_validated_rna(10090)[['gene_ncbi', 'Genbank_validated_RNA: full_SumACGT']].rename(columns={\n",
    "#     'Genbank_validated_RNA: full_SumACGT': 'length'\n",
    "# })\n",
    "\n",
    "# pr.loc[:, 'log_length'] = np.log10(pr['length'])"
   ]
  },
  {
   "cell_type": "code",
   "execution_count": 22,
   "metadata": {},
   "outputs": [],
   "source": [
    "from natsort import natsorted"
   ]
  },
  {
   "cell_type": "code",
   "execution_count": 23,
   "metadata": {},
   "outputs": [],
   "source": [
    "conditions = natsorted(all_de['condition'].unique())"
   ]
  },
  {
   "cell_type": "code",
   "execution_count": 24,
   "metadata": {},
   "outputs": [],
   "source": [
    "condition = 'males_Brain_Frontal_Cortex_BA9_7_vs_2'  # 'males_Brain_Cerebellar_Hemisphere_5_vs_2' # 'males_Heart_Left_Ventricle_6_vs_4' #"
   ]
  },
  {
   "cell_type": "code",
   "execution_count": 25,
   "metadata": {},
   "outputs": [
    {
     "data": {
      "text/html": [
       "<div>\n",
       "<style scoped>\n",
       "    .dataframe tbody tr th:only-of-type {\n",
       "        vertical-align: middle;\n",
       "    }\n",
       "\n",
       "    .dataframe tbody tr th {\n",
       "        vertical-align: top;\n",
       "    }\n",
       "\n",
       "    .dataframe thead th {\n",
       "        text-align: right;\n",
       "    }\n",
       "</style>\n",
       "<table border=\"1\" class=\"dataframe\">\n",
       "  <thead>\n",
       "    <tr style=\"text-align: right;\">\n",
       "      <th></th>\n",
       "      <th>gene_ncbi</th>\n",
       "      <th>o_over_y</th>\n",
       "      <th>pvalue</th>\n",
       "      <th>padj</th>\n",
       "      <th>tissue</th>\n",
       "      <th>younger</th>\n",
       "      <th>older</th>\n",
       "      <th>gender</th>\n",
       "      <th>reduced_tissue</th>\n",
       "      <th>condition</th>\n",
       "    </tr>\n",
       "  </thead>\n",
       "  <tbody>\n",
       "    <tr>\n",
       "      <th>0</th>\n",
       "      <td>5266</td>\n",
       "      <td>-0.507525</td>\n",
       "      <td>0.204765</td>\n",
       "      <td>0.492253</td>\n",
       "      <td>Adipose - Subcutaneous</td>\n",
       "      <td>2.0</td>\n",
       "      <td>3.0</td>\n",
       "      <td>male</td>\n",
       "      <td>Adipose_Subcutaneous</td>\n",
       "      <td>males_Adipose_Subcutaneous_3_vs_2</td>\n",
       "    </tr>\n",
       "    <tr>\n",
       "      <th>1</th>\n",
       "      <td>2070</td>\n",
       "      <td>1.157510</td>\n",
       "      <td>0.000066</td>\n",
       "      <td>0.012469</td>\n",
       "      <td>Adipose - Subcutaneous</td>\n",
       "      <td>2.0</td>\n",
       "      <td>3.0</td>\n",
       "      <td>male</td>\n",
       "      <td>Adipose_Subcutaneous</td>\n",
       "      <td>males_Adipose_Subcutaneous_3_vs_2</td>\n",
       "    </tr>\n",
       "    <tr>\n",
       "      <th>2</th>\n",
       "      <td>1149</td>\n",
       "      <td>-0.213831</td>\n",
       "      <td>0.579361</td>\n",
       "      <td>0.804020</td>\n",
       "      <td>Adipose - Subcutaneous</td>\n",
       "      <td>2.0</td>\n",
       "      <td>3.0</td>\n",
       "      <td>male</td>\n",
       "      <td>Adipose_Subcutaneous</td>\n",
       "      <td>males_Adipose_Subcutaneous_3_vs_2</td>\n",
       "    </tr>\n",
       "    <tr>\n",
       "      <th>4</th>\n",
       "      <td>4327</td>\n",
       "      <td>-0.051246</td>\n",
       "      <td>0.859720</td>\n",
       "      <td>0.949977</td>\n",
       "      <td>Adipose - Subcutaneous</td>\n",
       "      <td>2.0</td>\n",
       "      <td>3.0</td>\n",
       "      <td>male</td>\n",
       "      <td>Adipose_Subcutaneous</td>\n",
       "      <td>males_Adipose_Subcutaneous_3_vs_2</td>\n",
       "    </tr>\n",
       "    <tr>\n",
       "      <th>5</th>\n",
       "      <td>9136</td>\n",
       "      <td>-0.442423</td>\n",
       "      <td>0.017723</td>\n",
       "      <td>0.147885</td>\n",
       "      <td>Adipose - Subcutaneous</td>\n",
       "      <td>2.0</td>\n",
       "      <td>3.0</td>\n",
       "      <td>male</td>\n",
       "      <td>Adipose_Subcutaneous</td>\n",
       "      <td>males_Adipose_Subcutaneous_3_vs_2</td>\n",
       "    </tr>\n",
       "  </tbody>\n",
       "</table>\n",
       "</div>"
      ],
      "text/plain": [
       "   gene_ncbi  o_over_y    pvalue      padj                  tissue  younger  \\\n",
       "0       5266 -0.507525  0.204765  0.492253  Adipose - Subcutaneous      2.0   \n",
       "1       2070  1.157510  0.000066  0.012469  Adipose - Subcutaneous      2.0   \n",
       "2       1149 -0.213831  0.579361  0.804020  Adipose - Subcutaneous      2.0   \n",
       "4       4327 -0.051246  0.859720  0.949977  Adipose - Subcutaneous      2.0   \n",
       "5       9136 -0.442423  0.017723  0.147885  Adipose - Subcutaneous      2.0   \n",
       "\n",
       "   older gender        reduced_tissue                          condition  \n",
       "0    3.0   male  Adipose_Subcutaneous  males_Adipose_Subcutaneous_3_vs_2  \n",
       "1    3.0   male  Adipose_Subcutaneous  males_Adipose_Subcutaneous_3_vs_2  \n",
       "2    3.0   male  Adipose_Subcutaneous  males_Adipose_Subcutaneous_3_vs_2  \n",
       "4    3.0   male  Adipose_Subcutaneous  males_Adipose_Subcutaneous_3_vs_2  \n",
       "5    3.0   male  Adipose_Subcutaneous  males_Adipose_Subcutaneous_3_vs_2  "
      ]
     },
     "execution_count": 25,
     "metadata": {},
     "output_type": "execute_result"
    }
   ],
   "source": [
    "all_de.head()"
   ]
  },
  {
   "cell_type": "code",
   "execution_count": null,
   "metadata": {},
   "outputs": [],
   "source": []
  },
  {
   "cell_type": "code",
   "execution_count": 26,
   "metadata": {},
   "outputs": [],
   "source": [
    "d = all_de[\n",
    "    (all_de['condition']==condition) & \n",
    "    (all_de['gene_ncbi'].isin(ref_genes))\n",
    "].rename(columns={'log2FoldChange': 'o_over_y'})"
   ]
  },
  {
   "cell_type": "code",
   "execution_count": null,
   "metadata": {},
   "outputs": [],
   "source": []
  },
  {
   "cell_type": "code",
   "execution_count": 27,
   "metadata": {},
   "outputs": [],
   "source": [
    "e = pd.merge(d[['gene_ncbi', 'o_over_y', 'padj']], pr[['gene_ncbi', 'log_length']])"
   ]
  },
  {
   "cell_type": "code",
   "execution_count": 28,
   "metadata": {},
   "outputs": [],
   "source": [
    "e.loc[:, 'is_significant'] = e['padj'] < 0.05"
   ]
  },
  {
   "cell_type": "code",
   "execution_count": null,
   "metadata": {},
   "outputs": [],
   "source": []
  },
  {
   "cell_type": "code",
   "execution_count": 29,
   "metadata": {},
   "outputs": [
    {
     "data": {
      "image/png": "[encoded data removed]",
      "text/plain": [
       "<Figure size 432x288 with 1 Axes>"
      ]
     },
     "metadata": {
      "needs_background": "light"
     },
     "output_type": "display_data"
    }
   ],
   "source": [
    "\n",
    "f = e['padj'] < 0.05\n",
    "plt.scatter(\n",
    "    e.loc[f, 'log_length'], e.loc[f, 'o_over_y'], c='red', s=1)\n",
    "\n",
    "plt.ylim([-2, 2])\n",
    "plt.xlim([2.5, 4.5])\n",
    "\n",
    "if save_images:\n",
    "    export.export_image(\n",
    "        '190429_visualize_imbalance_and_significant_genes_human_lesser/sole_scatter.pdf')\n",
    "\n",
    "\n"
   ]
  },
  {
   "cell_type": "code",
   "execution_count": null,
   "metadata": {},
   "outputs": [],
   "source": []
  },
  {
   "cell_type": "code",
   "execution_count": null,
   "metadata": {},
   "outputs": [],
   "source": []
  },
  {
   "cell_type": "code",
   "execution_count": 30,
   "metadata": {},
   "outputs": [
    {
     "data": {
      "image/png": "[encoded data removed]",
      "text/plain": [
       "<Figure size 432x288 with 1 Axes>"
      ]
     },
     "metadata": {
      "needs_background": "light"
     },
     "output_type": "display_data"
    }
   ],
   "source": [
    "plt.scatter(\n",
    "    e.loc[:, 'log_length'], e.loc[:, 'o_over_y'], c='lightgrey', s=1)\n",
    "\n",
    "\n",
    "f = e['padj'] < 0.05\n",
    "plt.scatter(\n",
    "    e.loc[f, 'log_length'], e.loc[f, 'o_over_y'], c='red', s=1)\n",
    "\n",
    "plt.ylim([-2, 2])\n",
    "plt.xlim([2.5, 4.5])\n",
    "\n",
    "if save_images:\n",
    "    export.export_image(\n",
    "        '190429_visualize_imbalance_and_significant_genes_human_lesser/light_scatter.pdf')\n",
    "\n"
   ]
  },
  {
   "cell_type": "code",
   "execution_count": 31,
   "metadata": {},
   "outputs": [
    {
     "data": {
      "text/html": [
       "<div>\n",
       "<style scoped>\n",
       "    .dataframe tbody tr th:only-of-type {\n",
       "        vertical-align: middle;\n",
       "    }\n",
       "\n",
       "    .dataframe tbody tr th {\n",
       "        vertical-align: top;\n",
       "    }\n",
       "\n",
       "    .dataframe thead th {\n",
       "        text-align: right;\n",
       "    }\n",
       "</style>\n",
       "<table border=\"1\" class=\"dataframe\">\n",
       "  <thead>\n",
       "    <tr style=\"text-align: right;\">\n",
       "      <th></th>\n",
       "      <th>gene_ncbi</th>\n",
       "      <th>o_over_y</th>\n",
       "      <th>padj</th>\n",
       "      <th>log_length</th>\n",
       "      <th>is_significant</th>\n",
       "    </tr>\n",
       "  </thead>\n",
       "  <tbody>\n",
       "    <tr>\n",
       "      <th>gene_ncbi</th>\n",
       "      <td>1.000000</td>\n",
       "      <td>-0.005613</td>\n",
       "      <td>0.029250</td>\n",
       "      <td>-0.009766</td>\n",
       "      <td>0.008967</td>\n",
       "    </tr>\n",
       "    <tr>\n",
       "      <th>o_over_y</th>\n",
       "      <td>-0.005613</td>\n",
       "      <td>1.000000</td>\n",
       "      <td>0.016972</td>\n",
       "      <td>-0.198508</td>\n",
       "      <td>-0.047847</td>\n",
       "    </tr>\n",
       "    <tr>\n",
       "      <th>padj</th>\n",
       "      <td>0.029250</td>\n",
       "      <td>0.016972</td>\n",
       "      <td>1.000000</td>\n",
       "      <td>-0.069456</td>\n",
       "      <td>-0.348718</td>\n",
       "    </tr>\n",
       "    <tr>\n",
       "      <th>log_length</th>\n",
       "      <td>-0.009766</td>\n",
       "      <td>-0.198508</td>\n",
       "      <td>-0.069456</td>\n",
       "      <td>1.000000</td>\n",
       "      <td>0.045074</td>\n",
       "    </tr>\n",
       "    <tr>\n",
       "      <th>is_significant</th>\n",
       "      <td>0.008967</td>\n",
       "      <td>-0.047847</td>\n",
       "      <td>-0.348718</td>\n",
       "      <td>0.045074</td>\n",
       "      <td>1.000000</td>\n",
       "    </tr>\n",
       "  </tbody>\n",
       "</table>\n",
       "</div>"
      ],
      "text/plain": [
       "                gene_ncbi  o_over_y      padj  log_length  is_significant\n",
       "gene_ncbi        1.000000 -0.005613  0.029250   -0.009766        0.008967\n",
       "o_over_y        -0.005613  1.000000  0.016972   -0.198508       -0.047847\n",
       "padj             0.029250  0.016972  1.000000   -0.069456       -0.348718\n",
       "log_length      -0.009766 -0.198508 -0.069456    1.000000        0.045074\n",
       "is_significant   0.008967 -0.047847 -0.348718    0.045074        1.000000"
      ]
     },
     "execution_count": 31,
     "metadata": {},
     "output_type": "execute_result"
    }
   ],
   "source": [
    "e.corr('spearman')"
   ]
  },
  {
   "cell_type": "code",
   "execution_count": 32,
   "metadata": {},
   "outputs": [
    {
     "data": {
      "image/png": "[encoded data removed]",
      "text/plain": [
       "<Figure size 432x432 with 3 Axes>"
      ]
     },
     "metadata": {
      "needs_background": "light"
     },
     "output_type": "display_data"
    }
   ],
   "source": [
    "sns.jointplot(x='log_length', y='o_over_y', data=e, kind='kde',color='grey')\n",
    "\n",
    "if save_images:\n",
    "    export.export_image(\n",
    "        '190429_visualize_imbalance_and_significant_genes_human_lesser/grey.pdf')\n",
    "\n"
   ]
  },
  {
   "cell_type": "code",
   "execution_count": 33,
   "metadata": {},
   "outputs": [
    {
     "data": {
      "image/png": "[encoded data removed]",
      "text/plain": [
       "<Figure size 360x360 with 1 Axes>"
      ]
     },
     "metadata": {
      "needs_background": "light"
     },
     "output_type": "display_data"
    }
   ],
   "source": [
    "plt.figure(figsize=(5, 5))\n",
    "\n",
    "sns.kdeplot(\n",
    "    e.loc[:, 'log_length'], e.loc[:, 'o_over_y'], color='gray',shade=True, shade_lowest=False)\n",
    "\n",
    "\n",
    "f = e['padj'] < 0.05\n",
    "plt.scatter(\n",
    "    e.loc[f, 'log_length'], e.loc[f, 'o_over_y'], c='red', s=1)\n",
    "\n",
    "plt.ylim([-3, 3])\n",
    "plt.xlim([2.5, 4.5])\n",
    "\n",
    "if save_images:\n",
    "    export.export_image(\n",
    "        '190429_visualize_imbalance_and_significant_genes_human_lesser/hybrid_scatter.pdf')\n",
    "\n",
    "\n",
    "\n"
   ]
  },
  {
   "cell_type": "code",
   "execution_count": 34,
   "metadata": {},
   "outputs": [
    {
     "data": {
      "text/html": [
       "<div>\n",
       "<style scoped>\n",
       "    .dataframe tbody tr th:only-of-type {\n",
       "        vertical-align: middle;\n",
       "    }\n",
       "\n",
       "    .dataframe tbody tr th {\n",
       "        vertical-align: top;\n",
       "    }\n",
       "\n",
       "    .dataframe thead th {\n",
       "        text-align: right;\n",
       "    }\n",
       "</style>\n",
       "<table border=\"1\" class=\"dataframe\">\n",
       "  <thead>\n",
       "    <tr style=\"text-align: right;\">\n",
       "      <th></th>\n",
       "      <th>condition</th>\n",
       "      <th>rho</th>\n",
       "      <th>pval</th>\n",
       "      <th>tilt_orp</th>\n",
       "      <th>pval_orp</th>\n",
       "      <th>gender</th>\n",
       "      <th>tissue</th>\n",
       "      <th>younger</th>\n",
       "      <th>older</th>\n",
       "    </tr>\n",
       "  </thead>\n",
       "  <tbody>\n",
       "    <tr>\n",
       "      <th>719</th>\n",
       "      <td>males_Brain_Frontal_Cortex_BA9_7_vs_2</td>\n",
       "      <td>-0.18821</td>\n",
       "      <td>5.386534e-136</td>\n",
       "      <td>-0.187658</td>\n",
       "      <td>1.328047e-134</td>\n",
       "      <td>male</td>\n",
       "      <td>Brain - Frontal Cortex (BA9)</td>\n",
       "      <td>2</td>\n",
       "      <td>7</td>\n",
       "    </tr>\n",
       "  </tbody>\n",
       "</table>\n",
       "</div>"
      ],
      "text/plain": [
       "                                 condition      rho           pval  tilt_orp  \\\n",
       "719  males_Brain_Frontal_Cortex_BA9_7_vs_2 -0.18821  5.386534e-136 -0.187658   \n",
       "\n",
       "          pval_orp gender                        tissue  younger  older  \n",
       "719  1.328047e-134   male  Brain - Frontal Cortex (BA9)        2      7  "
      ]
     },
     "execution_count": 34,
     "metadata": {},
     "output_type": "execute_result"
    }
   ],
   "source": [
    "tilt[tilt['condition']==condition]"
   ]
  },
  {
   "cell_type": "code",
   "execution_count": 35,
   "metadata": {},
   "outputs": [],
   "source": [
    "e['up'] = e['o_over_y'] > 0"
   ]
  },
  {
   "cell_type": "code",
   "execution_count": 36,
   "metadata": {},
   "outputs": [
    {
     "data": {
      "text/plain": [
       "False    349\n",
       "True     266\n",
       "Name: up, dtype: int64"
      ]
     },
     "execution_count": 36,
     "metadata": {},
     "output_type": "execute_result"
    }
   ],
   "source": [
    "e[f]['up'].value_counts()"
   ]
  },
  {
   "cell_type": "code",
   "execution_count": 41,
   "metadata": {},
   "outputs": [],
   "source": [
    "save_images = True"
   ]
  },
  {
   "cell_type": "code",
   "execution_count": null,
   "metadata": {},
   "outputs": [],
   "source": []
  },
  {
   "cell_type": "code",
   "execution_count": 42,
   "metadata": {},
   "outputs": [
    {
     "data": {
      "image/png": "[encoded data removed]",
      "text/plain": [
       "<Figure size 360x360 with 1 Axes>"
      ]
     },
     "metadata": {
      "needs_background": "light"
     },
     "output_type": "display_data"
    }
   ],
   "source": [
    "plt.figure(figsize=(5, 5))\n",
    "\n",
    "sns.kdeplot(\n",
    "    e.loc[:, 'log_length'], e.loc[:, 'o_over_y'], color='gray',shade=True, shade_lowest=False)\n",
    "\n",
    "\n",
    "f = e['padj'] < 0.01\n",
    "plt.scatter(\n",
    "    e.loc[f, 'log_length'], e.loc[f, 'o_over_y'], c='red', s=1)\n",
    "\n",
    "plt.ylim([-3, 3])\n",
    "plt.xlim([2.5, 4.5])\n",
    "\n",
    "if save_images:\n",
    "    export.export_image(\n",
    "        '190429_visualize_imbalance_and_significant_genes_human_lesser/hybrid_scatter_01.pdf')\n",
    "\n",
    "\n",
    "\n",
    "\n"
   ]
  },
  {
   "cell_type": "code",
   "execution_count": 43,
   "metadata": {},
   "outputs": [],
   "source": [
    "e['up'] = e['o_over_y'] > 0"
   ]
  },
  {
   "cell_type": "code",
   "execution_count": 44,
   "metadata": {},
   "outputs": [
    {
     "data": {
      "text/plain": [
       "False    92\n",
       "True     53\n",
       "Name: up, dtype: int64"
      ]
     },
     "execution_count": 44,
     "metadata": {},
     "output_type": "execute_result"
    }
   ],
   "source": [
    "e[f]['up'].value_counts()"
   ]
  },
  {
   "cell_type": "code",
   "execution_count": null,
   "metadata": {},
   "outputs": [],
   "source": []
  },
  {
   "cell_type": "code",
   "execution_count": null,
   "metadata": {},
   "outputs": [],
   "source": []
  }
 ],
 "metadata": {
  "kernelspec": {
   "display_name": "Python 3",
   "language": "python",
   "name": "python3"
  },
  "language_info": {
   "codemirror_mode": {
    "name": "ipython",
    "version": 3
   },
   "file_extension": ".py",
   "mimetype": "text/x-python",
   "name": "python",
   "nbconvert_exporter": "python",
   "pygments_lexer": "ipython3",
   "version": "3.7.3"
  }
 },
 "nbformat": 4,
 "nbformat_minor": 2
}
