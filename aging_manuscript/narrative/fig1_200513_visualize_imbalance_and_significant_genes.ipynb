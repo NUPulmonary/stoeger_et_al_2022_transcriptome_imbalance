{
 "cells": [
  {
   "cell_type": "code",
   "execution_count": 1,
   "metadata": {},
   "outputs": [],
   "source": [
    "%matplotlib inline\n",
    "%reload_ext autoreload\n",
    "%autoreload 2"
   ]
  },
  {
   "cell_type": "code",
   "execution_count": 2,
   "metadata": {},
   "outputs": [],
   "source": [
    "import matplotlib as mpl\n",
    "mpl.rcParams['pdf.fonttype'] = 42\n",
    "mpl.rcParams['font.family'] = 'Arial'"
   ]
  },
  {
   "cell_type": "code",
   "execution_count": 3,
   "metadata": {},
   "outputs": [],
   "source": [
    "import os\n",
    "import sys\n",
    "\n",
    "src_dir = './../../src/'\n",
    "sys.path[0] = src_dir\n",
    "\n",
    "import matplotlib.pyplot as plt\n",
    "\n",
    "import glob\n",
    "\n",
    "import numpy as np\n",
    "import pandas as pd\n",
    "import seaborn as sns\n",
    "\n",
    "from collections import OrderedDict\n",
    "\n",
    "from access_biology_data import meta, relations, properties\n",
    "from access_literature_data import medline\n",
    "from access_science_shared import standardizer "
   ]
  },
  {
   "cell_type": "code",
   "execution_count": 4,
   "metadata": {},
   "outputs": [],
   "source": [
    "sys.path.append('./../src/')\n",
    "from aging_tools import inout, export\n",
    "from access_aging_data import earlier_studies, chaperome, companions, sequencing"
   ]
  },
  {
   "cell_type": "code",
   "execution_count": 5,
   "metadata": {},
   "outputs": [],
   "source": [
    "from narrative import nar181026_heat_confidence_genes\n",
    "\n",
    "from narrative import nar181205_networks"
   ]
  },
  {
   "cell_type": "code",
   "execution_count": 6,
   "metadata": {},
   "outputs": [],
   "source": [
    "from scipy.stats import spearmanr"
   ]
  },
  {
   "cell_type": "code",
   "execution_count": 7,
   "metadata": {},
   "outputs": [],
   "source": [
    "save_images = False"
   ]
  },
  {
   "cell_type": "code",
   "execution_count": 8,
   "metadata": {},
   "outputs": [
    {
     "name": "stderr",
     "output_type": "stream",
     "text": [
      "/Users/tstoeger/opt/miniconda3/envs/aging/lib/python3.7/site-packages/fastparquet/dataframe.py:5: FutureWarning: pandas.core.index is deprecated and will be removed in a future version.  The public classes are available in the top-level namespace.\n",
      "  from pandas.core.index import CategoricalIndex, RangeIndex, Index, MultiIndex\n"
     ]
    }
   ],
   "source": [
    "ref_genes = standardizer.reference_genes(10090, 'orp')"
   ]
  },
  {
   "cell_type": "code",
   "execution_count": 9,
   "metadata": {},
   "outputs": [],
   "source": [
    "pr = properties.genbank_validated_rna(10090)[['gene_ncbi', 'Genbank_validated_RNA: full_SumACGT']].rename(columns={\n",
    "    'Genbank_validated_RNA: full_SumACGT': 'length'\n",
    "})\n",
    "\n",
    "pr.loc[:, 'log_length'] = np.log10(pr['length'])"
   ]
  },
  {
   "cell_type": "code",
   "execution_count": 10,
   "metadata": {},
   "outputs": [],
   "source": [
    "from natsort import natsorted"
   ]
  },
  {
   "cell_type": "code",
   "execution_count": null,
   "metadata": {},
   "outputs": [],
   "source": []
  },
  {
   "cell_type": "code",
   "execution_count": 11,
   "metadata": {},
   "outputs": [],
   "source": [
    "all_de, detection, mice_in_comparisons, triplicate_series = nar181026_heat_confidence_genes.load_detection(\n",
    "    detection_column='padj')\n",
    "\n",
    "tissues_to_consider = ['BAT', 'Blood', 'GutEP', 'MuscSat', 'Adrenal', 'Kidney',\n",
    "       'Heart', 'Liver', 'Skin', 'Stomach', 'Brain', 'SI',\n",
    "       'LI', 'Cerebellum', 'WAT', 'Esophagus', 'Lung'] \n",
    "\n",
    "\n",
    "de_set = all_de[\n",
    "    (all_de['tissue'].isin(tissues_to_consider)) & \n",
    "    (all_de['pfu']==0) &\n",
    "    (all_de['younger']==4) &   \n",
    "    (all_de['de_unit']=='both') & \n",
    "    (all_de['padj'].notnull()) &\n",
    "    (all_de['gene_ncbi'].isin(ref_genes))\n",
    "\n",
    "]\n",
    "\n"
   ]
  },
  {
   "cell_type": "code",
   "execution_count": 12,
   "metadata": {},
   "outputs": [],
   "source": [
    "from itertools import product"
   ]
  },
  {
   "cell_type": "code",
   "execution_count": 13,
   "metadata": {},
   "outputs": [],
   "source": [
    "onditions = natsorted(de_set['condition'].unique())\n",
    "ages = de_set['older'].unique()\n",
    "out = pd.DataFrame(index=tissues_to_consider, columns=ages)\n",
    "\n",
    "\n",
    "for tissue, age in product(tissues_to_consider, ages):\n",
    "\n",
    "    d = de_set[\n",
    "        (de_set['older']==age) &\n",
    "        (de_set['tissue']==tissue)\n",
    "    ]\n",
    "\n",
    "    d = d[['gene_ncbi', 'o_over_y']].dropna()\n",
    "    d = pd.merge(d, pr)\n",
    "\n",
    "    r, p = spearmanr(d['log_length'], d['o_over_y'])\n",
    "    d = d.set_index('gene_ncbi')\n",
    "\n",
    "    out.loc[tissue, age] = r"
   ]
  },
  {
   "cell_type": "code",
   "execution_count": 14,
   "metadata": {},
   "outputs": [
    {
     "data": {
      "text/plain": [
       "Blood         0.071429\n",
       "Kidney        0.142857\n",
       "SI            0.214286\n",
       "LI            0.285714\n",
       "Stomach       0.357143\n",
       "BAT           0.428571\n",
       "Esophagus     0.500000\n",
       "GutEP         0.571429\n",
       "Heart         0.642857\n",
       "Adrenal       0.714286\n",
       "MuscSat       0.785714\n",
       "WAT           0.857143\n",
       "Liver         0.928571\n",
       "Cerebellum    1.000000\n",
       "Name: 24.0, dtype: float64"
      ]
     },
     "execution_count": 14,
     "metadata": {},
     "output_type": "execute_result"
    }
   ],
   "source": [
    "out.loc[out.loc[:, 24]<0, 24].sort_values().rank(pct=True)"
   ]
  },
  {
   "cell_type": "code",
   "execution_count": 15,
   "metadata": {},
   "outputs": [
    {
     "data": {
      "text/plain": [
       "Blood         -0.646453\n",
       "Kidney        -0.599801\n",
       "SI            -0.548157\n",
       "LI            -0.522198\n",
       "Stomach       -0.438255\n",
       "BAT           -0.334887\n",
       "Esophagus     -0.310671\n",
       "GutEP         -0.254853\n",
       "Heart         -0.199111\n",
       "Adrenal       -0.162002\n",
       "MuscSat       -0.135331\n",
       "WAT           -0.120297\n",
       "Liver        -0.0708833\n",
       "Cerebellum   -0.0331095\n",
       "Name: 24.0, dtype: object"
      ]
     },
     "execution_count": 15,
     "metadata": {},
     "output_type": "execute_result"
    }
   ],
   "source": [
    "out.loc[out.loc[:, 24]<0, 24].sort_values()"
   ]
  },
  {
   "cell_type": "code",
   "execution_count": 16,
   "metadata": {},
   "outputs": [],
   "source": [
    "from natsort import natsorted"
   ]
  },
  {
   "cell_type": "code",
   "execution_count": 17,
   "metadata": {},
   "outputs": [],
   "source": [
    "conditions = natsorted(all_de['condition'].unique())"
   ]
  },
  {
   "cell_type": "code",
   "execution_count": 18,
   "metadata": {},
   "outputs": [],
   "source": [
    "condition = 'Esophagus_0_4_24'"
   ]
  },
  {
   "cell_type": "code",
   "execution_count": 19,
   "metadata": {},
   "outputs": [],
   "source": [
    "d = all_de[\n",
    "    (all_de['condition']==condition) & \n",
    "    (all_de['is_detected']==True) & \n",
    "    (all_de['de_unit']=='both') & \n",
    "    (all_de['gene_ncbi'].isin(ref_genes))\n",
    "]"
   ]
  },
  {
   "cell_type": "code",
   "execution_count": 20,
   "metadata": {},
   "outputs": [],
   "source": [
    "e = pd.merge(d[['gene_ncbi', 'o_over_y', 'padj']], pr[['gene_ncbi', 'log_length']])"
   ]
  },
  {
   "cell_type": "code",
   "execution_count": 21,
   "metadata": {},
   "outputs": [],
   "source": [
    "e.loc[:, 'is_significant'] = e['padj'] < 0.05"
   ]
  },
  {
   "cell_type": "code",
   "execution_count": 22,
   "metadata": {},
   "outputs": [
    {
     "data": {
      "image/png": "[encoded data removed]",
      "text/plain": [
       "<Figure size 432x288 with 1 Axes>"
      ]
     },
     "metadata": {
      "needs_background": "light"
     },
     "output_type": "display_data"
    }
   ],
   "source": [
    "\n",
    "f = e['padj'] < 0.05\n",
    "plt.scatter(\n",
    "    e.loc[f, 'log_length'], e.loc[f, 'o_over_y'], c='red', s=1)\n",
    "\n",
    "plt.ylim([-2, 2])\n",
    "plt.xlim([2.5, 4.5])\n",
    "\n",
    "if save_images:\n",
    "    export.export_image(\n",
    "        '200513_visualize_imbalance_and_significant_genes/sole_scatter.pdf')\n",
    "\n",
    "\n"
   ]
  },
  {
   "cell_type": "code",
   "execution_count": null,
   "metadata": {},
   "outputs": [],
   "source": []
  },
  {
   "cell_type": "code",
   "execution_count": null,
   "metadata": {},
   "outputs": [],
   "source": []
  },
  {
   "cell_type": "code",
   "execution_count": 23,
   "metadata": {},
   "outputs": [
    {
     "data": {
      "image/png": "[encoded data removed]",
      "text/plain": [
       "<Figure size 432x288 with 1 Axes>"
      ]
     },
     "metadata": {
      "needs_background": "light"
     },
     "output_type": "display_data"
    }
   ],
   "source": [
    "plt.scatter(\n",
    "    e.loc[:, 'log_length'], e.loc[:, 'o_over_y'], c='lightgrey', s=1)\n",
    "\n",
    "\n",
    "f = e['padj'] < 0.05\n",
    "plt.scatter(\n",
    "    e.loc[f, 'log_length'], e.loc[f, 'o_over_y'], c='red', s=1)\n",
    "\n",
    "plt.ylim([-2, 2])\n",
    "plt.xlim([2.5, 4.5])\n",
    "\n",
    "if save_images:\n",
    "    export.export_image(\n",
    "        '200513_visualize_imbalance_and_significant_genes/light_scatter.pdf')\n",
    "\n"
   ]
  },
  {
   "cell_type": "code",
   "execution_count": 24,
   "metadata": {},
   "outputs": [
    {
     "data": {
      "text/html": [
       "<div>\n",
       "<style scoped>\n",
       "    .dataframe tbody tr th:only-of-type {\n",
       "        vertical-align: middle;\n",
       "    }\n",
       "\n",
       "    .dataframe tbody tr th {\n",
       "        vertical-align: top;\n",
       "    }\n",
       "\n",
       "    .dataframe thead th {\n",
       "        text-align: right;\n",
       "    }\n",
       "</style>\n",
       "<table border=\"1\" class=\"dataframe\">\n",
       "  <thead>\n",
       "    <tr style=\"text-align: right;\">\n",
       "      <th></th>\n",
       "      <th>gene_ncbi</th>\n",
       "      <th>o_over_y</th>\n",
       "      <th>padj</th>\n",
       "      <th>log_length</th>\n",
       "      <th>is_significant</th>\n",
       "    </tr>\n",
       "  </thead>\n",
       "  <tbody>\n",
       "    <tr>\n",
       "      <th>gene_ncbi</th>\n",
       "      <td>1.000000</td>\n",
       "      <td>0.011174</td>\n",
       "      <td>0.068809</td>\n",
       "      <td>0.155560</td>\n",
       "      <td>-0.057328</td>\n",
       "    </tr>\n",
       "    <tr>\n",
       "      <th>o_over_y</th>\n",
       "      <td>0.011174</td>\n",
       "      <td>1.000000</td>\n",
       "      <td>0.058098</td>\n",
       "      <td>-0.310671</td>\n",
       "      <td>-0.024417</td>\n",
       "    </tr>\n",
       "    <tr>\n",
       "      <th>padj</th>\n",
       "      <td>0.068809</td>\n",
       "      <td>0.058098</td>\n",
       "      <td>1.000000</td>\n",
       "      <td>-0.015091</td>\n",
       "      <td>-0.212990</td>\n",
       "    </tr>\n",
       "    <tr>\n",
       "      <th>log_length</th>\n",
       "      <td>0.155560</td>\n",
       "      <td>-0.310671</td>\n",
       "      <td>-0.015091</td>\n",
       "      <td>1.000000</td>\n",
       "      <td>0.028871</td>\n",
       "    </tr>\n",
       "    <tr>\n",
       "      <th>is_significant</th>\n",
       "      <td>-0.057328</td>\n",
       "      <td>-0.024417</td>\n",
       "      <td>-0.212990</td>\n",
       "      <td>0.028871</td>\n",
       "      <td>1.000000</td>\n",
       "    </tr>\n",
       "  </tbody>\n",
       "</table>\n",
       "</div>"
      ],
      "text/plain": [
       "                gene_ncbi  o_over_y      padj  log_length  is_significant\n",
       "gene_ncbi        1.000000  0.011174  0.068809    0.155560       -0.057328\n",
       "o_over_y         0.011174  1.000000  0.058098   -0.310671       -0.024417\n",
       "padj             0.068809  0.058098  1.000000   -0.015091       -0.212990\n",
       "log_length       0.155560 -0.310671 -0.015091    1.000000        0.028871\n",
       "is_significant  -0.057328 -0.024417 -0.212990    0.028871        1.000000"
      ]
     },
     "execution_count": 24,
     "metadata": {},
     "output_type": "execute_result"
    }
   ],
   "source": [
    "e.corr('spearman')"
   ]
  },
  {
   "cell_type": "code",
   "execution_count": 25,
   "metadata": {},
   "outputs": [
    {
     "data": {
      "image/png": "[encoded data removed]",
      "text/plain": [
       "<Figure size 432x432 with 3 Axes>"
      ]
     },
     "metadata": {
      "needs_background": "light"
     },
     "output_type": "display_data"
    }
   ],
   "source": [
    "sns.jointplot(x='log_length', y='o_over_y', data=e, kind='kde',color='grey')\n",
    "\n",
    "if save_images:\n",
    "    export.export_image(\n",
    "        '200513_visualize_imbalance_and_significant_genes/grey.pdf')\n",
    "\n"
   ]
  },
  {
   "cell_type": "code",
   "execution_count": 26,
   "metadata": {},
   "outputs": [
    {
     "data": {
      "image/png": "[encoded data removed]",
      "text/plain": [
       "<Figure size 360x360 with 1 Axes>"
      ]
     },
     "metadata": {
      "needs_background": "light"
     },
     "output_type": "display_data"
    }
   ],
   "source": [
    "plt.figure(figsize=(5, 5))\n",
    "\n",
    "sns.kdeplot(\n",
    "    e.loc[:, 'log_length'], e.loc[:, 'o_over_y'], color='gray',shade=True, shade_lowest=False)\n",
    "\n",
    "\n",
    "f = e['padj'] < 0.05\n",
    "plt.scatter(\n",
    "    e.loc[f, 'log_length'], e.loc[f, 'o_over_y'], c='red', s=1)\n",
    "\n",
    "plt.ylim([-1, 1])\n",
    "plt.xlim([2.5, 4.5])\n",
    "\n",
    "if save_images:\n",
    "    export.export_image(\n",
    "        '200513_visualize_imbalance_and_significant_genes/hybrid_scatter.pdf')\n",
    "\n",
    "\n"
   ]
  },
  {
   "cell_type": "code",
   "execution_count": 27,
   "metadata": {},
   "outputs": [
    {
     "data": {
      "text/plain": [
       "False    58\n",
       "True     46\n",
       "Name: up, dtype: int64"
      ]
     },
     "execution_count": 27,
     "metadata": {},
     "output_type": "execute_result"
    }
   ],
   "source": [
    "e['up'] = e['o_over_y']>0\n",
    "e[f]['up'].value_counts()"
   ]
  }
 ],
 "metadata": {
  "kernelspec": {
   "display_name": "Python 3",
   "language": "python",
   "name": "python3"
  },
  "language_info": {
   "codemirror_mode": {
    "name": "ipython",
    "version": 3
   },
   "file_extension": ".py",
   "mimetype": "text/x-python",
   "name": "python",
   "nbconvert_exporter": "python",
   "pygments_lexer": "ipython3",
   "version": "3.7.3"
  }
 },
 "nbformat": 4,
 "nbformat_minor": 2
}
