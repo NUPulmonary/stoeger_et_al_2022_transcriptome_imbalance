{
 "cells": [
  {
   "cell_type": "code",
   "execution_count": 1,
   "metadata": {},
   "outputs": [],
   "source": [
    "%matplotlib inline\n",
    "%reload_ext autoreload\n",
    "%autoreload 2"
   ]
  },
  {
   "cell_type": "code",
   "execution_count": 2,
   "metadata": {},
   "outputs": [],
   "source": [
    "import matplotlib as mpl\n",
    "mpl.rcParams['pdf.fonttype'] = 42\n",
    "mpl.rcParams['font.family'] = 'Arial'"
   ]
  },
  {
   "cell_type": "code",
   "execution_count": 3,
   "metadata": {},
   "outputs": [],
   "source": [
    "import os\n",
    "import sys\n",
    "\n",
    "src_dir = './../../src/'\n",
    "sys.path[0] = src_dir\n",
    "\n",
    "import matplotlib.pyplot as plt\n",
    "\n",
    "import glob\n",
    "\n",
    "import numpy as np\n",
    "import pandas as pd\n",
    "import seaborn as sns\n",
    "\n",
    "from collections import OrderedDict\n",
    "\n",
    "from access_biology_data import meta, relations, properties\n",
    "from access_literature_data import medline\n",
    "from access_science_shared import standardizer "
   ]
  },
  {
   "cell_type": "code",
   "execution_count": 4,
   "metadata": {},
   "outputs": [],
   "source": [
    "sys.path.append('./../src/')\n",
    "from aging_tools import inout, export\n",
    "from access_aging_data import earlier_studies, chaperome, companions, sequencing\n",
    "\n",
    "from access_science_shared import standardizer"
   ]
  },
  {
   "cell_type": "code",
   "execution_count": 5,
   "metadata": {},
   "outputs": [],
   "source": [
    "from scipy.stats import spearmanr\n",
    "from scipy.stats import wilcoxon"
   ]
  },
  {
   "cell_type": "code",
   "execution_count": 6,
   "metadata": {},
   "outputs": [],
   "source": [
    "out_path = '200101_pairwise_between_individuals'\n",
    "save_images = True"
   ]
  },
  {
   "cell_type": "code",
   "execution_count": null,
   "metadata": {},
   "outputs": [],
   "source": []
  },
  {
   "cell_type": "code",
   "execution_count": null,
   "metadata": {},
   "outputs": [],
   "source": []
  },
  {
   "cell_type": "code",
   "execution_count": 7,
   "metadata": {},
   "outputs": [],
   "source": [
    "ref_genes = standardizer.reference_genes(10090, 'orp')"
   ]
  },
  {
   "cell_type": "code",
   "execution_count": 8,
   "metadata": {},
   "outputs": [],
   "source": [
    "pr = properties.genbank_validated_rna(10090)[\n",
    "    ['gene_ncbi', 'Genbank_validated_RNA: full_SumACGT']].rename(columns={\n",
    "    'Genbank_validated_RNA: full_SumACGT': 'length'\n",
    "})\n",
    "pr.loc[:, 'log_length'] = np.log10(pr['length'])\n",
    "pr = pr[pr['gene_ncbi'].isin(ref_genes)]"
   ]
  },
  {
   "cell_type": "code",
   "execution_count": 9,
   "metadata": {},
   "outputs": [],
   "source": [
    "tissues_to_consider = ['BAT', 'Blood', 'GutEP', 'MuscSat', 'Adrenal', 'Kidney',\n",
    "       'Heart', 'Liver', 'Skin', 'Stomach', 'Brain', 'SI',\n",
    "       'LI', 'Cerebellum', 'WAT', 'Esophagus', 'Lung'] "
   ]
  },
  {
   "cell_type": "code",
   "execution_count": 10,
   "metadata": {},
   "outputs": [],
   "source": [
    "def load_data(dataset_name):\n",
    "    df_data, meta, df_gene = sequencing.load_cached_aging_map(\n",
    "        dataset_name=dataset_name,\n",
    "        unambiguous_to_entrez=True, \n",
    "        as_entrez=True)\n",
    "\n",
    "    meta = meta[\n",
    "        (meta['tissue'].isin(tissues_to_consider)) &\n",
    "        (meta['pfu']==0) &\n",
    "        (meta['age']>=4)\n",
    "    ]\n",
    "    \n",
    "    df_data = df_data[df_data.index.isin(ref_genes)]\n",
    "    \n",
    "    \n",
    "    renamer = {\n",
    "        'Adrenal': 'Adrenal Gland', \n",
    "        'BAT': 'Brown adipose tissue', \n",
    "        'Blood': 'Blood', \n",
    "        'Brain': 'Frontal cortex', \n",
    "        'Esophagus': 'Esophagus', \n",
    "        'GutEP': 'Gut epithelium', \n",
    "        'Heart': 'Heart',\n",
    "        'Kidney': 'Kidney', \n",
    "        'LI': 'Large intestine', \n",
    "        'Liver': 'Liver', \n",
    "        'Lung': 'Lung', \n",
    "        'MuscSat': 'Muscle', \n",
    "        'SI': 'Small intestine', \n",
    "        'Skin': 'Skin',\n",
    "        'Stomach': 'Stomach', \n",
    "        'WAT': 'White adipose tissue', \n",
    "        'Cerebellum': 'Cerebellum'}\n",
    "    \n",
    "    meta['tissue'] = meta['tissue'].replace(renamer)\n",
    "\n",
    "    return df_data, meta"
   ]
  },
  {
   "cell_type": "code",
   "execution_count": null,
   "metadata": {},
   "outputs": [],
   "source": [
    "\n"
   ]
  },
  {
   "cell_type": "code",
   "execution_count": 11,
   "metadata": {},
   "outputs": [],
   "source": [
    "def via_fold_change(dataset_name):\n",
    "    \n",
    "    df_data, meta = load_data(dataset_name)\n",
    "\n",
    "    agg = []\n",
    "\n",
    "    for tissue in meta['tissue'].unique():\n",
    "        for older in [x for x in meta['age'].unique() if x!=4]:\n",
    "\n",
    "            m4 = list(meta[\n",
    "                (meta['tissue']==tissue) &\n",
    "                (meta['age'] == 4)\n",
    "            ].index)\n",
    "\n",
    "            m_older = list(meta[\n",
    "                (meta['tissue']==tissue) &\n",
    "                (meta['age'] == older)\n",
    "            ].index)\n",
    "\n",
    "\n",
    "            for m4_current in m4:\n",
    "                for m_older_current in m_older:\n",
    "\n",
    "                    res = dict()\n",
    "                    res['older'] = older\n",
    "                    res['tissue'] = tissue\n",
    "                    res['ind_younger'] = m4_current\n",
    "                    res['ind_older'] = m_older_current\n",
    "\n",
    "                    d = df_data[[m4_current, m_older_current]].copy()\n",
    "\n",
    "                    f = d.min(1)>0\n",
    "                    d = d[f]\n",
    "                    d.loc[:, 'ratio'] = np.log2(d[m_older_current] / d[m4_current])\n",
    "\n",
    "                    g = pd.merge(d[['ratio']].reset_index(), pr)\n",
    "\n",
    "                    r, pval = spearmanr(g['length'], g['ratio'])\n",
    "\n",
    "                    res['r'] = r\n",
    "                    res['pval'] = pval\n",
    "\n",
    "                    agg.append(res)\n",
    "\n",
    "    df = pd.DataFrame(agg)\n",
    "\n",
    "\n",
    "\n",
    "    \n",
    "#     f = (df['r'] < 0) & (df['pval'] < 0.01)\n",
    "#     df.loc[:, 'lower'] = f\n",
    "    \n",
    "#     f = (df['r'] > 0) & (df['pval'] < 0.01)\n",
    "#     df.loc[:, 'higher'] = f\n",
    "    \n",
    "#     f = df['pval'] >= 0.01\n",
    "#     df.loc[:, 'same'] = f\n",
    "       \n",
    "    \n",
    "    f = df['r'] < 0\n",
    "    df.loc[:, 'lower'] = f\n",
    "    \n",
    "    \n",
    "    return df"
   ]
  },
  {
   "cell_type": "code",
   "execution_count": 12,
   "metadata": {},
   "outputs": [],
   "source": [
    "def via_direct(dataset_name):\n",
    "\n",
    "\n",
    "    df_data, meta = load_data(dataset_name)\n",
    "\n",
    "    data= pd.merge(\n",
    "        df_data[df_data.max(1)>0].reset_index(), \n",
    "        pr[['gene_ncbi', 'length']]).set_index('gene_ncbi')\n",
    "\n",
    "    agg = []\n",
    "\n",
    "    for j in meta.index:\n",
    "        res = dict()\n",
    "        res['sample_name'] = j\n",
    "\n",
    "        r, pval = spearmanr(data.loc[:, j], data.loc[:, 'length'])\n",
    "\n",
    "        res['rho'] = r\n",
    "        res['pval'] = pval\n",
    "\n",
    "        agg.append(res)\n",
    "\n",
    "    meta = meta.rename_axis('sample_name')\n",
    "\n",
    "    master = pd.merge(\n",
    "        pd.DataFrame(agg),\n",
    "        meta[['tissue', 'age', 'replicate_id']].reset_index())\n",
    "\n",
    "\n",
    "    agg = []\n",
    "\n",
    "    for older in [9, 12, 18, 24]:\n",
    "\n",
    "        for tissue in master['tissue'].unique():\n",
    "            m = master[\n",
    "                (master['tissue']==tissue) &\n",
    "                (master['age'].isin([4, older]))\n",
    "            ]\n",
    "\n",
    "\n",
    "            results = dict()\n",
    "            results['tissue'] = tissue\n",
    "\n",
    "\n",
    "\n",
    "\n",
    "            m4 = m[m['age']==4]\n",
    "            m_o = m[m['age']==older]\n",
    "            mj = pd.merge(m4, m_o, on='tissue', suffixes=('_4', '_o'))\n",
    "            \n",
    "            s = (mj['rho_o'] < mj['rho_4']).mean()\n",
    "\n",
    "            _, pw = wilcoxon(mj['rho_o'], mj['rho_4'])\n",
    "\n",
    "            results['lower'] =  s\n",
    "            results['pval'] = pw\n",
    "            results['older'] = older\n",
    "            results['median_young'] = np.median(mj['rho_4'])\n",
    "            results['median_older'] = np.median(mj['rho_o'])\n",
    "\n",
    "\n",
    "            agg.append(results)\n",
    "\n",
    "    df = pd.DataFrame(agg)\n",
    "    \n",
    "    return df"
   ]
  },
  {
   "cell_type": "code",
   "execution_count": 13,
   "metadata": {},
   "outputs": [],
   "source": [
    "\n",
    "df_raw_fold = via_fold_change('aging_map_qc_171031')\n",
    "df_inclusive_fold = via_fold_change('181028_inclusive_tmm')"
   ]
  },
  {
   "cell_type": "code",
   "execution_count": 14,
   "metadata": {},
   "outputs": [
    {
     "name": "stderr",
     "output_type": "stream",
     "text": [
      "/Users/tstoeger/anaconda3/lib/python3.7/site-packages/scipy/stats/morestats.py:2778: UserWarning: Warning: sample size too small for normal approximation.\n",
      "  warnings.warn(\"Warning: sample size too small for normal approximation.\")\n",
      "/Users/tstoeger/anaconda3/lib/python3.7/site-packages/scipy/stats/morestats.py:2778: UserWarning: Warning: sample size too small for normal approximation.\n",
      "  warnings.warn(\"Warning: sample size too small for normal approximation.\")\n"
     ]
    }
   ],
   "source": [
    "df_raw_direct = via_direct('aging_map_qc_171031')\n",
    "df_inclusive_direct = via_direct('181028_inclusive_tmm')\n"
   ]
  },
  {
   "cell_type": "code",
   "execution_count": null,
   "metadata": {},
   "outputs": [],
   "source": []
  },
  {
   "cell_type": "code",
   "execution_count": 15,
   "metadata": {},
   "outputs": [],
   "source": [
    "def add_origin(df, origin):\n",
    "    a = df.copy()\n",
    "    a.loc[:, 'origin'] = origin\n",
    "    return a"
   ]
  },
  {
   "cell_type": "code",
   "execution_count": 16,
   "metadata": {},
   "outputs": [],
   "source": [
    "df = df_inclusive_fold.copy()"
   ]
  },
  {
   "cell_type": "code",
   "execution_count": 17,
   "metadata": {},
   "outputs": [],
   "source": [
    "def get_fraction_from_fold(df):\n",
    "\n",
    "#     fr = df[['tissue', 'older', 'lower', 'same', 'higher']].groupby(['tissue', 'older']).agg(np.mean).reset_index()\n",
    "    fr = df[['tissue', 'older', 'lower']].groupby(['tissue', 'older']).agg(np.mean).reset_index()\n",
    "\n",
    "    return fr"
   ]
  },
  {
   "cell_type": "code",
   "execution_count": 18,
   "metadata": {},
   "outputs": [],
   "source": [
    "fr_inclusive_fold = get_fraction_from_fold(df_inclusive_fold)\n",
    "fr_raw_fold = get_fraction_from_fold(df_raw_fold)"
   ]
  },
  {
   "cell_type": "code",
   "execution_count": 19,
   "metadata": {},
   "outputs": [],
   "source": [
    "fr_inclusive_fold.loc[:, 'origin'] = 'inclusive_fold'\n",
    "fr_raw_fold.loc[:, 'origin'] = 'raw_fold'"
   ]
  },
  {
   "cell_type": "code",
   "execution_count": 20,
   "metadata": {},
   "outputs": [],
   "source": [
    "fr_inclusive_direct = df_inclusive_direct[['tissue', 'older', 'lower']].copy()\n",
    "fr_raw_direct = df_raw_direct[['tissue', 'older', 'lower']].copy()\n",
    "\n",
    "fr_inclusive_direct.loc[:, 'origin'] = 'inclusive_direct'\n",
    "fr_raw_direct.loc[:, 'origin'] = 'raw_direct'"
   ]
  },
  {
   "cell_type": "code",
   "execution_count": 21,
   "metadata": {},
   "outputs": [],
   "source": [
    "mega = pd.concat([\n",
    "    fr_inclusive_fold, \n",
    "    fr_raw_fold, \n",
    "    fr_inclusive_direct, \n",
    "    fr_raw_direct],\n",
    "    sort=True\n",
    ")"
   ]
  },
  {
   "cell_type": "code",
   "execution_count": 22,
   "metadata": {},
   "outputs": [],
   "source": [
    "pi = mega[mega['older']==24].pivot(index='tissue', columns='origin', values='lower')"
   ]
  },
  {
   "cell_type": "code",
   "execution_count": 23,
   "metadata": {},
   "outputs": [
    {
     "data": {
      "image/png": "[encoded data removed]",
      "text/plain": [
       "<Figure size 432x288 with 2 Axes>"
      ]
     },
     "metadata": {
      "needs_background": "light"
     },
     "output_type": "display_data"
    }
   ],
   "source": [
    "sns.heatmap(pi, cmap='bwr', vmin=0.2, vmax=0.8, annot=True)\n",
    "\n",
    "if save_images:\n",
    "    export.export_image(\n",
    "        '{}/different_approaches.pdf'.format(out_path)\n",
    "    )"
   ]
  },
  {
   "cell_type": "code",
   "execution_count": 24,
   "metadata": {},
   "outputs": [],
   "source": [
    "bulk_no_tilt = [\n",
    "    'Frontal cortex',\n",
    "    'Lung',\n",
    "    'Skin'\n",
    "]\n",
    "\n"
   ]
  },
  {
   "cell_type": "code",
   "execution_count": 25,
   "metadata": {},
   "outputs": [],
   "source": [
    "bulk_tilt = [\n",
    "    'Adrenal Gland', 'Brown adipose tissue', \n",
    "    'Blood',  'Esophagus', \n",
    "    'Gut epithelium', 'Heart', 'Kidney', \n",
    "    'Large intestine', 'Liver',  'Muscle', \n",
    "    'Small intestine', 'Skin', 'Stomach', \n",
    "    'White adipose tissue', 'Cerebellum']"
   ]
  },
  {
   "cell_type": "code",
   "execution_count": 26,
   "metadata": {},
   "outputs": [],
   "source": [
    "mega.loc[:, 'in_tilt'] = mega['tissue'].isin(bulk_tilt)"
   ]
  },
  {
   "cell_type": "code",
   "execution_count": 27,
   "metadata": {},
   "outputs": [],
   "source": [
    "\n",
    "\n",
    "# sns.boxplot(\n",
    "#     x='origin',\n",
    "#     y='lower',\n",
    "#     data=mega[mega['older']==24],\n",
    "#     notch=True\n",
    "\n",
    "# )\n",
    "# plt.ylim([0, 1])"
   ]
  },
  {
   "cell_type": "code",
   "execution_count": 28,
   "metadata": {},
   "outputs": [
    {
     "data": {
      "image/png": "[encoded data removed]",
      "text/plain": [
       "<Figure size 432x288 with 1 Axes>"
      ]
     },
     "metadata": {
      "needs_background": "light"
     },
     "output_type": "display_data"
    }
   ],
   "source": [
    "\n",
    "plt.axhline(y=0.5, color='grey', linestyle='--')\n",
    "\n",
    "\n",
    "sns.boxplot(\n",
    "    x='older',\n",
    "    y='lower',\n",
    "    data=mega[mega['origin']=='raw_fold'],\n",
    "    notch=True,\n",
    "    color='navajowhite'\n",
    "\n",
    ")\n",
    "plt.ylim([0, 1])\n",
    "\n",
    "if save_images:\n",
    "    export.export_image(\n",
    "        '{}/lower_by_age.pdf'.format(out_path)\n",
    "    )"
   ]
  },
  {
   "cell_type": "code",
   "execution_count": 29,
   "metadata": {},
   "outputs": [],
   "source": [
    "pi = fr_raw_fold.pivot(\n",
    "        index='tissue', columns='older', values='lower')"
   ]
  },
  {
   "cell_type": "code",
   "execution_count": 30,
   "metadata": {},
   "outputs": [
    {
     "data": {
      "image/png": "[encoded data removed]",
      "text/plain": [
       "<Figure size 432x288 with 2 Axes>"
      ]
     },
     "metadata": {
      "needs_background": "light"
     },
     "output_type": "display_data"
    }
   ],
   "source": [
    "\n",
    "sns.heatmap(\n",
    "    pi, \n",
    "    cmap='bwr', vmin=0.2, vmax=0.8, annot=True)\n",
    "\n",
    "if save_images:\n",
    "    export.export_image(\n",
    "        '{}/heatmap_by_age.pdf'.format(out_path)\n",
    "    )"
   ]
  },
  {
   "cell_type": "code",
   "execution_count": 31,
   "metadata": {},
   "outputs": [
    {
     "data": {
      "text/plain": [
       "older\n",
       "9.0     0.638889\n",
       "12.0    0.600000\n",
       "18.0    0.555556\n",
       "24.0    0.666667\n",
       "dtype: float64"
      ]
     },
     "execution_count": 31,
     "metadata": {},
     "output_type": "execute_result"
    }
   ],
   "source": [
    "pi.median()"
   ]
  },
  {
   "cell_type": "code",
   "execution_count": 32,
   "metadata": {},
   "outputs": [
    {
     "data": {
      "text/plain": [
       "0.5277777777777778"
      ]
     },
     "execution_count": 32,
     "metadata": {},
     "output_type": "execute_result"
    }
   ],
   "source": [
    "np.quantile(pi[24], 0.25)"
   ]
  },
  {
   "cell_type": "code",
   "execution_count": 33,
   "metadata": {},
   "outputs": [
    {
     "data": {
      "text/plain": [
       "0.8333333333333334"
      ]
     },
     "execution_count": 33,
     "metadata": {},
     "output_type": "execute_result"
    }
   ],
   "source": [
    "np.quantile(pi[24], 0.75)"
   ]
  },
  {
   "cell_type": "code",
   "execution_count": 34,
   "metadata": {},
   "outputs": [
    {
     "data": {
      "text/html": [
       "<div>\n",
       "<style scoped>\n",
       "    .dataframe tbody tr th:only-of-type {\n",
       "        vertical-align: middle;\n",
       "    }\n",
       "\n",
       "    .dataframe tbody tr th {\n",
       "        vertical-align: top;\n",
       "    }\n",
       "\n",
       "    .dataframe thead th {\n",
       "        text-align: right;\n",
       "    }\n",
       "</style>\n",
       "<table border=\"1\" class=\"dataframe\">\n",
       "  <thead>\n",
       "    <tr style=\"text-align: right;\">\n",
       "      <th>older</th>\n",
       "      <th>9.0</th>\n",
       "      <th>12.0</th>\n",
       "      <th>18.0</th>\n",
       "      <th>24.0</th>\n",
       "    </tr>\n",
       "    <tr>\n",
       "      <th>tissue</th>\n",
       "      <th></th>\n",
       "      <th></th>\n",
       "      <th></th>\n",
       "      <th></th>\n",
       "    </tr>\n",
       "  </thead>\n",
       "  <tbody>\n",
       "    <tr>\n",
       "      <th>Lung</th>\n",
       "      <td>0.638889</td>\n",
       "      <td>0.500000</td>\n",
       "      <td>0.555556</td>\n",
       "      <td>0.333333</td>\n",
       "    </tr>\n",
       "    <tr>\n",
       "      <th>Skin</th>\n",
       "      <td>0.333333</td>\n",
       "      <td>0.333333</td>\n",
       "      <td>0.388889</td>\n",
       "      <td>0.500000</td>\n",
       "    </tr>\n",
       "    <tr>\n",
       "      <th>Adrenal Gland</th>\n",
       "      <td>0.416667</td>\n",
       "      <td>0.750000</td>\n",
       "      <td>0.305556</td>\n",
       "      <td>0.527778</td>\n",
       "    </tr>\n",
       "    <tr>\n",
       "      <th>Heart</th>\n",
       "      <td>0.700000</td>\n",
       "      <td>0.791667</td>\n",
       "      <td>1.000000</td>\n",
       "      <td>0.527778</td>\n",
       "    </tr>\n",
       "    <tr>\n",
       "      <th>Liver</th>\n",
       "      <td>0.472222</td>\n",
       "      <td>0.583333</td>\n",
       "      <td>0.638889</td>\n",
       "      <td>0.527778</td>\n",
       "    </tr>\n",
       "    <tr>\n",
       "      <th>Frontal cortex</th>\n",
       "      <td>0.638889</td>\n",
       "      <td>0.600000</td>\n",
       "      <td>0.433333</td>\n",
       "      <td>0.555556</td>\n",
       "    </tr>\n",
       "    <tr>\n",
       "      <th>Cerebellum</th>\n",
       "      <td>0.750000</td>\n",
       "      <td>0.444444</td>\n",
       "      <td>0.400000</td>\n",
       "      <td>0.633333</td>\n",
       "    </tr>\n",
       "    <tr>\n",
       "      <th>Muscle</th>\n",
       "      <td>0.320000</td>\n",
       "      <td>0.800000</td>\n",
       "      <td>0.400000</td>\n",
       "      <td>0.666667</td>\n",
       "    </tr>\n",
       "    <tr>\n",
       "      <th>Stomach</th>\n",
       "      <td>0.638889</td>\n",
       "      <td>0.277778</td>\n",
       "      <td>0.416667</td>\n",
       "      <td>0.666667</td>\n",
       "    </tr>\n",
       "    <tr>\n",
       "      <th>Brown adipose tissue</th>\n",
       "      <td>0.444444</td>\n",
       "      <td>0.416667</td>\n",
       "      <td>0.611111</td>\n",
       "      <td>0.694444</td>\n",
       "    </tr>\n",
       "    <tr>\n",
       "      <th>White adipose tissue</th>\n",
       "      <td>0.833333</td>\n",
       "      <td>0.555556</td>\n",
       "      <td>0.305556</td>\n",
       "      <td>0.750000</td>\n",
       "    </tr>\n",
       "    <tr>\n",
       "      <th>Esophagus</th>\n",
       "      <td>0.694444</td>\n",
       "      <td>0.777778</td>\n",
       "      <td>0.555556</td>\n",
       "      <td>0.777778</td>\n",
       "    </tr>\n",
       "    <tr>\n",
       "      <th>Kidney</th>\n",
       "      <td>0.200000</td>\n",
       "      <td>0.611111</td>\n",
       "      <td>0.366667</td>\n",
       "      <td>0.833333</td>\n",
       "    </tr>\n",
       "    <tr>\n",
       "      <th>Large intestine</th>\n",
       "      <td>0.527778</td>\n",
       "      <td>0.861111</td>\n",
       "      <td>0.888889</td>\n",
       "      <td>0.861111</td>\n",
       "    </tr>\n",
       "    <tr>\n",
       "      <th>Gut epithelium</th>\n",
       "      <td>0.638889</td>\n",
       "      <td>0.750000</td>\n",
       "      <td>0.777778</td>\n",
       "      <td>0.888889</td>\n",
       "    </tr>\n",
       "    <tr>\n",
       "      <th>Blood</th>\n",
       "      <td>0.500000</td>\n",
       "      <td>0.527778</td>\n",
       "      <td>0.666667</td>\n",
       "      <td>0.888889</td>\n",
       "    </tr>\n",
       "    <tr>\n",
       "      <th>Small intestine</th>\n",
       "      <td>0.722222</td>\n",
       "      <td>0.694444</td>\n",
       "      <td>0.583333</td>\n",
       "      <td>0.900000</td>\n",
       "    </tr>\n",
       "  </tbody>\n",
       "</table>\n",
       "</div>"
      ],
      "text/plain": [
       "older                     9.0       12.0      18.0      24.0\n",
       "tissue                                                      \n",
       "Lung                  0.638889  0.500000  0.555556  0.333333\n",
       "Skin                  0.333333  0.333333  0.388889  0.500000\n",
       "Adrenal Gland         0.416667  0.750000  0.305556  0.527778\n",
       "Heart                 0.700000  0.791667  1.000000  0.527778\n",
       "Liver                 0.472222  0.583333  0.638889  0.527778\n",
       "Frontal cortex        0.638889  0.600000  0.433333  0.555556\n",
       "Cerebellum            0.750000  0.444444  0.400000  0.633333\n",
       "Muscle                0.320000  0.800000  0.400000  0.666667\n",
       "Stomach               0.638889  0.277778  0.416667  0.666667\n",
       "Brown adipose tissue  0.444444  0.416667  0.611111  0.694444\n",
       "White adipose tissue  0.833333  0.555556  0.305556  0.750000\n",
       "Esophagus             0.694444  0.777778  0.555556  0.777778\n",
       "Kidney                0.200000  0.611111  0.366667  0.833333\n",
       "Large intestine       0.527778  0.861111  0.888889  0.861111\n",
       "Gut epithelium        0.638889  0.750000  0.777778  0.888889\n",
       "Blood                 0.500000  0.527778  0.666667  0.888889\n",
       "Small intestine       0.722222  0.694444  0.583333  0.900000"
      ]
     },
     "execution_count": 34,
     "metadata": {},
     "output_type": "execute_result"
    }
   ],
   "source": [
    "pi.sort_values(24)"
   ]
  },
  {
   "cell_type": "code",
   "execution_count": 35,
   "metadata": {},
   "outputs": [],
   "source": [
    "fr_raw_fold.loc[:, 'in'] = fr_raw_fold['tissue'].isin(\n",
    "    bulk_tilt\n",
    ")"
   ]
  },
  {
   "cell_type": "code",
   "execution_count": null,
   "metadata": {},
   "outputs": [],
   "source": []
  },
  {
   "cell_type": "code",
   "execution_count": 36,
   "metadata": {},
   "outputs": [
    {
     "data": {
      "text/html": [
       "<div>\n",
       "<style scoped>\n",
       "    .dataframe tbody tr th:only-of-type {\n",
       "        vertical-align: middle;\n",
       "    }\n",
       "\n",
       "    .dataframe tbody tr th {\n",
       "        vertical-align: top;\n",
       "    }\n",
       "\n",
       "    .dataframe thead th {\n",
       "        text-align: right;\n",
       "    }\n",
       "</style>\n",
       "<table border=\"1\" class=\"dataframe\">\n",
       "  <thead>\n",
       "    <tr style=\"text-align: right;\">\n",
       "      <th></th>\n",
       "      <th>lower</th>\n",
       "    </tr>\n",
       "    <tr>\n",
       "      <th>in_tilt</th>\n",
       "      <th></th>\n",
       "    </tr>\n",
       "  </thead>\n",
       "  <tbody>\n",
       "    <tr>\n",
       "      <th>False</th>\n",
       "      <td>0.458333</td>\n",
       "    </tr>\n",
       "    <tr>\n",
       "      <th>True</th>\n",
       "      <td>0.694444</td>\n",
       "    </tr>\n",
       "  </tbody>\n",
       "</table>\n",
       "</div>"
      ],
      "text/plain": [
       "            lower\n",
       "in_tilt          \n",
       "False    0.458333\n",
       "True     0.694444"
      ]
     },
     "execution_count": 36,
     "metadata": {},
     "output_type": "execute_result"
    }
   ],
   "source": [
    "mega.groupby(['older', 'in_tilt']).agg(np.median).loc[24, :]"
   ]
  },
  {
   "cell_type": "code",
   "execution_count": null,
   "metadata": {},
   "outputs": [],
   "source": []
  },
  {
   "cell_type": "code",
   "execution_count": 37,
   "metadata": {},
   "outputs": [
    {
     "data": {
      "image/png": "[encoded data removed]",
      "text/plain": [
       "<Figure size 432x288 with 1 Axes>"
      ]
     },
     "metadata": {
      "needs_background": "light"
     },
     "output_type": "display_data"
    }
   ],
   "source": [
    "plt.axhline(y=0.5, color='grey', linestyle='--')\n",
    "\n",
    "\n",
    "sns.boxplot(\n",
    "    x='in_tilt',\n",
    "    y='lower',\n",
    "    data=mega[mega['older']==24],\n",
    "    notch=True,\n",
    "    color='navajowhite'\n",
    ")\n",
    "\n",
    "\n",
    "plt.ylim([0, 1])\n",
    "\n",
    "if save_images:\n",
    "    export.export_image(\n",
    "        '{}/in_24_tilt.pdf'.format(out_path)\n",
    "    )"
   ]
  },
  {
   "cell_type": "code",
   "execution_count": 38,
   "metadata": {},
   "outputs": [],
   "source": [
    "from scipy.stats import mannwhitneyu"
   ]
  },
  {
   "cell_type": "code",
   "execution_count": 39,
   "metadata": {},
   "outputs": [
    {
     "data": {
      "text/plain": [
       "MannwhitneyuResult(statistic=91.5, pvalue=0.004746662874045564)"
      ]
     },
     "execution_count": 39,
     "metadata": {},
     "output_type": "execute_result"
    }
   ],
   "source": [
    "mannwhitneyu(\n",
    "    mega[\n",
    "    (mega['older']==24) &\n",
    "        (mega['in_tilt']==False)\n",
    "    ]['lower'],\n",
    "    mega[\n",
    "        (mega['older']==24) &\n",
    "        (mega['in_tilt']==True)\n",
    "    ]['lower'],\n",
    "    alternative='two-sided')"
   ]
  },
  {
   "cell_type": "code",
   "execution_count": null,
   "metadata": {},
   "outputs": [],
   "source": []
  },
  {
   "cell_type": "code",
   "execution_count": null,
   "metadata": {},
   "outputs": [],
   "source": []
  },
  {
   "cell_type": "code",
   "execution_count": null,
   "metadata": {},
   "outputs": [],
   "source": []
  }
 ],
 "metadata": {
  "kernelspec": {
   "display_name": "Python 3",
   "language": "python",
   "name": "python3"
  },
  "language_info": {
   "codemirror_mode": {
    "name": "ipython",
    "version": 3
   },
   "file_extension": ".py",
   "mimetype": "text/x-python",
   "name": "python",
   "nbconvert_exporter": "python",
   "pygments_lexer": "ipython3",
   "version": "3.7.3"
  }
 },
 "nbformat": 4,
 "nbformat_minor": 2
}
