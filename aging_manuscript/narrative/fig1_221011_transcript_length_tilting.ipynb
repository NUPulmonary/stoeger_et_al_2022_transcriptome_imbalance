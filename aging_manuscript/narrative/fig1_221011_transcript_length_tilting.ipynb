{
 "cells": [
  {
   "cell_type": "code",
   "execution_count": 1,
   "metadata": {},
   "outputs": [],
   "source": [
    "%matplotlib inline\n",
    "%reload_ext autoreload\n",
    "%autoreload 2"
   ]
  },
  {
   "cell_type": "code",
   "execution_count": 2,
   "metadata": {},
   "outputs": [],
   "source": [
    "import matplotlib as mpl\n",
    "mpl.rcParams['pdf.fonttype'] = 42\n",
    "mpl.rcParams['font.family'] = 'Arial'"
   ]
  },
  {
   "cell_type": "code",
   "execution_count": 3,
   "metadata": {},
   "outputs": [],
   "source": [
    "import os\n",
    "import sys\n",
    "\n",
    "src_dir = './../../src/'\n",
    "sys.path[0] = src_dir\n",
    "\n",
    "import matplotlib.pyplot as plt\n",
    "\n",
    "import glob\n",
    "\n",
    "import numpy as np\n",
    "import pandas as pd\n",
    "import seaborn as sns\n",
    "\n",
    "from collections import OrderedDict\n",
    "\n",
    "from access_biology_data import meta, relations, properties\n",
    "from access_literature_data import medline\n",
    "from access_science_shared import standardizer "
   ]
  },
  {
   "cell_type": "code",
   "execution_count": 4,
   "metadata": {},
   "outputs": [],
   "source": [
    "sys.path.append('./../src/')\n",
    "from aging_tools import inout, export\n",
    "from access_aging_data import earlier_studies, chaperome, companions, sequencing\n",
    "\n",
    "from access_science_shared import standardizer"
   ]
  },
  {
   "cell_type": "code",
   "execution_count": 5,
   "metadata": {},
   "outputs": [],
   "source": [
    "from narrative import nar181026_heat_confidence_genes\n",
    "# from narrative import nar181101_single_cell\n",
    "from narrative import nar181205_networks"
   ]
  },
  {
   "cell_type": "code",
   "execution_count": 6,
   "metadata": {},
   "outputs": [],
   "source": [
    "save_images = True"
   ]
  },
  {
   "cell_type": "code",
   "execution_count": 7,
   "metadata": {},
   "outputs": [],
   "source": [
    "outfolder = '221011_transcript_length_tilting'"
   ]
  },
  {
   "cell_type": "code",
   "execution_count": 8,
   "metadata": {},
   "outputs": [
    {
     "name": "stderr",
     "output_type": "stream",
     "text": [
      "/Users/tstoeger/opt/miniconda3/envs/aging/lib/python3.7/site-packages/fastparquet/dataframe.py:5: FutureWarning: pandas.core.index is deprecated and will be removed in a future version.  The public classes are available in the top-level namespace.\n",
      "  from pandas.core.index import CategoricalIndex, RangeIndex, Index, MultiIndex\n"
     ]
    }
   ],
   "source": [
    "ref_genes = standardizer.reference_genes(10090, 'orp')"
   ]
  },
  {
   "cell_type": "code",
   "execution_count": 9,
   "metadata": {},
   "outputs": [],
   "source": [
    "all_de, detection, mice_in_comparisons, triplicate_series = nar181026_heat_confidence_genes.load_detection(\n",
    "    detection_column='padj')"
   ]
  },
  {
   "cell_type": "code",
   "execution_count": 10,
   "metadata": {},
   "outputs": [],
   "source": [
    "tissues_to_consider = ['BAT', 'Blood', 'GutEP', 'MuscSat', 'Adrenal', 'Kidney',\n",
    "       'Heart', 'Liver', 'Skin', 'Stomach', 'Brain', 'SI',\n",
    "       'LI', 'Cerebellum', 'WAT', 'Esophagus', 'Lung', 'Musc', 'AM', 'AT2', 'MoDC'] \n",
    "\n"
   ]
  },
  {
   "cell_type": "code",
   "execution_count": 11,
   "metadata": {},
   "outputs": [
    {
     "data": {
      "text/plain": [
       "Lung          1469385\n",
       "AT2           1330239\n",
       "MoDC          1291319\n",
       "AM            1159674\n",
       "Blood         1151200\n",
       "Cerebellum     522224\n",
       "Skin           514485\n",
       "Stomach        514295\n",
       "Adrenal        513116\n",
       "LI             502097\n",
       "SI             501136\n",
       "Kidney         500097\n",
       "Esophagus      497821\n",
       "WAT            490950\n",
       "GutEP          481126\n",
       "Brain          475768\n",
       "MuscSat        466050\n",
       "BAT            463731\n",
       "Liver          463594\n",
       "Heart          400125\n",
       "Name: tissue, dtype: int64"
      ]
     },
     "execution_count": 11,
     "metadata": {},
     "output_type": "execute_result"
    }
   ],
   "source": [
    "all_de['tissue'].value_counts()"
   ]
  },
  {
   "cell_type": "code",
   "execution_count": 12,
   "metadata": {},
   "outputs": [],
   "source": [
    "all_de = all_de[\n",
    "    (all_de['tissue'].isin(tissues_to_consider)) & \n",
    "    (all_de['pfu']==0) &\n",
    "    (all_de['gene_ncbi'].isin(ref_genes))\n",
    "\n",
    "]\n"
   ]
  },
  {
   "cell_type": "code",
   "execution_count": null,
   "metadata": {},
   "outputs": [],
   "source": []
  },
  {
   "cell_type": "code",
   "execution_count": 13,
   "metadata": {},
   "outputs": [],
   "source": [
    "from scipy.stats import spearmanr"
   ]
  },
  {
   "cell_type": "code",
   "execution_count": 14,
   "metadata": {},
   "outputs": [],
   "source": [
    "from natsort import natsorted"
   ]
  },
  {
   "cell_type": "code",
   "execution_count": 15,
   "metadata": {},
   "outputs": [],
   "source": [
    "conditions = natsorted(all_de['condition'].unique())"
   ]
  },
  {
   "cell_type": "code",
   "execution_count": 16,
   "metadata": {},
   "outputs": [],
   "source": [
    "out = pd.DataFrame(index=conditions, columns=[\n",
    "    'corr', 'pval'\n",
    "]).rename_axis('condition')"
   ]
  },
  {
   "cell_type": "code",
   "execution_count": 17,
   "metadata": {},
   "outputs": [],
   "source": [
    "pr = properties.genbank_validated_rna(10090)[['gene_ncbi', 'Genbank_validated_RNA: full_SumACGT']].rename(columns={\n",
    "    'Genbank_validated_RNA: full_SumACGT': 'length'\n",
    "})\n",
    "\n",
    "pr.loc[:, 'log_length'] = np.log10(pr['length'])"
   ]
  },
  {
   "cell_type": "code",
   "execution_count": 18,
   "metadata": {},
   "outputs": [
    {
     "name": "stdout",
     "output_type": "stream",
     "text": [
      "CPU times: user 5min 47s, sys: 59.2 s, total: 6min 46s\n",
      "Wall time: 2min 46s\n"
     ]
    }
   ],
   "source": [
    "%%time\n",
    "\n",
    "for condition in conditions:\n",
    "    d = all_de[\n",
    "        (all_de['de_unit']=='both') & (all_de['condition']==condition)\n",
    "    ]\n",
    "\n",
    "    d = d[['gene_ncbi', 'o_over_y', 'log_padj', 'log_pvalue']].dropna()\n",
    "    d = pd.merge(d, pr)\n",
    "\n",
    "    r, p = spearmanr(d['log_length'], d['o_over_y'])\n",
    "    d = d.set_index('gene_ncbi')\n",
    "\n",
    "    out.loc[condition, 'corr'] = r\n",
    "    out.loc[condition, 'pval'] = p\n",
    "    out.loc[condition, 'genes'] = d.shape[0]"
   ]
  },
  {
   "cell_type": "code",
   "execution_count": 19,
   "metadata": {},
   "outputs": [],
   "source": [
    "# out = out.dropna()"
   ]
  },
  {
   "cell_type": "code",
   "execution_count": 20,
   "metadata": {},
   "outputs": [],
   "source": [
    "out = out.reset_index()"
   ]
  },
  {
   "cell_type": "code",
   "execution_count": 21,
   "metadata": {},
   "outputs": [],
   "source": [
    "out = pd.merge(out, all_de[['condition', 'younger', 'older']].drop_duplicates())"
   ]
  },
  {
   "cell_type": "code",
   "execution_count": 22,
   "metadata": {},
   "outputs": [],
   "source": [
    "mega = pd.merge(\n",
    "    out,\n",
    "    all_de[['condition', 'tissue', 'younger', 'older']].drop_duplicates()\n",
    ")"
   ]
  },
  {
   "cell_type": "code",
   "execution_count": 23,
   "metadata": {},
   "outputs": [],
   "source": [
    "\n",
    "if save_images:\n",
    "    export.export_full_frame('{}/stats_on_imbalance.xlsx'.format(outfolder), mega, save_index=False)"
   ]
  },
  {
   "cell_type": "code",
   "execution_count": 24,
   "metadata": {},
   "outputs": [
    {
     "data": {
      "text/html": [
       "<div>\n",
       "<style scoped>\n",
       "    .dataframe tbody tr th:only-of-type {\n",
       "        vertical-align: middle;\n",
       "    }\n",
       "\n",
       "    .dataframe tbody tr th {\n",
       "        vertical-align: top;\n",
       "    }\n",
       "\n",
       "    .dataframe thead th {\n",
       "        text-align: right;\n",
       "    }\n",
       "</style>\n",
       "<table border=\"1\" class=\"dataframe\">\n",
       "  <thead>\n",
       "    <tr style=\"text-align: right;\">\n",
       "      <th></th>\n",
       "      <th>condition</th>\n",
       "      <th>corr</th>\n",
       "      <th>pval</th>\n",
       "      <th>genes</th>\n",
       "      <th>younger</th>\n",
       "      <th>older</th>\n",
       "    </tr>\n",
       "  </thead>\n",
       "  <tbody>\n",
       "    <tr>\n",
       "      <th>0</th>\n",
       "      <td>AM_0_4_9</td>\n",
       "      <td>-0.239285</td>\n",
       "      <td>1.89389e-18</td>\n",
       "      <td>1305.0</td>\n",
       "      <td>4.0</td>\n",
       "      <td>9.0</td>\n",
       "    </tr>\n",
       "    <tr>\n",
       "      <th>1</th>\n",
       "      <td>AM_0_4_12</td>\n",
       "      <td>0.0382141</td>\n",
       "      <td>0.000637698</td>\n",
       "      <td>7983.0</td>\n",
       "      <td>4.0</td>\n",
       "      <td>12.0</td>\n",
       "    </tr>\n",
       "    <tr>\n",
       "      <th>2</th>\n",
       "      <td>AM_0_4_18</td>\n",
       "      <td>-0.0636075</td>\n",
       "      <td>6.27412e-08</td>\n",
       "      <td>7224.0</td>\n",
       "      <td>4.0</td>\n",
       "      <td>18.0</td>\n",
       "    </tr>\n",
       "    <tr>\n",
       "      <th>3</th>\n",
       "      <td>AM_0_4_24</td>\n",
       "      <td>-0.099084</td>\n",
       "      <td>2.43693e-18</td>\n",
       "      <td>7736.0</td>\n",
       "      <td>4.0</td>\n",
       "      <td>24.0</td>\n",
       "    </tr>\n",
       "    <tr>\n",
       "      <th>4</th>\n",
       "      <td>AM_0_9_12</td>\n",
       "      <td>0.0852567</td>\n",
       "      <td>1.42384e-16</td>\n",
       "      <td>9361.0</td>\n",
       "      <td>9.0</td>\n",
       "      <td>12.0</td>\n",
       "    </tr>\n",
       "  </tbody>\n",
       "</table>\n",
       "</div>"
      ],
      "text/plain": [
       "   condition       corr         pval   genes  younger  older\n",
       "0   AM_0_4_9  -0.239285  1.89389e-18  1305.0      4.0    9.0\n",
       "1  AM_0_4_12  0.0382141  0.000637698  7983.0      4.0   12.0\n",
       "2  AM_0_4_18 -0.0636075  6.27412e-08  7224.0      4.0   18.0\n",
       "3  AM_0_4_24  -0.099084  2.43693e-18  7736.0      4.0   24.0\n",
       "4  AM_0_9_12  0.0852567  1.42384e-16  9361.0      9.0   12.0"
      ]
     },
     "execution_count": 24,
     "metadata": {},
     "output_type": "execute_result"
    }
   ],
   "source": [
    "out.head()"
   ]
  },
  {
   "cell_type": "code",
   "execution_count": 25,
   "metadata": {},
   "outputs": [],
   "source": [
    "u = out[out['younger']==4]"
   ]
  },
  {
   "cell_type": "code",
   "execution_count": 26,
   "metadata": {},
   "outputs": [
    {
     "name": "stderr",
     "output_type": "stream",
     "text": [
      "/Users/tstoeger/opt/miniconda3/envs/aging/lib/python3.7/site-packages/ipykernel_launcher.py:1: SettingWithCopyWarning: \n",
      "A value is trying to be set on a copy of a slice from a DataFrame.\n",
      "Try using .loc[row_indexer,col_indexer] = value instead\n",
      "\n",
      "See the caveats in the documentation: https://pandas.pydata.org/pandas-docs/stable/user_guide/indexing.html#returning-a-view-versus-a-copy\n",
      "  \"\"\"Entry point for launching an IPython kernel.\n"
     ]
    }
   ],
   "source": [
    "u['corr'] = u['corr'].astype(float)"
   ]
  },
  {
   "cell_type": "code",
   "execution_count": 27,
   "metadata": {},
   "outputs": [
    {
     "name": "stderr",
     "output_type": "stream",
     "text": [
      "/Users/tstoeger/opt/miniconda3/envs/aging/lib/python3.7/site-packages/ipykernel_launcher.py:1: SettingWithCopyWarning: \n",
      "A value is trying to be set on a copy of a slice from a DataFrame.\n",
      "Try using .loc[row_indexer,col_indexer] = value instead\n",
      "\n",
      "See the caveats in the documentation: https://pandas.pydata.org/pandas-docs/stable/user_guide/indexing.html#returning-a-view-versus-a-copy\n",
      "  \"\"\"Entry point for launching an IPython kernel.\n"
     ]
    }
   ],
   "source": [
    "u['older'] = u['older'].astype(float)"
   ]
  },
  {
   "cell_type": "code",
   "execution_count": 28,
   "metadata": {},
   "outputs": [],
   "source": [
    "u = pd.merge(\n",
    "    u,\n",
    "    all_de[['condition', 'tissue']].drop_duplicates())"
   ]
  },
  {
   "cell_type": "code",
   "execution_count": 29,
   "metadata": {},
   "outputs": [
    {
     "data": {
      "image/png": "[encoded data removed]",
      "text/plain": [
       "<Figure size 432x288 with 1 Axes>"
      ]
     },
     "metadata": {
      "needs_background": "light"
     },
     "output_type": "display_data"
    }
   ],
   "source": [
    "sns.pointplot(x='older', y='corr', hue='tissue', data=u, dodge=True)\n",
    "plt.legend(bbox_to_anchor=(1.05, 1), loc=2, borderaxespad=0.)\n",
    "if save_images:\n",
    "    export.export_image('{}/tissue_line_4months_to_older.pdf'.format(outfolder))"
   ]
  },
  {
   "cell_type": "code",
   "execution_count": 30,
   "metadata": {},
   "outputs": [
    {
     "data": {
      "text/html": [
       "<div>\n",
       "<style scoped>\n",
       "    .dataframe tbody tr th:only-of-type {\n",
       "        vertical-align: middle;\n",
       "    }\n",
       "\n",
       "    .dataframe tbody tr th {\n",
       "        vertical-align: top;\n",
       "    }\n",
       "\n",
       "    .dataframe thead th {\n",
       "        text-align: right;\n",
       "    }\n",
       "</style>\n",
       "<table border=\"1\" class=\"dataframe\">\n",
       "  <thead>\n",
       "    <tr style=\"text-align: right;\">\n",
       "      <th></th>\n",
       "      <th>condition</th>\n",
       "      <th>corr</th>\n",
       "      <th>pval</th>\n",
       "      <th>genes</th>\n",
       "      <th>younger</th>\n",
       "      <th>older</th>\n",
       "      <th>tissue</th>\n",
       "    </tr>\n",
       "  </thead>\n",
       "  <tbody>\n",
       "    <tr>\n",
       "      <th>19</th>\n",
       "      <td>Blood_0_4_24</td>\n",
       "      <td>-0.646453</td>\n",
       "      <td>3.79871e-95</td>\n",
       "      <td>794.0</td>\n",
       "      <td>4.0</td>\n",
       "      <td>24.0</td>\n",
       "      <td>Blood</td>\n",
       "    </tr>\n",
       "    <tr>\n",
       "      <th>43</th>\n",
       "      <td>Kidney_0_4_24</td>\n",
       "      <td>-0.599801</td>\n",
       "      <td>0</td>\n",
       "      <td>8197.0</td>\n",
       "      <td>4.0</td>\n",
       "      <td>24.0</td>\n",
       "      <td>Kidney</td>\n",
       "    </tr>\n",
       "    <tr>\n",
       "      <th>67</th>\n",
       "      <td>SI_0_4_24</td>\n",
       "      <td>-0.548157</td>\n",
       "      <td>0</td>\n",
       "      <td>6036.0</td>\n",
       "      <td>4.0</td>\n",
       "      <td>24.0</td>\n",
       "      <td>SI</td>\n",
       "    </tr>\n",
       "    <tr>\n",
       "      <th>47</th>\n",
       "      <td>LI_0_4_24</td>\n",
       "      <td>-0.522198</td>\n",
       "      <td>0</td>\n",
       "      <td>9807.0</td>\n",
       "      <td>4.0</td>\n",
       "      <td>24.0</td>\n",
       "      <td>LI</td>\n",
       "    </tr>\n",
       "    <tr>\n",
       "      <th>75</th>\n",
       "      <td>Stomach_0_4_24</td>\n",
       "      <td>-0.438255</td>\n",
       "      <td>2.5601e-268</td>\n",
       "      <td>5745.0</td>\n",
       "      <td>4.0</td>\n",
       "      <td>24.0</td>\n",
       "      <td>Stomach</td>\n",
       "    </tr>\n",
       "    <tr>\n",
       "      <th>15</th>\n",
       "      <td>BAT_0_4_24</td>\n",
       "      <td>-0.334887</td>\n",
       "      <td>1.30268e-218</td>\n",
       "      <td>8376.0</td>\n",
       "      <td>4.0</td>\n",
       "      <td>24.0</td>\n",
       "      <td>BAT</td>\n",
       "    </tr>\n",
       "    <tr>\n",
       "      <th>31</th>\n",
       "      <td>Esophagus_0_4_24</td>\n",
       "      <td>-0.310671</td>\n",
       "      <td>1.92384e-151</td>\n",
       "      <td>6772.0</td>\n",
       "      <td>4.0</td>\n",
       "      <td>24.0</td>\n",
       "      <td>Esophagus</td>\n",
       "    </tr>\n",
       "    <tr>\n",
       "      <th>35</th>\n",
       "      <td>GutEP_0_4_24</td>\n",
       "      <td>-0.254853</td>\n",
       "      <td>6.09979e-122</td>\n",
       "      <td>8214.0</td>\n",
       "      <td>4.0</td>\n",
       "      <td>24.0</td>\n",
       "      <td>GutEP</td>\n",
       "    </tr>\n",
       "    <tr>\n",
       "      <th>39</th>\n",
       "      <td>Heart_0_4_24</td>\n",
       "      <td>-0.199111</td>\n",
       "      <td>4.54656e-101</td>\n",
       "      <td>11263.0</td>\n",
       "      <td>4.0</td>\n",
       "      <td>24.0</td>\n",
       "      <td>Heart</td>\n",
       "    </tr>\n",
       "    <tr>\n",
       "      <th>11</th>\n",
       "      <td>Adrenal_0_4_24</td>\n",
       "      <td>-0.162002</td>\n",
       "      <td>1.07144e-58</td>\n",
       "      <td>9814.0</td>\n",
       "      <td>4.0</td>\n",
       "      <td>24.0</td>\n",
       "      <td>Adrenal</td>\n",
       "    </tr>\n",
       "    <tr>\n",
       "      <th>63</th>\n",
       "      <td>MuscSat_0_4_24</td>\n",
       "      <td>-0.135331</td>\n",
       "      <td>1.04532e-39</td>\n",
       "      <td>9410.0</td>\n",
       "      <td>4.0</td>\n",
       "      <td>24.0</td>\n",
       "      <td>MuscSat</td>\n",
       "    </tr>\n",
       "    <tr>\n",
       "      <th>7</th>\n",
       "      <td>AT2_0_4_24</td>\n",
       "      <td>-0.127771</td>\n",
       "      <td>2.77639e-31</td>\n",
       "      <td>8225.0</td>\n",
       "      <td>4.0</td>\n",
       "      <td>24.0</td>\n",
       "      <td>AT2</td>\n",
       "    </tr>\n",
       "    <tr>\n",
       "      <th>79</th>\n",
       "      <td>WAT_0_4_24</td>\n",
       "      <td>-0.120297</td>\n",
       "      <td>3.76878e-33</td>\n",
       "      <td>9873.0</td>\n",
       "      <td>4.0</td>\n",
       "      <td>24.0</td>\n",
       "      <td>WAT</td>\n",
       "    </tr>\n",
       "    <tr>\n",
       "      <th>3</th>\n",
       "      <td>AM_0_4_24</td>\n",
       "      <td>-0.099084</td>\n",
       "      <td>2.43693e-18</td>\n",
       "      <td>7736.0</td>\n",
       "      <td>4.0</td>\n",
       "      <td>24.0</td>\n",
       "      <td>AM</td>\n",
       "    </tr>\n",
       "    <tr>\n",
       "      <th>51</th>\n",
       "      <td>Liver_0_4_24</td>\n",
       "      <td>-0.070883</td>\n",
       "      <td>2.39865e-13</td>\n",
       "      <td>10653.0</td>\n",
       "      <td>4.0</td>\n",
       "      <td>24.0</td>\n",
       "      <td>Liver</td>\n",
       "    </tr>\n",
       "    <tr>\n",
       "      <th>27</th>\n",
       "      <td>Cerebellum_0_4_24</td>\n",
       "      <td>-0.033110</td>\n",
       "      <td>0.000495157</td>\n",
       "      <td>11065.0</td>\n",
       "      <td>4.0</td>\n",
       "      <td>24.0</td>\n",
       "      <td>Cerebellum</td>\n",
       "    </tr>\n",
       "    <tr>\n",
       "      <th>59</th>\n",
       "      <td>MoDC_0_4_24</td>\n",
       "      <td>0.046474</td>\n",
       "      <td>2.05401e-06</td>\n",
       "      <td>10429.0</td>\n",
       "      <td>4.0</td>\n",
       "      <td>24.0</td>\n",
       "      <td>MoDC</td>\n",
       "    </tr>\n",
       "    <tr>\n",
       "      <th>71</th>\n",
       "      <td>Skin_0_4_24</td>\n",
       "      <td>0.140789</td>\n",
       "      <td>1.98503e-50</td>\n",
       "      <td>11142.0</td>\n",
       "      <td>4.0</td>\n",
       "      <td>24.0</td>\n",
       "      <td>Skin</td>\n",
       "    </tr>\n",
       "    <tr>\n",
       "      <th>55</th>\n",
       "      <td>Lung_0_4_24</td>\n",
       "      <td>0.143915</td>\n",
       "      <td>5.5887e-49</td>\n",
       "      <td>10341.0</td>\n",
       "      <td>4.0</td>\n",
       "      <td>24.0</td>\n",
       "      <td>Lung</td>\n",
       "    </tr>\n",
       "    <tr>\n",
       "      <th>23</th>\n",
       "      <td>Brain_0_4_24</td>\n",
       "      <td>0.193236</td>\n",
       "      <td>7.13538e-96</td>\n",
       "      <td>11345.0</td>\n",
       "      <td>4.0</td>\n",
       "      <td>24.0</td>\n",
       "      <td>Brain</td>\n",
       "    </tr>\n",
       "  </tbody>\n",
       "</table>\n",
       "</div>"
      ],
      "text/plain": [
       "            condition      corr          pval    genes  younger  older  \\\n",
       "19       Blood_0_4_24 -0.646453   3.79871e-95    794.0      4.0   24.0   \n",
       "43      Kidney_0_4_24 -0.599801             0   8197.0      4.0   24.0   \n",
       "67          SI_0_4_24 -0.548157             0   6036.0      4.0   24.0   \n",
       "47          LI_0_4_24 -0.522198             0   9807.0      4.0   24.0   \n",
       "75     Stomach_0_4_24 -0.438255   2.5601e-268   5745.0      4.0   24.0   \n",
       "15         BAT_0_4_24 -0.334887  1.30268e-218   8376.0      4.0   24.0   \n",
       "31   Esophagus_0_4_24 -0.310671  1.92384e-151   6772.0      4.0   24.0   \n",
       "35       GutEP_0_4_24 -0.254853  6.09979e-122   8214.0      4.0   24.0   \n",
       "39       Heart_0_4_24 -0.199111  4.54656e-101  11263.0      4.0   24.0   \n",
       "11     Adrenal_0_4_24 -0.162002   1.07144e-58   9814.0      4.0   24.0   \n",
       "63     MuscSat_0_4_24 -0.135331   1.04532e-39   9410.0      4.0   24.0   \n",
       "7          AT2_0_4_24 -0.127771   2.77639e-31   8225.0      4.0   24.0   \n",
       "79         WAT_0_4_24 -0.120297   3.76878e-33   9873.0      4.0   24.0   \n",
       "3           AM_0_4_24 -0.099084   2.43693e-18   7736.0      4.0   24.0   \n",
       "51       Liver_0_4_24 -0.070883   2.39865e-13  10653.0      4.0   24.0   \n",
       "27  Cerebellum_0_4_24 -0.033110   0.000495157  11065.0      4.0   24.0   \n",
       "59        MoDC_0_4_24  0.046474   2.05401e-06  10429.0      4.0   24.0   \n",
       "71        Skin_0_4_24  0.140789   1.98503e-50  11142.0      4.0   24.0   \n",
       "55        Lung_0_4_24  0.143915    5.5887e-49  10341.0      4.0   24.0   \n",
       "23       Brain_0_4_24  0.193236   7.13538e-96  11345.0      4.0   24.0   \n",
       "\n",
       "        tissue  \n",
       "19       Blood  \n",
       "43      Kidney  \n",
       "67          SI  \n",
       "47          LI  \n",
       "75     Stomach  \n",
       "15         BAT  \n",
       "31   Esophagus  \n",
       "35       GutEP  \n",
       "39       Heart  \n",
       "11     Adrenal  \n",
       "63     MuscSat  \n",
       "7          AT2  \n",
       "79         WAT  \n",
       "3           AM  \n",
       "51       Liver  \n",
       "27  Cerebellum  \n",
       "59        MoDC  \n",
       "71        Skin  \n",
       "55        Lung  \n",
       "23       Brain  "
      ]
     },
     "execution_count": 30,
     "metadata": {},
     "output_type": "execute_result"
    }
   ],
   "source": [
    "u[u['older']==24].sort_values('corr')"
   ]
  },
  {
   "cell_type": "code",
   "execution_count": 31,
   "metadata": {},
   "outputs": [],
   "source": [
    "from scipy.stats import mannwhitneyu"
   ]
  },
  {
   "cell_type": "code",
   "execution_count": 32,
   "metadata": {},
   "outputs": [
    {
     "data": {
      "text/plain": [
       "MannwhitneyuResult(statistic=111.0, pvalue=0.008334399412137733)"
      ]
     },
     "execution_count": 32,
     "metadata": {},
     "output_type": "execute_result"
    }
   ],
   "source": [
    "mannwhitneyu(\n",
    "    u[u['older']==18]['corr'],\n",
    "    u[u['older']==24]['corr'],\n",
    ")"
   ]
  },
  {
   "cell_type": "code",
   "execution_count": 33,
   "metadata": {},
   "outputs": [
    {
     "data": {
      "image/png": "[encoded data removed]",
      "text/plain": [
       "<Figure size 432x288 with 1 Axes>"
      ]
     },
     "metadata": {
      "needs_background": "light"
     },
     "output_type": "display_data"
    }
   ],
   "source": [
    "sns.boxplot(x='older', y='corr', data=u, notch=True, color='lightgrey')\n",
    "\n",
    "if save_images:\n",
    "    export.export_image('{}/box_4months_to_older.pdf'.format(outfolder))"
   ]
  },
  {
   "cell_type": "code",
   "execution_count": 34,
   "metadata": {},
   "outputs": [],
   "source": [
    "u = out.copy()"
   ]
  },
  {
   "cell_type": "code",
   "execution_count": 35,
   "metadata": {},
   "outputs": [],
   "source": [
    "u['older'] = u['older'].astype(float)\n",
    "u['corr'] = u['corr'].astype(float)"
   ]
  },
  {
   "cell_type": "code",
   "execution_count": 36,
   "metadata": {},
   "outputs": [
    {
     "data": {
      "image/png": "[encoded data removed]",
      "text/plain": [
       "<Figure size 432x288 with 1 Axes>"
      ]
     },
     "metadata": {
      "needs_background": "light"
     },
     "output_type": "display_data"
    }
   ],
   "source": [
    "sns.boxplot(x='older', y='corr', data=u, notch=True, color='lightgrey')\n",
    "if save_images:\n",
    "    export.export_image('{}/box_any_age_to_older.pdf'.format(outfolder))"
   ]
  },
  {
   "cell_type": "code",
   "execution_count": 37,
   "metadata": {},
   "outputs": [
    {
     "data": {
      "text/html": [
       "<div>\n",
       "<style scoped>\n",
       "    .dataframe tbody tr th:only-of-type {\n",
       "        vertical-align: middle;\n",
       "    }\n",
       "\n",
       "    .dataframe tbody tr th {\n",
       "        vertical-align: top;\n",
       "    }\n",
       "\n",
       "    .dataframe thead th {\n",
       "        text-align: right;\n",
       "    }\n",
       "</style>\n",
       "<table border=\"1\" class=\"dataframe\">\n",
       "  <thead>\n",
       "    <tr style=\"text-align: right;\">\n",
       "      <th></th>\n",
       "      <th>condition</th>\n",
       "      <th>corr</th>\n",
       "      <th>pval</th>\n",
       "      <th>genes</th>\n",
       "      <th>younger</th>\n",
       "      <th>older</th>\n",
       "    </tr>\n",
       "  </thead>\n",
       "  <tbody>\n",
       "    <tr>\n",
       "      <th>112</th>\n",
       "      <td>LI_0_4_18</td>\n",
       "      <td>-0.678338</td>\n",
       "      <td>0</td>\n",
       "      <td>8603.0</td>\n",
       "      <td>4.0</td>\n",
       "      <td>18.0</td>\n",
       "    </tr>\n",
       "    <tr>\n",
       "      <th>42</th>\n",
       "      <td>Blood_0_4_18</td>\n",
       "      <td>-0.188596</td>\n",
       "      <td>1.49011e-74</td>\n",
       "      <td>9217.0</td>\n",
       "      <td>4.0</td>\n",
       "      <td>18.0</td>\n",
       "    </tr>\n",
       "    <tr>\n",
       "      <th>82</th>\n",
       "      <td>GutEP_0_4_18</td>\n",
       "      <td>-0.169653</td>\n",
       "      <td>8.05382e-68</td>\n",
       "      <td>10371.0</td>\n",
       "      <td>4.0</td>\n",
       "      <td>18.0</td>\n",
       "    </tr>\n",
       "    <tr>\n",
       "      <th>132</th>\n",
       "      <td>Lung_0_4_18</td>\n",
       "      <td>-0.127924</td>\n",
       "      <td>1.85842e-39</td>\n",
       "      <td>10472.0</td>\n",
       "      <td>4.0</td>\n",
       "      <td>18.0</td>\n",
       "    </tr>\n",
       "    <tr>\n",
       "      <th>122</th>\n",
       "      <td>Liver_0_4_18</td>\n",
       "      <td>-0.113116</td>\n",
       "      <td>2.01273e-31</td>\n",
       "      <td>10562.0</td>\n",
       "      <td>4.0</td>\n",
       "      <td>18.0</td>\n",
       "    </tr>\n",
       "    <tr>\n",
       "      <th>32</th>\n",
       "      <td>BAT_0_4_18</td>\n",
       "      <td>-0.098445</td>\n",
       "      <td>6.38218e-19</td>\n",
       "      <td>8109.0</td>\n",
       "      <td>4.0</td>\n",
       "      <td>18.0</td>\n",
       "    </tr>\n",
       "    <tr>\n",
       "      <th>12</th>\n",
       "      <td>AT2_0_4_18</td>\n",
       "      <td>-0.081396</td>\n",
       "      <td>4.30455e-16</td>\n",
       "      <td>9945.0</td>\n",
       "      <td>4.0</td>\n",
       "      <td>18.0</td>\n",
       "    </tr>\n",
       "    <tr>\n",
       "      <th>72</th>\n",
       "      <td>Esophagus_0_4_18</td>\n",
       "      <td>-0.081018</td>\n",
       "      <td>1.61055e-12</td>\n",
       "      <td>7581.0</td>\n",
       "      <td>4.0</td>\n",
       "      <td>18.0</td>\n",
       "    </tr>\n",
       "    <tr>\n",
       "      <th>162</th>\n",
       "      <td>SI_0_4_18</td>\n",
       "      <td>-0.077829</td>\n",
       "      <td>1.47054e-15</td>\n",
       "      <td>10482.0</td>\n",
       "      <td>4.0</td>\n",
       "      <td>18.0</td>\n",
       "    </tr>\n",
       "    <tr>\n",
       "      <th>2</th>\n",
       "      <td>AM_0_4_18</td>\n",
       "      <td>-0.063608</td>\n",
       "      <td>6.27412e-08</td>\n",
       "      <td>7224.0</td>\n",
       "      <td>4.0</td>\n",
       "      <td>18.0</td>\n",
       "    </tr>\n",
       "    <tr>\n",
       "      <th>152</th>\n",
       "      <td>MuscSat_0_4_18</td>\n",
       "      <td>-0.035185</td>\n",
       "      <td>0.000333899</td>\n",
       "      <td>10392.0</td>\n",
       "      <td>4.0</td>\n",
       "      <td>18.0</td>\n",
       "    </tr>\n",
       "    <tr>\n",
       "      <th>192</th>\n",
       "      <td>WAT_0_4_18</td>\n",
       "      <td>0.010001</td>\n",
       "      <td>0.305164</td>\n",
       "      <td>10514.0</td>\n",
       "      <td>4.0</td>\n",
       "      <td>18.0</td>\n",
       "    </tr>\n",
       "    <tr>\n",
       "      <th>142</th>\n",
       "      <td>MoDC_0_4_18</td>\n",
       "      <td>0.014163</td>\n",
       "      <td>0.148114</td>\n",
       "      <td>10429.0</td>\n",
       "      <td>4.0</td>\n",
       "      <td>18.0</td>\n",
       "    </tr>\n",
       "    <tr>\n",
       "      <th>62</th>\n",
       "      <td>Cerebellum_0_4_18</td>\n",
       "      <td>0.032664</td>\n",
       "      <td>0.000510218</td>\n",
       "      <td>11317.0</td>\n",
       "      <td>4.0</td>\n",
       "      <td>18.0</td>\n",
       "    </tr>\n",
       "    <tr>\n",
       "      <th>182</th>\n",
       "      <td>Stomach_0_4_18</td>\n",
       "      <td>0.046722</td>\n",
       "      <td>4.47962e-07</td>\n",
       "      <td>11660.0</td>\n",
       "      <td>4.0</td>\n",
       "      <td>18.0</td>\n",
       "    </tr>\n",
       "    <tr>\n",
       "      <th>22</th>\n",
       "      <td>Adrenal_0_4_18</td>\n",
       "      <td>0.060057</td>\n",
       "      <td>1.6534e-09</td>\n",
       "      <td>10061.0</td>\n",
       "      <td>4.0</td>\n",
       "      <td>18.0</td>\n",
       "    </tr>\n",
       "    <tr>\n",
       "      <th>52</th>\n",
       "      <td>Brain_0_4_18</td>\n",
       "      <td>0.176835</td>\n",
       "      <td>3.80593e-80</td>\n",
       "      <td>11315.0</td>\n",
       "      <td>4.0</td>\n",
       "      <td>18.0</td>\n",
       "    </tr>\n",
       "    <tr>\n",
       "      <th>172</th>\n",
       "      <td>Skin_0_4_18</td>\n",
       "      <td>0.216470</td>\n",
       "      <td>2.90016e-116</td>\n",
       "      <td>10949.0</td>\n",
       "      <td>4.0</td>\n",
       "      <td>18.0</td>\n",
       "    </tr>\n",
       "    <tr>\n",
       "      <th>102</th>\n",
       "      <td>Kidney_0_4_18</td>\n",
       "      <td>0.250659</td>\n",
       "      <td>1.91759e-151</td>\n",
       "      <td>10591.0</td>\n",
       "      <td>4.0</td>\n",
       "      <td>18.0</td>\n",
       "    </tr>\n",
       "    <tr>\n",
       "      <th>92</th>\n",
       "      <td>Heart_0_4_18</td>\n",
       "      <td>0.526734</td>\n",
       "      <td>1.08962e-122</td>\n",
       "      <td>1710.0</td>\n",
       "      <td>4.0</td>\n",
       "      <td>18.0</td>\n",
       "    </tr>\n",
       "  </tbody>\n",
       "</table>\n",
       "</div>"
      ],
      "text/plain": [
       "             condition      corr          pval    genes  younger  older\n",
       "112          LI_0_4_18 -0.678338             0   8603.0      4.0   18.0\n",
       "42        Blood_0_4_18 -0.188596   1.49011e-74   9217.0      4.0   18.0\n",
       "82        GutEP_0_4_18 -0.169653   8.05382e-68  10371.0      4.0   18.0\n",
       "132        Lung_0_4_18 -0.127924   1.85842e-39  10472.0      4.0   18.0\n",
       "122       Liver_0_4_18 -0.113116   2.01273e-31  10562.0      4.0   18.0\n",
       "32          BAT_0_4_18 -0.098445   6.38218e-19   8109.0      4.0   18.0\n",
       "12          AT2_0_4_18 -0.081396   4.30455e-16   9945.0      4.0   18.0\n",
       "72    Esophagus_0_4_18 -0.081018   1.61055e-12   7581.0      4.0   18.0\n",
       "162          SI_0_4_18 -0.077829   1.47054e-15  10482.0      4.0   18.0\n",
       "2            AM_0_4_18 -0.063608   6.27412e-08   7224.0      4.0   18.0\n",
       "152     MuscSat_0_4_18 -0.035185   0.000333899  10392.0      4.0   18.0\n",
       "192         WAT_0_4_18  0.010001      0.305164  10514.0      4.0   18.0\n",
       "142        MoDC_0_4_18  0.014163      0.148114  10429.0      4.0   18.0\n",
       "62   Cerebellum_0_4_18  0.032664   0.000510218  11317.0      4.0   18.0\n",
       "182     Stomach_0_4_18  0.046722   4.47962e-07  11660.0      4.0   18.0\n",
       "22      Adrenal_0_4_18  0.060057    1.6534e-09  10061.0      4.0   18.0\n",
       "52        Brain_0_4_18  0.176835   3.80593e-80  11315.0      4.0   18.0\n",
       "172        Skin_0_4_18  0.216470  2.90016e-116  10949.0      4.0   18.0\n",
       "102      Kidney_0_4_18  0.250659  1.91759e-151  10591.0      4.0   18.0\n",
       "92        Heart_0_4_18  0.526734  1.08962e-122   1710.0      4.0   18.0"
      ]
     },
     "execution_count": 37,
     "metadata": {},
     "output_type": "execute_result"
    }
   ],
   "source": [
    "u[(u['younger']==4) & (u['older']==18)].sort_values('corr')"
   ]
  },
  {
   "cell_type": "code",
   "execution_count": 38,
   "metadata": {},
   "outputs": [
    {
     "data": {
      "text/html": [
       "<div>\n",
       "<style scoped>\n",
       "    .dataframe tbody tr th:only-of-type {\n",
       "        vertical-align: middle;\n",
       "    }\n",
       "\n",
       "    .dataframe tbody tr th {\n",
       "        vertical-align: top;\n",
       "    }\n",
       "\n",
       "    .dataframe thead th {\n",
       "        text-align: right;\n",
       "    }\n",
       "</style>\n",
       "<table border=\"1\" class=\"dataframe\">\n",
       "  <thead>\n",
       "    <tr style=\"text-align: right;\">\n",
       "      <th></th>\n",
       "      <th>condition</th>\n",
       "      <th>corr</th>\n",
       "      <th>pval</th>\n",
       "      <th>genes</th>\n",
       "      <th>younger</th>\n",
       "      <th>older</th>\n",
       "    </tr>\n",
       "  </thead>\n",
       "  <tbody>\n",
       "    <tr>\n",
       "      <th>43</th>\n",
       "      <td>Blood_0_4_24</td>\n",
       "      <td>-0.646453</td>\n",
       "      <td>3.79871e-95</td>\n",
       "      <td>794.0</td>\n",
       "      <td>4.0</td>\n",
       "      <td>24.0</td>\n",
       "    </tr>\n",
       "    <tr>\n",
       "      <th>103</th>\n",
       "      <td>Kidney_0_4_24</td>\n",
       "      <td>-0.599801</td>\n",
       "      <td>0</td>\n",
       "      <td>8197.0</td>\n",
       "      <td>4.0</td>\n",
       "      <td>24.0</td>\n",
       "    </tr>\n",
       "    <tr>\n",
       "      <th>163</th>\n",
       "      <td>SI_0_4_24</td>\n",
       "      <td>-0.548157</td>\n",
       "      <td>0</td>\n",
       "      <td>6036.0</td>\n",
       "      <td>4.0</td>\n",
       "      <td>24.0</td>\n",
       "    </tr>\n",
       "    <tr>\n",
       "      <th>113</th>\n",
       "      <td>LI_0_4_24</td>\n",
       "      <td>-0.522198</td>\n",
       "      <td>0</td>\n",
       "      <td>9807.0</td>\n",
       "      <td>4.0</td>\n",
       "      <td>24.0</td>\n",
       "    </tr>\n",
       "    <tr>\n",
       "      <th>183</th>\n",
       "      <td>Stomach_0_4_24</td>\n",
       "      <td>-0.438255</td>\n",
       "      <td>2.5601e-268</td>\n",
       "      <td>5745.0</td>\n",
       "      <td>4.0</td>\n",
       "      <td>24.0</td>\n",
       "    </tr>\n",
       "    <tr>\n",
       "      <th>33</th>\n",
       "      <td>BAT_0_4_24</td>\n",
       "      <td>-0.334887</td>\n",
       "      <td>1.30268e-218</td>\n",
       "      <td>8376.0</td>\n",
       "      <td>4.0</td>\n",
       "      <td>24.0</td>\n",
       "    </tr>\n",
       "    <tr>\n",
       "      <th>73</th>\n",
       "      <td>Esophagus_0_4_24</td>\n",
       "      <td>-0.310671</td>\n",
       "      <td>1.92384e-151</td>\n",
       "      <td>6772.0</td>\n",
       "      <td>4.0</td>\n",
       "      <td>24.0</td>\n",
       "    </tr>\n",
       "    <tr>\n",
       "      <th>83</th>\n",
       "      <td>GutEP_0_4_24</td>\n",
       "      <td>-0.254853</td>\n",
       "      <td>6.09979e-122</td>\n",
       "      <td>8214.0</td>\n",
       "      <td>4.0</td>\n",
       "      <td>24.0</td>\n",
       "    </tr>\n",
       "    <tr>\n",
       "      <th>93</th>\n",
       "      <td>Heart_0_4_24</td>\n",
       "      <td>-0.199111</td>\n",
       "      <td>4.54656e-101</td>\n",
       "      <td>11263.0</td>\n",
       "      <td>4.0</td>\n",
       "      <td>24.0</td>\n",
       "    </tr>\n",
       "    <tr>\n",
       "      <th>23</th>\n",
       "      <td>Adrenal_0_4_24</td>\n",
       "      <td>-0.162002</td>\n",
       "      <td>1.07144e-58</td>\n",
       "      <td>9814.0</td>\n",
       "      <td>4.0</td>\n",
       "      <td>24.0</td>\n",
       "    </tr>\n",
       "    <tr>\n",
       "      <th>153</th>\n",
       "      <td>MuscSat_0_4_24</td>\n",
       "      <td>-0.135331</td>\n",
       "      <td>1.04532e-39</td>\n",
       "      <td>9410.0</td>\n",
       "      <td>4.0</td>\n",
       "      <td>24.0</td>\n",
       "    </tr>\n",
       "    <tr>\n",
       "      <th>13</th>\n",
       "      <td>AT2_0_4_24</td>\n",
       "      <td>-0.127771</td>\n",
       "      <td>2.77639e-31</td>\n",
       "      <td>8225.0</td>\n",
       "      <td>4.0</td>\n",
       "      <td>24.0</td>\n",
       "    </tr>\n",
       "    <tr>\n",
       "      <th>193</th>\n",
       "      <td>WAT_0_4_24</td>\n",
       "      <td>-0.120297</td>\n",
       "      <td>3.76878e-33</td>\n",
       "      <td>9873.0</td>\n",
       "      <td>4.0</td>\n",
       "      <td>24.0</td>\n",
       "    </tr>\n",
       "    <tr>\n",
       "      <th>3</th>\n",
       "      <td>AM_0_4_24</td>\n",
       "      <td>-0.099084</td>\n",
       "      <td>2.43693e-18</td>\n",
       "      <td>7736.0</td>\n",
       "      <td>4.0</td>\n",
       "      <td>24.0</td>\n",
       "    </tr>\n",
       "    <tr>\n",
       "      <th>123</th>\n",
       "      <td>Liver_0_4_24</td>\n",
       "      <td>-0.070883</td>\n",
       "      <td>2.39865e-13</td>\n",
       "      <td>10653.0</td>\n",
       "      <td>4.0</td>\n",
       "      <td>24.0</td>\n",
       "    </tr>\n",
       "    <tr>\n",
       "      <th>63</th>\n",
       "      <td>Cerebellum_0_4_24</td>\n",
       "      <td>-0.033110</td>\n",
       "      <td>0.000495157</td>\n",
       "      <td>11065.0</td>\n",
       "      <td>4.0</td>\n",
       "      <td>24.0</td>\n",
       "    </tr>\n",
       "    <tr>\n",
       "      <th>143</th>\n",
       "      <td>MoDC_0_4_24</td>\n",
       "      <td>0.046474</td>\n",
       "      <td>2.05401e-06</td>\n",
       "      <td>10429.0</td>\n",
       "      <td>4.0</td>\n",
       "      <td>24.0</td>\n",
       "    </tr>\n",
       "    <tr>\n",
       "      <th>173</th>\n",
       "      <td>Skin_0_4_24</td>\n",
       "      <td>0.140789</td>\n",
       "      <td>1.98503e-50</td>\n",
       "      <td>11142.0</td>\n",
       "      <td>4.0</td>\n",
       "      <td>24.0</td>\n",
       "    </tr>\n",
       "    <tr>\n",
       "      <th>133</th>\n",
       "      <td>Lung_0_4_24</td>\n",
       "      <td>0.143915</td>\n",
       "      <td>5.5887e-49</td>\n",
       "      <td>10341.0</td>\n",
       "      <td>4.0</td>\n",
       "      <td>24.0</td>\n",
       "    </tr>\n",
       "    <tr>\n",
       "      <th>53</th>\n",
       "      <td>Brain_0_4_24</td>\n",
       "      <td>0.193236</td>\n",
       "      <td>7.13538e-96</td>\n",
       "      <td>11345.0</td>\n",
       "      <td>4.0</td>\n",
       "      <td>24.0</td>\n",
       "    </tr>\n",
       "  </tbody>\n",
       "</table>\n",
       "</div>"
      ],
      "text/plain": [
       "             condition      corr          pval    genes  younger  older\n",
       "43        Blood_0_4_24 -0.646453   3.79871e-95    794.0      4.0   24.0\n",
       "103      Kidney_0_4_24 -0.599801             0   8197.0      4.0   24.0\n",
       "163          SI_0_4_24 -0.548157             0   6036.0      4.0   24.0\n",
       "113          LI_0_4_24 -0.522198             0   9807.0      4.0   24.0\n",
       "183     Stomach_0_4_24 -0.438255   2.5601e-268   5745.0      4.0   24.0\n",
       "33          BAT_0_4_24 -0.334887  1.30268e-218   8376.0      4.0   24.0\n",
       "73    Esophagus_0_4_24 -0.310671  1.92384e-151   6772.0      4.0   24.0\n",
       "83        GutEP_0_4_24 -0.254853  6.09979e-122   8214.0      4.0   24.0\n",
       "93        Heart_0_4_24 -0.199111  4.54656e-101  11263.0      4.0   24.0\n",
       "23      Adrenal_0_4_24 -0.162002   1.07144e-58   9814.0      4.0   24.0\n",
       "153     MuscSat_0_4_24 -0.135331   1.04532e-39   9410.0      4.0   24.0\n",
       "13          AT2_0_4_24 -0.127771   2.77639e-31   8225.0      4.0   24.0\n",
       "193         WAT_0_4_24 -0.120297   3.76878e-33   9873.0      4.0   24.0\n",
       "3            AM_0_4_24 -0.099084   2.43693e-18   7736.0      4.0   24.0\n",
       "123       Liver_0_4_24 -0.070883   2.39865e-13  10653.0      4.0   24.0\n",
       "63   Cerebellum_0_4_24 -0.033110   0.000495157  11065.0      4.0   24.0\n",
       "143        MoDC_0_4_24  0.046474   2.05401e-06  10429.0      4.0   24.0\n",
       "173        Skin_0_4_24  0.140789   1.98503e-50  11142.0      4.0   24.0\n",
       "133        Lung_0_4_24  0.143915    5.5887e-49  10341.0      4.0   24.0\n",
       "53        Brain_0_4_24  0.193236   7.13538e-96  11345.0      4.0   24.0"
      ]
     },
     "execution_count": 38,
     "metadata": {},
     "output_type": "execute_result"
    }
   ],
   "source": [
    "u[(u['younger']==4) & (u['older']==24)].sort_values('corr')"
   ]
  },
  {
   "cell_type": "code",
   "execution_count": 39,
   "metadata": {},
   "outputs": [
    {
     "data": {
      "text/plain": [
       "MannwhitneyuResult(statistic=289.0, pvalue=0.016668798824275466)"
      ]
     },
     "execution_count": 39,
     "metadata": {},
     "output_type": "execute_result"
    }
   ],
   "source": [
    "mannwhitneyu(\n",
    "    u[(u['younger']==4) & (u['older']==18)]['corr'],\n",
    "    u[(u['younger']==4) & (u['older']==24)]['corr'],\n",
    "    alternative='two-sided'\n",
    ")"
   ]
  },
  {
   "cell_type": "code",
   "execution_count": 40,
   "metadata": {},
   "outputs": [
    {
     "data": {
      "text/plain": [
       "MannwhitneyuResult(statistic=273.0, pvalue=0.04986369021054049)"
      ]
     },
     "execution_count": 40,
     "metadata": {},
     "output_type": "execute_result"
    }
   ],
   "source": [
    "mannwhitneyu(\n",
    "    u[(u['younger']==4) & (u['older']==9)]['corr'],\n",
    "    u[(u['younger']==4) & (u['older']==24)]['corr'],\n",
    "    alternative='two-sided'\n",
    ")"
   ]
  },
  {
   "cell_type": "code",
   "execution_count": 41,
   "metadata": {},
   "outputs": [
    {
     "data": {
      "text/plain": [
       "MannwhitneyuResult(statistic=276.0, pvalue=0.04112359406047486)"
      ]
     },
     "execution_count": 41,
     "metadata": {},
     "output_type": "execute_result"
    }
   ],
   "source": [
    "mannwhitneyu(\n",
    "    u[(u['younger']==4) & (u['older']==12)]['corr'],\n",
    "    u[(u['younger']==4) & (u['older']==24)]['corr'],\n",
    "    alternative='two-sided'\n",
    ")"
   ]
  },
  {
   "cell_type": "code",
   "execution_count": 42,
   "metadata": {},
   "outputs": [
    {
     "data": {
      "text/plain": [
       "MannwhitneyuResult(statistic=173.0, pvalue=0.4734806277722057)"
      ]
     },
     "execution_count": 42,
     "metadata": {},
     "output_type": "execute_result"
    }
   ],
   "source": [
    "mannwhitneyu(\n",
    "    u[(u['younger']==4) & (u['older']==9)]['corr'],\n",
    "    u[(u['younger']==4) & (u['older']==18)]['corr'],\n",
    "    alternative='two-sided'\n",
    ")"
   ]
  },
  {
   "cell_type": "code",
   "execution_count": null,
   "metadata": {},
   "outputs": [],
   "source": []
  },
  {
   "cell_type": "code",
   "execution_count": null,
   "metadata": {},
   "outputs": [],
   "source": []
  },
  {
   "cell_type": "code",
   "execution_count": null,
   "metadata": {},
   "outputs": [],
   "source": []
  },
  {
   "cell_type": "code",
   "execution_count": null,
   "metadata": {},
   "outputs": [],
   "source": []
  },
  {
   "cell_type": "code",
   "execution_count": null,
   "metadata": {},
   "outputs": [],
   "source": []
  }
 ],
 "metadata": {
  "kernelspec": {
   "display_name": "Python 3",
   "language": "python",
   "name": "python3"
  },
  "language_info": {
   "codemirror_mode": {
    "name": "ipython",
    "version": 3
   },
   "file_extension": ".py",
   "mimetype": "text/x-python",
   "name": "python",
   "nbconvert_exporter": "python",
   "pygments_lexer": "ipython3",
   "version": "3.7.3"
  }
 },
 "nbformat": 4,
 "nbformat_minor": 2
}
