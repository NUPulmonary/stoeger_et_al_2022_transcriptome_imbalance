{
 "cells": [
  {
   "cell_type": "code",
   "execution_count": 1,
   "metadata": {},
   "outputs": [],
   "source": [
    "import os\n",
    "import sys\n",
    "\n",
    "src_dir = './../src/'\n",
    "sys.path[0] = src_dir\n",
    "\n",
    "import matplotlib.pyplot as plt\n",
    "\n",
    "import glob\n",
    "\n",
    "import numpy as np\n",
    "import pandas as pd\n",
    "import seaborn as sns\n",
    "\n",
    "from access_biology_data import meta, relations, properties\n",
    "from access_literature_data import medline\n",
    "from access_science_shared import standardizer "
   ]
  },
  {
   "cell_type": "code",
   "execution_count": 2,
   "metadata": {},
   "outputs": [],
   "source": [
    "sys.path.append('./../src/')\n",
    "from aging_tools import inout, export"
   ]
  },
  {
   "cell_type": "code",
   "execution_count": 3,
   "metadata": {},
   "outputs": [],
   "source": [
    "from os import listdir\n",
    "from os.path import isfile, join\n",
    "\n",
    "from scipy.stats import spearmanr"
   ]
  },
  {
   "cell_type": "code",
   "execution_count": 4,
   "metadata": {},
   "outputs": [],
   "source": [
    "from access_science_shared import mapper"
   ]
  },
  {
   "cell_type": "code",
   "execution_count": 5,
   "metadata": {},
   "outputs": [],
   "source": [
    "save_images = True\n",
    "outfolder = '211007_cache_gtex_self_controls_cds'"
   ]
  },
  {
   "cell_type": "code",
   "execution_count": 6,
   "metadata": {},
   "outputs": [
    {
     "name": "stderr",
     "output_type": "stream",
     "text": [
      "/Users/tstoeger/opt/miniconda3/envs/aging/lib/python3.7/site-packages/fastparquet/dataframe.py:5: FutureWarning: pandas.core.index is deprecated and will be removed in a future version.  The public classes are available in the top-level namespace.\n",
      "  from pandas.core.index import CategoricalIndex, RangeIndex, Index, MultiIndex\n"
     ]
    }
   ],
   "source": [
    "ref_genes = standardizer.reference_genes(9606, 'orp')"
   ]
  },
  {
   "cell_type": "code",
   "execution_count": 7,
   "metadata": {},
   "outputs": [],
   "source": [
    "\n",
    "pr = properties.genbank_validated_rna(9606)[\n",
    "    ['gene_ncbi', 'Genbank_validated_RNA: cds_SumACGT']].rename(columns={\n",
    "    'Genbank_validated_RNA: cds_SumACGT': 'length'\n",
    "})\n",
    "\n",
    "pr.loc[:, 'log_length'] = np.log10(pr['length'])\n",
    "pr = pr[pr['gene_ncbi'].isin(ref_genes)]"
   ]
  },
  {
   "cell_type": "code",
   "execution_count": null,
   "metadata": {},
   "outputs": [],
   "source": []
  },
  {
   "cell_type": "code",
   "execution_count": 8,
   "metadata": {},
   "outputs": [],
   "source": [
    "input_folders = {\n",
    "    'male': inout.get_internal_path('dynamic/tstoeger/200609_gtex_m/DE/Flu'),\n",
    "    'female': inout.get_internal_path('dynamic/tstoeger/200609_gtex_f/DE/Flu'),\n",
    "}"
   ]
  },
  {
   "cell_type": "code",
   "execution_count": 9,
   "metadata": {},
   "outputs": [],
   "source": [
    "agg = []\n",
    "\n",
    "for gender, folder in input_folders.items():\n",
    "\n",
    "    onlyfiles = [f for f in listdir(folder) if isfile(join(folder, f))]\n",
    "    manager = pd.Series([x for x in onlyfiles if x.endswith('.csv')]).to_frame('filename')\n",
    "    manager['tissue'] = manager['filename'].str.extract('^(.*?)_')\n",
    "    manager['decade'] = manager['filename'].str.extract('pfu_0_age_([0-9])_first').astype(float)\n",
    "    manager['animals'] = manager['filename'].str.extract('_first_([0-9\\-]+)_DE')\n",
    "    \n",
    "    manager = manager.reset_index()\n",
    "    \n",
    "    for j in manager.index:\n",
    "        filename = manager.loc[j, 'filename']\n",
    "        tissue = manager.loc[j, 'tissue']\n",
    "        decade = manager.loc[j, 'decade']\n",
    "        animals = manager.loc[j, 'animals']\n",
    "        \n",
    "\n",
    "        file = os.path.join(folder, filename)\n",
    "\n",
    "        df = pd.read_csv(file, usecols=['Symbol', 'log2FoldChange', 'padj']).rename(\n",
    "            columns={'Symbol': 'gene_ensembl'}\n",
    "        )\n",
    "\n",
    "        df = mapper.gene_ensembl_2_gene_ncbi_unambiguously(df, 9606).reset_index()\n",
    "\n",
    "        df = df[\n",
    "            (df['padj'].notnull())\n",
    "        ]\n",
    "        df = pd.merge(df, pr)\n",
    "        rho, pval = spearmanr(df['log_length'], df['log2FoldChange'])\n",
    "\n",
    "        results = dict()\n",
    "        results['tilt'] = rho\n",
    "        results['pval'] = pval\n",
    "        results['filename'] = filename\n",
    "        results['tissue'] = tissue\n",
    "        results['decade'] = decade\n",
    "        results['animals'] = animals        \n",
    "        results['gender'] = gender\n",
    "        \n",
    "        agg.append(results)"
   ]
  },
  {
   "cell_type": "code",
   "execution_count": 10,
   "metadata": {},
   "outputs": [],
   "source": [
    "out = pd.DataFrame(agg)"
   ]
  },
  {
   "cell_type": "code",
   "execution_count": 11,
   "metadata": {},
   "outputs": [],
   "source": [
    "if save_images:\n",
    "    export.export_full_frame(\n",
    "        '{}/stats_on_imbalance_self_controls.xlsx'.format(outfolder), \n",
    "        out, \n",
    "        insert_date_time=False,\n",
    "        save_index=False)\n",
    "    "
   ]
  },
  {
   "cell_type": "code",
   "execution_count": null,
   "metadata": {},
   "outputs": [],
   "source": []
  },
  {
   "cell_type": "code",
   "execution_count": null,
   "metadata": {},
   "outputs": [],
   "source": []
  },
  {
   "cell_type": "code",
   "execution_count": null,
   "metadata": {},
   "outputs": [],
   "source": []
  }
 ],
 "metadata": {
  "kernelspec": {
   "display_name": "Python 3",
   "language": "python",
   "name": "python3"
  },
  "language_info": {
   "codemirror_mode": {
    "name": "ipython",
    "version": 3
   },
   "file_extension": ".py",
   "mimetype": "text/x-python",
   "name": "python",
   "nbconvert_exporter": "python",
   "pygments_lexer": "ipython3",
   "version": "3.7.3"
  },
  "toc": {
   "base_numbering": 1,
   "nav_menu": {},
   "number_sections": true,
   "sideBar": true,
   "skip_h1_title": false,
   "title_cell": "Table of Contents",
   "title_sidebar": "Contents",
   "toc_cell": false,
   "toc_position": {},
   "toc_section_display": true,
   "toc_window_display": false
  }
 },
 "nbformat": 4,
 "nbformat_minor": 2
}
