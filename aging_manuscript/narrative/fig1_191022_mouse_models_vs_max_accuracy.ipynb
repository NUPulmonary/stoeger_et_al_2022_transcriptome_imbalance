{
 "cells": [
  {
   "cell_type": "code",
   "execution_count": 1,
   "metadata": {},
   "outputs": [],
   "source": [
    "%matplotlib inline \n",
    "%reload_ext autoreload\n",
    "%autoreload 2"
   ]
  },
  {
   "cell_type": "code",
   "execution_count": 2,
   "metadata": {},
   "outputs": [],
   "source": [
    "import matplotlib as mpl\n",
    "mpl.rcParams['pdf.fonttype'] = 42\n",
    "mpl.rcParams['font.family'] = 'Arial'"
   ]
  },
  {
   "cell_type": "code",
   "execution_count": 3,
   "metadata": {},
   "outputs": [],
   "source": [
    "import os\n",
    "\n",
    "import numpy as np\n",
    "import pandas as pd\n",
    "import seaborn as sns\n",
    "\n",
    "import matplotlib.pyplot as plt\n",
    "\n",
    "from scipy.stats import spearmanr"
   ]
  },
  {
   "cell_type": "code",
   "execution_count": 4,
   "metadata": {},
   "outputs": [],
   "source": [
    "from access_biology_data import meta, relations, annotation, properties\n",
    "from access_literature_data import medline\n",
    "from access_science_shared import standardizer\n",
    "\n",
    "import sys\n",
    "sys.path.append('./../src/')\n",
    "from aging_tools import inout, export, calculators\n",
    "from access_aging_data import chaperome, earlier_studies, sequencing\n"
   ]
  },
  {
   "cell_type": "code",
   "execution_count": 5,
   "metadata": {},
   "outputs": [],
   "source": [
    "import random"
   ]
  },
  {
   "cell_type": "code",
   "execution_count": 6,
   "metadata": {},
   "outputs": [],
   "source": [
    "import matplotlib\n",
    "matplotlib.rcParams.update({'font.size': 10})"
   ]
  },
  {
   "cell_type": "code",
   "execution_count": 7,
   "metadata": {},
   "outputs": [],
   "source": [
    "out_folder = '191022_mouse_models_vs_max_accuracy'\n",
    "in_folder = '190406_predict_fold_change_mouse'"
   ]
  },
  {
   "cell_type": "code",
   "execution_count": 8,
   "metadata": {},
   "outputs": [],
   "source": [
    "save_images = False"
   ]
  },
  {
   "cell_type": "code",
   "execution_count": 9,
   "metadata": {},
   "outputs": [],
   "source": [
    "from narrative import nar181026_heat_confidence_genes"
   ]
  },
  {
   "cell_type": "code",
   "execution_count": 10,
   "metadata": {},
   "outputs": [],
   "source": [
    "ref_genes = standardizer.reference_genes(10090, 'orp')  # only consider supported protein coding-genes"
   ]
  },
  {
   "cell_type": "code",
   "execution_count": 11,
   "metadata": {},
   "outputs": [],
   "source": [
    "all_de, detection, mice_in_comparisons, triplicate_series = nar181026_heat_confidence_genes.load_detection(\n",
    "    detection_column='padj')\n",
    "\n",
    "tissues_to_consider = ['BAT', 'Blood', 'GutEP', 'MuscSat', 'Adrenal', 'Kidney',\n",
    "       'Heart', 'Liver', 'Skin', 'Stomach', 'Brain', 'SI',\n",
    "       'LI', 'Cerebellum', 'WAT', 'Esophagus', 'Lung'] \n",
    "pfus=[0]"
   ]
  },
  {
   "cell_type": "code",
   "execution_count": 12,
   "metadata": {},
   "outputs": [],
   "source": [
    "all_de = all_de[\n",
    "    (all_de['younger'] == 4) & \n",
    "    (all_de['is_detected'] == True) &\n",
    "    (all_de['de_unit'] == 'both') &\n",
    "    (all_de['tissue'].isin(tissues_to_consider)) &\n",
    "    (all_de['pfu'].isin(pfus)) & \n",
    "    (all_de['gene_ncbi'].isin(ref_genes))\n",
    "]\n",
    "all_de['significant'] = all_de['padj'] < 0.05"
   ]
  },
  {
   "cell_type": "code",
   "execution_count": 13,
   "metadata": {},
   "outputs": [],
   "source": [
    "sign = all_de[['condition', 'significant']].groupby('condition').agg(sum)"
   ]
  },
  {
   "cell_type": "code",
   "execution_count": null,
   "metadata": {},
   "outputs": [],
   "source": []
  },
  {
   "cell_type": "code",
   "execution_count": null,
   "metadata": {},
   "outputs": [],
   "source": []
  },
  {
   "cell_type": "code",
   "execution_count": 14,
   "metadata": {},
   "outputs": [],
   "source": [
    "agg = []\n",
    "\n",
    "for condition in all_de['condition'].unique():\n",
    "\n",
    "    p = export.get_material_path(\n",
    "        '{}/predictions_{}.csv'.format(in_folder, condition))\n",
    "    if os.path.exists(p):\n",
    "        agg.append(pd.read_csv(p))\n",
    "\n",
    "\n",
    "df = pd.concat(agg).rename(columns={'Unnamed: 0': 'condition'}).set_index('condition')\n",
    "df['mean'] = df.mean(1)\n",
    "df.loc[:, 'min'] = df.min(1)\n",
    "df.loc[:, 'max'] = df.max(1)"
   ]
  },
  {
   "cell_type": "code",
   "execution_count": 15,
   "metadata": {},
   "outputs": [],
   "source": [
    "d = pd.merge(sign.reset_index(), df[['mean', 'max', 'min']].reset_index())\n",
    "# d = pd.merge(sign.reset_index(), df[['mean']].reset_index())\n",
    "\n",
    "\n",
    "f = d['significant'] > 0\n",
    "d.loc[f, 'log_significant'] = d.loc[f, 'significant'].apply(lambda x: np.log10(x))"
   ]
  },
  {
   "cell_type": "code",
   "execution_count": null,
   "metadata": {},
   "outputs": [],
   "source": []
  },
  {
   "cell_type": "code",
   "execution_count": null,
   "metadata": {},
   "outputs": [],
   "source": []
  },
  {
   "cell_type": "code",
   "execution_count": 16,
   "metadata": {},
   "outputs": [],
   "source": [
    "predictions = d.copy()"
   ]
  },
  {
   "cell_type": "code",
   "execution_count": 17,
   "metadata": {},
   "outputs": [],
   "source": [
    "ref_genes = standardizer.reference_genes(10090, 'orp')  # only consider supported protein coding-genes\n",
    "\n",
    "all_de, detection, mice_in_comparisons, triplicate_series = nar181026_heat_confidence_genes.load_detection(\n",
    "    detection_column='padj')\n",
    "\n",
    "tissues_to_consider = ['BAT', 'Blood', 'GutEP', 'MuscSat', 'Adrenal', 'Kidney',\n",
    "       'Heart', 'Liver', 'Skin', 'Stomach', 'Brain', 'SI',\n",
    "       'LI', 'Cerebellum', 'WAT', 'Esophagus', 'Lung'] \n",
    "pfus=[0]\n",
    "\n",
    "first = all_de[\n",
    "    (all_de['younger'] == 4) & \n",
    "    (all_de['is_detected'] == True) &\n",
    "    (all_de['de_unit'] == 'first') &\n",
    "    (all_de['tissue'].isin(tissues_to_consider)) &\n",
    "    (all_de['pfu'].isin(pfus)) & \n",
    "    (all_de['gene_ncbi'].isin(ref_genes))\n",
    "]\n",
    "\n",
    "second = all_de[\n",
    "    (all_de['younger'] == 4) & \n",
    "    (all_de['is_detected'] == True) &\n",
    "    (all_de['de_unit'] == 'second') &\n",
    "    (all_de['tissue'].isin(tissues_to_consider)) &\n",
    "    (all_de['pfu'].isin(pfus)) & \n",
    "    (all_de['gene_ncbi'].isin(ref_genes))\n",
    "]\n",
    "\n",
    "\n",
    "ages = [9, 12, 18, 24]\n",
    "\n",
    "out = pd.DataFrame(index=tissues_to_consider, columns=ages)\n",
    "\n",
    "from scipy.stats import spearmanr\n",
    "\n",
    "agg = []\n",
    "\n",
    "for tissue in tissues_to_consider:\n",
    "    for age in ages:\n",
    "        fi = first[\n",
    "            (first['older']==age) & \n",
    "            (first['tissue']==tissue)            \n",
    "        ][['gene_ncbi', 'o_over_y']]\n",
    "        \n",
    "        \n",
    "        se = second[\n",
    "            (second['older']==age) & \n",
    "            (second['tissue']==tissue)          \n",
    "        ][['gene_ncbi', 'o_over_y']]\n",
    "        \n",
    "        m =pd.merge(fi, se, on='gene_ncbi', how='inner', suffixes=('_fi', '_se'))\n",
    "        \n",
    "        di = dict()\n",
    "        di['tissue'] = tissue\n",
    "        di['age'] = age\n",
    "        di['rho'] = spearmanr(m['o_over_y_fi'], m['o_over_y_se'])[0]\n",
    "        agg.append(di)\n",
    "\n",
    "o = pd.DataFrame(agg)\n",
    "\n",
    "# h = o.pivot(index='tissue', columns='age', values='rho')\n",
    "\n",
    "# f = h>0\n",
    "\n",
    "# h[~f] = 0"
   ]
  },
  {
   "cell_type": "code",
   "execution_count": 18,
   "metadata": {},
   "outputs": [
    {
     "data": {
      "text/html": [
       "<div>\n",
       "<style scoped>\n",
       "    .dataframe tbody tr th:only-of-type {\n",
       "        vertical-align: middle;\n",
       "    }\n",
       "\n",
       "    .dataframe tbody tr th {\n",
       "        vertical-align: top;\n",
       "    }\n",
       "\n",
       "    .dataframe thead th {\n",
       "        text-align: right;\n",
       "    }\n",
       "</style>\n",
       "<table border=\"1\" class=\"dataframe\">\n",
       "  <thead>\n",
       "    <tr style=\"text-align: right;\">\n",
       "      <th></th>\n",
       "      <th>condition</th>\n",
       "      <th>significant</th>\n",
       "      <th>mean</th>\n",
       "      <th>max</th>\n",
       "      <th>min</th>\n",
       "      <th>log_significant</th>\n",
       "    </tr>\n",
       "  </thead>\n",
       "  <tbody>\n",
       "    <tr>\n",
       "      <th>0</th>\n",
       "      <td>Adrenal_0_4_12</td>\n",
       "      <td>464.0</td>\n",
       "      <td>0.309188</td>\n",
       "      <td>0.350171</td>\n",
       "      <td>0.259096</td>\n",
       "      <td>2.666518</td>\n",
       "    </tr>\n",
       "    <tr>\n",
       "      <th>1</th>\n",
       "      <td>Adrenal_0_4_18</td>\n",
       "      <td>974.0</td>\n",
       "      <td>0.237433</td>\n",
       "      <td>0.263238</td>\n",
       "      <td>0.192532</td>\n",
       "      <td>2.988559</td>\n",
       "    </tr>\n",
       "    <tr>\n",
       "      <th>2</th>\n",
       "      <td>Adrenal_0_4_24</td>\n",
       "      <td>647.0</td>\n",
       "      <td>0.285258</td>\n",
       "      <td>0.328871</td>\n",
       "      <td>0.252957</td>\n",
       "      <td>2.810904</td>\n",
       "    </tr>\n",
       "    <tr>\n",
       "      <th>3</th>\n",
       "      <td>Adrenal_0_4_9</td>\n",
       "      <td>30.0</td>\n",
       "      <td>0.174306</td>\n",
       "      <td>0.207960</td>\n",
       "      <td>0.122643</td>\n",
       "      <td>1.477121</td>\n",
       "    </tr>\n",
       "    <tr>\n",
       "      <th>4</th>\n",
       "      <td>BAT_0_4_12</td>\n",
       "      <td>70.0</td>\n",
       "      <td>0.189746</td>\n",
       "      <td>0.242940</td>\n",
       "      <td>0.152044</td>\n",
       "      <td>1.845098</td>\n",
       "    </tr>\n",
       "  </tbody>\n",
       "</table>\n",
       "</div>"
      ],
      "text/plain": [
       "        condition  significant      mean       max       min  log_significant\n",
       "0  Adrenal_0_4_12        464.0  0.309188  0.350171  0.259096         2.666518\n",
       "1  Adrenal_0_4_18        974.0  0.237433  0.263238  0.192532         2.988559\n",
       "2  Adrenal_0_4_24        647.0  0.285258  0.328871  0.252957         2.810904\n",
       "3   Adrenal_0_4_9         30.0  0.174306  0.207960  0.122643         1.477121\n",
       "4      BAT_0_4_12         70.0  0.189746  0.242940  0.152044         1.845098"
      ]
     },
     "execution_count": 18,
     "metadata": {},
     "output_type": "execute_result"
    }
   ],
   "source": [
    "predictions.head()"
   ]
  },
  {
   "cell_type": "code",
   "execution_count": null,
   "metadata": {},
   "outputs": [],
   "source": []
  },
  {
   "cell_type": "code",
   "execution_count": 19,
   "metadata": {},
   "outputs": [],
   "source": [
    "r = pd.merge(\n",
    "    pd.merge(\n",
    "        all_de.loc[\n",
    "            (all_de['younger']==4) & (all_de['pfu']==0), \n",
    "            ['condition', 'older', 'tissue']].drop_duplicates(),\n",
    "        o.rename(columns={'age': 'older'})\n",
    "    ),\n",
    "    predictions[['condition', 'mean', 'max', 'min']]\n",
    ")\n"
   ]
  },
  {
   "cell_type": "code",
   "execution_count": 20,
   "metadata": {},
   "outputs": [
    {
     "data": {
      "image/png": "[encoded data removed]",
      "text/plain": [
       "<Figure size 360x360 with 1 Axes>"
      ]
     },
     "metadata": {
      "needs_background": "light"
     },
     "output_type": "display_data"
    }
   ],
   "source": [
    "plt.figure(figsize=(5, 5))\n",
    "\n",
    "plt.plot([-1, 1], [-1, 1], '--k')\n",
    "plt.scatter(r['rho'], r['mean'], c=r['older'], cmap='Set3')\n",
    "plt.xlabel('Accuracy, between replicates')\n",
    "plt.ylabel('Accuracy, out-of-sample prediction')\n",
    "\n",
    "\n",
    "\n",
    "plt.xlim(r['rho'].min()-0.1, r['rho'].max()+0.1)\n",
    "plt.ylim(r['mean'].min()-0.1, r['mean'].max()+0.1)\n",
    "\n",
    "for j in predictions.index:\n",
    "    plt.plot(\n",
    "        [r.loc[j, 'rho'], r.loc[j, 'rho']], \n",
    "        [r.loc[j, 'min'], r.loc[j, 'max']],\n",
    "        'grey')\n",
    "\n",
    "if save_images:\n",
    "    export.export_image(\n",
    "    '{}/scatter_with_bar.pdf'.format(out_folder))"
   ]
  },
  {
   "cell_type": "code",
   "execution_count": 21,
   "metadata": {},
   "outputs": [
    {
     "data": {
      "image/png": "[encoded data removed]",
      "text/plain": [
       "<Figure size 360x360 with 2 Axes>"
      ]
     },
     "metadata": {
      "needs_background": "light"
     },
     "output_type": "display_data"
    }
   ],
   "source": [
    "plt.figure(figsize=(5, 5))\n",
    "\n",
    "plt.plot([-1, 1], [-1, 1], '--k')\n",
    "plt.scatter(r['rho'], r['mean'], c=r['older'], cmap='Set3')\n",
    "plt.xlabel('Accuracy, between replicates')\n",
    "plt.ylabel('Accuracy, out-of-sample prediction')\n",
    "\n",
    "plt.colorbar()\n",
    "\n",
    "plt.xlim(r['rho'].min()-0.1, r['rho'].max()+0.1)\n",
    "plt.ylim(r['mean'].min()-0.1, r['mean'].max()+0.1)\n",
    "\n",
    "\n",
    "if save_images:\n",
    "    export.export_image(\n",
    "    '{}/scatter.pdf'.format(out_folder))"
   ]
  },
  {
   "cell_type": "code",
   "execution_count": 22,
   "metadata": {},
   "outputs": [
    {
     "data": {
      "text/plain": [
       "0.11945255335166144"
      ]
     },
     "execution_count": 22,
     "metadata": {},
     "output_type": "execute_result"
    }
   ],
   "source": [
    "r['rho'].median()"
   ]
  },
  {
   "cell_type": "code",
   "execution_count": 23,
   "metadata": {},
   "outputs": [
    {
     "data": {
      "text/plain": [
       "0.20665302275262837"
      ]
     },
     "execution_count": 23,
     "metadata": {},
     "output_type": "execute_result"
    }
   ],
   "source": [
    "r['mean'].median()"
   ]
  },
  {
   "cell_type": "code",
   "execution_count": 24,
   "metadata": {},
   "outputs": [
    {
     "name": "stderr",
     "output_type": "stream",
     "text": [
      "/Users/tstoeger/anaconda3/lib/python3.7/site-packages/numpy/lib/function_base.py:3826: RuntimeWarning: Invalid value encountered in percentile\n",
      "  interpolation=interpolation)\n"
     ]
    },
    {
     "data": {
      "text/plain": [
       "nan"
      ]
     },
     "execution_count": 24,
     "metadata": {},
     "output_type": "execute_result"
    }
   ],
   "source": [
    "np.quantile(r['rho'], 0.25)"
   ]
  },
  {
   "cell_type": "code",
   "execution_count": 27,
   "metadata": {},
   "outputs": [
    {
     "data": {
      "text/plain": [
       "-0.002047111405567523"
      ]
     },
     "execution_count": 27,
     "metadata": {},
     "output_type": "execute_result"
    }
   ],
   "source": [
    "np.quantile(r['rho'].dropna(), 0.25)"
   ]
  },
  {
   "cell_type": "code",
   "execution_count": 28,
   "metadata": {},
   "outputs": [
    {
     "data": {
      "text/plain": [
       "0.23061232233953743"
      ]
     },
     "execution_count": 28,
     "metadata": {},
     "output_type": "execute_result"
    }
   ],
   "source": [
    "np.quantile(r['rho'].dropna(), 0.75)"
   ]
  },
  {
   "cell_type": "code",
   "execution_count": 29,
   "metadata": {},
   "outputs": [
    {
     "data": {
      "text/plain": [
       "0.14369198860322316"
      ]
     },
     "execution_count": 29,
     "metadata": {},
     "output_type": "execute_result"
    }
   ],
   "source": [
    "np.quantile(r['mean'].dropna(), 0.25)"
   ]
  },
  {
   "cell_type": "code",
   "execution_count": 30,
   "metadata": {},
   "outputs": [
    {
     "data": {
      "text/plain": [
       "0.2878170890349824"
      ]
     },
     "execution_count": 30,
     "metadata": {},
     "output_type": "execute_result"
    }
   ],
   "source": [
    "np.quantile(r['mean'].dropna(), 0.75)"
   ]
  },
  {
   "cell_type": "code",
   "execution_count": null,
   "metadata": {},
   "outputs": [],
   "source": []
  },
  {
   "cell_type": "code",
   "execution_count": 22,
   "metadata": {},
   "outputs": [
    {
     "data": {
      "text/html": [
       "<div>\n",
       "<style scoped>\n",
       "    .dataframe tbody tr th:only-of-type {\n",
       "        vertical-align: middle;\n",
       "    }\n",
       "\n",
       "    .dataframe tbody tr th {\n",
       "        vertical-align: top;\n",
       "    }\n",
       "\n",
       "    .dataframe thead th {\n",
       "        text-align: right;\n",
       "    }\n",
       "</style>\n",
       "<table border=\"1\" class=\"dataframe\">\n",
       "  <thead>\n",
       "    <tr style=\"text-align: right;\">\n",
       "      <th></th>\n",
       "      <th>condition</th>\n",
       "      <th>older</th>\n",
       "      <th>tissue</th>\n",
       "      <th>rho</th>\n",
       "      <th>mean</th>\n",
       "      <th>max</th>\n",
       "      <th>min</th>\n",
       "    </tr>\n",
       "  </thead>\n",
       "  <tbody>\n",
       "    <tr>\n",
       "      <th>46</th>\n",
       "      <td>Kidney_0_4_24</td>\n",
       "      <td>24.0</td>\n",
       "      <td>Kidney</td>\n",
       "      <td>0.538482</td>\n",
       "      <td>0.471329</td>\n",
       "      <td>0.500435</td>\n",
       "      <td>0.427534</td>\n",
       "    </tr>\n",
       "    <tr>\n",
       "      <th>63</th>\n",
       "      <td>SI_0_4_24</td>\n",
       "      <td>24.0</td>\n",
       "      <td>SI</td>\n",
       "      <td>0.596738</td>\n",
       "      <td>0.403170</td>\n",
       "      <td>0.445528</td>\n",
       "      <td>0.385018</td>\n",
       "    </tr>\n",
       "    <tr>\n",
       "      <th>33</th>\n",
       "      <td>LI_0_4_24</td>\n",
       "      <td>24.0</td>\n",
       "      <td>LI</td>\n",
       "      <td>0.620971</td>\n",
       "      <td>0.404364</td>\n",
       "      <td>0.446379</td>\n",
       "      <td>0.360635</td>\n",
       "    </tr>\n",
       "    <tr>\n",
       "      <th>36</th>\n",
       "      <td>Kidney_0_4_9</td>\n",
       "      <td>9.0</td>\n",
       "      <td>Kidney</td>\n",
       "      <td>0.704399</td>\n",
       "      <td>0.482377</td>\n",
       "      <td>0.515712</td>\n",
       "      <td>0.435595</td>\n",
       "    </tr>\n",
       "    <tr>\n",
       "      <th>40</th>\n",
       "      <td>Heart_0_4_9</td>\n",
       "      <td>9.0</td>\n",
       "      <td>Heart</td>\n",
       "      <td>0.751957</td>\n",
       "      <td>0.330360</td>\n",
       "      <td>0.389649</td>\n",
       "      <td>0.292652</td>\n",
       "    </tr>\n",
       "    <tr>\n",
       "      <th>53</th>\n",
       "      <td>LI_0_4_18</td>\n",
       "      <td>18.0</td>\n",
       "      <td>LI</td>\n",
       "      <td>0.829725</td>\n",
       "      <td>0.479915</td>\n",
       "      <td>0.510783</td>\n",
       "      <td>0.442318</td>\n",
       "    </tr>\n",
       "    <tr>\n",
       "      <th>20</th>\n",
       "      <td>Cerebellum_0_4_9</td>\n",
       "      <td>9.0</td>\n",
       "      <td>Cerebellum</td>\n",
       "      <td>0.871107</td>\n",
       "      <td>0.413945</td>\n",
       "      <td>0.458401</td>\n",
       "      <td>0.351981</td>\n",
       "    </tr>\n",
       "  </tbody>\n",
       "</table>\n",
       "</div>"
      ],
      "text/plain": [
       "           condition  older      tissue       rho      mean       max  \\\n",
       "46     Kidney_0_4_24   24.0      Kidney  0.538482  0.471329  0.500435   \n",
       "63         SI_0_4_24   24.0          SI  0.596738  0.403170  0.445528   \n",
       "33         LI_0_4_24   24.0          LI  0.620971  0.404364  0.446379   \n",
       "36      Kidney_0_4_9    9.0      Kidney  0.704399  0.482377  0.515712   \n",
       "40       Heart_0_4_9    9.0       Heart  0.751957  0.330360  0.389649   \n",
       "53         LI_0_4_18   18.0          LI  0.829725  0.479915  0.510783   \n",
       "20  Cerebellum_0_4_9    9.0  Cerebellum  0.871107  0.413945  0.458401   \n",
       "\n",
       "         min  \n",
       "46  0.427534  \n",
       "63  0.385018  \n",
       "33  0.360635  \n",
       "36  0.435595  \n",
       "40  0.292652  \n",
       "53  0.442318  \n",
       "20  0.351981  "
      ]
     },
     "execution_count": 22,
     "metadata": {},
     "output_type": "execute_result"
    }
   ],
   "source": [
    "r[r['rho']>0.5].sort_values('rho')"
   ]
  },
  {
   "cell_type": "code",
   "execution_count": null,
   "metadata": {},
   "outputs": [],
   "source": []
  },
  {
   "cell_type": "code",
   "execution_count": 23,
   "metadata": {},
   "outputs": [
    {
     "data": {
      "text/html": [
       "<div>\n",
       "<style scoped>\n",
       "    .dataframe tbody tr th:only-of-type {\n",
       "        vertical-align: middle;\n",
       "    }\n",
       "\n",
       "    .dataframe tbody tr th {\n",
       "        vertical-align: top;\n",
       "    }\n",
       "\n",
       "    .dataframe thead th {\n",
       "        text-align: right;\n",
       "    }\n",
       "</style>\n",
       "<table border=\"1\" class=\"dataframe\">\n",
       "  <thead>\n",
       "    <tr style=\"text-align: right;\">\n",
       "      <th></th>\n",
       "      <th>condition</th>\n",
       "      <th>significant</th>\n",
       "      <th>mean</th>\n",
       "      <th>max</th>\n",
       "      <th>min</th>\n",
       "      <th>log_significant</th>\n",
       "    </tr>\n",
       "  </thead>\n",
       "  <tbody>\n",
       "    <tr>\n",
       "      <th>0</th>\n",
       "      <td>Adrenal_0_4_12</td>\n",
       "      <td>464.0</td>\n",
       "      <td>0.309188</td>\n",
       "      <td>0.350171</td>\n",
       "      <td>0.259096</td>\n",
       "      <td>2.666518</td>\n",
       "    </tr>\n",
       "    <tr>\n",
       "      <th>1</th>\n",
       "      <td>Adrenal_0_4_18</td>\n",
       "      <td>974.0</td>\n",
       "      <td>0.237433</td>\n",
       "      <td>0.263238</td>\n",
       "      <td>0.192532</td>\n",
       "      <td>2.988559</td>\n",
       "    </tr>\n",
       "    <tr>\n",
       "      <th>2</th>\n",
       "      <td>Adrenal_0_4_24</td>\n",
       "      <td>647.0</td>\n",
       "      <td>0.285258</td>\n",
       "      <td>0.328871</td>\n",
       "      <td>0.252957</td>\n",
       "      <td>2.810904</td>\n",
       "    </tr>\n",
       "    <tr>\n",
       "      <th>3</th>\n",
       "      <td>Adrenal_0_4_9</td>\n",
       "      <td>30.0</td>\n",
       "      <td>0.174306</td>\n",
       "      <td>0.207960</td>\n",
       "      <td>0.122643</td>\n",
       "      <td>1.477121</td>\n",
       "    </tr>\n",
       "    <tr>\n",
       "      <th>4</th>\n",
       "      <td>BAT_0_4_12</td>\n",
       "      <td>70.0</td>\n",
       "      <td>0.189746</td>\n",
       "      <td>0.242940</td>\n",
       "      <td>0.152044</td>\n",
       "      <td>1.845098</td>\n",
       "    </tr>\n",
       "  </tbody>\n",
       "</table>\n",
       "</div>"
      ],
      "text/plain": [
       "        condition  significant      mean       max       min  log_significant\n",
       "0  Adrenal_0_4_12        464.0  0.309188  0.350171  0.259096         2.666518\n",
       "1  Adrenal_0_4_18        974.0  0.237433  0.263238  0.192532         2.988559\n",
       "2  Adrenal_0_4_24        647.0  0.285258  0.328871  0.252957         2.810904\n",
       "3   Adrenal_0_4_9         30.0  0.174306  0.207960  0.122643         1.477121\n",
       "4      BAT_0_4_12         70.0  0.189746  0.242940  0.152044         1.845098"
      ]
     },
     "execution_count": 23,
     "metadata": {},
     "output_type": "execute_result"
    }
   ],
   "source": [
    "predictions.head()"
   ]
  },
  {
   "cell_type": "code",
   "execution_count": 24,
   "metadata": {},
   "outputs": [],
   "source": [
    "if save_images:\n",
    "    export.export_full_frame('{}/max_prediction.xlsx'.format(out_folder), r, save_index=False)"
   ]
  },
  {
   "cell_type": "code",
   "execution_count": 25,
   "metadata": {},
   "outputs": [
    {
     "data": {
      "image/png": "[encoded data removed]",
      "text/plain": [
       "<Figure size 432x288 with 1 Axes>"
      ]
     },
     "metadata": {
      "needs_background": "light"
     },
     "output_type": "display_data"
    }
   ],
   "source": [
    "sns.boxplot(x='older', y='rho', data=r, notch=True, color='navajowhite')\n",
    "\n",
    "if save_images:\n",
    "    export.export_image(\n",
    "    '{}/rho.pdf'.format(out_folder))"
   ]
  },
  {
   "cell_type": "code",
   "execution_count": 26,
   "metadata": {},
   "outputs": [],
   "source": [
    "from scipy.stats import mannwhitneyu"
   ]
  },
  {
   "cell_type": "code",
   "execution_count": 27,
   "metadata": {},
   "outputs": [
    {
     "data": {
      "text/plain": [
       "MannwhitneyuResult(statistic=113.0, pvalue=0.28563352706656997)"
      ]
     },
     "execution_count": 27,
     "metadata": {},
     "output_type": "execute_result"
    }
   ],
   "source": [
    "mannwhitneyu(\n",
    "    r[r['older']==9]['rho'],\n",
    "    r[r['older']==24]['rho'],\n",
    "    alternative='two-sided'\n",
    ")"
   ]
  },
  {
   "cell_type": "code",
   "execution_count": 28,
   "metadata": {},
   "outputs": [
    {
     "data": {
      "text/plain": [
       "24.0    10\n",
       "9.0      4\n",
       "18.0     4\n",
       "12.0     3\n",
       "Name: older, dtype: int64"
      ]
     },
     "execution_count": 28,
     "metadata": {},
     "output_type": "execute_result"
    }
   ],
   "source": [
    "r[r['rho']>0.2]['older'].value_counts()"
   ]
  },
  {
   "cell_type": "code",
   "execution_count": null,
   "metadata": {},
   "outputs": [],
   "source": []
  },
  {
   "cell_type": "code",
   "execution_count": null,
   "metadata": {},
   "outputs": [],
   "source": []
  }
 ],
 "metadata": {
  "kernelspec": {
   "display_name": "Python 3",
   "language": "python",
   "name": "python3"
  },
  "language_info": {
   "codemirror_mode": {
    "name": "ipython",
    "version": 3
   },
   "file_extension": ".py",
   "mimetype": "text/x-python",
   "name": "python",
   "nbconvert_exporter": "python",
   "pygments_lexer": "ipython3",
   "version": "3.7.3"
  }
 },
 "nbformat": 4,
 "nbformat_minor": 2
}
