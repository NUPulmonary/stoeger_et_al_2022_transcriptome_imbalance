{
 "cells": [
  {
   "cell_type": "code",
   "execution_count": 1,
   "metadata": {},
   "outputs": [],
   "source": [
    "%matplotlib inline\n",
    "%reload_ext autoreload\n",
    "%autoreload 2"
   ]
  },
  {
   "cell_type": "code",
   "execution_count": 2,
   "metadata": {},
   "outputs": [],
   "source": [
    "import matplotlib as mpl\n",
    "mpl.rcParams['pdf.fonttype'] = 42\n",
    "mpl.rcParams['font.family'] = 'Arial'"
   ]
  },
  {
   "cell_type": "code",
   "execution_count": 3,
   "metadata": {},
   "outputs": [],
   "source": [
    "import gc\n",
    "import os\n",
    "import sys\n",
    "\n",
    "import numpy as np\n",
    "import pandas as pd\n",
    "import seaborn as sns\n",
    "import matplotlib.pyplot as plt\n",
    "\n",
    "from copy import deepcopy\n",
    "from random import shuffle\n",
    "from scipy.stats import spearmanr\n",
    "\n",
    "from access_biology_data import lincs, properties\n",
    "from access_science_shared import standardizer\n",
    "\n",
    "sys.path.append('./../src/')\n",
    "from aging_tools import inout, export\n",
    "\n",
    "from access_biology_data import annotation\n",
    "from access_biology_data import meta"
   ]
  },
  {
   "cell_type": "code",
   "execution_count": 4,
   "metadata": {},
   "outputs": [],
   "source": [
    "outfolder = '200616_gtex_with_self_controls_all'"
   ]
  },
  {
   "cell_type": "markdown",
   "metadata": {},
   "source": [
    "# Note\n",
    "\n",
    "#here the \"no brain\" is all samples, including brain"
   ]
  },
  {
   "cell_type": "code",
   "execution_count": null,
   "metadata": {},
   "outputs": [],
   "source": []
  },
  {
   "cell_type": "code",
   "execution_count": null,
   "metadata": {},
   "outputs": [],
   "source": []
  },
  {
   "cell_type": "code",
   "execution_count": 5,
   "metadata": {},
   "outputs": [],
   "source": [
    "save_images = False"
   ]
  },
  {
   "cell_type": "code",
   "execution_count": 6,
   "metadata": {},
   "outputs": [
    {
     "name": "stderr",
     "output_type": "stream",
     "text": [
      "/Users/tstoeger/opt/miniconda3/envs/aging/lib/python3.7/site-packages/fastparquet/dataframe.py:5: FutureWarning: pandas.core.index is deprecated and will be removed in a future version.  The public classes are available in the top-level namespace.\n",
      "  from pandas.core.index import CategoricalIndex, RangeIndex, Index, MultiIndex\n"
     ]
    }
   ],
   "source": [
    "ref_genes = standardizer.reference_genes(9606, 'orp')"
   ]
  },
  {
   "cell_type": "code",
   "execution_count": 7,
   "metadata": {},
   "outputs": [],
   "source": [
    "import glob"
   ]
  },
  {
   "cell_type": "code",
   "execution_count": 8,
   "metadata": {},
   "outputs": [],
   "source": [
    "p =export.get_material_path(\n",
    "    '200612_cache_gtex_self_controls/stats_on_imbalance_self_controls.xlsx')\n",
    "\n",
    "d_self = pd.read_excel(p)"
   ]
  },
  {
   "cell_type": "code",
   "execution_count": 9,
   "metadata": {},
   "outputs": [],
   "source": [
    "p =export.get_material_path(\n",
    "    '200518_chache_tstoeger_gtex_with_tilt/stats_on_imbalance.xlsx')"
   ]
  },
  {
   "cell_type": "code",
   "execution_count": 10,
   "metadata": {},
   "outputs": [],
   "source": [
    "d = pd.read_excel(p)"
   ]
  },
  {
   "cell_type": "code",
   "execution_count": 11,
   "metadata": {},
   "outputs": [
    {
     "data": {
      "text/html": [
       "<div>\n",
       "<style scoped>\n",
       "    .dataframe tbody tr th:only-of-type {\n",
       "        vertical-align: middle;\n",
       "    }\n",
       "\n",
       "    .dataframe tbody tr th {\n",
       "        vertical-align: top;\n",
       "    }\n",
       "\n",
       "    .dataframe thead th {\n",
       "        text-align: right;\n",
       "    }\n",
       "</style>\n",
       "<table border=\"1\" class=\"dataframe\">\n",
       "  <thead>\n",
       "    <tr style=\"text-align: right;\">\n",
       "      <th></th>\n",
       "      <th>condition</th>\n",
       "      <th>tilt</th>\n",
       "      <th>pval</th>\n",
       "      <th>tilt_orp</th>\n",
       "      <th>pval_orp</th>\n",
       "      <th>gender</th>\n",
       "      <th>tissue</th>\n",
       "      <th>younger</th>\n",
       "      <th>older</th>\n",
       "    </tr>\n",
       "  </thead>\n",
       "  <tbody>\n",
       "    <tr>\n",
       "      <th>0</th>\n",
       "      <td>females_Adipose_Subcutaneous_3_vs_2</td>\n",
       "      <td>0.249538</td>\n",
       "      <td>3.174345e-214</td>\n",
       "      <td>0.249538</td>\n",
       "      <td>3.174345e-214</td>\n",
       "      <td>female</td>\n",
       "      <td>Adipose - Subcutaneous</td>\n",
       "      <td>2</td>\n",
       "      <td>3</td>\n",
       "    </tr>\n",
       "    <tr>\n",
       "      <th>1</th>\n",
       "      <td>females_Adipose_Subcutaneous_4_vs_2</td>\n",
       "      <td>0.172692</td>\n",
       "      <td>2.502136e-102</td>\n",
       "      <td>0.172692</td>\n",
       "      <td>2.502136e-102</td>\n",
       "      <td>female</td>\n",
       "      <td>Adipose - Subcutaneous</td>\n",
       "      <td>2</td>\n",
       "      <td>4</td>\n",
       "    </tr>\n",
       "    <tr>\n",
       "      <th>2</th>\n",
       "      <td>females_Adipose_Subcutaneous_4_vs_3</td>\n",
       "      <td>-0.133498</td>\n",
       "      <td>1.728639e-63</td>\n",
       "      <td>-0.133498</td>\n",
       "      <td>1.728639e-63</td>\n",
       "      <td>female</td>\n",
       "      <td>Adipose - Subcutaneous</td>\n",
       "      <td>3</td>\n",
       "      <td>4</td>\n",
       "    </tr>\n",
       "    <tr>\n",
       "      <th>3</th>\n",
       "      <td>females_Adipose_Subcutaneous_5_vs_2</td>\n",
       "      <td>0.075904</td>\n",
       "      <td>5.313325e-21</td>\n",
       "      <td>0.075904</td>\n",
       "      <td>5.313325e-21</td>\n",
       "      <td>female</td>\n",
       "      <td>Adipose - Subcutaneous</td>\n",
       "      <td>2</td>\n",
       "      <td>5</td>\n",
       "    </tr>\n",
       "    <tr>\n",
       "      <th>4</th>\n",
       "      <td>females_Adipose_Subcutaneous_5_vs_3</td>\n",
       "      <td>-0.216723</td>\n",
       "      <td>3.702485e-162</td>\n",
       "      <td>-0.216723</td>\n",
       "      <td>3.702485e-162</td>\n",
       "      <td>female</td>\n",
       "      <td>Adipose - Subcutaneous</td>\n",
       "      <td>3</td>\n",
       "      <td>5</td>\n",
       "    </tr>\n",
       "  </tbody>\n",
       "</table>\n",
       "</div>"
      ],
      "text/plain": [
       "                             condition      tilt           pval  tilt_orp  \\\n",
       "0  females_Adipose_Subcutaneous_3_vs_2  0.249538  3.174345e-214  0.249538   \n",
       "1  females_Adipose_Subcutaneous_4_vs_2  0.172692  2.502136e-102  0.172692   \n",
       "2  females_Adipose_Subcutaneous_4_vs_3 -0.133498   1.728639e-63 -0.133498   \n",
       "3  females_Adipose_Subcutaneous_5_vs_2  0.075904   5.313325e-21  0.075904   \n",
       "4  females_Adipose_Subcutaneous_5_vs_3 -0.216723  3.702485e-162 -0.216723   \n",
       "\n",
       "        pval_orp  gender                  tissue  younger  older  \n",
       "0  3.174345e-214  female  Adipose - Subcutaneous        2      3  \n",
       "1  2.502136e-102  female  Adipose - Subcutaneous        2      4  \n",
       "2   1.728639e-63  female  Adipose - Subcutaneous        3      4  \n",
       "3   5.313325e-21  female  Adipose - Subcutaneous        2      5  \n",
       "4  3.702485e-162  female  Adipose - Subcutaneous        3      5  "
      ]
     },
     "execution_count": 11,
     "metadata": {},
     "output_type": "execute_result"
    }
   ],
   "source": [
    "d.head()"
   ]
  },
  {
   "cell_type": "code",
   "execution_count": 12,
   "metadata": {},
   "outputs": [],
   "source": [
    "d = d.rename(columns={'tilt': 'rho', 'tissue': 'region'})"
   ]
  },
  {
   "cell_type": "code",
   "execution_count": 13,
   "metadata": {},
   "outputs": [],
   "source": [
    "d['gender'] = d['gender'] + 's'"
   ]
  },
  {
   "cell_type": "code",
   "execution_count": 14,
   "metadata": {},
   "outputs": [
    {
     "data": {
      "text/plain": [
       "<matplotlib.axes._subplots.AxesSubplot at 0x7fdb89d80080>"
      ]
     },
     "execution_count": 14,
     "metadata": {},
     "output_type": "execute_result"
    },
    {
     "data": {
      "image/png": "[encoded data removed]",
      "text/plain": [
       "<Figure size 432x288 with 1 Axes>"
      ]
     },
     "metadata": {
      "needs_background": "light"
     },
     "output_type": "display_data"
    }
   ],
   "source": [
    "sns.distplot(d['rho'])"
   ]
  },
  {
   "cell_type": "code",
   "execution_count": null,
   "metadata": {},
   "outputs": [],
   "source": []
  },
  {
   "cell_type": "code",
   "execution_count": 15,
   "metadata": {
    "scrolled": false
   },
   "outputs": [],
   "source": [
    "agg = []\n",
    "\n",
    "for gender in ['males', 'females']:\n",
    "\n",
    "    s = d[(d['gender']==gender)].copy()\n",
    "\n",
    "    f = (s['younger'].isin([2, 3]) & s['older'].isin([4, 5]))\n",
    "    s.loc[f, 'cat'] = '20/30 to 40/50'\n",
    "\n",
    "    f = (s['younger'].isin([4, 5]) & s['older'].isin([6, 7]))\n",
    "    s.loc[f, 'cat'] = '40/50 to 60/70'\n",
    "\n",
    "    f = (s['younger'].isin([2, 3]) & s['older'].isin([6, 7]))\n",
    "    s.loc[f, 'cat'] = '20/30 to 60/70'\n",
    "\n",
    "    s = s.dropna(subset=['cat'])\n",
    "\n",
    "    s = s[['pval', 'region', 'cat', 'rho']].groupby(['region', 'cat']).agg(np.median)\n",
    "\n",
    "    s = s.reset_index()\n",
    "    comparisons_per_tissue = s['region'].value_counts()\n",
    "    \n",
    "    # only consider, if all thre age comparisons are there\n",
    "    s = s[s['region'].isin(comparisons_per_tissue[comparisons_per_tissue==3].index)]\n",
    "\n",
    "    order = s[['region', 'rho']].groupby('region').agg(np.median).sort_values('rho')\n",
    "\n",
    "    hue_order=['20/30 to 40/50','20/30 to 60/70', '40/50 to 60/70', ]\n",
    "\n",
    "#     plt.figure(figsize=(5, 10))\n",
    "#     sns.swarmplot(x='rho', y='region',data=s, hue='cat',\n",
    "#                 order=order[order.index.str.startswith('Brain')].index,\n",
    "#                 hue_order=hue_order\n",
    "#                  )\n",
    "#     plt.legend(bbox_to_anchor=(1.05, 1), loc=2, borderaxespad=0.)\n",
    "#     if save_images:\n",
    "#         export.export_image(\n",
    "#             '{}/{}_brain.pdf'.format(\n",
    "#                 outfolder,\n",
    "#                 gender))\n",
    "\n",
    "#     plt.figure(figsize=(5, 10))\n",
    "#     sns.swarmplot(x='rho', y='region',data=s, hue='cat',\n",
    "#                 order=order[~order.index.str.startswith('Brain')].index,\n",
    "#                 hue_order=hue_order\n",
    "#                  )\n",
    "#     plt.legend(bbox_to_anchor=(1.05, 1), loc=2, borderaxespad=0.)\n",
    "#     if save_images:\n",
    "#         export.export_image(\n",
    "#             '{}/{}_non_brain.pdf'.format(\n",
    "#                 outfolder,\n",
    "#                 gender))\n",
    "\n",
    "#     plt.figure(figsize=(5, 10))\n",
    "#     sns.swarmplot(x='rho', y='region',data=s, hue='cat',\n",
    "#                 order=order.index,\n",
    "#                 hue_order=hue_order\n",
    "#                  )\n",
    "#     plt.legend(bbox_to_anchor=(1.05, 1), loc=2, borderaxespad=0.)\n",
    "#     if save_images:\n",
    "#         export.export_image(\n",
    "#             '{}/{}_all.pdf'.format(\n",
    "#                 outfolder,\n",
    "#                 gender))\n",
    "        \n",
    "#     if save_images:\n",
    "#         export.export_full_frame(\n",
    "#             '{}/{}_all.xlsx'.format(\n",
    "#                     outfolder,\n",
    "#                     gender), \n",
    "#             s)\n",
    "        \n",
    "#         export.export_full_frame(\n",
    "#             '{}/{}_young_to_old.xlsx'.format(\n",
    "#                     outfolder,\n",
    "#                     gender), \n",
    "#             s[s['cat']=='20/30 to 60/70'])  \n",
    "        \n",
    "    s.loc[:, 'gender'] = gender\n",
    "    agg.append(s)"
   ]
  },
  {
   "cell_type": "code",
   "execution_count": 16,
   "metadata": {},
   "outputs": [
    {
     "data": {
      "text/plain": [
       "2    375\n",
       "3    285\n",
       "4    247\n",
       "5    158\n",
       "6     70\n",
       "Name: younger, dtype: int64"
      ]
     },
     "execution_count": 16,
     "metadata": {},
     "output_type": "execute_result"
    }
   ],
   "source": [
    "d['younger'].value_counts()"
   ]
  },
  {
   "cell_type": "code",
   "execution_count": 17,
   "metadata": {},
   "outputs": [
    {
     "data": {
      "text/plain": [
       "<matplotlib.axes._subplots.AxesSubplot at 0x7fdb99328940>"
      ]
     },
     "execution_count": 17,
     "metadata": {},
     "output_type": "execute_result"
    },
    {
     "data": {
      "image/png": "[encoded data removed]",
      "text/plain": [
       "<Figure size 432x288 with 1 Axes>"
      ]
     },
     "metadata": {
      "needs_background": "light"
     },
     "output_type": "display_data"
    }
   ],
   "source": [
    "sns.boxplot(\n",
    "    x='older',\n",
    "    y='rho',\n",
    "    data=d[d['younger']==2],\n",
    "    hue='gender'\n",
    "\n",
    ")"
   ]
  },
  {
   "cell_type": "code",
   "execution_count": 18,
   "metadata": {},
   "outputs": [],
   "source": [
    "e = pd.concat(agg)"
   ]
  },
  {
   "cell_type": "code",
   "execution_count": 19,
   "metadata": {},
   "outputs": [
    {
     "data": {
      "image/png": "[encoded data removed]",
      "text/plain": [
       "<Figure size 432x288 with 1 Axes>"
      ]
     },
     "metadata": {
      "needs_background": "light"
     },
     "output_type": "display_data"
    }
   ],
   "source": [
    "sns.boxplot(x='cat', y='rho', data=e, hue='gender', notch=True)\n",
    "plt.ylim(-0.45, 0.45)\n",
    "\n",
    "if save_images:\n",
    "    export.export_image(\n",
    "        '{}/notched_box_by_third.pdf'.format(\n",
    "            outfolder))"
   ]
  },
  {
   "cell_type": "code",
   "execution_count": 20,
   "metadata": {},
   "outputs": [],
   "source": [
    "a = e.copy()\n",
    "b = e[e['region'].str.startswith('Brain -')].copy()\n",
    "\n",
    "a.loc[:, 'is_brain'] = False\n",
    "b.loc[:, 'is_brain'] = True\n",
    "\n",
    "e = pd.concat([a, b])\n",
    "\n",
    "e['is_brain'] = e['is_brain'].astype(float)"
   ]
  },
  {
   "cell_type": "code",
   "execution_count": null,
   "metadata": {},
   "outputs": [],
   "source": []
  },
  {
   "cell_type": "code",
   "execution_count": null,
   "metadata": {},
   "outputs": [],
   "source": []
  },
  {
   "cell_type": "code",
   "execution_count": 21,
   "metadata": {},
   "outputs": [
    {
     "data": {
      "image/png": "[encoded data removed]",
      "text/plain": [
       "<Figure size 432x288 with 1 Axes>"
      ]
     },
     "metadata": {
      "needs_background": "light"
     },
     "output_type": "display_data"
    }
   ],
   "source": [
    "sns.boxplot(x='cat', y='rho', data=e[e['gender']=='males'], hue='is_brain', notch=True)\n",
    "\n",
    "plt.ylim(-0.45, 0.45)\n",
    "\n",
    "\n",
    "\n",
    "if save_images:\n",
    "    export.export_image(\n",
    "        '{}/notched_box_by_male_brain.pdf'.format(\n",
    "            outfolder))"
   ]
  },
  {
   "cell_type": "code",
   "execution_count": 22,
   "metadata": {},
   "outputs": [
    {
     "data": {
      "text/html": [
       "<div>\n",
       "<style scoped>\n",
       "    .dataframe tbody tr th:only-of-type {\n",
       "        vertical-align: middle;\n",
       "    }\n",
       "\n",
       "    .dataframe tbody tr th {\n",
       "        vertical-align: top;\n",
       "    }\n",
       "\n",
       "    .dataframe thead th {\n",
       "        text-align: right;\n",
       "    }\n",
       "</style>\n",
       "<table border=\"1\" class=\"dataframe\">\n",
       "  <thead>\n",
       "    <tr style=\"text-align: right;\">\n",
       "      <th></th>\n",
       "      <th>region</th>\n",
       "      <th>cat</th>\n",
       "      <th>pval</th>\n",
       "      <th>rho</th>\n",
       "      <th>gender</th>\n",
       "      <th>is_brain</th>\n",
       "    </tr>\n",
       "  </thead>\n",
       "  <tbody>\n",
       "    <tr>\n",
       "      <th>0</th>\n",
       "      <td>Adipose - Subcutaneous</td>\n",
       "      <td>20/30 to 40/50</td>\n",
       "      <td>7.191124e-15</td>\n",
       "      <td>-0.065502</td>\n",
       "      <td>males</td>\n",
       "      <td>0.0</td>\n",
       "    </tr>\n",
       "    <tr>\n",
       "      <th>1</th>\n",
       "      <td>Adipose - Subcutaneous</td>\n",
       "      <td>20/30 to 60/70</td>\n",
       "      <td>1.471450e-07</td>\n",
       "      <td>-0.045182</td>\n",
       "      <td>males</td>\n",
       "      <td>0.0</td>\n",
       "    </tr>\n",
       "    <tr>\n",
       "      <th>2</th>\n",
       "      <td>Adipose - Subcutaneous</td>\n",
       "      <td>40/50 to 60/70</td>\n",
       "      <td>2.827284e-01</td>\n",
       "      <td>0.004371</td>\n",
       "      <td>males</td>\n",
       "      <td>0.0</td>\n",
       "    </tr>\n",
       "    <tr>\n",
       "      <th>3</th>\n",
       "      <td>Adipose - Visceral (Omentum)</td>\n",
       "      <td>20/30 to 40/50</td>\n",
       "      <td>1.539068e-03</td>\n",
       "      <td>-0.031697</td>\n",
       "      <td>males</td>\n",
       "      <td>0.0</td>\n",
       "    </tr>\n",
       "    <tr>\n",
       "      <th>4</th>\n",
       "      <td>Adipose - Visceral (Omentum)</td>\n",
       "      <td>20/30 to 60/70</td>\n",
       "      <td>2.321502e-01</td>\n",
       "      <td>-0.010010</td>\n",
       "      <td>males</td>\n",
       "      <td>0.0</td>\n",
       "    </tr>\n",
       "  </tbody>\n",
       "</table>\n",
       "</div>"
      ],
      "text/plain": [
       "                         region             cat          pval       rho  \\\n",
       "0        Adipose - Subcutaneous  20/30 to 40/50  7.191124e-15 -0.065502   \n",
       "1        Adipose - Subcutaneous  20/30 to 60/70  1.471450e-07 -0.045182   \n",
       "2        Adipose - Subcutaneous  40/50 to 60/70  2.827284e-01  0.004371   \n",
       "3  Adipose - Visceral (Omentum)  20/30 to 40/50  1.539068e-03 -0.031697   \n",
       "4  Adipose - Visceral (Omentum)  20/30 to 60/70  2.321502e-01 -0.010010   \n",
       "\n",
       "  gender  is_brain  \n",
       "0  males       0.0  \n",
       "1  males       0.0  \n",
       "2  males       0.0  \n",
       "3  males       0.0  \n",
       "4  males       0.0  "
      ]
     },
     "execution_count": 22,
     "metadata": {},
     "output_type": "execute_result"
    }
   ],
   "source": [
    "e.head()"
   ]
  },
  {
   "cell_type": "code",
   "execution_count": 23,
   "metadata": {},
   "outputs": [
    {
     "data": {
      "text/plain": [
       "0.9551515151515152"
      ]
     },
     "execution_count": 23,
     "metadata": {},
     "output_type": "execute_result"
    }
   ],
   "source": [
    "d_self['tissue'].isin(e['region']).mean()"
   ]
  },
  {
   "cell_type": "code",
   "execution_count": 24,
   "metadata": {},
   "outputs": [],
   "source": [
    "e_self = d_self.copy()"
   ]
  },
  {
   "cell_type": "code",
   "execution_count": 25,
   "metadata": {},
   "outputs": [],
   "source": [
    "a = e_self.copy()\n",
    "b = e_self[e_self['tissue'].str.startswith('Brain -')].copy()\n",
    "\n",
    "a.loc[:, 'is_brain'] = False\n",
    "b.loc[:, 'is_brain'] = True"
   ]
  },
  {
   "cell_type": "code",
   "execution_count": 26,
   "metadata": {},
   "outputs": [],
   "source": [
    "e_self = pd.concat([a, b])"
   ]
  },
  {
   "cell_type": "code",
   "execution_count": 27,
   "metadata": {},
   "outputs": [],
   "source": [
    "# e['is_brain'] = e['is_brain'].astype(float)"
   ]
  },
  {
   "cell_type": "code",
   "execution_count": 28,
   "metadata": {},
   "outputs": [],
   "source": [
    "e_self['cat'] = e_self['decade'].apply(lambda x: 'self_{}'.format(int(np.floor(x/2)*2)))"
   ]
  },
  {
   "cell_type": "code",
   "execution_count": 29,
   "metadata": {},
   "outputs": [],
   "source": [
    "e_self['gender'] = e_self['gender'] + 's'"
   ]
  },
  {
   "cell_type": "code",
   "execution_count": 30,
   "metadata": {},
   "outputs": [],
   "source": [
    "# e_self['is_brain'] = e_self['tissue'].str.contains('Brain')"
   ]
  },
  {
   "cell_type": "code",
   "execution_count": 31,
   "metadata": {},
   "outputs": [
    {
     "data": {
      "text/html": [
       "<div>\n",
       "<style scoped>\n",
       "    .dataframe tbody tr th:only-of-type {\n",
       "        vertical-align: middle;\n",
       "    }\n",
       "\n",
       "    .dataframe tbody tr th {\n",
       "        vertical-align: top;\n",
       "    }\n",
       "\n",
       "    .dataframe thead th {\n",
       "        text-align: right;\n",
       "    }\n",
       "</style>\n",
       "<table border=\"1\" class=\"dataframe\">\n",
       "  <thead>\n",
       "    <tr style=\"text-align: right;\">\n",
       "      <th></th>\n",
       "      <th>tilt</th>\n",
       "      <th>pval</th>\n",
       "      <th>filename</th>\n",
       "      <th>tissue</th>\n",
       "      <th>decade</th>\n",
       "      <th>animals</th>\n",
       "      <th>gender</th>\n",
       "      <th>is_brain</th>\n",
       "      <th>cat</th>\n",
       "    </tr>\n",
       "  </thead>\n",
       "  <tbody>\n",
       "    <tr>\n",
       "      <th>0</th>\n",
       "      <td>-0.065516</td>\n",
       "      <td>4.540165e-15</td>\n",
       "      <td>Cells - EBV-transformed lymphocytes_pfu_0_age_...</td>\n",
       "      <td>Cells - EBV-transformed lymphocytes</td>\n",
       "      <td>2</td>\n",
       "      <td>7325-7328-7333</td>\n",
       "      <td>males</td>\n",
       "      <td>False</td>\n",
       "      <td>self_2</td>\n",
       "    </tr>\n",
       "    <tr>\n",
       "      <th>1</th>\n",
       "      <td>-0.037973</td>\n",
       "      <td>3.226309e-06</td>\n",
       "      <td>Brain - Frontal Cortex (BA9)_pfu_0_age_5_first...</td>\n",
       "      <td>Brain - Frontal Cortex (BA9)</td>\n",
       "      <td>5</td>\n",
       "      <td>2982-3009-3016</td>\n",
       "      <td>males</td>\n",
       "      <td>False</td>\n",
       "      <td>self_4</td>\n",
       "    </tr>\n",
       "    <tr>\n",
       "      <th>2</th>\n",
       "      <td>-0.307859</td>\n",
       "      <td>0.000000e+00</td>\n",
       "      <td>Lung_pfu_0_age_2_first_7249-7251-7252_DE.csv</td>\n",
       "      <td>Lung</td>\n",
       "      <td>2</td>\n",
       "      <td>7249-7251-7252</td>\n",
       "      <td>males</td>\n",
       "      <td>False</td>\n",
       "      <td>self_2</td>\n",
       "    </tr>\n",
       "    <tr>\n",
       "      <th>3</th>\n",
       "      <td>0.007082</td>\n",
       "      <td>3.729493e-01</td>\n",
       "      <td>Liver_pfu_0_age_5_first_3480-3484-3491_DE.csv</td>\n",
       "      <td>Liver</td>\n",
       "      <td>5</td>\n",
       "      <td>3480-3484-3491</td>\n",
       "      <td>males</td>\n",
       "      <td>False</td>\n",
       "      <td>self_4</td>\n",
       "    </tr>\n",
       "    <tr>\n",
       "      <th>4</th>\n",
       "      <td>-0.203250</td>\n",
       "      <td>6.654900e-146</td>\n",
       "      <td>Prostate_pfu_0_age_6_first_1237-1295-1302_DE.csv</td>\n",
       "      <td>Prostate</td>\n",
       "      <td>6</td>\n",
       "      <td>1237-1295-1302</td>\n",
       "      <td>males</td>\n",
       "      <td>False</td>\n",
       "      <td>self_6</td>\n",
       "    </tr>\n",
       "  </tbody>\n",
       "</table>\n",
       "</div>"
      ],
      "text/plain": [
       "       tilt           pval                                           filename  \\\n",
       "0 -0.065516   4.540165e-15  Cells - EBV-transformed lymphocytes_pfu_0_age_...   \n",
       "1 -0.037973   3.226309e-06  Brain - Frontal Cortex (BA9)_pfu_0_age_5_first...   \n",
       "2 -0.307859   0.000000e+00       Lung_pfu_0_age_2_first_7249-7251-7252_DE.csv   \n",
       "3  0.007082   3.729493e-01      Liver_pfu_0_age_5_first_3480-3484-3491_DE.csv   \n",
       "4 -0.203250  6.654900e-146   Prostate_pfu_0_age_6_first_1237-1295-1302_DE.csv   \n",
       "\n",
       "                                tissue  decade         animals gender  \\\n",
       "0  Cells - EBV-transformed lymphocytes       2  7325-7328-7333  males   \n",
       "1         Brain - Frontal Cortex (BA9)       5  2982-3009-3016  males   \n",
       "2                                 Lung       2  7249-7251-7252  males   \n",
       "3                                Liver       5  3480-3484-3491  males   \n",
       "4                             Prostate       6  1237-1295-1302  males   \n",
       "\n",
       "   is_brain     cat  \n",
       "0     False  self_2  \n",
       "1     False  self_4  \n",
       "2     False  self_2  \n",
       "3     False  self_4  \n",
       "4     False  self_6  "
      ]
     },
     "execution_count": 31,
     "metadata": {},
     "output_type": "execute_result"
    }
   ],
   "source": [
    "e_self.head()"
   ]
  },
  {
   "cell_type": "code",
   "execution_count": null,
   "metadata": {},
   "outputs": [],
   "source": []
  },
  {
   "cell_type": "code",
   "execution_count": 32,
   "metadata": {},
   "outputs": [],
   "source": [
    "e_self = e_self.rename(columns={'tissue': 'region', 'tilt': 'rho'})"
   ]
  },
  {
   "cell_type": "code",
   "execution_count": 33,
   "metadata": {},
   "outputs": [],
   "source": [
    "e_self = pd.merge(e_self, e[['gender', 'region']].drop_duplicates())"
   ]
  },
  {
   "cell_type": "code",
   "execution_count": 34,
   "metadata": {},
   "outputs": [
    {
     "data": {
      "text/html": [
       "<div>\n",
       "<style scoped>\n",
       "    .dataframe tbody tr th:only-of-type {\n",
       "        vertical-align: middle;\n",
       "    }\n",
       "\n",
       "    .dataframe tbody tr th {\n",
       "        vertical-align: top;\n",
       "    }\n",
       "\n",
       "    .dataframe thead th {\n",
       "        text-align: right;\n",
       "    }\n",
       "</style>\n",
       "<table border=\"1\" class=\"dataframe\">\n",
       "  <thead>\n",
       "    <tr style=\"text-align: right;\">\n",
       "      <th></th>\n",
       "      <th>region</th>\n",
       "      <th>cat</th>\n",
       "      <th>pval</th>\n",
       "      <th>rho</th>\n",
       "      <th>gender</th>\n",
       "      <th>is_brain</th>\n",
       "    </tr>\n",
       "  </thead>\n",
       "  <tbody>\n",
       "    <tr>\n",
       "      <th>0</th>\n",
       "      <td>Adipose - Subcutaneous</td>\n",
       "      <td>20/30 to 40/50</td>\n",
       "      <td>7.191124e-15</td>\n",
       "      <td>-0.065502</td>\n",
       "      <td>males</td>\n",
       "      <td>0.0</td>\n",
       "    </tr>\n",
       "    <tr>\n",
       "      <th>1</th>\n",
       "      <td>Adipose - Subcutaneous</td>\n",
       "      <td>20/30 to 60/70</td>\n",
       "      <td>1.471450e-07</td>\n",
       "      <td>-0.045182</td>\n",
       "      <td>males</td>\n",
       "      <td>0.0</td>\n",
       "    </tr>\n",
       "    <tr>\n",
       "      <th>2</th>\n",
       "      <td>Adipose - Subcutaneous</td>\n",
       "      <td>40/50 to 60/70</td>\n",
       "      <td>2.827284e-01</td>\n",
       "      <td>0.004371</td>\n",
       "      <td>males</td>\n",
       "      <td>0.0</td>\n",
       "    </tr>\n",
       "    <tr>\n",
       "      <th>3</th>\n",
       "      <td>Adipose - Visceral (Omentum)</td>\n",
       "      <td>20/30 to 40/50</td>\n",
       "      <td>1.539068e-03</td>\n",
       "      <td>-0.031697</td>\n",
       "      <td>males</td>\n",
       "      <td>0.0</td>\n",
       "    </tr>\n",
       "    <tr>\n",
       "      <th>4</th>\n",
       "      <td>Adipose - Visceral (Omentum)</td>\n",
       "      <td>20/30 to 60/70</td>\n",
       "      <td>2.321502e-01</td>\n",
       "      <td>-0.010010</td>\n",
       "      <td>males</td>\n",
       "      <td>0.0</td>\n",
       "    </tr>\n",
       "  </tbody>\n",
       "</table>\n",
       "</div>"
      ],
      "text/plain": [
       "                         region             cat          pval       rho  \\\n",
       "0        Adipose - Subcutaneous  20/30 to 40/50  7.191124e-15 -0.065502   \n",
       "1        Adipose - Subcutaneous  20/30 to 60/70  1.471450e-07 -0.045182   \n",
       "2        Adipose - Subcutaneous  40/50 to 60/70  2.827284e-01  0.004371   \n",
       "3  Adipose - Visceral (Omentum)  20/30 to 40/50  1.539068e-03 -0.031697   \n",
       "4  Adipose - Visceral (Omentum)  20/30 to 60/70  2.321502e-01 -0.010010   \n",
       "\n",
       "  gender  is_brain  \n",
       "0  males       0.0  \n",
       "1  males       0.0  \n",
       "2  males       0.0  \n",
       "3  males       0.0  \n",
       "4  males       0.0  "
      ]
     },
     "execution_count": 34,
     "metadata": {},
     "output_type": "execute_result"
    }
   ],
   "source": [
    "e.head()"
   ]
  },
  {
   "cell_type": "code",
   "execution_count": 35,
   "metadata": {
    "code_folding": []
   },
   "outputs": [],
   "source": [
    "e_median = e_self[['region', 'cat', 'pval', 'rho', 'gender', 'is_brain']].groupby(\n",
    "    ['region', 'cat']\n",
    ").median().reset_index()"
   ]
  },
  {
   "cell_type": "code",
   "execution_count": 36,
   "metadata": {},
   "outputs": [],
   "source": [
    "e_median['cat'] = e_median['cat'] + '_median'"
   ]
  },
  {
   "cell_type": "code",
   "execution_count": null,
   "metadata": {},
   "outputs": [],
   "source": []
  },
  {
   "cell_type": "code",
   "execution_count": 37,
   "metadata": {},
   "outputs": [],
   "source": [
    "e_self_mask = e_self.copy()\n",
    "e_self_mask['is_brain'] = False"
   ]
  },
  {
   "cell_type": "code",
   "execution_count": 38,
   "metadata": {},
   "outputs": [],
   "source": [
    "e_median_mask = e_median.copy()\n",
    "e_median_mask['is_brain'] = False"
   ]
  },
  {
   "cell_type": "code",
   "execution_count": null,
   "metadata": {},
   "outputs": [],
   "source": []
  },
  {
   "cell_type": "code",
   "execution_count": 39,
   "metadata": {},
   "outputs": [],
   "source": [
    "# me = pd.concat([\n",
    "#     e,\n",
    "#     e_self[['region', 'cat', 'pval', 'rho', 'gender', 'is_brain']],\n",
    "#     e_median\n",
    "# ]\n",
    "\n",
    "# )"
   ]
  },
  {
   "cell_type": "code",
   "execution_count": 40,
   "metadata": {},
   "outputs": [],
   "source": [
    "me = pd.concat([\n",
    "    e,\n",
    "    e_self_mask[['region', 'cat', 'pval', 'rho', 'gender', 'is_brain']],\n",
    "    e_median_mask\n",
    "]\n",
    "\n",
    ")"
   ]
  },
  {
   "cell_type": "code",
   "execution_count": 41,
   "metadata": {},
   "outputs": [
    {
     "data": {
      "text/plain": [
       "(86, 6)"
      ]
     },
     "execution_count": 41,
     "metadata": {},
     "output_type": "execute_result"
    }
   ],
   "source": [
    "e[\n",
    "    (e['is_brain']==False) &\n",
    "    (e['cat']=='20/30 to 40/50')\n",
    "].shape"
   ]
  },
  {
   "cell_type": "code",
   "execution_count": 42,
   "metadata": {},
   "outputs": [
    {
     "data": {
      "text/plain": [
       "(24, 6)"
      ]
     },
     "execution_count": 42,
     "metadata": {},
     "output_type": "execute_result"
    }
   ],
   "source": [
    "e[\n",
    "    (e['is_brain']==False) &\n",
    "    (e['cat']=='20/30 to 40/50') &\n",
    "    (e['region'].str.startswith('Brain'))\n",
    "].shape"
   ]
  },
  {
   "cell_type": "code",
   "execution_count": 43,
   "metadata": {},
   "outputs": [
    {
     "data": {
      "text/plain": [
       "(86, 6)"
      ]
     },
     "execution_count": 43,
     "metadata": {},
     "output_type": "execute_result"
    }
   ],
   "source": [
    "e[\n",
    "    (e['is_brain']==False) &\n",
    "    (e['cat']=='20/30 to 60/70')\n",
    "].shape"
   ]
  },
  {
   "cell_type": "code",
   "execution_count": 44,
   "metadata": {},
   "outputs": [
    {
     "data": {
      "text/plain": [
       "(24, 6)"
      ]
     },
     "execution_count": 44,
     "metadata": {},
     "output_type": "execute_result"
    }
   ],
   "source": [
    "e[\n",
    "    (e['is_brain']==False) &\n",
    "    (e['cat']=='20/30 to 60/70') &\n",
    "    (e['region'].str.startswith('Brain'))\n",
    "].shape"
   ]
  },
  {
   "cell_type": "code",
   "execution_count": null,
   "metadata": {},
   "outputs": [],
   "source": []
  },
  {
   "cell_type": "code",
   "execution_count": null,
   "metadata": {},
   "outputs": [],
   "source": []
  },
  {
   "cell_type": "code",
   "execution_count": 45,
   "metadata": {},
   "outputs": [
    {
     "data": {
      "image/png": "[encoded data removed]",
      "text/plain": [
       "<Figure size 432x288 with 1 Axes>"
      ]
     },
     "metadata": {
      "needs_background": "light"
     },
     "output_type": "display_data"
    }
   ],
   "source": [
    "sns.boxplot(x='cat', y='rho', data=me, hue='is_brain', notch=True)\n",
    "plt.ylim(-0.45, 0.45)\n",
    "\n",
    "if save_images:\n",
    "    export.export_image(\n",
    "        '{}/notched_box_by_third_with_permutations.pdf'.format(\n",
    "            outfolder))"
   ]
  },
  {
   "cell_type": "code",
   "execution_count": 46,
   "metadata": {},
   "outputs": [],
   "source": [
    "from scipy.stats import mannwhitneyu"
   ]
  },
  {
   "cell_type": "code",
   "execution_count": 47,
   "metadata": {},
   "outputs": [
    {
     "data": {
      "text/plain": [
       "MannwhitneyuResult(statistic=561.0, pvalue=0.0006608754719616662)"
      ]
     },
     "execution_count": 47,
     "metadata": {},
     "output_type": "execute_result"
    }
   ],
   "source": [
    "a = me[\n",
    "    (me['cat']=='20/30 to 40/50') &\n",
    "    (me['is_brain']==False)\n",
    "]['rho']\n",
    "\n",
    "b = me[\n",
    "    (me['cat']=='20/30 to 40/50') &\n",
    "    (me['is_brain']==True)\n",
    "]['rho']\n",
    "\n",
    "mannwhitneyu(b, a, alternative='two-sided')"
   ]
  },
  {
   "cell_type": "code",
   "execution_count": 48,
   "metadata": {},
   "outputs": [
    {
     "data": {
      "text/plain": [
       "MannwhitneyuResult(statistic=486.0, pvalue=7.876076086639925e-05)"
      ]
     },
     "execution_count": 48,
     "metadata": {},
     "output_type": "execute_result"
    }
   ],
   "source": [
    "a = me[\n",
    "    (me['cat']=='20/30 to 60/70') &\n",
    "    (me['is_brain']==False)\n",
    "]['rho']\n",
    "\n",
    "b = me[\n",
    "    (me['cat']=='20/30 to 60/70') &\n",
    "    (me['is_brain']==True)\n",
    "]['rho']\n",
    "\n",
    "mannwhitneyu(b, a, alternative='two-sided')"
   ]
  },
  {
   "cell_type": "code",
   "execution_count": 49,
   "metadata": {},
   "outputs": [
    {
     "data": {
      "text/html": [
       "<div>\n",
       "<style scoped>\n",
       "    .dataframe tbody tr th:only-of-type {\n",
       "        vertical-align: middle;\n",
       "    }\n",
       "\n",
       "    .dataframe tbody tr th {\n",
       "        vertical-align: top;\n",
       "    }\n",
       "\n",
       "    .dataframe thead th {\n",
       "        text-align: right;\n",
       "    }\n",
       "</style>\n",
       "<table border=\"1\" class=\"dataframe\">\n",
       "  <thead>\n",
       "    <tr style=\"text-align: right;\">\n",
       "      <th></th>\n",
       "      <th>region</th>\n",
       "      <th>cat</th>\n",
       "      <th>pval</th>\n",
       "      <th>rho</th>\n",
       "      <th>gender</th>\n",
       "      <th>is_brain</th>\n",
       "    </tr>\n",
       "  </thead>\n",
       "  <tbody>\n",
       "    <tr>\n",
       "      <th>0</th>\n",
       "      <td>Adipose - Subcutaneous</td>\n",
       "      <td>20/30 to 40/50</td>\n",
       "      <td>7.191124e-15</td>\n",
       "      <td>-6.550172e-02</td>\n",
       "      <td>males</td>\n",
       "      <td>0.0</td>\n",
       "    </tr>\n",
       "    <tr>\n",
       "      <th>1</th>\n",
       "      <td>Adipose - Subcutaneous</td>\n",
       "      <td>20/30 to 60/70</td>\n",
       "      <td>1.471450e-07</td>\n",
       "      <td>-4.518232e-02</td>\n",
       "      <td>males</td>\n",
       "      <td>0.0</td>\n",
       "    </tr>\n",
       "    <tr>\n",
       "      <th>2</th>\n",
       "      <td>Adipose - Subcutaneous</td>\n",
       "      <td>40/50 to 60/70</td>\n",
       "      <td>2.827284e-01</td>\n",
       "      <td>4.370836e-03</td>\n",
       "      <td>males</td>\n",
       "      <td>0.0</td>\n",
       "    </tr>\n",
       "    <tr>\n",
       "      <th>3</th>\n",
       "      <td>Adipose - Visceral (Omentum)</td>\n",
       "      <td>20/30 to 40/50</td>\n",
       "      <td>1.539068e-03</td>\n",
       "      <td>-3.169744e-02</td>\n",
       "      <td>males</td>\n",
       "      <td>0.0</td>\n",
       "    </tr>\n",
       "    <tr>\n",
       "      <th>4</th>\n",
       "      <td>Adipose - Visceral (Omentum)</td>\n",
       "      <td>20/30 to 60/70</td>\n",
       "      <td>2.321502e-01</td>\n",
       "      <td>-1.001044e-02</td>\n",
       "      <td>males</td>\n",
       "      <td>0.0</td>\n",
       "    </tr>\n",
       "    <tr>\n",
       "      <th>...</th>\n",
       "      <td>...</td>\n",
       "      <td>...</td>\n",
       "      <td>...</td>\n",
       "      <td>...</td>\n",
       "      <td>...</td>\n",
       "      <td>...</td>\n",
       "    </tr>\n",
       "    <tr>\n",
       "      <th>127</th>\n",
       "      <td>Vagina</td>\n",
       "      <td>self_4_median</td>\n",
       "      <td>4.864483e-13</td>\n",
       "      <td>9.733042e-05</td>\n",
       "      <td>NaN</td>\n",
       "      <td>0.0</td>\n",
       "    </tr>\n",
       "    <tr>\n",
       "      <th>128</th>\n",
       "      <td>Vagina</td>\n",
       "      <td>self_6_median</td>\n",
       "      <td>3.414095e-12</td>\n",
       "      <td>-5.852924e-05</td>\n",
       "      <td>NaN</td>\n",
       "      <td>0.0</td>\n",
       "    </tr>\n",
       "    <tr>\n",
       "      <th>129</th>\n",
       "      <td>Whole Blood</td>\n",
       "      <td>self_2_median</td>\n",
       "      <td>2.805629e-48</td>\n",
       "      <td>4.723603e-07</td>\n",
       "      <td>NaN</td>\n",
       "      <td>0.0</td>\n",
       "    </tr>\n",
       "    <tr>\n",
       "      <th>130</th>\n",
       "      <td>Whole Blood</td>\n",
       "      <td>self_4_median</td>\n",
       "      <td>4.423066e-39</td>\n",
       "      <td>-2.054845e-04</td>\n",
       "      <td>NaN</td>\n",
       "      <td>0.0</td>\n",
       "    </tr>\n",
       "    <tr>\n",
       "      <th>131</th>\n",
       "      <td>Whole Blood</td>\n",
       "      <td>self_6_median</td>\n",
       "      <td>1.200719e-97</td>\n",
       "      <td>6.545788e-05</td>\n",
       "      <td>NaN</td>\n",
       "      <td>0.0</td>\n",
       "    </tr>\n",
       "  </tbody>\n",
       "</table>\n",
       "<p>9676 rows × 6 columns</p>\n",
       "</div>"
      ],
      "text/plain": [
       "                           region             cat          pval           rho  \\\n",
       "0          Adipose - Subcutaneous  20/30 to 40/50  7.191124e-15 -6.550172e-02   \n",
       "1          Adipose - Subcutaneous  20/30 to 60/70  1.471450e-07 -4.518232e-02   \n",
       "2          Adipose - Subcutaneous  40/50 to 60/70  2.827284e-01  4.370836e-03   \n",
       "3    Adipose - Visceral (Omentum)  20/30 to 40/50  1.539068e-03 -3.169744e-02   \n",
       "4    Adipose - Visceral (Omentum)  20/30 to 60/70  2.321502e-01 -1.001044e-02   \n",
       "..                            ...             ...           ...           ...   \n",
       "127                        Vagina   self_4_median  4.864483e-13  9.733042e-05   \n",
       "128                        Vagina   self_6_median  3.414095e-12 -5.852924e-05   \n",
       "129                   Whole Blood   self_2_median  2.805629e-48  4.723603e-07   \n",
       "130                   Whole Blood   self_4_median  4.423066e-39 -2.054845e-04   \n",
       "131                   Whole Blood   self_6_median  1.200719e-97  6.545788e-05   \n",
       "\n",
       "    gender  is_brain  \n",
       "0    males       0.0  \n",
       "1    males       0.0  \n",
       "2    males       0.0  \n",
       "3    males       0.0  \n",
       "4    males       0.0  \n",
       "..     ...       ...  \n",
       "127    NaN       0.0  \n",
       "128    NaN       0.0  \n",
       "129    NaN       0.0  \n",
       "130    NaN       0.0  \n",
       "131    NaN       0.0  \n",
       "\n",
       "[9676 rows x 6 columns]"
      ]
     },
     "execution_count": 49,
     "metadata": {},
     "output_type": "execute_result"
    }
   ],
   "source": [
    "me"
   ]
  },
  {
   "cell_type": "code",
   "execution_count": 50,
   "metadata": {},
   "outputs": [
    {
     "data": {
      "text/plain": [
       "MannwhitneyuResult(statistic=148.0, pvalue=0.02561981679792919)"
      ]
     },
     "execution_count": 50,
     "metadata": {},
     "output_type": "execute_result"
    }
   ],
   "source": [
    "a = me[\n",
    "    (me['gender']=='males') &\n",
    "    (me['cat']=='20/30 to 40/50') &\n",
    "    (me['is_brain']==False)\n",
    "]['rho']\n",
    "\n",
    "b = me[\n",
    "    (me['gender']=='males') &\n",
    "    (me['cat']=='20/30 to 40/50') &\n",
    "    (me['is_brain']==True)\n",
    "]['rho']\n",
    "\n",
    "mannwhitneyu(b, a, alternative='two-sided')"
   ]
  },
  {
   "cell_type": "code",
   "execution_count": 51,
   "metadata": {},
   "outputs": [
    {
     "data": {
      "text/plain": [
       "MannwhitneyuResult(statistic=121.0, pvalue=0.005398100584023184)"
      ]
     },
     "execution_count": 51,
     "metadata": {},
     "output_type": "execute_result"
    }
   ],
   "source": [
    "a = me[\n",
    "    (me['gender']=='males') &\n",
    "    (me['cat']=='20/30 to 60/70') &\n",
    "    (me['is_brain']==False)\n",
    "]['rho']\n",
    "\n",
    "b = me[\n",
    "    (me['gender']=='males') &\n",
    "    (me['cat']=='20/30 to 60/70') &\n",
    "    (me['is_brain']==True)\n",
    "]['rho']\n",
    "\n",
    "mannwhitneyu(b, a, alternative='two-sided')"
   ]
  },
  {
   "cell_type": "code",
   "execution_count": null,
   "metadata": {},
   "outputs": [],
   "source": []
  },
  {
   "cell_type": "code",
   "execution_count": null,
   "metadata": {},
   "outputs": [],
   "source": []
  },
  {
   "cell_type": "code",
   "execution_count": 52,
   "metadata": {},
   "outputs": [
    {
     "data": {
      "text/plain": [
       "MannwhitneyuResult(statistic=136.0, pvalue=0.013266972438447284)"
      ]
     },
     "execution_count": 52,
     "metadata": {},
     "output_type": "execute_result"
    }
   ],
   "source": [
    "a = me[\n",
    "    (me['gender']=='females') &\n",
    "    (me['cat']=='20/30 to 40/50') &\n",
    "    (me['is_brain']==False)\n",
    "]['rho']\n",
    "\n",
    "b = me[\n",
    "    (me['gender']=='females') &\n",
    "    (me['cat']=='20/30 to 40/50') &\n",
    "    (me['is_brain']==True)\n",
    "]['rho']\n",
    "\n",
    "mannwhitneyu(b, a, alternative='two-sided')"
   ]
  },
  {
   "cell_type": "code",
   "execution_count": 53,
   "metadata": {},
   "outputs": [
    {
     "data": {
      "text/plain": [
       "MannwhitneyuResult(statistic=122.0, pvalue=0.005746929174794822)"
      ]
     },
     "execution_count": 53,
     "metadata": {},
     "output_type": "execute_result"
    }
   ],
   "source": [
    "a = me[\n",
    "    (me['gender']=='females') &\n",
    "    (me['cat']=='20/30 to 60/70') &\n",
    "    (me['is_brain']==False)\n",
    "]['rho']\n",
    "\n",
    "b = me[\n",
    "    (me['gender']=='females') &\n",
    "    (me['cat']=='20/30 to 60/70') &\n",
    "    (me['is_brain']==True)\n",
    "]['rho']\n",
    "\n",
    "mannwhitneyu(b, a, alternative='two-sided')"
   ]
  },
  {
   "cell_type": "code",
   "execution_count": null,
   "metadata": {},
   "outputs": [],
   "source": []
  },
  {
   "cell_type": "code",
   "execution_count": 54,
   "metadata": {},
   "outputs": [
    {
     "data": {
      "text/plain": [
       "MannwhitneyuResult(statistic=1029.0, pvalue=0.0010515644658445884)"
      ]
     },
     "execution_count": 54,
     "metadata": {},
     "output_type": "execute_result"
    }
   ],
   "source": [
    "a = me[\n",
    "    (me['cat']=='20/30 to 40/50') &\n",
    "    (me['is_brain']==False)\n",
    "]['rho']\n",
    "\n",
    "b = me[\n",
    "    (me['cat']=='self_2_median') &\n",
    "    (me['is_brain']==False)\n",
    "]['rho']\n",
    "\n",
    "mannwhitneyu(a, b, alternative='two-sided')"
   ]
  },
  {
   "cell_type": "code",
   "execution_count": 55,
   "metadata": {},
   "outputs": [
    {
     "data": {
      "text/plain": [
       "MannwhitneyuResult(statistic=946.0, pvalue=0.00019438068783932333)"
      ]
     },
     "execution_count": 55,
     "metadata": {},
     "output_type": "execute_result"
    }
   ],
   "source": [
    "a = me[\n",
    "    (me['cat']=='20/30 to 60/70') &\n",
    "    (me['is_brain']==False)\n",
    "]['rho']\n",
    "\n",
    "b = me[\n",
    "    (me['cat']=='self_2_median') &\n",
    "    (me['is_brain']==False)\n",
    "]['rho']\n",
    "\n",
    "mannwhitneyu(a, b, alternative='two-sided')"
   ]
  },
  {
   "cell_type": "code",
   "execution_count": 56,
   "metadata": {},
   "outputs": [
    {
     "data": {
      "text/plain": [
       "MannwhitneyuResult(statistic=114.0, pvalue=8.002727848198801e-07)"
      ]
     },
     "execution_count": 56,
     "metadata": {},
     "output_type": "execute_result"
    }
   ],
   "source": [
    "a = me[\n",
    "    (me['cat']=='20/30 to 40/50') &\n",
    "    (me['is_brain']==True)\n",
    "]['rho']\n",
    "\n",
    "b = me[\n",
    "    (me['cat']=='self_2_median') &\n",
    "    (me['is_brain']==False)\n",
    "]['rho']\n",
    "\n",
    "mannwhitneyu(a, b, alternative='two-sided')"
   ]
  },
  {
   "cell_type": "code",
   "execution_count": 57,
   "metadata": {},
   "outputs": [
    {
     "data": {
      "text/plain": [
       "MannwhitneyuResult(statistic=68.0, pvalue=2.1424645391678157e-08)"
      ]
     },
     "execution_count": 57,
     "metadata": {},
     "output_type": "execute_result"
    }
   ],
   "source": [
    "a = me[\n",
    "    (me['cat']=='20/30 to 60/70') &\n",
    "    (me['is_brain']==True)\n",
    "]['rho']\n",
    "\n",
    "b = me[\n",
    "    (me['cat']=='self_2_median') &\n",
    "    (me['is_brain']==False)\n",
    "]['rho']\n",
    "\n",
    "mannwhitneyu(a, b, alternative='two-sided')"
   ]
  },
  {
   "cell_type": "code",
   "execution_count": 58,
   "metadata": {},
   "outputs": [
    {
     "data": {
      "text/plain": [
       "self_4            4084\n",
       "self_6            2932\n",
       "self_2            2198\n",
       "20/30 to 40/50     110\n",
       "20/30 to 60/70     110\n",
       "40/50 to 60/70     110\n",
       "self_6_median       47\n",
       "self_4_median       47\n",
       "self_2_median       38\n",
       "Name: cat, dtype: int64"
      ]
     },
     "execution_count": 58,
     "metadata": {},
     "output_type": "execute_result"
    }
   ],
   "source": [
    "me['cat'].value_counts()"
   ]
  },
  {
   "cell_type": "code",
   "execution_count": 59,
   "metadata": {},
   "outputs": [
    {
     "data": {
      "text/plain": [
       "self_4            4084\n",
       "self_6            2932\n",
       "self_2            2198\n",
       "20/30 to 40/50     110\n",
       "20/30 to 60/70     110\n",
       "40/50 to 60/70     110\n",
       "self_6_median       47\n",
       "self_4_median       47\n",
       "self_2_median       38\n",
       "Name: cat, dtype: int64"
      ]
     },
     "execution_count": 59,
     "metadata": {},
     "output_type": "execute_result"
    }
   ],
   "source": [
    "me[me['rho'].notnull()]['cat'].value_counts()"
   ]
  },
  {
   "cell_type": "code",
   "execution_count": 60,
   "metadata": {},
   "outputs": [],
   "source": [
    "me.groupby(['region', 'cat']).size().to_frame('a').to_csv('/Users/tstoeger/Desktop/tmp.csv')"
   ]
  },
  {
   "cell_type": "code",
   "execution_count": 61,
   "metadata": {},
   "outputs": [
    {
     "data": {
      "text/plain": [
       "cat             is_brain\n",
       "20/30 to 40/50  0.0           86\n",
       "                1.0           24\n",
       "20/30 to 60/70  0.0           86\n",
       "                1.0           24\n",
       "40/50 to 60/70  0.0           86\n",
       "                1.0           24\n",
       "self_2          0.0         2198\n",
       "self_2_median   0.0           38\n",
       "self_4          0.0         4084\n",
       "self_4_median   0.0           47\n",
       "self_6          0.0         2932\n",
       "self_6_median   0.0           47\n",
       "dtype: int64"
      ]
     },
     "execution_count": 61,
     "metadata": {},
     "output_type": "execute_result"
    }
   ],
   "source": [
    "me.groupby(['cat', 'is_brain']).size()"
   ]
  },
  {
   "cell_type": "code",
   "execution_count": 62,
   "metadata": {},
   "outputs": [
    {
     "data": {
      "text/plain": [
       "cat             gender   is_brain\n",
       "20/30 to 40/50  females  0.0           43\n",
       "                         1.0           12\n",
       "                males    0.0           43\n",
       "                         1.0           12\n",
       "20/30 to 60/70  females  0.0           43\n",
       "                         1.0           12\n",
       "                males    0.0           43\n",
       "                         1.0           12\n",
       "40/50 to 60/70  females  0.0           43\n",
       "                         1.0           12\n",
       "                males    0.0           43\n",
       "                         1.0           12\n",
       "self_2          females  0.0          990\n",
       "                males    0.0         1208\n",
       "self_4          females  0.0         1926\n",
       "                males    0.0         2158\n",
       "self_6          females  0.0         1230\n",
       "                males    0.0         1702\n",
       "dtype: int64"
      ]
     },
     "execution_count": 62,
     "metadata": {},
     "output_type": "execute_result"
    }
   ],
   "source": [
    "me.groupby(['cat', 'gender', 'is_brain']).size()"
   ]
  },
  {
   "cell_type": "code",
   "execution_count": 63,
   "metadata": {},
   "outputs": [
    {
     "data": {
      "text/plain": [
       "38"
      ]
     },
     "execution_count": 63,
     "metadata": {},
     "output_type": "execute_result"
    }
   ],
   "source": [
    "me[me['cat']=='self_2_median']['region'].nunique()"
   ]
  },
  {
   "cell_type": "code",
   "execution_count": 64,
   "metadata": {},
   "outputs": [],
   "source": [
    "# a = me[\n",
    "#     me['cat'].isin(['20/30 to 40/50', '20/30 to 60/70'])][\n",
    "#         ['region', 'cat', 'gender']\n",
    "# ].drop_duplicates()\n",
    "\n",
    "# a[a['region']=='Vagina']\n",
    "\n",
    "# a.sort_values(['gender', 'region', 'cat']).to_csv('/Users/tstoeger/Desktop/control_count.csv')"
   ]
  },
  {
   "cell_type": "code",
   "execution_count": null,
   "metadata": {},
   "outputs": [],
   "source": []
  },
  {
   "cell_type": "code",
   "execution_count": null,
   "metadata": {},
   "outputs": [],
   "source": []
  },
  {
   "cell_type": "code",
   "execution_count": null,
   "metadata": {},
   "outputs": [],
   "source": []
  },
  {
   "cell_type": "code",
   "execution_count": null,
   "metadata": {},
   "outputs": [],
   "source": []
  },
  {
   "cell_type": "code",
   "execution_count": 65,
   "metadata": {},
   "outputs": [
    {
     "data": {
      "text/plain": [
       "MannwhitneyuResult(statistic=75430.0, pvalue=0.0014684625709692075)"
      ]
     },
     "execution_count": 65,
     "metadata": {},
     "output_type": "execute_result"
    }
   ],
   "source": [
    "a = me[\n",
    "    (me['cat']=='20/30 to 40/50') &\n",
    "    (me['is_brain']==False)\n",
    "]['rho']\n",
    "\n",
    "b = me[\n",
    "    (me['cat']=='self_2') &\n",
    "    (me['is_brain']==False)\n",
    "]['rho']\n",
    "\n",
    "mannwhitneyu(a, b, alternative='two-sided')"
   ]
  },
  {
   "cell_type": "code",
   "execution_count": 66,
   "metadata": {},
   "outputs": [],
   "source": [
    "# a = me[\n",
    "#     (me['cat']=='20/30 to 40/50') &\n",
    "#     (me['is_brain']==True)\n",
    "# ]['rho']\n",
    "\n",
    "# b = me[\n",
    "#     (me['cat']=='self_2') &\n",
    "#     (me['is_brain']==True)\n",
    "# ]['rho']\n",
    "\n",
    "# mannwhitneyu(a, b, alternative='two-sided')"
   ]
  },
  {
   "cell_type": "code",
   "execution_count": 67,
   "metadata": {},
   "outputs": [
    {
     "data": {
      "text/plain": [
       "MannwhitneyuResult(statistic=71490.0, pvalue=0.00012426009932703318)"
      ]
     },
     "execution_count": 67,
     "metadata": {},
     "output_type": "execute_result"
    }
   ],
   "source": [
    "a = me[\n",
    "    (me['cat']=='20/30 to 60/70') &\n",
    "    (me['is_brain']==False)\n",
    "]['rho']\n",
    "\n",
    "b = me[\n",
    "    (me['cat']=='self_2') &\n",
    "    (me['is_brain']==False)\n",
    "]['rho']\n",
    "\n",
    "mannwhitneyu(a, b, alternative='two-sided')"
   ]
  },
  {
   "cell_type": "code",
   "execution_count": 68,
   "metadata": {},
   "outputs": [
    {
     "data": {
      "text/plain": [
       "MannwhitneyuResult(statistic=12290.0, pvalue=6.611756691919073e-06)"
      ]
     },
     "execution_count": 68,
     "metadata": {},
     "output_type": "execute_result"
    }
   ],
   "source": [
    "a = me[\n",
    "    (me['cat']=='20/30 to 40/50') &\n",
    "    (me['is_brain']==True)\n",
    "]['rho']\n",
    "\n",
    "b = me[\n",
    "    (me['cat']=='self_2') &\n",
    "    (me['is_brain']==False)\n",
    "]['rho']\n",
    "\n",
    "mannwhitneyu(a, b, alternative='two-sided')"
   ]
  },
  {
   "cell_type": "code",
   "execution_count": null,
   "metadata": {},
   "outputs": [],
   "source": []
  },
  {
   "cell_type": "code",
   "execution_count": 69,
   "metadata": {},
   "outputs": [
    {
     "data": {
      "text/plain": [
       "MannwhitneyuResult(statistic=9477.0, pvalue=6.456631956656037e-08)"
      ]
     },
     "execution_count": 69,
     "metadata": {},
     "output_type": "execute_result"
    }
   ],
   "source": [
    "a = me[\n",
    "    (me['cat']=='20/30 to 60/70') &\n",
    "    (me['is_brain']==True)\n",
    "]['rho']\n",
    "\n",
    "b = me[\n",
    "    (me['cat']=='self_2') &\n",
    "    (me['is_brain']==False)\n",
    "]['rho']\n",
    "\n",
    "mannwhitneyu(a, b, alternative='two-sided')"
   ]
  },
  {
   "cell_type": "code",
   "execution_count": null,
   "metadata": {},
   "outputs": [],
   "source": []
  },
  {
   "cell_type": "code",
   "execution_count": 70,
   "metadata": {},
   "outputs": [
    {
     "data": {
      "text/plain": [
       "self_4    4084\n",
       "self_6    2932\n",
       "self_2    2198\n",
       "Name: cat, dtype: int64"
      ]
     },
     "execution_count": 70,
     "metadata": {},
     "output_type": "execute_result"
    }
   ],
   "source": [
    "e_self['cat'].value_counts()"
   ]
  },
  {
   "cell_type": "code",
   "execution_count": 71,
   "metadata": {},
   "outputs": [
    {
     "data": {
      "text/plain": [
       "MannwhitneyuResult(statistic=71490.0, pvalue=0.00012426009932703318)"
      ]
     },
     "execution_count": 71,
     "metadata": {},
     "output_type": "execute_result"
    }
   ],
   "source": [
    "a = me[\n",
    "    (me['cat']=='20/30 to 60/70') &\n",
    "    (me['is_brain']==False)\n",
    "]['rho']\n",
    "\n",
    "b = me[\n",
    "    (me['cat']=='self_2') &\n",
    "    (me['is_brain']==False)\n",
    "]['rho']\n",
    "\n",
    "mannwhitneyu(a, b, alternative='two-sided')"
   ]
  },
  {
   "cell_type": "code",
   "execution_count": null,
   "metadata": {},
   "outputs": [],
   "source": []
  },
  {
   "cell_type": "code",
   "execution_count": null,
   "metadata": {},
   "outputs": [],
   "source": []
  },
  {
   "cell_type": "code",
   "execution_count": null,
   "metadata": {},
   "outputs": [],
   "source": []
  },
  {
   "cell_type": "code",
   "execution_count": null,
   "metadata": {},
   "outputs": [],
   "source": []
  },
  {
   "cell_type": "code",
   "execution_count": null,
   "metadata": {},
   "outputs": [],
   "source": []
  },
  {
   "cell_type": "code",
   "execution_count": null,
   "metadata": {},
   "outputs": [],
   "source": []
  },
  {
   "cell_type": "code",
   "execution_count": null,
   "metadata": {},
   "outputs": [],
   "source": []
  },
  {
   "cell_type": "code",
   "execution_count": null,
   "metadata": {},
   "outputs": [],
   "source": []
  },
  {
   "cell_type": "code",
   "execution_count": null,
   "metadata": {},
   "outputs": [],
   "source": []
  },
  {
   "cell_type": "code",
   "execution_count": null,
   "metadata": {},
   "outputs": [],
   "source": []
  },
  {
   "cell_type": "code",
   "execution_count": null,
   "metadata": {},
   "outputs": [],
   "source": []
  },
  {
   "cell_type": "code",
   "execution_count": 72,
   "metadata": {},
   "outputs": [
    {
     "data": {
      "image/png": "[encoded data removed]",
      "text/plain": [
       "<Figure size 432x288 with 1 Axes>"
      ]
     },
     "metadata": {
      "needs_background": "light"
     },
     "output_type": "display_data"
    }
   ],
   "source": [
    "sns.boxplot(x='cat', y='rho', data=e[e['gender']=='females'], hue='is_brain', notch=True)\n",
    "plt.ylim(-0.45, 0.45)\n",
    "\n",
    "if save_images:\n",
    "    export.export_image(\n",
    "        '{}/notched_box_by_female_brain.pdf'.format(\n",
    "            outfolder))"
   ]
  },
  {
   "cell_type": "code",
   "execution_count": 73,
   "metadata": {},
   "outputs": [
    {
     "data": {
      "text/html": [
       "<div>\n",
       "<style scoped>\n",
       "    .dataframe tbody tr th:only-of-type {\n",
       "        vertical-align: middle;\n",
       "    }\n",
       "\n",
       "    .dataframe tbody tr th {\n",
       "        vertical-align: top;\n",
       "    }\n",
       "\n",
       "    .dataframe thead th {\n",
       "        text-align: right;\n",
       "    }\n",
       "</style>\n",
       "<table border=\"1\" class=\"dataframe\">\n",
       "  <thead>\n",
       "    <tr style=\"text-align: right;\">\n",
       "      <th></th>\n",
       "      <th>region</th>\n",
       "      <th>cat</th>\n",
       "      <th>pval</th>\n",
       "      <th>rho</th>\n",
       "      <th>gender</th>\n",
       "      <th>is_brain</th>\n",
       "    </tr>\n",
       "  </thead>\n",
       "  <tbody>\n",
       "    <tr>\n",
       "      <th>0</th>\n",
       "      <td>Adipose - Subcutaneous</td>\n",
       "      <td>20/30 to 40/50</td>\n",
       "      <td>7.191124e-15</td>\n",
       "      <td>-0.065502</td>\n",
       "      <td>males</td>\n",
       "      <td>0.0</td>\n",
       "    </tr>\n",
       "    <tr>\n",
       "      <th>1</th>\n",
       "      <td>Adipose - Subcutaneous</td>\n",
       "      <td>20/30 to 60/70</td>\n",
       "      <td>1.471450e-07</td>\n",
       "      <td>-0.045182</td>\n",
       "      <td>males</td>\n",
       "      <td>0.0</td>\n",
       "    </tr>\n",
       "    <tr>\n",
       "      <th>2</th>\n",
       "      <td>Adipose - Subcutaneous</td>\n",
       "      <td>40/50 to 60/70</td>\n",
       "      <td>2.827284e-01</td>\n",
       "      <td>0.004371</td>\n",
       "      <td>males</td>\n",
       "      <td>0.0</td>\n",
       "    </tr>\n",
       "    <tr>\n",
       "      <th>3</th>\n",
       "      <td>Adipose - Visceral (Omentum)</td>\n",
       "      <td>20/30 to 40/50</td>\n",
       "      <td>1.539068e-03</td>\n",
       "      <td>-0.031697</td>\n",
       "      <td>males</td>\n",
       "      <td>0.0</td>\n",
       "    </tr>\n",
       "    <tr>\n",
       "      <th>4</th>\n",
       "      <td>Adipose - Visceral (Omentum)</td>\n",
       "      <td>20/30 to 60/70</td>\n",
       "      <td>2.321502e-01</td>\n",
       "      <td>-0.010010</td>\n",
       "      <td>males</td>\n",
       "      <td>0.0</td>\n",
       "    </tr>\n",
       "    <tr>\n",
       "      <th>...</th>\n",
       "      <td>...</td>\n",
       "      <td>...</td>\n",
       "      <td>...</td>\n",
       "      <td>...</td>\n",
       "      <td>...</td>\n",
       "      <td>...</td>\n",
       "    </tr>\n",
       "    <tr>\n",
       "      <th>49</th>\n",
       "      <td>Brain - Putamen (basal ganglia)</td>\n",
       "      <td>20/30 to 60/70</td>\n",
       "      <td>3.269579e-73</td>\n",
       "      <td>-0.199183</td>\n",
       "      <td>females</td>\n",
       "      <td>1.0</td>\n",
       "    </tr>\n",
       "    <tr>\n",
       "      <th>50</th>\n",
       "      <td>Brain - Putamen (basal ganglia)</td>\n",
       "      <td>40/50 to 60/70</td>\n",
       "      <td>1.444853e-44</td>\n",
       "      <td>-0.010787</td>\n",
       "      <td>females</td>\n",
       "      <td>1.0</td>\n",
       "    </tr>\n",
       "    <tr>\n",
       "      <th>52</th>\n",
       "      <td>Brain - Substantia nigra</td>\n",
       "      <td>20/30 to 40/50</td>\n",
       "      <td>1.002094e-09</td>\n",
       "      <td>-0.097746</td>\n",
       "      <td>females</td>\n",
       "      <td>1.0</td>\n",
       "    </tr>\n",
       "    <tr>\n",
       "      <th>53</th>\n",
       "      <td>Brain - Substantia nigra</td>\n",
       "      <td>20/30 to 60/70</td>\n",
       "      <td>1.150969e-12</td>\n",
       "      <td>-0.057102</td>\n",
       "      <td>females</td>\n",
       "      <td>1.0</td>\n",
       "    </tr>\n",
       "    <tr>\n",
       "      <th>54</th>\n",
       "      <td>Brain - Substantia nigra</td>\n",
       "      <td>40/50 to 60/70</td>\n",
       "      <td>2.087378e-25</td>\n",
       "      <td>0.011192</td>\n",
       "      <td>females</td>\n",
       "      <td>1.0</td>\n",
       "    </tr>\n",
       "  </tbody>\n",
       "</table>\n",
       "<p>330 rows × 6 columns</p>\n",
       "</div>"
      ],
      "text/plain": [
       "                             region             cat          pval       rho  \\\n",
       "0            Adipose - Subcutaneous  20/30 to 40/50  7.191124e-15 -0.065502   \n",
       "1            Adipose - Subcutaneous  20/30 to 60/70  1.471450e-07 -0.045182   \n",
       "2            Adipose - Subcutaneous  40/50 to 60/70  2.827284e-01  0.004371   \n",
       "3      Adipose - Visceral (Omentum)  20/30 to 40/50  1.539068e-03 -0.031697   \n",
       "4      Adipose - Visceral (Omentum)  20/30 to 60/70  2.321502e-01 -0.010010   \n",
       "..                              ...             ...           ...       ...   \n",
       "49  Brain - Putamen (basal ganglia)  20/30 to 60/70  3.269579e-73 -0.199183   \n",
       "50  Brain - Putamen (basal ganglia)  40/50 to 60/70  1.444853e-44 -0.010787   \n",
       "52         Brain - Substantia nigra  20/30 to 40/50  1.002094e-09 -0.097746   \n",
       "53         Brain - Substantia nigra  20/30 to 60/70  1.150969e-12 -0.057102   \n",
       "54         Brain - Substantia nigra  40/50 to 60/70  2.087378e-25  0.011192   \n",
       "\n",
       "     gender  is_brain  \n",
       "0     males       0.0  \n",
       "1     males       0.0  \n",
       "2     males       0.0  \n",
       "3     males       0.0  \n",
       "4     males       0.0  \n",
       "..      ...       ...  \n",
       "49  females       1.0  \n",
       "50  females       1.0  \n",
       "52  females       1.0  \n",
       "53  females       1.0  \n",
       "54  females       1.0  \n",
       "\n",
       "[330 rows x 6 columns]"
      ]
     },
     "execution_count": 73,
     "metadata": {},
     "output_type": "execute_result"
    }
   ],
   "source": [
    "e"
   ]
  },
  {
   "cell_type": "code",
   "execution_count": 74,
   "metadata": {},
   "outputs": [],
   "source": [
    "m = e[\n",
    "    (e['gender']=='males') &\n",
    "    (e['is_brain']==False)\n",
    "]\n",
    "m_rho = m.pivot(index='region', columns='cat', values='rho').reindex(\n",
    "    columns=['20/30 to 40/50', '20/30 to 60/70']\n",
    ")\n",
    "m_pval = m.pivot(index='region', columns='cat', values='pval').reindex(\n",
    "    columns=['20/30 to 40/50', '20/30 to 60/70']\n",
    ")"
   ]
  },
  {
   "cell_type": "code",
   "execution_count": 75,
   "metadata": {},
   "outputs": [],
   "source": [
    "if save_images:\n",
    "    export.export_full_frame(\n",
    "        '{}/table_imbalance_male.xlsx'.format(outfolder),\n",
    "        m_rho)\n",
    "    \n",
    "    export.export_full_frame(\n",
    "        '{}/table_pval_male.xlsx'.format(outfolder),\n",
    "        m_pval)"
   ]
  },
  {
   "cell_type": "code",
   "execution_count": 76,
   "metadata": {},
   "outputs": [
    {
     "data": {
      "image/png": "[encoded data removed]",
      "text/plain": [
       "<Figure size 360x720 with 2 Axes>"
      ]
     },
     "metadata": {
      "needs_background": "light"
     },
     "output_type": "display_data"
    }
   ],
   "source": [
    "plt.figure(figsize=(5, 10))\n",
    "sns.heatmap(m_rho, vmin=-0.5, vmax=0.5, cmap='bwr', annot=True)\n",
    "\n",
    "if save_images:\n",
    "    export.export_image(\n",
    "        '{}/table_imbalance_male.pdf'.format(\n",
    "            outfolder))"
   ]
  },
  {
   "cell_type": "code",
   "execution_count": null,
   "metadata": {},
   "outputs": [],
   "source": []
  },
  {
   "cell_type": "code",
   "execution_count": 77,
   "metadata": {},
   "outputs": [
    {
     "data": {
      "image/png": "[encoded data removed]",
      "text/plain": [
       "<Figure size 360x720 with 2 Axes>"
      ]
     },
     "metadata": {
      "needs_background": "light"
     },
     "output_type": "display_data"
    }
   ],
   "source": [
    "plt.figure(figsize=(5, 10))\n",
    "sns.heatmap(m_pval.apply(lambda x: -np.log10(x)), annot=True, vmin=0, vmax=100, cmap='YlOrBr')\n",
    "\n",
    "\n",
    "if save_images:\n",
    "    export.export_image(\n",
    "        '{}/table_pval_male.pdf'.format(\n",
    "            outfolder))"
   ]
  },
  {
   "cell_type": "code",
   "execution_count": 78,
   "metadata": {},
   "outputs": [],
   "source": [
    "m = e[\n",
    "    (e['gender']=='females') & \n",
    "    (e['is_brain']==False)\n",
    "]\n",
    "m_rho = m.pivot(index='region', columns='cat', values='rho').reindex(\n",
    "    columns=['20/30 to 40/50', '20/30 to 60/70']\n",
    ")\n",
    "m_pval = m.pivot(index='region', columns='cat', values='pval').reindex(\n",
    "    columns=['20/30 to 40/50', '20/30 to 60/70']\n",
    ")"
   ]
  },
  {
   "cell_type": "code",
   "execution_count": 79,
   "metadata": {},
   "outputs": [],
   "source": [
    "if save_images:\n",
    "    export.export_full_frame(\n",
    "        '{}/table_imbalance_female.xlsx'.format(outfolder),\n",
    "        m_rho)\n",
    "    \n",
    "    export.export_full_frame(\n",
    "        '{}/table_pval_female.xlsx'.format(outfolder),\n",
    "        m_pval)"
   ]
  },
  {
   "cell_type": "code",
   "execution_count": 80,
   "metadata": {},
   "outputs": [
    {
     "data": {
      "image/png": "[encoded data removed]",
      "text/plain": [
       "<Figure size 360x720 with 2 Axes>"
      ]
     },
     "metadata": {
      "needs_background": "light"
     },
     "output_type": "display_data"
    }
   ],
   "source": [
    "plt.figure(figsize=(5, 10))\n",
    "sns.heatmap(m_rho, vmin=-0.5, vmax=0.5, cmap='bwr', annot=True)\n",
    "\n",
    "if save_images:\n",
    "    export.export_image(\n",
    "        '{}/table_imbalance_female.pdf'.format(\n",
    "            outfolder))"
   ]
  },
  {
   "cell_type": "code",
   "execution_count": 81,
   "metadata": {},
   "outputs": [],
   "source": [
    "if save_images:\n",
    "    export.export_image(\n",
    "        '{}/table_pval_female.pdf'.format(\n",
    "            outfolder))"
   ]
  },
  {
   "cell_type": "code",
   "execution_count": null,
   "metadata": {},
   "outputs": [],
   "source": []
  },
  {
   "cell_type": "code",
   "execution_count": null,
   "metadata": {},
   "outputs": [],
   "source": []
  },
  {
   "cell_type": "code",
   "execution_count": null,
   "metadata": {},
   "outputs": [],
   "source": []
  },
  {
   "cell_type": "code",
   "execution_count": null,
   "metadata": {},
   "outputs": [],
   "source": []
  },
  {
   "cell_type": "code",
   "execution_count": 82,
   "metadata": {},
   "outputs": [
    {
     "data": {
      "image/png": "[encoded data removed]",
      "text/plain": [
       "<Figure size 432x288 with 1 Axes>"
      ]
     },
     "metadata": {
      "needs_background": "light"
     },
     "output_type": "display_data"
    }
   ],
   "source": [
    "sns.boxplot(x='cat', y='rho', data=e, hue='is_brain', notch=True)\n",
    "plt.ylim(-0.45, 0.45)\n",
    "\n",
    "\n",
    "if save_images:\n",
    "    export.export_image(\n",
    "        '{}/notched_box_by_brain.pdf'.format(\n",
    "            outfolder))"
   ]
  },
  {
   "cell_type": "code",
   "execution_count": 83,
   "metadata": {},
   "outputs": [
    {
     "data": {
      "text/plain": [
       "cat             is_brain\n",
       "20/30 to 40/50  0.0         86\n",
       "                1.0         24\n",
       "20/30 to 60/70  0.0         86\n",
       "                1.0         24\n",
       "40/50 to 60/70  0.0         86\n",
       "                1.0         24\n",
       "dtype: int64"
      ]
     },
     "execution_count": 83,
     "metadata": {},
     "output_type": "execute_result"
    }
   ],
   "source": [
    "e.groupby(['cat', 'is_brain']).size()"
   ]
  },
  {
   "cell_type": "code",
   "execution_count": 84,
   "metadata": {},
   "outputs": [
    {
     "data": {
      "text/plain": [
       "cat             is_brain  gender \n",
       "20/30 to 40/50  0.0       females    43\n",
       "                          males      43\n",
       "                1.0       females    12\n",
       "                          males      12\n",
       "20/30 to 60/70  0.0       females    43\n",
       "                          males      43\n",
       "                1.0       females    12\n",
       "                          males      12\n",
       "40/50 to 60/70  0.0       females    43\n",
       "                          males      43\n",
       "                1.0       females    12\n",
       "                          males      12\n",
       "dtype: int64"
      ]
     },
     "execution_count": 84,
     "metadata": {},
     "output_type": "execute_result"
    }
   ],
   "source": [
    "e.groupby(['cat', 'is_brain', 'gender']).size()"
   ]
  },
  {
   "cell_type": "code",
   "execution_count": null,
   "metadata": {},
   "outputs": [],
   "source": []
  },
  {
   "cell_type": "code",
   "execution_count": null,
   "metadata": {},
   "outputs": [],
   "source": []
  },
  {
   "cell_type": "code",
   "execution_count": null,
   "metadata": {},
   "outputs": [],
   "source": []
  },
  {
   "cell_type": "code",
   "execution_count": null,
   "metadata": {},
   "outputs": [],
   "source": []
  },
  {
   "cell_type": "code",
   "execution_count": 85,
   "metadata": {},
   "outputs": [],
   "source": [
    "if save_images:\n",
    "    export.export_full_frame(\n",
    "        '{}/summary_stats.xlsx'.format(outfolder), e)"
   ]
  },
  {
   "cell_type": "code",
   "execution_count": null,
   "metadata": {},
   "outputs": [],
   "source": []
  },
  {
   "cell_type": "code",
   "execution_count": 86,
   "metadata": {},
   "outputs": [],
   "source": [
    "from scipy.stats import mannwhitneyu"
   ]
  },
  {
   "cell_type": "code",
   "execution_count": 87,
   "metadata": {},
   "outputs": [],
   "source": [
    "def comp(t):\n",
    "    a = t[t['cat']=='20/30 to 40/50']['rho']\n",
    "    b = t[t['cat']=='20/30 to 60/70']['rho']\n",
    "    \n",
    "    _, p = mannwhitneyu(a, b, alternative='two-sided')\n",
    "    print(p)\n",
    "    return"
   ]
  },
  {
   "cell_type": "code",
   "execution_count": 88,
   "metadata": {},
   "outputs": [
    {
     "name": "stdout",
     "output_type": "stream",
     "text": [
      "0.3273658351959313\n"
     ]
    }
   ],
   "source": [
    "comp(e[e['is_brain']==True])"
   ]
  },
  {
   "cell_type": "code",
   "execution_count": 89,
   "metadata": {},
   "outputs": [
    {
     "name": "stdout",
     "output_type": "stream",
     "text": [
      "0.1748533068932927\n"
     ]
    }
   ],
   "source": [
    "comp(e[(e['is_brain']==True) & (e['gender']=='males')])"
   ]
  },
  {
   "cell_type": "code",
   "execution_count": 90,
   "metadata": {},
   "outputs": [
    {
     "name": "stdout",
     "output_type": "stream",
     "text": [
      "0.8398599725400034\n"
     ]
    }
   ],
   "source": [
    "comp(e[(e['is_brain']==True) & (e['gender']=='females')])"
   ]
  },
  {
   "cell_type": "code",
   "execution_count": 91,
   "metadata": {},
   "outputs": [],
   "source": [
    "d.loc[:, 'is_brain'] = d.loc[:, 'region'].str.startswith('Brain_') == True"
   ]
  },
  {
   "cell_type": "code",
   "execution_count": 92,
   "metadata": {},
   "outputs": [
    {
     "data": {
      "text/plain": [
       "<matplotlib.axes._subplots.AxesSubplot at 0x7fdb89975160>"
      ]
     },
     "execution_count": 92,
     "metadata": {},
     "output_type": "execute_result"
    },
    {
     "data": {
      "image/png": "[encoded data removed]",
      "text/plain": [
       "<Figure size 432x288 with 1 Axes>"
      ]
     },
     "metadata": {
      "needs_background": "light"
     },
     "output_type": "display_data"
    }
   ],
   "source": [
    "sns.boxplot(\n",
    "    x='older',\n",
    "    y='rho',\n",
    "    data=d[(d['younger'].isin([2])) & (d['gender']=='males')],\n",
    "    hue='is_brain',\n",
    "    notch=True\n",
    ")\n",
    "\n"
   ]
  },
  {
   "cell_type": "code",
   "execution_count": 93,
   "metadata": {},
   "outputs": [
    {
     "data": {
      "text/plain": [
       "<matplotlib.axes._subplots.AxesSubplot at 0x7fdb89818b70>"
      ]
     },
     "execution_count": 93,
     "metadata": {},
     "output_type": "execute_result"
    },
    {
     "data": {
      "image/png": "[encoded data removed]",
      "text/plain": [
       "<Figure size 432x288 with 1 Axes>"
      ]
     },
     "metadata": {
      "needs_background": "light"
     },
     "output_type": "display_data"
    }
   ],
   "source": [
    "sns.boxplot(\n",
    "    x='older',\n",
    "    y='rho',\n",
    "    data=d[(d['younger'].isin([2])) & (d['gender']=='females')],\n",
    "    hue='is_brain',\n",
    "    notch=True\n",
    ")\n",
    "\n"
   ]
  },
  {
   "cell_type": "code",
   "execution_count": 94,
   "metadata": {},
   "outputs": [],
   "source": [
    "def comp(t, s):\n",
    "    a = t[(t['cat']==s) & (t['is_brain']==True)]['rho']\n",
    "    b = t[(t['cat']==s) & (t['is_brain']==False)]['rho']\n",
    "    \n",
    "    _, p = mannwhitneyu(a, b, alternative='two-sided')\n",
    "    print(p)\n",
    "    return"
   ]
  },
  {
   "cell_type": "code",
   "execution_count": 95,
   "metadata": {},
   "outputs": [
    {
     "name": "stdout",
     "output_type": "stream",
     "text": [
      "0.0006608754719616662\n"
     ]
    }
   ],
   "source": [
    "comp(e, '20/30 to 40/50')"
   ]
  },
  {
   "cell_type": "code",
   "execution_count": 96,
   "metadata": {},
   "outputs": [
    {
     "name": "stdout",
     "output_type": "stream",
     "text": [
      "7.876076086639925e-05\n"
     ]
    }
   ],
   "source": [
    "comp(e, '20/30 to 60/70')"
   ]
  },
  {
   "cell_type": "code",
   "execution_count": null,
   "metadata": {},
   "outputs": [],
   "source": []
  },
  {
   "cell_type": "code",
   "execution_count": null,
   "metadata": {},
   "outputs": [],
   "source": []
  },
  {
   "cell_type": "code",
   "execution_count": null,
   "metadata": {},
   "outputs": [],
   "source": []
  },
  {
   "cell_type": "code",
   "execution_count": null,
   "metadata": {},
   "outputs": [],
   "source": []
  }
 ],
 "metadata": {
  "kernelspec": {
   "display_name": "Python 3",
   "language": "python",
   "name": "python3"
  },
  "language_info": {
   "codemirror_mode": {
    "name": "ipython",
    "version": 3
   },
   "file_extension": ".py",
   "mimetype": "text/x-python",
   "name": "python",
   "nbconvert_exporter": "python",
   "pygments_lexer": "ipython3",
   "version": "3.7.3"
  },
  "toc": {
   "base_numbering": 1,
   "nav_menu": {},
   "number_sections": true,
   "sideBar": true,
   "skip_h1_title": false,
   "title_cell": "Table of Contents",
   "title_sidebar": "Contents",
   "toc_cell": false,
   "toc_position": {},
   "toc_section_display": true,
   "toc_window_display": false
  }
 },
 "nbformat": 4,
 "nbformat_minor": 2
}
