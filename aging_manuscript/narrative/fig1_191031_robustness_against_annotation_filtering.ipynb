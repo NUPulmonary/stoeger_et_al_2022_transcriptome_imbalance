{
 "cells": [
  {
   "cell_type": "code",
   "execution_count": 1,
   "metadata": {},
   "outputs": [],
   "source": [
    "%matplotlib inline\n",
    "%reload_ext autoreload\n",
    "%autoreload 2"
   ]
  },
  {
   "cell_type": "code",
   "execution_count": 2,
   "metadata": {},
   "outputs": [],
   "source": [
    "import matplotlib as mpl\n",
    "mpl.rcParams['pdf.fonttype'] = 42\n",
    "mpl.rcParams['font.family'] = 'Arial'"
   ]
  },
  {
   "cell_type": "code",
   "execution_count": 3,
   "metadata": {},
   "outputs": [],
   "source": [
    "import os\n",
    "import sys\n",
    "\n",
    "src_dir = './../../src/'\n",
    "sys.path[0] = src_dir\n",
    "\n",
    "import matplotlib.pyplot as plt\n",
    "\n",
    "import glob\n",
    "\n",
    "import numpy as np\n",
    "import pandas as pd\n",
    "import seaborn as sns\n",
    "\n",
    "from collections import OrderedDict\n",
    "\n",
    "from access_biology_data import meta, relations, properties\n",
    "from access_literature_data import medline\n",
    "from access_science_shared import standardizer "
   ]
  },
  {
   "cell_type": "code",
   "execution_count": 4,
   "metadata": {},
   "outputs": [],
   "source": [
    "sys.path.append('./../src/')\n",
    "from aging_tools import inout, export\n",
    "from access_aging_data import earlier_studies, chaperome, companions, sequencing\n",
    "\n",
    "from access_science_shared import standardizer"
   ]
  },
  {
   "cell_type": "code",
   "execution_count": 5,
   "metadata": {},
   "outputs": [],
   "source": [
    "from narrative import nar181026_heat_confidence_genes\n",
    "from narrative import nar181205_networks"
   ]
  },
  {
   "cell_type": "code",
   "execution_count": 6,
   "metadata": {},
   "outputs": [],
   "source": [
    "save_images = True"
   ]
  },
  {
   "cell_type": "code",
   "execution_count": 7,
   "metadata": {},
   "outputs": [],
   "source": [
    "outfolder = '191031_robustness_against_annotation_filtering'"
   ]
  },
  {
   "cell_type": "code",
   "execution_count": 8,
   "metadata": {},
   "outputs": [
    {
     "name": "stderr",
     "output_type": "stream",
     "text": [
      "/Users/tstoeger/anaconda3/lib/python3.7/site-packages/fastparquet/dataframe.py:5: FutureWarning: pandas.core.index is deprecated and will be removed in a future version.  The public classes are available in the top-level namespace.\n",
      "  from pandas.core.index import CategoricalIndex, RangeIndex, Index, MultiIndex\n"
     ]
    }
   ],
   "source": [
    "ref_genes = standardizer.reference_genes(10090, 'orp')"
   ]
  },
  {
   "cell_type": "code",
   "execution_count": 9,
   "metadata": {},
   "outputs": [],
   "source": [
    "all_de, detection, mice_in_comparisons, triplicate_series = nar181026_heat_confidence_genes.load_detection(\n",
    "    detection_column='padj')\n",
    "\n",
    "tissues_to_consider = ['BAT', 'Blood', 'GutEP', 'MuscSat', 'Adrenal', 'Kidney',\n",
    "       'Heart', 'Liver', 'Skin', 'Stomach', 'Brain', 'SI',\n",
    "       'LI', 'Cerebellum', 'WAT', 'Esophagus', 'Lung'] \n",
    "\n",
    "all_de_all = all_de[\n",
    "    (all_de['tissue'].isin(tissues_to_consider)) & \n",
    "    (all_de['pfu']==0) &\n",
    "    (all_de['de_unit']=='both') &\n",
    "    (all_de['younger']==4)\n",
    "]\n",
    "\n",
    "\n",
    "all_de_orp = all_de[\n",
    "    (all_de['tissue'].isin(tissues_to_consider)) & \n",
    "    (all_de['pfu']==0) &\n",
    "    (all_de['younger']==4) &   \n",
    "    (all_de['de_unit']=='both') &\n",
    "    (all_de['gene_ncbi'].isin(ref_genes))\n",
    "\n",
    "]"
   ]
  },
  {
   "cell_type": "code",
   "execution_count": 10,
   "metadata": {},
   "outputs": [],
   "source": [
    "from scipy.stats import spearmanr"
   ]
  },
  {
   "cell_type": "code",
   "execution_count": 11,
   "metadata": {},
   "outputs": [],
   "source": [
    "from natsort import natsorted"
   ]
  },
  {
   "cell_type": "code",
   "execution_count": 12,
   "metadata": {},
   "outputs": [],
   "source": [
    "conditions = natsorted(all_de['condition'].unique())"
   ]
  },
  {
   "cell_type": "code",
   "execution_count": 13,
   "metadata": {},
   "outputs": [],
   "source": [
    "pr = properties.genbank_validated_rna(10090)[['gene_ncbi', 'Genbank_validated_RNA: full_SumACGT']].rename(columns={\n",
    "    'Genbank_validated_RNA: full_SumACGT': 'length'\n",
    "})\n",
    "\n",
    "pr.loc[:, 'log_length'] = np.log10(pr['length'])"
   ]
  },
  {
   "cell_type": "code",
   "execution_count": 14,
   "metadata": {},
   "outputs": [],
   "source": [
    "def get_out(de_set):\n",
    "    \n",
    "    out = pd.DataFrame(index=conditions, columns=[\n",
    "        'corr', 'pval'\n",
    "    ]).rename_axis('condition')\n",
    "    \n",
    "    for condition in conditions:\n",
    "        d = de_set[\n",
    "            (de_set['de_unit']=='both') & (de_set['condition']==condition)\n",
    "        ]\n",
    "\n",
    "        d = d[['gene_ncbi', 'o_over_y', 'padj']].dropna()\n",
    "        d = pd.merge(d, pr)\n",
    "\n",
    "        r, p = spearmanr(d['log_length'], d['o_over_y'])\n",
    "        d = d.set_index('gene_ncbi')\n",
    "\n",
    "        out.loc[condition, 'corr'] = r\n",
    "        out.loc[condition, 'pval'] = p\n",
    "        \n",
    "    out = out.reset_index()\n",
    "    return out"
   ]
  },
  {
   "cell_type": "code",
   "execution_count": null,
   "metadata": {},
   "outputs": [],
   "source": []
  },
  {
   "cell_type": "code",
   "execution_count": 15,
   "metadata": {},
   "outputs": [],
   "source": [
    "orp = get_out(all_de_orp)\n",
    "filterless = get_out(all_de_all)"
   ]
  },
  {
   "cell_type": "code",
   "execution_count": 16,
   "metadata": {},
   "outputs": [],
   "source": [
    "orp = orp.dropna()"
   ]
  },
  {
   "cell_type": "code",
   "execution_count": 17,
   "metadata": {},
   "outputs": [],
   "source": [
    "filterless = filterless.dropna()"
   ]
  },
  {
   "cell_type": "code",
   "execution_count": 18,
   "metadata": {},
   "outputs": [],
   "source": [
    "g = pd.merge(orp, filterless, on=['condition'], suffixes=('_orp', '_filterless'))"
   ]
  },
  {
   "cell_type": "code",
   "execution_count": 19,
   "metadata": {},
   "outputs": [
    {
     "data": {
      "image/png": "[encoded data removed]",
      "text/plain": [
       "<Figure size 360x360 with 1 Axes>"
      ]
     },
     "metadata": {
      "needs_background": "light"
     },
     "output_type": "display_data"
    }
   ],
   "source": [
    "plt.figure(figsize=(5, 5))\n",
    "plt.scatter(g['corr_orp'], g['corr_filterless'])\n",
    "plt.xlabel('High confidence gene annotations')\n",
    "plt.ylabel('No filtering')\n",
    "mi = g[['corr_orp', 'corr_filterless']].min(1).min()-0.05\n",
    "ma = g[['corr_orp', 'corr_filterless']].max(1).max()+0.05\n",
    "plt.xlim([mi, ma])\n",
    "plt.ylim([mi, ma])\n",
    "\n",
    "\n",
    "\n",
    "if save_images:\n",
    "    export.export_image('{}/correlation_across_filtering.pdf'.format(outfolder))"
   ]
  },
  {
   "cell_type": "code",
   "execution_count": 20,
   "metadata": {},
   "outputs": [
    {
     "data": {
      "text/html": [
       "<div>\n",
       "<style scoped>\n",
       "    .dataframe tbody tr th:only-of-type {\n",
       "        vertical-align: middle;\n",
       "    }\n",
       "\n",
       "    .dataframe tbody tr th {\n",
       "        vertical-align: top;\n",
       "    }\n",
       "\n",
       "    .dataframe thead th {\n",
       "        text-align: right;\n",
       "    }\n",
       "</style>\n",
       "<table border=\"1\" class=\"dataframe\">\n",
       "  <thead>\n",
       "    <tr style=\"text-align: right;\">\n",
       "      <th></th>\n",
       "      <th>condition</th>\n",
       "      <th>corr_orp</th>\n",
       "      <th>pval_orp</th>\n",
       "      <th>corr_filterless</th>\n",
       "      <th>pval_filterless</th>\n",
       "    </tr>\n",
       "  </thead>\n",
       "  <tbody>\n",
       "    <tr>\n",
       "      <th>0</th>\n",
       "      <td>Adrenal_0_4_9</td>\n",
       "      <td>-0.0036287</td>\n",
       "      <td>0.729003</td>\n",
       "      <td>-0.00360318</td>\n",
       "      <td>0.730735</td>\n",
       "    </tr>\n",
       "    <tr>\n",
       "      <th>1</th>\n",
       "      <td>Adrenal_0_4_12</td>\n",
       "      <td>-0.0832552</td>\n",
       "      <td>2.09174e-16</td>\n",
       "      <td>-0.0832371</td>\n",
       "      <td>2.07146e-16</td>\n",
       "    </tr>\n",
       "    <tr>\n",
       "      <th>2</th>\n",
       "      <td>Adrenal_0_4_18</td>\n",
       "      <td>0.0600566</td>\n",
       "      <td>1.6534e-09</td>\n",
       "      <td>0.0602259</td>\n",
       "      <td>1.46867e-09</td>\n",
       "    </tr>\n",
       "    <tr>\n",
       "      <th>3</th>\n",
       "      <td>Adrenal_0_4_24</td>\n",
       "      <td>-0.162002</td>\n",
       "      <td>1.07144e-58</td>\n",
       "      <td>-0.161647</td>\n",
       "      <td>1.7451e-58</td>\n",
       "    </tr>\n",
       "    <tr>\n",
       "      <th>4</th>\n",
       "      <td>BAT_0_4_9</td>\n",
       "      <td>-0.0153825</td>\n",
       "      <td>0.106979</td>\n",
       "      <td>-0.0153949</td>\n",
       "      <td>0.106506</td>\n",
       "    </tr>\n",
       "  </tbody>\n",
       "</table>\n",
       "</div>"
      ],
      "text/plain": [
       "        condition   corr_orp     pval_orp corr_filterless pval_filterless\n",
       "0   Adrenal_0_4_9 -0.0036287     0.729003     -0.00360318        0.730735\n",
       "1  Adrenal_0_4_12 -0.0832552  2.09174e-16      -0.0832371     2.07146e-16\n",
       "2  Adrenal_0_4_18  0.0600566   1.6534e-09       0.0602259     1.46867e-09\n",
       "3  Adrenal_0_4_24  -0.162002  1.07144e-58       -0.161647      1.7451e-58\n",
       "4       BAT_0_4_9 -0.0153825     0.106979      -0.0153949        0.106506"
      ]
     },
     "execution_count": 20,
     "metadata": {},
     "output_type": "execute_result"
    }
   ],
   "source": [
    "g.head()"
   ]
  },
  {
   "cell_type": "code",
   "execution_count": null,
   "metadata": {},
   "outputs": [],
   "source": []
  },
  {
   "cell_type": "code",
   "execution_count": null,
   "metadata": {},
   "outputs": [],
   "source": []
  }
 ],
 "metadata": {
  "kernelspec": {
   "display_name": "Python 3",
   "language": "python",
   "name": "python3"
  },
  "language_info": {
   "codemirror_mode": {
    "name": "ipython",
    "version": 3
   },
   "file_extension": ".py",
   "mimetype": "text/x-python",
   "name": "python",
   "nbconvert_exporter": "python",
   "pygments_lexer": "ipython3",
   "version": "3.7.3"
  }
 },
 "nbformat": 4,
 "nbformat_minor": 2
}
