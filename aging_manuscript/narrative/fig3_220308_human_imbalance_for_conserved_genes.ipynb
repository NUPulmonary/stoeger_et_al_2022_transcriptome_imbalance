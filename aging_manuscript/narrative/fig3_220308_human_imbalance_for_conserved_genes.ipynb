{
 "cells": [
  {
   "cell_type": "code",
   "execution_count": 1,
   "metadata": {},
   "outputs": [],
   "source": [
    "import os\n",
    "import sys\n",
    "\n",
    "src_dir = './../src/'\n",
    "sys.path[0] = src_dir\n",
    "\n",
    "import matplotlib.pyplot as plt\n",
    "\n",
    "import glob\n",
    "\n",
    "import numpy as np\n",
    "import pandas as pd\n",
    "import seaborn as sns\n",
    "\n",
    "from access_biology_data import meta, relations, properties\n",
    "from access_literature_data import medline\n",
    "from access_science_shared import standardizer "
   ]
  },
  {
   "cell_type": "code",
   "execution_count": 2,
   "metadata": {},
   "outputs": [],
   "source": [
    "import matplotlib as mpl\n",
    "mpl.rcParams['pdf.fonttype'] = 42\n",
    "mpl.rcParams['font.family'] = 'Arial'"
   ]
  },
  {
   "cell_type": "code",
   "execution_count": 3,
   "metadata": {},
   "outputs": [],
   "source": [
    "sys.path.append('./../src/')\n",
    "from aging_tools import inout, export\n",
    "from access_aging_data import companions"
   ]
  },
  {
   "cell_type": "code",
   "execution_count": 4,
   "metadata": {},
   "outputs": [],
   "source": [
    "from natsort import natsorted\n",
    "from scipy.stats import spearmanr\n",
    "from access_biology_data import relations"
   ]
  },
  {
   "cell_type": "code",
   "execution_count": 5,
   "metadata": {},
   "outputs": [],
   "source": [
    "from scipy.stats import wilcoxon"
   ]
  },
  {
   "cell_type": "code",
   "execution_count": 6,
   "metadata": {},
   "outputs": [],
   "source": [
    "outfolder = '220308_human_imbalance_for_conserved_genes'"
   ]
  },
  {
   "cell_type": "code",
   "execution_count": 7,
   "metadata": {},
   "outputs": [],
   "source": [
    "save_images = False"
   ]
  },
  {
   "cell_type": "code",
   "execution_count": 8,
   "metadata": {},
   "outputs": [
    {
     "name": "stderr",
     "output_type": "stream",
     "text": [
      "/Users/tstoeger/opt/miniconda3/envs/aging/lib/python3.7/site-packages/fastparquet/dataframe.py:5: FutureWarning: pandas.core.index is deprecated and will be removed in a future version.  The public classes are available in the top-level namespace.\n",
      "  from pandas.core.index import CategoricalIndex, RangeIndex, Index, MultiIndex\n"
     ]
    }
   ],
   "source": [
    "ref_genes = standardizer.reference_genes(9606, 'orp')"
   ]
  },
  {
   "cell_type": "code",
   "execution_count": 9,
   "metadata": {},
   "outputs": [],
   "source": [
    "all_de = companions.tstoeger_190427_gtex()"
   ]
  },
  {
   "cell_type": "code",
   "execution_count": 10,
   "metadata": {},
   "outputs": [],
   "source": [
    "all_de = all_de[\n",
    "    (all_de['padj'].notnull()) &\n",
    "    (all_de['gene_ncbi'].isin(ref_genes))\n",
    "]"
   ]
  },
  {
   "cell_type": "code",
   "execution_count": 11,
   "metadata": {},
   "outputs": [],
   "source": [
    "f = (all_de['younger'].isin([2, 3])) & (all_de['older'].isin([6, 7]))\n",
    "all_de = all_de.loc[f, :].copy()"
   ]
  },
  {
   "cell_type": "code",
   "execution_count": 12,
   "metadata": {},
   "outputs": [],
   "source": [
    "all_de.loc[:, 'reduced_tissue'] = all_de['tissue'].str.replace(\n",
    "    ' - ', '_').str.replace(' ', '_').str.replace(\n",
    "    '-', '_').str.replace('(','').str.replace(')', '')\n",
    "\n",
    "all_de.loc[:, 'condition'] = all_de.loc[:, 'gender'] + 's_' + all_de['reduced_tissue'] + '_' + \\\n",
    "    all_de['older'].astype(int).astype(str) + '_vs_' + all_de['younger'].astype(int).astype(str)\n",
    "\n",
    "conditions = natsorted(all_de['condition'].unique())"
   ]
  },
  {
   "cell_type": "code",
   "execution_count": 13,
   "metadata": {},
   "outputs": [],
   "source": [
    "pr = properties.genbank_validated_rna(9606)[['gene_ncbi', 'Genbank_validated_RNA: full_SumACGT']].rename(columns={\n",
    "    'Genbank_validated_RNA: full_SumACGT': 'length'\n",
    "})\n",
    "\n",
    "pr.loc[:, 'log_length'] = np.log10(pr['length'])"
   ]
  },
  {
   "cell_type": "code",
   "execution_count": 14,
   "metadata": {},
   "outputs": [],
   "source": [
    "hg = relations.homologene()\n",
    "\n",
    "ho = pd.merge(\n",
    "    hg[hg['taxon_ncbi']==9606][['homologene_group', 'gene_ncbi']],\n",
    "    hg[hg['taxon_ncbi']==559292][['homologene_group', 'gene_ncbi']],\n",
    "    on='homologene_group',\n",
    "    suffixes=('_h', '_y')\n",
    ").drop_duplicates()"
   ]
  },
  {
   "cell_type": "code",
   "execution_count": 15,
   "metadata": {},
   "outputs": [
    {
     "data": {
      "text/plain": [
       "array([       38,       158,       210, ..., 100529261,      6576,\n",
       "          375346])"
      ]
     },
     "execution_count": 15,
     "metadata": {},
     "output_type": "execute_result"
    }
   ],
   "source": [
    "ho['gene_ncbi_h'].unique()"
   ]
  },
  {
   "cell_type": "code",
   "execution_count": 16,
   "metadata": {},
   "outputs": [
    {
     "data": {
      "text/plain": [
       "(1359, 3)"
      ]
     },
     "execution_count": 16,
     "metadata": {},
     "output_type": "execute_result"
    }
   ],
   "source": [
    "ho.shape"
   ]
  },
  {
   "cell_type": "code",
   "execution_count": null,
   "metadata": {},
   "outputs": [],
   "source": []
  },
  {
   "cell_type": "code",
   "execution_count": 17,
   "metadata": {},
   "outputs": [],
   "source": [
    "path_to_data = inout.get_internal_path(\n",
    "    (\n",
    "        'datasets/general/resources/publications/'\n",
    "        'hu_2014/Supplemental_Table_1.xls'\n",
    "    )\n",
    ")\n",
    "\n",
    "df_hu = pd.read_excel(\n",
    "    path_to_data,\n",
    "    sheet_name='young vs old'\n",
    ")\n",
    "\n",
    "taxon_id = 559292\n",
    "g = meta.gene_info(taxon_id)"
   ]
  },
  {
   "cell_type": "code",
   "execution_count": 18,
   "metadata": {},
   "outputs": [],
   "source": [
    "m = pd.merge(\n",
    "    g[['gene_ncbi', 'LocusTag']].rename(columns={'LocusTag': 'gene'}), \n",
    "    df_hu)"
   ]
  },
  {
   "cell_type": "code",
   "execution_count": 19,
   "metadata": {},
   "outputs": [],
   "source": [
    "highly_responsive  = ho[ho['gene_ncbi_y'].isin(\n",
    "    m[\n",
    "        (m['logFC']>0) &\n",
    "        (m['FDR']<0.05)\n",
    "    ]['gene_ncbi']\n",
    ")]['gene_ncbi_h'].unique()"
   ]
  },
  {
   "cell_type": "code",
   "execution_count": 20,
   "metadata": {},
   "outputs": [],
   "source": [
    "#Genes to consider\n",
    "ho_in_m = ho[ho['gene_ncbi_y'].isin(m['gene_ncbi'])]\n",
    "all_de = all_de[all_de['gene_ncbi'].isin(ref_genes)]\n",
    "# all_de = all_de[all_de['gene_ncbi'].isin(ho['gene_ncbi_h'])]"
   ]
  },
  {
   "cell_type": "code",
   "execution_count": 21,
   "metadata": {},
   "outputs": [],
   "source": [
    "out = pd.DataFrame(index=conditions, columns=[\n",
    "     'corr_conserved', 'corr_non_conserved', 'corr_high', 'corr_non_high'\n",
    "]).rename_axis('condition')"
   ]
  },
  {
   "cell_type": "code",
   "execution_count": 22,
   "metadata": {},
   "outputs": [],
   "source": [
    "for condition in conditions:\n",
    "    d = all_de[\n",
    "        all_de['condition']==condition\n",
    "    ]\n",
    "\n",
    "    d = d[['gene_ncbi', 'o_over_y']].dropna()\n",
    "    d = pd.merge(d, pr)\n",
    "    \n",
    "    \n",
    "    f  = d['gene_ncbi'].isin(ho['gene_ncbi_h'])\n",
    "    r, p = spearmanr(d.loc[f, 'log_length'], d.loc[f, 'o_over_y'])\n",
    "    out.loc[condition, 'corr_conserved'] = r\n",
    "    \n",
    "    r, p = spearmanr(d.loc[~f, 'log_length'], d.loc[~f, 'o_over_y'])\n",
    "    out.loc[condition, 'corr_non_conserved'] = r\n",
    "    \n",
    "    \n",
    "    d = d[d['gene_ncbi'].isin(ho_in_m['gene_ncbi_h'])].copy()\n",
    "\n",
    "    f  = d['gene_ncbi'].isin(highly_responsive)\n",
    "    r, p = spearmanr(d.loc[f, 'log_length'], d.loc[f, 'o_over_y'])\n",
    "    out.loc[condition, 'corr_high'] = r\n",
    "    \n",
    "    r, p = spearmanr(d.loc[~f, 'log_length'], d.loc[~f, 'o_over_y'])\n",
    "    out.loc[condition, 'corr_non_high'] = r"
   ]
  },
  {
   "cell_type": "code",
   "execution_count": 23,
   "metadata": {},
   "outputs": [],
   "source": [
    "out = out.reset_index()"
   ]
  },
  {
   "cell_type": "code",
   "execution_count": 24,
   "metadata": {},
   "outputs": [],
   "source": [
    "mega = pd.merge(out, all_de[['condition', 'gender', 'tissue', 'younger', 'older']].drop_duplicates())"
   ]
  },
  {
   "cell_type": "code",
   "execution_count": null,
   "metadata": {},
   "outputs": [],
   "source": []
  },
  {
   "cell_type": "code",
   "execution_count": 25,
   "metadata": {},
   "outputs": [],
   "source": [
    "mega['corr_conserved'] = mega['corr_conserved'].astype(float)\n",
    "mega['corr_non_conserved'] = mega['corr_non_conserved'].astype(float)"
   ]
  },
  {
   "cell_type": "code",
   "execution_count": 26,
   "metadata": {},
   "outputs": [],
   "source": [
    "mega['corr_high'] = mega['corr_high'].astype(float)\n",
    "mega['corr_non_high'] = mega['corr_non_high'].astype(float)"
   ]
  },
  {
   "cell_type": "code",
   "execution_count": null,
   "metadata": {},
   "outputs": [],
   "source": []
  },
  {
   "cell_type": "code",
   "execution_count": 27,
   "metadata": {},
   "outputs": [],
   "source": [
    "m = mega.groupby(\n",
    "    ['gender', 'tissue']\n",
    ")[['corr_high', 'corr_non_high', 'corr_conserved', 'corr_non_conserved']].median().reset_index()"
   ]
  },
  {
   "cell_type": "code",
   "execution_count": 28,
   "metadata": {},
   "outputs": [],
   "source": [
    "x = 'corr_non_conserved'\n",
    "y = 'corr_conserved'"
   ]
  },
  {
   "cell_type": "code",
   "execution_count": null,
   "metadata": {},
   "outputs": [],
   "source": []
  },
  {
   "cell_type": "code",
   "execution_count": 29,
   "metadata": {},
   "outputs": [
    {
     "data": {
      "text/plain": [
       "SpearmanrResult(correlation=0.8979385820085852, pvalue=1.1068628079711384e-31)"
      ]
     },
     "execution_count": 29,
     "metadata": {},
     "output_type": "execute_result"
    }
   ],
   "source": [
    "spearmanr(m[x], m[y])"
   ]
  },
  {
   "cell_type": "code",
   "execution_count": 30,
   "metadata": {},
   "outputs": [
    {
     "data": {
      "text/plain": [
       "Text(0, 0.5, 'corr_conserved')"
      ]
     },
     "execution_count": 30,
     "metadata": {},
     "output_type": "execute_result"
    },
    {
     "data": {
      "image/png": "[encoded data removed]",
      "text/plain": [
       "<Figure size 360x360 with 1 Axes>"
      ]
     },
     "metadata": {
      "needs_background": "light"
     },
     "output_type": "display_data"
    }
   ],
   "source": [
    "plt.figure(figsize=(5, 5))\n",
    "plt.scatter(m[x], m[y])\n",
    "# plt.xlim([-0.6, 0.4])\n",
    "# plt.ylim([-0.6, 0.4])\n",
    "plt.xlabel(x)\n",
    "plt.ylabel(y)"
   ]
  },
  {
   "cell_type": "code",
   "execution_count": 31,
   "metadata": {},
   "outputs": [
    {
     "data": {
      "image/png": "[encoded data removed]",
      "text/plain": [
       "<Figure size 360x360 with 1 Axes>"
      ]
     },
     "metadata": {
      "needs_background": "light"
     },
     "output_type": "display_data"
    }
   ],
   "source": [
    "plt.figure(figsize=(5, 5))\n",
    "plt.scatter(m[x], m[y])\n",
    "plt.xlim([-0.6, 0.4])\n",
    "plt.ylim([-0.6, 0.4])\n",
    "plt.xlabel(x)\n",
    "plt.ylabel(y)\n",
    "\n",
    "if save_images:\n",
    "    export.export_image(\n",
    "        '{}/comparison_conserved.pdf'.format(outfolder))"
   ]
  },
  {
   "cell_type": "code",
   "execution_count": null,
   "metadata": {},
   "outputs": [],
   "source": []
  },
  {
   "cell_type": "code",
   "execution_count": 32,
   "metadata": {},
   "outputs": [
    {
     "data": {
      "text/plain": [
       "86"
      ]
     },
     "execution_count": 32,
     "metadata": {},
     "output_type": "execute_result"
    }
   ],
   "source": [
    "m.shape[0]"
   ]
  },
  {
   "cell_type": "code",
   "execution_count": 33,
   "metadata": {},
   "outputs": [
    {
     "data": {
      "text/plain": [
       "0.2558139534883721"
      ]
     },
     "execution_count": 33,
     "metadata": {},
     "output_type": "execute_result"
    }
   ],
   "source": [
    "(m[y] > m[x]).mean()"
   ]
  },
  {
   "cell_type": "code",
   "execution_count": 34,
   "metadata": {},
   "outputs": [
    {
     "data": {
      "text/plain": [
       "WilcoxonResult(statistic=719.0, pvalue=7.109239279108243e-07)"
      ]
     },
     "execution_count": 34,
     "metadata": {},
     "output_type": "execute_result"
    }
   ],
   "source": [
    "wilcoxon(m[x], m[y])"
   ]
  },
  {
   "cell_type": "code",
   "execution_count": 35,
   "metadata": {},
   "outputs": [],
   "source": [
    "x = 'corr_non_high'\n",
    "y = 'corr_high'"
   ]
  },
  {
   "cell_type": "code",
   "execution_count": 36,
   "metadata": {},
   "outputs": [
    {
     "data": {
      "text/plain": [
       "SpearmanrResult(correlation=0.8451436388508892, pvalue=1.444998059049458e-24)"
      ]
     },
     "execution_count": 36,
     "metadata": {},
     "output_type": "execute_result"
    }
   ],
   "source": [
    "spearmanr(m[x], m[y])"
   ]
  },
  {
   "cell_type": "code",
   "execution_count": 37,
   "metadata": {},
   "outputs": [
    {
     "data": {
      "text/plain": [
       "Text(0, 0.5, 'corr_high')"
      ]
     },
     "execution_count": 37,
     "metadata": {},
     "output_type": "execute_result"
    },
    {
     "data": {
      "image/png": "[encoded data removed]",
      "text/plain": [
       "<Figure size 360x360 with 1 Axes>"
      ]
     },
     "metadata": {
      "needs_background": "light"
     },
     "output_type": "display_data"
    }
   ],
   "source": [
    "plt.figure(figsize=(5, 5))\n",
    "plt.scatter(m[x], m[y])\n",
    "# plt.xlim([-0.6, 0.4])\n",
    "# plt.ylim([-0.6, 0.4])\n",
    "plt.xlabel(x)\n",
    "plt.ylabel(y)\n"
   ]
  },
  {
   "cell_type": "code",
   "execution_count": 38,
   "metadata": {},
   "outputs": [
    {
     "data": {
      "image/png": "[encoded data removed]",
      "text/plain": [
       "<Figure size 360x360 with 1 Axes>"
      ]
     },
     "metadata": {
      "needs_background": "light"
     },
     "output_type": "display_data"
    }
   ],
   "source": [
    "plt.figure(figsize=(5, 5))\n",
    "plt.scatter(m[x], m[y])\n",
    "plt.xlim([-0.6, 0.4])\n",
    "plt.ylim([-0.6, 0.4])\n",
    "plt.xlabel(x)\n",
    "plt.ylabel(y)\n",
    "\n",
    "if save_images:\n",
    "    export.export_image(\n",
    "        '{}/comparison_high_up.pdf'.format(outfolder))"
   ]
  },
  {
   "cell_type": "code",
   "execution_count": null,
   "metadata": {},
   "outputs": [],
   "source": []
  },
  {
   "cell_type": "code",
   "execution_count": 39,
   "metadata": {},
   "outputs": [
    {
     "data": {
      "text/plain": [
       "86"
      ]
     },
     "execution_count": 39,
     "metadata": {},
     "output_type": "execute_result"
    }
   ],
   "source": [
    "m.shape[0]"
   ]
  },
  {
   "cell_type": "code",
   "execution_count": 40,
   "metadata": {},
   "outputs": [
    {
     "data": {
      "text/plain": [
       "0.7093023255813954"
      ]
     },
     "execution_count": 40,
     "metadata": {},
     "output_type": "execute_result"
    }
   ],
   "source": [
    "(m[y] > m[x]).mean()"
   ]
  },
  {
   "cell_type": "code",
   "execution_count": 41,
   "metadata": {},
   "outputs": [
    {
     "data": {
      "text/plain": [
       "WilcoxonResult(statistic=889.0, pvalue=2.3752723912642547e-05)"
      ]
     },
     "execution_count": 41,
     "metadata": {},
     "output_type": "execute_result"
    }
   ],
   "source": [
    "wilcoxon(m[x], m[y])"
   ]
  },
  {
   "cell_type": "code",
   "execution_count": null,
   "metadata": {},
   "outputs": [],
   "source": []
  }
 ],
 "metadata": {
  "kernelspec": {
   "display_name": "Python 3",
   "language": "python",
   "name": "python3"
  },
  "language_info": {
   "codemirror_mode": {
    "name": "ipython",
    "version": 3
   },
   "file_extension": ".py",
   "mimetype": "text/x-python",
   "name": "python",
   "nbconvert_exporter": "python",
   "pygments_lexer": "ipython3",
   "version": "3.7.3"
  }
 },
 "nbformat": 4,
 "nbformat_minor": 2
}
