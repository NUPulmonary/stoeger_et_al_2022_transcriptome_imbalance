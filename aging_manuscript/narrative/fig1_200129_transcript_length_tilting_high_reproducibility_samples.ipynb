{
 "cells": [
  {
   "cell_type": "code",
   "execution_count": 1,
   "metadata": {},
   "outputs": [],
   "source": [
    "%matplotlib inline\n",
    "%reload_ext autoreload\n",
    "%autoreload 2"
   ]
  },
  {
   "cell_type": "code",
   "execution_count": 2,
   "metadata": {},
   "outputs": [],
   "source": [
    "import matplotlib as mpl\n",
    "mpl.rcParams['pdf.fonttype'] = 42\n",
    "mpl.rcParams['font.family'] = 'Arial'"
   ]
  },
  {
   "cell_type": "code",
   "execution_count": 3,
   "metadata": {},
   "outputs": [],
   "source": [
    "import os\n",
    "import sys\n",
    "\n",
    "src_dir = './../../src/'\n",
    "sys.path[0] = src_dir\n",
    "\n",
    "import matplotlib.pyplot as plt\n",
    "\n",
    "import glob\n",
    "\n",
    "import numpy as np\n",
    "import pandas as pd\n",
    "import seaborn as sns\n",
    "\n",
    "from collections import OrderedDict\n",
    "\n",
    "from access_biology_data import meta, relations, properties\n",
    "from access_literature_data import medline\n",
    "from access_science_shared import standardizer "
   ]
  },
  {
   "cell_type": "code",
   "execution_count": 4,
   "metadata": {},
   "outputs": [],
   "source": [
    "sys.path.append('./../src/')\n",
    "from aging_tools import inout, export\n",
    "from access_aging_data import earlier_studies, chaperome, companions, sequencing\n",
    "\n",
    "from access_science_shared import standardizer"
   ]
  },
  {
   "cell_type": "code",
   "execution_count": 5,
   "metadata": {},
   "outputs": [],
   "source": [
    "from narrative import nar181026_heat_confidence_genes\n",
    "from narrative import nar181205_networks"
   ]
  },
  {
   "cell_type": "code",
   "execution_count": 6,
   "metadata": {},
   "outputs": [],
   "source": [
    "from scipy.stats import mannwhitneyu\n",
    "from scipy.stats import spearmanr"
   ]
  },
  {
   "cell_type": "code",
   "execution_count": 7,
   "metadata": {},
   "outputs": [],
   "source": [
    "save_images = True"
   ]
  },
  {
   "cell_type": "code",
   "execution_count": 8,
   "metadata": {},
   "outputs": [],
   "source": [
    "outfolder = '200129_transcript_length_tilting_high_reproducibility_samples'"
   ]
  },
  {
   "cell_type": "code",
   "execution_count": 9,
   "metadata": {},
   "outputs": [
    {
     "name": "stderr",
     "output_type": "stream",
     "text": [
      "/Users/tstoeger/opt/miniconda3/envs/aging/lib/python3.7/site-packages/fastparquet/dataframe.py:5: FutureWarning: pandas.core.index is deprecated and will be removed in a future version.  The public classes are available in the top-level namespace.\n",
      "  from pandas.core.index import CategoricalIndex, RangeIndex, Index, MultiIndex\n"
     ]
    }
   ],
   "source": [
    "ref_genes = standardizer.reference_genes(10090, 'orp')"
   ]
  },
  {
   "cell_type": "code",
   "execution_count": 10,
   "metadata": {},
   "outputs": [],
   "source": [
    "def get_reproducibility():\n",
    "\n",
    "    all_de, detection, mice_in_comparisons, triplicate_series = nar181026_heat_confidence_genes.load_detection(\n",
    "        detection_column='padj')\n",
    "\n",
    "    tissues_to_consider = ['BAT', 'Blood', 'GutEP', 'MuscSat', 'Adrenal', 'Kidney',\n",
    "           'Heart', 'Liver', 'Skin', 'Stomach', 'Brain', 'SI',\n",
    "           'LI', 'Cerebellum', 'WAT', 'Esophagus', 'Lung'] \n",
    "    pfus=[0]\n",
    "\n",
    "    first = all_de[\n",
    "        (all_de['younger'] == 4) & \n",
    "        (all_de['is_detected'] == True) &\n",
    "        (all_de['de_unit'] == 'first') &\n",
    "        (all_de['tissue'].isin(tissues_to_consider)) &\n",
    "        (all_de['pfu'].isin(pfus)) & \n",
    "        (all_de['gene_ncbi'].isin(ref_genes))\n",
    "    ]\n",
    "\n",
    "    second = all_de[\n",
    "        (all_de['younger'] == 4) & \n",
    "        (all_de['is_detected'] == True) &\n",
    "        (all_de['de_unit'] == 'second') &\n",
    "        (all_de['tissue'].isin(tissues_to_consider)) &\n",
    "        (all_de['pfu'].isin(pfus)) & \n",
    "        (all_de['gene_ncbi'].isin(ref_genes))\n",
    "    ]\n",
    "\n",
    "\n",
    "    ages = [9, 12, 18, 24]\n",
    "\n",
    "    out = pd.DataFrame(index=tissues_to_consider, columns=ages)\n",
    "\n",
    "    agg = []\n",
    "\n",
    "    for tissue in tissues_to_consider:\n",
    "        for age in ages:\n",
    "            fi = first[\n",
    "                (first['older']==age) & \n",
    "                (first['tissue']==tissue)            \n",
    "            ][['gene_ncbi', 'o_over_y']]\n",
    "\n",
    "\n",
    "            se = second[\n",
    "                (second['older']==age) & \n",
    "                (second['tissue']==tissue)          \n",
    "            ][['gene_ncbi', 'o_over_y']]\n",
    "\n",
    "            m =pd.merge(fi, se, on='gene_ncbi', how='inner', suffixes=('_fi', '_se'))\n",
    "\n",
    "            di = dict()\n",
    "            di['tissue'] = tissue\n",
    "            di['age'] = age\n",
    "            di['rho'] = spearmanr(m['o_over_y_fi'], m['o_over_y_se'])[0]\n",
    "            agg.append(di)\n",
    "\n",
    "    o = pd.DataFrame(agg)\n",
    "    h = o.pivot(index='tissue', columns='age', values='rho')\n",
    "    \n",
    "    \n",
    "\n",
    "    return first, second, o, h\n",
    "\n",
    "first, second, rep_o, rep_h = get_reproducibility()"
   ]
  },
  {
   "cell_type": "code",
   "execution_count": 11,
   "metadata": {},
   "outputs": [
    {
     "data": {
      "text/html": [
       "<div>\n",
       "<style scoped>\n",
       "    .dataframe tbody tr th:only-of-type {\n",
       "        vertical-align: middle;\n",
       "    }\n",
       "\n",
       "    .dataframe tbody tr th {\n",
       "        vertical-align: top;\n",
       "    }\n",
       "\n",
       "    .dataframe thead th {\n",
       "        text-align: right;\n",
       "    }\n",
       "</style>\n",
       "<table border=\"1\" class=\"dataframe\">\n",
       "  <thead>\n",
       "    <tr style=\"text-align: right;\">\n",
       "      <th>age</th>\n",
       "      <th>9</th>\n",
       "      <th>12</th>\n",
       "      <th>18</th>\n",
       "      <th>24</th>\n",
       "    </tr>\n",
       "    <tr>\n",
       "      <th>tissue</th>\n",
       "      <th></th>\n",
       "      <th></th>\n",
       "      <th></th>\n",
       "      <th></th>\n",
       "    </tr>\n",
       "  </thead>\n",
       "  <tbody>\n",
       "    <tr>\n",
       "      <th>Adrenal</th>\n",
       "      <td>0.107905</td>\n",
       "      <td>-0.027938</td>\n",
       "      <td>0.360199</td>\n",
       "      <td>0.344594</td>\n",
       "    </tr>\n",
       "    <tr>\n",
       "      <th>BAT</th>\n",
       "      <td>-0.255230</td>\n",
       "      <td>0.171381</td>\n",
       "      <td>0.163043</td>\n",
       "      <td>0.237920</td>\n",
       "    </tr>\n",
       "    <tr>\n",
       "      <th>Blood</th>\n",
       "      <td>0.001193</td>\n",
       "      <td>-0.230496</td>\n",
       "      <td>0.163063</td>\n",
       "      <td>0.460072</td>\n",
       "    </tr>\n",
       "    <tr>\n",
       "      <th>Brain</th>\n",
       "      <td>0.001313</td>\n",
       "      <td>-0.441334</td>\n",
       "      <td>0.021220</td>\n",
       "      <td>-0.140836</td>\n",
       "    </tr>\n",
       "    <tr>\n",
       "      <th>Cerebellum</th>\n",
       "      <td>0.871107</td>\n",
       "      <td>-0.071962</td>\n",
       "      <td>-0.019640</td>\n",
       "      <td>0.101056</td>\n",
       "    </tr>\n",
       "  </tbody>\n",
       "</table>\n",
       "</div>"
      ],
      "text/plain": [
       "age               9         12        18        24\n",
       "tissue                                            \n",
       "Adrenal     0.107905 -0.027938  0.360199  0.344594\n",
       "BAT        -0.255230  0.171381  0.163043  0.237920\n",
       "Blood       0.001193 -0.230496  0.163063  0.460072\n",
       "Brain       0.001313 -0.441334  0.021220 -0.140836\n",
       "Cerebellum  0.871107 -0.071962 -0.019640  0.101056"
      ]
     },
     "execution_count": 11,
     "metadata": {},
     "output_type": "execute_result"
    }
   ],
   "source": [
    "rep_h.head()"
   ]
  },
  {
   "cell_type": "code",
   "execution_count": 12,
   "metadata": {},
   "outputs": [
    {
     "data": {
      "text/html": [
       "<div>\n",
       "<style scoped>\n",
       "    .dataframe tbody tr th:only-of-type {\n",
       "        vertical-align: middle;\n",
       "    }\n",
       "\n",
       "    .dataframe tbody tr th {\n",
       "        vertical-align: top;\n",
       "    }\n",
       "\n",
       "    .dataframe thead th {\n",
       "        text-align: right;\n",
       "    }\n",
       "</style>\n",
       "<table border=\"1\" class=\"dataframe\">\n",
       "  <thead>\n",
       "    <tr style=\"text-align: right;\">\n",
       "      <th></th>\n",
       "      <th>tissue</th>\n",
       "      <th>age</th>\n",
       "      <th>rho</th>\n",
       "    </tr>\n",
       "  </thead>\n",
       "  <tbody>\n",
       "    <tr>\n",
       "      <th>0</th>\n",
       "      <td>BAT</td>\n",
       "      <td>9</td>\n",
       "      <td>-0.255230</td>\n",
       "    </tr>\n",
       "    <tr>\n",
       "      <th>1</th>\n",
       "      <td>BAT</td>\n",
       "      <td>12</td>\n",
       "      <td>0.171381</td>\n",
       "    </tr>\n",
       "    <tr>\n",
       "      <th>2</th>\n",
       "      <td>BAT</td>\n",
       "      <td>18</td>\n",
       "      <td>0.163043</td>\n",
       "    </tr>\n",
       "    <tr>\n",
       "      <th>3</th>\n",
       "      <td>BAT</td>\n",
       "      <td>24</td>\n",
       "      <td>0.237920</td>\n",
       "    </tr>\n",
       "    <tr>\n",
       "      <th>4</th>\n",
       "      <td>Blood</td>\n",
       "      <td>9</td>\n",
       "      <td>0.001193</td>\n",
       "    </tr>\n",
       "  </tbody>\n",
       "</table>\n",
       "</div>"
      ],
      "text/plain": [
       "  tissue  age       rho\n",
       "0    BAT    9 -0.255230\n",
       "1    BAT   12  0.171381\n",
       "2    BAT   18  0.163043\n",
       "3    BAT   24  0.237920\n",
       "4  Blood    9  0.001193"
      ]
     },
     "execution_count": 12,
     "metadata": {},
     "output_type": "execute_result"
    }
   ],
   "source": [
    "rep_o.head()"
   ]
  },
  {
   "cell_type": "code",
   "execution_count": null,
   "metadata": {},
   "outputs": [],
   "source": []
  },
  {
   "cell_type": "code",
   "execution_count": null,
   "metadata": {},
   "outputs": [],
   "source": []
  },
  {
   "cell_type": "code",
   "execution_count": 13,
   "metadata": {},
   "outputs": [],
   "source": [
    "all_de, detection, mice_in_comparisons, triplicate_series = nar181026_heat_confidence_genes.load_detection(\n",
    "    detection_column='padj')\n",
    "\n",
    "\n",
    "tissues_to_consider = ['BAT', 'Blood', 'GutEP', 'MuscSat', 'Adrenal', 'Kidney',\n",
    "       'Heart', 'Liver', 'Skin', 'Stomach', 'Brain', 'SI',\n",
    "       'LI', 'Cerebellum', 'WAT', 'Esophagus', 'Lung'] \n",
    "\n",
    "all_de = all_de[\n",
    "    (all_de['tissue'].isin(tissues_to_consider)) & \n",
    "    (all_de['pfu']==0) &\n",
    "    (all_de['gene_ncbi'].isin(ref_genes))\n",
    "\n",
    "]\n"
   ]
  },
  {
   "cell_type": "code",
   "execution_count": 14,
   "metadata": {},
   "outputs": [],
   "source": [
    "from scipy.stats import spearmanr"
   ]
  },
  {
   "cell_type": "code",
   "execution_count": 15,
   "metadata": {},
   "outputs": [],
   "source": [
    "from natsort import natsorted"
   ]
  },
  {
   "cell_type": "code",
   "execution_count": 16,
   "metadata": {},
   "outputs": [],
   "source": [
    "conditions = natsorted(all_de['condition'].unique())"
   ]
  },
  {
   "cell_type": "code",
   "execution_count": 17,
   "metadata": {},
   "outputs": [],
   "source": [
    "out = pd.DataFrame(index=conditions, columns=[\n",
    "    'corr', 'pval'\n",
    "]).rename_axis('condition')"
   ]
  },
  {
   "cell_type": "code",
   "execution_count": 18,
   "metadata": {},
   "outputs": [],
   "source": [
    "pr = properties.genbank_validated_rna(10090)[['gene_ncbi', 'Genbank_validated_RNA: full_SumACGT']].rename(columns={\n",
    "    'Genbank_validated_RNA: full_SumACGT': 'length'\n",
    "})\n",
    "\n",
    "pr.loc[:, 'log_length'] = np.log10(pr['length'])"
   ]
  },
  {
   "cell_type": "code",
   "execution_count": 19,
   "metadata": {},
   "outputs": [
    {
     "name": "stdout",
     "output_type": "stream",
     "text": [
      "CPU times: user 4min 4s, sys: 53.7 s, total: 4min 58s\n",
      "Wall time: 2min 7s\n"
     ]
    }
   ],
   "source": [
    "%%time\n",
    "\n",
    "for condition in conditions:\n",
    "    d = all_de[\n",
    "        (all_de['de_unit']=='both') & (all_de['condition']==condition)\n",
    "    ]\n",
    "\n",
    "    d = d[['gene_ncbi', 'o_over_y', 'log_padj', 'log_pvalue']].dropna()\n",
    "    d = pd.merge(d, pr)\n",
    "\n",
    "    r, p = spearmanr(d['log_length'], d['o_over_y'])\n",
    "    d = d.set_index('gene_ncbi')\n",
    "\n",
    "    out.loc[condition, 'corr'] = r\n",
    "    out.loc[condition, 'pval'] = p"
   ]
  },
  {
   "cell_type": "code",
   "execution_count": 20,
   "metadata": {},
   "outputs": [],
   "source": [
    "safe = out.copy()"
   ]
  },
  {
   "cell_type": "code",
   "execution_count": 21,
   "metadata": {},
   "outputs": [],
   "source": [
    "out = safe.copy()"
   ]
  },
  {
   "cell_type": "code",
   "execution_count": 22,
   "metadata": {},
   "outputs": [],
   "source": [
    "# out = out.dropna()"
   ]
  },
  {
   "cell_type": "code",
   "execution_count": 23,
   "metadata": {},
   "outputs": [],
   "source": [
    "out = out.reset_index()"
   ]
  },
  {
   "cell_type": "code",
   "execution_count": 24,
   "metadata": {},
   "outputs": [],
   "source": [
    "out = pd.merge(out, all_de[['condition', 'younger', 'older']].drop_duplicates())"
   ]
  },
  {
   "cell_type": "code",
   "execution_count": 25,
   "metadata": {},
   "outputs": [],
   "source": [
    "out = out[out['younger']==4]"
   ]
  },
  {
   "cell_type": "code",
   "execution_count": 26,
   "metadata": {},
   "outputs": [],
   "source": [
    "out = pd.merge(\n",
    "    out,\n",
    "    all_de[['condition', 'tissue', 'younger', 'older']].drop_duplicates()\n",
    ")"
   ]
  },
  {
   "cell_type": "code",
   "execution_count": 27,
   "metadata": {},
   "outputs": [
    {
     "data": {
      "text/html": [
       "<div>\n",
       "<style scoped>\n",
       "    .dataframe tbody tr th:only-of-type {\n",
       "        vertical-align: middle;\n",
       "    }\n",
       "\n",
       "    .dataframe tbody tr th {\n",
       "        vertical-align: top;\n",
       "    }\n",
       "\n",
       "    .dataframe thead th {\n",
       "        text-align: right;\n",
       "    }\n",
       "</style>\n",
       "<table border=\"1\" class=\"dataframe\">\n",
       "  <thead>\n",
       "    <tr style=\"text-align: right;\">\n",
       "      <th></th>\n",
       "      <th>tissue</th>\n",
       "      <th>older</th>\n",
       "      <th>rho</th>\n",
       "    </tr>\n",
       "  </thead>\n",
       "  <tbody>\n",
       "    <tr>\n",
       "      <th>3</th>\n",
       "      <td>BAT</td>\n",
       "      <td>24</td>\n",
       "      <td>0.237920</td>\n",
       "    </tr>\n",
       "    <tr>\n",
       "      <th>7</th>\n",
       "      <td>Blood</td>\n",
       "      <td>24</td>\n",
       "      <td>0.460072</td>\n",
       "    </tr>\n",
       "    <tr>\n",
       "      <th>11</th>\n",
       "      <td>GutEP</td>\n",
       "      <td>24</td>\n",
       "      <td>0.220164</td>\n",
       "    </tr>\n",
       "    <tr>\n",
       "      <th>18</th>\n",
       "      <td>Adrenal</td>\n",
       "      <td>18</td>\n",
       "      <td>0.360199</td>\n",
       "    </tr>\n",
       "    <tr>\n",
       "      <th>19</th>\n",
       "      <td>Adrenal</td>\n",
       "      <td>24</td>\n",
       "      <td>0.344594</td>\n",
       "    </tr>\n",
       "    <tr>\n",
       "      <th>20</th>\n",
       "      <td>Kidney</td>\n",
       "      <td>9</td>\n",
       "      <td>0.704399</td>\n",
       "    </tr>\n",
       "    <tr>\n",
       "      <th>23</th>\n",
       "      <td>Kidney</td>\n",
       "      <td>24</td>\n",
       "      <td>0.538482</td>\n",
       "    </tr>\n",
       "    <tr>\n",
       "      <th>24</th>\n",
       "      <td>Heart</td>\n",
       "      <td>9</td>\n",
       "      <td>0.751957</td>\n",
       "    </tr>\n",
       "    <tr>\n",
       "      <th>31</th>\n",
       "      <td>Liver</td>\n",
       "      <td>24</td>\n",
       "      <td>0.208463</td>\n",
       "    </tr>\n",
       "    <tr>\n",
       "      <th>37</th>\n",
       "      <td>Stomach</td>\n",
       "      <td>12</td>\n",
       "      <td>0.399101</td>\n",
       "    </tr>\n",
       "    <tr>\n",
       "      <th>47</th>\n",
       "      <td>SI</td>\n",
       "      <td>24</td>\n",
       "      <td>0.596738</td>\n",
       "    </tr>\n",
       "    <tr>\n",
       "      <th>49</th>\n",
       "      <td>LI</td>\n",
       "      <td>12</td>\n",
       "      <td>0.325945</td>\n",
       "    </tr>\n",
       "    <tr>\n",
       "      <th>50</th>\n",
       "      <td>LI</td>\n",
       "      <td>18</td>\n",
       "      <td>0.829725</td>\n",
       "    </tr>\n",
       "    <tr>\n",
       "      <th>51</th>\n",
       "      <td>LI</td>\n",
       "      <td>24</td>\n",
       "      <td>0.620971</td>\n",
       "    </tr>\n",
       "    <tr>\n",
       "      <th>52</th>\n",
       "      <td>Cerebellum</td>\n",
       "      <td>9</td>\n",
       "      <td>0.871107</td>\n",
       "    </tr>\n",
       "    <tr>\n",
       "      <th>56</th>\n",
       "      <td>WAT</td>\n",
       "      <td>9</td>\n",
       "      <td>0.256708</td>\n",
       "    </tr>\n",
       "    <tr>\n",
       "      <th>58</th>\n",
       "      <td>WAT</td>\n",
       "      <td>18</td>\n",
       "      <td>0.265671</td>\n",
       "    </tr>\n",
       "    <tr>\n",
       "      <th>59</th>\n",
       "      <td>WAT</td>\n",
       "      <td>24</td>\n",
       "      <td>0.303598</td>\n",
       "    </tr>\n",
       "    <tr>\n",
       "      <th>61</th>\n",
       "      <td>Esophagus</td>\n",
       "      <td>12</td>\n",
       "      <td>0.222315</td>\n",
       "    </tr>\n",
       "    <tr>\n",
       "      <th>62</th>\n",
       "      <td>Esophagus</td>\n",
       "      <td>18</td>\n",
       "      <td>0.338208</td>\n",
       "    </tr>\n",
       "    <tr>\n",
       "      <th>63</th>\n",
       "      <td>Esophagus</td>\n",
       "      <td>24</td>\n",
       "      <td>0.223304</td>\n",
       "    </tr>\n",
       "  </tbody>\n",
       "</table>\n",
       "</div>"
      ],
      "text/plain": [
       "        tissue  older       rho\n",
       "3          BAT     24  0.237920\n",
       "7        Blood     24  0.460072\n",
       "11       GutEP     24  0.220164\n",
       "18     Adrenal     18  0.360199\n",
       "19     Adrenal     24  0.344594\n",
       "20      Kidney      9  0.704399\n",
       "23      Kidney     24  0.538482\n",
       "24       Heart      9  0.751957\n",
       "31       Liver     24  0.208463\n",
       "37     Stomach     12  0.399101\n",
       "47          SI     24  0.596738\n",
       "49          LI     12  0.325945\n",
       "50          LI     18  0.829725\n",
       "51          LI     24  0.620971\n",
       "52  Cerebellum      9  0.871107\n",
       "56         WAT      9  0.256708\n",
       "58         WAT     18  0.265671\n",
       "59         WAT     24  0.303598\n",
       "61   Esophagus     12  0.222315\n",
       "62   Esophagus     18  0.338208\n",
       "63   Esophagus     24  0.223304"
      ]
     },
     "execution_count": 27,
     "metadata": {},
     "output_type": "execute_result"
    }
   ],
   "source": [
    "rep_o[rep_o['rho']>0.2].rename(columns={'age': 'older'})"
   ]
  },
  {
   "cell_type": "code",
   "execution_count": 28,
   "metadata": {},
   "outputs": [],
   "source": [
    "out = pd.merge(\n",
    "    out,\n",
    "    rep_o[rep_o['rho']>0.2].rename(columns={'age': 'older'})\n",
    ")"
   ]
  },
  {
   "cell_type": "code",
   "execution_count": 29,
   "metadata": {},
   "outputs": [],
   "source": [
    "\n",
    "if save_images:\n",
    "    export.export_full_frame(\n",
    "        '{}/stats_on_imbalance.xlsx'.format(outfolder),\n",
    "        out, \n",
    "        save_index=False)"
   ]
  },
  {
   "cell_type": "code",
   "execution_count": 30,
   "metadata": {},
   "outputs": [
    {
     "data": {
      "text/html": [
       "<div>\n",
       "<style scoped>\n",
       "    .dataframe tbody tr th:only-of-type {\n",
       "        vertical-align: middle;\n",
       "    }\n",
       "\n",
       "    .dataframe tbody tr th {\n",
       "        vertical-align: top;\n",
       "    }\n",
       "\n",
       "    .dataframe thead th {\n",
       "        text-align: right;\n",
       "    }\n",
       "</style>\n",
       "<table border=\"1\" class=\"dataframe\">\n",
       "  <thead>\n",
       "    <tr style=\"text-align: right;\">\n",
       "      <th></th>\n",
       "      <th>condition</th>\n",
       "      <th>corr</th>\n",
       "      <th>pval</th>\n",
       "      <th>younger</th>\n",
       "      <th>older</th>\n",
       "      <th>tissue</th>\n",
       "      <th>rho</th>\n",
       "    </tr>\n",
       "  </thead>\n",
       "  <tbody>\n",
       "    <tr>\n",
       "      <th>0</th>\n",
       "      <td>Adrenal_0_4_18</td>\n",
       "      <td>0.0600566</td>\n",
       "      <td>1.6534e-09</td>\n",
       "      <td>4.0</td>\n",
       "      <td>18.0</td>\n",
       "      <td>Adrenal</td>\n",
       "      <td>0.360199</td>\n",
       "    </tr>\n",
       "    <tr>\n",
       "      <th>1</th>\n",
       "      <td>Adrenal_0_4_24</td>\n",
       "      <td>-0.162002</td>\n",
       "      <td>1.07144e-58</td>\n",
       "      <td>4.0</td>\n",
       "      <td>24.0</td>\n",
       "      <td>Adrenal</td>\n",
       "      <td>0.344594</td>\n",
       "    </tr>\n",
       "    <tr>\n",
       "      <th>2</th>\n",
       "      <td>BAT_0_4_24</td>\n",
       "      <td>-0.334887</td>\n",
       "      <td>1.30268e-218</td>\n",
       "      <td>4.0</td>\n",
       "      <td>24.0</td>\n",
       "      <td>BAT</td>\n",
       "      <td>0.237920</td>\n",
       "    </tr>\n",
       "    <tr>\n",
       "      <th>3</th>\n",
       "      <td>Blood_0_4_24</td>\n",
       "      <td>-0.646453</td>\n",
       "      <td>3.79871e-95</td>\n",
       "      <td>4.0</td>\n",
       "      <td>24.0</td>\n",
       "      <td>Blood</td>\n",
       "      <td>0.460072</td>\n",
       "    </tr>\n",
       "    <tr>\n",
       "      <th>4</th>\n",
       "      <td>Cerebellum_0_4_9</td>\n",
       "      <td>-0.337097</td>\n",
       "      <td>0</td>\n",
       "      <td>4.0</td>\n",
       "      <td>9.0</td>\n",
       "      <td>Cerebellum</td>\n",
       "      <td>0.871107</td>\n",
       "    </tr>\n",
       "  </tbody>\n",
       "</table>\n",
       "</div>"
      ],
      "text/plain": [
       "          condition       corr          pval  younger  older      tissue  \\\n",
       "0    Adrenal_0_4_18  0.0600566    1.6534e-09      4.0   18.0     Adrenal   \n",
       "1    Adrenal_0_4_24  -0.162002   1.07144e-58      4.0   24.0     Adrenal   \n",
       "2        BAT_0_4_24  -0.334887  1.30268e-218      4.0   24.0         BAT   \n",
       "3      Blood_0_4_24  -0.646453   3.79871e-95      4.0   24.0       Blood   \n",
       "4  Cerebellum_0_4_9  -0.337097             0      4.0    9.0  Cerebellum   \n",
       "\n",
       "        rho  \n",
       "0  0.360199  \n",
       "1  0.344594  \n",
       "2  0.237920  \n",
       "3  0.460072  \n",
       "4  0.871107  "
      ]
     },
     "execution_count": 30,
     "metadata": {},
     "output_type": "execute_result"
    }
   ],
   "source": [
    "out.head()"
   ]
  },
  {
   "cell_type": "code",
   "execution_count": 31,
   "metadata": {},
   "outputs": [],
   "source": [
    "u = out.copy()"
   ]
  },
  {
   "cell_type": "code",
   "execution_count": 32,
   "metadata": {},
   "outputs": [],
   "source": [
    "u['older'] = u['older'].astype(float)\n",
    "u['corr'] = u['corr'].astype(float)"
   ]
  },
  {
   "cell_type": "code",
   "execution_count": 33,
   "metadata": {
    "scrolled": true
   },
   "outputs": [
    {
     "data": {
      "image/png": "[encoded data removed]",
      "text/plain": [
       "<Figure size 432x288 with 1 Axes>"
      ]
     },
     "metadata": {
      "needs_background": "light"
     },
     "output_type": "display_data"
    }
   ],
   "source": [
    "sns.boxplot(x='older', y='corr', data=u, notch=True, color='lightgrey')\n",
    "if save_images:\n",
    "    export.export_image('{}/box_any_age_to_older.pdf'.format(outfolder))"
   ]
  },
  {
   "cell_type": "code",
   "execution_count": 34,
   "metadata": {},
   "outputs": [
    {
     "data": {
      "text/html": [
       "<div>\n",
       "<style scoped>\n",
       "    .dataframe tbody tr th:only-of-type {\n",
       "        vertical-align: middle;\n",
       "    }\n",
       "\n",
       "    .dataframe tbody tr th {\n",
       "        vertical-align: top;\n",
       "    }\n",
       "\n",
       "    .dataframe thead th {\n",
       "        text-align: right;\n",
       "    }\n",
       "</style>\n",
       "<table border=\"1\" class=\"dataframe\">\n",
       "  <thead>\n",
       "    <tr style=\"text-align: right;\">\n",
       "      <th></th>\n",
       "      <th>condition</th>\n",
       "      <th>corr</th>\n",
       "      <th>pval</th>\n",
       "      <th>younger</th>\n",
       "      <th>older</th>\n",
       "      <th>tissue</th>\n",
       "      <th>rho</th>\n",
       "    </tr>\n",
       "  </thead>\n",
       "  <tbody>\n",
       "    <tr>\n",
       "      <th>13</th>\n",
       "      <td>LI_0_4_18</td>\n",
       "      <td>-0.678338</td>\n",
       "      <td>0</td>\n",
       "      <td>4.0</td>\n",
       "      <td>18.0</td>\n",
       "      <td>LI</td>\n",
       "      <td>0.829725</td>\n",
       "    </tr>\n",
       "    <tr>\n",
       "      <th>6</th>\n",
       "      <td>Esophagus_0_4_18</td>\n",
       "      <td>-0.081018</td>\n",
       "      <td>1.61055e-12</td>\n",
       "      <td>4.0</td>\n",
       "      <td>18.0</td>\n",
       "      <td>Esophagus</td>\n",
       "      <td>0.338208</td>\n",
       "    </tr>\n",
       "    <tr>\n",
       "      <th>19</th>\n",
       "      <td>WAT_0_4_18</td>\n",
       "      <td>0.010001</td>\n",
       "      <td>0.305164</td>\n",
       "      <td>4.0</td>\n",
       "      <td>18.0</td>\n",
       "      <td>WAT</td>\n",
       "      <td>0.265671</td>\n",
       "    </tr>\n",
       "    <tr>\n",
       "      <th>0</th>\n",
       "      <td>Adrenal_0_4_18</td>\n",
       "      <td>0.060057</td>\n",
       "      <td>1.6534e-09</td>\n",
       "      <td>4.0</td>\n",
       "      <td>18.0</td>\n",
       "      <td>Adrenal</td>\n",
       "      <td>0.360199</td>\n",
       "    </tr>\n",
       "  </tbody>\n",
       "</table>\n",
       "</div>"
      ],
      "text/plain": [
       "           condition      corr         pval  younger  older     tissue  \\\n",
       "13         LI_0_4_18 -0.678338            0      4.0   18.0         LI   \n",
       "6   Esophagus_0_4_18 -0.081018  1.61055e-12      4.0   18.0  Esophagus   \n",
       "19        WAT_0_4_18  0.010001     0.305164      4.0   18.0        WAT   \n",
       "0     Adrenal_0_4_18  0.060057   1.6534e-09      4.0   18.0    Adrenal   \n",
       "\n",
       "         rho  \n",
       "13  0.829725  \n",
       "6   0.338208  \n",
       "19  0.265671  \n",
       "0   0.360199  "
      ]
     },
     "execution_count": 34,
     "metadata": {},
     "output_type": "execute_result"
    }
   ],
   "source": [
    "u[(u['younger']==4) & (u['older']==18)].sort_values('corr')"
   ]
  },
  {
   "cell_type": "code",
   "execution_count": 35,
   "metadata": {},
   "outputs": [
    {
     "data": {
      "text/html": [
       "<div>\n",
       "<style scoped>\n",
       "    .dataframe tbody tr th:only-of-type {\n",
       "        vertical-align: middle;\n",
       "    }\n",
       "\n",
       "    .dataframe tbody tr th {\n",
       "        vertical-align: top;\n",
       "    }\n",
       "\n",
       "    .dataframe thead th {\n",
       "        text-align: right;\n",
       "    }\n",
       "</style>\n",
       "<table border=\"1\" class=\"dataframe\">\n",
       "  <thead>\n",
       "    <tr style=\"text-align: right;\">\n",
       "      <th></th>\n",
       "      <th>condition</th>\n",
       "      <th>corr</th>\n",
       "      <th>pval</th>\n",
       "      <th>younger</th>\n",
       "      <th>older</th>\n",
       "      <th>tissue</th>\n",
       "      <th>rho</th>\n",
       "    </tr>\n",
       "  </thead>\n",
       "  <tbody>\n",
       "    <tr>\n",
       "      <th>3</th>\n",
       "      <td>Blood_0_4_24</td>\n",
       "      <td>-0.646453</td>\n",
       "      <td>3.79871e-95</td>\n",
       "      <td>4.0</td>\n",
       "      <td>24.0</td>\n",
       "      <td>Blood</td>\n",
       "      <td>0.460072</td>\n",
       "    </tr>\n",
       "    <tr>\n",
       "      <th>11</th>\n",
       "      <td>Kidney_0_4_24</td>\n",
       "      <td>-0.599801</td>\n",
       "      <td>0</td>\n",
       "      <td>4.0</td>\n",
       "      <td>24.0</td>\n",
       "      <td>Kidney</td>\n",
       "      <td>0.538482</td>\n",
       "    </tr>\n",
       "    <tr>\n",
       "      <th>16</th>\n",
       "      <td>SI_0_4_24</td>\n",
       "      <td>-0.548157</td>\n",
       "      <td>0</td>\n",
       "      <td>4.0</td>\n",
       "      <td>24.0</td>\n",
       "      <td>SI</td>\n",
       "      <td>0.596738</td>\n",
       "    </tr>\n",
       "    <tr>\n",
       "      <th>14</th>\n",
       "      <td>LI_0_4_24</td>\n",
       "      <td>-0.522198</td>\n",
       "      <td>0</td>\n",
       "      <td>4.0</td>\n",
       "      <td>24.0</td>\n",
       "      <td>LI</td>\n",
       "      <td>0.620971</td>\n",
       "    </tr>\n",
       "    <tr>\n",
       "      <th>2</th>\n",
       "      <td>BAT_0_4_24</td>\n",
       "      <td>-0.334887</td>\n",
       "      <td>1.30268e-218</td>\n",
       "      <td>4.0</td>\n",
       "      <td>24.0</td>\n",
       "      <td>BAT</td>\n",
       "      <td>0.237920</td>\n",
       "    </tr>\n",
       "    <tr>\n",
       "      <th>7</th>\n",
       "      <td>Esophagus_0_4_24</td>\n",
       "      <td>-0.310671</td>\n",
       "      <td>1.92384e-151</td>\n",
       "      <td>4.0</td>\n",
       "      <td>24.0</td>\n",
       "      <td>Esophagus</td>\n",
       "      <td>0.223304</td>\n",
       "    </tr>\n",
       "    <tr>\n",
       "      <th>8</th>\n",
       "      <td>GutEP_0_4_24</td>\n",
       "      <td>-0.254853</td>\n",
       "      <td>6.09979e-122</td>\n",
       "      <td>4.0</td>\n",
       "      <td>24.0</td>\n",
       "      <td>GutEP</td>\n",
       "      <td>0.220164</td>\n",
       "    </tr>\n",
       "    <tr>\n",
       "      <th>1</th>\n",
       "      <td>Adrenal_0_4_24</td>\n",
       "      <td>-0.162002</td>\n",
       "      <td>1.07144e-58</td>\n",
       "      <td>4.0</td>\n",
       "      <td>24.0</td>\n",
       "      <td>Adrenal</td>\n",
       "      <td>0.344594</td>\n",
       "    </tr>\n",
       "    <tr>\n",
       "      <th>20</th>\n",
       "      <td>WAT_0_4_24</td>\n",
       "      <td>-0.120297</td>\n",
       "      <td>3.76878e-33</td>\n",
       "      <td>4.0</td>\n",
       "      <td>24.0</td>\n",
       "      <td>WAT</td>\n",
       "      <td>0.303598</td>\n",
       "    </tr>\n",
       "    <tr>\n",
       "      <th>15</th>\n",
       "      <td>Liver_0_4_24</td>\n",
       "      <td>-0.070883</td>\n",
       "      <td>2.39865e-13</td>\n",
       "      <td>4.0</td>\n",
       "      <td>24.0</td>\n",
       "      <td>Liver</td>\n",
       "      <td>0.208463</td>\n",
       "    </tr>\n",
       "  </tbody>\n",
       "</table>\n",
       "</div>"
      ],
      "text/plain": [
       "           condition      corr          pval  younger  older     tissue  \\\n",
       "3       Blood_0_4_24 -0.646453   3.79871e-95      4.0   24.0      Blood   \n",
       "11     Kidney_0_4_24 -0.599801             0      4.0   24.0     Kidney   \n",
       "16         SI_0_4_24 -0.548157             0      4.0   24.0         SI   \n",
       "14         LI_0_4_24 -0.522198             0      4.0   24.0         LI   \n",
       "2         BAT_0_4_24 -0.334887  1.30268e-218      4.0   24.0        BAT   \n",
       "7   Esophagus_0_4_24 -0.310671  1.92384e-151      4.0   24.0  Esophagus   \n",
       "8       GutEP_0_4_24 -0.254853  6.09979e-122      4.0   24.0      GutEP   \n",
       "1     Adrenal_0_4_24 -0.162002   1.07144e-58      4.0   24.0    Adrenal   \n",
       "20        WAT_0_4_24 -0.120297   3.76878e-33      4.0   24.0        WAT   \n",
       "15      Liver_0_4_24 -0.070883   2.39865e-13      4.0   24.0      Liver   \n",
       "\n",
       "         rho  \n",
       "3   0.460072  \n",
       "11  0.538482  \n",
       "16  0.596738  \n",
       "14  0.620971  \n",
       "2   0.237920  \n",
       "7   0.223304  \n",
       "8   0.220164  \n",
       "1   0.344594  \n",
       "20  0.303598  \n",
       "15  0.208463  "
      ]
     },
     "execution_count": 35,
     "metadata": {},
     "output_type": "execute_result"
    }
   ],
   "source": [
    "u[(u['younger']==4) & (u['older']==24)].sort_values('corr')"
   ]
  },
  {
   "cell_type": "code",
   "execution_count": 36,
   "metadata": {},
   "outputs": [
    {
     "data": {
      "text/plain": [
       "MannwhitneyuResult(statistic=29.0, pvalue=0.22933194239164756)"
      ]
     },
     "execution_count": 36,
     "metadata": {},
     "output_type": "execute_result"
    }
   ],
   "source": [
    "mannwhitneyu(\n",
    "    u[(u['younger']==4) & (u['older']==18)]['corr'],\n",
    "    u[(u['younger']==4) & (u['older']==24)]['corr'],\n",
    "    alternative='two-sided'\n",
    ")"
   ]
  },
  {
   "cell_type": "code",
   "execution_count": 37,
   "metadata": {},
   "outputs": [
    {
     "data": {
      "text/plain": [
       "MannwhitneyuResult(statistic=28.0, pvalue=0.2888443663464849)"
      ]
     },
     "execution_count": 37,
     "metadata": {},
     "output_type": "execute_result"
    }
   ],
   "source": [
    "mannwhitneyu(\n",
    "    u[(u['younger']==4) & (u['older']==9)]['corr'],\n",
    "    u[(u['younger']==4) & (u['older']==24)]['corr'],\n",
    "    alternative='two-sided'\n",
    ")"
   ]
  },
  {
   "cell_type": "code",
   "execution_count": 38,
   "metadata": {},
   "outputs": [
    {
     "data": {
      "text/plain": [
       "MannwhitneyuResult(statistic=20.0, pvalue=0.4468728207108308)"
      ]
     },
     "execution_count": 38,
     "metadata": {},
     "output_type": "execute_result"
    }
   ],
   "source": [
    "mannwhitneyu(\n",
    "    u[(u['younger']==4) & (u['older']==12)]['corr'],\n",
    "    u[(u['younger']==4) & (u['older']==24)]['corr'],\n",
    "    alternative='two-sided'\n",
    ")"
   ]
  },
  {
   "cell_type": "code",
   "execution_count": 39,
   "metadata": {},
   "outputs": [
    {
     "data": {
      "text/plain": [
       "MannwhitneyuResult(statistic=7.0, pvalue=0.8852339144732015)"
      ]
     },
     "execution_count": 39,
     "metadata": {},
     "output_type": "execute_result"
    }
   ],
   "source": [
    "mannwhitneyu(\n",
    "    u[(u['younger']==4) & (u['older']==9)]['corr'],\n",
    "    u[(u['younger']==4) & (u['older']==18)]['corr'],\n",
    "    alternative='two-sided'\n",
    ")"
   ]
  },
  {
   "cell_type": "code",
   "execution_count": 40,
   "metadata": {},
   "outputs": [],
   "source": [
    "u.loc[:, 'below'] = u['corr'] < 0"
   ]
  },
  {
   "cell_type": "code",
   "execution_count": 41,
   "metadata": {},
   "outputs": [],
   "source": [
    "g = u.loc[u['younger']==4, ['older', 'below']].groupby('older')"
   ]
  },
  {
   "cell_type": "code",
   "execution_count": 42,
   "metadata": {},
   "outputs": [
    {
     "data": {
      "text/html": [
       "<div>\n",
       "<style scoped>\n",
       "    .dataframe tbody tr th:only-of-type {\n",
       "        vertical-align: middle;\n",
       "    }\n",
       "\n",
       "    .dataframe tbody tr th {\n",
       "        vertical-align: top;\n",
       "    }\n",
       "\n",
       "    .dataframe thead th {\n",
       "        text-align: right;\n",
       "    }\n",
       "</style>\n",
       "<table border=\"1\" class=\"dataframe\">\n",
       "  <thead>\n",
       "    <tr style=\"text-align: right;\">\n",
       "      <th></th>\n",
       "      <th>below</th>\n",
       "    </tr>\n",
       "    <tr>\n",
       "      <th>older</th>\n",
       "      <th></th>\n",
       "    </tr>\n",
       "  </thead>\n",
       "  <tbody>\n",
       "    <tr>\n",
       "      <th>9.0</th>\n",
       "      <td>0.750000</td>\n",
       "    </tr>\n",
       "    <tr>\n",
       "      <th>12.0</th>\n",
       "      <td>0.666667</td>\n",
       "    </tr>\n",
       "    <tr>\n",
       "      <th>18.0</th>\n",
       "      <td>0.500000</td>\n",
       "    </tr>\n",
       "    <tr>\n",
       "      <th>24.0</th>\n",
       "      <td>1.000000</td>\n",
       "    </tr>\n",
       "  </tbody>\n",
       "</table>\n",
       "</div>"
      ],
      "text/plain": [
       "          below\n",
       "older          \n",
       "9.0    0.750000\n",
       "12.0   0.666667\n",
       "18.0   0.500000\n",
       "24.0   1.000000"
      ]
     },
     "execution_count": 42,
     "metadata": {},
     "output_type": "execute_result"
    }
   ],
   "source": [
    "g.mean()"
   ]
  },
  {
   "cell_type": "code",
   "execution_count": 43,
   "metadata": {},
   "outputs": [
    {
     "data": {
      "text/plain": [
       "older\n",
       "9.0      4\n",
       "12.0     3\n",
       "18.0     4\n",
       "24.0    10\n",
       "dtype: int64"
      ]
     },
     "execution_count": 43,
     "metadata": {},
     "output_type": "execute_result"
    }
   ],
   "source": [
    "g.size()"
   ]
  },
  {
   "cell_type": "code",
   "execution_count": 44,
   "metadata": {},
   "outputs": [
    {
     "data": {
      "text/html": [
       "<div>\n",
       "<style scoped>\n",
       "    .dataframe tbody tr th:only-of-type {\n",
       "        vertical-align: middle;\n",
       "    }\n",
       "\n",
       "    .dataframe tbody tr th {\n",
       "        vertical-align: top;\n",
       "    }\n",
       "\n",
       "    .dataframe thead th {\n",
       "        text-align: right;\n",
       "    }\n",
       "</style>\n",
       "<table border=\"1\" class=\"dataframe\">\n",
       "  <thead>\n",
       "    <tr style=\"text-align: right;\">\n",
       "      <th></th>\n",
       "      <th>below</th>\n",
       "    </tr>\n",
       "    <tr>\n",
       "      <th>older</th>\n",
       "      <th></th>\n",
       "    </tr>\n",
       "  </thead>\n",
       "  <tbody>\n",
       "    <tr>\n",
       "      <th>9.0</th>\n",
       "      <td>3.0</td>\n",
       "    </tr>\n",
       "    <tr>\n",
       "      <th>12.0</th>\n",
       "      <td>2.0</td>\n",
       "    </tr>\n",
       "    <tr>\n",
       "      <th>18.0</th>\n",
       "      <td>2.0</td>\n",
       "    </tr>\n",
       "    <tr>\n",
       "      <th>24.0</th>\n",
       "      <td>10.0</td>\n",
       "    </tr>\n",
       "  </tbody>\n",
       "</table>\n",
       "</div>"
      ],
      "text/plain": [
       "       below\n",
       "older       \n",
       "9.0      3.0\n",
       "12.0     2.0\n",
       "18.0     2.0\n",
       "24.0    10.0"
      ]
     },
     "execution_count": 44,
     "metadata": {},
     "output_type": "execute_result"
    }
   ],
   "source": [
    "g.sum()"
   ]
  },
  {
   "cell_type": "code",
   "execution_count": 45,
   "metadata": {},
   "outputs": [],
   "source": [
    "u.loc[:, 'is_24'] = u['older'] == 24"
   ]
  },
  {
   "cell_type": "code",
   "execution_count": 46,
   "metadata": {},
   "outputs": [
    {
     "data": {
      "image/png": "[encoded data removed]",
      "text/plain": [
       "<Figure size 432x288 with 1 Axes>"
      ]
     },
     "metadata": {
      "needs_background": "light"
     },
     "output_type": "display_data"
    }
   ],
   "source": [
    "sns.boxplot(x='is_24', y='corr', data=u, notch=True, color='lightgrey')\n",
    "if save_images:\n",
    "    export.export_image('{}/box_non_24.pdf'.format(outfolder))"
   ]
  },
  {
   "cell_type": "code",
   "execution_count": 47,
   "metadata": {},
   "outputs": [
    {
     "data": {
      "text/plain": [
       "MannwhitneyuResult(statistic=77.0, pvalue=0.1300297963838358)"
      ]
     },
     "execution_count": 47,
     "metadata": {},
     "output_type": "execute_result"
    }
   ],
   "source": [
    "mannwhitneyu(\n",
    "    u[(u['younger']==4) & (u['is_24']==False)]['corr'],\n",
    "    u[(u['younger']==4) & (u['is_24']==True)]['corr'],\n",
    "    alternative='two-sided'\n",
    ")"
   ]
  },
  {
   "cell_type": "code",
   "execution_count": 48,
   "metadata": {},
   "outputs": [
    {
     "data": {
      "image/png": "[encoded data removed]",
      "text/plain": [
       "<Figure size 216x360 with 1 Axes>"
      ]
     },
     "metadata": {
      "needs_background": "light"
     },
     "output_type": "display_data"
    }
   ],
   "source": [
    "plt.figure(figsize=(3, 5))\n",
    "sns.boxplot(x='is_24', y='corr', data=u, notch=True, color='lightgrey')\n",
    "sns.swarmplot(x='is_24', y='corr', data=u, color='black', size=10)\n",
    "if save_images:\n",
    "    export.export_image('{}/box_non_24_with_swarm.pdf'.format(outfolder))"
   ]
  },
  {
   "cell_type": "code",
   "execution_count": null,
   "metadata": {},
   "outputs": [],
   "source": []
  },
  {
   "cell_type": "code",
   "execution_count": null,
   "metadata": {},
   "outputs": [],
   "source": []
  },
  {
   "cell_type": "code",
   "execution_count": null,
   "metadata": {},
   "outputs": [],
   "source": []
  },
  {
   "cell_type": "code",
   "execution_count": null,
   "metadata": {},
   "outputs": [],
   "source": []
  },
  {
   "cell_type": "code",
   "execution_count": null,
   "metadata": {},
   "outputs": [],
   "source": []
  },
  {
   "cell_type": "code",
   "execution_count": null,
   "metadata": {},
   "outputs": [],
   "source": []
  },
  {
   "cell_type": "code",
   "execution_count": null,
   "metadata": {},
   "outputs": [],
   "source": []
  }
 ],
 "metadata": {
  "kernelspec": {
   "display_name": "Python 3",
   "language": "python",
   "name": "python3"
  },
  "language_info": {
   "codemirror_mode": {
    "name": "ipython",
    "version": 3
   },
   "file_extension": ".py",
   "mimetype": "text/x-python",
   "name": "python",
   "nbconvert_exporter": "python",
   "pygments_lexer": "ipython3",
   "version": "3.7.3"
  }
 },
 "nbformat": 4,
 "nbformat_minor": 2
}
