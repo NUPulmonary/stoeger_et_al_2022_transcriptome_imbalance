{
 "cells": [
  {
   "cell_type": "code",
   "execution_count": 1,
   "metadata": {},
   "outputs": [],
   "source": [
    "%matplotlib inline\n",
    "%reload_ext autoreload\n",
    "%autoreload 2"
   ]
  },
  {
   "cell_type": "code",
   "execution_count": 2,
   "metadata": {},
   "outputs": [],
   "source": [
    "import matplotlib as mpl\n",
    "mpl.rcParams['pdf.fonttype'] = 42\n",
    "mpl.rcParams['font.family'] = 'Arial'"
   ]
  },
  {
   "cell_type": "code",
   "execution_count": 3,
   "metadata": {},
   "outputs": [],
   "source": [
    "import gc\n",
    "import os\n",
    "import sys\n",
    "\n",
    "import numpy as np\n",
    "import pandas as pd\n",
    "import seaborn as sns\n",
    "import matplotlib.pyplot as plt\n",
    "\n",
    "from copy import deepcopy\n",
    "from random import shuffle\n",
    "from scipy.stats import spearmanr\n",
    "\n",
    "from access_biology_data import lincs, properties\n",
    "from access_science_shared import standardizer\n",
    "\n",
    "sys.path.append('./../src/')\n",
    "from aging_tools import inout, export\n",
    "\n",
    "from access_biology_data import annotation\n",
    "from access_biology_data import meta"
   ]
  },
  {
   "cell_type": "code",
   "execution_count": 4,
   "metadata": {},
   "outputs": [],
   "source": [
    "from narrative import nar181026_heat_confidence_genes\n",
    "\n"
   ]
  },
  {
   "cell_type": "code",
   "execution_count": 5,
   "metadata": {},
   "outputs": [],
   "source": [
    "outfolder = '220217_across_tissues'\n",
    "infolder = '200611_manually_curated_overview_of_tissues'"
   ]
  },
  {
   "cell_type": "code",
   "execution_count": 6,
   "metadata": {},
   "outputs": [],
   "source": [
    "save_images = False"
   ]
  },
  {
   "cell_type": "code",
   "execution_count": 7,
   "metadata": {},
   "outputs": [],
   "source": [
    "from natsort import natsorted"
   ]
  },
  {
   "cell_type": "code",
   "execution_count": 8,
   "metadata": {},
   "outputs": [],
   "source": [
    "agg_collect_studies = []"
   ]
  },
  {
   "cell_type": "markdown",
   "metadata": {},
   "source": [
    "# This study"
   ]
  },
  {
   "cell_type": "code",
   "execution_count": 9,
   "metadata": {},
   "outputs": [
    {
     "name": "stderr",
     "output_type": "stream",
     "text": [
      "/Users/tstoeger/opt/miniconda3/envs/aging/lib/python3.7/site-packages/fastparquet/dataframe.py:5: FutureWarning: pandas.core.index is deprecated and will be removed in a future version.  The public classes are available in the top-level namespace.\n",
      "  from pandas.core.index import CategoricalIndex, RangeIndex, Index, MultiIndex\n"
     ]
    }
   ],
   "source": [
    "ref_genes = standardizer.reference_genes(10090, 'orp')\n",
    "\n",
    "pr = properties.genbank_validated_rna(10090)[\n",
    "    ['gene_ncbi', 'Genbank_validated_RNA: full_SumACGT']\n",
    "].rename(columns={\n",
    "    'Genbank_validated_RNA: full_SumACGT': 'length'\n",
    "})\n",
    "\n",
    "pr.loc[:, 'log_length'] = np.log10(pr['length'])\n",
    "pr = pr[pr['gene_ncbi'].isin(ref_genes)]\n",
    "\n",
    "all_de, detection, mice_in_comparisons, triplicate_series = nar181026_heat_confidence_genes.load_detection(\n",
    "    detection_column='padj')\n",
    "\n",
    "\n",
    "tissues_to_consider = ['BAT', 'Blood', 'GutEP', 'MuscSat', 'Adrenal', 'Kidney',\n",
    "       'Heart', 'Liver', 'Skin', 'Stomach', 'Brain', 'SI',\n",
    "       'LI', 'Cerebellum', 'WAT', 'Esophagus', 'Lung'] \n",
    "\n",
    "all_de = all_de[\n",
    "    (all_de['tissue'].isin(tissues_to_consider)) & \n",
    "    (all_de['pfu']==0) &\n",
    "    (all_de['gene_ncbi'].isin(ref_genes)) & \n",
    "    (all_de['padj'].notnull()) &\n",
    "    (all_de['younger']==4)\n",
    "]\n",
    "\n",
    "conditions = natsorted(all_de['condition'].unique())\n",
    "\n",
    "out = pd.DataFrame(index=conditions, columns=[\n",
    "    'corr', 'pval'\n",
    "]).rename_axis('condition')\n",
    "\n",
    "for condition in conditions:\n",
    "    d = all_de[\n",
    "        (all_de['de_unit']=='both') & (all_de['condition']==condition)\n",
    "    ]\n",
    "\n",
    "    d = d[['gene_ncbi', 'o_over_y']].dropna()\n",
    "    d = pd.merge(d, pr)\n",
    "\n",
    "    r, p = spearmanr(d['log_length'], d['o_over_y'])\n",
    "    d = d.set_index('gene_ncbi')\n",
    "\n",
    "    out.loc[condition, 'corr'] = r\n",
    "    out.loc[condition, 'pval'] = p\n",
    "    \n",
    "out = out.reset_index()"
   ]
  },
  {
   "cell_type": "code",
   "execution_count": 10,
   "metadata": {},
   "outputs": [],
   "source": [
    "a = pd.merge(\n",
    "    out,\n",
    "    all_de[['condition', 'tissue', 'older']].drop_duplicates()\n",
    ")"
   ]
  },
  {
   "cell_type": "code",
   "execution_count": 11,
   "metadata": {},
   "outputs": [],
   "source": [
    "a = a[a['older']==24][['tissue', 'corr', 'pval']]"
   ]
  },
  {
   "cell_type": "code",
   "execution_count": 12,
   "metadata": {},
   "outputs": [],
   "source": [
    "a.loc[:, 'source'] = 'This study'"
   ]
  },
  {
   "cell_type": "code",
   "execution_count": 13,
   "metadata": {},
   "outputs": [],
   "source": [
    "renamer = {\n",
    "        'Adrenal': 'Adrenal Gland', \n",
    "        'BAT': 'Adipose - Brown', \n",
    "        'Blood': 'Blood - Blood', \n",
    "        'Brain': 'Brain - Frontal cortex', \n",
    "        'Esophagus': 'Esophagus', \n",
    "        'GutEP': 'Bowel - Gut epithelium', \n",
    "        'Heart': 'Heart',\n",
    "        'Kidney': 'Kidney', \n",
    "        'LI': 'Bowel - Large intestine', \n",
    "        'Liver': 'Liver', \n",
    "        'Lung': 'Lung', \n",
    "        'MuscSat': 'Muscle - Muscle', \n",
    "        'SI': 'Bowel - Small intestine', \n",
    "        'Skin': 'Skin',\n",
    "        'Stomach': 'Stomach', \n",
    "        'WAT': 'Adipose - White', \n",
    "        'Cerebellum': 'Brain - Cerebellum'\n",
    "}\n",
    "    "
   ]
  },
  {
   "cell_type": "code",
   "execution_count": 14,
   "metadata": {},
   "outputs": [],
   "source": [
    "a['tissue'] = a['tissue'].replace(renamer)"
   ]
  },
  {
   "cell_type": "code",
   "execution_count": 15,
   "metadata": {},
   "outputs": [],
   "source": [
    "a = a.rename(columns={'corr': 'effect'})"
   ]
  },
  {
   "cell_type": "code",
   "execution_count": null,
   "metadata": {},
   "outputs": [],
   "source": []
  },
  {
   "cell_type": "code",
   "execution_count": 16,
   "metadata": {},
   "outputs": [],
   "source": [
    "agg_collect_studies.append(a)"
   ]
  },
  {
   "cell_type": "markdown",
   "metadata": {},
   "source": [
    "# Schaum et al."
   ]
  },
  {
   "cell_type": "code",
   "execution_count": 17,
   "metadata": {},
   "outputs": [],
   "source": [
    "from access_science_shared import mapper"
   ]
  },
  {
   "cell_type": "code",
   "execution_count": 18,
   "metadata": {},
   "outputs": [],
   "source": [
    "taxon_id = 10090\n",
    "ref_genes = standardizer.reference_genes(taxon_id, 'orp')\n",
    "pr = properties.genbank_validated_rna(taxon_id)[['gene_ncbi', 'Genbank_validated_RNA: full_SumACGT']].rename(columns={\n",
    "    'Genbank_validated_RNA: full_SumACGT': 'length'\n",
    "})\n",
    "\n",
    "pr.loc[:, 'log_length'] = np.log10(pr['length'])\n",
    "pr = pr[pr['gene_ncbi'].isin(ref_genes)]\n",
    "\n",
    "p_base = inout.get_internal_path('dynamic/tstoeger/200501_schaum')\n",
    "from os import listdir\n",
    "from os.path import isfile, join\n",
    "onlyfiles = [f for f in listdir(p_base) if isfile(join(p_base, f))]\n",
    "\n",
    "drawer = pd.Series(onlyfiles).to_frame('filename')\n",
    "drawer['tissue'] = drawer['filename'].str.extract('(.*)_[0-9]+_vs')\n",
    "drawer['first'] = drawer['filename'].str.extract('.*_([0-9]+)_vs').astype(float)\n",
    "drawer['last'] = drawer['filename'].str.extract('.*_[0-9]+_vs_([0-9]+)').astype(float)\n",
    "drawer['tissue'] = drawer['tissue'].str.replace('_', ' ')\n",
    "\n",
    "young_age = 3\n",
    "ages = [int(x) for x in sorted(drawer[drawer['last']>young_age]['last'].unique())]\n",
    "tissues = drawer['tissue'].unique()\n",
    "organizer = drawer[\n",
    "    (drawer['first'].isin(ages)) & \n",
    "    (drawer['last']==young_age) \n",
    "].rename(columns={'first': 'older', 'last': 'younger'}).reset_index(drop=True)\n",
    "\n",
    "out_rho = pd.DataFrame(index=tissues, columns=ages)\n",
    "out_pvalue = pd.DataFrame(index=tissues, columns=ages)\n",
    "\n",
    "for j in organizer.index:\n",
    "    filename = organizer.loc[j, 'filename']\n",
    "    tissue =  organizer.loc[j, 'tissue']\n",
    "    older =  organizer.loc[j, 'older']\n",
    "\n",
    "    p = os.path.join(p_base, filename)\n",
    "\n",
    "    df = pd.read_csv(\n",
    "        p, usecols=['gene_ID', 'log2FoldChange', 'pvalue', 'padj']\n",
    "    ).sort_values('gene_ID').rename(columns={'gene_ID': 'gene_ensembl'}).dropna(\n",
    "    subset=['log2FoldChange'])\n",
    "    \n",
    "    df = mapper.gene_ensembl_2_gene_ncbi_unambiguously(df, 10090).reset_index()\n",
    "    \n",
    "    df = pd.merge(df, pr)\n",
    "    rho, pval = spearmanr(df['log_length'], df['log2FoldChange'])\n",
    "    \n",
    "    \n",
    "    out_rho.loc[tissue, older] = rho\n",
    "    out_pvalue.loc[tissue, older] = pval"
   ]
  },
  {
   "cell_type": "code",
   "execution_count": 19,
   "metadata": {},
   "outputs": [],
   "source": [
    "a = pd.concat([\n",
    "    out_rho.loc[:, 24].to_frame('corr').rename_axis('tissue'),\n",
    "    out_pvalue.loc[:, 24].to_frame('pval').rename_axis('tissue')\n",
    "], axis=1).reset_index()"
   ]
  },
  {
   "cell_type": "code",
   "execution_count": 20,
   "metadata": {},
   "outputs": [],
   "source": [
    "a.loc[:, 'source'] = 'Schaum et al.'"
   ]
  },
  {
   "cell_type": "code",
   "execution_count": 21,
   "metadata": {},
   "outputs": [
    {
     "data": {
      "text/plain": [
       "array(['Subcutaneous Fat', 'Liver', 'Kidney', 'Marrow', 'Small Intestine',\n",
       "       'Brain', 'Mesenteric Fat', 'Heart', 'Gonadal Fat', 'Spleen',\n",
       "       'Brown Fat', 'Limb Muscle', 'Lung', 'Skin', 'White Blood Cells',\n",
       "       'Bone', 'Pancreas'], dtype=object)"
      ]
     },
     "execution_count": 21,
     "metadata": {},
     "output_type": "execute_result"
    }
   ],
   "source": [
    "a['tissue'].unique()"
   ]
  },
  {
   "cell_type": "code",
   "execution_count": 22,
   "metadata": {},
   "outputs": [],
   "source": [
    "renamer = {\n",
    "    'Subcutaneous Fat': 'Adipose - Subcutaneous', \n",
    "    'Small Intestine': 'Bowel - Small intestine',\n",
    "    'Brain': 'Brain - Brain', \n",
    "    'Mesenteric Fat': 'Adipose - Mesenteric', \n",
    "    'Gonadal Fat': 'Adipose - Gonadal',\n",
    "    'Brown Fat': 'Adipose - Brown', \n",
    "    'Limb Muscle': 'Muscle - Limb muscle', \n",
    "    'White Blood Cells': 'Blood - White blood cells',\n",
    "}\n",
    "    "
   ]
  },
  {
   "cell_type": "code",
   "execution_count": 23,
   "metadata": {},
   "outputs": [],
   "source": [
    "a['tissue'] = a['tissue'].replace(renamer)\n",
    "\n",
    "a = a.rename(columns={'corr': 'effect'})\n",
    "agg_collect_studies.append(a)"
   ]
  },
  {
   "cell_type": "markdown",
   "metadata": {},
   "source": [
    "# Benayoun"
   ]
  },
  {
   "cell_type": "code",
   "execution_count": 24,
   "metadata": {},
   "outputs": [],
   "source": [
    "pr = properties.genbank_validated_rna(10090)[['gene_ncbi', 'Genbank_validated_RNA: full_SumACGT']].rename(columns={\n",
    "    'Genbank_validated_RNA: full_SumACGT': 'length'\n",
    "})\n",
    "\n",
    "pr.loc[:, 'log_length'] = np.log10(pr['length'])"
   ]
  },
  {
   "cell_type": "code",
   "execution_count": 25,
   "metadata": {},
   "outputs": [],
   "source": [
    "ref_genes = standardizer.reference_genes(10090, 'orp')\n"
   ]
  },
  {
   "cell_type": "code",
   "execution_count": 26,
   "metadata": {},
   "outputs": [],
   "source": [
    "pr = pd.merge(pr, meta.gene_info(10090, ['gene_ncbi', 'symbol_ncbi']))"
   ]
  },
  {
   "cell_type": "code",
   "execution_count": 27,
   "metadata": {},
   "outputs": [],
   "source": [
    "from scipy.stats import mannwhitneyu"
   ]
  },
  {
   "cell_type": "code",
   "execution_count": 28,
   "metadata": {},
   "outputs": [],
   "source": [
    "tissues = {\n",
    "    'tissue_independent': 'A',\n",
    "    'heart': 'B',\n",
    "    'liver': 'C',\n",
    "    'cerebellum': 'D',\n",
    "    'olfactory_bulb': 'E', \n",
    "    \n",
    "}"
   ]
  },
  {
   "cell_type": "code",
   "execution_count": 29,
   "metadata": {
    "scrolled": false
   },
   "outputs": [],
   "source": [
    "results = []\n",
    "\n",
    "for tissue in tissues.keys():\n",
    "\n",
    "    p = '/Users/tstoeger/Dropbox/aging_map_paper/datasets/general/resources/publications/benayoun_2019/Supplemental_Table_S4.xlsx'\n",
    "\n",
    "    df = pd.read_excel(p, tissues[tissue],header=1).rename(columns={'Gene Name': 'symbol_ncbi'})\n",
    "\n",
    "    prc = pr.copy()\n",
    "\n",
    "\n",
    "    f = prc['symbol_ncbi'].isin(\n",
    "        df[df['Age change']=='UP']['symbol_ncbi'])\n",
    "    prc.loc[f, 'direction'] = 'up'\n",
    "\n",
    "    f = prc['symbol_ncbi'].isin(\n",
    "        df[df['Age change']=='DOWN']['symbol_ncbi'])\n",
    "    prc.loc[f, 'direction'] = 'down'\n",
    "    \n",
    "    pv = mannwhitneyu(\n",
    "        prc[prc['direction']=='down']['log_length'],\n",
    "        prc[prc['direction']=='up']['log_length'],\n",
    "        alternative='two-sided'\n",
    "    )[1]\n",
    "    \n",
    "    diff = prc[prc['direction']=='up']['log_length'].median()-prc[prc['direction']=='down']['log_length'].median()\n",
    "    \n",
    "    \n",
    "    results.append(\n",
    "        {\n",
    "            'tissue': tissue,\n",
    "            'effect': diff,\n",
    "            'pval': pv\n",
    "            \n",
    "        }\n",
    "    \n",
    "    )"
   ]
  },
  {
   "cell_type": "code",
   "execution_count": 30,
   "metadata": {},
   "outputs": [],
   "source": [
    "a = pd.DataFrame(results)\n",
    "a = a[a['tissue'] != 'tissue_independent']\n",
    "a.loc[:, 'source'] = 'Benayoun et al.'\n",
    "\n",
    "renamer = {\n",
    "    'heart': 'Heart', \n",
    "    'liver': 'Liver',\n",
    "    'olfactory_bulb': 'Olfactory bulb', \n",
    "    'cerebellum': 'Brain - Cerebellum', \n",
    "}\n",
    "   \n",
    "\n",
    "a['tissue'] = a['tissue'].replace(renamer).copy()\n",
    "\n",
    "agg_collect_studies.append(a)"
   ]
  },
  {
   "cell_type": "markdown",
   "metadata": {},
   "source": [
    "# Shavlakadze"
   ]
  },
  {
   "cell_type": "code",
   "execution_count": 31,
   "metadata": {},
   "outputs": [],
   "source": [
    "taxon_id = 10116\n",
    "ref_genes = standardizer.reference_genes(taxon_id, 'orp')\n",
    "mode = 'validated_rna'\n",
    "\n",
    "if mode=='validated_rna':\n",
    "\n",
    "    pr = properties.genbank_validated_rna(taxon_id)[\n",
    "        ['gene_ncbi', 'Genbank_validated_RNA: full_SumACGT']].rename(columns={\n",
    "        'Genbank_validated_RNA: full_SumACGT': 'length'\n",
    "    })\n",
    "\n",
    "    pr.loc[:, 'log_length'] = np.log10(pr['length'])\n",
    "\n",
    "elif mode=='gene':\n",
    "    \n",
    "    pr = properties.genbank_gene(taxon_id=10116)[['gene_ncbi', 'Genbank__gene: SumACGT']].rename(columns={\n",
    "        'Genbank__gene: SumACGT': 'length'\n",
    "    })\n",
    "    pr.loc[:, 'log_length'] = np.log10(pr['length'])\n",
    "    \n",
    "else:\n",
    "    raise AssertionError(\"something wrong\")\n",
    "    \n",
    "p = inout.get_internal_path(\n",
    "    'datasets/general/resources/publications/shavlakadze_2019/1-s2.0-S2211124719310915-mmc2.xlsx')\n",
    "\n",
    "df_out_p = pd.DataFrame()\n",
    "df_out_r = pd.DataFrame()\n",
    "\n",
    "tissues = [\n",
    "    'Gastrocnemius - all genes',\n",
    "    'Hippocampus - all genes',\n",
    "    'Kidney - all genes',\n",
    "    'Liver - all genes',\n",
    "]\n",
    "\n",
    "ages = [\n",
    "    'Age1.9Vs6Mo.log2FC',\n",
    "    'Age2.12Vs6Mo.log2FC',\n",
    "    'Age3.18Vs6Mo.log2FC',\n",
    "    'Age4.21Vs6Mo.log2FC',\n",
    "    'Age5.24Vs6Mo.log2FC',\n",
    "    'Age6.27Vs6Mo.log2FC',\n",
    "]\n",
    "\n",
    "for tissue in tissues:\n",
    "    for age in ages:\n",
    "\n",
    "        df = pd.read_excel(\n",
    "            p,\n",
    "            sheet_name=tissue,\n",
    "            usecols=['ensembl_gene_id', age],\n",
    "            skiprows=1\n",
    "        )\n",
    "\n",
    "\n",
    "        df = df.rename(columns={'ensembl_gene_id': 'gene_ensembl'})\n",
    "        df = mapper.gene_ensembl_2_gene_ncbi_unambiguously(df, taxon_id)\n",
    "        df = df[df.index.isin(ref_genes)]\n",
    "        df = pd.merge(df.reset_index(), pr)\n",
    "\n",
    "        r, pv = spearmanr(df['length'], df[age])\n",
    "\n",
    "        short_tissue = tissue.replace(' - all genes', '')\n",
    "        short_age = age[5:].replace('Vs6Mo.log2FC', '')\n",
    "\n",
    "        df_out_p.loc[short_tissue, short_age] = pv\n",
    "        df_out_r.loc[short_tissue, short_age] = r"
   ]
  },
  {
   "cell_type": "code",
   "execution_count": null,
   "metadata": {},
   "outputs": [],
   "source": []
  },
  {
   "cell_type": "code",
   "execution_count": 32,
   "metadata": {},
   "outputs": [],
   "source": [
    "a = pd.concat([\n",
    "    df_out_r.loc[:, '24'].to_frame('corr').rename_axis('tissue'),\n",
    "    df_out_p.loc[:, '24'].to_frame('pval').rename_axis('tissue')\n",
    "], axis=1).reset_index()"
   ]
  },
  {
   "cell_type": "code",
   "execution_count": 33,
   "metadata": {},
   "outputs": [],
   "source": [
    "a['tissue'] = a['tissue'].replace({\n",
    "    'Gastrocnemius': 'Muscle - Gastrocnemius',\n",
    "    'Hippocampus': 'Brain - Hippocampus'\n",
    "}).copy()"
   ]
  },
  {
   "cell_type": "code",
   "execution_count": 34,
   "metadata": {},
   "outputs": [],
   "source": [
    "a.loc[:, 'source'] = 'Shavlakadze et al.'"
   ]
  },
  {
   "cell_type": "code",
   "execution_count": 35,
   "metadata": {},
   "outputs": [],
   "source": [
    "agg_collect_studies.append(a.rename(columns={'corr': 'effect'}))"
   ]
  },
  {
   "cell_type": "markdown",
   "metadata": {},
   "source": [
    "# Reichwald"
   ]
  },
  {
   "cell_type": "code",
   "execution_count": 36,
   "metadata": {},
   "outputs": [],
   "source": [
    "agg = []\n",
    "\n",
    "samples = {\n",
    "    'brain': 'S4B',\n",
    "    'liver': 'S4C',\n",
    "    'skin': 'S4D'\n",
    "}\n",
    "\n",
    "path_to_data = inout.get_internal_path(\n",
    "    (\n",
    "        'datasets/general/resources/publications/'\n",
    "        'reichwald_2015/1-s2.0-S0092867415014270-mmc5.xlsx'\n",
    "    )\n",
    ")\n",
    "\n",
    "for tissue in samples.keys():\n",
    "\n",
    "    df = pd.read_excel(\n",
    "        path_to_data,\n",
    "        sheet_name=samples[tissue],\n",
    "        header=4\n",
    "    )\n",
    "\n",
    "    df['length'] = abs(df['End'] - df['Start'] + 1)\n",
    "\n",
    "    df.loc[:, 'log_length'] = np.log10(df['length'])\n",
    "\n",
    "    f = df['Log2FoldChange'] < 0\n",
    "    df.loc[f, 'direction'] = 'down'\n",
    "    df.loc[~f, 'direction'] = 'up'\n",
    "    df.loc[:, 'tissue'] = tissue\n",
    "    df.loc[:, 'tissue'] = df['tissue'].str.capitalize()\n",
    "    \n",
    "    \n",
    "    agg.append(df)"
   ]
  },
  {
   "cell_type": "code",
   "execution_count": 37,
   "metadata": {},
   "outputs": [],
   "source": [
    "df = pd.concat(agg)"
   ]
  },
  {
   "cell_type": "code",
   "execution_count": 38,
   "metadata": {},
   "outputs": [],
   "source": [
    "results = []\n",
    "\n",
    "for tissue in sorted(df['tissue'].unique()):\n",
    "    d = df[df['tissue']==tissue]\n",
    "    pv = mannwhitneyu(\n",
    "        d[d['direction']=='up']['log_length'],\n",
    "        d[d['direction']=='down']['log_length'],\n",
    "        alternative='two-sided'\n",
    "    )[1]\n",
    "\n",
    "    \n",
    "    \n",
    "    diff = d[d['direction']=='up']['log_length'].median()-d[d['direction']=='down']['log_length'].median()\n",
    "\n",
    "\n",
    "    results.append(\n",
    "        {\n",
    "            'tissue': tissue,\n",
    "            'effect': diff,\n",
    "            'pval': pv\n",
    "            \n",
    "        }\n",
    "    \n",
    "    )"
   ]
  },
  {
   "cell_type": "code",
   "execution_count": 39,
   "metadata": {},
   "outputs": [],
   "source": [
    "a = pd.DataFrame(results)\n",
    "a.loc[:, 'source'] = 'Reichwald et al.'\n",
    "\n",
    "renamer = {\n",
    "    'Brain': 'Brain - Brain'\n",
    "}\n",
    "   \n",
    "\n",
    "a['tissue'] = a['tissue'].replace(renamer).copy()\n",
    "\n",
    "agg_collect_studies.append(a)"
   ]
  },
  {
   "cell_type": "code",
   "execution_count": null,
   "metadata": {},
   "outputs": [],
   "source": []
  },
  {
   "cell_type": "code",
   "execution_count": 40,
   "metadata": {},
   "outputs": [],
   "source": [
    "from statsmodels.sandbox.stats.multicomp import multipletests\n",
    "\n"
   ]
  },
  {
   "cell_type": "code",
   "execution_count": null,
   "metadata": {},
   "outputs": [],
   "source": []
  },
  {
   "cell_type": "code",
   "execution_count": 41,
   "metadata": {},
   "outputs": [],
   "source": [
    "df_m = pd.concat(agg_collect_studies)\n",
    "\n",
    "\n",
    "\n",
    "\n",
    "df_m.loc[:, 'benjamini_hochberg'] = multipletests(\n",
    "    df_m.loc[:, 'pval'].values, method='fdr_bh')[1]\n",
    "\n",
    "f = (df_m['effect'] < 0) & (df_m['pval'] < 0.01)\n",
    "df_m.loc[f, 'code'] = -0.5\n",
    "\n",
    "f = (df_m['effect'] > 0) & (df_m['pval'] < 0.01)\n",
    "df_m.loc[f, 'code'] = +0.5\n",
    "\n",
    "f = (df_m['effect'] < 0) & (df_m['benjamini_hochberg'] < 0.01)\n",
    "df_m.loc[f, 'code'] = -1\n",
    "\n",
    "f = (df_m['effect'] > 0) & (df_m['benjamini_hochberg'] < 0.01)\n",
    "df_m.loc[f, 'code'] = +1\n",
    "\n",
    "df_m.loc[:, 'code'] = df_m.loc[:, 'code'].fillna(0)\n",
    "\n",
    "df_c = df_m.pivot(index='tissue', columns='source', values='code')\n",
    "\n",
    "\n",
    "\n",
    "is_null = df_c.isnull()"
   ]
  },
  {
   "cell_type": "code",
   "execution_count": null,
   "metadata": {},
   "outputs": [],
   "source": []
  },
  {
   "cell_type": "code",
   "execution_count": 42,
   "metadata": {},
   "outputs": [
    {
     "data": {
      "image/png": "[encoded data removed]",
      "text/plain": [
       "<Figure size 360x720 with 2 Axes>"
      ]
     },
     "metadata": {
      "needs_background": "light"
     },
     "output_type": "display_data"
    }
   ],
   "source": [
    "plt.figure(figsize=(5, 10))\n",
    "v = natsorted(df_c.index)\n",
    "v_c = ['This study', 'Schaum et al.', 'Benayoun et al.', 'Shavlakadze et al.', 'Reichwald et al.']\n",
    "sns.heatmap(\n",
    "    df_c.fillna(0).reindex(index=v, columns=v_c), \n",
    "    cmap='coolwarm',\n",
    "    mask=is_null.reindex(index=v, columns=v_c), \n",
    "    xticklabels=True,\n",
    "    yticklabels=True)\n",
    "\n",
    "if save_images:\n",
    "    export.export_image(\n",
    "        '{}/only_model_organisms.pdf'.format(\n",
    "            outfolder))\n"
   ]
  },
  {
   "cell_type": "code",
   "execution_count": 43,
   "metadata": {},
   "outputs": [
    {
     "data": {
      "image/png": "[encoded data removed]",
      "text/plain": [
       "<Figure size 432x288 with 1 Axes>"
      ]
     },
     "metadata": {
      "needs_background": "light"
     },
     "output_type": "display_data"
    }
   ],
   "source": [
    "toy = df_c.stack().to_frame('sign').reset_index().rename(columns={'level_1': 'study'})\n",
    "\n",
    "toy.loc[:, 'negative'] = toy['sign']<0\n",
    "toy.loc[:, 'positive'] = toy['sign']>0\n",
    "toy.loc[:, 'neutral'] = toy['sign']==0\n",
    "\n",
    "toy['here'] = toy['source'] == 'This study'\n",
    "\n",
    "toy = toy[['here', 'negative', 'positive', 'neutral']].set_index(\n",
    "    'here').stack().to_frame('present').reset_index()\n",
    "\n",
    "sns.barplot(x='level_1', y='present', hue='here', data=toy, \n",
    "            hue_order=[True, False],\n",
    "            order=['negative', 'neutral', 'positive'],\n",
    "            estimator=lambda x: np.mean(x*100)\n",
    "           )\n",
    "\n",
    "if save_images:\n",
    "    export.export_image(\n",
    "        '{}/own_and_other_study.pdf'.format(\n",
    "            outfolder))"
   ]
  },
  {
   "cell_type": "code",
   "execution_count": 44,
   "metadata": {},
   "outputs": [
    {
     "data": {
      "text/plain": [
       "False    28.0\n",
       "True     17.0\n",
       "Name: here, dtype: float64"
      ]
     },
     "execution_count": 44,
     "metadata": {},
     "output_type": "execute_result"
    }
   ],
   "source": [
    "toy['here'].value_counts()/3"
   ]
  },
  {
   "cell_type": "code",
   "execution_count": 45,
   "metadata": {},
   "outputs": [
    {
     "data": {
      "text/plain": [
       "17"
      ]
     },
     "execution_count": 45,
     "metadata": {},
     "output_type": "execute_result"
    }
   ],
   "source": [
    "df_c['This study'].notnull().sum()"
   ]
  },
  {
   "cell_type": "code",
   "execution_count": 46,
   "metadata": {},
   "outputs": [
    {
     "data": {
      "text/plain": [
       "level_1   here   present\n",
       "negative  False  False      12\n",
       "                 True       16\n",
       "          True   False       3\n",
       "                 True       14\n",
       "neutral   False  False      21\n",
       "                 True        7\n",
       "          True   False      17\n",
       "positive  False  False      23\n",
       "                 True        5\n",
       "          True   False      14\n",
       "                 True        3\n",
       "dtype: int64"
      ]
     },
     "execution_count": 46,
     "metadata": {},
     "output_type": "execute_result"
    }
   ],
   "source": [
    "toy.groupby(['level_1', 'here', 'present']).size()"
   ]
  },
  {
   "cell_type": "code",
   "execution_count": 47,
   "metadata": {},
   "outputs": [
    {
     "data": {
      "text/plain": [
       "0.8235294117647058"
      ]
     },
     "execution_count": 47,
     "metadata": {},
     "output_type": "execute_result"
    }
   ],
   "source": [
    "14/17"
   ]
  },
  {
   "cell_type": "code",
   "execution_count": 48,
   "metadata": {},
   "outputs": [],
   "source": [
    "from scipy.stats import fisher_exact"
   ]
  },
  {
   "cell_type": "code",
   "execution_count": 49,
   "metadata": {},
   "outputs": [
    {
     "data": {
      "text/plain": [
       "(3.5, 0.10973155727861728)"
      ]
     },
     "execution_count": 49,
     "metadata": {},
     "output_type": "execute_result"
    }
   ],
   "source": [
    "fisher_exact(\n",
    "    (\n",
    "        (14, 3),\n",
    "        (16, 12)\n",
    "    ),\n",
    "    alternative='two-sided'\n",
    "\n",
    "\n",
    ")"
   ]
  },
  {
   "cell_type": "code",
   "execution_count": 50,
   "metadata": {},
   "outputs": [
    {
     "data": {
      "text/html": [
       "<div>\n",
       "<style scoped>\n",
       "    .dataframe tbody tr th:only-of-type {\n",
       "        vertical-align: middle;\n",
       "    }\n",
       "\n",
       "    .dataframe tbody tr th {\n",
       "        vertical-align: top;\n",
       "    }\n",
       "\n",
       "    .dataframe thead th {\n",
       "        text-align: right;\n",
       "    }\n",
       "</style>\n",
       "<table border=\"1\" class=\"dataframe\">\n",
       "  <thead>\n",
       "    <tr style=\"text-align: right;\">\n",
       "      <th></th>\n",
       "      <th></th>\n",
       "      <th>present</th>\n",
       "    </tr>\n",
       "    <tr>\n",
       "      <th>level_1</th>\n",
       "      <th>here</th>\n",
       "      <th></th>\n",
       "    </tr>\n",
       "  </thead>\n",
       "  <tbody>\n",
       "    <tr>\n",
       "      <th rowspan=\"2\" valign=\"top\">negative</th>\n",
       "      <th>False</th>\n",
       "      <td>16.0</td>\n",
       "    </tr>\n",
       "    <tr>\n",
       "      <th>True</th>\n",
       "      <td>14.0</td>\n",
       "    </tr>\n",
       "    <tr>\n",
       "      <th rowspan=\"2\" valign=\"top\">neutral</th>\n",
       "      <th>False</th>\n",
       "      <td>7.0</td>\n",
       "    </tr>\n",
       "    <tr>\n",
       "      <th>True</th>\n",
       "      <td>0.0</td>\n",
       "    </tr>\n",
       "    <tr>\n",
       "      <th rowspan=\"2\" valign=\"top\">positive</th>\n",
       "      <th>False</th>\n",
       "      <td>5.0</td>\n",
       "    </tr>\n",
       "    <tr>\n",
       "      <th>True</th>\n",
       "      <td>3.0</td>\n",
       "    </tr>\n",
       "  </tbody>\n",
       "</table>\n",
       "</div>"
      ],
      "text/plain": [
       "                present\n",
       "level_1  here          \n",
       "negative False     16.0\n",
       "         True      14.0\n",
       "neutral  False      7.0\n",
       "         True       0.0\n",
       "positive False      5.0\n",
       "         True       3.0"
      ]
     },
     "execution_count": 50,
     "metadata": {},
     "output_type": "execute_result"
    }
   ],
   "source": [
    "toy.groupby(['level_1', 'here']).sum()"
   ]
  },
  {
   "cell_type": "code",
   "execution_count": null,
   "metadata": {},
   "outputs": [],
   "source": []
  },
  {
   "cell_type": "code",
   "execution_count": null,
   "metadata": {},
   "outputs": [],
   "source": []
  },
  {
   "cell_type": "code",
   "execution_count": 51,
   "metadata": {},
   "outputs": [],
   "source": [
    "# p = inout.get_internal_path(\n",
    "#     'dynamic/tstoeger/{}/female_and_male_gtex.xlsx'.format(infolder))\n",
    "\n",
    "# df_h = pd.read_excel(p, skipfooter=3)\n",
    "# df_h = df_h.sort_values('Tissue')\n",
    "# df_h = df_h.set_index('Tissue')\n",
    "\n"
   ]
  },
  {
   "cell_type": "code",
   "execution_count": 52,
   "metadata": {},
   "outputs": [],
   "source": [
    "p = inout.get_internal_path(\n",
    "    'figures/tstoeger/material/220127_export_human_tissue_effects/stable_5_gtex_females.xlsx'\n",
    ")\n",
    "d1 = pd.read_excel(p)"
   ]
  },
  {
   "cell_type": "code",
   "execution_count": 53,
   "metadata": {},
   "outputs": [],
   "source": [
    "d1 = d1[d1['comparison']=='20/30 to 60/70']"
   ]
  },
  {
   "cell_type": "code",
   "execution_count": 54,
   "metadata": {},
   "outputs": [],
   "source": [
    "a = d1.rename(columns={'rho': 'effect'})[['tissue', 'effect', 'pval']]\n",
    "a.loc[:, 'source'] = 'Human females - GTEx'"
   ]
  },
  {
   "cell_type": "code",
   "execution_count": 55,
   "metadata": {},
   "outputs": [],
   "source": [
    "agg_collect_studies.append(a)"
   ]
  },
  {
   "cell_type": "code",
   "execution_count": null,
   "metadata": {},
   "outputs": [],
   "source": []
  },
  {
   "cell_type": "code",
   "execution_count": 56,
   "metadata": {},
   "outputs": [],
   "source": [
    "p = inout.get_internal_path(\n",
    "    'figures/tstoeger/material/220127_export_human_tissue_effects/stable_6_gtex_males.xlsx'\n",
    ")\n",
    "d2 = pd.read_excel(p)\n",
    "\n",
    "d2 = d2[d2['comparison']=='20/30 to 60/70']\n",
    "a = d2.rename(columns={'rho': 'effect'})[['tissue', 'effect', 'pval']]\n",
    "a.loc[:, 'source'] = 'Human males - GTEx'\n",
    "\n",
    "\n"
   ]
  },
  {
   "cell_type": "code",
   "execution_count": 57,
   "metadata": {},
   "outputs": [],
   "source": [
    "agg_collect_studies.append(a)"
   ]
  },
  {
   "cell_type": "code",
   "execution_count": null,
   "metadata": {},
   "outputs": [],
   "source": []
  },
  {
   "cell_type": "code",
   "execution_count": null,
   "metadata": {},
   "outputs": [],
   "source": []
  },
  {
   "cell_type": "code",
   "execution_count": null,
   "metadata": {},
   "outputs": [],
   "source": []
  },
  {
   "cell_type": "code",
   "execution_count": 58,
   "metadata": {},
   "outputs": [],
   "source": [
    "df_m = pd.concat(agg_collect_studies)\n",
    "\n",
    "\n",
    "\n",
    "\n",
    "df_m.loc[:, 'benjamini_hochberg'] = multipletests(\n",
    "    df_m.loc[:, 'pval'].values, method='fdr_bh')[1]\n",
    "\n",
    "f = (df_m['effect'] < 0) & (df_m['pval'] < 0.01)\n",
    "df_m.loc[f, 'code'] = -0.5\n",
    "\n",
    "f = (df_m['effect'] > 0) & (df_m['pval'] < 0.01)\n",
    "df_m.loc[f, 'code'] = +0.5\n",
    "\n",
    "f = (df_m['effect'] < 0) & (df_m['benjamini_hochberg'] < 0.01)\n",
    "df_m.loc[f, 'code'] = -1\n",
    "\n",
    "f = (df_m['effect'] > 0) & (df_m['benjamini_hochberg'] < 0.01)\n",
    "df_m.loc[f, 'code'] = +1\n",
    "\n",
    "df_m.loc[:, 'code'] = df_m.loc[:, 'code'].fillna(0)\n",
    "\n",
    "df_c = df_m.pivot(index='tissue', columns='source', values='code')\n",
    "\n",
    "\n",
    "\n",
    "is_null = df_c.isnull()"
   ]
  },
  {
   "cell_type": "code",
   "execution_count": 59,
   "metadata": {},
   "outputs": [
    {
     "data": {
      "text/html": [
       "<div>\n",
       "<style scoped>\n",
       "    .dataframe tbody tr th:only-of-type {\n",
       "        vertical-align: middle;\n",
       "    }\n",
       "\n",
       "    .dataframe tbody tr th {\n",
       "        vertical-align: top;\n",
       "    }\n",
       "\n",
       "    .dataframe thead th {\n",
       "        text-align: right;\n",
       "    }\n",
       "</style>\n",
       "<table border=\"1\" class=\"dataframe\">\n",
       "  <thead>\n",
       "    <tr style=\"text-align: right;\">\n",
       "      <th>source</th>\n",
       "      <th>Benayoun et al.</th>\n",
       "      <th>Human females - GTEx</th>\n",
       "      <th>Human males - GTEx</th>\n",
       "      <th>Reichwald et al.</th>\n",
       "      <th>Schaum et al.</th>\n",
       "      <th>Shavlakadze et al.</th>\n",
       "      <th>This study</th>\n",
       "    </tr>\n",
       "    <tr>\n",
       "      <th>tissue</th>\n",
       "      <th></th>\n",
       "      <th></th>\n",
       "      <th></th>\n",
       "      <th></th>\n",
       "      <th></th>\n",
       "      <th></th>\n",
       "      <th></th>\n",
       "    </tr>\n",
       "  </thead>\n",
       "  <tbody>\n",
       "    <tr>\n",
       "      <th>Adipose - Brown</th>\n",
       "      <td>NaN</td>\n",
       "      <td>NaN</td>\n",
       "      <td>NaN</td>\n",
       "      <td>NaN</td>\n",
       "      <td>-1.0</td>\n",
       "      <td>NaN</td>\n",
       "      <td>-1.0</td>\n",
       "    </tr>\n",
       "    <tr>\n",
       "      <th>Adipose - Gonadal</th>\n",
       "      <td>NaN</td>\n",
       "      <td>NaN</td>\n",
       "      <td>NaN</td>\n",
       "      <td>NaN</td>\n",
       "      <td>0.0</td>\n",
       "      <td>NaN</td>\n",
       "      <td>NaN</td>\n",
       "    </tr>\n",
       "    <tr>\n",
       "      <th>Adipose - Mesenteric</th>\n",
       "      <td>NaN</td>\n",
       "      <td>NaN</td>\n",
       "      <td>NaN</td>\n",
       "      <td>NaN</td>\n",
       "      <td>-1.0</td>\n",
       "      <td>NaN</td>\n",
       "      <td>NaN</td>\n",
       "    </tr>\n",
       "    <tr>\n",
       "      <th>Adipose - Subcutaneous</th>\n",
       "      <td>NaN</td>\n",
       "      <td>1.0</td>\n",
       "      <td>-1.0</td>\n",
       "      <td>NaN</td>\n",
       "      <td>-1.0</td>\n",
       "      <td>NaN</td>\n",
       "      <td>NaN</td>\n",
       "    </tr>\n",
       "    <tr>\n",
       "      <th>Adipose - Visceral (Omentum)</th>\n",
       "      <td>NaN</td>\n",
       "      <td>1.0</td>\n",
       "      <td>0.0</td>\n",
       "      <td>NaN</td>\n",
       "      <td>NaN</td>\n",
       "      <td>NaN</td>\n",
       "      <td>NaN</td>\n",
       "    </tr>\n",
       "    <tr>\n",
       "      <th>...</th>\n",
       "      <td>...</td>\n",
       "      <td>...</td>\n",
       "      <td>...</td>\n",
       "      <td>...</td>\n",
       "      <td>...</td>\n",
       "      <td>...</td>\n",
       "      <td>...</td>\n",
       "    </tr>\n",
       "    <tr>\n",
       "      <th>Testis</th>\n",
       "      <td>NaN</td>\n",
       "      <td>NaN</td>\n",
       "      <td>0.0</td>\n",
       "      <td>NaN</td>\n",
       "      <td>NaN</td>\n",
       "      <td>NaN</td>\n",
       "      <td>NaN</td>\n",
       "    </tr>\n",
       "    <tr>\n",
       "      <th>Thyroid</th>\n",
       "      <td>NaN</td>\n",
       "      <td>-1.0</td>\n",
       "      <td>-1.0</td>\n",
       "      <td>NaN</td>\n",
       "      <td>NaN</td>\n",
       "      <td>NaN</td>\n",
       "      <td>NaN</td>\n",
       "    </tr>\n",
       "    <tr>\n",
       "      <th>Uterus</th>\n",
       "      <td>NaN</td>\n",
       "      <td>-1.0</td>\n",
       "      <td>NaN</td>\n",
       "      <td>NaN</td>\n",
       "      <td>NaN</td>\n",
       "      <td>NaN</td>\n",
       "      <td>NaN</td>\n",
       "    </tr>\n",
       "    <tr>\n",
       "      <th>Vagina</th>\n",
       "      <td>NaN</td>\n",
       "      <td>1.0</td>\n",
       "      <td>NaN</td>\n",
       "      <td>NaN</td>\n",
       "      <td>NaN</td>\n",
       "      <td>NaN</td>\n",
       "      <td>NaN</td>\n",
       "    </tr>\n",
       "    <tr>\n",
       "      <th>Whole Blood</th>\n",
       "      <td>NaN</td>\n",
       "      <td>-1.0</td>\n",
       "      <td>-1.0</td>\n",
       "      <td>NaN</td>\n",
       "      <td>NaN</td>\n",
       "      <td>NaN</td>\n",
       "      <td>NaN</td>\n",
       "    </tr>\n",
       "  </tbody>\n",
       "</table>\n",
       "<p>68 rows × 7 columns</p>\n",
       "</div>"
      ],
      "text/plain": [
       "source                        Benayoun et al.  Human females - GTEx  \\\n",
       "tissue                                                                \n",
       "Adipose - Brown                           NaN                   NaN   \n",
       "Adipose - Gonadal                         NaN                   NaN   \n",
       "Adipose - Mesenteric                      NaN                   NaN   \n",
       "Adipose - Subcutaneous                    NaN                   1.0   \n",
       "Adipose - Visceral (Omentum)              NaN                   1.0   \n",
       "...                                       ...                   ...   \n",
       "Testis                                    NaN                   NaN   \n",
       "Thyroid                                   NaN                  -1.0   \n",
       "Uterus                                    NaN                  -1.0   \n",
       "Vagina                                    NaN                   1.0   \n",
       "Whole Blood                               NaN                  -1.0   \n",
       "\n",
       "source                        Human males - GTEx  Reichwald et al.  \\\n",
       "tissue                                                               \n",
       "Adipose - Brown                              NaN               NaN   \n",
       "Adipose - Gonadal                            NaN               NaN   \n",
       "Adipose - Mesenteric                         NaN               NaN   \n",
       "Adipose - Subcutaneous                      -1.0               NaN   \n",
       "Adipose - Visceral (Omentum)                 0.0               NaN   \n",
       "...                                          ...               ...   \n",
       "Testis                                       0.0               NaN   \n",
       "Thyroid                                     -1.0               NaN   \n",
       "Uterus                                       NaN               NaN   \n",
       "Vagina                                       NaN               NaN   \n",
       "Whole Blood                                 -1.0               NaN   \n",
       "\n",
       "source                        Schaum et al.  Shavlakadze et al.  This study  \n",
       "tissue                                                                       \n",
       "Adipose - Brown                        -1.0                 NaN        -1.0  \n",
       "Adipose - Gonadal                       0.0                 NaN         NaN  \n",
       "Adipose - Mesenteric                   -1.0                 NaN         NaN  \n",
       "Adipose - Subcutaneous                 -1.0                 NaN         NaN  \n",
       "Adipose - Visceral (Omentum)            NaN                 NaN         NaN  \n",
       "...                                     ...                 ...         ...  \n",
       "Testis                                  NaN                 NaN         NaN  \n",
       "Thyroid                                 NaN                 NaN         NaN  \n",
       "Uterus                                  NaN                 NaN         NaN  \n",
       "Vagina                                  NaN                 NaN         NaN  \n",
       "Whole Blood                             NaN                 NaN         NaN  \n",
       "\n",
       "[68 rows x 7 columns]"
      ]
     },
     "execution_count": 59,
     "metadata": {},
     "output_type": "execute_result"
    }
   ],
   "source": [
    "df_c"
   ]
  },
  {
   "cell_type": "code",
   "execution_count": null,
   "metadata": {},
   "outputs": [],
   "source": []
  },
  {
   "cell_type": "code",
   "execution_count": 60,
   "metadata": {},
   "outputs": [
    {
     "data": {
      "image/png": "[encoded data removed]",
      "text/plain": [
       "<Figure size 360x720 with 2 Axes>"
      ]
     },
     "metadata": {
      "needs_background": "light"
     },
     "output_type": "display_data"
    }
   ],
   "source": [
    "plt.figure(figsize=(5, 10))\n",
    "v = natsorted(df_c.index)\n",
    "v_c = ['This study', 'Schaum et al.', 'Benayoun et al.', 'Shavlakadze et al.', 'Reichwald et al.',\n",
    "      'Human females - GTEx', 'Human males - GTEx'\n",
    "      \n",
    "      ]\n",
    "sns.heatmap(\n",
    "    df_c.fillna(0).reindex(index=v, columns=v_c), \n",
    "    cmap='coolwarm',\n",
    "    mask=is_null.reindex(index=v, columns=v_c), \n",
    "    xticklabels=True,\n",
    "    yticklabels=True)\n",
    "\n",
    "if save_images:\n",
    "    export.export_image(\n",
    "        '{}/with_human.pdf'.format(\n",
    "            outfolder))"
   ]
  },
  {
   "cell_type": "code",
   "execution_count": 61,
   "metadata": {},
   "outputs": [
    {
     "data": {
      "text/html": [
       "<div>\n",
       "<style scoped>\n",
       "    .dataframe tbody tr th:only-of-type {\n",
       "        vertical-align: middle;\n",
       "    }\n",
       "\n",
       "    .dataframe tbody tr th {\n",
       "        vertical-align: top;\n",
       "    }\n",
       "\n",
       "    .dataframe thead th {\n",
       "        text-align: right;\n",
       "    }\n",
       "</style>\n",
       "<table border=\"1\" class=\"dataframe\">\n",
       "  <thead>\n",
       "    <tr style=\"text-align: right;\">\n",
       "      <th></th>\n",
       "      <th>tissue</th>\n",
       "      <th>effect</th>\n",
       "      <th>pval</th>\n",
       "      <th>source</th>\n",
       "      <th>benjamini_hochberg</th>\n",
       "      <th>code</th>\n",
       "    </tr>\n",
       "  </thead>\n",
       "  <tbody>\n",
       "  </tbody>\n",
       "</table>\n",
       "</div>"
      ],
      "text/plain": [
       "Empty DataFrame\n",
       "Columns: [tissue, effect, pval, source, benjamini_hochberg, code]\n",
       "Index: []"
      ]
     },
     "execution_count": 61,
     "metadata": {},
     "output_type": "execute_result"
    }
   ],
   "source": [
    "df_m[df_m['code']==-0.5]"
   ]
  },
  {
   "cell_type": "code",
   "execution_count": 62,
   "metadata": {},
   "outputs": [
    {
     "data": {
      "text/html": [
       "<div>\n",
       "<style scoped>\n",
       "    .dataframe tbody tr th:only-of-type {\n",
       "        vertical-align: middle;\n",
       "    }\n",
       "\n",
       "    .dataframe tbody tr th {\n",
       "        vertical-align: top;\n",
       "    }\n",
       "\n",
       "    .dataframe thead th {\n",
       "        text-align: right;\n",
       "    }\n",
       "</style>\n",
       "<table border=\"1\" class=\"dataframe\">\n",
       "  <thead>\n",
       "    <tr style=\"text-align: right;\">\n",
       "      <th></th>\n",
       "      <th>tissue</th>\n",
       "      <th>effect</th>\n",
       "      <th>pval</th>\n",
       "      <th>source</th>\n",
       "      <th>benjamini_hochberg</th>\n",
       "      <th>code</th>\n",
       "    </tr>\n",
       "  </thead>\n",
       "  <tbody>\n",
       "    <tr>\n",
       "      <th>2</th>\n",
       "      <td>Kidney</td>\n",
       "      <td>0.0574679</td>\n",
       "      <td>0.00955008</td>\n",
       "      <td>Shavlakadze et al.</td>\n",
       "      <td>0.010785</td>\n",
       "      <td>0.5</td>\n",
       "    </tr>\n",
       "  </tbody>\n",
       "</table>\n",
       "</div>"
      ],
      "text/plain": [
       "   tissue     effect        pval              source benjamini_hochberg  code\n",
       "2  Kidney  0.0574679  0.00955008  Shavlakadze et al.           0.010785   0.5"
      ]
     },
     "execution_count": 62,
     "metadata": {},
     "output_type": "execute_result"
    }
   ],
   "source": [
    "df_m[df_m['code']==+0.5]"
   ]
  },
  {
   "cell_type": "code",
   "execution_count": null,
   "metadata": {},
   "outputs": [],
   "source": []
  },
  {
   "cell_type": "code",
   "execution_count": null,
   "metadata": {},
   "outputs": [],
   "source": []
  },
  {
   "cell_type": "code",
   "execution_count": null,
   "metadata": {},
   "outputs": [],
   "source": []
  },
  {
   "cell_type": "code",
   "execution_count": 63,
   "metadata": {},
   "outputs": [],
   "source": [
    "a = df_m.copy()\n",
    "f = a['source'].str.startswith('Human')\n",
    "a.loc[f, 'hue'] = 'GTEx (all)'\n",
    "a.loc[~f, 'hue'] = 'Model organisms'"
   ]
  },
  {
   "cell_type": "code",
   "execution_count": 64,
   "metadata": {},
   "outputs": [],
   "source": [
    "f = a['source'].str.startswith('Human') & a['tissue'].str.startswith('Brain')"
   ]
  },
  {
   "cell_type": "code",
   "execution_count": 65,
   "metadata": {},
   "outputs": [
    {
     "name": "stderr",
     "output_type": "stream",
     "text": [
      "/Users/tstoeger/opt/miniconda3/envs/aging/lib/python3.7/site-packages/pandas/core/indexing.py:965: SettingWithCopyWarning: \n",
      "A value is trying to be set on a copy of a slice from a DataFrame.\n",
      "Try using .loc[row_indexer,col_indexer] = value instead\n",
      "\n",
      "See the caveats in the documentation: https://pandas.pydata.org/pandas-docs/stable/user_guide/indexing.html#returning-a-view-versus-a-copy\n",
      "  self.obj[item] = s\n"
     ]
    }
   ],
   "source": [
    "b = a[f]\n",
    "b.loc[:, 'hue'] = 'GTEx (brain)'\n",
    "tog = pd.concat([a, b])"
   ]
  },
  {
   "cell_type": "code",
   "execution_count": 66,
   "metadata": {},
   "outputs": [],
   "source": [
    "tog['n'] = tog['source'] + '_' + tog['tissue']"
   ]
  },
  {
   "cell_type": "code",
   "execution_count": 67,
   "metadata": {},
   "outputs": [],
   "source": [
    "tog['negative'] = tog['code'] < 0\n",
    "tog['positive'] = tog['code'] > 0\n",
    "tog['neutral'] = tog['code'] == 0"
   ]
  },
  {
   "cell_type": "code",
   "execution_count": 68,
   "metadata": {},
   "outputs": [],
   "source": [
    "m = tog.set_index('hue')[['negative', 'positive', 'neutral']].stack().to_frame('present').rename_axis(\n",
    "    ['hue', 'direction']\n",
    ").reset_index()"
   ]
  },
  {
   "cell_type": "code",
   "execution_count": 69,
   "metadata": {},
   "outputs": [
    {
     "data": {
      "text/html": [
       "<div>\n",
       "<style scoped>\n",
       "    .dataframe tbody tr th:only-of-type {\n",
       "        vertical-align: middle;\n",
       "    }\n",
       "\n",
       "    .dataframe tbody tr th {\n",
       "        vertical-align: top;\n",
       "    }\n",
       "\n",
       "    .dataframe thead th {\n",
       "        text-align: right;\n",
       "    }\n",
       "</style>\n",
       "<table border=\"1\" class=\"dataframe\">\n",
       "  <thead>\n",
       "    <tr style=\"text-align: right;\">\n",
       "      <th></th>\n",
       "      <th>hue</th>\n",
       "      <th>direction</th>\n",
       "      <th>present</th>\n",
       "    </tr>\n",
       "  </thead>\n",
       "  <tbody>\n",
       "    <tr>\n",
       "      <th>0</th>\n",
       "      <td>Model organisms</td>\n",
       "      <td>negative</td>\n",
       "      <td>True</td>\n",
       "    </tr>\n",
       "    <tr>\n",
       "      <th>1</th>\n",
       "      <td>Model organisms</td>\n",
       "      <td>positive</td>\n",
       "      <td>False</td>\n",
       "    </tr>\n",
       "    <tr>\n",
       "      <th>2</th>\n",
       "      <td>Model organisms</td>\n",
       "      <td>neutral</td>\n",
       "      <td>False</td>\n",
       "    </tr>\n",
       "    <tr>\n",
       "      <th>3</th>\n",
       "      <td>Model organisms</td>\n",
       "      <td>negative</td>\n",
       "      <td>True</td>\n",
       "    </tr>\n",
       "    <tr>\n",
       "      <th>4</th>\n",
       "      <td>Model organisms</td>\n",
       "      <td>positive</td>\n",
       "      <td>False</td>\n",
       "    </tr>\n",
       "    <tr>\n",
       "      <th>...</th>\n",
       "      <td>...</td>\n",
       "      <td>...</td>\n",
       "      <td>...</td>\n",
       "    </tr>\n",
       "    <tr>\n",
       "      <th>460</th>\n",
       "      <td>GTEx (brain)</td>\n",
       "      <td>positive</td>\n",
       "      <td>False</td>\n",
       "    </tr>\n",
       "    <tr>\n",
       "      <th>461</th>\n",
       "      <td>GTEx (brain)</td>\n",
       "      <td>neutral</td>\n",
       "      <td>False</td>\n",
       "    </tr>\n",
       "    <tr>\n",
       "      <th>462</th>\n",
       "      <td>GTEx (brain)</td>\n",
       "      <td>negative</td>\n",
       "      <td>True</td>\n",
       "    </tr>\n",
       "    <tr>\n",
       "      <th>463</th>\n",
       "      <td>GTEx (brain)</td>\n",
       "      <td>positive</td>\n",
       "      <td>False</td>\n",
       "    </tr>\n",
       "    <tr>\n",
       "      <th>464</th>\n",
       "      <td>GTEx (brain)</td>\n",
       "      <td>neutral</td>\n",
       "      <td>False</td>\n",
       "    </tr>\n",
       "  </tbody>\n",
       "</table>\n",
       "<p>465 rows × 3 columns</p>\n",
       "</div>"
      ],
      "text/plain": [
       "                 hue direction  present\n",
       "0    Model organisms  negative     True\n",
       "1    Model organisms  positive    False\n",
       "2    Model organisms   neutral    False\n",
       "3    Model organisms  negative     True\n",
       "4    Model organisms  positive    False\n",
       "..               ...       ...      ...\n",
       "460     GTEx (brain)  positive    False\n",
       "461     GTEx (brain)   neutral    False\n",
       "462     GTEx (brain)  negative     True\n",
       "463     GTEx (brain)  positive    False\n",
       "464     GTEx (brain)   neutral    False\n",
       "\n",
       "[465 rows x 3 columns]"
      ]
     },
     "execution_count": 69,
     "metadata": {},
     "output_type": "execute_result"
    }
   ],
   "source": [
    "m"
   ]
  },
  {
   "cell_type": "code",
   "execution_count": null,
   "metadata": {},
   "outputs": [],
   "source": []
  },
  {
   "cell_type": "code",
   "execution_count": 70,
   "metadata": {},
   "outputs": [
    {
     "data": {
      "image/png": "[encoded data removed]",
      "text/plain": [
       "<Figure size 432x288 with 1 Axes>"
      ]
     },
     "metadata": {
      "needs_background": "light"
     },
     "output_type": "display_data"
    }
   ],
   "source": [
    "\n",
    "sns.barplot(\n",
    "    x='direction', y='present', hue='hue', data=m,\n",
    "    order=['negative', 'neutral', 'positive'],\n",
    "    hue_order=['GTEx (all)', 'GTEx (brain)', 'Model organisms'],\n",
    "    estimator=lambda x: np.mean(x*100)\n",
    ")\n",
    "\n",
    "if save_images:\n",
    "    export.export_image(\n",
    "        '{}/GTEx_bars.pdf'.format(\n",
    "            outfolder))"
   ]
  },
  {
   "cell_type": "code",
   "execution_count": 71,
   "metadata": {},
   "outputs": [
    {
     "data": {
      "text/plain": [
       "GTEx (all)         86.0\n",
       "Model organisms    45.0\n",
       "GTEx (brain)       24.0\n",
       "Name: hue, dtype: float64"
      ]
     },
     "execution_count": 71,
     "metadata": {},
     "output_type": "execute_result"
    }
   ],
   "source": [
    "m['hue'].value_counts() / 3"
   ]
  },
  {
   "cell_type": "code",
   "execution_count": null,
   "metadata": {},
   "outputs": [],
   "source": []
  },
  {
   "cell_type": "code",
   "execution_count": null,
   "metadata": {},
   "outputs": [],
   "source": []
  },
  {
   "cell_type": "code",
   "execution_count": null,
   "metadata": {},
   "outputs": [],
   "source": []
  }
 ],
 "metadata": {
  "kernelspec": {
   "display_name": "Python 3",
   "language": "python",
   "name": "python3"
  },
  "language_info": {
   "codemirror_mode": {
    "name": "ipython",
    "version": 3
   },
   "file_extension": ".py",
   "mimetype": "text/x-python",
   "name": "python",
   "nbconvert_exporter": "python",
   "pygments_lexer": "ipython3",
   "version": "3.7.3"
  },
  "toc": {
   "base_numbering": 1,
   "nav_menu": {},
   "number_sections": true,
   "sideBar": true,
   "skip_h1_title": false,
   "title_cell": "Table of Contents",
   "title_sidebar": "Contents",
   "toc_cell": false,
   "toc_position": {},
   "toc_section_display": true,
   "toc_window_display": false
  }
 },
 "nbformat": 4,
 "nbformat_minor": 2
}
