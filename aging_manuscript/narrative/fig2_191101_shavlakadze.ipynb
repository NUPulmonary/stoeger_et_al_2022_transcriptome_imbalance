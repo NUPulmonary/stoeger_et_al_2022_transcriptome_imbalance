{
 "cells": [
  {
   "cell_type": "code",
   "execution_count": 1,
   "metadata": {},
   "outputs": [],
   "source": [
    "%matplotlib inline\n",
    "%reload_ext autoreload\n",
    "%autoreload 2"
   ]
  },
  {
   "cell_type": "code",
   "execution_count": 2,
   "metadata": {},
   "outputs": [],
   "source": [
    "import matplotlib as mpl\n",
    "mpl.rcParams['pdf.fonttype'] = 42\n",
    "mpl.rcParams['font.family'] = 'Arial'"
   ]
  },
  {
   "cell_type": "code",
   "execution_count": 3,
   "metadata": {},
   "outputs": [],
   "source": [
    "import gc\n",
    "import os\n",
    "import sys\n",
    "\n",
    "import numpy as np\n",
    "import pandas as pd\n",
    "import seaborn as sns\n",
    "import matplotlib.pyplot as plt\n",
    "\n",
    "from copy import deepcopy\n",
    "from random import shuffle\n",
    "from scipy.stats import spearmanr\n",
    "\n",
    "from access_biology_data import lincs, properties\n",
    "from access_science_shared import standardizer\n",
    "\n",
    "sys.path.append('./../src/')\n",
    "from aging_tools import inout, export"
   ]
  },
  {
   "cell_type": "code",
   "execution_count": 4,
   "metadata": {},
   "outputs": [],
   "source": [
    "out_path = '191101_shavlakadze'"
   ]
  },
  {
   "cell_type": "code",
   "execution_count": 5,
   "metadata": {},
   "outputs": [],
   "source": [
    "save_image=True"
   ]
  },
  {
   "cell_type": "code",
   "execution_count": 6,
   "metadata": {},
   "outputs": [],
   "source": [
    "from access_science_shared import mapper"
   ]
  },
  {
   "cell_type": "code",
   "execution_count": 7,
   "metadata": {},
   "outputs": [],
   "source": [
    "taxon_id = 10116"
   ]
  },
  {
   "cell_type": "code",
   "execution_count": 8,
   "metadata": {},
   "outputs": [],
   "source": [
    "ref_genes = standardizer.reference_genes(taxon_id, 'orp')"
   ]
  },
  {
   "cell_type": "code",
   "execution_count": 9,
   "metadata": {},
   "outputs": [],
   "source": [
    "mode = 'gene'"
   ]
  },
  {
   "cell_type": "code",
   "execution_count": null,
   "metadata": {},
   "outputs": [],
   "source": []
  },
  {
   "cell_type": "code",
   "execution_count": 10,
   "metadata": {},
   "outputs": [],
   "source": [
    "if mode=='validated_rna':\n",
    "\n",
    "    pr = properties.genbank_validated_rna(taxon_id)[\n",
    "        ['gene_ncbi', 'Genbank_validated_RNA: full_SumACGT']].rename(columns={\n",
    "        'Genbank_validated_RNA: full_SumACGT': 'length'\n",
    "    })\n",
    "\n",
    "    pr.loc[:, 'log_length'] = np.log10(pr['length'])\n",
    "\n",
    "elif mode=='gene':\n",
    "    \n",
    "    pr = properties.genbank_gene(taxon_id=10116)[['gene_ncbi', 'Genbank__gene: SumACGT']].rename(columns={\n",
    "        'Genbank__gene: SumACGT': 'length'\n",
    "    })\n",
    "    pr.loc[:, 'log_length'] = np.log10(pr['length'])\n",
    "    \n",
    "else:\n",
    "    raise AssertionError(\"something wrong\")"
   ]
  },
  {
   "cell_type": "code",
   "execution_count": 11,
   "metadata": {},
   "outputs": [],
   "source": [
    "p = inout.get_internal_path(\n",
    "    'datasets/general/resources/publications/shavlakadze_2019/1-s2.0-S2211124719310915-mmc2.xlsx')"
   ]
  },
  {
   "cell_type": "code",
   "execution_count": 12,
   "metadata": {},
   "outputs": [],
   "source": [
    "df_out_p = pd.DataFrame()\n",
    "df_out_r = pd.DataFrame()"
   ]
  },
  {
   "cell_type": "code",
   "execution_count": 13,
   "metadata": {},
   "outputs": [],
   "source": [
    "tissues = [\n",
    "    'Gastrocnemius - all genes',\n",
    "    'Hippocampus - all genes',\n",
    "    'Kidney - all genes',\n",
    "    'Liver - all genes',\n",
    "]"
   ]
  },
  {
   "cell_type": "code",
   "execution_count": 14,
   "metadata": {},
   "outputs": [],
   "source": [
    "ages = [\n",
    "    'Age1.9Vs6Mo.log2FC',\n",
    "    'Age2.12Vs6Mo.log2FC',\n",
    "    'Age3.18Vs6Mo.log2FC',\n",
    "    'Age4.21Vs6Mo.log2FC',\n",
    "    'Age5.24Vs6Mo.log2FC',\n",
    "    'Age6.27Vs6Mo.log2FC',\n",
    "]"
   ]
  },
  {
   "cell_type": "code",
   "execution_count": 15,
   "metadata": {},
   "outputs": [],
   "source": [
    "for tissue in tissues:\n",
    "    for age in ages:\n",
    "\n",
    "        df = pd.read_excel(\n",
    "            p,\n",
    "            sheet_name=tissue,\n",
    "            usecols=['ensembl_gene_id', age],\n",
    "            skiprows=1\n",
    "        )\n",
    "\n",
    "\n",
    "        df = df.rename(columns={'ensembl_gene_id': 'gene_ensembl'})\n",
    "        df = mapper.gene_ensembl_2_gene_ncbi_unambiguously(df, taxon_id)\n",
    "        df = df[df.index.isin(ref_genes)]\n",
    "        df = pd.merge(df.reset_index(), pr)\n",
    "\n",
    "        r, pv = spearmanr(df['length'], df[age])\n",
    "\n",
    "        short_tissue = tissue.replace(' - all genes', '')\n",
    "        short_age = age[5:].replace('Vs6Mo.log2FC', '')\n",
    "\n",
    "        df_out_p.loc[short_tissue, short_age] = pv\n",
    "        df_out_r.loc[short_tissue, short_age] = r"
   ]
  },
  {
   "cell_type": "code",
   "execution_count": 16,
   "metadata": {},
   "outputs": [
    {
     "data": {
      "text/html": [
       "<div>\n",
       "<style scoped>\n",
       "    .dataframe tbody tr th:only-of-type {\n",
       "        vertical-align: middle;\n",
       "    }\n",
       "\n",
       "    .dataframe tbody tr th {\n",
       "        vertical-align: top;\n",
       "    }\n",
       "\n",
       "    .dataframe thead th {\n",
       "        text-align: right;\n",
       "    }\n",
       "</style>\n",
       "<table border=\"1\" class=\"dataframe\">\n",
       "  <thead>\n",
       "    <tr style=\"text-align: right;\">\n",
       "      <th></th>\n",
       "      <th>9</th>\n",
       "      <th>12</th>\n",
       "      <th>18</th>\n",
       "      <th>21</th>\n",
       "      <th>24</th>\n",
       "      <th>27</th>\n",
       "    </tr>\n",
       "  </thead>\n",
       "  <tbody>\n",
       "    <tr>\n",
       "      <th>Gastrocnemius</th>\n",
       "      <td>-0.086823</td>\n",
       "      <td>0.010790</td>\n",
       "      <td>-0.050794</td>\n",
       "      <td>-0.184320</td>\n",
       "      <td>-0.098914</td>\n",
       "      <td>-0.048339</td>\n",
       "    </tr>\n",
       "    <tr>\n",
       "      <th>Hippocampus</th>\n",
       "      <td>-0.109522</td>\n",
       "      <td>-0.151786</td>\n",
       "      <td>-0.088779</td>\n",
       "      <td>-0.134685</td>\n",
       "      <td>-0.238819</td>\n",
       "      <td>-0.245481</td>\n",
       "    </tr>\n",
       "    <tr>\n",
       "      <th>Kidney</th>\n",
       "      <td>0.007486</td>\n",
       "      <td>-0.141715</td>\n",
       "      <td>-0.108766</td>\n",
       "      <td>-0.024704</td>\n",
       "      <td>-0.006301</td>\n",
       "      <td>-0.018830</td>\n",
       "    </tr>\n",
       "    <tr>\n",
       "      <th>Liver</th>\n",
       "      <td>-0.086434</td>\n",
       "      <td>0.109151</td>\n",
       "      <td>-0.075076</td>\n",
       "      <td>-0.022295</td>\n",
       "      <td>-0.070677</td>\n",
       "      <td>-0.028387</td>\n",
       "    </tr>\n",
       "  </tbody>\n",
       "</table>\n",
       "</div>"
      ],
      "text/plain": [
       "                      9        12        18        21        24        27\n",
       "Gastrocnemius -0.086823  0.010790 -0.050794 -0.184320 -0.098914 -0.048339\n",
       "Hippocampus   -0.109522 -0.151786 -0.088779 -0.134685 -0.238819 -0.245481\n",
       "Kidney         0.007486 -0.141715 -0.108766 -0.024704 -0.006301 -0.018830\n",
       "Liver         -0.086434  0.109151 -0.075076 -0.022295 -0.070677 -0.028387"
      ]
     },
     "execution_count": 16,
     "metadata": {},
     "output_type": "execute_result"
    }
   ],
   "source": [
    "df_out_r   # correlation between length and fold change"
   ]
  },
  {
   "cell_type": "code",
   "execution_count": 17,
   "metadata": {},
   "outputs": [
    {
     "data": {
      "text/html": [
       "<div>\n",
       "<style scoped>\n",
       "    .dataframe tbody tr th:only-of-type {\n",
       "        vertical-align: middle;\n",
       "    }\n",
       "\n",
       "    .dataframe tbody tr th {\n",
       "        vertical-align: top;\n",
       "    }\n",
       "\n",
       "    .dataframe thead th {\n",
       "        text-align: right;\n",
       "    }\n",
       "</style>\n",
       "<table border=\"1\" class=\"dataframe\">\n",
       "  <thead>\n",
       "    <tr style=\"text-align: right;\">\n",
       "      <th></th>\n",
       "      <th>9</th>\n",
       "      <th>12</th>\n",
       "      <th>18</th>\n",
       "      <th>21</th>\n",
       "      <th>24</th>\n",
       "      <th>27</th>\n",
       "    </tr>\n",
       "  </thead>\n",
       "  <tbody>\n",
       "    <tr>\n",
       "      <th>Gastrocnemius</th>\n",
       "      <td>1.788606e-15</td>\n",
       "      <td>3.237388e-01</td>\n",
       "      <td>3.348793e-06</td>\n",
       "      <td>7.886866e-65</td>\n",
       "      <td>1.210352e-19</td>\n",
       "      <td>9.718771e-06</td>\n",
       "    </tr>\n",
       "    <tr>\n",
       "      <th>Hippocampus</th>\n",
       "      <td>5.956547e-27</td>\n",
       "      <td>1.821292e-50</td>\n",
       "      <td>3.187761e-18</td>\n",
       "      <td>5.161316e-40</td>\n",
       "      <td>2.622550e-124</td>\n",
       "      <td>1.901304e-131</td>\n",
       "    </tr>\n",
       "    <tr>\n",
       "      <th>Kidney</th>\n",
       "      <td>4.684281e-01</td>\n",
       "      <td>2.752665e-43</td>\n",
       "      <td>4.326750e-26</td>\n",
       "      <td>1.671824e-02</td>\n",
       "      <td>5.417151e-01</td>\n",
       "      <td>6.818404e-02</td>\n",
       "    </tr>\n",
       "    <tr>\n",
       "      <th>Liver</th>\n",
       "      <td>3.011545e-15</td>\n",
       "      <td>1.953077e-23</td>\n",
       "      <td>7.363396e-12</td>\n",
       "      <td>4.217948e-02</td>\n",
       "      <td>1.133569e-10</td>\n",
       "      <td>9.678764e-03</td>\n",
       "    </tr>\n",
       "  </tbody>\n",
       "</table>\n",
       "</div>"
      ],
      "text/plain": [
       "                          9            12            18            21  \\\n",
       "Gastrocnemius  1.788606e-15  3.237388e-01  3.348793e-06  7.886866e-65   \n",
       "Hippocampus    5.956547e-27  1.821292e-50  3.187761e-18  5.161316e-40   \n",
       "Kidney         4.684281e-01  2.752665e-43  4.326750e-26  1.671824e-02   \n",
       "Liver          3.011545e-15  1.953077e-23  7.363396e-12  4.217948e-02   \n",
       "\n",
       "                          24             27  \n",
       "Gastrocnemius   1.210352e-19   9.718771e-06  \n",
       "Hippocampus    2.622550e-124  1.901304e-131  \n",
       "Kidney          5.417151e-01   6.818404e-02  \n",
       "Liver           1.133569e-10   9.678764e-03  "
      ]
     },
     "execution_count": 17,
     "metadata": {},
     "output_type": "execute_result"
    }
   ],
   "source": [
    "df_out_p   # p-values of correlation between length and fold change"
   ]
  },
  {
   "cell_type": "code",
   "execution_count": 18,
   "metadata": {},
   "outputs": [
    {
     "data": {
      "image/png": "[encoded data removed]",
      "text/plain": [
       "<Figure size 432x288 with 2 Axes>"
      ]
     },
     "metadata": {
      "needs_background": "light"
     },
     "output_type": "display_data"
    }
   ],
   "source": [
    "sns.heatmap(df_out_r, vmin=-0.25, vmax=0.25, cmap='bwr')\n",
    "\n",
    "\n",
    "if save_image:\n",
    "    export.export_image('{}/{}_imbalance.pdf'.format(out_path, mode))"
   ]
  },
  {
   "cell_type": "code",
   "execution_count": 19,
   "metadata": {},
   "outputs": [
    {
     "data": {
      "image/png": "[encoded data removed]",
      "text/plain": [
       "<Figure size 432x288 with 2 Axes>"
      ]
     },
     "metadata": {
      "needs_background": "light"
     },
     "output_type": "display_data"
    }
   ],
   "source": [
    "sns.heatmap(df_out_p.apply(lambda x: -np.log(x)), vmax=20, annot=True)\n",
    "\n",
    "if save_image:\n",
    "    export.export_image('{}/{}_pvalues.pdf'.format(out_path, mode))"
   ]
  }
 ],
 "metadata": {
  "kernelspec": {
   "display_name": "Python 3",
   "language": "python",
   "name": "python3"
  },
  "language_info": {
   "codemirror_mode": {
    "name": "ipython",
    "version": 3
   },
   "file_extension": ".py",
   "mimetype": "text/x-python",
   "name": "python",
   "nbconvert_exporter": "python",
   "pygments_lexer": "ipython3",
   "version": "3.7.3"
  }
 },
 "nbformat": 4,
 "nbformat_minor": 2
}
