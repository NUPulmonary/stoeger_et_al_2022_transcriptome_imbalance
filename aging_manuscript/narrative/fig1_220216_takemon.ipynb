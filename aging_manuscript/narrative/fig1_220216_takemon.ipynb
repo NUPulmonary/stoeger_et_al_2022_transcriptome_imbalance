{
 "cells": [
  {
   "cell_type": "code",
   "execution_count": 1,
   "metadata": {},
   "outputs": [],
   "source": [
    "%matplotlib inline\n",
    "%reload_ext autoreload\n",
    "%autoreload 2"
   ]
  },
  {
   "cell_type": "code",
   "execution_count": 2,
   "metadata": {},
   "outputs": [],
   "source": [
    "import matplotlib as mpl\n",
    "mpl.rcParams['pdf.fonttype'] = 42\n",
    "mpl.rcParams['font.family'] = 'Arial'"
   ]
  },
  {
   "cell_type": "code",
   "execution_count": 3,
   "metadata": {},
   "outputs": [],
   "source": [
    "import os\n",
    "import sys\n",
    "\n",
    "src_dir = './../../src/'\n",
    "sys.path[0] = src_dir\n",
    "\n",
    "import matplotlib.pyplot as plt\n",
    "\n",
    "\n",
    "import numpy as np\n",
    "import pandas as pd\n",
    "import seaborn as sns\n",
    "\n",
    "\n",
    "from access_biology_data import properties, annotation\n",
    "from access_science_shared import standardizer "
   ]
  },
  {
   "cell_type": "code",
   "execution_count": 4,
   "metadata": {},
   "outputs": [],
   "source": [
    "sys.path.append('./../src/')\n",
    "from aging_tools import inout, export\n",
    "\n",
    "from access_science_shared import standardizer, utils"
   ]
  },
  {
   "cell_type": "code",
   "execution_count": 5,
   "metadata": {},
   "outputs": [],
   "source": [
    "from scipy.stats import mannwhitneyu"
   ]
  },
  {
   "cell_type": "code",
   "execution_count": 6,
   "metadata": {},
   "outputs": [],
   "source": [
    "from scipy.stats import spearmanr"
   ]
  },
  {
   "cell_type": "code",
   "execution_count": 7,
   "metadata": {},
   "outputs": [],
   "source": [
    "from scipy.stats import spearmanr\n",
    "from natsort import natsorted"
   ]
  },
  {
   "cell_type": "code",
   "execution_count": 8,
   "metadata": {},
   "outputs": [],
   "source": [
    "save_images = False"
   ]
  },
  {
   "cell_type": "code",
   "execution_count": 9,
   "metadata": {},
   "outputs": [],
   "source": [
    "outfolder = '220216_takemon'"
   ]
  },
  {
   "cell_type": "code",
   "execution_count": null,
   "metadata": {},
   "outputs": [],
   "source": []
  },
  {
   "cell_type": "code",
   "execution_count": null,
   "metadata": {},
   "outputs": [],
   "source": []
  },
  {
   "cell_type": "code",
   "execution_count": 10,
   "metadata": {},
   "outputs": [
    {
     "name": "stderr",
     "output_type": "stream",
     "text": [
      "/Users/tstoeger/opt/miniconda3/envs/aging/lib/python3.7/site-packages/fastparquet/dataframe.py:5: FutureWarning: pandas.core.index is deprecated and will be removed in a future version.  The public classes are available in the top-level namespace.\n",
      "  from pandas.core.index import CategoricalIndex, RangeIndex, Index, MultiIndex\n"
     ]
    }
   ],
   "source": [
    "ref_genes = standardizer.reference_genes(10090, 'orp')"
   ]
  },
  {
   "cell_type": "code",
   "execution_count": 11,
   "metadata": {},
   "outputs": [],
   "source": [
    "pr = properties.genbank_validated_rna(10090)[\n",
    "    ['gene_ncbi', 'Genbank_validated_RNA: full_SumACGT']\n",
    "].rename(columns={\n",
    "    'Genbank_validated_RNA: full_SumACGT': 'length'\n",
    "})\n",
    "\n",
    "pr.loc[:, 'log_length'] = np.log10(pr['length'])\n",
    "pr = pr[pr['gene_ncbi'].isin(ref_genes)]"
   ]
  },
  {
   "cell_type": "code",
   "execution_count": 12,
   "metadata": {},
   "outputs": [],
   "source": [
    "p= inout.get_internal_path(\n",
    "    'datasets/general/resources/publications/takemon_2021/elife-62585-supp2-v2.csv'\n",
    ")\n"
   ]
  },
  {
   "cell_type": "code",
   "execution_count": 13,
   "metadata": {},
   "outputs": [],
   "source": [
    "df = pd.read_csv(p)"
   ]
  },
  {
   "cell_type": "code",
   "execution_count": null,
   "metadata": {},
   "outputs": [],
   "source": []
  },
  {
   "cell_type": "code",
   "execution_count": 14,
   "metadata": {},
   "outputs": [],
   "source": [
    "from access_science_shared import mapper"
   ]
  },
  {
   "cell_type": "code",
   "execution_count": 15,
   "metadata": {},
   "outputs": [],
   "source": [
    "df = df[['gene.id', 'z.age.prot', 'padj.age.prot']].groupby(\n",
    "    'gene.id').median().reset_index().rename(\n",
    "    columns={'gene.id': 'gene_ensembl'}\n",
    ")"
   ]
  },
  {
   "cell_type": "code",
   "execution_count": 16,
   "metadata": {},
   "outputs": [
    {
     "data": {
      "text/html": [
       "<div>\n",
       "<style scoped>\n",
       "    .dataframe tbody tr th:only-of-type {\n",
       "        vertical-align: middle;\n",
       "    }\n",
       "\n",
       "    .dataframe tbody tr th {\n",
       "        vertical-align: top;\n",
       "    }\n",
       "\n",
       "    .dataframe thead th {\n",
       "        text-align: right;\n",
       "    }\n",
       "</style>\n",
       "<table border=\"1\" class=\"dataframe\">\n",
       "  <thead>\n",
       "    <tr style=\"text-align: right;\">\n",
       "      <th></th>\n",
       "      <th>gene_ensembl</th>\n",
       "      <th>z.age.prot</th>\n",
       "      <th>padj.age.prot</th>\n",
       "    </tr>\n",
       "  </thead>\n",
       "  <tbody>\n",
       "    <tr>\n",
       "      <th>0</th>\n",
       "      <td>ENSMUSG00000000001</td>\n",
       "      <td>1.993034</td>\n",
       "      <td>1.000000</td>\n",
       "    </tr>\n",
       "    <tr>\n",
       "      <th>1</th>\n",
       "      <td>ENSMUSG00000000049</td>\n",
       "      <td>0.903524</td>\n",
       "      <td>1.000000</td>\n",
       "    </tr>\n",
       "    <tr>\n",
       "      <th>2</th>\n",
       "      <td>ENSMUSG00000000088</td>\n",
       "      <td>-7.611730</td>\n",
       "      <td>0.005379</td>\n",
       "    </tr>\n",
       "    <tr>\n",
       "      <th>3</th>\n",
       "      <td>ENSMUSG00000000127</td>\n",
       "      <td>1.757345</td>\n",
       "      <td>1.000000</td>\n",
       "    </tr>\n",
       "    <tr>\n",
       "      <th>4</th>\n",
       "      <td>ENSMUSG00000000148</td>\n",
       "      <td>-0.057306</td>\n",
       "      <td>1.000000</td>\n",
       "    </tr>\n",
       "    <tr>\n",
       "      <th>...</th>\n",
       "      <td>...</td>\n",
       "      <td>...</td>\n",
       "      <td>...</td>\n",
       "    </tr>\n",
       "    <tr>\n",
       "      <th>6510</th>\n",
       "      <td>ENSMUSG00000115338</td>\n",
       "      <td>2.171921</td>\n",
       "      <td>1.000000</td>\n",
       "    </tr>\n",
       "    <tr>\n",
       "      <th>6511</th>\n",
       "      <td>ENSMUSG00000115987</td>\n",
       "      <td>-1.119506</td>\n",
       "      <td>1.000000</td>\n",
       "    </tr>\n",
       "    <tr>\n",
       "      <th>6512</th>\n",
       "      <td>ENSMUSG00000116138</td>\n",
       "      <td>3.071400</td>\n",
       "      <td>1.000000</td>\n",
       "    </tr>\n",
       "    <tr>\n",
       "      <th>6513</th>\n",
       "      <td>ENSMUSG00000116275</td>\n",
       "      <td>1.577789</td>\n",
       "      <td>1.000000</td>\n",
       "    </tr>\n",
       "    <tr>\n",
       "      <th>6514</th>\n",
       "      <td>ENSMUSG00000117310</td>\n",
       "      <td>2.895411</td>\n",
       "      <td>1.000000</td>\n",
       "    </tr>\n",
       "  </tbody>\n",
       "</table>\n",
       "<p>6515 rows × 3 columns</p>\n",
       "</div>"
      ],
      "text/plain": [
       "            gene_ensembl  z.age.prot  padj.age.prot\n",
       "0     ENSMUSG00000000001    1.993034       1.000000\n",
       "1     ENSMUSG00000000049    0.903524       1.000000\n",
       "2     ENSMUSG00000000088   -7.611730       0.005379\n",
       "3     ENSMUSG00000000127    1.757345       1.000000\n",
       "4     ENSMUSG00000000148   -0.057306       1.000000\n",
       "...                  ...         ...            ...\n",
       "6510  ENSMUSG00000115338    2.171921       1.000000\n",
       "6511  ENSMUSG00000115987   -1.119506       1.000000\n",
       "6512  ENSMUSG00000116138    3.071400       1.000000\n",
       "6513  ENSMUSG00000116275    1.577789       1.000000\n",
       "6514  ENSMUSG00000117310    2.895411       1.000000\n",
       "\n",
       "[6515 rows x 3 columns]"
      ]
     },
     "execution_count": 16,
     "metadata": {},
     "output_type": "execute_result"
    }
   ],
   "source": [
    "df"
   ]
  },
  {
   "cell_type": "code",
   "execution_count": null,
   "metadata": {},
   "outputs": [],
   "source": []
  },
  {
   "cell_type": "code",
   "execution_count": 17,
   "metadata": {},
   "outputs": [],
   "source": [
    "df = mapper.gene_ensembl_2_gene_ncbi_unambiguously(\n",
    "    df, \n",
    "    10090\n",
    ").reset_index()"
   ]
  },
  {
   "cell_type": "code",
   "execution_count": 18,
   "metadata": {},
   "outputs": [],
   "source": [
    "d = pd.merge(df, pr)"
   ]
  },
  {
   "cell_type": "code",
   "execution_count": 19,
   "metadata": {},
   "outputs": [
    {
     "data": {
      "text/html": [
       "<div>\n",
       "<style scoped>\n",
       "    .dataframe tbody tr th:only-of-type {\n",
       "        vertical-align: middle;\n",
       "    }\n",
       "\n",
       "    .dataframe tbody tr th {\n",
       "        vertical-align: top;\n",
       "    }\n",
       "\n",
       "    .dataframe thead th {\n",
       "        text-align: right;\n",
       "    }\n",
       "</style>\n",
       "<table border=\"1\" class=\"dataframe\">\n",
       "  <thead>\n",
       "    <tr style=\"text-align: right;\">\n",
       "      <th></th>\n",
       "      <th>gene_ncbi</th>\n",
       "      <th>z.age.prot</th>\n",
       "      <th>padj.age.prot</th>\n",
       "      <th>length</th>\n",
       "      <th>log_length</th>\n",
       "    </tr>\n",
       "  </thead>\n",
       "  <tbody>\n",
       "    <tr>\n",
       "      <th>gene_ncbi</th>\n",
       "      <td>1.000000</td>\n",
       "      <td>-0.095709</td>\n",
       "      <td>0.074553</td>\n",
       "      <td>0.125452</td>\n",
       "      <td>0.125452</td>\n",
       "    </tr>\n",
       "    <tr>\n",
       "      <th>z.age.prot</th>\n",
       "      <td>-0.095709</td>\n",
       "      <td>1.000000</td>\n",
       "      <td>0.091894</td>\n",
       "      <td>-0.127462</td>\n",
       "      <td>-0.127462</td>\n",
       "    </tr>\n",
       "    <tr>\n",
       "      <th>padj.age.prot</th>\n",
       "      <td>0.074553</td>\n",
       "      <td>0.091894</td>\n",
       "      <td>1.000000</td>\n",
       "      <td>0.027783</td>\n",
       "      <td>0.027783</td>\n",
       "    </tr>\n",
       "    <tr>\n",
       "      <th>length</th>\n",
       "      <td>0.125452</td>\n",
       "      <td>-0.127462</td>\n",
       "      <td>0.027783</td>\n",
       "      <td>1.000000</td>\n",
       "      <td>1.000000</td>\n",
       "    </tr>\n",
       "    <tr>\n",
       "      <th>log_length</th>\n",
       "      <td>0.125452</td>\n",
       "      <td>-0.127462</td>\n",
       "      <td>0.027783</td>\n",
       "      <td>1.000000</td>\n",
       "      <td>1.000000</td>\n",
       "    </tr>\n",
       "  </tbody>\n",
       "</table>\n",
       "</div>"
      ],
      "text/plain": [
       "               gene_ncbi  z.age.prot  padj.age.prot    length  log_length\n",
       "gene_ncbi       1.000000   -0.095709       0.074553  0.125452    0.125452\n",
       "z.age.prot     -0.095709    1.000000       0.091894 -0.127462   -0.127462\n",
       "padj.age.prot   0.074553    0.091894       1.000000  0.027783    0.027783\n",
       "length          0.125452   -0.127462       0.027783  1.000000    1.000000\n",
       "log_length      0.125452   -0.127462       0.027783  1.000000    1.000000"
      ]
     },
     "execution_count": 19,
     "metadata": {},
     "output_type": "execute_result"
    }
   ],
   "source": [
    "d.corr('spearman')"
   ]
  },
  {
   "cell_type": "code",
   "execution_count": 20,
   "metadata": {},
   "outputs": [
    {
     "data": {
      "text/plain": [
       "<matplotlib.collections.PathCollection at 0x7fe2faccec88>"
      ]
     },
     "execution_count": 20,
     "metadata": {},
     "output_type": "execute_result"
    },
    {
     "data": {
      "image/png": "[encoded data removed]",
      "text/plain": [
       "<Figure size 432x288 with 1 Axes>"
      ]
     },
     "metadata": {
      "needs_background": "light"
     },
     "output_type": "display_data"
    }
   ],
   "source": [
    "plt.scatter(d['log_length'], d['z.age.prot'], s=1)"
   ]
  },
  {
   "cell_type": "code",
   "execution_count": null,
   "metadata": {},
   "outputs": [],
   "source": []
  },
  {
   "cell_type": "code",
   "execution_count": null,
   "metadata": {},
   "outputs": [],
   "source": []
  },
  {
   "cell_type": "code",
   "execution_count": 21,
   "metadata": {},
   "outputs": [
    {
     "data": {
      "text/plain": [
       "SpearmanrResult(correlation=-0.1274622100056197, pvalue=1.4050141766044488e-18)"
      ]
     },
     "execution_count": 21,
     "metadata": {},
     "output_type": "execute_result"
    }
   ],
   "source": [
    "spearmanr(d['length'], d['z.age.prot'])"
   ]
  },
  {
   "cell_type": "code",
   "execution_count": null,
   "metadata": {},
   "outputs": [],
   "source": []
  },
  {
   "cell_type": "code",
   "execution_count": 22,
   "metadata": {},
   "outputs": [
    {
     "data": {
      "image/png": "[encoded data removed]",
      "text/plain": [
       "<Figure size 432x288 with 1 Axes>"
      ]
     },
     "metadata": {
      "needs_background": "light"
     },
     "output_type": "display_data"
    }
   ],
   "source": [
    "sns.regplot(\n",
    "    x='log_length',\n",
    "    y='z.age.prot',\n",
    "    data=d,\n",
    "#     scatter_kws={'s': 1},\n",
    "    lowess=False,\n",
    "    scatter_kws={\"color\": \"lightgrey\", 's': 1}, \n",
    "    line_kws={\"color\": \"blue\"}\n",
    "\n",
    ")\n",
    "\n",
    "if save_images:\n",
    "    export.export_image(\n",
    "        f'{outfolder}/proteins.pdf')\n",
    "\n",
    "\n"
   ]
  },
  {
   "cell_type": "code",
   "execution_count": 23,
   "metadata": {},
   "outputs": [
    {
     "data": {
      "text/plain": [
       "SpearmanrResult(correlation=-0.1274622100056197, pvalue=1.4050141766044488e-18)"
      ]
     },
     "execution_count": 23,
     "metadata": {},
     "output_type": "execute_result"
    }
   ],
   "source": [
    "spearmanr(\n",
    "    d['log_length'],\n",
    "    d['z.age.prot']\n",
    ")"
   ]
  },
  {
   "cell_type": "code",
   "execution_count": 24,
   "metadata": {},
   "outputs": [
    {
     "data": {
      "image/png": "[encoded data removed]",
      "text/plain": [
       "<Figure size 432x288 with 1 Axes>"
      ]
     },
     "metadata": {
      "needs_background": "light"
     },
     "output_type": "display_data"
    }
   ],
   "source": [
    "\n",
    "\n",
    "sns.kdeplot(\n",
    "    d.loc[:, 'log_length'], d.loc[:, 'z.age.prot'], \n",
    "    color='gray',\n",
    "    shade=True, shade_lowest=False)\n",
    "plt.ylim([-15, 15])\n",
    "\n",
    "f = d['padj.age.prot'] < 0.01\n",
    "\n",
    "plt.scatter(d.loc[f, 'log_length'], d.loc[f, 'z.age.prot'], s=3, color='k')\n",
    "\n",
    "\n",
    "if save_images:\n",
    "    export.export_image(\n",
    "        f'{outfolder}/proteome_kde.pdf')\n",
    "\n"
   ]
  },
  {
   "cell_type": "code",
   "execution_count": 25,
   "metadata": {},
   "outputs": [
    {
     "data": {
      "text/plain": [
       "False    292\n",
       "True     186\n",
       "Name: up, dtype: int64"
      ]
     },
     "execution_count": 25,
     "metadata": {},
     "output_type": "execute_result"
    }
   ],
   "source": [
    "d['up'] = d['z.age.prot']>0\n",
    "d[f]['up'].value_counts()"
   ]
  },
  {
   "cell_type": "code",
   "execution_count": null,
   "metadata": {},
   "outputs": [],
   "source": []
  },
  {
   "cell_type": "code",
   "execution_count": null,
   "metadata": {},
   "outputs": [],
   "source": []
  },
  {
   "cell_type": "code",
   "execution_count": null,
   "metadata": {},
   "outputs": [],
   "source": []
  },
  {
   "cell_type": "code",
   "execution_count": null,
   "metadata": {},
   "outputs": [],
   "source": []
  },
  {
   "cell_type": "code",
   "execution_count": 26,
   "metadata": {},
   "outputs": [],
   "source": [
    "p= inout.get_internal_path(\n",
    "    'datasets/general/resources/publications/takemon_2021/elife-62585-supp1-v2.csv'\n",
    ")\n",
    "\n"
   ]
  },
  {
   "cell_type": "code",
   "execution_count": null,
   "metadata": {},
   "outputs": [],
   "source": []
  },
  {
   "cell_type": "code",
   "execution_count": 27,
   "metadata": {},
   "outputs": [],
   "source": [
    "df = pd.read_csv(p).dropna(subset=['padj.age.mrna'])\n",
    "# df = pd.read_csv(p)"
   ]
  },
  {
   "cell_type": "code",
   "execution_count": 28,
   "metadata": {},
   "outputs": [],
   "source": [
    "df = df.rename(\n",
    "    columns={'gene.id': 'gene_ensembl'}).groupby('gene_ensembl')[\n",
    "    ['fc.age.mrna', 'padj.age.mrna']].median().reset_index()"
   ]
  },
  {
   "cell_type": "code",
   "execution_count": 29,
   "metadata": {},
   "outputs": [],
   "source": [
    "df = mapper.gene_ensembl_2_gene_ncbi_unambiguously(\n",
    "    df, \n",
    "    10090\n",
    ").reset_index()"
   ]
  },
  {
   "cell_type": "code",
   "execution_count": 30,
   "metadata": {},
   "outputs": [],
   "source": [
    "d = pd.merge(df, pr)"
   ]
  },
  {
   "cell_type": "code",
   "execution_count": 31,
   "metadata": {},
   "outputs": [
    {
     "data": {
      "text/html": [
       "<div>\n",
       "<style scoped>\n",
       "    .dataframe tbody tr th:only-of-type {\n",
       "        vertical-align: middle;\n",
       "    }\n",
       "\n",
       "    .dataframe tbody tr th {\n",
       "        vertical-align: top;\n",
       "    }\n",
       "\n",
       "    .dataframe thead th {\n",
       "        text-align: right;\n",
       "    }\n",
       "</style>\n",
       "<table border=\"1\" class=\"dataframe\">\n",
       "  <thead>\n",
       "    <tr style=\"text-align: right;\">\n",
       "      <th></th>\n",
       "      <th>gene_ncbi</th>\n",
       "      <th>fc.age.mrna</th>\n",
       "      <th>padj.age.mrna</th>\n",
       "      <th>length</th>\n",
       "      <th>log_length</th>\n",
       "    </tr>\n",
       "  </thead>\n",
       "  <tbody>\n",
       "    <tr>\n",
       "      <th>0</th>\n",
       "      <td>14679</td>\n",
       "      <td>-0.029829</td>\n",
       "      <td>1.0</td>\n",
       "      <td>3294.0</td>\n",
       "      <td>3.517724</td>\n",
       "    </tr>\n",
       "    <tr>\n",
       "      <th>1</th>\n",
       "      <td>12544</td>\n",
       "      <td>0.075964</td>\n",
       "      <td>1.0</td>\n",
       "      <td>1972.5</td>\n",
       "      <td>3.295017</td>\n",
       "    </tr>\n",
       "    <tr>\n",
       "      <th>2</th>\n",
       "      <td>107815</td>\n",
       "      <td>-0.219411</td>\n",
       "      <td>1.0</td>\n",
       "      <td>4791.0</td>\n",
       "      <td>3.680426</td>\n",
       "    </tr>\n",
       "    <tr>\n",
       "      <th>3</th>\n",
       "      <td>11818</td>\n",
       "      <td>0.151670</td>\n",
       "      <td>1.0</td>\n",
       "      <td>1202.0</td>\n",
       "      <td>3.079904</td>\n",
       "    </tr>\n",
       "    <tr>\n",
       "      <th>4</th>\n",
       "      <td>67608</td>\n",
       "      <td>-0.051409</td>\n",
       "      <td>1.0</td>\n",
       "      <td>4426.0</td>\n",
       "      <td>3.646011</td>\n",
       "    </tr>\n",
       "    <tr>\n",
       "      <th>...</th>\n",
       "      <td>...</td>\n",
       "      <td>...</td>\n",
       "      <td>...</td>\n",
       "      <td>...</td>\n",
       "      <td>...</td>\n",
       "    </tr>\n",
       "    <tr>\n",
       "      <th>11755</th>\n",
       "      <td>66845</td>\n",
       "      <td>0.071384</td>\n",
       "      <td>1.0</td>\n",
       "      <td>484.0</td>\n",
       "      <td>2.684845</td>\n",
       "    </tr>\n",
       "    <tr>\n",
       "      <th>11756</th>\n",
       "      <td>17527</td>\n",
       "      <td>-0.053881</td>\n",
       "      <td>1.0</td>\n",
       "      <td>1721.0</td>\n",
       "      <td>3.235781</td>\n",
       "    </tr>\n",
       "    <tr>\n",
       "      <th>11757</th>\n",
       "      <td>15469</td>\n",
       "      <td>0.059091</td>\n",
       "      <td>1.0</td>\n",
       "      <td>1325.0</td>\n",
       "      <td>3.122216</td>\n",
       "    </tr>\n",
       "    <tr>\n",
       "      <th>11758</th>\n",
       "      <td>233033</td>\n",
       "      <td>-0.027663</td>\n",
       "      <td>1.0</td>\n",
       "      <td>4391.0</td>\n",
       "      <td>3.642563</td>\n",
       "    </tr>\n",
       "    <tr>\n",
       "      <th>11759</th>\n",
       "      <td>18226</td>\n",
       "      <td>0.028248</td>\n",
       "      <td>1.0</td>\n",
       "      <td>3746.0</td>\n",
       "      <td>3.573568</td>\n",
       "    </tr>\n",
       "  </tbody>\n",
       "</table>\n",
       "<p>11760 rows × 5 columns</p>\n",
       "</div>"
      ],
      "text/plain": [
       "       gene_ncbi  fc.age.mrna  padj.age.mrna  length  log_length\n",
       "0          14679    -0.029829            1.0  3294.0    3.517724\n",
       "1          12544     0.075964            1.0  1972.5    3.295017\n",
       "2         107815    -0.219411            1.0  4791.0    3.680426\n",
       "3          11818     0.151670            1.0  1202.0    3.079904\n",
       "4          67608    -0.051409            1.0  4426.0    3.646011\n",
       "...          ...          ...            ...     ...         ...\n",
       "11755      66845     0.071384            1.0   484.0    2.684845\n",
       "11756      17527    -0.053881            1.0  1721.0    3.235781\n",
       "11757      15469     0.059091            1.0  1325.0    3.122216\n",
       "11758     233033    -0.027663            1.0  4391.0    3.642563\n",
       "11759      18226     0.028248            1.0  3746.0    3.573568\n",
       "\n",
       "[11760 rows x 5 columns]"
      ]
     },
     "execution_count": 31,
     "metadata": {},
     "output_type": "execute_result"
    }
   ],
   "source": [
    "d"
   ]
  },
  {
   "cell_type": "code",
   "execution_count": 32,
   "metadata": {},
   "outputs": [
    {
     "data": {
      "text/plain": [
       "SpearmanrResult(correlation=-0.1634119869470989, pvalue=3.5116305311091198e-71)"
      ]
     },
     "execution_count": 32,
     "metadata": {},
     "output_type": "execute_result"
    }
   ],
   "source": [
    "spearmanr(d['length'], d['fc.age.mrna'])"
   ]
  },
  {
   "cell_type": "code",
   "execution_count": null,
   "metadata": {},
   "outputs": [],
   "source": []
  },
  {
   "cell_type": "code",
   "execution_count": 33,
   "metadata": {},
   "outputs": [
    {
     "data": {
      "text/plain": [
       "(11760, 5)"
      ]
     },
     "execution_count": 33,
     "metadata": {},
     "output_type": "execute_result"
    }
   ],
   "source": [
    "d.shape"
   ]
  },
  {
   "cell_type": "code",
   "execution_count": 34,
   "metadata": {},
   "outputs": [
    {
     "data": {
      "text/html": [
       "<div>\n",
       "<style scoped>\n",
       "    .dataframe tbody tr th:only-of-type {\n",
       "        vertical-align: middle;\n",
       "    }\n",
       "\n",
       "    .dataframe tbody tr th {\n",
       "        vertical-align: top;\n",
       "    }\n",
       "\n",
       "    .dataframe thead th {\n",
       "        text-align: right;\n",
       "    }\n",
       "</style>\n",
       "<table border=\"1\" class=\"dataframe\">\n",
       "  <thead>\n",
       "    <tr style=\"text-align: right;\">\n",
       "      <th></th>\n",
       "      <th>gene_ncbi</th>\n",
       "      <th>fc.age.mrna</th>\n",
       "      <th>padj.age.mrna</th>\n",
       "      <th>length</th>\n",
       "      <th>log_length</th>\n",
       "    </tr>\n",
       "  </thead>\n",
       "  <tbody>\n",
       "    <tr>\n",
       "      <th>gene_ncbi</th>\n",
       "      <td>1.000000</td>\n",
       "      <td>-0.054115</td>\n",
       "      <td>0.074024</td>\n",
       "      <td>0.095362</td>\n",
       "      <td>0.095362</td>\n",
       "    </tr>\n",
       "    <tr>\n",
       "      <th>fc.age.mrna</th>\n",
       "      <td>-0.054115</td>\n",
       "      <td>1.000000</td>\n",
       "      <td>-0.255471</td>\n",
       "      <td>-0.163412</td>\n",
       "      <td>-0.163412</td>\n",
       "    </tr>\n",
       "    <tr>\n",
       "      <th>padj.age.mrna</th>\n",
       "      <td>0.074024</td>\n",
       "      <td>-0.255471</td>\n",
       "      <td>1.000000</td>\n",
       "      <td>0.017486</td>\n",
       "      <td>0.017486</td>\n",
       "    </tr>\n",
       "    <tr>\n",
       "      <th>length</th>\n",
       "      <td>0.095362</td>\n",
       "      <td>-0.163412</td>\n",
       "      <td>0.017486</td>\n",
       "      <td>1.000000</td>\n",
       "      <td>1.000000</td>\n",
       "    </tr>\n",
       "    <tr>\n",
       "      <th>log_length</th>\n",
       "      <td>0.095362</td>\n",
       "      <td>-0.163412</td>\n",
       "      <td>0.017486</td>\n",
       "      <td>1.000000</td>\n",
       "      <td>1.000000</td>\n",
       "    </tr>\n",
       "  </tbody>\n",
       "</table>\n",
       "</div>"
      ],
      "text/plain": [
       "               gene_ncbi  fc.age.mrna  padj.age.mrna    length  log_length\n",
       "gene_ncbi       1.000000    -0.054115       0.074024  0.095362    0.095362\n",
       "fc.age.mrna    -0.054115     1.000000      -0.255471 -0.163412   -0.163412\n",
       "padj.age.mrna   0.074024    -0.255471       1.000000  0.017486    0.017486\n",
       "length          0.095362    -0.163412       0.017486  1.000000    1.000000\n",
       "log_length      0.095362    -0.163412       0.017486  1.000000    1.000000"
      ]
     },
     "execution_count": 34,
     "metadata": {},
     "output_type": "execute_result"
    }
   ],
   "source": [
    "d.corr('spearman')"
   ]
  },
  {
   "cell_type": "code",
   "execution_count": 35,
   "metadata": {},
   "outputs": [
    {
     "data": {
      "image/png": "[encoded data removed]",
      "text/plain": [
       "<Figure size 432x288 with 1 Axes>"
      ]
     },
     "metadata": {
      "needs_background": "light"
     },
     "output_type": "display_data"
    }
   ],
   "source": [
    "sns.regplot(\n",
    "    x='log_length',\n",
    "    y='fc.age.mrna',\n",
    "    data=d,\n",
    "#     scatter_kws={'s': 1},\n",
    "    lowess=False,\n",
    "    scatter_kws={\"color\": \"lightgrey\", 's': 1}, \n",
    "    line_kws={\"color\": \"blue\"}\n",
    "\n",
    ")\n",
    "plt.ylim([-1, 1])\n",
    "\n",
    "if save_images:\n",
    "    export.export_image(\n",
    "        f'{outfolder}/transcripts.pdf')\n",
    "\n"
   ]
  },
  {
   "cell_type": "code",
   "execution_count": 36,
   "metadata": {},
   "outputs": [
    {
     "data": {
      "text/plain": [
       "0       False\n",
       "1       False\n",
       "2        True\n",
       "3       False\n",
       "4       False\n",
       "        ...  \n",
       "4722    False\n",
       "4723    False\n",
       "4724    False\n",
       "4725    False\n",
       "4726    False\n",
       "Name: padj.age.prot, Length: 4727, dtype: bool"
      ]
     },
     "execution_count": 36,
     "metadata": {},
     "output_type": "execute_result"
    }
   ],
   "source": [
    "f"
   ]
  },
  {
   "cell_type": "code",
   "execution_count": null,
   "metadata": {},
   "outputs": [],
   "source": []
  },
  {
   "cell_type": "code",
   "execution_count": 37,
   "metadata": {},
   "outputs": [
    {
     "data": {
      "image/png": "[encoded data removed]",
      "text/plain": [
       "<Figure size 432x288 with 1 Axes>"
      ]
     },
     "metadata": {
      "needs_background": "light"
     },
     "output_type": "display_data"
    }
   ],
   "source": [
    "sns.kdeplot(\n",
    "    d.loc[:, 'log_length'], d.loc[:, 'fc.age.mrna'], \n",
    "    color='gray',\n",
    "    shade=True, shade_lowest=False)\n",
    "\n",
    "f = d['padj.age.mrna'] < 0.01\n",
    "\n",
    "plt.scatter(d.loc[f, 'log_length'], d.loc[f, 'fc.age.mrna'], s=3, color='k')\n",
    "\n",
    "\n",
    "\n",
    "\n",
    "# sns.kdeplot(\n",
    "#     d.loc[f, 'log_length'], d.loc[f, 'fc.age.mrna'], \n",
    "#     color='gray',\n",
    "#     shade=True, shade_lowest=False)\n",
    "plt.ylim([-1, 1])\n",
    "\n",
    "if save_images:\n",
    "    export.export_image(\n",
    "        f'{outfolder}/transcripts_kde.pdf')\n",
    "\n"
   ]
  },
  {
   "cell_type": "code",
   "execution_count": 40,
   "metadata": {},
   "outputs": [
    {
     "data": {
      "text/plain": [
       "True     186\n",
       "False     10\n",
       "Name: up, dtype: int64"
      ]
     },
     "execution_count": 40,
     "metadata": {},
     "output_type": "execute_result"
    }
   ],
   "source": [
    "d['up'] = d['fc.age.mrna']>0\n",
    "d[f]['up'].value_counts()"
   ]
  },
  {
   "cell_type": "code",
   "execution_count": null,
   "metadata": {},
   "outputs": [],
   "source": []
  },
  {
   "cell_type": "code",
   "execution_count": null,
   "metadata": {},
   "outputs": [],
   "source": []
  }
 ],
 "metadata": {
  "kernelspec": {
   "display_name": "Python 3",
   "language": "python",
   "name": "python3"
  },
  "language_info": {
   "codemirror_mode": {
    "name": "ipython",
    "version": 3
   },
   "file_extension": ".py",
   "mimetype": "text/x-python",
   "name": "python",
   "nbconvert_exporter": "python",
   "pygments_lexer": "ipython3",
   "version": "3.7.3"
  },
  "toc": {
   "base_numbering": 1,
   "nav_menu": {},
   "number_sections": true,
   "sideBar": true,
   "skip_h1_title": false,
   "title_cell": "Table of Contents",
   "title_sidebar": "Contents",
   "toc_cell": false,
   "toc_position": {},
   "toc_section_display": true,
   "toc_window_display": false
  }
 },
 "nbformat": 4,
 "nbformat_minor": 2
}
