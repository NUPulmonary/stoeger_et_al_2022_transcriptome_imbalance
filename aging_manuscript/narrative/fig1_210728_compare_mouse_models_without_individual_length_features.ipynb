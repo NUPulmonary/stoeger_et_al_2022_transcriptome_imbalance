{
 "cells": [
  {
   "cell_type": "code",
   "execution_count": 1,
   "metadata": {},
   "outputs": [],
   "source": [
    "%matplotlib inline \n",
    "%reload_ext autoreload\n",
    "%autoreload 2"
   ]
  },
  {
   "cell_type": "code",
   "execution_count": 2,
   "metadata": {},
   "outputs": [],
   "source": [
    "import matplotlib as mpl\n",
    "mpl.rcParams['pdf.fonttype'] = 42\n",
    "mpl.rcParams['font.family'] = 'Arial'"
   ]
  },
  {
   "cell_type": "code",
   "execution_count": 3,
   "metadata": {},
   "outputs": [],
   "source": [
    "import os\n",
    "\n",
    "import numpy as np\n",
    "import pandas as pd\n",
    "import seaborn as sns\n",
    "\n",
    "import matplotlib.pyplot as plt\n",
    "\n",
    "from scipy.stats import spearmanr"
   ]
  },
  {
   "cell_type": "code",
   "execution_count": 4,
   "metadata": {},
   "outputs": [],
   "source": [
    "from access_biology_data import meta, relations, annotation, properties\n",
    "from access_literature_data import medline\n",
    "from access_science_shared import standardizer\n",
    "\n",
    "import sys\n",
    "sys.path.append('./../src/')\n",
    "from aging_tools import inout, export, calculators\n",
    "from access_aging_data import chaperome, earlier_studies, sequencing\n"
   ]
  },
  {
   "cell_type": "code",
   "execution_count": 5,
   "metadata": {},
   "outputs": [],
   "source": [
    "import random"
   ]
  },
  {
   "cell_type": "code",
   "execution_count": 6,
   "metadata": {},
   "outputs": [],
   "source": [
    "import matplotlib\n",
    "matplotlib.rcParams.update({'font.size': 10})"
   ]
  },
  {
   "cell_type": "code",
   "execution_count": 7,
   "metadata": {},
   "outputs": [],
   "source": [
    "out_folder = '210728_compare_mouse_models_without_individual_length_features'"
   ]
  },
  {
   "cell_type": "code",
   "execution_count": 8,
   "metadata": {},
   "outputs": [],
   "source": [
    "save_images = True\n"
   ]
  },
  {
   "cell_type": "code",
   "execution_count": 9,
   "metadata": {},
   "outputs": [],
   "source": [
    "from narrative import nar181026_heat_confidence_genes"
   ]
  },
  {
   "cell_type": "code",
   "execution_count": 10,
   "metadata": {},
   "outputs": [
    {
     "name": "stderr",
     "output_type": "stream",
     "text": [
      "/Users/tstoeger/opt/miniconda3/envs/aging/lib/python3.7/site-packages/fastparquet/dataframe.py:5: FutureWarning: pandas.core.index is deprecated and will be removed in a future version.  The public classes are available in the top-level namespace.\n",
      "  from pandas.core.index import CategoricalIndex, RangeIndex, Index, MultiIndex\n"
     ]
    }
   ],
   "source": [
    "ref_genes = standardizer.reference_genes(10090, 'orp')  # only consider supported protein coding-genes"
   ]
  },
  {
   "cell_type": "code",
   "execution_count": 11,
   "metadata": {},
   "outputs": [],
   "source": [
    "all_de, detection, mice_in_comparisons, triplicate_series = nar181026_heat_confidence_genes.load_detection(\n",
    "    detection_column='padj')\n",
    "\n",
    "tissues_to_consider = ['BAT', 'Blood', 'GutEP', 'MuscSat', 'Adrenal', 'Kidney',\n",
    "       'Heart', 'Liver', 'Skin', 'Stomach', 'Brain', 'SI',\n",
    "       'LI', 'Cerebellum', 'WAT', 'Esophagus', 'Lung'] \n",
    "pfus=[0]"
   ]
  },
  {
   "cell_type": "code",
   "execution_count": 12,
   "metadata": {},
   "outputs": [],
   "source": [
    "all_de = all_de[\n",
    "    (all_de['younger'] == 4) & \n",
    "    (all_de['is_detected'] == True) &\n",
    "    (all_de['de_unit'] == 'both') &\n",
    "    (all_de['tissue'].isin(tissues_to_consider)) &\n",
    "    (all_de['pfu'].isin(pfus)) & \n",
    "    (all_de['gene_ncbi'].isin(ref_genes))\n",
    "]\n",
    "all_de['significant'] = all_de['padj'] < 0.05"
   ]
  },
  {
   "cell_type": "code",
   "execution_count": 13,
   "metadata": {},
   "outputs": [],
   "source": [
    "sign = all_de[['condition', 'significant']].groupby('condition').agg(sum)"
   ]
  },
  {
   "cell_type": "code",
   "execution_count": 14,
   "metadata": {},
   "outputs": [],
   "source": [
    "def get_prediction_score(in_folder):\n",
    "\n",
    "    agg = []\n",
    "\n",
    "    for condition in all_de['condition'].unique():\n",
    "\n",
    "        p = export.get_material_path(\n",
    "            '{}/predictions_{}.csv'.format(in_folder, condition))\n",
    "        if os.path.exists(p):\n",
    "            agg.append(pd.read_csv(p))\n",
    "\n",
    "\n",
    "    df = pd.concat(agg).rename(columns={'Unnamed: 0': 'condition'}).set_index('condition')\n",
    "    df['mean'] = df.mean(1)\n",
    "    d = pd.merge(sign.reset_index(), df[['mean']].reset_index())\n",
    "    f = d['significant'] > 0\n",
    "    d.loc[f, 'log_significant'] = d.loc[f, 'significant'].apply(lambda x: np.log10(x))\n",
    "\n",
    "    zeros = sum(~f)\n",
    "\n",
    "    h = []\n",
    "    for j in range(zeros):\n",
    "        h.append(-1 + random.randrange(0, 10)/20)\n",
    "    d.loc[~f, 'log_significant'] = h\n",
    "\n",
    "    f = d['condition'].str.contains('_0_4_[0-9]*$')\n",
    "    d = d[f]\n",
    "\n",
    "    d = pd.merge(d, all_de[['condition', 'younger', 'older']].drop_duplicates())\n",
    "\n",
    "    d = d.set_index('condition')\n",
    "\n",
    "    helper = pd.merge(\n",
    "        d.reset_index()[['condition', 'mean']],\n",
    "        all_de[['condition', 'tissue', 'older']].drop_duplicates()\n",
    "    ).pivot(index='tissue', columns='older', values='mean')\n",
    "    \n",
    "    return helper"
   ]
  },
  {
   "cell_type": "code",
   "execution_count": 15,
   "metadata": {},
   "outputs": [],
   "source": [
    "helper_g = get_prediction_score('210728_predict_fold_change_mouse_24_no_gene_SumACGT')\n",
    "helper_g = helper_g.rename(columns={24: 'no_gene_length'})"
   ]
  },
  {
   "cell_type": "code",
   "execution_count": 16,
   "metadata": {},
   "outputs": [],
   "source": [
    "helper_c = get_prediction_score('210728_predict_fold_change_mouse_24_no_rna_cds_SumACGT')\n",
    "helper_c = helper_c.rename(columns={24: 'no_cds_length'})"
   ]
  },
  {
   "cell_type": "code",
   "execution_count": 17,
   "metadata": {},
   "outputs": [],
   "source": [
    "helper_r = get_prediction_score('210728_predict_fold_change_mouse_24_no_rna_full_SumACGT')\n",
    "helper_r = helper_r.rename(columns={24: 'no_rna_length'})"
   ]
  },
  {
   "cell_type": "code",
   "execution_count": 18,
   "metadata": {},
   "outputs": [],
   "source": [
    "helper_a = get_prediction_score('190406_predict_fold_change_mouse')\n",
    "helper_a = helper_a[[24]].rename(columns={24: 'all'})"
   ]
  },
  {
   "cell_type": "code",
   "execution_count": 19,
   "metadata": {},
   "outputs": [],
   "source": [
    "m = pd.concat([helper_g, helper_r, helper_c, helper_a], axis=1)"
   ]
  },
  {
   "cell_type": "code",
   "execution_count": 20,
   "metadata": {},
   "outputs": [],
   "source": [
    "def nice_plot(h):\n",
    "    t = h.copy()\n",
    "    \n",
    "    tissue_dict = {\n",
    "        'Adrenal': 'Adrenal gland',\n",
    "        'BAT': 'Brown adipose tissue',\n",
    "        'Blood': 'Blood',\n",
    "        'Brain': 'Frontal cortex',\n",
    "        'Cerebellum': 'Cerebellum',\n",
    "        'Esophagus': 'Esophagus',\n",
    "        'GutEP': 'Gut epithelium',\n",
    "        'Heart': 'Heart',\n",
    "        'Kidney': 'Kidney',\n",
    "        'LI': 'Large intestine',\n",
    "        'Liver': 'Liver',\n",
    "        'Lung': 'Lung',\n",
    "        'MuscSat': 'Muscle',\n",
    "        'SI': 'Small intestine',\n",
    "        'Skin': 'Skin',\n",
    "        'Stomach': 'Stomach',\n",
    "        'WAT': 'White adipose tissue'\n",
    "    }\n",
    "    \n",
    "    t = t.rename(index=tissue_dict)\n",
    "    t = t.sort_index()\n",
    "    \n",
    "    plt.figure(figsize=(4, 5))\n",
    "\n",
    "\n",
    "    sns.heatmap(\n",
    "        t, \n",
    "        cmap='YlOrBr', \n",
    "        annot=True,\n",
    "        vmin=0,\n",
    "        vmax=0.5\n",
    "    )"
   ]
  },
  {
   "cell_type": "code",
   "execution_count": 21,
   "metadata": {},
   "outputs": [
    {
     "data": {
      "image/png": "[encoded data removed]",
      "text/plain": [
       "<Figure size 288x360 with 2 Axes>"
      ]
     },
     "metadata": {
      "needs_background": "light"
     },
     "output_type": "display_data"
    }
   ],
   "source": [
    "nice_plot(m)\n",
    "\n",
    "\n",
    "\n",
    "if save_images:\n",
    "    export.export_image(\n",
    "    '{}/table.pdf'.format(out_folder))"
   ]
  },
  {
   "cell_type": "code",
   "execution_count": null,
   "metadata": {},
   "outputs": [],
   "source": []
  },
  {
   "cell_type": "code",
   "execution_count": null,
   "metadata": {},
   "outputs": [],
   "source": []
  },
  {
   "cell_type": "code",
   "execution_count": null,
   "metadata": {},
   "outputs": [],
   "source": []
  },
  {
   "cell_type": "code",
   "execution_count": null,
   "metadata": {},
   "outputs": [],
   "source": []
  },
  {
   "cell_type": "code",
   "execution_count": null,
   "metadata": {},
   "outputs": [],
   "source": []
  }
 ],
 "metadata": {
  "kernelspec": {
   "display_name": "Python 3",
   "language": "python",
   "name": "python3"
  },
  "language_info": {
   "codemirror_mode": {
    "name": "ipython",
    "version": 3
   },
   "file_extension": ".py",
   "mimetype": "text/x-python",
   "name": "python",
   "nbconvert_exporter": "python",
   "pygments_lexer": "ipython3",
   "version": "3.7.3"
  },
  "toc": {
   "base_numbering": 1,
   "nav_menu": {},
   "number_sections": true,
   "sideBar": true,
   "skip_h1_title": false,
   "title_cell": "Table of Contents",
   "title_sidebar": "Contents",
   "toc_cell": false,
   "toc_position": {},
   "toc_section_display": true,
   "toc_window_display": false
  }
 },
 "nbformat": 4,
 "nbformat_minor": 2
}
