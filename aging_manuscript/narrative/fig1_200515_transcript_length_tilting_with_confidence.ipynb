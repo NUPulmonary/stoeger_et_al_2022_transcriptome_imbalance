{
 "cells": [
  {
   "cell_type": "code",
   "execution_count": 1,
   "metadata": {},
   "outputs": [],
   "source": [
    "%matplotlib inline\n",
    "%reload_ext autoreload\n",
    "%autoreload 2"
   ]
  },
  {
   "cell_type": "code",
   "execution_count": 2,
   "metadata": {},
   "outputs": [],
   "source": [
    "import matplotlib as mpl\n",
    "mpl.rcParams['pdf.fonttype'] = 42\n",
    "mpl.rcParams['font.family'] = 'Arial'"
   ]
  },
  {
   "cell_type": "code",
   "execution_count": 3,
   "metadata": {},
   "outputs": [],
   "source": [
    "import os\n",
    "import sys\n",
    "\n",
    "src_dir = './../../src/'\n",
    "sys.path[0] = src_dir\n",
    "\n",
    "import matplotlib.pyplot as plt\n",
    "\n",
    "import glob\n",
    "\n",
    "import numpy as np\n",
    "import pandas as pd\n",
    "import seaborn as sns\n",
    "\n",
    "from collections import OrderedDict\n",
    "\n",
    "from access_biology_data import meta, relations, properties\n",
    "from access_literature_data import medline\n",
    "from access_science_shared import standardizer "
   ]
  },
  {
   "cell_type": "code",
   "execution_count": 4,
   "metadata": {},
   "outputs": [],
   "source": [
    "sys.path.append('./../src/')\n",
    "from aging_tools import inout, export\n",
    "from access_aging_data import earlier_studies, chaperome, companions, sequencing\n",
    "\n",
    "from access_science_shared import standardizer"
   ]
  },
  {
   "cell_type": "code",
   "execution_count": 5,
   "metadata": {},
   "outputs": [],
   "source": [
    "from scipy.stats import mannwhitneyu"
   ]
  },
  {
   "cell_type": "code",
   "execution_count": 6,
   "metadata": {},
   "outputs": [],
   "source": [
    "from narrative import nar181026_heat_confidence_genes\n",
    "from narrative import nar181205_networks"
   ]
  },
  {
   "cell_type": "code",
   "execution_count": 7,
   "metadata": {},
   "outputs": [],
   "source": [
    "from scipy.stats import spearmanr\n",
    "from natsort import natsorted"
   ]
  },
  {
   "cell_type": "code",
   "execution_count": 8,
   "metadata": {},
   "outputs": [],
   "source": [
    "save_images = False"
   ]
  },
  {
   "cell_type": "code",
   "execution_count": 9,
   "metadata": {},
   "outputs": [],
   "source": [
    "outfolder = '200515_transcript_length_tilting_with_confidence'"
   ]
  },
  {
   "cell_type": "code",
   "execution_count": null,
   "metadata": {},
   "outputs": [],
   "source": []
  },
  {
   "cell_type": "code",
   "execution_count": 10,
   "metadata": {},
   "outputs": [
    {
     "name": "stderr",
     "output_type": "stream",
     "text": [
      "/Users/tstoeger/opt/miniconda3/envs/aging/lib/python3.7/site-packages/fastparquet/dataframe.py:5: FutureWarning: pandas.core.index is deprecated and will be removed in a future version.  The public classes are available in the top-level namespace.\n",
      "  from pandas.core.index import CategoricalIndex, RangeIndex, Index, MultiIndex\n"
     ]
    }
   ],
   "source": [
    "ref_genes = standardizer.reference_genes(10090, 'orp')"
   ]
  },
  {
   "cell_type": "code",
   "execution_count": 11,
   "metadata": {},
   "outputs": [],
   "source": [
    "pr = properties.genbank_validated_rna(10090)[\n",
    "    ['gene_ncbi', 'Genbank_validated_RNA: full_SumACGT']\n",
    "].rename(columns={\n",
    "    'Genbank_validated_RNA: full_SumACGT': 'length'\n",
    "})\n",
    "\n",
    "pr.loc[:, 'log_length'] = np.log10(pr['length'])\n",
    "pr = pr[pr['gene_ncbi'].isin(ref_genes)]"
   ]
  },
  {
   "cell_type": "code",
   "execution_count": 12,
   "metadata": {},
   "outputs": [],
   "source": [
    "all_de, detection, mice_in_comparisons, triplicate_series = nar181026_heat_confidence_genes.load_detection(\n",
    "    detection_column='padj')\n",
    "\n",
    "\n",
    "tissues_to_consider = ['BAT', 'Blood', 'GutEP', 'MuscSat', 'Adrenal', 'Kidney',\n",
    "       'Heart', 'Liver', 'Skin', 'Stomach', 'Brain', 'SI',\n",
    "       'LI', 'Cerebellum', 'WAT', 'Esophagus', 'Lung'] \n",
    "\n",
    "all_de = all_de[\n",
    "    (all_de['tissue'].isin(tissues_to_consider)) & \n",
    "    (all_de['pfu']==0) &\n",
    "    (all_de['gene_ncbi'].isin(ref_genes)) & \n",
    "    (all_de['padj'].notnull()) &\n",
    "    (all_de['younger']==4)\n",
    "]\n"
   ]
  },
  {
   "cell_type": "code",
   "execution_count": 13,
   "metadata": {},
   "outputs": [],
   "source": [
    "conditions = natsorted(all_de['condition'].unique())"
   ]
  },
  {
   "cell_type": "code",
   "execution_count": 14,
   "metadata": {},
   "outputs": [],
   "source": [
    "out = pd.DataFrame(index=conditions, columns=[\n",
    "    'corr', 'pval'\n",
    "]).rename_axis('condition')"
   ]
  },
  {
   "cell_type": "code",
   "execution_count": 15,
   "metadata": {},
   "outputs": [],
   "source": [
    "for condition in conditions:\n",
    "    d = all_de[\n",
    "        (all_de['de_unit']=='both') & (all_de['condition']==condition)\n",
    "    ]\n",
    "\n",
    "    d = d[['gene_ncbi', 'o_over_y']].dropna()\n",
    "    d = pd.merge(d, pr)\n",
    "\n",
    "    r, p = spearmanr(d['log_length'], d['o_over_y'])\n",
    "    d = d.set_index('gene_ncbi')\n",
    "\n",
    "    out.loc[condition, 'corr'] = r\n",
    "    out.loc[condition, 'pval'] = p"
   ]
  },
  {
   "cell_type": "code",
   "execution_count": 16,
   "metadata": {},
   "outputs": [],
   "source": [
    "out = out.reset_index()"
   ]
  },
  {
   "cell_type": "code",
   "execution_count": 17,
   "metadata": {},
   "outputs": [],
   "source": [
    "out = pd.merge(out, all_de[['condition', 'younger', 'older']].drop_duplicates())"
   ]
  },
  {
   "cell_type": "code",
   "execution_count": 18,
   "metadata": {},
   "outputs": [],
   "source": [
    "# add addtional labels\n",
    "helper = pd.merge(\n",
    "    out,\n",
    "    all_de[['condition', 'tissue', 'younger', 'older']].drop_duplicates()\n",
    ")"
   ]
  },
  {
   "cell_type": "code",
   "execution_count": 19,
   "metadata": {},
   "outputs": [],
   "source": [
    "df_between_ages = helper[['tissue', 'older', 'corr']].copy()\n",
    "df_between_ages.loc[:, 'origin'] = 'data'"
   ]
  },
  {
   "cell_type": "code",
   "execution_count": null,
   "metadata": {},
   "outputs": [],
   "source": []
  },
  {
   "cell_type": "code",
   "execution_count": 20,
   "metadata": {},
   "outputs": [],
   "source": [
    "p = inout.get_internal_path(\n",
    "    'datasets/tstoeger/200129_pool_inner_bootstraps/age_groups.csv.gz')"
   ]
  },
  {
   "cell_type": "code",
   "execution_count": 21,
   "metadata": {},
   "outputs": [],
   "source": [
    "df_b = pd.read_csv(p)\n",
    "tissues_to_consider = ['BAT', 'Blood', 'GutEP', 'MuscSat', 'Adrenal', 'Kidney',\n",
    "       'Heart', 'Liver', 'Skin', 'Stomach', 'Brain', 'SI',\n",
    "       'LI', 'Cerebellum', 'WAT', 'Esophagus', 'Lung'] "
   ]
  },
  {
   "cell_type": "code",
   "execution_count": 22,
   "metadata": {},
   "outputs": [],
   "source": [
    "df_b = df_b[\n",
    "    df_b['tissue'].isin(tissues_to_consider)\n",
    "].copy()"
   ]
  },
  {
   "cell_type": "code",
   "execution_count": 23,
   "metadata": {},
   "outputs": [],
   "source": [
    "df_b = df_b.dropna(subset=['gene_ncbi', 'padj'])   # now indlude analogosus filtering"
   ]
  },
  {
   "cell_type": "code",
   "execution_count": 24,
   "metadata": {},
   "outputs": [],
   "source": [
    "master_b = pd.merge(df_b, pr)"
   ]
  },
  {
   "cell_type": "code",
   "execution_count": 25,
   "metadata": {},
   "outputs": [],
   "source": [
    "grouped = master_b.groupby(['tissue', 'age', 'animals'])"
   ]
  },
  {
   "cell_type": "code",
   "execution_count": 26,
   "metadata": {},
   "outputs": [],
   "source": [
    "agg = []\n",
    "for name, group in grouped:\n",
    "    tissue, age, animals = name\n",
    "    rho, pval = spearmanr(group['length'], group['o_over_y'])\n",
    "    \n",
    "    res = dict()\n",
    "    res['tissue'] = tissue\n",
    "    res['age'] = age\n",
    "    res['rho'] = rho\n",
    "    res['pval'] = pval\n",
    "    res['animals'] = animals\n",
    "    \n",
    "    agg.append(res)"
   ]
  },
  {
   "cell_type": "code",
   "execution_count": 27,
   "metadata": {},
   "outputs": [],
   "source": [
    "mega = pd.DataFrame(agg)"
   ]
  },
  {
   "cell_type": "code",
   "execution_count": 28,
   "metadata": {},
   "outputs": [],
   "source": [
    "helper = mega.groupby(['tissue', 'age']).agg(np.median).reset_index()"
   ]
  },
  {
   "cell_type": "code",
   "execution_count": 29,
   "metadata": {},
   "outputs": [],
   "source": [
    "df_combos = helper[['tissue', 'age', 'rho']].rename(columns={\n",
    "        'age': 'older',\n",
    "        'rho': 'corr'\n",
    "    })"
   ]
  },
  {
   "cell_type": "code",
   "execution_count": 30,
   "metadata": {},
   "outputs": [],
   "source": [
    "df_combos.loc[:, 'origin'] = 'median'"
   ]
  },
  {
   "cell_type": "code",
   "execution_count": 31,
   "metadata": {},
   "outputs": [
    {
     "data": {
      "text/html": [
       "<div>\n",
       "<style scoped>\n",
       "    .dataframe tbody tr th:only-of-type {\n",
       "        vertical-align: middle;\n",
       "    }\n",
       "\n",
       "    .dataframe tbody tr th {\n",
       "        vertical-align: top;\n",
       "    }\n",
       "\n",
       "    .dataframe thead th {\n",
       "        text-align: right;\n",
       "    }\n",
       "</style>\n",
       "<table border=\"1\" class=\"dataframe\">\n",
       "  <thead>\n",
       "    <tr style=\"text-align: right;\">\n",
       "      <th></th>\n",
       "      <th>tissue</th>\n",
       "      <th>older</th>\n",
       "      <th>corr</th>\n",
       "      <th>origin</th>\n",
       "    </tr>\n",
       "  </thead>\n",
       "  <tbody>\n",
       "    <tr>\n",
       "      <th>0</th>\n",
       "      <td>Adrenal</td>\n",
       "      <td>4</td>\n",
       "      <td>6.405164e-03</td>\n",
       "      <td>median</td>\n",
       "    </tr>\n",
       "    <tr>\n",
       "      <th>1</th>\n",
       "      <td>Adrenal</td>\n",
       "      <td>9</td>\n",
       "      <td>1.553793e-05</td>\n",
       "      <td>median</td>\n",
       "    </tr>\n",
       "    <tr>\n",
       "      <th>2</th>\n",
       "      <td>Adrenal</td>\n",
       "      <td>12</td>\n",
       "      <td>-4.141488e-06</td>\n",
       "      <td>median</td>\n",
       "    </tr>\n",
       "    <tr>\n",
       "      <th>3</th>\n",
       "      <td>Adrenal</td>\n",
       "      <td>18</td>\n",
       "      <td>1.426022e-03</td>\n",
       "      <td>median</td>\n",
       "    </tr>\n",
       "    <tr>\n",
       "      <th>4</th>\n",
       "      <td>Adrenal</td>\n",
       "      <td>24</td>\n",
       "      <td>2.115428e-08</td>\n",
       "      <td>median</td>\n",
       "    </tr>\n",
       "  </tbody>\n",
       "</table>\n",
       "</div>"
      ],
      "text/plain": [
       "    tissue  older          corr  origin\n",
       "0  Adrenal      4  6.405164e-03  median\n",
       "1  Adrenal      9  1.553793e-05  median\n",
       "2  Adrenal     12 -4.141488e-06  median\n",
       "3  Adrenal     18  1.426022e-03  median\n",
       "4  Adrenal     24  2.115428e-08  median"
      ]
     },
     "execution_count": 31,
     "metadata": {},
     "output_type": "execute_result"
    }
   ],
   "source": [
    "df_combos.head()"
   ]
  },
  {
   "cell_type": "code",
   "execution_count": 32,
   "metadata": {},
   "outputs": [],
   "source": [
    "df_variations = mega[['tissue', 'age', 'rho']].rename(columns={\n",
    "        'age': 'older',\n",
    "        'rho': 'corr'\n",
    "    })\n",
    "\n",
    "df_variations.loc[:, 'origin'] = 'variations'"
   ]
  },
  {
   "cell_type": "code",
   "execution_count": 33,
   "metadata": {},
   "outputs": [],
   "source": [
    "master = pd.concat([\n",
    "    df_between_ages,\n",
    "    df_variations,\n",
    "    df_combos\n",
    "])"
   ]
  },
  {
   "cell_type": "code",
   "execution_count": 34,
   "metadata": {},
   "outputs": [],
   "source": [
    "master['short_label'] = master['origin'] + '_' + master['older'].astype(int).astype(str)\n",
    "master['corr'] = master['corr'].astype(float)"
   ]
  },
  {
   "cell_type": "code",
   "execution_count": 35,
   "metadata": {},
   "outputs": [
    {
     "data": {
      "image/png": "[encoded data removed]",
      "text/plain": [
       "<Figure size 432x288 with 1 Axes>"
      ]
     },
     "metadata": {
      "needs_background": "light"
     },
     "output_type": "display_data"
    }
   ],
   "source": [
    "sns.boxplot(\n",
    "    x='short_label', \n",
    "    y='corr', \n",
    "    data=master, \n",
    "    notch=True, \n",
    "    order=['data_9', 'data_12', 'data_18', 'data_24', 'variations_4','median_4'],\n",
    "    color='lightgrey')\n",
    "\n",
    "if save_images:\n",
    "    export.export_image('{}/box_legacy.pdf'.format(outfolder))\n",
    "\n"
   ]
  },
  {
   "cell_type": "code",
   "execution_count": 36,
   "metadata": {},
   "outputs": [
    {
     "data": {
      "text/html": [
       "<div>\n",
       "<style scoped>\n",
       "    .dataframe tbody tr th:only-of-type {\n",
       "        vertical-align: middle;\n",
       "    }\n",
       "\n",
       "    .dataframe tbody tr th {\n",
       "        vertical-align: top;\n",
       "    }\n",
       "\n",
       "    .dataframe thead th {\n",
       "        text-align: right;\n",
       "    }\n",
       "</style>\n",
       "<table border=\"1\" class=\"dataframe\">\n",
       "  <thead>\n",
       "    <tr style=\"text-align: right;\">\n",
       "      <th></th>\n",
       "      <th>tissue</th>\n",
       "      <th>older</th>\n",
       "      <th>corr</th>\n",
       "      <th>origin</th>\n",
       "      <th>short_label</th>\n",
       "    </tr>\n",
       "  </thead>\n",
       "  <tbody>\n",
       "    <tr>\n",
       "      <th>0</th>\n",
       "      <td>Adrenal</td>\n",
       "      <td>9.0</td>\n",
       "      <td>-3.628703e-03</td>\n",
       "      <td>data</td>\n",
       "      <td>data_9</td>\n",
       "    </tr>\n",
       "    <tr>\n",
       "      <th>1</th>\n",
       "      <td>Adrenal</td>\n",
       "      <td>12.0</td>\n",
       "      <td>-8.325523e-02</td>\n",
       "      <td>data</td>\n",
       "      <td>data_12</td>\n",
       "    </tr>\n",
       "    <tr>\n",
       "      <th>2</th>\n",
       "      <td>Adrenal</td>\n",
       "      <td>18.0</td>\n",
       "      <td>6.005663e-02</td>\n",
       "      <td>data</td>\n",
       "      <td>data_18</td>\n",
       "    </tr>\n",
       "    <tr>\n",
       "      <th>3</th>\n",
       "      <td>Adrenal</td>\n",
       "      <td>24.0</td>\n",
       "      <td>-1.620019e-01</td>\n",
       "      <td>data</td>\n",
       "      <td>data_24</td>\n",
       "    </tr>\n",
       "    <tr>\n",
       "      <th>4</th>\n",
       "      <td>BAT</td>\n",
       "      <td>9.0</td>\n",
       "      <td>-1.538250e-02</td>\n",
       "      <td>data</td>\n",
       "      <td>data_9</td>\n",
       "    </tr>\n",
       "    <tr>\n",
       "      <th>...</th>\n",
       "      <td>...</td>\n",
       "      <td>...</td>\n",
       "      <td>...</td>\n",
       "      <td>...</td>\n",
       "      <td>...</td>\n",
       "    </tr>\n",
       "    <tr>\n",
       "      <th>79</th>\n",
       "      <td>WAT</td>\n",
       "      <td>4.0</td>\n",
       "      <td>2.118254e-03</td>\n",
       "      <td>median</td>\n",
       "      <td>median_4</td>\n",
       "    </tr>\n",
       "    <tr>\n",
       "      <th>80</th>\n",
       "      <td>WAT</td>\n",
       "      <td>9.0</td>\n",
       "      <td>2.040713e-02</td>\n",
       "      <td>median</td>\n",
       "      <td>median_9</td>\n",
       "    </tr>\n",
       "    <tr>\n",
       "      <th>81</th>\n",
       "      <td>WAT</td>\n",
       "      <td>12.0</td>\n",
       "      <td>-5.006383e-07</td>\n",
       "      <td>median</td>\n",
       "      <td>median_12</td>\n",
       "    </tr>\n",
       "    <tr>\n",
       "      <th>82</th>\n",
       "      <td>WAT</td>\n",
       "      <td>18.0</td>\n",
       "      <td>-1.249419e-06</td>\n",
       "      <td>median</td>\n",
       "      <td>median_18</td>\n",
       "    </tr>\n",
       "    <tr>\n",
       "      <th>83</th>\n",
       "      <td>WAT</td>\n",
       "      <td>24.0</td>\n",
       "      <td>8.359406e-04</td>\n",
       "      <td>median</td>\n",
       "      <td>median_24</td>\n",
       "    </tr>\n",
       "  </tbody>\n",
       "</table>\n",
       "<p>1694 rows × 5 columns</p>\n",
       "</div>"
      ],
      "text/plain": [
       "     tissue  older          corr  origin short_label\n",
       "0   Adrenal    9.0 -3.628703e-03    data      data_9\n",
       "1   Adrenal   12.0 -8.325523e-02    data     data_12\n",
       "2   Adrenal   18.0  6.005663e-02    data     data_18\n",
       "3   Adrenal   24.0 -1.620019e-01    data     data_24\n",
       "4       BAT    9.0 -1.538250e-02    data      data_9\n",
       "..      ...    ...           ...     ...         ...\n",
       "79      WAT    4.0  2.118254e-03  median    median_4\n",
       "80      WAT    9.0  2.040713e-02  median    median_9\n",
       "81      WAT   12.0 -5.006383e-07  median   median_12\n",
       "82      WAT   18.0 -1.249419e-06  median   median_18\n",
       "83      WAT   24.0  8.359406e-04  median   median_24\n",
       "\n",
       "[1694 rows x 5 columns]"
      ]
     },
     "execution_count": 36,
     "metadata": {},
     "output_type": "execute_result"
    }
   ],
   "source": [
    "master"
   ]
  },
  {
   "cell_type": "code",
   "execution_count": 37,
   "metadata": {},
   "outputs": [
    {
     "data": {
      "text/plain": [
       "variations_4     330\n",
       "variations_24    320\n",
       "variations_12    302\n",
       "variations_9     300\n",
       "variations_18    290\n",
       "data_18           17\n",
       "data_24           17\n",
       "median_4          17\n",
       "data_9            17\n",
       "median_12         17\n",
       "median_24         17\n",
       "median_9          17\n",
       "data_12           17\n",
       "median_18         16\n",
       "Name: short_label, dtype: int64"
      ]
     },
     "execution_count": 37,
     "metadata": {},
     "output_type": "execute_result"
    }
   ],
   "source": [
    "master[master['corr'].notnull()]['short_label'].value_counts()"
   ]
  },
  {
   "cell_type": "code",
   "execution_count": null,
   "metadata": {},
   "outputs": [],
   "source": []
  },
  {
   "cell_type": "code",
   "execution_count": null,
   "metadata": {},
   "outputs": [],
   "source": []
  },
  {
   "cell_type": "code",
   "execution_count": null,
   "metadata": {},
   "outputs": [],
   "source": []
  },
  {
   "cell_type": "code",
   "execution_count": 38,
   "metadata": {},
   "outputs": [
    {
     "data": {
      "image/png": "[encoded data removed]",
      "text/plain": [
       "<Figure size 432x288 with 1 Axes>"
      ]
     },
     "metadata": {
      "needs_background": "light"
     },
     "output_type": "display_data"
    }
   ],
   "source": [
    "sns.boxplot(\n",
    "    x='older', \n",
    "    y='corr', \n",
    "    data=master[master['origin'].isin(['variations', 'data'])], \n",
    "    notch=True, \n",
    "    hue='origin',\n",
    "    order=[4, 9, 12, 18, 24],\n",
    "    color='lightgrey',\n",
    "    hue_order=['variations', 'data']\n",
    ")\n",
    "plt.legend(loc='center left', bbox_to_anchor=(1, 0.5))\n",
    "\n",
    "\n",
    "if save_images:\n",
    "    export.export_image('{}/hue_box.pdf'.format(outfolder))\n",
    "\n"
   ]
  },
  {
   "cell_type": "code",
   "execution_count": 39,
   "metadata": {},
   "outputs": [
    {
     "data": {
      "image/png": "[encoded data removed]",
      "text/plain": [
       "<Figure size 432x288 with 1 Axes>"
      ]
     },
     "metadata": {
      "needs_background": "light"
     },
     "output_type": "display_data"
    }
   ],
   "source": [
    "sns.boxenplot(\n",
    "    x='older', \n",
    "    y='corr', \n",
    "    data=master[master['origin'].isin(['variations', 'data'])], \n",
    "    hue='origin',\n",
    "    order=[4, 9, 12, 18, 24],\n",
    "    hue_order=['variations', 'data']\n",
    ")\n",
    "plt.legend(loc='center left', bbox_to_anchor=(1, 0.5))\n",
    "\n",
    "if save_images:\n",
    "    export.export_image('{}/hue_boxen.pdf'.format(outfolder))\n",
    "\n"
   ]
  },
  {
   "cell_type": "code",
   "execution_count": 40,
   "metadata": {},
   "outputs": [],
   "source": [
    "toy = pd.DataFrame(data={'pos': np.arange(1, 101)})"
   ]
  },
  {
   "cell_type": "code",
   "execution_count": 41,
   "metadata": {},
   "outputs": [
    {
     "name": "stderr",
     "output_type": "stream",
     "text": [
      "'c' argument looks like a single numeric RGB or RGBA sequence, which should be avoided as value-mapping will have precedence in case its length matches with 'x' & 'y'.  Please use a 2-D array with a single row if you really want to specify the same RGB or RGBA value for all points.\n"
     ]
    },
    {
     "data": {
      "image/png": "[encoded data removed]",
      "text/plain": [
       "<Figure size 432x288 with 1 Axes>"
      ]
     },
     "metadata": {
      "needs_background": "light"
     },
     "output_type": "display_data"
    }
   ],
   "source": [
    "sns.boxenplot(toy['pos'])\n",
    "\n",
    "if save_images:\n",
    "    export.export_image('{}/plain_boxen.pdf'.format(outfolder))\n",
    "\n"
   ]
  },
  {
   "cell_type": "code",
   "execution_count": null,
   "metadata": {},
   "outputs": [],
   "source": []
  },
  {
   "cell_type": "code",
   "execution_count": 42,
   "metadata": {},
   "outputs": [
    {
     "name": "stdout",
     "output_type": "stream",
     "text": [
      "9 MannwhitneyuResult(statistic=3250.0, pvalue=0.2704509256605967)\n",
      "12 MannwhitneyuResult(statistic=3168.0, pvalue=0.3687983209411986)\n",
      "18 MannwhitneyuResult(statistic=2935.0, pvalue=0.7481631645687467)\n",
      "24 MannwhitneyuResult(statistic=4171.0, pvalue=0.0007107200703220447)\n"
     ]
    }
   ],
   "source": [
    "for j in [9, 12, 18, 24]:\n",
    "    print(\n",
    "        \n",
    "        j,\n",
    "        mannwhitneyu(\n",
    "            master[(master['origin']=='variations') & (master['older']==4)]['corr'],\n",
    "            master[(master['origin']=='data') & (master['older']==j)]['corr'],\n",
    "            alternative='two-sided'\n",
    "        ))"
   ]
  },
  {
   "cell_type": "code",
   "execution_count": 43,
   "metadata": {},
   "outputs": [
    {
     "name": "stdout",
     "output_type": "stream",
     "text": [
      "9 MannwhitneyuResult(statistic=3002.0, pvalue=0.21939245054194623)\n",
      "12 MannwhitneyuResult(statistic=2872.0, pvalue=0.41053475814391815)\n",
      "18 MannwhitneyuResult(statistic=2606.0, pvalue=0.6928623304903523)\n",
      "24 MannwhitneyuResult(statistic=4058.0, pvalue=0.0006334889237962325)\n"
     ]
    }
   ],
   "source": [
    "for j in [9, 12, 18, 24]:\n",
    "    print(\n",
    "        \n",
    "        j,\n",
    "        mannwhitneyu(\n",
    "            master[(master['origin']=='variations') & (master['older']==j)]['corr'],\n",
    "            master[(master['origin']=='data') & (master['older']==j)]['corr'],\n",
    "            alternative='two-sided'\n",
    "        ))"
   ]
  },
  {
   "cell_type": "code",
   "execution_count": 44,
   "metadata": {},
   "outputs": [
    {
     "data": {
      "text/plain": [
       "MannwhitneyuResult(statistic=207.0, pvalue=0.03272027315980588)"
      ]
     },
     "execution_count": 44,
     "metadata": {},
     "output_type": "execute_result"
    }
   ],
   "source": [
    "mannwhitneyu(\n",
    "    master[(master['origin']=='data') & (master['older']==9)]['corr'],\n",
    "    master[(master['origin']=='data') & (master['older']==24)]['corr'],\n",
    "    alternative='two-sided'\n",
    ")"
   ]
  },
  {
   "cell_type": "code",
   "execution_count": 45,
   "metadata": {},
   "outputs": [
    {
     "data": {
      "text/plain": [
       "MannwhitneyuResult(statistic=143.0, pvalue=0.9725234705442696)"
      ]
     },
     "execution_count": 45,
     "metadata": {},
     "output_type": "execute_result"
    }
   ],
   "source": [
    "mannwhitneyu(\n",
    "    master[(master['origin']=='data') & (master['older']==9)]['corr'],\n",
    "    master[(master['origin']=='data') & (master['older']==12)]['corr'],\n",
    "    alternative='two-sided'\n",
    ")"
   ]
  },
  {
   "cell_type": "code",
   "execution_count": 46,
   "metadata": {},
   "outputs": [
    {
     "data": {
      "text/plain": [
       "Adrenal       20\n",
       "GutEP         20\n",
       "MuscSat       20\n",
       "Kidney        20\n",
       "Esophagus     20\n",
       "LI            20\n",
       "Blood         20\n",
       "BAT           20\n",
       "Skin          20\n",
       "Stomach       20\n",
       "Heart         20\n",
       "WAT           20\n",
       "Lung          20\n",
       "Brain         20\n",
       "Liver         20\n",
       "SI            10\n",
       "Cerebellum    10\n",
       "Name: tissue, dtype: int64"
      ]
     },
     "execution_count": 46,
     "metadata": {},
     "output_type": "execute_result"
    }
   ],
   "source": [
    "master[\n",
    "    (master['origin']=='variations') &\n",
    "    (master['older']==24)\n",
    "]['tissue'].value_counts()"
   ]
  },
  {
   "cell_type": "code",
   "execution_count": null,
   "metadata": {},
   "outputs": [],
   "source": []
  },
  {
   "cell_type": "code",
   "execution_count": null,
   "metadata": {},
   "outputs": [],
   "source": []
  }
 ],
 "metadata": {
  "kernelspec": {
   "display_name": "Python 3",
   "language": "python",
   "name": "python3"
  },
  "language_info": {
   "codemirror_mode": {
    "name": "ipython",
    "version": 3
   },
   "file_extension": ".py",
   "mimetype": "text/x-python",
   "name": "python",
   "nbconvert_exporter": "python",
   "pygments_lexer": "ipython3",
   "version": "3.7.3"
  }
 },
 "nbformat": 4,
 "nbformat_minor": 2
}
