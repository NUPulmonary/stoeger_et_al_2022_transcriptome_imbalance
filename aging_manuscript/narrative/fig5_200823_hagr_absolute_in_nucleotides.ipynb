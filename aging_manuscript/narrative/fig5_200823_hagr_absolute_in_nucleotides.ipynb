{
 "cells": [
  {
   "cell_type": "code",
   "execution_count": 1,
   "metadata": {},
   "outputs": [],
   "source": [
    "%matplotlib inline \n",
    "%reload_ext autoreload\n",
    "%autoreload 2"
   ]
  },
  {
   "cell_type": "code",
   "execution_count": 2,
   "metadata": {},
   "outputs": [],
   "source": [
    "import matplotlib as mpl\n",
    "mpl.rcParams['pdf.fonttype'] = 42\n",
    "mpl.rcParams['font.family'] = 'Arial'"
   ]
  },
  {
   "cell_type": "code",
   "execution_count": 3,
   "metadata": {},
   "outputs": [],
   "source": [
    "import os\n",
    "\n",
    "import numpy as np\n",
    "import pandas as pd\n",
    "import seaborn as sns\n",
    "\n",
    "import matplotlib.pyplot as plt\n",
    "\n",
    "from scipy.stats import spearmanr"
   ]
  },
  {
   "cell_type": "code",
   "execution_count": 4,
   "metadata": {},
   "outputs": [],
   "source": [
    "from access_biology_data import meta, relations, annotation, properties\n",
    "from access_literature_data import medline\n",
    "from access_science_shared import standardizer\n",
    "\n",
    "import sys\n",
    "sys.path.append('./../src/')\n",
    "from aging_tools import inout, export, calculators\n",
    "from access_aging_data import chaperome, earlier_studies, sequencing\n"
   ]
  },
  {
   "cell_type": "code",
   "execution_count": 5,
   "metadata": {},
   "outputs": [],
   "source": [
    "import matplotlib\n",
    "matplotlib.rcParams.update({'font.size': 10})"
   ]
  },
  {
   "cell_type": "code",
   "execution_count": 6,
   "metadata": {},
   "outputs": [],
   "source": [
    "save_images = True"
   ]
  },
  {
   "cell_type": "code",
   "execution_count": 7,
   "metadata": {},
   "outputs": [
    {
     "name": "stderr",
     "output_type": "stream",
     "text": [
      "/Users/tstoeger/anaconda3/lib/python3.7/site-packages/fastparquet/dataframe.py:5: FutureWarning: pandas.core.index is deprecated and will be removed in a future version.  The public classes are available in the top-level namespace.\n",
      "  from pandas.core.index import CategoricalIndex, RangeIndex, Index, MultiIndex\n"
     ]
    },
    {
     "name": "stdout",
     "output_type": "stream",
     "text": [
      "10090 0.0036670127617623306\n",
      "anti_longevity    335\n",
      "pro_longevity     219\n",
      "Name: influence, dtype: int64\n",
      "9606 0.007756594764200823\n",
      "anti_longevity    455\n",
      "pro_longevity     294\n",
      "Name: influence, dtype: int64\n"
     ]
    },
    {
     "data": {
      "image/png": "[encoded data removed]",
      "text/plain": [
       "<Figure size 432x288 with 1 Axes>"
      ]
     },
     "metadata": {
      "needs_background": "light"
     },
     "output_type": "display_data"
    },
    {
     "data": {
      "image/png": "[encoded data removed]",
      "text/plain": [
       "<Figure size 432x288 with 1 Axes>"
      ]
     },
     "metadata": {
      "needs_background": "light"
     },
     "output_type": "display_data"
    }
   ],
   "source": [
    "for taxon_id in [10090, 9606]:\n",
    "\n",
    "    ref_genes = standardizer.reference_genes(\n",
    "        taxon_id, \n",
    "        'orp')  # only consider supported protein coding-genes\n",
    "\n",
    "    pr = properties.genbank_validated_rna(taxon_id)[\n",
    "        ['gene_ncbi', 'Genbank_validated_RNA: full_SumACGT']].rename(columns={\n",
    "        'Genbank_validated_RNA: full_SumACGT': 'length'\n",
    "    })\n",
    "    pr.loc[:, 'log_length'] = np.log10(pr['length'])\n",
    "    pr = pr[pr['gene_ncbi'].isin(ref_genes)]\n",
    "    pr.loc[:, 'rank'] = pr['length'].rank(pct=True)\n",
    "\n",
    "    hagr = earlier_studies.hagr_mapped_summary(taxon_id)\n",
    "\n",
    "    pr['diff'] = (pr['rank'] - 0.5).abs()\n",
    "\n",
    "    m = pd.merge(\n",
    "        pr, \n",
    "        hagr[hagr['influence'].isin(\n",
    "        [\n",
    "            'anti_longevity',\n",
    "            'pro_longevity'\n",
    "        ]\n",
    "\n",
    "        )].drop_duplicates(),\n",
    "        how='inner'\n",
    "\n",
    "    )\n",
    "\n",
    "    plt.figure()\n",
    "    sns.boxenplot(\n",
    "        x='influence', \n",
    "        y='log_length', \n",
    "        data=m)\n",
    "\n",
    "\n",
    "    if save_images:\n",
    "        export.export_image(\n",
    "            '200823_hagr_absolute_in_nucleotides/{}.pdf'.format(int(taxon_id))\n",
    "        )\n",
    "\n",
    "    from scipy.stats import mannwhitneyu\n",
    "\n",
    "    print(taxon_id, mannwhitneyu(\n",
    "        m[m['influence']=='anti_longevity']['rank'],\n",
    "        m[m['influence']=='pro_longevity']['rank'],\n",
    "        alternative='two-sided'\n",
    "    )[1])\n",
    "\n",
    "    print(m['influence'].value_counts())"
   ]
  },
  {
   "cell_type": "code",
   "execution_count": null,
   "metadata": {},
   "outputs": [],
   "source": []
  },
  {
   "cell_type": "code",
   "execution_count": null,
   "metadata": {},
   "outputs": [],
   "source": []
  },
  {
   "cell_type": "code",
   "execution_count": null,
   "metadata": {},
   "outputs": [],
   "source": []
  },
  {
   "cell_type": "code",
   "execution_count": null,
   "metadata": {},
   "outputs": [],
   "source": []
  }
 ],
 "metadata": {
  "kernelspec": {
   "display_name": "Python 3",
   "language": "python",
   "name": "python3"
  },
  "language_info": {
   "codemirror_mode": {
    "name": "ipython",
    "version": 3
   },
   "file_extension": ".py",
   "mimetype": "text/x-python",
   "name": "python",
   "nbconvert_exporter": "python",
   "pygments_lexer": "ipython3",
   "version": "3.7.3"
  },
  "toc": {
   "base_numbering": 1,
   "nav_menu": {},
   "number_sections": true,
   "sideBar": true,
   "skip_h1_title": false,
   "title_cell": "Table of Contents",
   "title_sidebar": "Contents",
   "toc_cell": false,
   "toc_position": {},
   "toc_section_display": true,
   "toc_window_display": false
  }
 },
 "nbformat": 4,
 "nbformat_minor": 2
}
