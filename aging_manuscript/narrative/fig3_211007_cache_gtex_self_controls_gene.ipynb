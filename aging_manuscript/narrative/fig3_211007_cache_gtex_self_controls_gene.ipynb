{
 "cells": [
  {
   "cell_type": "code",
   "execution_count": 1,
   "metadata": {},
   "outputs": [],
   "source": [
    "import os\n",
    "import sys\n",
    "\n",
    "src_dir = './../src/'\n",
    "sys.path[0] = src_dir\n",
    "\n",
    "import matplotlib.pyplot as plt\n",
    "\n",
    "import glob\n",
    "\n",
    "import numpy as np\n",
    "import pandas as pd\n",
    "import seaborn as sns\n",
    "\n",
    "from access_biology_data import meta, relations, properties\n",
    "from access_literature_data import medline\n",
    "from access_science_shared import standardizer "
   ]
  },
  {
   "cell_type": "code",
   "execution_count": 2,
   "metadata": {},
   "outputs": [],
   "source": [
    "sys.path.append('./../src/')\n",
    "from aging_tools import inout, export"
   ]
  },
  {
   "cell_type": "code",
   "execution_count": 3,
   "metadata": {},
   "outputs": [],
   "source": [
    "from os import listdir\n",
    "from os.path import isfile, join\n",
    "\n",
    "from scipy.stats import spearmanr"
   ]
  },
  {
   "cell_type": "code",
   "execution_count": 4,
   "metadata": {},
   "outputs": [],
   "source": [
    "from access_science_shared import mapper"
   ]
  },
  {
   "cell_type": "code",
   "execution_count": 5,
   "metadata": {},
   "outputs": [],
   "source": [
    "save_images = True\n",
    "outfolder = '211007_cache_gtex_self_controls_gene'"
   ]
  },
  {
   "cell_type": "code",
   "execution_count": 6,
   "metadata": {},
   "outputs": [
    {
     "name": "stderr",
     "output_type": "stream",
     "text": [
      "/Users/tstoeger/opt/miniconda3/envs/aging/lib/python3.7/site-packages/fastparquet/dataframe.py:5: FutureWarning: pandas.core.index is deprecated and will be removed in a future version.  The public classes are available in the top-level namespace.\n",
      "  from pandas.core.index import CategoricalIndex, RangeIndex, Index, MultiIndex\n"
     ]
    }
   ],
   "source": [
    "ref_genes = standardizer.reference_genes(9606, 'orp')"
   ]
  },
  {
   "cell_type": "code",
   "execution_count": 7,
   "metadata": {},
   "outputs": [],
   "source": [
    "pr = properties.genbank_validated_rna(9606)[['gene_ncbi', 'Genbank_validated_RNA: full_SumACGT']].rename(columns={\n",
    "    'Genbank_validated_RNA: full_SumACGT': 'length'\n",
    "})\n",
    "\n",
    "pr.loc[:, 'log_length'] = np.log10(pr['length'])\n",
    "pr = pr[pr['gene_ncbi'].isin(ref_genes)]"
   ]
  },
  {
   "cell_type": "code",
   "execution_count": null,
   "metadata": {},
   "outputs": [],
   "source": []
  },
  {
   "cell_type": "code",
   "execution_count": 8,
   "metadata": {},
   "outputs": [],
   "source": [
    "input_folders = {\n",
    "    'male': inout.get_internal_path('dynamic/tstoeger/200609_gtex_m/DE/Flu'),\n",
    "    'female': inout.get_internal_path('dynamic/tstoeger/200609_gtex_f/DE/Flu'),\n",
    "}"
   ]
  },
  {
   "cell_type": "code",
   "execution_count": 9,
   "metadata": {},
   "outputs": [],
   "source": [
    "agg = []\n",
    "\n",
    "for gender, folder in input_folders.items():\n",
    "\n",
    "    onlyfiles = [f for f in listdir(folder) if isfile(join(folder, f))]\n",
    "    manager = pd.Series([x for x in onlyfiles if x.endswith('.csv')]).to_frame('filename')\n",
    "    manager['tissue'] = manager['filename'].str.extract('^(.*?)_')\n",
    "    manager['decade'] = manager['filename'].str.extract('pfu_0_age_([0-9])_first').astype(float)\n",
    "    manager['animals'] = manager['filename'].str.extract('_first_([0-9\\-]+)_DE')\n",
    "    \n",
    "    manager = manager.reset_index()\n",
    "    \n",
    "    for j in manager.index:\n",
    "        filename = manager.loc[j, 'filename']\n",
    "        tissue = manager.loc[j, 'tissue']\n",
    "        decade = manager.loc[j, 'decade']\n",
    "        animals = manager.loc[j, 'animals']\n",
    "        \n",
    "\n",
    "        file = os.path.join(folder, filename)\n",
    "\n",
    "        df = pd.read_csv(file, usecols=['Symbol', 'log2FoldChange', 'padj']).rename(\n",
    "            columns={'Symbol': 'gene_ensembl'}\n",
    "        )\n",
    "\n",
    "        df = mapper.gene_ensembl_2_gene_ncbi_unambiguously(df, 9606).reset_index()\n",
    "\n",
    "        df = df[\n",
    "            (df['padj'].notnull())\n",
    "        ]\n",
    "        df = pd.merge(df, pr)\n",
    "        rho, pval = spearmanr(df['log_length'], df['log2FoldChange'])\n",
    "\n",
    "        results = dict()\n",
    "        results['tilt'] = rho\n",
    "        results['pval'] = pval\n",
    "        results['filename'] = filename\n",
    "        results['tissue'] = tissue\n",
    "        results['decade'] = decade\n",
    "        results['animals'] = animals        \n",
    "        results['gender'] = gender\n",
    "        \n",
    "        agg.append(results)"
   ]
  },
  {
   "cell_type": "code",
   "execution_count": 10,
   "metadata": {},
   "outputs": [],
   "source": [
    "out = pd.DataFrame(agg)"
   ]
  },
  {
   "cell_type": "code",
   "execution_count": 11,
   "metadata": {},
   "outputs": [
    {
     "data": {
      "text/html": [
       "<div>\n",
       "<style scoped>\n",
       "    .dataframe tbody tr th:only-of-type {\n",
       "        vertical-align: middle;\n",
       "    }\n",
       "\n",
       "    .dataframe tbody tr th {\n",
       "        vertical-align: top;\n",
       "    }\n",
       "\n",
       "    .dataframe thead th {\n",
       "        text-align: right;\n",
       "    }\n",
       "</style>\n",
       "<table border=\"1\" class=\"dataframe\">\n",
       "  <thead>\n",
       "    <tr style=\"text-align: right;\">\n",
       "      <th></th>\n",
       "      <th>tilt</th>\n",
       "      <th>pval</th>\n",
       "      <th>filename</th>\n",
       "      <th>tissue</th>\n",
       "      <th>decade</th>\n",
       "      <th>animals</th>\n",
       "      <th>gender</th>\n",
       "    </tr>\n",
       "  </thead>\n",
       "  <tbody>\n",
       "    <tr>\n",
       "      <th>0</th>\n",
       "      <td>-0.065516</td>\n",
       "      <td>4.540165e-15</td>\n",
       "      <td>Cells - EBV-transformed lymphocytes_pfu_0_age_...</td>\n",
       "      <td>Cells - EBV-transformed lymphocytes</td>\n",
       "      <td>2.0</td>\n",
       "      <td>7325-7328-7333</td>\n",
       "      <td>male</td>\n",
       "    </tr>\n",
       "    <tr>\n",
       "      <th>1</th>\n",
       "      <td>-0.037973</td>\n",
       "      <td>3.226309e-06</td>\n",
       "      <td>Brain - Frontal Cortex (BA9)_pfu_0_age_5_first...</td>\n",
       "      <td>Brain - Frontal Cortex (BA9)</td>\n",
       "      <td>5.0</td>\n",
       "      <td>2982-3009-3016</td>\n",
       "      <td>male</td>\n",
       "    </tr>\n",
       "    <tr>\n",
       "      <th>2</th>\n",
       "      <td>-0.307859</td>\n",
       "      <td>0.000000e+00</td>\n",
       "      <td>Lung_pfu_0_age_2_first_7249-7251-7252_DE.csv</td>\n",
       "      <td>Lung</td>\n",
       "      <td>2.0</td>\n",
       "      <td>7249-7251-7252</td>\n",
       "      <td>male</td>\n",
       "    </tr>\n",
       "    <tr>\n",
       "      <th>3</th>\n",
       "      <td>0.007082</td>\n",
       "      <td>3.729493e-01</td>\n",
       "      <td>Liver_pfu_0_age_5_first_3480-3484-3491_DE.csv</td>\n",
       "      <td>Liver</td>\n",
       "      <td>5.0</td>\n",
       "      <td>3480-3484-3491</td>\n",
       "      <td>male</td>\n",
       "    </tr>\n",
       "    <tr>\n",
       "      <th>4</th>\n",
       "      <td>-0.203250</td>\n",
       "      <td>6.654900e-146</td>\n",
       "      <td>Prostate_pfu_0_age_6_first_1237-1295-1302_DE.csv</td>\n",
       "      <td>Prostate</td>\n",
       "      <td>6.0</td>\n",
       "      <td>1237-1295-1302</td>\n",
       "      <td>male</td>\n",
       "    </tr>\n",
       "  </tbody>\n",
       "</table>\n",
       "</div>"
      ],
      "text/plain": [
       "       tilt           pval                                           filename  \\\n",
       "0 -0.065516   4.540165e-15  Cells - EBV-transformed lymphocytes_pfu_0_age_...   \n",
       "1 -0.037973   3.226309e-06  Brain - Frontal Cortex (BA9)_pfu_0_age_5_first...   \n",
       "2 -0.307859   0.000000e+00       Lung_pfu_0_age_2_first_7249-7251-7252_DE.csv   \n",
       "3  0.007082   3.729493e-01      Liver_pfu_0_age_5_first_3480-3484-3491_DE.csv   \n",
       "4 -0.203250  6.654900e-146   Prostate_pfu_0_age_6_first_1237-1295-1302_DE.csv   \n",
       "\n",
       "                                tissue  decade         animals gender  \n",
       "0  Cells - EBV-transformed lymphocytes     2.0  7325-7328-7333   male  \n",
       "1         Brain - Frontal Cortex (BA9)     5.0  2982-3009-3016   male  \n",
       "2                                 Lung     2.0  7249-7251-7252   male  \n",
       "3                                Liver     5.0  3480-3484-3491   male  \n",
       "4                             Prostate     6.0  1237-1295-1302   male  "
      ]
     },
     "execution_count": 11,
     "metadata": {},
     "output_type": "execute_result"
    }
   ],
   "source": [
    "out.head()"
   ]
  },
  {
   "cell_type": "code",
   "execution_count": 12,
   "metadata": {},
   "outputs": [],
   "source": [
    "if save_images:\n",
    "    export.export_full_frame(\n",
    "        '{}/stats_on_imbalance_self_controls.xlsx'.format(outfolder), \n",
    "        out, \n",
    "        insert_date_time=False,\n",
    "        save_index=False)\n",
    "    "
   ]
  },
  {
   "cell_type": "code",
   "execution_count": null,
   "metadata": {},
   "outputs": [],
   "source": []
  },
  {
   "cell_type": "code",
   "execution_count": null,
   "metadata": {},
   "outputs": [],
   "source": []
  },
  {
   "cell_type": "code",
   "execution_count": null,
   "metadata": {},
   "outputs": [],
   "source": []
  }
 ],
 "metadata": {
  "kernelspec": {
   "display_name": "Python 3",
   "language": "python",
   "name": "python3"
  },
  "language_info": {
   "codemirror_mode": {
    "name": "ipython",
    "version": 3
   },
   "file_extension": ".py",
   "mimetype": "text/x-python",
   "name": "python",
   "nbconvert_exporter": "python",
   "pygments_lexer": "ipython3",
   "version": "3.7.3"
  },
  "toc": {
   "base_numbering": 1,
   "nav_menu": {},
   "number_sections": true,
   "sideBar": true,
   "skip_h1_title": false,
   "title_cell": "Table of Contents",
   "title_sidebar": "Contents",
   "toc_cell": false,
   "toc_position": {},
   "toc_section_display": true,
   "toc_window_display": false
  }
 },
 "nbformat": 4,
 "nbformat_minor": 2
}
