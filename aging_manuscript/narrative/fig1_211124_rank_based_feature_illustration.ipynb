{
 "cells": [
  {
   "cell_type": "code",
   "execution_count": 1,
   "metadata": {},
   "outputs": [],
   "source": [
    "%matplotlib inline \n",
    "%reload_ext autoreload\n",
    "%autoreload 2"
   ]
  },
  {
   "cell_type": "code",
   "execution_count": 2,
   "metadata": {},
   "outputs": [],
   "source": [
    "import matplotlib as mpl\n",
    "mpl.rcParams['pdf.fonttype'] = 42\n",
    "mpl.rcParams['font.family'] = 'Arial'"
   ]
  },
  {
   "cell_type": "code",
   "execution_count": 3,
   "metadata": {},
   "outputs": [],
   "source": [
    "import os\n",
    "\n",
    "import numpy as np\n",
    "import pandas as pd\n",
    "import seaborn as sns\n",
    "\n",
    "import matplotlib.pyplot as plt\n",
    "\n",
    "from scipy.stats import spearmanr"
   ]
  },
  {
   "cell_type": "code",
   "execution_count": 4,
   "metadata": {},
   "outputs": [],
   "source": [
    "from access_biology_data import meta, relations, annotation, properties\n",
    "from access_literature_data import medline\n",
    "from access_science_shared import standardizer\n",
    "\n",
    "import sys\n",
    "sys.path.append('./../src/')\n",
    "from aging_tools import inout, export, calculators\n",
    "from access_aging_data import chaperome, earlier_studies, sequencing\n"
   ]
  },
  {
   "cell_type": "code",
   "execution_count": 5,
   "metadata": {},
   "outputs": [],
   "source": [
    "import random"
   ]
  },
  {
   "cell_type": "code",
   "execution_count": 6,
   "metadata": {},
   "outputs": [],
   "source": [
    "import matplotlib\n",
    "matplotlib.rcParams.update({'font.size': 10})"
   ]
  },
  {
   "cell_type": "code",
   "execution_count": 7,
   "metadata": {},
   "outputs": [],
   "source": [
    "out_folder = '211124_rank_based_feature_illustration'\n",
    "in_folder = '190406_predict_fold_change_mouse'"
   ]
  },
  {
   "cell_type": "code",
   "execution_count": 8,
   "metadata": {},
   "outputs": [],
   "source": [
    "save_images = False\n",
    "# save_late_images = True"
   ]
  },
  {
   "cell_type": "code",
   "execution_count": 9,
   "metadata": {},
   "outputs": [],
   "source": [
    "from narrative import nar181026_heat_confidence_genes"
   ]
  },
  {
   "cell_type": "code",
   "execution_count": 10,
   "metadata": {},
   "outputs": [
    {
     "name": "stderr",
     "output_type": "stream",
     "text": [
      "/Users/tstoeger/opt/miniconda3/envs/aging/lib/python3.7/site-packages/fastparquet/dataframe.py:5: FutureWarning: pandas.core.index is deprecated and will be removed in a future version.  The public classes are available in the top-level namespace.\n",
      "  from pandas.core.index import CategoricalIndex, RangeIndex, Index, MultiIndex\n"
     ]
    }
   ],
   "source": [
    "ref_genes = standardizer.reference_genes(10090, 'orp')  # only consider supported protein coding-genes"
   ]
  },
  {
   "cell_type": "code",
   "execution_count": 11,
   "metadata": {},
   "outputs": [],
   "source": [
    "all_de, detection, mice_in_comparisons, triplicate_series = nar181026_heat_confidence_genes.load_detection(\n",
    "    detection_column='padj')\n",
    "\n",
    "tissues_to_consider = ['BAT', 'Blood', 'GutEP', 'MuscSat', 'Adrenal', 'Kidney',\n",
    "       'Heart', 'Liver', 'Skin', 'Stomach', 'Brain', 'SI',\n",
    "       'LI', 'Cerebellum', 'WAT', 'Esophagus', 'Lung'] \n",
    "pfus=[0]"
   ]
  },
  {
   "cell_type": "code",
   "execution_count": 12,
   "metadata": {},
   "outputs": [],
   "source": [
    "all_de = all_de[\n",
    "    (all_de['younger'] == 4) & \n",
    "    (all_de['is_detected'] == True) &\n",
    "    (all_de['de_unit'] == 'both') &\n",
    "    (all_de['tissue'].isin(tissues_to_consider)) &\n",
    "    (all_de['pfu'].isin(pfus)) & \n",
    "    (all_de['gene_ncbi'].isin(ref_genes))\n",
    "]\n",
    "all_de['significant'] = all_de['padj'] < 0.05"
   ]
  },
  {
   "cell_type": "code",
   "execution_count": 13,
   "metadata": {},
   "outputs": [],
   "source": [
    "sign = all_de[['condition', 'significant']].groupby('condition').agg(sum)"
   ]
  },
  {
   "cell_type": "code",
   "execution_count": null,
   "metadata": {},
   "outputs": [],
   "source": []
  },
  {
   "cell_type": "code",
   "execution_count": null,
   "metadata": {},
   "outputs": [],
   "source": []
  },
  {
   "cell_type": "code",
   "execution_count": 14,
   "metadata": {},
   "outputs": [],
   "source": [
    "agg = []\n",
    "\n",
    "for condition in all_de['condition'].unique():\n",
    "\n",
    "    p = export.get_material_path(\n",
    "        '{}/predictions_{}.csv'.format(in_folder, condition))\n",
    "    if os.path.exists(p):\n",
    "        agg.append(pd.read_csv(p))\n",
    "\n",
    "\n",
    "df = pd.concat(agg).rename(columns={'Unnamed: 0': 'condition'}).set_index('condition')\n",
    "df['mean'] = df.mean(1)\n",
    "d = pd.merge(sign.reset_index(), df[['mean']].reset_index())\n",
    "f = d['significant'] > 0\n",
    "d.loc[f, 'log_significant'] = d.loc[f, 'significant'].apply(lambda x: np.log10(x))"
   ]
  },
  {
   "cell_type": "code",
   "execution_count": 15,
   "metadata": {},
   "outputs": [],
   "source": [
    "zeros = sum(~f)"
   ]
  },
  {
   "cell_type": "code",
   "execution_count": 39,
   "metadata": {},
   "outputs": [
    {
     "data": {
      "text/plain": [
       "68"
      ]
     },
     "execution_count": 39,
     "metadata": {},
     "output_type": "execute_result"
    }
   ],
   "source": [
    "f.sum()"
   ]
  },
  {
   "cell_type": "code",
   "execution_count": 42,
   "metadata": {},
   "outputs": [
    {
     "data": {
      "text/plain": [
       "0"
      ]
     },
     "execution_count": 42,
     "metadata": {},
     "output_type": "execute_result"
    }
   ],
   "source": [
    "np.sum(~f)"
   ]
  },
  {
   "cell_type": "code",
   "execution_count": null,
   "metadata": {},
   "outputs": [],
   "source": []
  },
  {
   "cell_type": "code",
   "execution_count": null,
   "metadata": {},
   "outputs": [],
   "source": []
  },
  {
   "cell_type": "code",
   "execution_count": null,
   "metadata": {},
   "outputs": [],
   "source": []
  },
  {
   "cell_type": "code",
   "execution_count": 16,
   "metadata": {},
   "outputs": [],
   "source": [
    "h = []\n",
    "for j in range(zeros):\n",
    "    h.append(-1 + random.randrange(0, 10)/20)\n",
    "d.loc[~f, 'log_significant'] = h"
   ]
  },
  {
   "cell_type": "code",
   "execution_count": 17,
   "metadata": {},
   "outputs": [],
   "source": [
    "f = d['condition'].str.contains('_0_4_[0-9]*$')\n",
    "d = d[f]"
   ]
  },
  {
   "cell_type": "code",
   "execution_count": 18,
   "metadata": {},
   "outputs": [],
   "source": [
    "d = pd.merge(d, all_de[['condition', 'younger', 'older']].drop_duplicates())"
   ]
  },
  {
   "cell_type": "code",
   "execution_count": 19,
   "metadata": {},
   "outputs": [],
   "source": [
    "agg = []\n",
    "\n",
    "for condition in all_de['condition'].unique():\n",
    "\n",
    "    p = export.get_material_path(\n",
    "        '{}/features_{}.csv'.format(in_folder, condition))\n",
    "\n",
    "    if os.path.exists(p):\n",
    "        h = pd.read_csv(p).set_index('feature')\n",
    "        h = h.mean(1).to_frame('contribution').rename_axis('feature').reset_index()\n",
    "        h.loc[:, 'condition'] = condition\n",
    "        agg.append(h)\n",
    "\n",
    "\n",
    "\n",
    "u = pd.concat(agg)"
   ]
  },
  {
   "cell_type": "code",
   "execution_count": 20,
   "metadata": {},
   "outputs": [],
   "source": [
    "pi = u.pivot(index='condition', columns='feature', values='contribution')"
   ]
  },
  {
   "cell_type": "code",
   "execution_count": 21,
   "metadata": {},
   "outputs": [
    {
     "data": {
      "text/plain": [
       "feature\n",
       "tf_Rela              6\n",
       "tf_Esr1              6\n",
       "tf_Pou5f1            8\n",
       "tf_Nr1d1             8\n",
       "tf_Pparg             8\n",
       "tf_Ppara            10\n",
       "gene_CG             14\n",
       "tf_Med1             15\n",
       "miRNA_total         17\n",
       "tf_Kmt2b            18\n",
       "tf_Brd4             20\n",
       "gene_C              28\n",
       "rna_cds_SumACGT     46\n",
       "gene_G              46\n",
       "gene_A              47\n",
       "gene_T              49\n",
       "rna_full_CG         52\n",
       "gene_SumACGT        60\n",
       "rna_full_SumACGT    61\n",
       "tf_different_tfs    68\n",
       "dtype: int64"
      ]
     },
     "execution_count": 21,
     "metadata": {},
     "output_type": "execute_result"
    }
   ],
   "source": [
    "(pi.rank(axis='columns', ascending=False)<=10).sum().sort_values().tail(20)"
   ]
  },
  {
   "cell_type": "code",
   "execution_count": 22,
   "metadata": {},
   "outputs": [],
   "source": [
    "ranks = pi.rank(axis='columns', ascending=False)"
   ]
  },
  {
   "cell_type": "code",
   "execution_count": 23,
   "metadata": {},
   "outputs": [
    {
     "data": {
      "text/plain": [
       "17"
      ]
     },
     "execution_count": 23,
     "metadata": {},
     "output_type": "execute_result"
    }
   ],
   "source": [
    "(ranks['tf_different_tfs']==1).sum()"
   ]
  },
  {
   "cell_type": "code",
   "execution_count": 24,
   "metadata": {},
   "outputs": [
    {
     "data": {
      "text/plain": [
       "feature\n",
       "tf_Brd4                 1.0\n",
       "rna_cds_SumACGT         2.0\n",
       "rna_full_SumACGT        3.0\n",
       "tf_Rela                 4.0\n",
       "rna_full_CG             5.0\n",
       "                      ...  \n",
       "miRNA_miR-488-3p     1508.0\n",
       "miRNA_miR-487b-3p    1508.0\n",
       "miRNA_miR-486b-5p    1508.0\n",
       "miRNA_miR-5103       1508.0\n",
       "miRNA_miR-6516-3p    1508.0\n",
       "Name: Heart_0_4_18, Length: 2236, dtype: float64"
      ]
     },
     "execution_count": 24,
     "metadata": {},
     "output_type": "execute_result"
    }
   ],
   "source": [
    "ranks.loc['Heart_0_4_18', :].sort_values()"
   ]
  },
  {
   "cell_type": "code",
   "execution_count": 25,
   "metadata": {},
   "outputs": [
    {
     "data": {
      "text/plain": [
       "feature\n",
       "tf_Kmt2b       22.00\n",
       "tf_Brd4        25.00\n",
       "tf_Pparg       28.00\n",
       "tf_Esr1        35.00\n",
       "tf_Nr3c1       35.50\n",
       "              ...   \n",
       "tf_Elk3      1446.25\n",
       "tf_Eomes     1446.25\n",
       "tf_Hnf4g     1446.25\n",
       "tf_Znf431    1446.25\n",
       "tf_Hsf2      1446.25\n",
       "Length: 309, dtype: float64"
      ]
     },
     "execution_count": 25,
     "metadata": {},
     "output_type": "execute_result"
    }
   ],
   "source": [
    "ranks.loc[:, [x for x in ranks.columns if x.startswith('tf')]].drop(columns=['tf_different_tfs']).median(0).sort_values()"
   ]
  },
  {
   "cell_type": "code",
   "execution_count": 26,
   "metadata": {},
   "outputs": [],
   "source": [
    "u = ranks.loc[:, [x for x in ranks.columns if x.startswith('tf')]].drop(columns=['tf_different_tfs'])"
   ]
  },
  {
   "cell_type": "code",
   "execution_count": 27,
   "metadata": {},
   "outputs": [
    {
     "data": {
      "text/plain": [
       "feature\n",
       "tf_Tbp        2\n",
       "tf_Elf5       3\n",
       "tf_Ar         3\n",
       "tf_Ets1       3\n",
       "tf_Runx2      3\n",
       "tf_Rora       3\n",
       "tf_Spi1       4\n",
       "tf_Mef2d      4\n",
       "tf_Foxa1      4\n",
       "tf_Nkx3-1     4\n",
       "tf_Nr1d2      5\n",
       "tf_Esr1       5\n",
       "tf_Rela       6\n",
       "tf_Nr1d1      6\n",
       "tf_Pou5f1     7\n",
       "tf_Pparg      7\n",
       "tf_Ppara     10\n",
       "tf_Kmt2b     14\n",
       "tf_Med1      15\n",
       "tf_Brd4      19\n",
       "dtype: int64"
      ]
     },
     "execution_count": 27,
     "metadata": {},
     "output_type": "execute_result"
    }
   ],
   "source": [
    "(u<10).sum().sort_values().tail(20)"
   ]
  },
  {
   "cell_type": "code",
   "execution_count": null,
   "metadata": {},
   "outputs": [],
   "source": []
  },
  {
   "cell_type": "code",
   "execution_count": null,
   "metadata": {},
   "outputs": [],
   "source": []
  },
  {
   "cell_type": "code",
   "execution_count": null,
   "metadata": {},
   "outputs": [],
   "source": []
  },
  {
   "cell_type": "code",
   "execution_count": null,
   "metadata": {},
   "outputs": [],
   "source": []
  },
  {
   "cell_type": "code",
   "execution_count": null,
   "metadata": {},
   "outputs": [],
   "source": []
  },
  {
   "cell_type": "code",
   "execution_count": 28,
   "metadata": {},
   "outputs": [],
   "source": [
    "# ranks.loc[:, [x for x in ranks.columns if x.startswith('tf')]].drop(columns=['tf_different_tfs']).min(1).to_frame('best_tf')"
   ]
  },
  {
   "cell_type": "code",
   "execution_count": 29,
   "metadata": {},
   "outputs": [],
   "source": [
    "# ranks.loc[:, [x for x in ranks.columns if x.startswith('miRNA')]].drop(columns=['miRNA_total']).min(1).to_frame('best_mirna')"
   ]
  },
  {
   "cell_type": "code",
   "execution_count": 30,
   "metadata": {},
   "outputs": [],
   "source": [
    "# ranks[['rna_full_SumACGT', 'rna_cds_SumACGT', 'gene_SumACGT']].min(1).to_frame('best_length')"
   ]
  },
  {
   "cell_type": "code",
   "execution_count": 31,
   "metadata": {},
   "outputs": [],
   "source": [
    "toy = pd.concat(\n",
    "    [\n",
    "        ranks.loc[:, [x for x in ranks.columns if x.startswith('tf')]].drop(columns=['tf_different_tfs']).min(1).to_frame('best_tf'),\n",
    "        ranks.loc[:, [x for x in ranks.columns if x.startswith('miRNA')]].drop(columns=['miRNA_total']).min(1).to_frame('best_mirna'),\n",
    "        ranks[['rna_full_SumACGT', 'rna_cds_SumACGT', 'gene_SumACGT']].min(1).to_frame('best_length'),\n",
    "        ranks[['rna_full_SumACGT', 'rna_cds_SumACGT', 'gene_SumACGT', 'tf_different_tfs', 'miRNA_total']]\n",
    "    ],\n",
    "    axis=1\n",
    "\n",
    "\n",
    ")"
   ]
  },
  {
   "cell_type": "code",
   "execution_count": 32,
   "metadata": {},
   "outputs": [
    {
     "data": {
      "text/plain": [
       "categ\n",
       "best_length          1.0\n",
       "rna_full_SumACGT     2.5\n",
       "tf_different_tfs     3.0\n",
       "best_tf              4.0\n",
       "gene_SumACGT         4.0\n",
       "rna_cds_SumACGT      5.0\n",
       "miRNA_total         15.0\n",
       "best_mirna          22.0\n",
       "Name: rank, dtype: float64"
      ]
     },
     "execution_count": 32,
     "metadata": {},
     "output_type": "execute_result"
    }
   ],
   "source": [
    "toy.stack().to_frame('rank').rename_axis(['condition', 'categ']).reset_index().groupby(\n",
    "    ['categ'])['rank'].median().sort_values()"
   ]
  },
  {
   "cell_type": "code",
   "execution_count": null,
   "metadata": {},
   "outputs": [],
   "source": []
  },
  {
   "cell_type": "code",
   "execution_count": 33,
   "metadata": {},
   "outputs": [
    {
     "data": {
      "image/png": "[encoded data removed]",
      "text/plain": [
       "<Figure size 432x288 with 1 Axes>"
      ]
     },
     "metadata": {
      "needs_background": "light"
     },
     "output_type": "display_data"
    }
   ],
   "source": [
    "sns.boxplot(\n",
    "    y='categ',\n",
    "    x='rank',\n",
    "    data=toy[toy.index.str.contains('_4_9')].stack().to_frame('rank').rename_axis(['condition', 'categ']).reset_index(),\n",
    "    notch=True,\n",
    "    order=toy[toy.index.str.contains('_4_9')].stack().to_frame('rank').rename_axis(['condition', 'categ']).reset_index().groupby(\n",
    "        ['categ'])['rank'].median().sort_values().index,\n",
    "    color='navajowhite'\n",
    "\n",
    "\n",
    ")\n",
    "\n",
    "plt.xlim(0, toy.max().max()+2)\n",
    "\n",
    "\n",
    "\n",
    "if save_images:\n",
    "    export.export_image(\n",
    "        '{}/9_months.pdf'.format(out_folder))"
   ]
  },
  {
   "cell_type": "code",
   "execution_count": 34,
   "metadata": {},
   "outputs": [
    {
     "data": {
      "image/png": "[encoded data removed]",
      "text/plain": [
       "<Figure size 432x288 with 1 Axes>"
      ]
     },
     "metadata": {
      "needs_background": "light"
     },
     "output_type": "display_data"
    }
   ],
   "source": [
    "sns.boxplot(\n",
    "    y='categ',\n",
    "    x='rank',\n",
    "    data=toy[toy.index.str.contains('_4_24')].stack().to_frame('rank').rename_axis(['condition', 'categ']).reset_index(),\n",
    "    notch=True,\n",
    "    order=toy[toy.index.str.contains('_4_24')].stack().to_frame('rank').rename_axis(['condition', 'categ']).reset_index().groupby(\n",
    "        ['categ'])['rank'].median().sort_values().index,\n",
    "    color='navajowhite'\n",
    ")\n",
    "\n",
    "\n",
    "\n",
    "plt.xlim(0, toy.max().max()+2)\n",
    "\n",
    "\n",
    "\n",
    "if save_images:\n",
    "    export.export_image(\n",
    "        '{}/24_months.pdf'.format(out_folder))"
   ]
  },
  {
   "cell_type": "code",
   "execution_count": 35,
   "metadata": {},
   "outputs": [
    {
     "data": {
      "text/plain": [
       "False"
      ]
     },
     "execution_count": 35,
     "metadata": {},
     "output_type": "execute_result"
    }
   ],
   "source": [
    "save_images"
   ]
  },
  {
   "cell_type": "code",
   "execution_count": null,
   "metadata": {},
   "outputs": [],
   "source": []
  },
  {
   "cell_type": "code",
   "execution_count": 36,
   "metadata": {},
   "outputs": [
    {
     "data": {
      "image/png": "[encoded data removed]",
      "text/plain": [
       "<Figure size 432x288 with 1 Axes>"
      ]
     },
     "metadata": {
      "needs_background": "light"
     },
     "output_type": "display_data"
    }
   ],
   "source": [
    "sns.boxplot(\n",
    "    y='categ',\n",
    "    x='rank',\n",
    "    data=toy.stack().to_frame('rank').rename_axis(['condition', 'categ']).reset_index(),\n",
    "    notch=True,\n",
    "    order=toy.stack().to_frame('rank').rename_axis(['condition', 'categ']).reset_index().groupby(\n",
    "        ['categ'])['rank'].median().sort_values().index,\n",
    "    color='navajowhite'\n",
    "\n",
    "\n",
    ")\n",
    "\n",
    "plt.xlim(0, toy.max().max()+2)\n",
    "\n",
    "\n",
    "if save_images:\n",
    "    export.export_image(\n",
    "        '{}/all.pdf'.format(out_folder))"
   ]
  },
  {
   "cell_type": "code",
   "execution_count": 37,
   "metadata": {},
   "outputs": [
    {
     "data": {
      "text/html": [
       "<div>\n",
       "<style scoped>\n",
       "    .dataframe tbody tr th:only-of-type {\n",
       "        vertical-align: middle;\n",
       "    }\n",
       "\n",
       "    .dataframe tbody tr th {\n",
       "        vertical-align: top;\n",
       "    }\n",
       "\n",
       "    .dataframe thead th {\n",
       "        text-align: right;\n",
       "    }\n",
       "</style>\n",
       "<table border=\"1\" class=\"dataframe\">\n",
       "  <thead>\n",
       "    <tr style=\"text-align: right;\">\n",
       "      <th></th>\n",
       "      <th>best_tf</th>\n",
       "      <th>best_mirna</th>\n",
       "      <th>best_length</th>\n",
       "      <th>rna_full_SumACGT</th>\n",
       "      <th>rna_cds_SumACGT</th>\n",
       "      <th>gene_SumACGT</th>\n",
       "      <th>tf_different_tfs</th>\n",
       "      <th>miRNA_total</th>\n",
       "    </tr>\n",
       "    <tr>\n",
       "      <th>condition</th>\n",
       "      <th></th>\n",
       "      <th></th>\n",
       "      <th></th>\n",
       "      <th></th>\n",
       "      <th></th>\n",
       "      <th></th>\n",
       "      <th></th>\n",
       "      <th></th>\n",
       "    </tr>\n",
       "  </thead>\n",
       "  <tbody>\n",
       "    <tr>\n",
       "      <th>Adrenal_0_4_12</th>\n",
       "      <td>2.0</td>\n",
       "      <td>43.0</td>\n",
       "      <td>12.0</td>\n",
       "      <td>12.0</td>\n",
       "      <td>21.0</td>\n",
       "      <td>19.0</td>\n",
       "      <td>1.0</td>\n",
       "      <td>36.0</td>\n",
       "    </tr>\n",
       "    <tr>\n",
       "      <th>Adrenal_0_4_18</th>\n",
       "      <td>2.0</td>\n",
       "      <td>36.0</td>\n",
       "      <td>4.0</td>\n",
       "      <td>11.0</td>\n",
       "      <td>21.0</td>\n",
       "      <td>4.0</td>\n",
       "      <td>1.0</td>\n",
       "      <td>20.0</td>\n",
       "    </tr>\n",
       "    <tr>\n",
       "      <th>Adrenal_0_4_24</th>\n",
       "      <td>1.0</td>\n",
       "      <td>37.0</td>\n",
       "      <td>5.0</td>\n",
       "      <td>5.0</td>\n",
       "      <td>9.0</td>\n",
       "      <td>14.0</td>\n",
       "      <td>4.0</td>\n",
       "      <td>47.0</td>\n",
       "    </tr>\n",
       "    <tr>\n",
       "      <th>Adrenal_0_4_9</th>\n",
       "      <td>2.0</td>\n",
       "      <td>36.0</td>\n",
       "      <td>3.0</td>\n",
       "      <td>9.0</td>\n",
       "      <td>17.0</td>\n",
       "      <td>3.0</td>\n",
       "      <td>1.0</td>\n",
       "      <td>22.0</td>\n",
       "    </tr>\n",
       "    <tr>\n",
       "      <th>BAT_0_4_12</th>\n",
       "      <td>2.0</td>\n",
       "      <td>40.0</td>\n",
       "      <td>5.0</td>\n",
       "      <td>21.0</td>\n",
       "      <td>34.0</td>\n",
       "      <td>5.0</td>\n",
       "      <td>1.0</td>\n",
       "      <td>38.0</td>\n",
       "    </tr>\n",
       "    <tr>\n",
       "      <th>...</th>\n",
       "      <td>...</td>\n",
       "      <td>...</td>\n",
       "      <td>...</td>\n",
       "      <td>...</td>\n",
       "      <td>...</td>\n",
       "      <td>...</td>\n",
       "      <td>...</td>\n",
       "      <td>...</td>\n",
       "    </tr>\n",
       "    <tr>\n",
       "      <th>Stomach_0_4_9</th>\n",
       "      <td>4.0</td>\n",
       "      <td>30.0</td>\n",
       "      <td>1.0</td>\n",
       "      <td>1.0</td>\n",
       "      <td>5.0</td>\n",
       "      <td>3.0</td>\n",
       "      <td>2.0</td>\n",
       "      <td>19.0</td>\n",
       "    </tr>\n",
       "    <tr>\n",
       "      <th>WAT_0_4_12</th>\n",
       "      <td>1.0</td>\n",
       "      <td>62.0</td>\n",
       "      <td>15.0</td>\n",
       "      <td>15.0</td>\n",
       "      <td>33.0</td>\n",
       "      <td>25.0</td>\n",
       "      <td>2.0</td>\n",
       "      <td>65.0</td>\n",
       "    </tr>\n",
       "    <tr>\n",
       "      <th>WAT_0_4_18</th>\n",
       "      <td>1.0</td>\n",
       "      <td>51.0</td>\n",
       "      <td>11.0</td>\n",
       "      <td>21.0</td>\n",
       "      <td>11.0</td>\n",
       "      <td>17.0</td>\n",
       "      <td>4.0</td>\n",
       "      <td>33.0</td>\n",
       "    </tr>\n",
       "    <tr>\n",
       "      <th>WAT_0_4_24</th>\n",
       "      <td>1.0</td>\n",
       "      <td>41.0</td>\n",
       "      <td>7.0</td>\n",
       "      <td>7.0</td>\n",
       "      <td>13.0</td>\n",
       "      <td>20.0</td>\n",
       "      <td>3.0</td>\n",
       "      <td>32.0</td>\n",
       "    </tr>\n",
       "    <tr>\n",
       "      <th>WAT_0_4_9</th>\n",
       "      <td>1.0</td>\n",
       "      <td>37.0</td>\n",
       "      <td>15.0</td>\n",
       "      <td>15.0</td>\n",
       "      <td>17.0</td>\n",
       "      <td>16.0</td>\n",
       "      <td>4.0</td>\n",
       "      <td>35.0</td>\n",
       "    </tr>\n",
       "  </tbody>\n",
       "</table>\n",
       "<p>68 rows × 8 columns</p>\n",
       "</div>"
      ],
      "text/plain": [
       "                best_tf  best_mirna  best_length  rna_full_SumACGT  \\\n",
       "condition                                                            \n",
       "Adrenal_0_4_12      2.0        43.0         12.0              12.0   \n",
       "Adrenal_0_4_18      2.0        36.0          4.0              11.0   \n",
       "Adrenal_0_4_24      1.0        37.0          5.0               5.0   \n",
       "Adrenal_0_4_9       2.0        36.0          3.0               9.0   \n",
       "BAT_0_4_12          2.0        40.0          5.0              21.0   \n",
       "...                 ...         ...          ...               ...   \n",
       "Stomach_0_4_9       4.0        30.0          1.0               1.0   \n",
       "WAT_0_4_12          1.0        62.0         15.0              15.0   \n",
       "WAT_0_4_18          1.0        51.0         11.0              21.0   \n",
       "WAT_0_4_24          1.0        41.0          7.0               7.0   \n",
       "WAT_0_4_9           1.0        37.0         15.0              15.0   \n",
       "\n",
       "                rna_cds_SumACGT  gene_SumACGT  tf_different_tfs  miRNA_total  \n",
       "condition                                                                     \n",
       "Adrenal_0_4_12             21.0          19.0               1.0         36.0  \n",
       "Adrenal_0_4_18             21.0           4.0               1.0         20.0  \n",
       "Adrenal_0_4_24              9.0          14.0               4.0         47.0  \n",
       "Adrenal_0_4_9              17.0           3.0               1.0         22.0  \n",
       "BAT_0_4_12                 34.0           5.0               1.0         38.0  \n",
       "...                         ...           ...               ...          ...  \n",
       "Stomach_0_4_9               5.0           3.0               2.0         19.0  \n",
       "WAT_0_4_12                 33.0          25.0               2.0         65.0  \n",
       "WAT_0_4_18                 11.0          17.0               4.0         33.0  \n",
       "WAT_0_4_24                 13.0          20.0               3.0         32.0  \n",
       "WAT_0_4_9                  17.0          16.0               4.0         35.0  \n",
       "\n",
       "[68 rows x 8 columns]"
      ]
     },
     "execution_count": 37,
     "metadata": {},
     "output_type": "execute_result"
    }
   ],
   "source": [
    "\n",
    "toy"
   ]
  },
  {
   "cell_type": "code",
   "execution_count": null,
   "metadata": {},
   "outputs": [],
   "source": []
  },
  {
   "cell_type": "code",
   "execution_count": null,
   "metadata": {},
   "outputs": [],
   "source": []
  },
  {
   "cell_type": "code",
   "execution_count": null,
   "metadata": {},
   "outputs": [],
   "source": []
  }
 ],
 "metadata": {
  "kernelspec": {
   "display_name": "Python 3",
   "language": "python",
   "name": "python3"
  },
  "language_info": {
   "codemirror_mode": {
    "name": "ipython",
    "version": 3
   },
   "file_extension": ".py",
   "mimetype": "text/x-python",
   "name": "python",
   "nbconvert_exporter": "python",
   "pygments_lexer": "ipython3",
   "version": "3.7.3"
  },
  "toc": {
   "base_numbering": 1,
   "nav_menu": {},
   "number_sections": true,
   "sideBar": true,
   "skip_h1_title": false,
   "title_cell": "Table of Contents",
   "title_sidebar": "Contents",
   "toc_cell": false,
   "toc_position": {},
   "toc_section_display": true,
   "toc_window_display": false
  }
 },
 "nbformat": 4,
 "nbformat_minor": 2
}
